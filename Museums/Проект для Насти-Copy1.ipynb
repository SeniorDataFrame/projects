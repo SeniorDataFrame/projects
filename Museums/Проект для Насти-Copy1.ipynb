{
 "cells": [
  {
   "cell_type": "code",
   "execution_count": 1,
   "id": "b67466bc",
   "metadata": {
    "ExecuteTime": {
     "end_time": "2023-11-06T18:25:10.973650700Z",
     "start_time": "2023-11-06T18:25:10.321487100Z"
    }
   },
   "outputs": [],
   "source": [
    "import requests\n",
    "from bs4 import BeautifulSoup\n",
    "from lxml import etree\n",
    "\n",
    "import requests\n",
    "from lxml import html\n"
   ]
  },
  {
   "cell_type": "markdown",
   "id": "7c1e04fa",
   "metadata": {},
   "source": [
    "## Функции"
   ]
  },
  {
   "cell_type": "code",
   "execution_count": 5,
   "id": "c9a972d5",
   "metadata": {},
   "outputs": [],
   "source": [
    "def get_div(xpath):\n",
    "    # Парсинг HTML\n",
    "    tree = html.fromstring(response.text)\n",
    "\n",
    "    # Выбор элемента\n",
    "    selected_element = tree.xpath(\"//div[@data-id='28']\")[0]\n",
    "\n",
    "    # # Создаем временный элемент и копируем содержимое выбранного элемента\n",
    "    temp_element = html.Element(\"div\")\n",
    "    temp_element.extend(selected_element)\n",
    "\n",
    "    # Получение HTML-разметки только для выбранного элемента\n",
    "    html_representation = html.tostring(temp_element, encoding='unicode', method='html')\n",
    "\n"
   ]
  },
  {
   "cell_type": "markdown",
   "id": "0e56a114",
   "metadata": {},
   "source": [
    "# Main"
   ]
  },
  {
   "cell_type": "code",
   "execution_count": 6,
   "id": "f5cd8895",
   "metadata": {},
   "outputs": [],
   "source": []
  },
  {
   "cell_type": "code",
   "execution_count": 12,
   "id": "878c1a30",
   "metadata": {},
   "outputs": [],
   "source": [
    "def get_div(response, xpath_format):\n",
    "    list_divs = []\n",
    "    \n",
    "    \n",
    "    tree = html.fromstring(response)\n",
    "\n",
    "\n",
    "    # Выбор элемента\n",
    "    selected_element = tree.xpath(xpath_format)\n",
    "\n",
    "\n",
    "    for div in selected_element:\n",
    "\n",
    "        # # Создаем временный элемент и копируем содержимое выбранного элемента\n",
    "        temp_element = html.Element(\"div\")\n",
    "        temp_element.extend(div)\n",
    "\n",
    "        # Получение HTML-разметки только для выбранного элемента\n",
    "        html_representation = html.tostring(temp_element, encoding='unicode', method='html')\n",
    "\n",
    "        list_divs.append(html_representation)\n",
    "    return list_divs\n"
   ]
  },
  {
   "cell_type": "code",
   "execution_count": 52,
   "id": "b43e7443",
   "metadata": {},
   "outputs": [
    {
     "name": "stdout",
     "output_type": "stream",
     "text": [
      "<div><a href=\"/playbill/exhibitions/zavetam-verny/\" class=\"img-box\">\n",
      "\t\t\t\t\t\t<div class=\"img-item-bg lazyload\" data-bgset=\"/upload/resize_cache/iblock/1ed/vd631ckv6l4s5k17704wjomiv8vgndz5/550_380_2/790x545_2.jpg\"></div>\n",
      "\t\t</a>\n",
      "\t\t<div class=\"text-box\">\n",
      "\t\t\t\t\t\t\t<div class=\"w100\">\n",
      "\t\t\t\t\t<a class=\"button mini\" href=\"/playbill/exhibitions/\">Выставки</a>\n",
      "\t\t\t\t</div>\n",
      "\t\t\t\n",
      "\t\t\t<a class=\"name\" href=\"/playbill/exhibitions/zavetam-verny/\">Zаветам Vерны</a>\n",
      "\t\t\t\t\t\t\t<div class=\"text\">Выставка посвящена современным Героям России – участникам СВО</div>\n",
      "\t\t\t\t\t\t\n",
      "\t\t\t\n",
      "\t\t</div>\n",
      "\t\t<div class=\"bottom_box\">\n",
      "\t\t\t\t\t<div class=\"date ico-ba\">09.12.2022 — 14.01.2024</div>\n",
      "\t\t\t\t\t\t\t\t\t\n",
      "\t\t\t\n",
      "\t\t\t\t\t\t<div class=\"ticker-ref\">\n",
      "\t\t\t\t\t\t\t</div>\n",
      "\t\t\t\n",
      "\t\t\t\t\t</div>\n",
      "\t</div>\n",
      "\n"
     ]
    }
   ],
   "source": [
    "tree = html.fromstring(response.text)\n",
    "\n",
    "# Выбор элемента\n",
    "selected_element = tree.xpath(\"//div[@data-id='28']\")[0]\n",
    "\n",
    "# # Создаем временный элемент и копируем содержимое выбранного элемента\n",
    "temp_element = html.Element(\"div\")\n",
    "temp_element.extend(selected_element)\n",
    "\n",
    "# Получение HTML-разметки только для выбранного элемента\n",
    "html_representation = html.tostring(temp_element, encoding='unicode', method='html')\n",
    "\n",
    "print(html_representation)\n",
    "\n"
   ]
  },
  {
   "cell_type": "code",
   "execution_count": 25,
   "id": "31f01068",
   "metadata": {},
   "outputs": [],
   "source": [
    "list_sites = ['https://victorymuseum.ru/playbill/']"
   ]
  },
  {
   "cell_type": "code",
   "execution_count": 8,
   "id": "91e0f572",
   "metadata": {},
   "outputs": [
    {
     "ename": "NameError",
     "evalue": "name 'selected_element' is not defined",
     "output_type": "error",
     "traceback": [
      "\u001b[1;31m---------------------------------------------------------------------------\u001b[0m",
      "\u001b[1;31mNameError\u001b[0m                                 Traceback (most recent call last)",
      "Input \u001b[1;32mIn [8]\u001b[0m, in \u001b[0;36m<cell line: 1>\u001b[1;34m()\u001b[0m\n\u001b[1;32m----> 1\u001b[0m \u001b[43mselected_element\u001b[49m\n",
      "\u001b[1;31mNameError\u001b[0m: name 'selected_element' is not defined"
     ]
    }
   ],
   "source": [
    "selected_element"
   ]
  },
  {
   "cell_type": "code",
   "execution_count": null,
   "id": "a3b47658",
   "metadata": {},
   "outputs": [],
   "source": []
  },
  {
   "cell_type": "code",
   "execution_count": null,
   "id": "a053fec0",
   "metadata": {},
   "outputs": [],
   "source": []
  },
  {
   "cell_type": "code",
   "execution_count": 14,
   "id": "8ebb6b90",
   "metadata": {},
   "outputs": [],
   "source": [
    "list_divs = get_div(response.text, \"//div[@data-id='28']\")"
   ]
  },
  {
   "cell_type": "code",
   "execution_count": 24,
   "id": "b55adf86",
   "metadata": {},
   "outputs": [
    {
     "data": {
      "text/plain": [
       "['<div><a href=\"/playbill/exhibitions/zavetam-verny/\" class=\"img-box\">\\n\\t\\t\\t\\t\\t\\t<div class=\"img-item-bg lazyload\" data-bgset=\"/upload/resize_cache/iblock/1ed/vd631ckv6l4s5k17704wjomiv8vgndz5/550_380_2/790x545_2.jpg\"></div>\\n\\t\\t</a>\\n\\t\\t<div class=\"text-box\">\\n\\t\\t\\t\\t\\t\\t\\t<div class=\"w100\">\\n\\t\\t\\t\\t\\t<a class=\"button mini\" href=\"/playbill/exhibitions/\">Выставки</a>\\n\\t\\t\\t\\t</div>\\n\\t\\t\\t\\n\\t\\t\\t<a class=\"name\" href=\"/playbill/exhibitions/zavetam-verny/\">Zаветам Vерны</a>\\n\\t\\t\\t\\t\\t\\t\\t<div class=\"text\">Выставка посвящена современным Героям России – участникам СВО</div>\\n\\t\\t\\t\\t\\t\\t\\n\\t\\t\\t\\n\\t\\t</div>\\n\\t\\t<div class=\"bottom_box\">\\n\\t\\t\\t\\t\\t<div class=\"date ico-ba\">09.12.2022 — 14.01.2024</div>\\n\\t\\t\\t\\t\\t\\t\\t\\t\\t\\n\\t\\t\\t\\n\\t\\t\\t\\t\\t\\t<div class=\"ticker-ref\">\\n\\t\\t\\t\\t\\t\\t\\t</div>\\n\\t\\t\\t\\n\\t\\t\\t\\t\\t</div>\\n\\t</div>\\n',\n",
       " '<div><a href=\"/playbill/events/novogodniy-kvest-yelka-pobedy24/\" class=\"img-box\">\\n\\t\\t\\t\\t\\t\\t<div class=\"img-item-bg lazyload\" data-bgset=\"/upload/iblock/095/235zjesmlkblcy01b8s0jr6lyh16e9if/550x380_2-_4_.jpg\"></div>\\n\\t\\t</a>\\n\\t\\t<div class=\"text-box\">\\n\\t\\t\\t\\t\\t\\t\\t<div class=\"w100\">\\n\\t\\t\\t\\t\\t<a class=\"button mini\" href=\"/playbill/events/\">События</a>\\n\\t\\t\\t\\t</div>\\n\\t\\t\\t\\n\\t\\t\\t<a class=\"name\" href=\"/playbill/events/novogodniy-kvest-yelka-pobedy24/\">Новогодний квест «Ёлка Победы»</a>\\n\\t\\t\\t\\t\\t\\t\\t<div class=\"text\">Интерактивный и\\xa0увлекательный квест соберет детей от\\xa06 до 12 лет\\xa0уже в\\xa0шестой раз!</div>\\n\\t\\t\\t\\t\\t\\t\\n\\t\\t\\t\\n\\t\\t</div>\\n\\t\\t<div class=\"bottom_box\">\\n\\t\\t\\t\\t\\t<div class=\"date ico-ba\">23.12.2023 — 07.01.2024</div>\\n\\t\\t\\t\\t\\t\\t\\t\\t\\t\\n\\t\\t\\t\\n\\t\\t\\t\\t\\t\\t<div class=\"ticker-ref\">\\n\\t\\t\\t\\t\\t\\t\\t</div>\\n\\t\\t\\t\\n\\t\\t\\t\\t\\t</div>\\n\\t</div>\\n',\n",
       " '<div><a href=\"/playbill/events/kontsertnaya-programma-ya-lechu-nad-rossiey-23/\" class=\"img-box\">\\n\\t\\t\\t\\t\\t\\t<div class=\"img-item-bg lazyload\" data-bgset=\"/upload/resize_cache/iblock/892/s3j8sf5k5odun7g0oheshdk8zd040g8f/550_380_2/image_07_11_23_06_04.jpeg\"></div>\\n\\t\\t</a>\\n\\t\\t<div class=\"text-box\">\\n\\t\\t\\t\\t\\t\\t\\t<div class=\"w100\">\\n\\t\\t\\t\\t\\t<a class=\"button mini\" href=\"/playbill/events/\">События</a>\\n\\t\\t\\t\\t</div>\\n\\t\\t\\t\\n\\t\\t\\t<a class=\"name\" href=\"/playbill/events/kontsertnaya-programma-ya-lechu-nad-rossiey-23/\">Концертная программа «Я лечу над Россией» </a>\\n\\t\\t\\t\\t\\t\\t\\t<div class=\"text\">Студии при Академическом ансамбле песни и пляски войск национальной гвардии Российской Федерации</div>\\n\\t\\t\\t\\t\\t\\t\\n\\t\\t\\t\\n\\t\\t</div>\\n\\t\\t<div class=\"bottom_box\">\\n\\t\\t\\t\\t\\t<div class=\"date ico-ba\">26.11.2023</div>\\n\\t\\t\\t\\t\\t\\t\\t\\t\\t\\n\\t\\t\\t\\n\\t\\t\\t\\t\\t\\t<div class=\"ticker-ref\">\\n\\t\\t\\t\\t\\t\\t\\t</div>\\n\\t\\t\\t\\n\\t\\t\\t\\t\\t</div>\\n\\t</div>\\n',\n",
       " '<div><a href=\"/playbill/events/zhuravli-pobedy181124/\" class=\"img-box\">\\n\\t\\t\\t\\t\\t\\t<div class=\"img-item-bg lazyload\" data-bgset=\"/upload/resize_cache/iblock/4d0/nagn2cbcygnwcor0ffis2xl9txubgrqi/550_380_2/ANDR4707.jpg\"></div>\\n\\t\\t</a>\\n\\t\\t<div class=\"text-box\">\\n\\t\\t\\t\\t\\t\\t\\t<div class=\"w100\">\\n\\t\\t\\t\\t\\t<a class=\"button mini\" href=\"/playbill/events/\">События</a>\\n\\t\\t\\t\\t</div>\\n\\t\\t\\t\\n\\t\\t\\t<a class=\"name\" href=\"/playbill/events/zhuravli-pobedy181124/\">Журавли Победы</a>\\n\\t\\t\\t\\t\\t\\t\\t<div class=\"text\"> Концертная программа с участием Образцового детского коллектива Хоровая капелла мальчиков и юношей «ДЕБЮТ»</div>\\n\\t\\t\\t\\t\\t\\t\\n\\t\\t\\t\\n\\t\\t</div>\\n\\t\\t<div class=\"bottom_box\">\\n\\t\\t\\t\\t\\t<div class=\"date ico-ba\">18.11.2023</div>\\n\\t\\t\\t\\t\\t\\t\\t\\t\\t\\n\\t\\t\\t\\n\\t\\t\\t\\t\\t\\t<div class=\"ticker-ref\">\\n\\t\\t\\t\\t\\t\\t\\t</div>\\n\\t\\t\\t\\n\\t\\t\\t\\t\\t</div>\\n\\t</div>\\n',\n",
       " '<div><a href=\"/playbill/exhibitions/ledyanaya-petlya-stalingrada-/\" class=\"img-box\">\\n\\t\\t\\t\\t\\t\\t<div class=\"img-item-bg lazyload\" data-bgset=\"/upload/resize_cache/iblock/060/az1s8o4cmnujoynctek66f4mw0aie9ul/550_380_2/ANDR3901.jpg\"></div>\\n\\t\\t</a>\\n\\t\\t<div class=\"text-box\">\\n\\t\\t\\t\\t\\t\\t\\t<div class=\"w100\">\\n\\t\\t\\t\\t\\t<a class=\"button mini\" href=\"/playbill/exhibitions/\">Выставки</a>\\n\\t\\t\\t\\t</div>\\n\\t\\t\\t\\n\\t\\t\\t<a class=\"name\" href=\"/playbill/exhibitions/ledyanaya-petlya-stalingrada-/\">Ледяная петля Сталинграда</a>\\n\\t\\t\\t\\t\\t\\t\\t<div class=\"text\">Вставка приурочена к 80-летию победы в Сталинградской битве</div>\\n\\t\\t\\t\\t\\t\\t\\n\\t\\t\\t\\n\\t\\t</div>\\n\\t\\t<div class=\"bottom_box\">\\n\\t\\t\\t\\t\\t<div class=\"date ico-ba\">02.02.2023 — 31.12.2023</div>\\n\\t\\t\\t\\t\\t\\t\\t\\t\\t\\n\\t\\t\\t\\n\\t\\t\\t\\t\\t\\t<div class=\"ticker-ref\">\\n\\t\\t\\t\\t\\t\\t\\t</div>\\n\\t\\t\\t\\n\\t\\t\\t\\t\\t</div>\\n\\t</div>\\n',\n",
       " '<div><a href=\"/playbill/events/den-materi-v-muzee-pobedy-/\" class=\"img-box\">\\n\\t\\t\\t\\t\\t\\t<div class=\"img-item-bg lazyload\" data-bgset=\"/upload/resize_cache/iblock/2d6/u635q5khgq4lrolwlm376cwt8uiltbm3/550_380_2/ANDR4816_Edit.jpg\"></div>\\n\\t\\t</a>\\n\\t\\t<div class=\"text-box\">\\n\\t\\t\\t\\t\\t\\t\\t<div class=\"w100\">\\n\\t\\t\\t\\t\\t<a class=\"button mini\" href=\"/playbill/events/\">События</a>\\n\\t\\t\\t\\t</div>\\n\\t\\t\\t\\n\\t\\t\\t<a class=\"name\" href=\"/playbill/events/den-materi-v-muzee-pobedy-/\">День матери в Музее Победы </a>\\n\\t\\t\\t\\t\\t\\t\\t<div class=\"text\">Приглашаем на праздничную программу!\\xa0</div>\\n\\t\\t\\t\\t\\t\\t\\n\\t\\t\\t\\n\\t\\t</div>\\n\\t\\t<div class=\"bottom_box\">\\n\\t\\t\\t\\t\\t<div class=\"date ico-ba\">26.11.2023</div>\\n\\t\\t\\t\\t\\t\\t\\t\\t\\t\\n\\t\\t\\t\\n\\t\\t\\t\\t\\t\\t<div class=\"ticker-ref\">\\n\\t\\t\\t\\t\\t\\t\\t</div>\\n\\t\\t\\t\\n\\t\\t\\t\\t\\t</div>\\n\\t</div>\\n',\n",
       " '<div><a href=\"/playbill/events/otkrytie-vystavki-k-125-letiyu-marshala-sovetskogo-soyuza-r-ya-malinovskogo-/\" class=\"img-box\">\\n\\t\\t\\t\\t\\t\\t<div class=\"img-item-bg lazyload\" data-bgset=\"/upload/resize_cache/iblock/ec4/7pexjaevt94tfe8vec06bb6oo2rxvpj6/550_380_2/8.jpg\"></div>\\n\\t\\t</a>\\n\\t\\t<div class=\"text-box\">\\n\\t\\t\\t\\t\\t\\t\\t<div class=\"w100\">\\n\\t\\t\\t\\t\\t<a class=\"button mini\" href=\"/playbill/events/\">События</a>\\n\\t\\t\\t\\t</div>\\n\\t\\t\\t\\n\\t\\t\\t<a class=\"name\" href=\"/playbill/events/otkrytie-vystavki-k-125-letiyu-marshala-sovetskogo-soyuza-r-ya-malinovskogo-/\">Открытие выставки к 125-летию Маршала Советского Союза Р.Я. Малиновского </a>\\n\\t\\t\\t\\t\\t\\t\\t<div class=\"text\">На выставке будет представлено более 30 предметов Родиона Яковлевича Малиновского и его жены Раисы Яковлевны</div>\\n\\t\\t\\t\\t\\t\\t\\n\\t\\t\\t\\n\\t\\t</div>\\n\\t\\t<div class=\"bottom_box\">\\n\\t\\t\\t\\t\\t<div class=\"date ico-ba\">22.11.2023</div>\\n\\t\\t\\t\\t\\t\\t\\t\\t\\t\\n\\t\\t\\t\\n\\t\\t\\t\\t\\t\\t<div class=\"ticker-ref\">\\n\\t\\t\\t\\t\\t\\t\\t</div>\\n\\t\\t\\t\\n\\t\\t\\t\\t\\t</div>\\n\\t</div>\\n',\n",
       " '<div><a href=\"/playbill/events/kontsertnaya-programma-muzhestvo-ostaetsya-v-vekakh/\" class=\"img-box\">\\n\\t\\t\\t\\t\\t\\t<div class=\"img-item-bg lazyload\" data-bgset=\"/upload/resize_cache/iblock/df0/sfcju53e0t4z7zbdgrpeu3ld4kls714y/550_380_2/PHOTO_2023_11_14_12_45_58.jpg\"></div>\\n\\t\\t</a>\\n\\t\\t<div class=\"text-box\">\\n\\t\\t\\t\\t\\t\\t\\t<div class=\"w100\">\\n\\t\\t\\t\\t\\t<a class=\"button mini\" href=\"/playbill/events/\">События</a>\\n\\t\\t\\t\\t</div>\\n\\t\\t\\t\\n\\t\\t\\t<a class=\"name\" href=\"/playbill/events/kontsertnaya-programma-muzhestvo-ostaetsya-v-vekakh/\">Концертная программа «Мужество остается в веках»</a>\\n\\t\\t\\t\\t\\t\\t\\t<div class=\"text\">в рамках Всероссийского патриотического конкурса детского и юношеского творчества «Журавли Победы»</div>\\n\\t\\t\\t\\t\\t\\t\\n\\t\\t\\t\\n\\t\\t</div>\\n\\t\\t<div class=\"bottom_box\">\\n\\t\\t\\t\\t\\t<div class=\"date ico-ba\">19.11.2023</div>\\n\\t\\t\\t\\t\\t\\t\\t\\t\\t\\n\\t\\t\\t\\n\\t\\t\\t\\t\\t\\t<div class=\"ticker-ref\">\\n\\t\\t\\t\\t\\t\\t\\t</div>\\n\\t\\t\\t\\n\\t\\t\\t\\t\\t</div>\\n\\t</div>\\n',\n",
       " '<div><a href=\"/playbill/events/vserossiyskiy-konkurs-marshal-zhukov/\" class=\"img-box\">\\n\\t\\t\\t\\t\\t\\t<div class=\"img-item-bg lazyload\" data-bgset=\"/upload/iblock/de3/poon4xnskuuuikof4a9gy1ohmnkfk8t1/Zhukov550x380.jpg\"></div>\\n\\t\\t</a>\\n\\t\\t<div class=\"text-box\">\\n\\t\\t\\t\\t\\t\\t\\t<div class=\"w100\">\\n\\t\\t\\t\\t\\t<a class=\"button mini\" href=\"/playbill/events/\">События</a>\\n\\t\\t\\t\\t</div>\\n\\t\\t\\t\\n\\t\\t\\t<a class=\"name\" href=\"/playbill/events/vserossiyskiy-konkurs-marshal-zhukov/\">Всероссийский конкурс «Маршал Жуков»</a>\\n\\t\\t\\t\\t\\t\\t\\t<div class=\"text\">направлен на популяризацию памятных дат истории и героев Отечества, жизни и деятельности великого полководца Г.К. Жукова</div>\\n\\t\\t\\t\\t\\t\\t\\n\\t\\t\\t\\n\\t\\t</div>\\n\\t\\t<div class=\"bottom_box\">\\n\\t\\t\\t\\t\\t<div class=\"date ico-ba\">01.09.2023 — 01.12.2023</div>\\n\\t\\t\\t\\t\\t\\t\\t\\t\\t\\n\\t\\t\\t\\n\\t\\t\\t\\t\\t\\t<div class=\"ticker-ref\">\\n\\t\\t\\t\\t\\t\\t\\t</div>\\n\\t\\t\\t\\n\\t\\t\\t\\t\\t</div>\\n\\t</div>\\n']"
      ]
     },
     "execution_count": 24,
     "metadata": {},
     "output_type": "execute_result"
    }
   ],
   "source": [
    "list_divs"
   ]
  },
  {
   "cell_type": "code",
   "execution_count": 26,
   "id": "6a883979",
   "metadata": {},
   "outputs": [],
   "source": [
    "for site in list_sites:\n",
    "    response = requests.get(url)\n",
    "\n",
    "    if response.status_code == 200:\n",
    "        # Создаем объект дерева HTML из содержимого ответа\n",
    "        tree = html.fromstring(response.text)"
   ]
  },
  {
   "cell_type": "code",
   "execution_count": null,
   "id": "b2d1da27",
   "metadata": {},
   "outputs": [],
   "source": []
  },
  {
   "cell_type": "code",
   "execution_count": 29,
   "id": "8d821189",
   "metadata": {},
   "outputs": [
    {
     "data": {
      "text/plain": [
       "'\\n'"
      ]
     },
     "execution_count": 29,
     "metadata": {},
     "output_type": "execute_result"
    }
   ],
   "source": [
    "tree.text"
   ]
  },
  {
   "cell_type": "code",
   "execution_count": null,
   "id": "d4074b5e",
   "metadata": {},
   "outputs": [],
   "source": []
  },
  {
   "cell_type": "code",
   "execution_count": 23,
   "id": "52acfda5",
   "metadata": {
    "scrolled": true
   },
   "outputs": [
    {
     "data": {
      "text/plain": [
       "'<div><a href=\"/playbill/events/vserossiyskiy-konkurs-marshal-zhukov/\" class=\"img-box\">\\n\\t\\t\\t\\t\\t\\t<div class=\"img-item-bg lazyload\" data-bgset=\"/upload/iblock/de3/poon4xnskuuuikof4a9gy1ohmnkfk8t1/Zhukov550x380.jpg\"></div>\\n\\t\\t</a>\\n\\t\\t<div class=\"text-box\">\\n\\t\\t\\t\\t\\t\\t\\t<div class=\"w100\">\\n\\t\\t\\t\\t\\t<a class=\"button mini\" href=\"/playbill/events/\">События</a>\\n\\t\\t\\t\\t</div>\\n\\t\\t\\t\\n\\t\\t\\t<a class=\"name\" href=\"/playbill/events/vserossiyskiy-konkurs-marshal-zhukov/\">Всероссийский конкурс «Маршал Жуков»</a>\\n\\t\\t\\t\\t\\t\\t\\t<div class=\"text\">направлен на популяризацию памятных дат истории и героев Отечества, жизни и деятельности великого полководца Г.К. Жукова</div>\\n\\t\\t\\t\\t\\t\\t\\n\\t\\t\\t\\n\\t\\t</div>\\n\\t\\t<div class=\"bottom_box\">\\n\\t\\t\\t\\t\\t<div class=\"date ico-ba\">01.09.2023 — 01.12.2023</div>\\n\\t\\t\\t\\t\\t\\t\\t\\t\\t\\n\\t\\t\\t\\n\\t\\t\\t\\t\\t\\t<div class=\"ticker-ref\">\\n\\t\\t\\t\\t\\t\\t\\t</div>\\n\\t\\t\\t\\n\\t\\t\\t\\t\\t</div>\\n\\t</div>\\n'"
      ]
     },
     "execution_count": 23,
     "metadata": {},
     "output_type": "execute_result"
    }
   ],
   "source": [
    "list_divs[8]"
   ]
  },
  {
   "cell_type": "code",
   "execution_count": null,
   "id": "41bc1d0d",
   "metadata": {},
   "outputs": [],
   "source": []
  },
  {
   "cell_type": "code",
   "execution_count": null,
   "id": "0f4d0c61",
   "metadata": {},
   "outputs": [],
   "source": []
  },
  {
   "cell_type": "code",
   "execution_count": null,
   "id": "459f38d2",
   "metadata": {},
   "outputs": [],
   "source": []
  },
  {
   "cell_type": "code",
   "execution_count": null,
   "id": "ccbefd2f",
   "metadata": {},
   "outputs": [],
   "source": []
  },
  {
   "cell_type": "code",
   "execution_count": null,
   "id": "b2cfbc77",
   "metadata": {},
   "outputs": [],
   "source": []
  },
  {
   "cell_type": "markdown",
   "id": "1b70b59e",
   "metadata": {},
   "source": [
    "## Как можно парсить"
   ]
  },
  {
   "cell_type": "code",
   "execution_count": 47,
   "id": "7fb548c1",
   "metadata": {
    "scrolled": true
   },
   "outputs": [
    {
     "name": "stdout",
     "output_type": "stream",
     "text": [
      "<div><a href=\"/playbill/exhibitions/zavetam-verny/\" class=\"img-box\">\n",
      "\t\t\t\t\t\t<div class=\"img-item-bg lazyload\" data-bgset=\"/upload/resize_cache/iblock/1ed/vd631ckv6l4s5k17704wjomiv8vgndz5/550_380_2/790x545_2.jpg\"></div>\n",
      "\t\t</a>\n",
      "\t\t<div class=\"text-box\">\n",
      "\t\t\t\t\t\t\t<div class=\"w100\">\n",
      "\t\t\t\t\t<a class=\"button mini\" href=\"/playbill/exhibitions/\">Выставки</a>\n",
      "\t\t\t\t</div>\n",
      "\t\t\t\n",
      "\t\t\t<a class=\"name\" href=\"/playbill/exhibitions/zavetam-verny/\">Zаветам Vерны</a>\n",
      "\t\t\t\t\t\t\t<div class=\"text\">Выставка посвящена современным Героям России – участникам СВО</div>\n",
      "\t\t\t\t\t\t\n",
      "\t\t\t\n",
      "\t\t</div>\n",
      "\t\t<div class=\"bottom_box\">\n",
      "\t\t\t\t\t<div class=\"date ico-ba\">09.12.2022 — 14.01.2024</div>\n",
      "\t\t\t\t\t\t\t\t\t\n",
      "\t\t\t\n",
      "\t\t\t\t\t\t<div class=\"ticker-ref\">\n",
      "\t\t\t\t\t\t\t</div>\n",
      "\t\t\t\n",
      "\t\t\t\t\t</div>\n",
      "\t</div>\n",
      "\n"
     ]
    }
   ],
   "source": [
    "# Парсинг HTML\n",
    "tree = html.fromstring(response.text)\n",
    "\n",
    "# Выбор элемента\n",
    "selected_element = tree.xpath(\"//div[@data-id='28']\")[0]\n",
    "\n",
    "# # Создаем временный элемент и копируем содержимое выбранного элемента\n",
    "temp_element = html.Element(\"div\")\n",
    "temp_element.extend(selected_element)\n",
    "\n",
    "# Получение HTML-разметки только для выбранного элемента\n",
    "html_representation = html.tostring(temp_element, encoding='unicode', method='html')\n",
    "\n",
    "print(html_representation)\n"
   ]
  },
  {
   "cell_type": "code",
   "execution_count": null,
   "id": "faffc98f",
   "metadata": {},
   "outputs": [],
   "source": []
  },
  {
   "cell_type": "code",
   "execution_count": null,
   "id": "9d031674",
   "metadata": {},
   "outputs": [],
   "source": []
  },
  {
   "cell_type": "code",
   "execution_count": 51,
   "id": "0bef35f7",
   "metadata": {},
   "outputs": [
    {
     "name": "stdout",
     "output_type": "stream",
     "text": [
      "<div><a href=\"/playbill/exhibitions/zavetam-verny/\" class=\"img-box\">\n",
      "\t\t\t\t\t\t<div class=\"img-item-bg lazyload\" data-bgset=\"/upload/resize_cache/iblock/1ed/vd631ckv6l4s5k17704wjomiv8vgndz5/550_380_2/790x545_2.jpg\"></div>\n",
      "\t\t</a>\n",
      "\t\t<div class=\"text-box\">\n",
      "\t\t\t\t\t\t\t<div class=\"w100\">\n",
      "\t\t\t\t\t<a class=\"button mini\" href=\"/playbill/exhibitions/\">Выставки</a>\n",
      "\t\t\t\t</div>\n",
      "\t\t\t\n",
      "\t\t\t<a class=\"name\" href=\"/playbill/exhibitions/zavetam-verny/\">Zаветам Vерны</a>\n",
      "\t\t\t\t\t\t\t<div class=\"text\">Выставка посвящена современным Героям России – участникам СВО</div>\n",
      "\t\t\t\t\t\t\n",
      "\t\t\t\n",
      "\t\t</div>\n",
      "\t\t<div class=\"bottom_box\">\n",
      "\t\t\t\t\t<div class=\"date ico-ba\">09.12.2022 — 14.01.2024</div>\n",
      "\t\t\t\t\t\t\t\t\t\n",
      "\t\t\t\n",
      "\t\t\t\t\t\t<div class=\"ticker-ref\">\n",
      "\t\t\t\t\t\t\t</div>\n",
      "\t\t\t\n",
      "\t\t\t\t\t</div>\n",
      "\t</div>\n",
      "\n"
     ]
    }
   ],
   "source": [
    "# Парсинг HTML\n",
    "tree = html.fromstring(response.text)\n",
    "\n",
    "# Выбор элемента\n",
    "selected_element = tree.xpath(\"//div[@data-id='28']\")[0]\n",
    "\n",
    "# # Создаем временный элемент и копируем содержимое выбранного элемента\n",
    "temp_element = html.Element(\"div\")\n",
    "temp_element.extend(selected_element)\n",
    "\n",
    "# Получение HTML-разметки только для выбранного элемента\n",
    "html_representation = html.tostring(temp_element, encoding='unicode', method='html')\n",
    "\n",
    "print(html_representation)"
   ]
  },
  {
   "cell_type": "code",
   "execution_count": null,
   "id": "5f0ca5e0",
   "metadata": {},
   "outputs": [],
   "source": []
  },
  {
   "cell_type": "code",
   "execution_count": null,
   "id": "ce3b3a71",
   "metadata": {},
   "outputs": [],
   "source": []
  },
  {
   "cell_type": "code",
   "execution_count": null,
   "id": "b7fc183c",
   "metadata": {},
   "outputs": [],
   "source": []
  }
 ],
 "metadata": {
  "kernelspec": {
   "display_name": "Python 3 (ipykernel)",
   "language": "python",
   "name": "python3"
  },
  "language_info": {
   "codemirror_mode": {
    "name": "ipython",
    "version": 3
   },
   "file_extension": ".py",
   "mimetype": "text/x-python",
   "name": "python",
   "nbconvert_exporter": "python",
   "pygments_lexer": "ipython3",
   "version": "3.9.12"
  },
  "toc": {
   "base_numbering": 1,
   "nav_menu": {},
   "number_sections": true,
   "sideBar": true,
   "skip_h1_title": false,
   "title_cell": "Table of Contents",
   "title_sidebar": "Contents",
   "toc_cell": false,
   "toc_position": {},
   "toc_section_display": true,
   "toc_window_display": false
  },
  "varInspector": {
   "cols": {
    "lenName": 16,
    "lenType": 16,
    "lenVar": 40
   },
   "kernels_config": {
    "python": {
     "delete_cmd_postfix": "",
     "delete_cmd_prefix": "del ",
     "library": "var_list.py",
     "varRefreshCmd": "print(var_dic_list())"
    },
    "r": {
     "delete_cmd_postfix": ") ",
     "delete_cmd_prefix": "rm(",
     "library": "var_list.r",
     "varRefreshCmd": "cat(var_dic_list()) "
    }
   },
   "types_to_exclude": [
    "module",
    "function",
    "builtin_function_or_method",
    "instance",
    "_Feature"
   ],
   "window_display": false
  }
 },
 "nbformat": 4,
 "nbformat_minor": 5
}
