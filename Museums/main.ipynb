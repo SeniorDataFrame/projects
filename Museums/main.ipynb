{
 "cells": [
  {
   "cell_type": "code",
   "execution_count": 1,
   "id": "b67466bc",
   "metadata": {
    "ExecuteTime": {
     "end_time": "2023-11-06T18:25:10.973650700Z",
     "start_time": "2023-11-06T18:25:10.321487100Z"
    }
   },
   "outputs": [],
   "source": [
    "import requests\n",
    "import pandas as pd\n",
    "from bs4 import BeautifulSoup\n",
    "from lxml import etree\n",
    "\n",
    "import requests\n",
    "from lxml import html\n",
    "\n",
    "\n",
    "import re\n",
    "import hashlib\n",
    "import sqlite3\n",
    "import telegram_send\n",
    "import telebot\n",
    "import time\n",
    "import configparser\n"
   ]
  },
  {
   "cell_type": "code",
   "execution_count": 2,
   "id": "6d0a843a",
   "metadata": {},
   "outputs": [],
   "source": [
    "#Ограничивает длину слов\n",
    "WORLD_LIMIT = 400"
   ]
  },
  {
   "cell_type": "code",
   "execution_count": 3,
   "id": "e3ec4671",
   "metadata": {},
   "outputs": [],
   "source": [
    "# Создание объекта конфигурации\n",
    "config = configparser.ConfigParser()\n",
    "\n",
    "# Чтение данных из файла\n",
    "config.read('config.ini')\n",
    "\n",
    "BOT_TOKEN = config.get('tokens', 'BOT_TOKEN')\n",
    "CHAT_ID = config.get('tokens', 'CHAT_ID')"
   ]
  },
  {
   "cell_type": "markdown",
   "id": "1e2ceb76",
   "metadata": {},
   "source": [
    "## Функции"
   ]
  },
  {
   "cell_type": "code",
   "execution_count": 4,
   "id": "878c1a30",
   "metadata": {},
   "outputs": [],
   "source": [
    "def get_div(tree, xpath_format, div_mode=True):\n",
    "    list_divs = []\n",
    "\n",
    "\n",
    "    # Выбор элемента\n",
    "    selected_element = tree.xpath(xpath_format)\n",
    "\n",
    "\n",
    "    for div in selected_element:\n",
    "        # Получение HTML-разметки только для выбранного элемента\n",
    "        html_representation = html.tostring(div, encoding='unicode', method='html')\n",
    "\n",
    "        list_divs.append(html_representation)\n",
    "    return list_divs\n"
   ]
  },
  {
   "cell_type": "markdown",
   "id": "39cd3fe6",
   "metadata": {},
   "source": [
    "# Parse"
   ]
  },
  {
   "cell_type": "code",
   "execution_count": 5,
   "id": "10de4bee",
   "metadata": {},
   "outputs": [],
   "source": [
    "dict_mus = {\n",
    "    \n",
    "'Музей победы': ['https://victorymuseum.ru/playbill/',\n",
    "'//div[@class=\"oblique-items\"]//div[@class=\"item\"]', 'top_museum'],\n",
    "    \n",
    "'Музей блокады Ленинграда': ['https://blokadamus.ru/музей-обороны-и-блокады-ленинграда/события/',\n",
    "'//*[@class=\"elementor-post__card\"]'],\n",
    "    \n",
    "'Музей минобороны в Москве': ['http://www.cmaf.ru/',\n",
    "'//*[@class=\"reg-news\"]//p[@class=\"news-item\"]/following-sibling::*[1]'],\n",
    "    \n",
    "'Музей дорогами победы (парк Патриот)': ['https://1418museum.ru/news/',\n",
    "'//*[@class=\"newsItem__contains\"]'],\n",
    "    \n",
    "'Бородинская битва': ['https://1812panorama.ru/afisha',\n",
    "'//*[@class=\"field-more-title\"]'],\n",
    "    \n",
    "'Музей современной истории России': ['https://sovrhistory.ru/exhibitions/future/index.php',\n",
    "'//*[@class=\"exhibitions__text\"]'],\n",
    "    \n",
    "'Выставочный центр Манеж, Москва': ['https://moscowmanege.ru/ru/vystavki-all/',\n",
    "'//*[@class=\"news-block exhibition\"]'],\n",
    "    \n",
    "'Музей Москвы': ['https://mosmuseum.ru/exhibitions/',\n",
    "'//*[@class=\"articles-grid\"]//*[@class=\"content\"]'],\n",
    "    \n",
    "'ГИМ, Москва': ['https://mediashm.ru/?all=1', '//a[@class=\"element\"]'],\n",
    "    \n",
    "'Музей кино, Москва': ['https://www.museikino.ru/media_center/',\n",
    "'//div[@class=\"media__inf\"]'],\n",
    "    \n",
    "'Музей военной истории «Свердловск: Говорит Москва!» ': ['https://ugvim.ru/news/',\n",
    "'//a[@class=\"front_cont h_more_w\"]'],\n",
    "    \n",
    "'Дом-музей В.И. Ленина': ['https://www.leninmemorial.ru/news/',\n",
    "'//div[@class=\"row row-news-page\"]'],\n",
    "    \n",
    "'Мемориал «В честь героев Курской битвы»': ['http://мемориал.бгикм.рф/меню/новости',\n",
    "'//div[@class=\"post\"]'],\n",
    "    \n",
    "'Мемориальный музей военного и трудового подвига 1941–1945 гг': ['http://patriotrm.clan.su/news/?page1',\n",
    "'//td[@style=\"padding:3px;\"]'],\n",
    "    \n",
    "'ГОСУДАРСТВЕННЫЙ ВОЕННО-ИСТОРИЧЕСКИЙ МУЗЕЙ-ЗАПОВЕДНИК «ПРОХОРОВСКОЕ ПОЛЕ»': ['https://прохоровское-поле.рф/vystavochnaya-deyatelnost.html',\n",
    "'//div[@class=\"news-item\"]'],\n",
    "    \n",
    "'Музейно-мемориальный комплекс «История танка Т-34»': ['https://museum-t-34.ru/новости/',\n",
    "'//div[@class=\"site_content_left\"]'],\n",
    "    \n",
    "'Музей «Боевая слава» г. Дербента': ['https://derbentmuseum.ru/',\n",
    "'//section[@class=\"blog\"]//div[@class=\"col-lg-4\"]'],\n",
    "    \n",
    "'Музей «Мемориал Победы»': ['https://memorial24.ru/novosti',\n",
    "'//div[@class=\"novelty clearfix novelty-teaser\"]'],\n",
    "    \n",
    "'Музей «Смоленщина в годы Великой Отечественной войны 1941−1945 гг.': ['https://www.smolensk-museum.ru/novosti/muzeynaya_zhizn/',\n",
    "'//div[@class=\"news__item\"]'],\n",
    "    \n",
    "'Музей «Невский пятачок': ['https://www.lenoblmus.ru/news',\n",
    "'//li[@class=\"col-md-4 col-lg-3 col-sm-6 col-xs-12\"]'],\n",
    "    \n",
    "'Музей «Дорога жизни»': ['https://navalmuseum.ru/news',\n",
    "'//div[@class=\"content-box\"]'],\n",
    "    \n",
    "'Самарский областной историко-краеведческий музей им. П.В. Алабина': ['https://alabin.ru/',\n",
    "'//div[@class=\"news__post\"]'],\n",
    "    \n",
    "'Якутский государственный объединенный музей истории и культуры народов Севера им. Ем. Ярославского': ['https://yakutmuseum.ru/',\n",
    "'//a[@class=\"news-item\"]'],\n",
    "    \n",
    "'Краснодарский государственный историко-археологический музей-заповедник им. Е.Д. Фелицына': ['https://felicina.ru/news/',\n",
    "'//div[@class=\"content-area content-left col-md-8 col-sm-8\"]//article'],\n",
    "    \n",
    "'Государственный исторический музей Южного Урала': ['http://www.chelmuseum.ru/news/#content',\n",
    "'//div[@class=\"card\"]'],\n",
    "    \n",
    "'Тамбовский областной краеведческий музей': ['https://tmbmuseum.ru/mainmenu/news/relevant',\n",
    "'//h3'],\n",
    "    \n",
    "'Национальный музей Республики Башкортостан ': ['https://museumrb.ru/category/afisha/events/',\n",
    "'//div[@class=\"upcoming-event-2 pt-80 pb-80\"]//div[@class=\"single-event single-event-3 mb-30 wow fadeInUp my-single-event-3\"]'],\n",
    "    \n",
    "'Ставропольский государственный музей-заповедник': ['https://stavmuseum.ru/',\n",
    "'//div[@class=\"anonsiblock\"]'],\n",
    "    \n",
    "'Новосибирский государственный краеведческий музей': ['https://youmuseum.ru/news/',\n",
    "'//div[@class=\"text\"]'],\n",
    "    \n",
    "'Оренбургский губернаторский историко-краеведческий музей ': ['http://ogikm.ru/',\n",
    "'//div[@class=\"tab-content\"]//div[@class=\"item\"]'],\n",
    "    \n",
    "'Омский государственный историко-краеведческий музей': ['https://sibmuseum.ru/news/',\n",
    "'//a[@class=\"news-card__link\"]'],\n",
    "    \n",
    "'Национальный музей Удмуртской Республики им. К. Герда': ['https://nmur.ru/afisha',\n",
    "'//div[@class=\"single-block\"]'] ,\n",
    "    \n",
    "'Саратовский областной музей краеведения': ['http://www.comk.ru/museum/news/',\n",
    "'//div[@class=\"news-item\"]'] ,   \n",
    "\n",
    "'Национальный музей Республики Марий Эл им. Т. Евсеева ': ['https://www.fumus.ru/events/',\n",
    "'//ul[@class=\"events__list\"]/li'] ,  \n",
    "    \n",
    "'Ростовский областной музей краеведения ': ['https://www.rostovmuseum.ru/calendar/list-of-events/',\n",
    "'//div[@class=\"row\"]//div[@class=\"s-news-wrapper\"]'] ,  \n",
    "\n",
    "'Воронежский областной краеведческий музей ': ['https://museum-vrn.ru/muzej/novosti/',\n",
    "'//a[@class=\"i-wrap\"]'] , \n",
    "    \n",
    "'Национальный музей Республики Татарстан ': ['https://tatmuseum.ru/news/?PAGEN_1=4',\n",
    "'//a[@class=\"news-item\"]'] , \n",
    "\n",
    "'Брянский государственный краеведческий музей ': ['https://bgkm.ru/',\n",
    "'//div[@class=\"bloglatestnews1\"]/div'] , \n",
    "    \n",
    "'Музей истории Бурятии им. М.Н. Хангалова ': ['https://muzeyrb.ru/sobytiya-1?page=2',\n",
    "'//article[@class=\"col-lg-4 mb-50 animate-conner\"]'] , \n",
    "    \n",
    "'Национальный музей Республики Дагестан им. А. Тахо-Годи ': ['https://dagmuzey.ru/events',\n",
    "'//a[@class=\"s-events-wrapper__item s-events-wrapper-item\"]'] , \n",
    "    \n",
    "'Ульяновский областной краеведческий музей имени И.А. Гончарова ': ['https://uokm.site/category/уокм/новости/',\n",
    "'//a[@class=\"a news-link\"]'], \n",
    "    \n",
    "'Музей истории города Улан-Удэ ': ['https://uumuseum.ru/news/',\n",
    "'//a[@class=\"event-index-item\"]'], \n",
    "\n",
    "'Национальный музей Республики Коми ': ['https://museumkomi.ru/?cat=3',\n",
    "'//div[@class=\"special-category\"]'], \n",
    "\n",
    "'Национальный музей Республики Алтай имени А.В. Анохина ': ['http://musey-anohina.ru/index.php/novosti',\n",
    "'//div[@class=\"catItemBody\"]'], \n",
    "    \n",
    "'Чувашский национальный музей ': ['https://chnmuseum.ru/news/',\n",
    "'//main[@class=\"site-main\"]/article'],   \n",
    "    \n",
    "'Мордовский республиканский объединенный краеведческий музей им. И.Д. Воронина ': ['http://mrkm.ru/novosti/?PAGEN_1=4',\n",
    "'//a[@class=\"box news\"]'],  \n",
    "    \n",
    "'Национальный музей им. Алдан Маадыр Республики Тыва ': ['https://музейтыва.рф/?cat=16&paged=1',\n",
    "'//div[@class=\"main col-lg-9 col-md-8  postlist\"]/article'], \n",
    "\n",
    "'Хабаровский краевой музей имени Н.И. Гродекова ': ['https://hkm.ru/news/',\n",
    "'//a[@class=\"new-item list-item\"]'], \n",
    "    \n",
    "\n",
    "'Калининградский областной историко-художественный музей ': ['https://koihm.ru/category/novosti/',\n",
    "'//div[@class=\"article-inner\"]'], \n",
    "    \n",
    "'Национальный музей Республики Карелия ': ['https://kareliamuseum.ru/news/',\n",
    "'//article[@class=\"clearfix l-news-article\"]'], \n",
    "    \n",
    "'Астраханский музей заповедник ': ['https://astmuseum.ru/ru/news/',\n",
    "'//div[@class=\"iblock-list-item-wrap  \"]'], \n",
    "    \n",
    "'Сургутский краеведческий музей ': ['https://skmuseum.ru/',\n",
    "'//ul[@class=\"is-layout-flow wp-block-post-template has-small-font-size\"]/li'], \n",
    "\n",
    "'Магаданский областной краеведческий музей ': ['https://magadanmuseum.ru/index.php?do=cat&category=news',\n",
    "'//div[@id=\"dle-content\"]/table'], \n",
    "\n",
    "'Курский областной краеведческий музей ': ['http://kursk-museum.ru/',\n",
    "'//div[@class=\"clearfix news_content\"]'],  \n",
    "    \n",
    "'Национальный музей Республики Адыгея ': ['https://adyg-museum.ru/ru/',\n",
    "'//div[@class=\" col-12 col-sm-12 col-md-6 col-lg-4 col-xl-4\"]|//div[@class=\" col-12 col-sm-12 col-md-12 col-lg-6 col-xl-6\"]'],  \n",
    "\n",
    "'Музейно-выставочный центр г. Иваново ': ['http://www.igikm.ru/sobytiya/novosti/',\n",
    "'//p[@class=\"announce-text\"]'], \n",
    "    \n",
    "    \n",
    "    \n",
    "  \n",
    "                                                   }"
   ]
  },
  {
   "cell_type": "code",
   "execution_count": null,
   "id": "e5d837fe",
   "metadata": {},
   "outputs": [],
   "source": []
  },
  {
   "cell_type": "code",
   "execution_count": 6,
   "id": "a04cf604",
   "metadata": {
    "scrolled": true
   },
   "outputs": [],
   "source": [
    "dict_info = {}\n",
    "\n",
    "\n",
    "headers = {\n",
    "    'User-Agent': 'Mozilla/5.0 (Windows NT 10.0; Win64; x64) AppleWebKit/537.36 (KHTML, like Gecko) Chrome/91.0.4472.124 Safari/537.36',\n",
    "}\n",
    "\n",
    "for name in dict_mus:\n",
    "    site = dict_mus[name][0]\n",
    "    xpath = dict_mus[name][1]\n",
    "    \n",
    "    response = requests.get(site,  verify=False\n",
    "                            , headers=headers\n",
    "                           )\n",
    "\n",
    "    if response.status_code == 200:\n",
    "        # Создаем объект дерева HTML из содержимого ответа\n",
    "        tree = html.fromstring(response.text)\n",
    "        \n",
    "        \n",
    "        target_obj = get_div(tree, xpath)  \n",
    "        dict_info[site] = target_obj\n",
    "        \n",
    "        \n",
    "    else:\n",
    "        print(f'Ошибка статуса {response.status_code} для {site}')"
   ]
  },
  {
   "cell_type": "code",
   "execution_count": 7,
   "id": "b4c68ec6",
   "metadata": {},
   "outputs": [],
   "source": [
    "df_raw_p = pd.DataFrame([dict_info]).T"
   ]
  },
  {
   "cell_type": "code",
   "execution_count": 8,
   "id": "7283363e",
   "metadata": {},
   "outputs": [],
   "source": [
    "df_raw_p = df_raw_p.explode(0)\n",
    "df_raw_p = df_raw_p.reset_index()"
   ]
  },
  {
   "cell_type": "code",
   "execution_count": 9,
   "id": "f1678e98",
   "metadata": {},
   "outputs": [],
   "source": [
    "df_raw_p = df_raw_p.rename(columns={'index':'site', 0:'raw_str'})"
   ]
  },
  {
   "cell_type": "code",
   "execution_count": 10,
   "id": "a416552b",
   "metadata": {},
   "outputs": [
    {
     "data": {
      "text/html": [
       "<div>\n",
       "<style scoped>\n",
       "    .dataframe tbody tr th:only-of-type {\n",
       "        vertical-align: middle;\n",
       "    }\n",
       "\n",
       "    .dataframe tbody tr th {\n",
       "        vertical-align: top;\n",
       "    }\n",
       "\n",
       "    .dataframe thead th {\n",
       "        text-align: right;\n",
       "    }\n",
       "</style>\n",
       "<table border=\"1\" class=\"dataframe\">\n",
       "  <thead>\n",
       "    <tr style=\"text-align: right;\">\n",
       "      <th></th>\n",
       "      <th>site</th>\n",
       "      <th>raw_str</th>\n",
       "    </tr>\n",
       "  </thead>\n",
       "  <tbody>\n",
       "  </tbody>\n",
       "</table>\n",
       "</div>"
      ],
      "text/plain": [
       "Empty DataFrame\n",
       "Columns: [site, raw_str]\n",
       "Index: []"
      ]
     },
     "execution_count": 10,
     "metadata": {},
     "output_type": "execute_result"
    }
   ],
   "source": [
    "df_raw_p[df_raw_p['raw_str'].isna()]"
   ]
  },
  {
   "cell_type": "code",
   "execution_count": 11,
   "id": "a535609e",
   "metadata": {},
   "outputs": [],
   "source": [
    "df_raw_p = df_raw_p[df_raw_p['raw_str'].notna()].copy()"
   ]
  },
  {
   "cell_type": "code",
   "execution_count": 12,
   "id": "db9160ad",
   "metadata": {
    "scrolled": true
   },
   "outputs": [],
   "source": [
    "df_raw_p['text_elem'] = df_raw_p['raw_str'].apply(lambda x: BeautifulSoup(x, 'html.parser').text)"
   ]
  },
  {
   "cell_type": "code",
   "execution_count": 13,
   "id": "b7c52fcd",
   "metadata": {},
   "outputs": [],
   "source": [
    "df_raw_p = df_raw_p.drop_duplicates(['site', 'text_elem']).copy()\n",
    "df_raw_p = df_raw_p.reset_index(drop=True).copy()"
   ]
  },
  {
   "cell_type": "markdown",
   "id": "08f7d43c",
   "metadata": {},
   "source": [
    "## Делаем колоку с хэшом"
   ]
  },
  {
   "cell_type": "code",
   "execution_count": 14,
   "id": "c0355151",
   "metadata": {},
   "outputs": [],
   "source": [
    "def generate_hash(input_string):\n",
    "    # Создаем объект хэша SHA-256\n",
    "    hash_object = hashlib.sha256()\n",
    "\n",
    "    # Преобразуем входную строку в байты и обновляем хэш\n",
    "    hash_object.update(input_string.encode('utf-8'))\n",
    "\n",
    "    # Получаем шестнадцатеричное представление хэша\n",
    "    hash_value = hash_object.hexdigest()\n",
    "\n",
    "    return hash_value"
   ]
  },
  {
   "cell_type": "code",
   "execution_count": 15,
   "id": "6c48bb7a",
   "metadata": {},
   "outputs": [],
   "source": [
    "# Колонка для хеширования\n",
    "df_raw_p.insert(0,'hash_col', df_raw_p['site']+ ' ' + df_raw_p['text_elem'])\n",
    "\n",
    "df_raw_p['hash_col'] = df_raw_p['hash_col'].apply(generate_hash)"
   ]
  },
  {
   "cell_type": "code",
   "execution_count": 16,
   "id": "7724a2f7",
   "metadata": {},
   "outputs": [],
   "source": [
    "df_raw_p.insert(0,'date_stamp', pd.to_datetime('today'))"
   ]
  },
  {
   "cell_type": "markdown",
   "id": "c35aef16",
   "metadata": {},
   "source": [
    "## Загружаем в db"
   ]
  },
  {
   "cell_type": "code",
   "execution_count": 17,
   "id": "5f183d8a",
   "metadata": {},
   "outputs": [],
   "source": [
    "conn = sqlite3.connect('museums.db')"
   ]
  },
  {
   "cell_type": "code",
   "execution_count": 18,
   "id": "b4de7009",
   "metadata": {},
   "outputs": [
    {
     "data": {
      "text/plain": [
       "<sqlite3.Cursor at 0x2531abac340>"
      ]
     },
     "execution_count": 18,
     "metadata": {},
     "output_type": "execute_result"
    }
   ],
   "source": [
    "# Создаю таблицы\n",
    "\n",
    "qu = '''\n",
    "    CREATE TABLE if not EXISTS \"parse\" (\n",
    "    \"date_stamp\" TIMESTAMP,\n",
    "    \"hash_col\" TEXT UNIQUE,\n",
    "    \"site\" TEXT,\n",
    "    \"raw_str\" TEXT,\n",
    "    \"text_elem\" TEXT\n",
    ")\n",
    "'''\n",
    "conn.execute(qu)\n",
    "\n",
    "qu = '''\n",
    "    CREATE TABLE if not EXISTS \"parse_temp\" (\n",
    "    \"date_stamp\" TIMESTAMP,\n",
    "    \"hash_col\" TEXT UNIQUE,\n",
    "    \"site\" TEXT,\n",
    "    \"raw_str\" TEXT,\n",
    "    \"text_elem\" TEXT\n",
    "\n",
    ")\n",
    "'''\n",
    "conn.execute(qu)\n",
    "\n",
    "# Добавляю таблицу, для успешных выполнений\n",
    "qu = '''\n",
    "    CREATE TABLE if not EXISTS send_telegram (\n",
    "    \"date_stamp\" TIMESTAMP,\n",
    "    \"hash_col\" TEXT UNIQUE, \n",
    "    teleg_mes TEXT\n",
    ")\n",
    "'''\n",
    "conn.execute(qu)"
   ]
  },
  {
   "cell_type": "code",
   "execution_count": 19,
   "id": "f9215cd6",
   "metadata": {},
   "outputs": [
    {
     "data": {
      "text/plain": [
       "<sqlite3.Cursor at 0x2531abafa40>"
      ]
     },
     "execution_count": 19,
     "metadata": {},
     "output_type": "execute_result"
    }
   ],
   "source": [
    "# Временная таблица\n",
    "df_raw_p.to_sql('parse_temp', conn, index=False, if_exists='replace')\n",
    "\n",
    "\n",
    "# Импортирую значения с новыми значениями по хэшу\n",
    "qu = '''\n",
    "INSERT INTO parse\n",
    "select *\n",
    "from parse_temp\n",
    "where hash_col not in (select hash_col from parse)\n",
    "\n",
    "'''\n",
    "conn.execute(qu)"
   ]
  },
  {
   "cell_type": "code",
   "execution_count": 20,
   "id": "2096516a",
   "metadata": {},
   "outputs": [],
   "source": [
    "qu = '''\n",
    "select *\n",
    "from parse\n",
    "where hash_col not in (select hash_col from send_telegram)\n",
    "order by date_stamp\n",
    "'''\n",
    "df_n_compl = pd.read_sql(qu, conn)"
   ]
  },
  {
   "cell_type": "markdown",
   "id": "a7968c83",
   "metadata": {},
   "source": [
    "# Чистка"
   ]
  },
  {
   "cell_type": "code",
   "execution_count": 21,
   "id": "cffba0d1",
   "metadata": {},
   "outputs": [],
   "source": [
    "def adj_lim(x:list):\n",
    "    '''Ограничивает длину слова'''\n",
    "    for i, el  in enumerate(x):\n",
    "\n",
    "        if len(el) > WORLD_LIMIT:\n",
    "            x[i] = el[:WORLD_LIMIT]+'...'\n",
    "            \n",
    "    return x\n",
    "\n",
    "\n",
    "\n",
    "list_unuse = ['\\t\\t\\t\\tЧитать далее»\\t\\t\\t', 'подробнее >>', 'Подробнее', 'Заказать', 'подробнее...']\n",
    "\n",
    "\n",
    "def drop_words(x:list):\n",
    "    '''\n",
    "    Удаляю лишние слова \n",
    "    '''\n",
    "    new_list = []\n",
    "    for l in x:\n",
    "\n",
    "        if not l in list_unuse and not bool(re.match(r'^[0-9 /]+$', l)) and l:\n",
    "            new_list.append(l)\n",
    "#             print('********************')\n",
    "#             print(l)\n",
    "#             print('********************')\n",
    "#         else:\n",
    "#             print('********************')\n",
    "#             print('Не лобавлено',l)\n",
    "#             print('********************')\n",
    "    return new_list\n",
    "\n",
    "        "
   ]
  },
  {
   "cell_type": "code",
   "execution_count": 22,
   "id": "8fa7625a",
   "metadata": {},
   "outputs": [],
   "source": [
    "# Убираю \\r\n",
    "df_n_compl['text_elem'] = df_n_compl['text_elem'].str.replace('\\r', '')\n",
    "\n",
    "df_n_compl['text_elem'] = df_n_compl['text_elem'].str.replace('^[(\\\\n)\\\\t ]+','', regex=True)"
   ]
  },
  {
   "cell_type": "code",
   "execution_count": 23,
   "id": "c01f72d1",
   "metadata": {},
   "outputs": [],
   "source": [
    "df_raw_p['text_elem'] = df_raw_p['text_elem'].str.replace('[0-9]* Comments', '')"
   ]
  },
  {
   "cell_type": "code",
   "execution_count": 24,
   "id": "483f7d2e",
   "metadata": {},
   "outputs": [],
   "source": [
    "# Сплит строки\n",
    "df_n_compl['text_elem'] = df_n_compl['text_elem'].apply(lambda x: re.split(r\"(\\n)\", x))\n",
    "\n",
    "# Ограничивает длину\n",
    "df_n_compl['text_elem'] = df_n_compl['text_elem'].apply(adj_lim)\n",
    "\n",
    "# Удаление лишних слов \n",
    "df_n_compl['text_elem'] = df_n_compl['text_elem'].apply(drop_words)\n",
    "\n",
    "df_n_compl['text_elem']= df_n_compl['text_elem'].apply(lambda x: ''.join(x))"
   ]
  },
  {
   "cell_type": "code",
   "execution_count": 25,
   "id": "8c5635ad",
   "metadata": {},
   "outputs": [],
   "source": [
    "# Удаление \\n в конце текста\n",
    "df_n_compl['text_elem'] = df_n_compl['text_elem'].str.replace('(\\\\n)+$', '', regex=True)\n",
    "\n",
    "# Замена \\n\\n на меньшее число\n",
    "df_n_compl['text_elem'] = df_n_compl['text_elem'].str.replace('(\\\\n){3,}','\\n\\n', regex=True)\n",
    "\n",
    "df_n_compl['text_elem'] = df_n_compl['text_elem'].str.replace(' {3,}',' ', regex=True)"
   ]
  },
  {
   "cell_type": "code",
   "execution_count": null,
   "id": "f09990eb",
   "metadata": {},
   "outputs": [],
   "source": []
  },
  {
   "cell_type": "markdown",
   "id": "13e3aae1",
   "metadata": {},
   "source": [
    "# Telegram"
   ]
  },
  {
   "cell_type": "markdown",
   "id": "709b9db2",
   "metadata": {},
   "source": [
    "## Добавляем имена музеев"
   ]
  },
  {
   "cell_type": "code",
   "execution_count": 26,
   "id": "fbb508d0",
   "metadata": {},
   "outputs": [],
   "source": [
    "d_mus_names = {}\n",
    "\n",
    "for k in dict_mus:\n",
    "    d_mus_names[dict_mus[k][0]] = k"
   ]
  },
  {
   "cell_type": "code",
   "execution_count": 27,
   "id": "25da6efd",
   "metadata": {
    "scrolled": true
   },
   "outputs": [],
   "source": [
    "df_n_compl['mus_name'] = df_n_compl['site'].map(d_mus_names)\n",
    "\n",
    "df_n_compl['mus_name']= df_n_compl['mus_name'].fillna(df_n_compl['site'])\n"
   ]
  },
  {
   "cell_type": "markdown",
   "id": "e7583d01",
   "metadata": {},
   "source": [
    "## Отправка"
   ]
  },
  {
   "cell_type": "markdown",
   "id": "1e57e556",
   "metadata": {},
   "source": [
    "### Подготовка"
   ]
  },
  {
   "cell_type": "code",
   "execution_count": 28,
   "id": "2ce58554",
   "metadata": {},
   "outputs": [],
   "source": [
    "df_n_compl['teleg_mes'] = '[' + df_n_compl.mus_name + ']' + '(' + df_n_compl.site + ')' + '\\n'\n",
    "\n",
    "df_n_compl['teleg_mes'] = df_n_compl['teleg_mes']+ df_n_compl.text_elem"
   ]
  },
  {
   "cell_type": "code",
   "execution_count": 29,
   "id": "1ae30486",
   "metadata": {
    "scrolled": true
   },
   "outputs": [],
   "source": [
    "df_n_compl = df_n_compl[df_n_compl['text_elem']!='']"
   ]
  },
  {
   "cell_type": "code",
   "execution_count": 30,
   "id": "b28ce01f",
   "metadata": {
    "scrolled": true
   },
   "outputs": [
    {
     "data": {
      "text/plain": [
       "0     [Музейно-выставочный центр г. Иваново ](http:/...\n",
       "1     [Музейно-выставочный центр г. Иваново ](http:/...\n",
       "2     [Музейно-выставочный центр г. Иваново ](http:/...\n",
       "3     [Музейно-выставочный центр г. Иваново ](http:/...\n",
       "4     [Музейно-выставочный центр г. Иваново ](http:/...\n",
       "5     [Музейно-выставочный центр г. Иваново ](http:/...\n",
       "6     [Музейно-выставочный центр г. Иваново ](http:/...\n",
       "7     [Музейно-выставочный центр г. Иваново ](http:/...\n",
       "9     [Музейно-выставочный центр г. Иваново ](http:/...\n",
       "10    [Музейно-выставочный центр г. Иваново ](http:/...\n",
       "11    [Музейно-выставочный центр г. Иваново ](http:/...\n",
       "12    [Музейно-выставочный центр г. Иваново ](http:/...\n",
       "13    [Музейно-выставочный центр г. Иваново ](http:/...\n",
       "14    [Музейно-выставочный центр г. Иваново ](http:/...\n",
       "15    [Музейно-выставочный центр г. Иваново ](http:/...\n",
       "Name: teleg_mes, dtype: object"
      ]
     },
     "execution_count": 30,
     "metadata": {},
     "output_type": "execute_result"
    }
   ],
   "source": [
    "df_n_compl['teleg_mes']"
   ]
  },
  {
   "cell_type": "code",
   "execution_count": 31,
   "id": "e834bfaf",
   "metadata": {},
   "outputs": [],
   "source": [
    "df_mes = df_n_compl[['hash_col', 'teleg_mes']].copy()"
   ]
  },
  {
   "cell_type": "code",
   "execution_count": 32,
   "id": "549bdb33",
   "metadata": {},
   "outputs": [],
   "source": [
    "pd.options.display.max_colwidth = 1000"
   ]
  },
  {
   "cell_type": "code",
   "execution_count": 33,
   "id": "05612368",
   "metadata": {
    "scrolled": true
   },
   "outputs": [
    {
     "data": {
      "text/plain": [
       "(15, 2)"
      ]
     },
     "execution_count": 33,
     "metadata": {},
     "output_type": "execute_result"
    }
   ],
   "source": [
    "df_mes.shape"
   ]
  },
  {
   "cell_type": "code",
   "execution_count": 34,
   "id": "39cd6594",
   "metadata": {
    "scrolled": true
   },
   "outputs": [
    {
     "data": {
      "text/html": [
       "<div>\n",
       "<style scoped>\n",
       "    .dataframe tbody tr th:only-of-type {\n",
       "        vertical-align: middle;\n",
       "    }\n",
       "\n",
       "    .dataframe tbody tr th {\n",
       "        vertical-align: top;\n",
       "    }\n",
       "\n",
       "    .dataframe thead th {\n",
       "        text-align: right;\n",
       "    }\n",
       "</style>\n",
       "<table border=\"1\" class=\"dataframe\">\n",
       "  <thead>\n",
       "    <tr style=\"text-align: right;\">\n",
       "      <th></th>\n",
       "      <th>hash_col</th>\n",
       "      <th>teleg_mes</th>\n",
       "    </tr>\n",
       "  </thead>\n",
       "  <tbody>\n",
       "    <tr>\n",
       "      <th>0</th>\n",
       "      <td>cefff7a54ed52c8c3192570eaa94a489dbcfd4145eb394b4d03e2e691c9cea0c</td>\n",
       "      <td>[Музейно-выставочный центр г. Иваново ](http://www.igikm.ru/sobytiya/novosti/)\\nВ Музее промышленности и искусства будет проходить новое музейное занятие \"По следам мифических существ\" для детей младшего и среднего школьного возраста.</td>\n",
       "    </tr>\n",
       "    <tr>\n",
       "      <th>1</th>\n",
       "      <td>fa7c92bd4c8375998b65ac75fa55a9e18336f8577495002c9b4d2550872b1d0f</td>\n",
       "      <td>[Музейно-выставочный центр г. Иваново ](http://www.igikm.ru/sobytiya/novosti/)\\nУважаемые посетители, планируя визит в музей, обращайте внимание на график работы отделов в праздничные дни!</td>\n",
       "    </tr>\n",
       "    <tr>\n",
       "      <th>2</th>\n",
       "      <td>0d43b20d29c9c7b16e19ef9c9c36f69c666287afc9fe1a5774b099131c9f3149</td>\n",
       "      <td>[Музейно-выставочный центр г. Иваново ](http://www.igikm.ru/sobytiya/novosti/)\\nВ праздничные дни Музейно-выставочный центр ждет ивановцев и гостей города. Для них подготовлена программа новогодних мероприятий.</td>\n",
       "    </tr>\n",
       "    <tr>\n",
       "      <th>3</th>\n",
       "      <td>b2da6679a3a10e747a2af346b7dc913e1a0de91add1063d9a16915bee30fcc3e</td>\n",
       "      <td>[Музейно-выставочный центр г. Иваново ](http://www.igikm.ru/sobytiya/novosti/)\\n26 декабря 1914 года двери Музея редкостей и древностей Д. Г. Бурылина открылись для посетителей. С самого открытия и до настоящего времени Музей остаётся жемчужиной нашего города, которая хранит в себе историю и культуру прошлых веков.</td>\n",
       "    </tr>\n",
       "    <tr>\n",
       "      <th>4</th>\n",
       "      <td>91992f2bf87d199513056459f5446b149f1138686b7816aefcb939bc46e9e5bf</td>\n",
       "      <td>[Музейно-выставочный центр г. Иваново ](http://www.igikm.ru/sobytiya/novosti/)\\n4 января 2024г. в 14:00 авторскую экскурсию по выставке \"Праздничный мир в открытке\" проведет ее куратор Людмила Николаевна Куприянова.</td>\n",
       "    </tr>\n",
       "    <tr>\n",
       "      <th>5</th>\n",
       "      <td>449556a2059658b613004fe3a4cdc2c5bcc5c157d9a45aa76d078f63a0d64317</td>\n",
       "      <td>[Музейно-выставочный центр г. Иваново ](http://www.igikm.ru/sobytiya/novosti/)\\nБаринов Максим Вячеславович, младший научный сотрудник, принял участие в городском конкурсе для одарённой молодежи «Большие надежды».</td>\n",
       "    </tr>\n",
       "    <tr>\n",
       "      <th>6</th>\n",
       "      <td>2887987a0248a53ed8e557f088cfa83b8b1700b273746aeb56513ccd8c051730</td>\n",
       "      <td>[Музейно-выставочный центр г. Иваново ](http://www.igikm.ru/sobytiya/novosti/)\\n23 декабря Музейно-выставочный центр закрыт для посетителей.</td>\n",
       "    </tr>\n",
       "    <tr>\n",
       "      <th>7</th>\n",
       "      <td>ec6069c905ad68cf1d746891a38fddf01202415ea4ae2305e064feb77f825cf2</td>\n",
       "      <td>[Музейно-выставочный центр г. Иваново ](http://www.igikm.ru/sobytiya/novosti/)\\nВ предпраздничные дни - 26, 27 и 28 декабря - Музейно-выставочный центр приглашает на Рождественский лекторий желающих погрузиться в праздничную атмосферу и познакомиться ближе с историей светлого праздника.</td>\n",
       "    </tr>\n",
       "    <tr>\n",
       "      <th>9</th>\n",
       "      <td>1ad1ac2322a83c480c53eccafc32461c3e76d7dad6b23b5c24cf00b980fda788</td>\n",
       "      <td>[Музейно-выставочный центр г. Иваново ](http://www.igikm.ru/sobytiya/novosti/)\\nНа открытии выставки \"Праздничный мир в открытке\" были проведены экскурсия и мастер-класс</td>\n",
       "    </tr>\n",
       "    <tr>\n",
       "      <th>10</th>\n",
       "      <td>10974532d2d39eeecc6dcbce8d4484d42fe408869a2d3a94dfa11863095dc10c</td>\n",
       "      <td>[Музейно-выставочный центр г. Иваново ](http://www.igikm.ru/sobytiya/novosti/)\\nВ Музее ивановского ситца с 14 декабря начинает свою работу выставка \"Сказочные миры И. Я. Билибина\". В экспозиции будут представлены уникальные иллюстрации, открытки и литографии Ивана Билибина из сборников сказок.</td>\n",
       "    </tr>\n",
       "    <tr>\n",
       "      <th>11</th>\n",
       "      <td>c822828d9c6e335b42439d03dcb4fb0afa96e72610b8fe5c539dae268726971a</td>\n",
       "      <td>[Музейно-выставочный центр г. Иваново ](http://www.igikm.ru/sobytiya/novosti/)\\n14 декабря в музее выступил ансамбль аккордеонистов НЕМО, учащихся СОШ № 56.</td>\n",
       "    </tr>\n",
       "    <tr>\n",
       "      <th>12</th>\n",
       "      <td>c78ca33db804b2f901fdbf45c28bdf3322cacd6531d19fa3c3adf7070767d2bd</td>\n",
       "      <td>[Музейно-выставочный центр г. Иваново ](http://www.igikm.ru/sobytiya/novosti/)\\nС 12 декабря в Музее Д. А. Фурманова откроется ежегодная выставка художников-любителей «Созвучие».</td>\n",
       "    </tr>\n",
       "    <tr>\n",
       "      <th>13</th>\n",
       "      <td>246baa57adb2b10e997a24448ec965bc1140a12432fffc57d08639ebeb34611e</td>\n",
       "      <td>[Музейно-выставочный центр г. Иваново ](http://www.igikm.ru/sobytiya/novosti/)\\nС 12 декабря 2023г. по 14 января 2024г. музей приглашает организованные группы школьников младшего и среднего звена от 8 человек на новогоднее занятие.</td>\n",
       "    </tr>\n",
       "    <tr>\n",
       "      <th>14</th>\n",
       "      <td>3db2074d355f5f2d96097ea093ec893d11b974a1da87ead850950c9f821102d6</td>\n",
       "      <td>[Музейно-выставочный центр г. Иваново ](http://www.igikm.ru/sobytiya/novosti/)\\n26 ноября в Музейно-выставочном центре состоялось награждение победителей XVI Городского конкурса-фестиваля национальной и патриотической песни \"Мелодии детских сердец 2023\", организатором которого стал Центр образовательных трендов \"О'мега!\"</td>\n",
       "    </tr>\n",
       "    <tr>\n",
       "      <th>15</th>\n",
       "      <td>a71310cd52aa72111b74de8d07ad0dce2fb4cefce4c17f19d546afb997c16c96</td>\n",
       "      <td>[Музейно-выставочный центр г. Иваново ](http://www.igikm.ru/sobytiya/novosti/)\\nВ Музейно-выставочном центре 23 ноября санитарный день.</td>\n",
       "    </tr>\n",
       "  </tbody>\n",
       "</table>\n",
       "</div>"
      ],
      "text/plain": [
       "                                                            hash_col  \\\n",
       "0   cefff7a54ed52c8c3192570eaa94a489dbcfd4145eb394b4d03e2e691c9cea0c   \n",
       "1   fa7c92bd4c8375998b65ac75fa55a9e18336f8577495002c9b4d2550872b1d0f   \n",
       "2   0d43b20d29c9c7b16e19ef9c9c36f69c666287afc9fe1a5774b099131c9f3149   \n",
       "3   b2da6679a3a10e747a2af346b7dc913e1a0de91add1063d9a16915bee30fcc3e   \n",
       "4   91992f2bf87d199513056459f5446b149f1138686b7816aefcb939bc46e9e5bf   \n",
       "5   449556a2059658b613004fe3a4cdc2c5bcc5c157d9a45aa76d078f63a0d64317   \n",
       "6   2887987a0248a53ed8e557f088cfa83b8b1700b273746aeb56513ccd8c051730   \n",
       "7   ec6069c905ad68cf1d746891a38fddf01202415ea4ae2305e064feb77f825cf2   \n",
       "9   1ad1ac2322a83c480c53eccafc32461c3e76d7dad6b23b5c24cf00b980fda788   \n",
       "10  10974532d2d39eeecc6dcbce8d4484d42fe408869a2d3a94dfa11863095dc10c   \n",
       "11  c822828d9c6e335b42439d03dcb4fb0afa96e72610b8fe5c539dae268726971a   \n",
       "12  c78ca33db804b2f901fdbf45c28bdf3322cacd6531d19fa3c3adf7070767d2bd   \n",
       "13  246baa57adb2b10e997a24448ec965bc1140a12432fffc57d08639ebeb34611e   \n",
       "14  3db2074d355f5f2d96097ea093ec893d11b974a1da87ead850950c9f821102d6   \n",
       "15  a71310cd52aa72111b74de8d07ad0dce2fb4cefce4c17f19d546afb997c16c96   \n",
       "\n",
       "                                                                                                                                                                                                                                                                                                                             teleg_mes  \n",
       "0                                                                                          [Музейно-выставочный центр г. Иваново ](http://www.igikm.ru/sobytiya/novosti/)\\nВ Музее промышленности и искусства будет проходить новое музейное занятие \"По следам мифических существ\" для детей младшего и среднего школьного возраста.   \n",
       "1                                                                                                                                        [Музейно-выставочный центр г. Иваново ](http://www.igikm.ru/sobytiya/novosti/)\\nУважаемые посетители, планируя визит в музей, обращайте внимание на график работы отделов в праздничные дни!   \n",
       "2                                                                                                                   [Музейно-выставочный центр г. Иваново ](http://www.igikm.ru/sobytiya/novosti/)\\nВ праздничные дни Музейно-выставочный центр ждет ивановцев и гостей города. Для них подготовлена программа новогодних мероприятий.  \n",
       "3         [Музейно-выставочный центр г. Иваново ](http://www.igikm.ru/sobytiya/novosti/)\\n26 декабря 1914 года двери Музея редкостей и древностей Д. Г. Бурылина открылись для посетителей. С самого открытия и до настоящего времени Музей остаётся жемчужиной нашего города, которая хранит в себе историю и культуру прошлых веков.  \n",
       "4                                                                                                              [Музейно-выставочный центр г. Иваново ](http://www.igikm.ru/sobytiya/novosti/)\\n4 января 2024г. в 14:00 авторскую экскурсию по выставке \"Праздничный мир в открытке\" проведет ее куратор Людмила Николаевна Куприянова.  \n",
       "5                                                                                                                [Музейно-выставочный центр г. Иваново ](http://www.igikm.ru/sobytiya/novosti/)\\nБаринов Максим Вячеславович, младший научный сотрудник, принял участие в городском конкурсе для одарённой молодежи «Большие надежды».  \n",
       "6                                                                                                                                                                                         [Музейно-выставочный центр г. Иваново ](http://www.igikm.ru/sobytiya/novosti/)\\n23 декабря Музейно-выставочный центр закрыт для посетителей.  \n",
       "7                                     [Музейно-выставочный центр г. Иваново ](http://www.igikm.ru/sobytiya/novosti/)\\nВ предпраздничные дни - 26, 27 и 28 декабря - Музейно-выставочный центр приглашает на Рождественский лекторий желающих погрузиться в праздничную атмосферу и познакомиться ближе с историей светлого праздника.   \n",
       "9                                                                                                                                                            [Музейно-выставочный центр г. Иваново ](http://www.igikm.ru/sobytiya/novosti/)\\nНа открытии выставки \"Праздничный мир в открытке\" были проведены экскурсия и мастер-класс  \n",
       "10                            [Музейно-выставочный центр г. Иваново ](http://www.igikm.ru/sobytiya/novosti/)\\nВ Музее ивановского ситца с 14 декабря начинает свою работу выставка \"Сказочные миры И. Я. Билибина\". В экспозиции будут представлены уникальные иллюстрации, открытки и литографии Ивана Билибина из сборников сказок.   \n",
       "11                                                                                                                                                                       [Музейно-выставочный центр г. Иваново ](http://www.igikm.ru/sobytiya/novosti/)\\n14 декабря в музее выступил ансамбль аккордеонистов НЕМО, учащихся СОШ № 56.   \n",
       "12                                                                                                                                                 [Музейно-выставочный центр г. Иваново ](http://www.igikm.ru/sobytiya/novosti/)\\nС 12 декабря в Музее Д. А. Фурманова откроется ежегодная выставка художников-любителей «Созвучие».   \n",
       "13                                                                                             [Музейно-выставочный центр г. Иваново ](http://www.igikm.ru/sobytiya/novosti/)\\nС 12 декабря 2023г. по 14 января 2024г. музей приглашает организованные группы школьников младшего и среднего звена от 8 человек на новогоднее занятие.  \n",
       "14  [Музейно-выставочный центр г. Иваново ](http://www.igikm.ru/sobytiya/novosti/)\\n26 ноября в Музейно-выставочном центре состоялось награждение победителей XVI Городского конкурса-фестиваля национальной и патриотической песни \"Мелодии детских сердец 2023\", организатором которого стал Центр образовательных трендов \"О'мега!\"  \n",
       "15                                                                                                                                                                                             [Музейно-выставочный центр г. Иваново ](http://www.igikm.ru/sobytiya/novosti/)\\nВ Музейно-выставочном центре 23 ноября санитарный день.  "
      ]
     },
     "execution_count": 34,
     "metadata": {},
     "output_type": "execute_result"
    }
   ],
   "source": [
    "df_mes"
   ]
  },
  {
   "cell_type": "markdown",
   "id": "4c45f61e",
   "metadata": {},
   "source": [
    "### Исполнение"
   ]
  },
  {
   "cell_type": "code",
   "execution_count": 36,
   "id": "80c42795",
   "metadata": {
    "scrolled": true
   },
   "outputs": [],
   "source": [
    "# Убирайю символ не разрывного пробела\n",
    "df_mes['teleg_mes'] = df_mes['teleg_mes'].str.replace('\\xa0', ' ', regex=True)"
   ]
  },
  {
   "cell_type": "code",
   "execution_count": 37,
   "id": "3c4d7ea4",
   "metadata": {},
   "outputs": [],
   "source": [
    "execute_session = pd.to_datetime('now')\n",
    "\n",
    "\n",
    "# Замените 'YOUR_BOT_TOKEN' на токен вашего бота\n",
    "bot = telebot.TeleBot(BOT_TOKEN)\n",
    "\n",
    "# Замените 'YOUR_CHAT_ID' на ID чата, куда вы хотите отправить сообщение\n",
    "chat_id = CHAT_ID\n",
    "\n",
    "PAUSE_ITER = 20\n",
    "PAUSE_TIME = 50\n",
    "\n",
    "\n",
    "# Ожидание перд запуском\n",
    "# time.sleep(PAUSE_TIME)\n",
    "for num, tuple_mes in enumerate(df_mes.itertuples()):\n",
    "    \n",
    "    try:\n",
    "        # Отправка сообщения\n",
    "        bot.send_message(chat_id, tuple_mes.teleg_mes, parse_mode='Markdown')\n",
    "    \n",
    "        # Сохранение успешных сообщений\n",
    "        df = pd.DataFrame([tuple_mes]).drop(columns='Index')\n",
    "\n",
    "        df['date_stamp'] = execute_session\n",
    "\n",
    "        if num % 19==0 and num!=0:\n",
    "            print('Ожидание')\n",
    "            time.sleep(PAUSE_TIME)\n",
    "\n",
    "        df.to_sql('send_telegram', conn, if_exists='append', index=False)\n",
    "    except Exception as send_error:\n",
    "        print(num, send_error, tuple_mes)\n",
    "        df_error = pd.DataFrame([[tuple_mes.hash_col, num,send_error, \n",
    "                                              tuple_mes.teleg_mes]], columns=['hash_col','num', 'error', 'teleg_mes'])\n",
    "\n",
    "        df_error.insert(0,'date_time', execute_session)\n",
    "\n",
    "        df_error.to_sql('send_error', conn, index=False, if_exists='append')\n",
    "\n",
    "    \n",
    "    \n"
   ]
  },
  {
   "cell_type": "code",
   "execution_count": null,
   "id": "a7e26d1e",
   "metadata": {},
   "outputs": [],
   "source": []
  },
  {
   "cell_type": "code",
   "execution_count": null,
   "id": "847fa185",
   "metadata": {},
   "outputs": [],
   "source": []
  },
  {
   "cell_type": "code",
   "execution_count": null,
   "id": "a7a4f7cd",
   "metadata": {},
   "outputs": [],
   "source": []
  },
  {
   "cell_type": "code",
   "execution_count": null,
   "id": "f3b77356",
   "metadata": {},
   "outputs": [],
   "source": []
  },
  {
   "cell_type": "code",
   "execution_count": null,
   "id": "a1c8f552",
   "metadata": {},
   "outputs": [],
   "source": []
  }
 ],
 "metadata": {
  "kernelspec": {
   "display_name": "Python 3 (ipykernel)",
   "language": "python",
   "name": "python3"
  },
  "language_info": {
   "codemirror_mode": {
    "name": "ipython",
    "version": 3
   },
   "file_extension": ".py",
   "mimetype": "text/x-python",
   "name": "python",
   "nbconvert_exporter": "python",
   "pygments_lexer": "ipython3",
   "version": "3.11.5"
  },
  "toc": {
   "base_numbering": 1,
   "nav_menu": {},
   "number_sections": true,
   "sideBar": true,
   "skip_h1_title": false,
   "title_cell": "Table of Contents",
   "title_sidebar": "Contents",
   "toc_cell": false,
   "toc_position": {
    "height": "calc(100% - 180px)",
    "left": "10px",
    "top": "150px",
    "width": "197.859px"
   },
   "toc_section_display": true,
   "toc_window_display": false
  },
  "varInspector": {
   "cols": {
    "lenName": 16,
    "lenType": 16,
    "lenVar": 40
   },
   "kernels_config": {
    "python": {
     "delete_cmd_postfix": "",
     "delete_cmd_prefix": "del ",
     "library": "var_list.py",
     "varRefreshCmd": "print(var_dic_list())"
    },
    "r": {
     "delete_cmd_postfix": ") ",
     "delete_cmd_prefix": "rm(",
     "library": "var_list.r",
     "varRefreshCmd": "cat(var_dic_list()) "
    }
   },
   "types_to_exclude": [
    "module",
    "function",
    "builtin_function_or_method",
    "instance",
    "_Feature"
   ],
   "window_display": false
  }
 },
 "nbformat": 4,
 "nbformat_minor": 5
}
