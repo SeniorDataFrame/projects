{
 "cells": [
  {
   "cell_type": "code",
   "execution_count": 3,
   "id": "b67466bc",
   "metadata": {
    "ExecuteTime": {
     "end_time": "2023-11-06T18:25:10.973650700Z",
     "start_time": "2023-11-06T18:25:10.321487100Z"
    }
   },
   "outputs": [],
   "source": [
    "import requests\n",
    "import pandas as pd\n",
    "from bs4 import BeautifulSoup\n",
    "from lxml import etree\n",
    "\n",
    "import requests\n",
    "from lxml import html\n"
   ]
  },
  {
   "cell_type": "markdown",
   "id": "1e2ceb76",
   "metadata": {},
   "source": [
    "## Функции"
   ]
  },
  {
   "cell_type": "code",
   "execution_count": 36,
   "id": "878c1a30",
   "metadata": {},
   "outputs": [],
   "source": [
    "def get_div(tree, xpath_format, div_mode=True):\n",
    "    list_divs = []\n",
    "\n",
    "\n",
    "    # Выбор элемента\n",
    "    selected_element = tree.xpath(xpath_format)\n",
    "\n",
    "\n",
    "    for div in selected_element:\n",
    "        # Получение HTML-разметки только для выбранного элемента\n",
    "        html_representation = html.tostring(div, encoding='unicode', method='html')\n",
    "\n",
    "        list_divs.append(html_representation)\n",
    "    return list_divs\n"
   ]
  },
  {
   "cell_type": "markdown",
   "id": "39cd3fe6",
   "metadata": {},
   "source": [
    "# Main"
   ]
  },
  {
   "cell_type": "code",
   "execution_count": 5,
   "id": "a04cf604",
   "metadata": {},
   "outputs": [],
   "source": [
    "dict_info = {}\n",
    "\n",
    "list_sites  = ['https://victorymuseum.ru/playbill/', \n",
    "               'https://blokadamus.ru/музей-обороны-и-блокады-ленинграда/события/',\n",
    "               'http://www.cmaf.ru/,\n",
    "               'https://1418museum.ru/news/',\n",
    "               'https://1812panorama.ru/afisha',\n",
    "               'https://www.borodino.ru/category/novosti/page/4/'\n",
    "               \n",
    "              ]\n",
    "\n",
    "list_xpaths = ['//div[@class=\"oblique-items\"]//div[@class=\"item\"]', \n",
    "               '//*[@class=\"elementor-post__card\"]', \n",
    "               '//*[@class=\"reg-news\"]//p[@class=\"news-item\"]/following-sibling::*[1]',\n",
    "               '//*[@class=\"newsItem__contains\"]',\n",
    "               '//*[@class=\"field-more-title\"]',\n",
    "               '//*[@class=\"item-archive\"]'\n",
    "              \n",
    "              ]\n",
    "\n",
    "\n",
    "for site, xpath  in zip(list_sites, list_xpaths):\n",
    "    response = requests.get(site)\n",
    "\n",
    "    if response.status_code == 200:\n",
    "        # Создаем объект дерева HTML из содержимого ответа\n",
    "        tree = html.fromstring(response.text)\n",
    "        \n",
    "        \n",
    "        target_obj = get_div(tree, xpath)  \n",
    "        dict_info[site] = target_obj\n",
    "        \n",
    "        \n",
    "    else:\n",
    "        print(f'Ошибка статуса {response.status_code} для {sites}')"
   ]
  },
  {
   "cell_type": "code",
   "execution_count": 68,
   "id": "33b400d5",
   "metadata": {},
   "outputs": [],
   "source": [
    "dict_info = {}\n",
    "\n",
    "list_sites  = ['https://www.borodino.ru/category/novosti/page/4/']\n",
    "\n",
    "list_xpaths = ['//*[@class=\"item-archive\"]']\n",
    "\n",
    "\n",
    "for site, xpath  in zip(list_sites, list_xpaths):\n",
    "    response = requests.get(site)\n",
    "\n",
    "    if response.status_code == 200:\n",
    "        # Создаем объект дерева HTML из содержимого ответа\n",
    "        tree = html.fromstring(response.text)\n",
    "        \n",
    "        \n",
    "        target_obj = get_div(tree, xpath)  \n",
    "        dict_info[site] = target_obj\n",
    "        \n",
    "        \n",
    "    else:\n",
    "        print(f'Ошибка статуса {response.status_code} для {sites}')"
   ]
  },
  {
   "cell_type": "code",
   "execution_count": 69,
   "id": "d2a3501f",
   "metadata": {},
   "outputs": [
    {
     "data": {
      "text/plain": [
       "[]"
      ]
     },
     "execution_count": 69,
     "metadata": {},
     "output_type": "execute_result"
    }
   ],
   "source": [
    "dict_info[site]"
   ]
  },
  {
   "cell_type": "code",
   "execution_count": null,
   "id": "980a9ecd",
   "metadata": {},
   "outputs": [],
   "source": []
  },
  {
   "cell_type": "code",
   "execution_count": 65,
   "id": "ca700488",
   "metadata": {
    "scrolled": true
   },
   "outputs": [
    {
     "name": "stdout",
     "output_type": "stream",
     "text": [
      "<div class=\"field-more-title\">\n",
      "    <div class=\"field-title\"><p>Навигатор Победы</p>\n",
      "</div>\n",
      "    <div class=\"field-type\">Музейное мероприятие</div>\n",
      "    <div class=\"field-date\"><span class=\"date-display-range\">с <span property=\"dc:date\" datatype=\"xsd:dateTime\" content=\"2023-11-08T00:00:00+03:00\" class=\"date-display-start\">08.11.2023</span> по <span property=\"dc:date\" datatype=\"xsd:dateTime\" content=\"2023-12-28T00:00:00+03:00\" class=\"date-display-end\">28.12.2023</span></span></div>\n",
      "  </div>\n",
      "  \n"
     ]
    }
   ],
   "source": [
    "print(dict_info[site][0])"
   ]
  },
  {
   "cell_type": "code",
   "execution_count": 59,
   "id": "14c24114",
   "metadata": {},
   "outputs": [
    {
     "data": {
      "text/plain": [
       "'<!DOCTYPE html>\\n<html>\\n<head>\\n  <meta name=\"viewport\" content=\"width=device-width, initial-scale=1, maximum-scale=1, user-scalable=no\">\\n  <meta charset=\"utf-8\" />\\n<link rel=\"shortcut icon\" href=\"https://1812panorama.ru/favicon.ico\" type=\"image/vnd.microsoft.icon\" />\\n<meta name=\"generator\" content=\"Drupal 7 (https://www.drupal.org)\" />\\n<link rel=\"canonical\" href=\"https://1812panorama.ru/afisha\" />\\n<link rel=\"shortlink\" href=\"https://1812panorama.ru/afisha\" />\\n  <link rel=\"apple-touch-icon\" sizes=\"180x180\" href=\"/apple-touch-icon.png\">\\n  <link rel=\"icon\" type=\"image/png\" sizes=\"32x32\" href=\"/favicon-32x32.png\">\\n  <link rel=\"icon\" type=\"image/png\" sizes=\"16x16\" href=\"/favicon-16x16.png\">\\n  <link rel=\"manifest\" href=\"/manifest.json\">\\n  <link rel=\"mask-icon\" href=\"/safari-pinned-tab.svg\" color=\"#5bbad5\">\\n  <meta name=\"theme-color\" content=\"#ffffff\">\\n  <title>Афиша | Музей-панорама «Бородинская битва»</title>\\n  <style media=\"all\">\\n@import url(\"https://1812panorama.ru/modules/system/system.base.css?rzwwud\");\\n@import url(\"https://1812panorama.ru/modules/system/system.menus.css?rzwwud\");\\n@import url(\"https://1812panorama.ru/modules/system/system.messages.css?rzwwud\");\\n@import url(\"https://1812panorama.ru/modules/system/system.theme.css?rzwwud\");\\n</style>\\n<style media=\"all\">\\n@import url(\"https://1812panorama.ru/sites/all/modules/jquery_update/replace/ui/themes/base/minified/jquery.ui.core.min.css?rzwwud\");\\n@import url(\"https://1812panorama.ru/sites/all/modules/jquery_update/replace/ui/themes/base/minified/jquery.ui.theme.min.css?rzwwud\");\\n@import url(\"https://1812panorama.ru/sites/all/modules/jquery_update/replace/ui/themes/base/minified/jquery.ui.datepicker.min.css?rzwwud\");\\n@import url(\"https://1812panorama.ru/sites/all/modules/date/date_popup/themes/jquery.timeentry.css?rzwwud\");\\n</style>\\n<style media=\"all\">\\n@import url(\"https://1812panorama.ru/sites/all/modules/date/date_repeat_field/date_repeat_field.css?rzwwud\");\\n@import url(\"https://1812panorama.ru/modules/field/theme/field.css?rzwwud\");\\n@import url(\"https://1812panorama.ru/modules/node/node.css?rzwwud\");\\n@import url(\"https://1812panorama.ru/modules/search/search.css?rzwwud\");\\n@import url(\"https://1812panorama.ru/modules/user/user.css?rzwwud\");\\n@import url(\"https://1812panorama.ru/sites/all/modules/video_filter/video_filter.css?rzwwud\");\\n@import url(\"https://1812panorama.ru/sites/all/modules/views/css/views.css?rzwwud\");\\n@import url(\"https://1812panorama.ru/sites/all/modules/ckeditor/css/ckeditor.css?rzwwud\");\\n</style>\\n<style media=\"all\">\\n@import url(\"https://1812panorama.ru/sites/all/modules/colorbox/styles/plain/colorbox_style.css?rzwwud\");\\n@import url(\"https://1812panorama.ru/sites/all/modules/ctools/css/ctools.css?rzwwud\");\\n@import url(\"https://1812panorama.ru/sites/all/modules/panels/css/panels.css?rzwwud\");\\n@import url(\"https://1812panorama.ru/sites/all/modules/date/date_popup/themes/datepicker.1.7.css?rzwwud\");\\n</style>\\n<link rel=\"stylesheet\" href=\"https://cdnjs.cloudflare.com/ajax/libs/font-awesome/4.4.0/css/font-awesome.min.css\" media=\"all\" />\\n<style media=\"all\">\\n@import url(\"https://1812panorama.ru/sites/all/modules/tb_megamenu/css/bootstrap.css?rzwwud\");\\n@import url(\"https://1812panorama.ru/sites/all/modules/tb_megamenu/css/base.css?rzwwud\");\\n@import url(\"https://1812panorama.ru/sites/all/modules/tb_megamenu/css/default.css?rzwwud\");\\n@import url(\"https://1812panorama.ru/sites/all/modules/tb_megamenu/css/compatibility.css?rzwwud\");\\n</style>\\n<style media=\"all\">\\n<!--/*--><![CDATA[/*><!--*/\\n.tb-megamenu.animate .mega > .mega-dropdown-menu,.tb-megamenu.animate.slide .mega > .mega-dropdown-menu > div{transition-delay:100ms;-webkit-transition-delay:100ms;-ms-transition-delay:100ms;-o-transition-delay:100ms;transition-duration:200ms;-webkit-transition-duration:200ms;-ms-transition-duration:200ms;-o-transition-duration:200ms;}\\n\\n/*]]>*/-->\\n</style>\\n<style media=\"all\">\\n@import url(\"https://1812panorama.ru/sites/all/themes/mpbb/css/normalize.css?rzwwud\");\\n@import url(\"https://1812panorama.ru/sites/all/themes/mpbb/css/bootstrap.min.css?rzwwud\");\\n@import url(\"https://1812panorama.ru/sites/all/themes/mpbb/css/font-awesome.min.css?rzwwud\");\\n@import url(\"https://1812panorama.ru/sites/all/themes/mpbb/css/myriad-pro.css?rzwwud\");\\n@import url(\"https://1812panorama.ru/sites/all/themes/mpbb/css/jquery-ui.theme.css?rzwwud\");\\n@import url(\"https://1812panorama.ru/sites/all/themes/mpbb/css/style.css?rzwwud\");\\n@import url(\"https://1812panorama.ru/sites/all/themes/mpbb/css/tizer_block.css?rzwwud\");\\n</style>\\n  <script src=\"https://1812panorama.ru/sites/all/modules/jquery_update/replace/jquery/1.10/jquery.min.js?v=1.10.2\"></script>\\n<script src=\"https://1812panorama.ru/misc/jquery-extend-3.4.0.js?v=1.10.2\"></script>\\n<script src=\"https://1812panorama.ru/misc/jquery-html-prefilter-3.5.0-backport.js?v=1.10.2\"></script>\\n<script src=\"https://1812panorama.ru/misc/jquery.once.js?v=1.2\"></script>\\n<script src=\"https://1812panorama.ru/misc/drupal.js?rzwwud\"></script>\\n<script src=\"https://1812panorama.ru/sites/all/modules/jquery_update/replace/ui/ui/minified/jquery.ui.core.min.js?v=1.10.2\"></script>\\n<script src=\"https://1812panorama.ru/sites/all/modules/jquery_update/replace/ui/external/jquery.cookie.js?v=67fb34f6a866c40d0570\"></script>\\n<script src=\"https://1812panorama.ru/sites/all/modules/jquery_update/replace/misc/jquery.form.min.js?v=2.69\"></script>\\n<script src=\"https://1812panorama.ru/sites/all/modules/jquery_update/replace/ui/ui/minified/jquery.ui.datepicker.min.js?v=1.10.2\"></script>\\n<script src=\"https://1812panorama.ru/misc/ui/jquery.ui.datepicker-1.13.0-backport.js?v=1.10.2\"></script>\\n<script src=\"https://1812panorama.ru/modules/locale/locale.datepicker.js?v=1.10.2\"></script>\\n<script src=\"https://1812panorama.ru/sites/all/modules/date/date_popup/jquery.timeentry.pack.js?v=1.4.7\"></script>\\n<script src=\"https://1812panorama.ru/misc/form-single-submit.js?v=7.98\"></script>\\n<script src=\"https://1812panorama.ru/misc/ajax.js?v=7.98\"></script>\\n<script src=\"https://1812panorama.ru/sites/all/modules/jquery_update/js/jquery_update.js?v=0.0.1\"></script>\\n<script src=\"https://1812panorama.ru/sites/all/modules/admin_menu/admin_devel/admin_devel.js?rzwwud\"></script>\\n<script src=\"https://1812panorama.ru/sites/all/modules/entityreference/js/entityreference.js?rzwwud\"></script>\\n<script src=\"https://1812panorama.ru/sites/default/files/languages/ru_j1tQrsyRACilsrvNks_lHJzBT1aWKINflnG3KGQsR_o.js?rzwwud\"></script>\\n<script src=\"https://1812panorama.ru/sites/all/libraries/colorbox/jquery.colorbox-min.js?rzwwud\"></script>\\n<script src=\"https://1812panorama.ru/sites/all/modules/colorbox/js/colorbox.js?rzwwud\"></script>\\n<script src=\"https://1812panorama.ru/sites/all/modules/colorbox/styles/plain/colorbox_style.js?rzwwud\"></script>\\n<script src=\"https://1812panorama.ru/sites/all/modules/date/date_popup/date_popup.js?rzwwud\"></script>\\n<script src=\"https://1812panorama.ru/sites/all/modules/ctools/js/auto-submit.js?rzwwud\"></script>\\n<script src=\"https://1812panorama.ru/sites/all/modules/views_load_more/views_load_more.js?rzwwud\"></script>\\n<script src=\"https://1812panorama.ru/sites/all/modules/views/js/base.js?rzwwud\"></script>\\n<script src=\"https://1812panorama.ru/misc/progress.js?v=7.98\"></script>\\n<script src=\"https://1812panorama.ru/sites/all/modules/views/js/ajax_view.js?rzwwud\"></script>\\n<script src=\"https://1812panorama.ru/sites/all/modules/tb_megamenu/js/tb-megamenu-frontend.js?rzwwud\"></script>\\n<script src=\"https://1812panorama.ru/sites/all/modules/tb_megamenu/js/tb-megamenu-touch.js?rzwwud\"></script>\\n<script src=\"https://1812panorama.ru/sites/all/themes/mpbb/js/jquery.min.js?rzwwud\"></script>\\n<script src=\"https://1812panorama.ru/sites/all/themes/mpbb/js/myscript.js?rzwwud\"></script>\\n<script>\\njQuery.extend(Drupal.settings, {\"basePath\":\"\\\\/\",\"pathPrefix\":\"\",\"setHasJsCookie\":0,\"ajaxPageState\":{\"theme\":\"mpbb\",\"theme_token\":\"t2MjTOJ8fh3Ngpqim_gs_TCkOANTfv2OSQaETVWdwQI\",\"jquery_version\":\"1.10\",\"js\":{\"sites\\\\/all\\\\/modules\\\\/jquery_update\\\\/replace\\\\/jquery\\\\/1.10\\\\/jquery.min.js\":1,\"misc\\\\/jquery-extend-3.4.0.js\":1,\"misc\\\\/jquery-html-prefilter-3.5.0-backport.js\":1,\"misc\\\\/jquery.once.js\":1,\"misc\\\\/drupal.js\":1,\"sites\\\\/all\\\\/modules\\\\/jquery_update\\\\/replace\\\\/ui\\\\/ui\\\\/minified\\\\/jquery.ui.core.min.js\":1,\"sites\\\\/all\\\\/modules\\\\/jquery_update\\\\/replace\\\\/ui\\\\/external\\\\/jquery.cookie.js\":1,\"sites\\\\/all\\\\/modules\\\\/jquery_update\\\\/replace\\\\/misc\\\\/jquery.form.min.js\":1,\"sites\\\\/all\\\\/modules\\\\/jquery_update\\\\/replace\\\\/ui\\\\/ui\\\\/minified\\\\/jquery.ui.datepicker.min.js\":1,\"misc\\\\/ui\\\\/jquery.ui.datepicker-1.13.0-backport.js\":1,\"modules\\\\/locale\\\\/locale.datepicker.js\":1,\"sites\\\\/all\\\\/modules\\\\/date\\\\/date_popup\\\\/jquery.timeentry.pack.js\":1,\"misc\\\\/form-single-submit.js\":1,\"misc\\\\/ajax.js\":1,\"sites\\\\/all\\\\/modules\\\\/jquery_update\\\\/js\\\\/jquery_update.js\":1,\"sites\\\\/all\\\\/modules\\\\/admin_menu\\\\/admin_devel\\\\/admin_devel.js\":1,\"sites\\\\/all\\\\/modules\\\\/entityreference\\\\/js\\\\/entityreference.js\":1,\"public:\\\\/\\\\/languages\\\\/ru_j1tQrsyRACilsrvNks_lHJzBT1aWKINflnG3KGQsR_o.js\":1,\"sites\\\\/all\\\\/libraries\\\\/colorbox\\\\/jquery.colorbox-min.js\":1,\"sites\\\\/all\\\\/modules\\\\/colorbox\\\\/js\\\\/colorbox.js\":1,\"sites\\\\/all\\\\/modules\\\\/colorbox\\\\/styles\\\\/plain\\\\/colorbox_style.js\":1,\"sites\\\\/all\\\\/modules\\\\/date\\\\/date_popup\\\\/date_popup.js\":1,\"sites\\\\/all\\\\/modules\\\\/ctools\\\\/js\\\\/auto-submit.js\":1,\"sites\\\\/all\\\\/modules\\\\/views_load_more\\\\/views_load_more.js\":1,\"sites\\\\/all\\\\/modules\\\\/views\\\\/js\\\\/base.js\":1,\"misc\\\\/progress.js\":1,\"sites\\\\/all\\\\/modules\\\\/views\\\\/js\\\\/ajax_view.js\":1,\"sites\\\\/all\\\\/modules\\\\/tb_megamenu\\\\/js\\\\/tb-megamenu-frontend.js\":1,\"sites\\\\/all\\\\/modules\\\\/tb_megamenu\\\\/js\\\\/tb-megamenu-touch.js\":1,\"sites\\\\/all\\\\/themes\\\\/mpbb\\\\/js\\\\/jquery.min.js\":1,\"sites\\\\/all\\\\/themes\\\\/mpbb\\\\/js\\\\/myscript.js\":1},\"css\":{\"modules\\\\/system\\\\/system.base.css\":1,\"modules\\\\/system\\\\/system.menus.css\":1,\"modules\\\\/system\\\\/system.messages.css\":1,\"modules\\\\/system\\\\/system.theme.css\":1,\"misc\\\\/ui\\\\/jquery.ui.core.css\":1,\"misc\\\\/ui\\\\/jquery.ui.theme.css\":1,\"misc\\\\/ui\\\\/jquery.ui.datepicker.css\":1,\"sites\\\\/all\\\\/modules\\\\/date\\\\/date_popup\\\\/themes\\\\/jquery.timeentry.css\":1,\"sites\\\\/all\\\\/modules\\\\/date\\\\/date_repeat_field\\\\/date_repeat_field.css\":1,\"modules\\\\/field\\\\/theme\\\\/field.css\":1,\"modules\\\\/node\\\\/node.css\":1,\"modules\\\\/search\\\\/search.css\":1,\"modules\\\\/user\\\\/user.css\":1,\"sites\\\\/all\\\\/modules\\\\/video_filter\\\\/video_filter.css\":1,\"sites\\\\/all\\\\/modules\\\\/views\\\\/css\\\\/views.css\":1,\"sites\\\\/all\\\\/modules\\\\/ckeditor\\\\/css\\\\/ckeditor.css\":1,\"sites\\\\/all\\\\/modules\\\\/colorbox\\\\/styles\\\\/plain\\\\/colorbox_style.css\":1,\"sites\\\\/all\\\\/modules\\\\/ctools\\\\/css\\\\/ctools.css\":1,\"sites\\\\/all\\\\/modules\\\\/panels\\\\/css\\\\/panels.css\":1,\"sites\\\\/all\\\\/modules\\\\/date\\\\/date_popup\\\\/themes\\\\/datepicker.1.7.css\":1,\"https:\\\\/\\\\/cdnjs.cloudflare.com\\\\/ajax\\\\/libs\\\\/font-awesome\\\\/4.4.0\\\\/css\\\\/font-awesome.min.css\":1,\"sites\\\\/all\\\\/modules\\\\/tb_megamenu\\\\/css\\\\/bootstrap.css\":1,\"sites\\\\/all\\\\/modules\\\\/tb_megamenu\\\\/css\\\\/base.css\":1,\"sites\\\\/all\\\\/modules\\\\/tb_megamenu\\\\/css\\\\/default.css\":1,\"sites\\\\/all\\\\/modules\\\\/tb_megamenu\\\\/css\\\\/compatibility.css\":1,\"0\":1,\"sites\\\\/all\\\\/themes\\\\/mpbb\\\\/css\\\\/normalize.css\":1,\"sites\\\\/all\\\\/themes\\\\/mpbb\\\\/css\\\\/bootstrap.min.css\":1,\"sites\\\\/all\\\\/themes\\\\/mpbb\\\\/css\\\\/font-awesome.min.css\":1,\"sites\\\\/all\\\\/themes\\\\/mpbb\\\\/css\\\\/myriad-pro.css\":1,\"sites\\\\/all\\\\/themes\\\\/mpbb\\\\/css\\\\/jquery-ui.theme.css\":1,\"sites\\\\/all\\\\/themes\\\\/mpbb\\\\/css\\\\/style.css\":1,\"sites\\\\/all\\\\/themes\\\\/mpbb\\\\/css\\\\/tizer_block.css\":1}},\"colorbox\":{\"opacity\":\"0.85\",\"current\":\"{current} \\\\u0438\\\\u0437 {total}\",\"previous\":\"\\\\u00ab \\\\u041f\\\\u0440\\\\u0435\\\\u0434\\\\u044b\\\\u0434\\\\u0443\\\\u0449\\\\u0438\\\\u0439\",\"next\":\"\\\\u0421\\\\u043b\\\\u0435\\\\u0434\\\\u0443\\\\u044e\\\\u0449\\\\u0438\\\\u0439 \\\\u00bb\",\"close\":\"\\\\u0417\\\\u0430\\\\u043a\\\\u0440\\\\u044b\\\\u0442\\\\u044c\",\"maxWidth\":\"98%\",\"maxHeight\":\"98%\",\"fixed\":true,\"mobiledetect\":true,\"mobiledevicewidth\":\"319px\",\"file_public_path\":\"\\\\/sites\\\\/default\\\\/files\",\"specificPagesDefaultValue\":\"admin*\\\\nimagebrowser*\\\\nimg_assist*\\\\nimce*\\\\nnode\\\\/add\\\\/*\\\\nnode\\\\/*\\\\/edit\\\\nprint\\\\/*\\\\nprintpdf\\\\/*\\\\nsystem\\\\/ajax\\\\nsystem\\\\/ajax\\\\/*\"},\"video_filter\":{\"url\":{\"ckeditor\":\"\\\\/video_filter\\\\/dashboard\\\\/ckeditor\"},\"instructions_url\":\"\\\\/video_filter\\\\/instructions\",\"modulepath\":\"sites\\\\/all\\\\/modules\\\\/video_filter\"},\"jquery\":{\"ui\":{\"datepicker\":{\"isRTL\":false,\"firstDay\":\"1\"}}},\"datePopup\":{\"edit-between-date-filter-value-datepicker-popup-0\":{\"func\":\"datepicker\",\"settings\":{\"changeMonth\":true,\"changeYear\":true,\"autoPopUp\":\"focus\",\"closeAtTop\":false,\"speed\":\"immediate\",\"firstDay\":1,\"dateFormat\":\"dd.mm.yy\",\"yearRange\":\"-3:+3\",\"fromTo\":false,\"defaultDate\":\"0y\"}}},\"urlIsAjaxTrusted\":{\"\\\\/afisha\":true,\"\\\\/views\\\\/ajax\":true},\"views\":{\"ajax_path\":\"\\\\/views\\\\/ajax\",\"ajaxViews\":{\"views_dom_id:f12a507e0fd8e1b624f5e79aa1d2d51a\":{\"view_name\":\"exhibitions\",\"view_display_id\":\"page_1\",\"view_args\":\"\",\"view_path\":\"afisha\",\"view_base_path\":\"afisha\",\"view_dom_id\":\"f12a507e0fd8e1b624f5e79aa1d2d51a\",\"pager_element\":0}}},\"better_exposed_filters\":{\"views\":{\"exhibitions\":{\"displays\":{\"page_1\":{\"filters\":{\"between_date_filter\":{\"required\":false}}}}},\"adress_and_time\":{\"displays\":{\"block\":{\"filters\":[]},\"block_3\":{\"filters\":[]}}}}}});\\n</script>\\n</head>\\n<body class=\"html not-front not-logged-in no-sidebars page-afisha\" >\\n  <!--LiveInternet counter--><script type=\"text/javascript\"><!--\\n  new Image().src = \"//counter.yadro.ru/hit?r\"+\\n  escape(document.referrer)+((typeof(screen)==\"undefined\")?\"\":\\n  \";s\"+screen.width+\"*\"+screen.height+\"*\"+(screen.colorDepth?\\n  screen.colorDepth:screen.pixelDepth))+\";u\"+escape(document.URL)+\\n  \";\"+Math.random();//--></script><!--/LiveInternet-->\\n  \\n  <!--Rating@Mail.ru counter-->\\n<script language=\"javascript\"><!--\\nd=document;var a=\\'\\';a+=\\';r=\\'+escape(d.referrer);js=10;//--></script>\\n<script language=\"javascript1.1\"><!--\\na+=\\';j=\\'+navigator.javaEnabled();js=11;//--></script>\\n<script language=\"javascript1.2\"><!--\\ns=screen;a+=\\';s=\\'+s.width+\\'*\\'+s.height;\\na+=\\';d=\\'+(s.colorDepth?s.colorDepth:s.pixelDepth);js=12;//--></script>\\n<script language=\"javascript1.3\"><!--\\njs=13;//--></script><script language=\"javascript\" type=\"text/javascript\"><!--\\nd.write(\\'<img src=\"http://d5.ca.b0.a2.top.mail.ru/counter\\'+\\'?id=2139608;js=\\'+js+\\na+\\';rand=\\'+Math.random()+\\'\" height=\"1\" width=\"1\" alt=\"top.mail.ru\" border=\"0\">\\');\\nif(11<js)d.write(\\'<\\'+\\'!-- \\');//--></script>\\n<noscript><img src=\"http://d5.ca.b0.a2.top.mail.ru/counter?js=na;id=2139608\" \\nheight=\"1\" width=\"1\" alt=\"top.mail.ru\" border=\"0\"></noscript>\\n<script language=\"javascript\" type=\"text/javascript\"><!--\\nif(11<js)d.write(\\'--\\'+\\'>\\');//--></script>\\n<!--// Rating@Mail.ru counter-->\\n\\n<!--PRO.Культура.РФ counter-->\\n<script src=\"https://culturaltracking.ru/static/js/spxl.js\" data-pixel-id=\"1791\"></script>\\n<!--// PRO.Культура.РФ counter-->\\n\\n  <script type=\"text/javascript\" id=\"statsmosru\" src=\"https://stats.mos.ru/counter.js\" onLoad=\"statsMosRuCounter()\" defer=\"defer\" async=\"true\"></script>\\n  <script src=\"https://www.mos.ru/otrasli-static/outer/mosTizer.js\"></script>\\n\\n  <div id=\"skip-link\">\\n    <a href=\"#main-content\" class=\"element-invisible element-focusable\">Перейти к основному содержанию</a>\\n  </div>\\n    \\n  <div id=\"page-wrapper\">\\n  \\n  \\t\\n  <div class=\"dcult\" ><a href=\"https://www.mos.ru/kultura/\" target=\"_blank\" title=\"Департамент культуры города Москвы\"><img src=\"/i/depkultlogo.jpg\" >&nbsp;&nbsp;Учреждение, подведомственное\\nДепартаменту культуры\\nгорода Москвы</a>\\n</div>\\n  <div id=\"page\">\\n\\t\\n\\t\\n    <div id=\"header\" class=\"clearfix\">\\n\\n      <div class=\"wrapper-response\">\\n\\n        <div class=\"section\">\\n\\n          <div class=\"section logo clearfix\">\\n\\n                          <a href=\"/\" title=\"Главная\" rel=\"home\" id=\"logo\">\\n                <img src=\"https://1812panorama.ru/sites/default/files/logo.png\" alt=\"Главная\" />\\n                <img src=\"/sites/all/themes/mpbb/images/logo-mobile.png\" alt=\"Главная\" />\\n              </a>\\n            \\n          </div>\\n\\n          <div class=\"section section-left clearfix\">\\n\\n                          <div id=\"header_section_address\" class=\"column\"><div class=\"section\">\\n                  <div class=\"region region-address\">\\n    <div id=\"block-views-adress-and-time-block\" class=\"block block-views\">\\n\\n    <h2>Адреса и время работы</h2>\\n  \\n  <div class=\"content\">\\n    <div class=\"view view-adress-and-time view-id-adress_and_time view-display-id-block view-dom-id-2952b0c68076718c1611a2874cba9925\">\\n        \\n  \\n  \\n      <div class=\"view-content\">\\n        <div class=\"views-row views-row-1 views-row-odd views-row-first col-md-4\">\\n      \\n  <div class=\"views-field views-field-field-title\">        <div class=\"field-content\"><p>Музей-панорама<br />\\n«Бородинская битва»</p>\\n</div>  </div>  \\n  <div class=\"views-field views-field-field-adress\">        <div class=\"field-content\"><p>Кутузовский проспект,<br />\\nд.\\xa038, стр.\\xa01</p>\\n</div>  </div>  \\n  <div class=\"views-field views-field-field-time-work\">        <div class=\"field-content\"><p>сб-ср:10:00\\xa0– 18:00<br />\\nчт:\\xa0 \\xa0 \\xa010:00\\xa0– 21:00<br />\\nпт:\\xa0 \\xa0 \\xa0 \\xa0 \\xa0 \\xa0 \\xa0 \\xa0закрыт<br />\\n+7 (499) 148 1927</p>\\n</div>  </div>  </div>\\n  <div class=\"views-row views-row-2 views-row-even col-md-4\">\\n      \\n  <div class=\"views-field views-field-field-title\">        <div class=\"field-content\"><p>Музей<br />\\n«Кутузовская изба»</p>\\n</div>  </div>  \\n  <div class=\"views-field views-field-field-adress\">        <div class=\"field-content\"><p>Кутузовский проспект,<br />\\nд.\\xa038, стр. 2</p>\\n</div>  </div>  \\n  <div class=\"views-field views-field-field-time-work\">        <div class=\"field-content\"><p>сб-чт:10:00\\xa0– 18:00<br />\\nпт:\\xa0 \\xa0 \\xa0 \\xa0\\xa0\\xa0 \\xa0 \\xa0 \\xa0закрыт<br />\\n+7 (499) 148 1927</p>\\n</div>  </div>  </div>\\n  <div class=\"views-row views-row-3 views-row-odd views-row-last col-md-4\">\\n      \\n  <div class=\"views-field views-field-field-title\">        <div class=\"field-content\"><p>«Музей Героев<br />\\nСоветского Союза и\\xa0России»</p>\\n</div>  </div>  \\n  <div class=\"views-field views-field-field-adress\">        <div class=\"field-content\"><p>ул. Большая Черёмушкинская,<br />\\nд. 24, кор. 3</p>\\n</div>  </div>  \\n  <div class=\"views-field views-field-field-time-work\">        <div class=\"field-content\"><p>сб-ср:10:00\\xa0– 18:00<br />\\n\\xa0чт:\\xa0 \\xa0\\xa010:00\\xa0– 21:00<br />\\n\\xa0пт:\\xa0 \\xa0 \\xa0 \\xa0 \\xa0 \\xa0 \\xa0 закрыт<br />\\n+7 (499) 148 1927</p>\\n</div>  </div>  </div>\\n    </div>\\n  \\n  \\n  \\n  \\n  \\n  \\n</div>  </div>\\n</div>\\n  </div>\\n              </div></div>\\n            \\n                          <div id=\"header_section_app\" class=\"column\"><div class=\"section\">\\n                  <div class=\"region region-app\">\\n    <div id=\"block-block-11\" class=\"block block-block\">\\n\\n    \\n  <div class=\"content\">\\n    <p><a href=\"https://map.tmatic.travel/ru/tour?filters_lang=&amp;filters_tours_type=&amp;filters_tour_category=&amp;filters_tour_rating=&amp;filters_price=&amp;filters_q=&amp;filters_it_duration=&amp;filters_itinerary_min_duration=&amp;filters_it_category=&amp;filters_content_provider=&amp;center=37.523335,55.738832,17.42\" target=\"_blank\" title=\"Аудиогид\"><img alt=\"\" height=\"22\" src=\"/sites/default/files/guide.png\" width=\"28\" /></a></p>\\n  </div>\\n</div>\\n  </div>\\n              </div></div>\\n            \\n                          <div id=\"header_section_search\" class=\"column\"><div class=\"section\">\\n                  <div class=\"region region-search\">\\n    <div id=\"block-block-12\" class=\"block block-block\">\\n\\n    \\n  <div class=\"content\">\\n    <p><a href=\"#\" title=\"Поиск\"><img alt=\"\" height=\"22\" src=\"/sites/default/files/search.png\" width=\"22\" /></a></p>\\n<p><img alt=\"Поиск\" height=\"39\" src=\"/sites/default/files/search-mobile.png\" width=\"44\" /></p>\\n  </div>\\n</div>\\n  </div>\\n              </div></div>\\n            \\n          </div>\\n\\n          <div class=\"section section-right clearfix\">\\n\\n            \\n\\n                          <div id=\"header_section_glasses\"><div class=\"column\">\\n\\n                  <div class=\"region region-glasses\">\\n    <div id=\"block-block-5\" class=\"block block-block\">\\n\\n    \\n  <div class=\"content\">\\n    <p><a href=\"?theme=mpbb_large\" title=\"Версия для слабовидящих\"><img alt=\"\" height=\"22\" src=\"/sites/default/files/disable.png\" width=\"36\" /></a></p>\\n  </div>\\n</div>\\n<div id=\"block-switchtheme-switch-form\" class=\"block block-switchtheme\">\\n\\n    \\n  <div class=\"content\">\\n    <form action=\"/afisha\" method=\"post\" id=\"switchtheme-switch-form\" accept-charset=\"UTF-8\"><div><div class=\"container-inline form-wrapper\" id=\"edit-widget\"><div class=\"form-item form-type-select form-item-theme\">\\n <select id=\"edit-theme\" name=\"theme\" class=\"form-select required\"><option value=\"mpbb_large\">large</option><option value=\"mpbb\" selected=\"selected\">normal</option></select>\\n</div>\\n<div class=\"form-actions form-wrapper\" id=\"edit-actions\"><input type=\"submit\" id=\"switchtheme-submit\" name=\"op\" value=\"Переключить\" class=\"form-submit\" /></div></div><input type=\"hidden\" name=\"form_build_id\" value=\"form-RZRIBl9mrL4zHe3Jk2csFkZcDeCYjZYnT-qzm0DFMoU\" />\\n<input type=\"hidden\" name=\"form_id\" value=\"switchtheme_switch_form\" />\\n</div></form>  </div>\\n</div>\\n  </div>\\n\\n              </div></div>\\n            \\n                          <div id=\"header_section_order\" class=\"column\"><div class=\"section\">\\n                  <div class=\"region region-order\">\\n    <div id=\"block-block-1\" class=\"block block-block\">\\n\\n    \\n  <div class=\"content\">\\n    <p><a href=\"http://www.1812panorama.ru/content/booking\">ЗАКАЗАТЬ ЭКСКУРСИЮ</a></p>\\n  </div>\\n</div>\\n<div id=\"block-block-18\" class=\"block block-block\">\\n\\n    \\n  <div class=\"content\">\\n    <p><a href=\"https://tickets-1812.leonsoft.ru/buy-ticket\">КУПИТЬ БИЛЕТ</a></p>\\n  </div>\\n</div>\\n  </div>\\n              </div></div>\\n            \\n            <div id=\"header_section_burger\"></div>\\n\\n          </div>\\n\\n        </div>\\n\\n      </div>\\n\\n              <div id=\"navigation\"><div class=\"section\">\\n\\n                      <div id=\"menu\" class=\"clearfix\"><div class=\"section\">\\n                <div class=\"region region-menu\">\\n    <div id=\"block-tb-megamenu-main-menu\" class=\"block block-tb-megamenu\">\\n\\n    \\n  <div class=\"content\">\\n    <div  data-duration=\"200\" data-delay=\"100\" id=\"tb-megamenu-main-menu\" class=\"tb-megamenu tb-megamenu-main-menu animate fading\" role=\"navigation\" aria-label=\"Main navigation\">\\n      <button data-target=\".nav-collapse\" data-toggle=\"collapse\" class=\"btn btn-navbar tb-megamenu-button\" type=\"button\">\\n      <i class=\"fa fa-reorder\"></i>\\n    </button>\\n    <div class=\"nav-collapse  always-show\">\\n    <ul  class=\"tb-megamenu-nav nav level-0 items-7\">\\n    <li  data-id=\"518\" data-level=\"1\" data-type=\"menu_item\" data-class=\"\" data-xicon=\"\" data-caption=\"\" data-alignsub=\"justify\" data-group=\"0\" data-hidewcol=\"0\" data-hidesub=\"0\" id=\"\" style=\"\" class=\"tb-megamenu-item level-1 mega mega-align-justify dropdown\">\\n          <a href=\"#\" class=\"tb_nolink \">\\n                Посетителям      </a>\\n        <div  data-class=\"\" data-width=\"\" class=\"tb-megamenu-submenu dropdown-menu mega-dropdown-menu nav-child\">\\n  <div class=\"mega-dropdown-inner\">\\n    <div  class=\"tb-megamenu-row row-fluid\">\\n  <div  data-showblocktitle=\"1\" data-class=\"\" data-width=\"12\" data-hidewcol=\"\" id=\"tb-megamenu-column-1\" class=\"tb-megamenu-column span12  mega-col-nav\">\\n  <div class=\"tb-megamenu-column-inner mega-inner clearfix\">\\n        <div  data-type=\"block\" data-block=\"menu_block--3\" class=\"tb-megamenu-block tb-block tb-megamenu-block\">\\n  <div class=\"block-inner\">\\n    <div id=\"block-menu-block-3\" class=\"block block-menu-block\">\\n\\n    <h2>Посетителям</h2>\\n  \\n  <div class=\"content\">\\n    <div class=\"menu-block-wrapper menu-block-3 menu-name-main-menu parent-mlid-518 menu-level-1\">\\n  <ul class=\"menu\"><li class=\"first leaf menu-mlid-691\"><a href=\"/visitors/museum-panorama\">Музей-панорама</a></li>\\n<li class=\"leaf menu-mlid-692\"><a href=\"/visitors/muzey-kutuzovskaya-izba\">Кутузовская изба</a></li>\\n<li class=\"leaf menu-mlid-693\"><a href=\"/visitors/muzey-geroev-sovetskogo-soyuza-i-rossii\">Музей Героев</a></li>\\n<li class=\"leaf menu-mlid-694\"><a href=\"/visitors/rules\">Правила посещения</a></li>\\n<li class=\"leaf menu-mlid-695\"><a href=\"http://www.1812panorama.ru/content/booking\">Заказ экскурсий</a></li>\\n<li class=\"leaf menu-mlid-696\"><a href=\"/visitors/museum-events\">Музейные мероприятия</a></li>\\n<li class=\"leaf menu-mlid-697\"><a href=\"/visitors/open-restoration\">Гранты в области культуры</a></li>\\n<li class=\"leaf menu-mlid-698\"><a href=\"/visitors/museum-classes\">Музейные занятия</a></li>\\n<li class=\"leaf menu-mlid-699\"><a href=\"/visitors/thematic-tours\">Экскурсии</a></li>\\n<li class=\"last leaf menu-mlid-700\"><a href=\"/visitors/museum-without-barriers\">Музей без барьеров</a></li>\\n</ul></div>\\n  </div>\\n</div>\\n  </div>\\n</div>\\n  </div>\\n</div>\\n</div>\\n\\n<div  class=\"tb-megamenu-row row-fluid\">\\n  <div  data-class=\"\" data-width=\"\" data-hidewcol=\"0\" id=\"tb-megamenu-column-2\" class=\"tb-megamenu-column span  mega-col-nav\">\\n  <div class=\"tb-megamenu-column-inner mega-inner clearfix\">\\n        <ul  class=\"tb-megamenu-subnav mega-nav level-1 items-10\">\\n    <li  data-id=\"691\" data-level=\"2\" data-type=\"menu_item\" data-class=\"\" data-xicon=\"\" data-caption=\"\" data-alignsub=\"\" data-group=\"0\" data-hidewcol=\"0\" data-hidesub=\"0\" id=\"\" style=\"\" class=\"tb-megamenu-item level-2 mega\">\\n          <a href=\"/visitors/museum-panorama\" >\\n                Музей-панорама                      </a>\\n          </li>\\n\\n  <li  data-id=\"692\" data-level=\"2\" data-type=\"menu_item\" data-class=\"\" data-xicon=\"\" data-caption=\"\" data-alignsub=\"\" data-group=\"0\" data-hidewcol=\"0\" data-hidesub=\"0\" id=\"\" style=\"\" class=\"tb-megamenu-item level-2 mega\">\\n          <a href=\"/visitors/muzey-kutuzovskaya-izba\" >\\n                Кутузовская изба                      </a>\\n          </li>\\n\\n  <li  data-id=\"693\" data-level=\"2\" data-type=\"menu_item\" data-class=\"\" data-xicon=\"\" data-caption=\"\" data-alignsub=\"\" data-group=\"0\" data-hidewcol=\"0\" data-hidesub=\"0\" id=\"\" style=\"\" class=\"tb-megamenu-item level-2 mega\">\\n          <a href=\"/visitors/muzey-geroev-sovetskogo-soyuza-i-rossii\" >\\n                Музей Героев                      </a>\\n          </li>\\n\\n  <li  data-id=\"694\" data-level=\"2\" data-type=\"menu_item\" data-class=\"\" data-xicon=\"\" data-caption=\"\" data-alignsub=\"\" data-group=\"0\" data-hidewcol=\"0\" data-hidesub=\"0\" id=\"\" style=\"\" class=\"tb-megamenu-item level-2 mega\">\\n          <a href=\"/visitors/rules\" >\\n                Правила посещения                      </a>\\n          </li>\\n\\n  <li  data-id=\"695\" data-level=\"2\" data-type=\"menu_item\" data-class=\"\" data-xicon=\"\" data-caption=\"\" data-alignsub=\"\" data-group=\"0\" data-hidewcol=\"0\" data-hidesub=\"0\" id=\"\" style=\"\" class=\"tb-megamenu-item level-2 mega\">\\n          <a href=\"http://www.1812panorama.ru/content/booking\" >\\n                Заказ экскурсий                      </a>\\n          </li>\\n\\n  <li  data-id=\"696\" data-level=\"2\" data-type=\"menu_item\" data-class=\"\" data-xicon=\"\" data-caption=\"\" data-alignsub=\"\" data-group=\"0\" data-hidewcol=\"0\" data-hidesub=\"0\" id=\"\" style=\"\" class=\"tb-megamenu-item level-2 mega\">\\n          <a href=\"/visitors/museum-events\" >\\n                Музейные мероприятия                      </a>\\n          </li>\\n\\n  <li  data-id=\"697\" data-level=\"2\" data-type=\"menu_item\" data-class=\"\" data-xicon=\"\" data-caption=\"\" data-alignsub=\"\" data-group=\"0\" data-hidewcol=\"0\" data-hidesub=\"0\" id=\"\" style=\"\" class=\"tb-megamenu-item level-2 mega\">\\n          <a href=\"/visitors/open-restoration\" >\\n                Гранты в области культуры                      </a>\\n          </li>\\n\\n  <li  data-id=\"698\" data-level=\"2\" data-type=\"menu_item\" data-class=\"\" data-xicon=\"\" data-caption=\"\" data-alignsub=\"\" data-group=\"0\" data-hidewcol=\"0\" data-hidesub=\"0\" id=\"\" style=\"\" class=\"tb-megamenu-item level-2 mega\">\\n          <a href=\"/visitors/museum-classes\" >\\n                Музейные занятия                      </a>\\n          </li>\\n\\n  <li  data-id=\"699\" data-level=\"2\" data-type=\"menu_item\" data-class=\"\" data-xicon=\"\" data-caption=\"\" data-alignsub=\"\" data-group=\"0\" data-hidewcol=\"0\" data-hidesub=\"0\" id=\"\" style=\"\" class=\"tb-megamenu-item level-2 mega\">\\n          <a href=\"/visitors/thematic-tours\" >\\n                Экскурсии                      </a>\\n          </li>\\n\\n  <li  data-id=\"700\" data-level=\"2\" data-type=\"menu_item\" data-class=\"\" data-xicon=\"\" data-caption=\"\" data-alignsub=\"\" data-group=\"0\" data-hidewcol=\"0\" data-hidesub=\"0\" id=\"\" style=\"\" class=\"tb-megamenu-item level-2 mega\">\\n          <a href=\"/visitors/museum-without-barriers\" >\\n                Музей без барьеров                      </a>\\n          </li>\\n</ul>\\n  </div>\\n</div>\\n</div>\\n  </div>\\n</div>\\n  </li>\\n\\n  <li  data-id=\"519\" data-level=\"1\" data-type=\"menu_item\" data-class=\"\" data-xicon=\"\" data-caption=\"\" data-alignsub=\"justify\" data-group=\"0\" data-hidewcol=\"0\" data-hidesub=\"0\" id=\"\" style=\"\" class=\"tb-megamenu-item level-1 mega mega-align-justify dropdown\">\\n          <a href=\"#\" class=\"tb_nolink \">\\n                Музей      </a>\\n        <div  data-class=\"\" data-width=\"\" class=\"tb-megamenu-submenu dropdown-menu mega-dropdown-menu nav-child\">\\n  <div class=\"mega-dropdown-inner\">\\n    <div  class=\"tb-megamenu-row row-fluid\">\\n  <div  data-showblocktitle=\"1\" data-class=\"\" data-width=\"12\" data-hidewcol=\"0\" id=\"tb-megamenu-column-3\" class=\"tb-megamenu-column span12  mega-col-nav\">\\n  <div class=\"tb-megamenu-column-inner mega-inner clearfix\">\\n        <div  data-type=\"block\" data-block=\"menu_block--4\" class=\"tb-megamenu-block tb-block tb-megamenu-block\">\\n  <div class=\"block-inner\">\\n    <div id=\"block-menu-block-4\" class=\"block block-menu-block\">\\n\\n    <h2>Музей</h2>\\n  \\n  <div class=\"content\">\\n    <div class=\"menu-block-wrapper menu-block-4 menu-name-main-menu parent-mlid-519 menu-level-1\">\\n  <ul class=\"menu\"><li class=\"first leaf menu-mlid-960\"><a href=\"/content/missiya-muzeya\">Миссия музея</a></li>\\n<li class=\"leaf menu-mlid-765\"><a href=\"/museum/news\">Новости музея</a></li>\\n<li class=\"leaf menu-mlid-702\"><a href=\"/museum/dokumenty-muzeya\">Документы музея</a></li>\\n<li class=\"leaf menu-mlid-703\"><a href=\"/museum/nezavisimaya-ocenka\">Независимая оценка</a></li>\\n<li class=\"leaf menu-mlid-704\"><a href=\"https://panoramaborodino.museum-online.moscow\" target=\"_blank\">Коллекции-онлайн</a></li>\\n<li class=\"leaf menu-mlid-705\"><a href=\"/museum/conferences\">Конференции</a></li>\\n<li class=\"leaf menu-mlid-706\"><a href=\"/museum/projects\">Проекты</a></li>\\n<li class=\"leaf menu-mlid-707\"><a href=\"/museum/history\">История музея</a></li>\\n<li class=\"leaf menu-mlid-708\"><a href=\"/museum/press-center\">Пресс-центр</a></li>\\n<li class=\"leaf menu-mlid-709\"><a href=\"/smi-o-nas\">СМИ о нас</a></li>\\n<li class=\"leaf menu-mlid-710\"><a href=\"/museum/dlya-gidov-perevodchikov\">Гидам и переводчикам</a></li>\\n<li class=\"last leaf menu-mlid-4219\"><a href=\"/content/vakansii\">Вакансии</a></li>\\n</ul></div>\\n  </div>\\n</div>\\n  </div>\\n</div>\\n  </div>\\n</div>\\n</div>\\n\\n<div  class=\"tb-megamenu-row row-fluid\">\\n  <div  data-class=\"\" data-width=\"\" data-hidewcol=\"0\" id=\"tb-megamenu-column-4\" class=\"tb-megamenu-column span  mega-col-nav\">\\n  <div class=\"tb-megamenu-column-inner mega-inner clearfix\">\\n        <ul  class=\"tb-megamenu-subnav mega-nav level-1 items-12\">\\n    <li  data-id=\"960\" data-level=\"2\" data-type=\"menu_item\" data-class=\"\" data-xicon=\"\" data-caption=\"\" data-alignsub=\"\" data-group=\"0\" data-hidewcol=\"0\" data-hidesub=\"0\" id=\"\" style=\"\" class=\"tb-megamenu-item level-2 mega\">\\n          <a href=\"/content/missiya-muzeya\" >\\n                Миссия музея                      </a>\\n          </li>\\n\\n  <li  data-id=\"765\" data-level=\"2\" data-type=\"menu_item\" data-class=\"\" data-xicon=\"\" data-caption=\"\" data-alignsub=\"\" data-group=\"0\" data-hidewcol=\"0\" data-hidesub=\"0\" id=\"\" style=\"\" class=\"tb-megamenu-item level-2 mega\">\\n          <a href=\"/museum/news\" >\\n                Новости музея                      </a>\\n          </li>\\n\\n  <li  data-id=\"702\" data-level=\"2\" data-type=\"menu_item\" data-class=\"\" data-xicon=\"\" data-caption=\"\" data-alignsub=\"\" data-group=\"0\" data-hidewcol=\"0\" data-hidesub=\"0\" id=\"\" style=\"\" class=\"tb-megamenu-item level-2 mega\">\\n          <a href=\"/museum/dokumenty-muzeya\" >\\n                Документы музея                      </a>\\n          </li>\\n\\n  <li  data-id=\"703\" data-level=\"2\" data-type=\"menu_item\" data-class=\"\" data-xicon=\"\" data-caption=\"\" data-alignsub=\"\" data-group=\"0\" data-hidewcol=\"0\" data-hidesub=\"0\" id=\"\" style=\"\" class=\"tb-megamenu-item level-2 mega\">\\n          <a href=\"/museum/nezavisimaya-ocenka\" >\\n                Независимая оценка                      </a>\\n          </li>\\n\\n  <li  data-id=\"704\" data-level=\"2\" data-type=\"menu_item\" data-class=\"\" data-xicon=\"\" data-caption=\"\" data-alignsub=\"\" data-group=\"0\" data-hidewcol=\"0\" data-hidesub=\"0\" id=\"\" style=\"\" class=\"tb-megamenu-item level-2 mega\">\\n          <a href=\"https://panoramaborodino.museum-online.moscow\"  target=\"_blank\" title=\"Коллекции-онлайн\">\\n                Коллекции-онлайн                      </a>\\n          </li>\\n\\n  <li  data-id=\"705\" data-level=\"2\" data-type=\"menu_item\" data-class=\"\" data-xicon=\"\" data-caption=\"\" data-alignsub=\"\" data-group=\"0\" data-hidewcol=\"0\" data-hidesub=\"0\" id=\"\" style=\"\" class=\"tb-megamenu-item level-2 mega\">\\n          <a href=\"/museum/conferences\" >\\n                Конференции                      </a>\\n          </li>\\n\\n  <li  data-id=\"706\" data-level=\"2\" data-type=\"menu_item\" data-class=\"\" data-xicon=\"\" data-caption=\"\" data-alignsub=\"\" data-group=\"0\" data-hidewcol=\"0\" data-hidesub=\"0\" id=\"\" style=\"\" class=\"tb-megamenu-item level-2 mega\">\\n          <a href=\"/museum/projects\" >\\n                Проекты                      </a>\\n          </li>\\n\\n  <li  data-id=\"707\" data-level=\"2\" data-type=\"menu_item\" data-class=\"\" data-xicon=\"\" data-caption=\"\" data-alignsub=\"\" data-group=\"0\" data-hidewcol=\"0\" data-hidesub=\"0\" id=\"\" style=\"\" class=\"tb-megamenu-item level-2 mega\">\\n          <a href=\"/museum/history\" >\\n                История музея                      </a>\\n          </li>\\n\\n  <li  data-id=\"708\" data-level=\"2\" data-type=\"menu_item\" data-class=\"\" data-xicon=\"\" data-caption=\"\" data-alignsub=\"\" data-group=\"0\" data-hidewcol=\"0\" data-hidesub=\"0\" id=\"\" style=\"\" class=\"tb-megamenu-item level-2 mega\">\\n          <a href=\"/museum/press-center\" >\\n                Пресс-центр                      </a>\\n          </li>\\n\\n  <li  data-id=\"709\" data-level=\"2\" data-type=\"menu_item\" data-class=\"\" data-xicon=\"\" data-caption=\"\" data-alignsub=\"\" data-group=\"0\" data-hidewcol=\"0\" data-hidesub=\"0\" id=\"\" style=\"\" class=\"tb-megamenu-item level-2 mega\">\\n          <a href=\"/smi-o-nas\" >\\n                СМИ о нас                      </a>\\n          </li>\\n\\n  <li  data-id=\"710\" data-level=\"2\" data-type=\"menu_item\" data-class=\"\" data-xicon=\"\" data-caption=\"\" data-alignsub=\"\" data-group=\"0\" data-hidewcol=\"0\" data-hidesub=\"0\" id=\"\" style=\"\" class=\"tb-megamenu-item level-2 mega\">\\n          <a href=\"/museum/dlya-gidov-perevodchikov\" >\\n                Гидам и переводчикам                      </a>\\n          </li>\\n\\n  <li  data-id=\"4219\" data-level=\"2\" data-type=\"menu_item\" data-class=\"\" data-xicon=\"\" data-caption=\"\" data-alignsub=\"\" data-group=\"0\" data-hidewcol=\"0\" data-hidesub=\"0\" id=\"\" style=\"\" class=\"tb-megamenu-item level-2 mega\">\\n          <a href=\"/content/vakansii\" >\\n                Вакансии                      </a>\\n          </li>\\n</ul>\\n  </div>\\n</div>\\n</div>\\n  </div>\\n</div>\\n  </li>\\n\\n  <li  data-id=\"520\" data-level=\"1\" data-type=\"menu_item\" data-class=\"\" data-xicon=\"\" data-caption=\"\" data-alignsub=\"\" data-group=\"0\" data-hidewcol=\"0\" data-hidesub=\"0\" id=\"\" style=\"\" class=\"tb-megamenu-item level-1 mega active active-trail\">\\n          <a href=\"/afisha\" >\\n                Афиша                      </a>\\n          </li>\\n\\n  <li  data-id=\"521\" data-level=\"1\" data-type=\"menu_item\" data-class=\"\" data-xicon=\"\" data-caption=\"\" data-alignsub=\"justify\" data-group=\"0\" data-hidewcol=\"0\" data-hidesub=\"0\" id=\"\" style=\"\" class=\"tb-megamenu-item level-1 mega mega-align-justify dropdown\">\\n          <a href=\"#\" class=\"tb_nolink \">\\n                Выставки      </a>\\n        <div  data-class=\"\" data-width=\"\" class=\"tb-megamenu-submenu dropdown-menu mega-dropdown-menu nav-child\">\\n  <div class=\"mega-dropdown-inner\">\\n    <div  class=\"tb-megamenu-row row-fluid\">\\n  <div  data-showblocktitle=\"1\" data-class=\"\" data-width=\"12\" data-hidewcol=\"0\" id=\"tb-megamenu-column-5\" class=\"tb-megamenu-column span12  mega-col-nav\">\\n  <div class=\"tb-megamenu-column-inner mega-inner clearfix\">\\n        <div  data-type=\"block\" data-block=\"menu_block--5\" class=\"tb-megamenu-block tb-block tb-megamenu-block\">\\n  <div class=\"block-inner\">\\n    <div id=\"block-menu-block-5\" class=\"block block-menu-block\">\\n\\n    <h2>Выставки</h2>\\n  \\n  <div class=\"content\">\\n    <div class=\"menu-block-wrapper menu-block-5 menu-name-main-menu parent-mlid-521 menu-level-1\">\\n  <ul class=\"menu\"><li class=\"first leaf menu-mlid-711\"><a href=\"/exhibitions/main\">Основные</a></li>\\n<li class=\"leaf menu-mlid-712\"><a href=\"/exhibitions/outside\">Выставки вне музея</a></li>\\n<li class=\"last leaf menu-mlid-713\"><a href=\"/exhibitions/virtual\">Виртуальные выставки</a></li>\\n</ul></div>\\n  </div>\\n</div>\\n  </div>\\n</div>\\n  </div>\\n</div>\\n</div>\\n\\n<div  class=\"tb-megamenu-row row-fluid\">\\n  <div  data-class=\"\" data-width=\"\" data-hidewcol=\"\" id=\"tb-megamenu-column-6\" class=\"tb-megamenu-column span  mega-col-nav\">\\n  <div class=\"tb-megamenu-column-inner mega-inner clearfix\">\\n        <ul  class=\"tb-megamenu-subnav mega-nav level-1 items-3\">\\n    <li  data-id=\"711\" data-level=\"2\" data-type=\"menu_item\" data-class=\"\" data-xicon=\"\" data-caption=\"\" data-alignsub=\"\" data-group=\"0\" data-hidewcol=\"0\" data-hidesub=\"0\" id=\"\" style=\"\" class=\"tb-megamenu-item level-2 mega\">\\n          <a href=\"/exhibitions/main\" >\\n                Основные                      </a>\\n          </li>\\n\\n  <li  data-id=\"712\" data-level=\"2\" data-type=\"menu_item\" data-class=\"\" data-xicon=\"\" data-caption=\"\" data-alignsub=\"\" data-group=\"0\" data-hidewcol=\"0\" data-hidesub=\"0\" id=\"\" style=\"\" class=\"tb-megamenu-item level-2 mega\">\\n          <a href=\"/exhibitions/outside\" >\\n                Выставки вне музея                      </a>\\n          </li>\\n\\n  <li  data-id=\"713\" data-level=\"2\" data-type=\"menu_item\" data-class=\"\" data-xicon=\"\" data-caption=\"\" data-alignsub=\"\" data-group=\"0\" data-hidewcol=\"0\" data-hidesub=\"0\" id=\"\" style=\"\" class=\"tb-megamenu-item level-2 mega\">\\n          <a href=\"/exhibitions/virtual\" >\\n                Виртуальные выставки                      </a>\\n          </li>\\n</ul>\\n  </div>\\n</div>\\n</div>\\n  </div>\\n</div>\\n  </li>\\n\\n  <li  data-id=\"522\" data-level=\"1\" data-type=\"menu_item\" data-class=\"\" data-xicon=\"\" data-caption=\"\" data-alignsub=\"\" data-group=\"0\" data-hidewcol=\"0\" data-hidesub=\"0\" id=\"\" style=\"\" class=\"tb-megamenu-item level-1 mega\">\\n          <a href=\"/contacts\" >\\n                Контакты                      </a>\\n          </li>\\n\\n  <li  data-id=\"3657\" data-level=\"1\" data-type=\"menu_item\" data-class=\"\" data-xicon=\"\" data-caption=\"\" data-alignsub=\"\" data-group=\"0\" data-hidewcol=\"0\" data-hidesub=\"0\" id=\"\" style=\"\" class=\"tb-megamenu-item level-1 mega\">\\n          <a href=\"http://1812panorama.ru/content/bilety\" >\\n                Билеты                      </a>\\n          </li>\\n\\n  <li  data-id=\"955\" data-level=\"1\" data-type=\"menu_item\" data-class=\"\" data-xicon=\"\" data-caption=\"\" data-alignsub=\"\" data-group=\"0\" data-hidewcol=\"0\" data-hidesub=\"0\" id=\"\" style=\"\" class=\"tb-megamenu-item level-1 mega\">\\n          <a href=\"https://izi.travel/ru/5f4a-muzey-panorama-borodinskaya-bitva\" >\\n                Аудиогид izi.travel                      </a>\\n          </li>\\n</ul>\\n      </div>\\n  </div>\\n  </div>\\n</div>\\n<div id=\"block-menu-block-6\" class=\"block block-menu-block\">\\n\\n    \\n  <div class=\"content\">\\n    <div class=\"menu-block-wrapper menu-block-6 menu-name-main-menu parent-mlid-0 menu-level-1\">\\n  <ul class=\"menu\"><li class=\"first expanded menu-mlid-518\"><span id=\"dropdown-block-views-menu-visitors-block\" class=\"nolink\" tabindex=\"0\">Посетителям</span><ul class=\"menu\"><li class=\"first leaf menu-mlid-691\"><a href=\"/visitors/museum-panorama\">Музей-панорама</a></li>\\n<li class=\"leaf menu-mlid-692\"><a href=\"/visitors/muzey-kutuzovskaya-izba\">Кутузовская изба</a></li>\\n<li class=\"leaf menu-mlid-693\"><a href=\"/visitors/muzey-geroev-sovetskogo-soyuza-i-rossii\">Музей Героев</a></li>\\n<li class=\"leaf menu-mlid-694\"><a href=\"/visitors/rules\">Правила посещения</a></li>\\n<li class=\"leaf menu-mlid-695\"><a href=\"http://www.1812panorama.ru/content/booking\">Заказ экскурсий</a></li>\\n<li class=\"leaf menu-mlid-696\"><a href=\"/visitors/museum-events\">Музейные мероприятия</a></li>\\n<li class=\"leaf menu-mlid-697\"><a href=\"/visitors/open-restoration\">Гранты в области культуры</a></li>\\n<li class=\"leaf menu-mlid-698\"><a href=\"/visitors/museum-classes\">Музейные занятия</a></li>\\n<li class=\"leaf menu-mlid-699\"><a href=\"/visitors/thematic-tours\">Экскурсии</a></li>\\n<li class=\"last leaf menu-mlid-700\"><a href=\"/visitors/museum-without-barriers\">Музей без барьеров</a></li>\\n</ul></li>\\n<li class=\"expanded menu-mlid-519\"><span id=\"dropdown-block-views-menu-visitors-block-1\" class=\"nolink\" tabindex=\"0\">Музей</span><ul class=\"menu\"><li class=\"first leaf menu-mlid-960\"><a href=\"/content/missiya-muzeya\">Миссия музея</a></li>\\n<li class=\"leaf menu-mlid-765\"><a href=\"/museum/news\">Новости музея</a></li>\\n<li class=\"leaf menu-mlid-702\"><a href=\"/museum/dokumenty-muzeya\">Документы музея</a></li>\\n<li class=\"leaf menu-mlid-703\"><a href=\"/museum/nezavisimaya-ocenka\">Независимая оценка</a></li>\\n<li class=\"leaf menu-mlid-704\"><a href=\"https://panoramaborodino.museum-online.moscow\" target=\"_blank\">Коллекции-онлайн</a></li>\\n<li class=\"leaf menu-mlid-705\"><a href=\"/museum/conferences\">Конференции</a></li>\\n<li class=\"leaf menu-mlid-706\"><a href=\"/museum/projects\">Проекты</a></li>\\n<li class=\"leaf menu-mlid-707\"><a href=\"/museum/history\">История музея</a></li>\\n<li class=\"leaf menu-mlid-708\"><a href=\"/museum/press-center\">Пресс-центр</a></li>\\n<li class=\"leaf menu-mlid-709\"><a href=\"/smi-o-nas\">СМИ о нас</a></li>\\n<li class=\"leaf menu-mlid-710\"><a href=\"/museum/dlya-gidov-perevodchikov\">Гидам и переводчикам</a></li>\\n<li class=\"last leaf menu-mlid-4219\"><a href=\"/content/vakansii\">Вакансии</a></li>\\n</ul></li>\\n<li class=\"leaf active-trail active menu-mlid-520\"><a href=\"/afisha\" class=\"active-trail active\">Афиша</a></li>\\n<li class=\"expanded menu-mlid-521\"><span id=\"dropdown-block-views-menu-visitors-block-2\" class=\"nolink\" tabindex=\"0\">Выставки</span><ul class=\"menu\"><li class=\"first leaf menu-mlid-711\"><a href=\"/exhibitions/main\">Основные</a></li>\\n<li class=\"leaf menu-mlid-712\"><a href=\"/exhibitions/outside\">Выставки вне музея</a></li>\\n<li class=\"last leaf menu-mlid-713\"><a href=\"/exhibitions/virtual\">Виртуальные выставки</a></li>\\n</ul></li>\\n<li class=\"leaf menu-mlid-522\"><a href=\"/contacts\">Контакты</a></li>\\n<li class=\"leaf menu-mlid-3657\"><a href=\"http://1812panorama.ru/content/bilety\">Билеты</a></li>\\n<li class=\"last leaf menu-mlid-955\"><a href=\"https://izi.travel/ru/5f4a-muzey-panorama-borodinskaya-bitva\">Аудиогид izi.travel</a></li>\\n</ul></div>\\n  </div>\\n</div>\\n  </div>\\n            </div></div>\\n          \\n          \\n        </div></div>\\n      \\n    </div>\\n\\n          <div id=\"breadcrumb\"><h2 class=\"element-invisible\">Вы здесь</h2><div class=\"breadcrumb\"><a href=\"/\">Главная</a> » <span class=\"breadcrumb__item--current-page\">Афиша</span></div></div>\\n    \\n    \\n    <div id=\"main-wrapper\"><div id=\"main\" class=\"clearfix\">\\n\\n      \\n      <div id=\"content\" class=\"column\"><div class=\"section\">\\n                <a id=\"main-content\"></a>\\n                <h1 class=\"title\" id=\"page-title\">Афиша</h1>                <div class=\"tabs\"></div>                          <div class=\"region region-content\">\\n    <div id=\"block-system-main\" class=\"block block-system\">\\n\\n    \\n  <div class=\"content\">\\n    <div class=\"view view-exhibitions view-id-exhibitions view-display-id-page_1 view-dom-id-f12a507e0fd8e1b624f5e79aa1d2d51a\">\\n            <div class=\"view-header\">\\n      АФИША    </div>\\n  \\n      <div class=\"view-filters\">\\n      <form class=\"ctools-auto-submit-full-form\" action=\"/afisha\" method=\"get\" id=\"views-exposed-form-exhibitions-page-1\" accept-charset=\"UTF-8\"><div><div class=\"views-exposed-form\">\\n  <div class=\"views-exposed-widgets clearfix\">\\n          <div id=\"date_views_exposed_filter-0947c61a554b5e9551f6e7f067e9f9e1-wrapper\" class=\"views-exposed-widget views-widget-filter-between_date_filter\">\\n                  <label for=\"date_views_exposed_filter-0947c61a554b5e9551f6e7f067e9f9e1\">\\n            Выберите дату          </label>\\n                        <div class=\"views-widget\">\\n          <div id=\"date_views_exposed_filter-0947c61a554b5e9551f6e7f067e9f9e1\" class=\"form-wrapper\"><div id=\"edit-between-date-filter-value-wrapper\"><div id=\"edit-between-date-filter-value-inside-wrapper\"><div  class=\"container-inline-date\"><div class=\"form-item form-type-date-popup form-item-between-date-filter-value\">\\n  <label class=\"element-invisible\" for=\"edit-between-date-filter-value\">Выберите дату </label>\\n <div id=\"edit-between-date-filter-value\"  class=\"date-padding\"><div class=\"form-item form-type-textfield form-item-between-date-filter-value-date\">\\n  <label class=\"element-invisible\" for=\"edit-between-date-filter-value-datepicker-popup-0\">Дата </label>\\n <input type=\"text\" id=\"edit-between-date-filter-value-datepicker-popup-0\" name=\"between_date_filter[value][date]\" value=\"04.12.2023\" size=\"20\" maxlength=\"30\" class=\"form-text\" />\\n<div class=\"description\"> Например: 04.12.2023</div>\\n</div>\\n</div>\\n</div>\\n</div></div></div></div>        </div>\\n              </div>\\n                    <div class=\"views-exposed-widget views-submit-button\">\\n      <input class=\"ctools-use-ajax ctools-auto-submit-click js-hide form-submit\" type=\"submit\" id=\"edit-submit-exhibitions\" value=\"Применить\" />    </div>\\n      </div>\\n</div>\\n</div></form>    </div>\\n  \\n  \\n      <div class=\"view-content\">\\n        <h3>Музейное мероприятие</h3>\\n  <div class=\"views-row views-row-1 views-row-odd views-row-first js-fadeIn\">\\n      \\n  <div class=\"views-field views-field-nothing\">        <span class=\"field-content\"><div class=\\'wrapper-inner-content\\'>\\n  <div class=\"field-image-preview\"><img typeof=\"foaf:Image\" src=\"https://1812panorama.ru/sites/default/files/styles/380x270/public/museum_events/2023/11/09/image_navigator.jpg?itok=f34reohK\" width=\"380\" height=\"270\" alt=\"\" /></div>\\n  <div class=\"field-more-title\">\\n    <div class=\"field-title\"><p>Навигатор Победы</p>\\n</div>\\n    <div class=\"field-type\">Музейное мероприятие</div>\\n    <div class=\"field-date\"><span  class=\"date-display-range\">с <span  property=\"dc:date\" datatype=\"xsd:dateTime\" content=\"2023-11-08T00:00:00+03:00\" class=\"date-display-start\">08.11.2023</span> по <span  property=\"dc:date\" datatype=\"xsd:dateTime\" content=\"2023-12-28T00:00:00+03:00\" class=\"date-display-end\">28.12.2023</span></span></div>\\n  </div>\\n  <div class=\"field-more-preview\">\\n    <div class=\"field-text-preview\"><p>Программы патриотического туризма</p>\\n</div>\\n    <div class=\"field-museums\">Музей-панорама  «Бородинская битва»</div>\\n    <div class=\"field-date\"><span  class=\"date-display-range\">с <span  property=\"dc:date\" datatype=\"xsd:dateTime\" content=\"2023-11-08T00:00:00+03:00\" class=\"date-display-start\">08.11.2023</span> по <span  property=\"dc:date\" datatype=\"xsd:dateTime\" content=\"2023-12-28T00:00:00+03:00\" class=\"date-display-end\">28.12.2023</span></span></div>\\n    <div class=\"field-link\"><a href=\"/visitors/museum-events/navigator-pobedy\">ПОДРОБНЕЕ <i class=\"fa fa-angle-right\" aria-hidden=\"true\"></i></a></div>\\n    <div class=\"field-link\"></div>\\n  </div>\\n</div></span>  </div>  </div>\\n  <div class=\"views-row views-row-2 views-row-even js-fadeIn\">\\n      \\n  <div class=\"views-field views-field-nothing\">        <span class=\"field-content\"><div class=\\'wrapper-inner-content\\'>\\n  <div class=\"field-image-preview\"><img typeof=\"foaf:Image\" src=\"https://1812panorama.ru/sites/default/files/styles/380x270/public/museum_events/2023/11/03/image_olimpia.jpg?itok=Y_DYlq1m\" width=\"380\" height=\"270\" alt=\"\" /></div>\\n  <div class=\"field-more-title\">\\n    <div class=\"field-title\"><p>Олимпиада «Музеи. Парки. Усадьбы»</p>\\n</div>\\n    <div class=\"field-type\">Музейное мероприятие</div>\\n    <div class=\"field-date\"><span  class=\"date-display-range\">с <span  property=\"dc:date\" datatype=\"xsd:dateTime\" content=\"2023-11-04T00:00:00+03:00\" class=\"date-display-start\">04.11.2023</span> по <span  property=\"dc:date\" datatype=\"xsd:dateTime\" content=\"2024-03-31T00:00:00+03:00\" class=\"date-display-end\">31.03.2024</span></span></div>\\n  </div>\\n  <div class=\"field-more-preview\">\\n    <div class=\"field-text-preview\"><p>Одиннадцатый\\xa0сезон\\xa0Олимпиады</p>\\n</div>\\n    <div class=\"field-museums\">Музей-панорама  «Бородинская битва»</div>\\n    <div class=\"field-date\"><span  class=\"date-display-range\">с <span  property=\"dc:date\" datatype=\"xsd:dateTime\" content=\"2023-11-04T00:00:00+03:00\" class=\"date-display-start\">04.11.2023</span> по <span  property=\"dc:date\" datatype=\"xsd:dateTime\" content=\"2024-03-31T00:00:00+03:00\" class=\"date-display-end\">31.03.2024</span></span></div>\\n    <div class=\"field-link\"><a href=\"/visitors/museum-events/olimpiada-muzei-parki-usadby-3\">ПОДРОБНЕЕ <i class=\"fa fa-angle-right\" aria-hidden=\"true\"></i></a></div>\\n    <div class=\"field-link\"></div>\\n  </div>\\n</div></span>  </div>  </div>\\n  <div class=\"views-row views-row-3 views-row-odd views-row-last js-fadeIn\">\\n      \\n  <div class=\"views-field views-field-nothing\">        <span class=\"field-content\"><div class=\\'wrapper-inner-content\\'>\\n  <div class=\"field-image-preview\"><img typeof=\"foaf:Image\" src=\"https://1812panorama.ru/sites/default/files/styles/380x270/public/museum_events/2021/09/16/image_pushkart.jpg?itok=yshd4CsD\" width=\"380\" height=\"270\" alt=\"\" /></div>\\n  <div class=\"field-more-title\">\\n    <div class=\"field-title\"><p>Пушкинская карта</p>\\n</div>\\n    <div class=\"field-type\">Музейное мероприятие</div>\\n    <div class=\"field-date\"><span  class=\"date-display-range\">с <span  property=\"dc:date\" datatype=\"xsd:dateTime\" content=\"2021-09-01T00:00:00+03:00\" class=\"date-display-start\">01.09.2021</span> по <span  property=\"dc:date\" datatype=\"xsd:dateTime\" content=\"2023-12-28T00:00:00+03:00\" class=\"date-display-end\">28.12.2023</span></span></div>\\n  </div>\\n  <div class=\"field-more-preview\">\\n    <div class=\"field-text-preview\"><p>Что посмотреть в музее участникам программы «Пушкинская карта»?</p>\\n</div>\\n    <div class=\"field-museums\">Музей-панорама  «Бородинская битва»</div>\\n    <div class=\"field-date\"><span  class=\"date-display-range\">с <span  property=\"dc:date\" datatype=\"xsd:dateTime\" content=\"2021-09-01T00:00:00+03:00\" class=\"date-display-start\">01.09.2021</span> по <span  property=\"dc:date\" datatype=\"xsd:dateTime\" content=\"2023-12-28T00:00:00+03:00\" class=\"date-display-end\">28.12.2023</span></span></div>\\n    <div class=\"field-link\"><a href=\"/visitors/museum-events/pushkinskaya-karta\">ПОДРОБНЕЕ <i class=\"fa fa-angle-right\" aria-hidden=\"true\"></i></a></div>\\n    <div class=\"field-link\"></div>\\n  </div>\\n</div></span>  </div>  </div>\\n  <h3>Выставка основная</h3>\\n  <div class=\"views-row views-row-1 views-row-odd views-row-first js-fadeIn\">\\n      \\n  <div class=\"views-field views-field-nothing\">        <span class=\"field-content\"><div class=\\'wrapper-inner-content\\'>\\n  <div class=\"field-image-preview\"><img typeof=\"foaf:Image\" src=\"https://1812panorama.ru/sites/default/files/styles/380x270/public/exhibitions/2023/10/26/mage_vvn.jpg?itok=Kjoq12b_\" width=\"380\" height=\"270\" alt=\"\" /></div>\\n  <div class=\"field-more-title\">\\n    <div class=\"field-title\"><p>Время выбрало нас</p>\\n</div>\\n    <div class=\"field-type\">Выставка основная</div>\\n    <div class=\"field-date\"><span  class=\"date-display-range\">с <span  property=\"dc:date\" datatype=\"xsd:dateTime\" content=\"2023-11-04T00:00:00+03:00\" class=\"date-display-start\">04.11.2023</span> по <span  property=\"dc:date\" datatype=\"xsd:dateTime\" content=\"2023-12-29T00:00:00+03:00\" class=\"date-display-end\">29.12.2023</span></span></div>\\n  </div>\\n  <div class=\"field-more-preview\">\\n    <div class=\"field-text-preview\"><p>При участии мастерской «Классик»,\\xa0Студии имени М.Б.Грекова и\\xa0Управления начальника инженерных войск Вооруженных Сил РФ</p>\\n</div>\\n    <div class=\"field-museums\">Музей Героев Советского Союза и России</div>\\n    <div class=\"field-date\"><span  class=\"date-display-range\">с <span  property=\"dc:date\" datatype=\"xsd:dateTime\" content=\"2023-11-04T00:00:00+03:00\" class=\"date-display-start\">04.11.2023</span> по <span  property=\"dc:date\" datatype=\"xsd:dateTime\" content=\"2023-12-29T00:00:00+03:00\" class=\"date-display-end\">29.12.2023</span></span></div>\\n    <div class=\"field-link\"><a href=\"/exhibitions/main/vremya-vybralo-nas\">ПОДРОБНЕЕ <i class=\"fa fa-angle-right\" aria-hidden=\"true\"></i></a></div>\\n    <div class=\"field-link\"></div>\\n  </div>\\n</div></span>  </div>  </div>\\n  <div class=\"views-row views-row-2 views-row-even js-fadeIn\">\\n      \\n  <div class=\"views-field views-field-nothing\">        <span class=\"field-content\"><div class=\\'wrapper-inner-content\\'>\\n  <div class=\"field-image-preview\"><img typeof=\"foaf:Image\" src=\"https://1812panorama.ru/sites/default/files/styles/380x270/public/exhibitions/2023/10/26/image_tyshler.jpg?itok=PuDB9npX\" width=\"380\" height=\"270\" alt=\"\" /></div>\\n  <div class=\"field-more-title\">\\n    <div class=\"field-title\"><p>Александр Тышлер. Скитания кариатид</p>\\n</div>\\n    <div class=\"field-type\">Выставка основная</div>\\n    <div class=\"field-date\"><span  class=\"date-display-range\">с <span  property=\"dc:date\" datatype=\"xsd:dateTime\" content=\"2023-11-04T00:00:00+03:00\" class=\"date-display-start\">04.11.2023</span> по <span  property=\"dc:date\" datatype=\"xsd:dateTime\" content=\"2023-12-29T00:00:00+03:00\" class=\"date-display-end\">29.12.2023</span></span></div>\\n  </div>\\n  <div class=\"field-more-preview\">\\n    <div class=\"field-text-preview\"><p>Из собрания\\xa0Музея-панорамы «Бородинская битва»</p>\\n</div>\\n    <div class=\"field-museums\">Музей-панорама  «Бородинская битва»</div>\\n    <div class=\"field-date\"><span  class=\"date-display-range\">с <span  property=\"dc:date\" datatype=\"xsd:dateTime\" content=\"2023-11-04T00:00:00+03:00\" class=\"date-display-start\">04.11.2023</span> по <span  property=\"dc:date\" datatype=\"xsd:dateTime\" content=\"2023-12-29T00:00:00+03:00\" class=\"date-display-end\">29.12.2023</span></span></div>\\n    <div class=\"field-link\"><a href=\"/exhibitions/main/aleksandr-tyshler-skitaniya-kariatid\">ПОДРОБНЕЕ <i class=\"fa fa-angle-right\" aria-hidden=\"true\"></i></a></div>\\n    <div class=\"field-link\"></div>\\n  </div>\\n</div></span>  </div>  </div>\\n  <div class=\"views-row views-row-3 views-row-odd js-fadeIn\">\\n      \\n  <div class=\"views-field views-field-nothing\">        <span class=\"field-content\"><div class=\\'wrapper-inner-content\\'>\\n  <div class=\"field-image-preview\"><img typeof=\"foaf:Image\" src=\"https://1812panorama.ru/sites/default/files/styles/380x270/public/exhibitions/2023/09/09/image_mimim.jpg?itok=H61SDcww\" width=\"380\" height=\"270\" alt=\"\" /></div>\\n  <div class=\"field-more-title\">\\n    <div class=\"field-title\"><p>Настают времена Минина и Пожарского</p>\\n</div>\\n    <div class=\"field-type\">Выставка основная</div>\\n    <div class=\"field-date\"><span  class=\"date-display-range\">с <span  property=\"dc:date\" datatype=\"xsd:dateTime\" content=\"2023-09-07T00:00:00+03:00\" class=\"date-display-start\">07.09.2023</span> по <span  property=\"dc:date\" datatype=\"xsd:dateTime\" content=\"2024-01-18T00:00:00+03:00\" class=\"date-display-end\">18.01.2024</span></span></div>\\n  </div>\\n  <div class=\"field-more-preview\">\\n    <div class=\"field-text-preview\"><p>Нижний Новгород и нижегородцы в Отечественной войне 1812 года</p>\\n</div>\\n    <div class=\"field-museums\">Музей-панорама  «Бородинская битва»</div>\\n    <div class=\"field-date\"><span  class=\"date-display-range\">с <span  property=\"dc:date\" datatype=\"xsd:dateTime\" content=\"2023-09-07T00:00:00+03:00\" class=\"date-display-start\">07.09.2023</span> по <span  property=\"dc:date\" datatype=\"xsd:dateTime\" content=\"2024-01-18T00:00:00+03:00\" class=\"date-display-end\">18.01.2024</span></span></div>\\n    <div class=\"field-link\"><a href=\"/exhibitions/main/nastayut-vremena-minina-i-pozharskogo\">ПОДРОБНЕЕ <i class=\"fa fa-angle-right\" aria-hidden=\"true\"></i></a></div>\\n    <div class=\"field-link\"></div>\\n  </div>\\n</div></span>  </div>  </div>\\n  <div class=\"views-row views-row-4 views-row-even js-fadeIn\">\\n      \\n  <div class=\"views-field views-field-nothing\">        <span class=\"field-content\"><div class=\\'wrapper-inner-content\\'>\\n  <div class=\"field-image-preview\"><img typeof=\"foaf:Image\" src=\"https://1812panorama.ru/sites/default/files/styles/380x270/public/exhibitions/2023/06/14/image_vtodyh.jpg?itok=UeI0u4eg\" width=\"380\" height=\"270\" alt=\"\" /></div>\\n  <div class=\"field-more-title\">\\n    <div class=\"field-title\"><p>Второе дыхание</p>\\n</div>\\n    <div class=\"field-type\">Выставка основная</div>\\n    <div class=\"field-date\"><span  class=\"date-display-range\">с <span  property=\"dc:date\" datatype=\"xsd:dateTime\" content=\"2023-06-10T00:00:00+03:00\" class=\"date-display-start\">10.06.2023</span> по <span  property=\"dc:date\" datatype=\"xsd:dateTime\" content=\"2024-02-11T00:00:00+03:00\" class=\"date-display-end\">11.02.2024</span></span></div>\\n  </div>\\n  <div class=\"field-more-preview\">\\n    <div class=\"field-text-preview\"><p>При участии Государственного научно-исследовательского института реставрации</p>\\n</div>\\n    <div class=\"field-museums\">Музей-панорама  «Бородинская битва»</div>\\n    <div class=\"field-date\"><span  class=\"date-display-range\">с <span  property=\"dc:date\" datatype=\"xsd:dateTime\" content=\"2023-06-10T00:00:00+03:00\" class=\"date-display-start\">10.06.2023</span> по <span  property=\"dc:date\" datatype=\"xsd:dateTime\" content=\"2024-02-11T00:00:00+03:00\" class=\"date-display-end\">11.02.2024</span></span></div>\\n    <div class=\"field-link\"><a href=\"/exhibitions/main/vtoroe-dyhanie\">ПОДРОБНЕЕ <i class=\"fa fa-angle-right\" aria-hidden=\"true\"></i></a></div>\\n    <div class=\"field-link\"></div>\\n  </div>\\n</div></span>  </div>  </div>\\n  <div class=\"views-row views-row-5 views-row-odd views-row-last js-fadeIn\">\\n      \\n  <div class=\"views-field views-field-nothing\">        <span class=\"field-content\"><div class=\\'wrapper-inner-content\\'>\\n  <div class=\"field-image-preview\"><img typeof=\"foaf:Image\" src=\"https://1812panorama.ru/sites/default/files/styles/380x270/public/exhibitions/2023/01/23/image_lsv.jpg?itok=EgvnZdjD\" width=\"380\" height=\"270\" alt=\"\" /></div>\\n  <div class=\"field-more-title\">\\n    <div class=\"field-title\"><p>Лица, совершенно вымышленные</p>\\n</div>\\n    <div class=\"field-type\">Выставка основная</div>\\n    <div class=\"field-date\"><span  class=\"date-display-range\">с <span  property=\"dc:date\" datatype=\"xsd:dateTime\" content=\"2023-02-04T00:00:00+03:00\" class=\"date-display-start\">04.02.2023</span> по <span  property=\"dc:date\" datatype=\"xsd:dateTime\" content=\"2023-12-28T00:00:00+03:00\" class=\"date-display-end\">28.12.2023</span></span></div>\\n  </div>\\n  <div class=\"field-more-preview\">\\n    <div class=\"field-text-preview\"><p>К\\xa0195-летию со дня рождения Льва Толстого</p>\\n</div>\\n    <div class=\"field-museums\">Музей-панорама  «Бородинская битва»</div>\\n    <div class=\"field-date\"><span  class=\"date-display-range\">с <span  property=\"dc:date\" datatype=\"xsd:dateTime\" content=\"2023-02-04T00:00:00+03:00\" class=\"date-display-start\">04.02.2023</span> по <span  property=\"dc:date\" datatype=\"xsd:dateTime\" content=\"2023-12-28T00:00:00+03:00\" class=\"date-display-end\">28.12.2023</span></span></div>\\n    <div class=\"field-link\"><a href=\"/exhibitions/main/lica-sovershenno-vymyshlennye\">ПОДРОБНЕЕ <i class=\"fa fa-angle-right\" aria-hidden=\"true\"></i></a></div>\\n    <div class=\"field-link\"></div>\\n  </div>\\n</div></span>  </div>  </div>\\n    </div>\\n  \\n  \\n  \\n  \\n  \\n  \\n</div>  </div>\\n</div>\\n  </div>\\n              </div></div>\\n\\n    </div></div>\\n\\n  </div>\\n\\n  <div id=\"footer\">\\n    <div class=\"main-wrapper clearfix\">\\n\\n      <div class=\"section footer-left\">\\n          <div class=\"region region-footerleft\">\\n    <div id=\"block-menu-block-1\" class=\"block block-menu-block\">\\n\\n    \\n  <div class=\"content\">\\n    <div class=\"menu-block-wrapper menu-block-1 menu-name-main-menu parent-mlid-0 menu-level-1\">\\n  <ul class=\"menu\"><li class=\"first expanded menu-mlid-518\"><span id=\"dropdown-block-views-menu-visitors-block\" class=\"nolink\" tabindex=\"0\">Посетителям</span><ul class=\"menu\"><li class=\"first leaf menu-mlid-691\"><a href=\"/visitors/museum-panorama\">Музей-панорама</a></li>\\n<li class=\"leaf menu-mlid-692\"><a href=\"/visitors/muzey-kutuzovskaya-izba\">Кутузовская изба</a></li>\\n<li class=\"leaf menu-mlid-693\"><a href=\"/visitors/muzey-geroev-sovetskogo-soyuza-i-rossii\">Музей Героев</a></li>\\n<li class=\"leaf menu-mlid-694\"><a href=\"/visitors/rules\">Правила посещения</a></li>\\n<li class=\"leaf menu-mlid-695\"><a href=\"http://www.1812panorama.ru/content/booking\">Заказ экскурсий</a></li>\\n<li class=\"leaf menu-mlid-696\"><a href=\"/visitors/museum-events\">Музейные мероприятия</a></li>\\n<li class=\"leaf menu-mlid-697\"><a href=\"/visitors/open-restoration\">Гранты в области культуры</a></li>\\n<li class=\"leaf menu-mlid-698\"><a href=\"/visitors/museum-classes\">Музейные занятия</a></li>\\n<li class=\"leaf menu-mlid-699\"><a href=\"/visitors/thematic-tours\">Экскурсии</a></li>\\n<li class=\"last leaf menu-mlid-700\"><a href=\"/visitors/museum-without-barriers\">Музей без барьеров</a></li>\\n</ul></li>\\n<li class=\"expanded menu-mlid-519\"><span id=\"dropdown-block-views-menu-visitors-block-1\" class=\"nolink\" tabindex=\"0\">Музей</span><ul class=\"menu\"><li class=\"first leaf menu-mlid-960\"><a href=\"/content/missiya-muzeya\">Миссия музея</a></li>\\n<li class=\"leaf menu-mlid-765\"><a href=\"/museum/news\">Новости музея</a></li>\\n<li class=\"leaf menu-mlid-702\"><a href=\"/museum/dokumenty-muzeya\">Документы музея</a></li>\\n<li class=\"leaf menu-mlid-703\"><a href=\"/museum/nezavisimaya-ocenka\">Независимая оценка</a></li>\\n<li class=\"leaf menu-mlid-704\"><a href=\"https://panoramaborodino.museum-online.moscow\" target=\"_blank\">Коллекции-онлайн</a></li>\\n<li class=\"leaf menu-mlid-705\"><a href=\"/museum/conferences\">Конференции</a></li>\\n<li class=\"leaf menu-mlid-706\"><a href=\"/museum/projects\">Проекты</a></li>\\n<li class=\"leaf menu-mlid-707\"><a href=\"/museum/history\">История музея</a></li>\\n<li class=\"leaf menu-mlid-708\"><a href=\"/museum/press-center\">Пресс-центр</a></li>\\n<li class=\"leaf menu-mlid-709\"><a href=\"/smi-o-nas\">СМИ о нас</a></li>\\n<li class=\"leaf menu-mlid-710\"><a href=\"/museum/dlya-gidov-perevodchikov\">Гидам и переводчикам</a></li>\\n<li class=\"last leaf menu-mlid-4219\"><a href=\"/content/vakansii\">Вакансии</a></li>\\n</ul></li>\\n<li class=\"leaf active-trail active menu-mlid-520\"><a href=\"/afisha\" class=\"active-trail active\">Афиша</a></li>\\n<li class=\"expanded menu-mlid-521\"><span id=\"dropdown-block-views-menu-visitors-block-2\" class=\"nolink\" tabindex=\"0\">Выставки</span><ul class=\"menu\"><li class=\"first leaf menu-mlid-711\"><a href=\"/exhibitions/main\">Основные</a></li>\\n<li class=\"leaf menu-mlid-712\"><a href=\"/exhibitions/outside\">Выставки вне музея</a></li>\\n<li class=\"last leaf menu-mlid-713\"><a href=\"/exhibitions/virtual\">Виртуальные выставки</a></li>\\n</ul></li>\\n<li class=\"leaf menu-mlid-522\"><a href=\"/contacts\">Контакты</a></li>\\n<li class=\"leaf menu-mlid-3657\"><a href=\"http://1812panorama.ru/content/bilety\">Билеты</a></li>\\n<li class=\"last leaf menu-mlid-955\"><a href=\"https://izi.travel/ru/5f4a-muzey-panorama-borodinskaya-bitva\">Аудиогид izi.travel</a></li>\\n</ul></div>\\n  </div>\\n</div>\\n  </div>\\n      </div>\\n\\n      <div class=\"section footer-right\">\\n          <div class=\"region region-footerright\">\\n    <div id=\"block-views-adress-and-time-block-3\" class=\"block block-views\">\\n\\n    \\n  <div class=\"content\">\\n    <div class=\"view view-adress-and-time view-id-adress_and_time view-display-id-block_3 view-dom-id-358ec7a1039480c2315efa2e014f3040\">\\n        \\n  \\n  \\n      <div class=\"view-content\">\\n        <div class=\"views-row views-row-1 views-row-odd views-row-first\">\\n      \\n  <div class=\"views-field views-field-field-title\">        <div class=\"field-content\"><p>Музей-панорама<br />\\n«Бородинская битва»</p>\\n</div>  </div>  \\n  <div class=\"views-field views-field-field-zipcode\">        <div class=\"field-content field-zipcode\">121170 г. Москва</div>  </div>  \\n  <div class=\"views-field views-field-field-adress\">        <div class=\"field-content\"><p>Кутузовский проспект,<br />\\nд.\\xa038, стр.\\xa01</p>\\n</div>  </div>  </div>\\n  <div class=\"views-row views-row-2 views-row-even\">\\n      \\n  <div class=\"views-field views-field-field-title\">        <div class=\"field-content\"><p>Музей<br />\\n«Кутузовская изба»</p>\\n</div>  </div>  \\n  <div class=\"views-field views-field-field-zipcode\">        <div class=\"field-content field-zipcode\">121170, Москва</div>  </div>  \\n  <div class=\"views-field views-field-field-adress\">        <div class=\"field-content\"><p>Кутузовский проспект,<br />\\nд.\\xa038, стр. 2</p>\\n</div>  </div>  </div>\\n  <div class=\"views-row views-row-3 views-row-odd views-row-last\">\\n      \\n  <div class=\"views-field views-field-field-title\">        <div class=\"field-content\"><p>«Музей Героев<br />\\nСоветского Союза и\\xa0России»</p>\\n</div>  </div>  \\n  <div class=\"views-field views-field-field-zipcode\">        <div class=\"field-content field-zipcode\">117218, г. Москва</div>  </div>  \\n  <div class=\"views-field views-field-field-adress\">        <div class=\"field-content\"><p>ул. Большая Черёмушкинская,<br />\\nд. 24, кор. 3</p>\\n</div>  </div>  </div>\\n    </div>\\n  \\n  \\n  \\n  \\n  \\n  \\n</div>  </div>\\n</div>\\n  </div>\\n      </div>\\n\\n      <div class=\"section footer-bottom clearfix\">\\n\\n        <div class=\"left\">\\n          <div id=\"site-made-by\">сайт разработан в <a href=\\'http://charsky.ru\\' target=\"_blank\">Charsky Studio</a></div>\\n          <div id=\"metrika\">\\n            <div id=\"LiveInternet\"><!--LiveInternet logo--><a href=\"http://www.liveinternet.ru/click\" target=\"_blank\"><img src=\"//counter.yadro.ru/logo?14.1\" title=\"LiveInternet: показано число просмотров за 24 часа, посетителей за 24 часа и за сегодня\" alt=\"\" border=\"0\" width=\"88\" height=\"31\"/></a><!--/LiveInternet-->\\n\\t\\t\\t<!--Rating@Mail.ru logo--><a target=\"_top\" href=\"http://top.mail.ru/jump?from=2139608\"><img src=\"http://d5.ca.b0.a2.top.mail.ru/counter?id=2139608;t=52;l=1\" border=\"0\" height=\"31\" width=\"88\" alt=\"Рейтинг@Mail.ru\"></a><!--// Rating@Mail.ru logo-->\\n\\t\\t\\t</div>\\n          </div>\\n        </div>\\n        \\n        <div class=\"right\">\\n          <div id=\"social-and-metrika\">\\n            <div id=\"social-links\">\\n              <h2>мы в соцсетях</h2>\\n              <p>\\n                <!--<a href=\"https://www.facebook.com/1812panorama\" target=\"_blank\"><img src=\"/sites/all/themes/mpbb/images/f.png\" alt=\"\"></a>*/\\n                <a href=\"https://www.instagram.com/1812panorama/\" target=\"_blank\"><img src=\"/sites/all/themes/mpbb/images/i.png\" alt=\"\"></a>-->\\n                <a href=\"https://vk.com/panoramaborodino\" target=\"_blank\"><img src=\"/sites/all/themes/mpbb/images/vk.png\" alt=\"\"></a>\\n                <a href=\"https://t.me/s/panorama1812\" target=\"_blank\"><img src=\"/sites/all/themes/mpbb/images/telega.png\" alt=\"\"></a>\\n                <a href=\"https://ok.ru/muzeypanorama\" target=\"_blank\"><img src=\"/sites/all/themes/mpbb/images/odnoklasniki_icon.png\" alt=\"\"></a>\\n                <a href=\"https://www.tripadvisor.ru/Attraction_Review-g298484-d302983-Reviews-Borodino_Battle_Museum_Panorama-Moscow_Central_Russia.html\" target=\"_blank\"><img src=\"/sites/all/themes/mpbb/images/tripadvisor_icon.png\" alt=\"\"></a>\\n\\t\\t\\t\\t<a href=\"https://www.youtube.com/channel/UCwnxNx3o_0XvuA9wgi8-szw\" target=\"_blank\"><img src=\"/sites/all/themes/mpbb/images/youtube.png\" alt=\"\"></a>\\n              </p>\\n            </div>\\n          </div>\\n        </div>\\n        \\n      </div>\\n\\n    </div>\\n<div class=\"tizer-block container-fluid\">\\n    <div class=\"row tizer-block__row\">\\n        <div class=\"col tizer-block__col\">\\n            <!-- BANNER PLACEMENT GOES HERE-->\\n            <div class=\"tizer-block__banner\" data-mos-teaser=\\'{ \"scroll\":false,\"adaptive\":null,\"placementParams\":{ \"p1\":\"bxdrg\",\"p2\":\"fpkh\"}}\\'></div>\\n            <!-- BANNER PLACEMENT GOES HERE-->\\n            <div class=\"tizer-block__banner\" data-mos-teaser=\\'{ \"scroll\":false,\"adaptive\":null,\"placementParams\":{ \"p1\":\"bxdrh\",\"p2\":\"fpkh\"}}\\'></div>\\n            <!-- BANNER PLACEMENT GOES HERE-->\\n            <div class=\"tizer-block__banner\" data-mos-teaser=\\'{ \"scroll\":false,\"adaptive\":null,\"placementParams\":{ \"p1\":\"bxdri\",\"p2\":\"fpkh\"}}\\'></div>\\n            <!-- BANNER PLACEMENT GOES HERE-->\\n            <div class=\"tizer-block__banner\" data-mos-teaser=\\'{ \"scroll\":false,\"adaptive\":[\"phone\",\"desktop\"],\"adaptiveOptions\":{ \"tabletWidth\":1200,\"phoneWidth\":810},\"placementParams\":{ \"p1\":\"bxdrj\",\"p2\":\"fpkh\"}}\\'></div>\\n        </div>\\n    </div>\\n</div>\\t\\n  </div>\\n\\n</div>\\n\\n  <div id=\"hide\" class=\"column\"><div class=\"section clearfix\">\\n    <img src=\"/sites/default/files/x.png\" class=\"js-close\">\\n      <div class=\"region region-hide\">\\n    <div id=\"block-search-form\" class=\"block block-search\">\\n\\n    \\n  <div class=\"content\">\\n    <form action=\"/afisha\" method=\"post\" id=\"search-block-form\" accept-charset=\"UTF-8\"><div><div class=\"container-inline\">\\n      <h2 class=\"element-invisible\">Форма поиска</h2>\\n    <div class=\"form-item form-type-searchfield form-item-search-block-form\">\\n  <label class=\"element-invisible\" for=\"edit-search-block-form--2\">Поиск </label>\\n <input title=\"Введите ключевые слова для поиска.\" type=\"search\" id=\"edit-search-block-form--2\" name=\"search_block_form\" value=\"\" size=\"15\" maxlength=\"128\" class=\"form-text form-search\" />\\n</div>\\n<div class=\"form-actions form-wrapper\" id=\"edit-actions--2\"><input type=\"submit\" id=\"edit-submit\" name=\"op\" value=\"Поиск\" class=\"form-submit\" /></div><input type=\"hidden\" name=\"form_build_id\" value=\"form-e_lplcoxYmnPogfNnVg9bdGU_t-yt7bLNKlHfPeMwJw\" />\\n<input type=\"hidden\" name=\"form_id\" value=\"search_block_form\" />\\n</div>\\n</div></form>  </div>\\n</div>\\n  </div>\\n  </div></div>\\n  </body>\\n</html>\\n'"
      ]
     },
     "execution_count": 59,
     "metadata": {},
     "output_type": "execute_result"
    }
   ],
   "source": [
    "response.text"
   ]
  },
  {
   "cell_type": "code",
   "execution_count": 57,
   "id": "957cd553",
   "metadata": {},
   "outputs": [
    {
     "data": {
      "text/plain": [
       "{'https://1812panorama.ru/afisha': ['<div class=\"field-title\"><p>Навигатор Победы</p>\\n</div>\\n    ',\n",
       "  '<div class=\"field-title\"><p>Олимпиада «Музеи. Парки. Усадьбы»</p>\\n</div>\\n    ',\n",
       "  '<div class=\"field-title\"><p>Пушкинская карта</p>\\n</div>\\n    ',\n",
       "  '<div class=\"field-title\"><p>Время выбрало нас</p>\\n</div>\\n    ',\n",
       "  '<div class=\"field-title\"><p>Александр Тышлер. Скитания кариатид</p>\\n</div>\\n    ',\n",
       "  '<div class=\"field-title\"><p>Настают времена Минина и Пожарского</p>\\n</div>\\n    ',\n",
       "  '<div class=\"field-title\"><p>Второе дыхание</p>\\n</div>\\n    ',\n",
       "  '<div class=\"field-title\"><p>Лица, совершенно вымышленные</p>\\n</div>\\n    ']}"
      ]
     },
     "execution_count": 57,
     "metadata": {},
     "output_type": "execute_result"
    }
   ],
   "source": [
    "dict_info"
   ]
  },
  {
   "cell_type": "code",
   "execution_count": null,
   "id": "3d8166c6",
   "metadata": {},
   "outputs": [],
   "source": [
    "class=\"field-title\""
   ]
  },
  {
   "cell_type": "code",
   "execution_count": 55,
   "id": "d486bff9",
   "metadata": {},
   "outputs": [
    {
     "data": {
      "text/plain": [
       "'<!DOCTYPE html>\\n<html>\\n<head>\\n  <meta name=\"viewport\" content=\"width=device-width, initial-scale=1, maximum-scale=1, user-scalable=no\">\\n  <meta charset=\"utf-8\" />\\n<link rel=\"shortcut icon\" href=\"https://1812panorama.ru/favicon.ico\" type=\"image/vnd.microsoft.icon\" />\\n<meta name=\"generator\" content=\"Drupal 7 (https://www.drupal.org)\" />\\n<link rel=\"canonical\" href=\"https://1812panorama.ru/afisha\" />\\n<link rel=\"shortlink\" href=\"https://1812panorama.ru/afisha\" />\\n  <link rel=\"apple-touch-icon\" sizes=\"180x180\" href=\"/apple-touch-icon.png\">\\n  <link rel=\"icon\" type=\"image/png\" sizes=\"32x32\" href=\"/favicon-32x32.png\">\\n  <link rel=\"icon\" type=\"image/png\" sizes=\"16x16\" href=\"/favicon-16x16.png\">\\n  <link rel=\"manifest\" href=\"/manifest.json\">\\n  <link rel=\"mask-icon\" href=\"/safari-pinned-tab.svg\" color=\"#5bbad5\">\\n  <meta name=\"theme-color\" content=\"#ffffff\">\\n  <title>Афиша | Музей-панорама «Бородинская битва»</title>\\n  <style media=\"all\">\\n@import url(\"https://1812panorama.ru/modules/system/system.base.css?rzwwud\");\\n@import url(\"https://1812panorama.ru/modules/system/system.menus.css?rzwwud\");\\n@import url(\"https://1812panorama.ru/modules/system/system.messages.css?rzwwud\");\\n@import url(\"https://1812panorama.ru/modules/system/system.theme.css?rzwwud\");\\n</style>\\n<style media=\"all\">\\n@import url(\"https://1812panorama.ru/sites/all/modules/jquery_update/replace/ui/themes/base/minified/jquery.ui.core.min.css?rzwwud\");\\n@import url(\"https://1812panorama.ru/sites/all/modules/jquery_update/replace/ui/themes/base/minified/jquery.ui.theme.min.css?rzwwud\");\\n@import url(\"https://1812panorama.ru/sites/all/modules/jquery_update/replace/ui/themes/base/minified/jquery.ui.datepicker.min.css?rzwwud\");\\n@import url(\"https://1812panorama.ru/sites/all/modules/date/date_popup/themes/jquery.timeentry.css?rzwwud\");\\n</style>\\n<style media=\"all\">\\n@import url(\"https://1812panorama.ru/sites/all/modules/date/date_repeat_field/date_repeat_field.css?rzwwud\");\\n@import url(\"https://1812panorama.ru/modules/field/theme/field.css?rzwwud\");\\n@import url(\"https://1812panorama.ru/modules/node/node.css?rzwwud\");\\n@import url(\"https://1812panorama.ru/modules/search/search.css?rzwwud\");\\n@import url(\"https://1812panorama.ru/modules/user/user.css?rzwwud\");\\n@import url(\"https://1812panorama.ru/sites/all/modules/video_filter/video_filter.css?rzwwud\");\\n@import url(\"https://1812panorama.ru/sites/all/modules/views/css/views.css?rzwwud\");\\n@import url(\"https://1812panorama.ru/sites/all/modules/ckeditor/css/ckeditor.css?rzwwud\");\\n</style>\\n<style media=\"all\">\\n@import url(\"https://1812panorama.ru/sites/all/modules/colorbox/styles/plain/colorbox_style.css?rzwwud\");\\n@import url(\"https://1812panorama.ru/sites/all/modules/ctools/css/ctools.css?rzwwud\");\\n@import url(\"https://1812panorama.ru/sites/all/modules/panels/css/panels.css?rzwwud\");\\n@import url(\"https://1812panorama.ru/sites/all/modules/date/date_popup/themes/datepicker.1.7.css?rzwwud\");\\n</style>\\n<link rel=\"stylesheet\" href=\"https://cdnjs.cloudflare.com/ajax/libs/font-awesome/4.4.0/css/font-awesome.min.css\" media=\"all\" />\\n<style media=\"all\">\\n@import url(\"https://1812panorama.ru/sites/all/modules/tb_megamenu/css/bootstrap.css?rzwwud\");\\n@import url(\"https://1812panorama.ru/sites/all/modules/tb_megamenu/css/base.css?rzwwud\");\\n@import url(\"https://1812panorama.ru/sites/all/modules/tb_megamenu/css/default.css?rzwwud\");\\n@import url(\"https://1812panorama.ru/sites/all/modules/tb_megamenu/css/compatibility.css?rzwwud\");\\n</style>\\n<style media=\"all\">\\n<!--/*--><![CDATA[/*><!--*/\\n.tb-megamenu.animate .mega > .mega-dropdown-menu,.tb-megamenu.animate.slide .mega > .mega-dropdown-menu > div{transition-delay:100ms;-webkit-transition-delay:100ms;-ms-transition-delay:100ms;-o-transition-delay:100ms;transition-duration:200ms;-webkit-transition-duration:200ms;-ms-transition-duration:200ms;-o-transition-duration:200ms;}\\n\\n/*]]>*/-->\\n</style>\\n<style media=\"all\">\\n@import url(\"https://1812panorama.ru/sites/all/themes/mpbb/css/normalize.css?rzwwud\");\\n@import url(\"https://1812panorama.ru/sites/all/themes/mpbb/css/bootstrap.min.css?rzwwud\");\\n@import url(\"https://1812panorama.ru/sites/all/themes/mpbb/css/font-awesome.min.css?rzwwud\");\\n@import url(\"https://1812panorama.ru/sites/all/themes/mpbb/css/myriad-pro.css?rzwwud\");\\n@import url(\"https://1812panorama.ru/sites/all/themes/mpbb/css/jquery-ui.theme.css?rzwwud\");\\n@import url(\"https://1812panorama.ru/sites/all/themes/mpbb/css/style.css?rzwwud\");\\n@import url(\"https://1812panorama.ru/sites/all/themes/mpbb/css/tizer_block.css?rzwwud\");\\n</style>\\n  <script src=\"https://1812panorama.ru/sites/all/modules/jquery_update/replace/jquery/1.10/jquery.min.js?v=1.10.2\"></script>\\n<script src=\"https://1812panorama.ru/misc/jquery-extend-3.4.0.js?v=1.10.2\"></script>\\n<script src=\"https://1812panorama.ru/misc/jquery-html-prefilter-3.5.0-backport.js?v=1.10.2\"></script>\\n<script src=\"https://1812panorama.ru/misc/jquery.once.js?v=1.2\"></script>\\n<script src=\"https://1812panorama.ru/misc/drupal.js?rzwwud\"></script>\\n<script src=\"https://1812panorama.ru/sites/all/modules/jquery_update/replace/ui/ui/minified/jquery.ui.core.min.js?v=1.10.2\"></script>\\n<script src=\"https://1812panorama.ru/sites/all/modules/jquery_update/replace/ui/external/jquery.cookie.js?v=67fb34f6a866c40d0570\"></script>\\n<script src=\"https://1812panorama.ru/sites/all/modules/jquery_update/replace/misc/jquery.form.min.js?v=2.69\"></script>\\n<script src=\"https://1812panorama.ru/sites/all/modules/jquery_update/replace/ui/ui/minified/jquery.ui.datepicker.min.js?v=1.10.2\"></script>\\n<script src=\"https://1812panorama.ru/misc/ui/jquery.ui.datepicker-1.13.0-backport.js?v=1.10.2\"></script>\\n<script src=\"https://1812panorama.ru/modules/locale/locale.datepicker.js?v=1.10.2\"></script>\\n<script src=\"https://1812panorama.ru/sites/all/modules/date/date_popup/jquery.timeentry.pack.js?v=1.4.7\"></script>\\n<script src=\"https://1812panorama.ru/misc/form-single-submit.js?v=7.98\"></script>\\n<script src=\"https://1812panorama.ru/misc/ajax.js?v=7.98\"></script>\\n<script src=\"https://1812panorama.ru/sites/all/modules/jquery_update/js/jquery_update.js?v=0.0.1\"></script>\\n<script src=\"https://1812panorama.ru/sites/all/modules/admin_menu/admin_devel/admin_devel.js?rzwwud\"></script>\\n<script src=\"https://1812panorama.ru/sites/all/modules/entityreference/js/entityreference.js?rzwwud\"></script>\\n<script src=\"https://1812panorama.ru/sites/default/files/languages/ru_j1tQrsyRACilsrvNks_lHJzBT1aWKINflnG3KGQsR_o.js?rzwwud\"></script>\\n<script src=\"https://1812panorama.ru/sites/all/libraries/colorbox/jquery.colorbox-min.js?rzwwud\"></script>\\n<script src=\"https://1812panorama.ru/sites/all/modules/colorbox/js/colorbox.js?rzwwud\"></script>\\n<script src=\"https://1812panorama.ru/sites/all/modules/colorbox/styles/plain/colorbox_style.js?rzwwud\"></script>\\n<script src=\"https://1812panorama.ru/sites/all/modules/date/date_popup/date_popup.js?rzwwud\"></script>\\n<script src=\"https://1812panorama.ru/sites/all/modules/ctools/js/auto-submit.js?rzwwud\"></script>\\n<script src=\"https://1812panorama.ru/sites/all/modules/views_load_more/views_load_more.js?rzwwud\"></script>\\n<script src=\"https://1812panorama.ru/sites/all/modules/views/js/base.js?rzwwud\"></script>\\n<script src=\"https://1812panorama.ru/misc/progress.js?v=7.98\"></script>\\n<script src=\"https://1812panorama.ru/sites/all/modules/views/js/ajax_view.js?rzwwud\"></script>\\n<script src=\"https://1812panorama.ru/sites/all/modules/tb_megamenu/js/tb-megamenu-frontend.js?rzwwud\"></script>\\n<script src=\"https://1812panorama.ru/sites/all/modules/tb_megamenu/js/tb-megamenu-touch.js?rzwwud\"></script>\\n<script src=\"https://1812panorama.ru/sites/all/themes/mpbb/js/jquery.min.js?rzwwud\"></script>\\n<script src=\"https://1812panorama.ru/sites/all/themes/mpbb/js/myscript.js?rzwwud\"></script>\\n<script>\\njQuery.extend(Drupal.settings, {\"basePath\":\"\\\\/\",\"pathPrefix\":\"\",\"setHasJsCookie\":0,\"ajaxPageState\":{\"theme\":\"mpbb\",\"theme_token\":\"Mk6ExBMNXT2yzK1gKCe9LTxD4AZPKil12t63Gsoc6Z8\",\"jquery_version\":\"1.10\",\"js\":{\"sites\\\\/all\\\\/modules\\\\/jquery_update\\\\/replace\\\\/jquery\\\\/1.10\\\\/jquery.min.js\":1,\"misc\\\\/jquery-extend-3.4.0.js\":1,\"misc\\\\/jquery-html-prefilter-3.5.0-backport.js\":1,\"misc\\\\/jquery.once.js\":1,\"misc\\\\/drupal.js\":1,\"sites\\\\/all\\\\/modules\\\\/jquery_update\\\\/replace\\\\/ui\\\\/ui\\\\/minified\\\\/jquery.ui.core.min.js\":1,\"sites\\\\/all\\\\/modules\\\\/jquery_update\\\\/replace\\\\/ui\\\\/external\\\\/jquery.cookie.js\":1,\"sites\\\\/all\\\\/modules\\\\/jquery_update\\\\/replace\\\\/misc\\\\/jquery.form.min.js\":1,\"sites\\\\/all\\\\/modules\\\\/jquery_update\\\\/replace\\\\/ui\\\\/ui\\\\/minified\\\\/jquery.ui.datepicker.min.js\":1,\"misc\\\\/ui\\\\/jquery.ui.datepicker-1.13.0-backport.js\":1,\"modules\\\\/locale\\\\/locale.datepicker.js\":1,\"sites\\\\/all\\\\/modules\\\\/date\\\\/date_popup\\\\/jquery.timeentry.pack.js\":1,\"misc\\\\/form-single-submit.js\":1,\"misc\\\\/ajax.js\":1,\"sites\\\\/all\\\\/modules\\\\/jquery_update\\\\/js\\\\/jquery_update.js\":1,\"sites\\\\/all\\\\/modules\\\\/admin_menu\\\\/admin_devel\\\\/admin_devel.js\":1,\"sites\\\\/all\\\\/modules\\\\/entityreference\\\\/js\\\\/entityreference.js\":1,\"public:\\\\/\\\\/languages\\\\/ru_j1tQrsyRACilsrvNks_lHJzBT1aWKINflnG3KGQsR_o.js\":1,\"sites\\\\/all\\\\/libraries\\\\/colorbox\\\\/jquery.colorbox-min.js\":1,\"sites\\\\/all\\\\/modules\\\\/colorbox\\\\/js\\\\/colorbox.js\":1,\"sites\\\\/all\\\\/modules\\\\/colorbox\\\\/styles\\\\/plain\\\\/colorbox_style.js\":1,\"sites\\\\/all\\\\/modules\\\\/date\\\\/date_popup\\\\/date_popup.js\":1,\"sites\\\\/all\\\\/modules\\\\/ctools\\\\/js\\\\/auto-submit.js\":1,\"sites\\\\/all\\\\/modules\\\\/views_load_more\\\\/views_load_more.js\":1,\"sites\\\\/all\\\\/modules\\\\/views\\\\/js\\\\/base.js\":1,\"misc\\\\/progress.js\":1,\"sites\\\\/all\\\\/modules\\\\/views\\\\/js\\\\/ajax_view.js\":1,\"sites\\\\/all\\\\/modules\\\\/tb_megamenu\\\\/js\\\\/tb-megamenu-frontend.js\":1,\"sites\\\\/all\\\\/modules\\\\/tb_megamenu\\\\/js\\\\/tb-megamenu-touch.js\":1,\"sites\\\\/all\\\\/themes\\\\/mpbb\\\\/js\\\\/jquery.min.js\":1,\"sites\\\\/all\\\\/themes\\\\/mpbb\\\\/js\\\\/myscript.js\":1},\"css\":{\"modules\\\\/system\\\\/system.base.css\":1,\"modules\\\\/system\\\\/system.menus.css\":1,\"modules\\\\/system\\\\/system.messages.css\":1,\"modules\\\\/system\\\\/system.theme.css\":1,\"misc\\\\/ui\\\\/jquery.ui.core.css\":1,\"misc\\\\/ui\\\\/jquery.ui.theme.css\":1,\"misc\\\\/ui\\\\/jquery.ui.datepicker.css\":1,\"sites\\\\/all\\\\/modules\\\\/date\\\\/date_popup\\\\/themes\\\\/jquery.timeentry.css\":1,\"sites\\\\/all\\\\/modules\\\\/date\\\\/date_repeat_field\\\\/date_repeat_field.css\":1,\"modules\\\\/field\\\\/theme\\\\/field.css\":1,\"modules\\\\/node\\\\/node.css\":1,\"modules\\\\/search\\\\/search.css\":1,\"modules\\\\/user\\\\/user.css\":1,\"sites\\\\/all\\\\/modules\\\\/video_filter\\\\/video_filter.css\":1,\"sites\\\\/all\\\\/modules\\\\/views\\\\/css\\\\/views.css\":1,\"sites\\\\/all\\\\/modules\\\\/ckeditor\\\\/css\\\\/ckeditor.css\":1,\"sites\\\\/all\\\\/modules\\\\/colorbox\\\\/styles\\\\/plain\\\\/colorbox_style.css\":1,\"sites\\\\/all\\\\/modules\\\\/ctools\\\\/css\\\\/ctools.css\":1,\"sites\\\\/all\\\\/modules\\\\/panels\\\\/css\\\\/panels.css\":1,\"sites\\\\/all\\\\/modules\\\\/date\\\\/date_popup\\\\/themes\\\\/datepicker.1.7.css\":1,\"https:\\\\/\\\\/cdnjs.cloudflare.com\\\\/ajax\\\\/libs\\\\/font-awesome\\\\/4.4.0\\\\/css\\\\/font-awesome.min.css\":1,\"sites\\\\/all\\\\/modules\\\\/tb_megamenu\\\\/css\\\\/bootstrap.css\":1,\"sites\\\\/all\\\\/modules\\\\/tb_megamenu\\\\/css\\\\/base.css\":1,\"sites\\\\/all\\\\/modules\\\\/tb_megamenu\\\\/css\\\\/default.css\":1,\"sites\\\\/all\\\\/modules\\\\/tb_megamenu\\\\/css\\\\/compatibility.css\":1,\"0\":1,\"sites\\\\/all\\\\/themes\\\\/mpbb\\\\/css\\\\/normalize.css\":1,\"sites\\\\/all\\\\/themes\\\\/mpbb\\\\/css\\\\/bootstrap.min.css\":1,\"sites\\\\/all\\\\/themes\\\\/mpbb\\\\/css\\\\/font-awesome.min.css\":1,\"sites\\\\/all\\\\/themes\\\\/mpbb\\\\/css\\\\/myriad-pro.css\":1,\"sites\\\\/all\\\\/themes\\\\/mpbb\\\\/css\\\\/jquery-ui.theme.css\":1,\"sites\\\\/all\\\\/themes\\\\/mpbb\\\\/css\\\\/style.css\":1,\"sites\\\\/all\\\\/themes\\\\/mpbb\\\\/css\\\\/tizer_block.css\":1}},\"colorbox\":{\"opacity\":\"0.85\",\"current\":\"{current} \\\\u0438\\\\u0437 {total}\",\"previous\":\"\\\\u00ab \\\\u041f\\\\u0440\\\\u0435\\\\u0434\\\\u044b\\\\u0434\\\\u0443\\\\u0449\\\\u0438\\\\u0439\",\"next\":\"\\\\u0421\\\\u043b\\\\u0435\\\\u0434\\\\u0443\\\\u044e\\\\u0449\\\\u0438\\\\u0439 \\\\u00bb\",\"close\":\"\\\\u0417\\\\u0430\\\\u043a\\\\u0440\\\\u044b\\\\u0442\\\\u044c\",\"maxWidth\":\"98%\",\"maxHeight\":\"98%\",\"fixed\":true,\"mobiledetect\":true,\"mobiledevicewidth\":\"319px\",\"file_public_path\":\"\\\\/sites\\\\/default\\\\/files\",\"specificPagesDefaultValue\":\"admin*\\\\nimagebrowser*\\\\nimg_assist*\\\\nimce*\\\\nnode\\\\/add\\\\/*\\\\nnode\\\\/*\\\\/edit\\\\nprint\\\\/*\\\\nprintpdf\\\\/*\\\\nsystem\\\\/ajax\\\\nsystem\\\\/ajax\\\\/*\"},\"video_filter\":{\"url\":{\"ckeditor\":\"\\\\/video_filter\\\\/dashboard\\\\/ckeditor\"},\"instructions_url\":\"\\\\/video_filter\\\\/instructions\",\"modulepath\":\"sites\\\\/all\\\\/modules\\\\/video_filter\"},\"jquery\":{\"ui\":{\"datepicker\":{\"isRTL\":false,\"firstDay\":\"1\"}}},\"datePopup\":{\"edit-between-date-filter-value-datepicker-popup-0\":{\"func\":\"datepicker\",\"settings\":{\"changeMonth\":true,\"changeYear\":true,\"autoPopUp\":\"focus\",\"closeAtTop\":false,\"speed\":\"immediate\",\"firstDay\":1,\"dateFormat\":\"dd.mm.yy\",\"yearRange\":\"-3:+3\",\"fromTo\":false,\"defaultDate\":\"0y\"}}},\"urlIsAjaxTrusted\":{\"\\\\/afisha\":true,\"\\\\/views\\\\/ajax\":true},\"views\":{\"ajax_path\":\"\\\\/views\\\\/ajax\",\"ajaxViews\":{\"views_dom_id:14b0e9280657bdecc2456f1cf314635f\":{\"view_name\":\"exhibitions\",\"view_display_id\":\"page_1\",\"view_args\":\"\",\"view_path\":\"afisha\",\"view_base_path\":\"afisha\",\"view_dom_id\":\"14b0e9280657bdecc2456f1cf314635f\",\"pager_element\":0}}},\"better_exposed_filters\":{\"views\":{\"exhibitions\":{\"displays\":{\"page_1\":{\"filters\":{\"between_date_filter\":{\"required\":false}}}}},\"adress_and_time\":{\"displays\":{\"block\":{\"filters\":[]},\"block_3\":{\"filters\":[]}}}}}});\\n</script>\\n</head>\\n<body class=\"html not-front not-logged-in no-sidebars page-afisha\" >\\n  <!--LiveInternet counter--><script type=\"text/javascript\"><!--\\n  new Image().src = \"//counter.yadro.ru/hit?r\"+\\n  escape(document.referrer)+((typeof(screen)==\"undefined\")?\"\":\\n  \";s\"+screen.width+\"*\"+screen.height+\"*\"+(screen.colorDepth?\\n  screen.colorDepth:screen.pixelDepth))+\";u\"+escape(document.URL)+\\n  \";\"+Math.random();//--></script><!--/LiveInternet-->\\n  \\n  <!--Rating@Mail.ru counter-->\\n<script language=\"javascript\"><!--\\nd=document;var a=\\'\\';a+=\\';r=\\'+escape(d.referrer);js=10;//--></script>\\n<script language=\"javascript1.1\"><!--\\na+=\\';j=\\'+navigator.javaEnabled();js=11;//--></script>\\n<script language=\"javascript1.2\"><!--\\ns=screen;a+=\\';s=\\'+s.width+\\'*\\'+s.height;\\na+=\\';d=\\'+(s.colorDepth?s.colorDepth:s.pixelDepth);js=12;//--></script>\\n<script language=\"javascript1.3\"><!--\\njs=13;//--></script><script language=\"javascript\" type=\"text/javascript\"><!--\\nd.write(\\'<img src=\"http://d5.ca.b0.a2.top.mail.ru/counter\\'+\\'?id=2139608;js=\\'+js+\\na+\\';rand=\\'+Math.random()+\\'\" height=\"1\" width=\"1\" alt=\"top.mail.ru\" border=\"0\">\\');\\nif(11<js)d.write(\\'<\\'+\\'!-- \\');//--></script>\\n<noscript><img src=\"http://d5.ca.b0.a2.top.mail.ru/counter?js=na;id=2139608\" \\nheight=\"1\" width=\"1\" alt=\"top.mail.ru\" border=\"0\"></noscript>\\n<script language=\"javascript\" type=\"text/javascript\"><!--\\nif(11<js)d.write(\\'--\\'+\\'>\\');//--></script>\\n<!--// Rating@Mail.ru counter-->\\n\\n<!--PRO.Культура.РФ counter-->\\n<script src=\"https://culturaltracking.ru/static/js/spxl.js\" data-pixel-id=\"1791\"></script>\\n<!--// PRO.Культура.РФ counter-->\\n\\n  <script type=\"text/javascript\" id=\"statsmosru\" src=\"https://stats.mos.ru/counter.js\" onLoad=\"statsMosRuCounter()\" defer=\"defer\" async=\"true\"></script>\\n  <script src=\"https://www.mos.ru/otrasli-static/outer/mosTizer.js\"></script>\\n\\n  <div id=\"skip-link\">\\n    <a href=\"#main-content\" class=\"element-invisible element-focusable\">Перейти к основному содержанию</a>\\n  </div>\\n    \\n  <div id=\"page-wrapper\">\\n  \\n  \\t\\n  <div class=\"dcult\" ><a href=\"https://www.mos.ru/kultura/\" target=\"_blank\" title=\"Департамент культуры города Москвы\"><img src=\"/i/depkultlogo.jpg\" >&nbsp;&nbsp;Учреждение, подведомственное\\nДепартаменту культуры\\nгорода Москвы</a>\\n</div>\\n  <div id=\"page\">\\n\\t\\n\\t\\n    <div id=\"header\" class=\"clearfix\">\\n\\n      <div class=\"wrapper-response\">\\n\\n        <div class=\"section\">\\n\\n          <div class=\"section logo clearfix\">\\n\\n                          <a href=\"/\" title=\"Главная\" rel=\"home\" id=\"logo\">\\n                <img src=\"https://1812panorama.ru/sites/default/files/logo.png\" alt=\"Главная\" />\\n                <img src=\"/sites/all/themes/mpbb/images/logo-mobile.png\" alt=\"Главная\" />\\n              </a>\\n            \\n          </div>\\n\\n          <div class=\"section section-left clearfix\">\\n\\n                          <div id=\"header_section_address\" class=\"column\"><div class=\"section\">\\n                  <div class=\"region region-address\">\\n    <div id=\"block-views-adress-and-time-block\" class=\"block block-views\">\\n\\n    <h2>Адреса и время работы</h2>\\n  \\n  <div class=\"content\">\\n    <div class=\"view view-adress-and-time view-id-adress_and_time view-display-id-block view-dom-id-d361064336af64aa80974714c4117ce9\">\\n        \\n  \\n  \\n      <div class=\"view-content\">\\n        <div class=\"views-row views-row-1 views-row-odd views-row-first col-md-4\">\\n      \\n  <div class=\"views-field views-field-field-title\">        <div class=\"field-content\"><p>Музей-панорама<br />\\n«Бородинская битва»</p>\\n</div>  </div>  \\n  <div class=\"views-field views-field-field-adress\">        <div class=\"field-content\"><p>Кутузовский проспект,<br />\\nд.\\xa038, стр.\\xa01</p>\\n</div>  </div>  \\n  <div class=\"views-field views-field-field-time-work\">        <div class=\"field-content\"><p>сб-ср:10:00\\xa0– 18:00<br />\\nчт:\\xa0 \\xa0 \\xa010:00\\xa0– 21:00<br />\\nпт:\\xa0 \\xa0 \\xa0 \\xa0 \\xa0 \\xa0 \\xa0 \\xa0закрыт<br />\\n+7 (499) 148 1927</p>\\n</div>  </div>  </div>\\n  <div class=\"views-row views-row-2 views-row-even col-md-4\">\\n      \\n  <div class=\"views-field views-field-field-title\">        <div class=\"field-content\"><p>Музей<br />\\n«Кутузовская изба»</p>\\n</div>  </div>  \\n  <div class=\"views-field views-field-field-adress\">        <div class=\"field-content\"><p>Кутузовский проспект,<br />\\nд.\\xa038, стр. 2</p>\\n</div>  </div>  \\n  <div class=\"views-field views-field-field-time-work\">        <div class=\"field-content\"><p>сб-чт:10:00\\xa0– 18:00<br />\\nпт:\\xa0 \\xa0 \\xa0 \\xa0\\xa0\\xa0 \\xa0 \\xa0 \\xa0закрыт<br />\\n+7 (499) 148 1927</p>\\n</div>  </div>  </div>\\n  <div class=\"views-row views-row-3 views-row-odd views-row-last col-md-4\">\\n      \\n  <div class=\"views-field views-field-field-title\">        <div class=\"field-content\"><p>«Музей Героев<br />\\nСоветского Союза и\\xa0России»</p>\\n</div>  </div>  \\n  <div class=\"views-field views-field-field-adress\">        <div class=\"field-content\"><p>ул. Большая Черёмушкинская,<br />\\nд. 24, кор. 3</p>\\n</div>  </div>  \\n  <div class=\"views-field views-field-field-time-work\">        <div class=\"field-content\"><p>сб-ср:10:00\\xa0– 18:00<br />\\n\\xa0чт:\\xa0 \\xa0\\xa010:00\\xa0– 21:00<br />\\n\\xa0пт:\\xa0 \\xa0 \\xa0 \\xa0 \\xa0 \\xa0 \\xa0 закрыт<br />\\n+7 (499) 148 1927</p>\\n</div>  </div>  </div>\\n    </div>\\n  \\n  \\n  \\n  \\n  \\n  \\n</div>  </div>\\n</div>\\n  </div>\\n              </div></div>\\n            \\n                          <div id=\"header_section_app\" class=\"column\"><div class=\"section\">\\n                  <div class=\"region region-app\">\\n    <div id=\"block-block-11\" class=\"block block-block\">\\n\\n    \\n  <div class=\"content\">\\n    <p><a href=\"https://map.tmatic.travel/ru/tour?filters_lang=&amp;filters_tours_type=&amp;filters_tour_category=&amp;filters_tour_rating=&amp;filters_price=&amp;filters_q=&amp;filters_it_duration=&amp;filters_itinerary_min_duration=&amp;filters_it_category=&amp;filters_content_provider=&amp;center=37.523335,55.738832,17.42\" target=\"_blank\" title=\"Аудиогид\"><img alt=\"\" height=\"22\" src=\"/sites/default/files/guide.png\" width=\"28\" /></a></p>\\n  </div>\\n</div>\\n  </div>\\n              </div></div>\\n            \\n                          <div id=\"header_section_search\" class=\"column\"><div class=\"section\">\\n                  <div class=\"region region-search\">\\n    <div id=\"block-block-12\" class=\"block block-block\">\\n\\n    \\n  <div class=\"content\">\\n    <p><a href=\"#\" title=\"Поиск\"><img alt=\"\" height=\"22\" src=\"/sites/default/files/search.png\" width=\"22\" /></a></p>\\n<p><img alt=\"Поиск\" height=\"39\" src=\"/sites/default/files/search-mobile.png\" width=\"44\" /></p>\\n  </div>\\n</div>\\n  </div>\\n              </div></div>\\n            \\n          </div>\\n\\n          <div class=\"section section-right clearfix\">\\n\\n            \\n\\n                          <div id=\"header_section_glasses\"><div class=\"column\">\\n\\n                  <div class=\"region region-glasses\">\\n    <div id=\"block-block-5\" class=\"block block-block\">\\n\\n    \\n  <div class=\"content\">\\n    <p><a href=\"?theme=mpbb_large\" title=\"Версия для слабовидящих\"><img alt=\"\" height=\"22\" src=\"/sites/default/files/disable.png\" width=\"36\" /></a></p>\\n  </div>\\n</div>\\n<div id=\"block-switchtheme-switch-form\" class=\"block block-switchtheme\">\\n\\n    \\n  <div class=\"content\">\\n    <form action=\"/afisha\" method=\"post\" id=\"switchtheme-switch-form\" accept-charset=\"UTF-8\"><div><div class=\"container-inline form-wrapper\" id=\"edit-widget\"><div class=\"form-item form-type-select form-item-theme\">\\n <select id=\"edit-theme\" name=\"theme\" class=\"form-select required\"><option value=\"mpbb_large\">large</option><option value=\"mpbb\" selected=\"selected\">normal</option></select>\\n</div>\\n<div class=\"form-actions form-wrapper\" id=\"edit-actions\"><input type=\"submit\" id=\"switchtheme-submit\" name=\"op\" value=\"Переключить\" class=\"form-submit\" /></div></div><input type=\"hidden\" name=\"form_build_id\" value=\"form-tRGewoQp7h7Lyzvs1ZXCb4m7mUe71lW1rmmC1DuxAvk\" />\\n<input type=\"hidden\" name=\"form_id\" value=\"switchtheme_switch_form\" />\\n</div></form>  </div>\\n</div>\\n  </div>\\n\\n              </div></div>\\n            \\n                          <div id=\"header_section_order\" class=\"column\"><div class=\"section\">\\n                  <div class=\"region region-order\">\\n    <div id=\"block-block-1\" class=\"block block-block\">\\n\\n    \\n  <div class=\"content\">\\n    <p><a href=\"http://www.1812panorama.ru/content/booking\">ЗАКАЗАТЬ ЭКСКУРСИЮ</a></p>\\n  </div>\\n</div>\\n<div id=\"block-block-18\" class=\"block block-block\">\\n\\n    \\n  <div class=\"content\">\\n    <p><a href=\"https://tickets-1812.leonsoft.ru/buy-ticket\">КУПИТЬ БИЛЕТ</a></p>\\n  </div>\\n</div>\\n  </div>\\n              </div></div>\\n            \\n            <div id=\"header_section_burger\"></div>\\n\\n          </div>\\n\\n        </div>\\n\\n      </div>\\n\\n              <div id=\"navigation\"><div class=\"section\">\\n\\n                      <div id=\"menu\" class=\"clearfix\"><div class=\"section\">\\n                <div class=\"region region-menu\">\\n    <div id=\"block-tb-megamenu-main-menu\" class=\"block block-tb-megamenu\">\\n\\n    \\n  <div class=\"content\">\\n    <div  data-duration=\"200\" data-delay=\"100\" id=\"tb-megamenu-main-menu\" class=\"tb-megamenu tb-megamenu-main-menu animate fading\" role=\"navigation\" aria-label=\"Main navigation\">\\n      <button data-target=\".nav-collapse\" data-toggle=\"collapse\" class=\"btn btn-navbar tb-megamenu-button\" type=\"button\">\\n      <i class=\"fa fa-reorder\"></i>\\n    </button>\\n    <div class=\"nav-collapse  always-show\">\\n    <ul  class=\"tb-megamenu-nav nav level-0 items-7\">\\n    <li  data-id=\"518\" data-level=\"1\" data-type=\"menu_item\" data-class=\"\" data-xicon=\"\" data-caption=\"\" data-alignsub=\"justify\" data-group=\"0\" data-hidewcol=\"0\" data-hidesub=\"0\" id=\"\" style=\"\" class=\"tb-megamenu-item level-1 mega mega-align-justify dropdown\">\\n          <a href=\"#\" class=\"tb_nolink \">\\n                Посетителям      </a>\\n        <div  data-class=\"\" data-width=\"\" class=\"tb-megamenu-submenu dropdown-menu mega-dropdown-menu nav-child\">\\n  <div class=\"mega-dropdown-inner\">\\n    <div  class=\"tb-megamenu-row row-fluid\">\\n  <div  data-showblocktitle=\"1\" data-class=\"\" data-width=\"12\" data-hidewcol=\"\" id=\"tb-megamenu-column-1\" class=\"tb-megamenu-column span12  mega-col-nav\">\\n  <div class=\"tb-megamenu-column-inner mega-inner clearfix\">\\n        <div  data-type=\"block\" data-block=\"menu_block--3\" class=\"tb-megamenu-block tb-block tb-megamenu-block\">\\n  <div class=\"block-inner\">\\n    <div id=\"block-menu-block-3\" class=\"block block-menu-block\">\\n\\n    <h2>Посетителям</h2>\\n  \\n  <div class=\"content\">\\n    <div class=\"menu-block-wrapper menu-block-3 menu-name-main-menu parent-mlid-518 menu-level-1\">\\n  <ul class=\"menu\"><li class=\"first leaf menu-mlid-691\"><a href=\"/visitors/museum-panorama\">Музей-панорама</a></li>\\n<li class=\"leaf menu-mlid-692\"><a href=\"/visitors/muzey-kutuzovskaya-izba\">Кутузовская изба</a></li>\\n<li class=\"leaf menu-mlid-693\"><a href=\"/visitors/muzey-geroev-sovetskogo-soyuza-i-rossii\">Музей Героев</a></li>\\n<li class=\"leaf menu-mlid-694\"><a href=\"/visitors/rules\">Правила посещения</a></li>\\n<li class=\"leaf menu-mlid-695\"><a href=\"http://www.1812panorama.ru/content/booking\">Заказ экскурсий</a></li>\\n<li class=\"leaf menu-mlid-696\"><a href=\"/visitors/museum-events\">Музейные мероприятия</a></li>\\n<li class=\"leaf menu-mlid-697\"><a href=\"/visitors/open-restoration\">Гранты в области культуры</a></li>\\n<li class=\"leaf menu-mlid-698\"><a href=\"/visitors/museum-classes\">Музейные занятия</a></li>\\n<li class=\"leaf menu-mlid-699\"><a href=\"/visitors/thematic-tours\">Экскурсии</a></li>\\n<li class=\"last leaf menu-mlid-700\"><a href=\"/visitors/museum-without-barriers\">Музей без барьеров</a></li>\\n</ul></div>\\n  </div>\\n</div>\\n  </div>\\n</div>\\n  </div>\\n</div>\\n</div>\\n\\n<div  class=\"tb-megamenu-row row-fluid\">\\n  <div  data-class=\"\" data-width=\"\" data-hidewcol=\"0\" id=\"tb-megamenu-column-2\" class=\"tb-megamenu-column span  mega-col-nav\">\\n  <div class=\"tb-megamenu-column-inner mega-inner clearfix\">\\n        <ul  class=\"tb-megamenu-subnav mega-nav level-1 items-10\">\\n    <li  data-id=\"691\" data-level=\"2\" data-type=\"menu_item\" data-class=\"\" data-xicon=\"\" data-caption=\"\" data-alignsub=\"\" data-group=\"0\" data-hidewcol=\"0\" data-hidesub=\"0\" id=\"\" style=\"\" class=\"tb-megamenu-item level-2 mega\">\\n          <a href=\"/visitors/museum-panorama\" >\\n                Музей-панорама                      </a>\\n          </li>\\n\\n  <li  data-id=\"692\" data-level=\"2\" data-type=\"menu_item\" data-class=\"\" data-xicon=\"\" data-caption=\"\" data-alignsub=\"\" data-group=\"0\" data-hidewcol=\"0\" data-hidesub=\"0\" id=\"\" style=\"\" class=\"tb-megamenu-item level-2 mega\">\\n          <a href=\"/visitors/muzey-kutuzovskaya-izba\" >\\n                Кутузовская изба                      </a>\\n          </li>\\n\\n  <li  data-id=\"693\" data-level=\"2\" data-type=\"menu_item\" data-class=\"\" data-xicon=\"\" data-caption=\"\" data-alignsub=\"\" data-group=\"0\" data-hidewcol=\"0\" data-hidesub=\"0\" id=\"\" style=\"\" class=\"tb-megamenu-item level-2 mega\">\\n          <a href=\"/visitors/muzey-geroev-sovetskogo-soyuza-i-rossii\" >\\n                Музей Героев                      </a>\\n          </li>\\n\\n  <li  data-id=\"694\" data-level=\"2\" data-type=\"menu_item\" data-class=\"\" data-xicon=\"\" data-caption=\"\" data-alignsub=\"\" data-group=\"0\" data-hidewcol=\"0\" data-hidesub=\"0\" id=\"\" style=\"\" class=\"tb-megamenu-item level-2 mega\">\\n          <a href=\"/visitors/rules\" >\\n                Правила посещения                      </a>\\n          </li>\\n\\n  <li  data-id=\"695\" data-level=\"2\" data-type=\"menu_item\" data-class=\"\" data-xicon=\"\" data-caption=\"\" data-alignsub=\"\" data-group=\"0\" data-hidewcol=\"0\" data-hidesub=\"0\" id=\"\" style=\"\" class=\"tb-megamenu-item level-2 mega\">\\n          <a href=\"http://www.1812panorama.ru/content/booking\" >\\n                Заказ экскурсий                      </a>\\n          </li>\\n\\n  <li  data-id=\"696\" data-level=\"2\" data-type=\"menu_item\" data-class=\"\" data-xicon=\"\" data-caption=\"\" data-alignsub=\"\" data-group=\"0\" data-hidewcol=\"0\" data-hidesub=\"0\" id=\"\" style=\"\" class=\"tb-megamenu-item level-2 mega\">\\n          <a href=\"/visitors/museum-events\" >\\n                Музейные мероприятия                      </a>\\n          </li>\\n\\n  <li  data-id=\"697\" data-level=\"2\" data-type=\"menu_item\" data-class=\"\" data-xicon=\"\" data-caption=\"\" data-alignsub=\"\" data-group=\"0\" data-hidewcol=\"0\" data-hidesub=\"0\" id=\"\" style=\"\" class=\"tb-megamenu-item level-2 mega\">\\n          <a href=\"/visitors/open-restoration\" >\\n                Гранты в области культуры                      </a>\\n          </li>\\n\\n  <li  data-id=\"698\" data-level=\"2\" data-type=\"menu_item\" data-class=\"\" data-xicon=\"\" data-caption=\"\" data-alignsub=\"\" data-group=\"0\" data-hidewcol=\"0\" data-hidesub=\"0\" id=\"\" style=\"\" class=\"tb-megamenu-item level-2 mega\">\\n          <a href=\"/visitors/museum-classes\" >\\n                Музейные занятия                      </a>\\n          </li>\\n\\n  <li  data-id=\"699\" data-level=\"2\" data-type=\"menu_item\" data-class=\"\" data-xicon=\"\" data-caption=\"\" data-alignsub=\"\" data-group=\"0\" data-hidewcol=\"0\" data-hidesub=\"0\" id=\"\" style=\"\" class=\"tb-megamenu-item level-2 mega\">\\n          <a href=\"/visitors/thematic-tours\" >\\n                Экскурсии                      </a>\\n          </li>\\n\\n  <li  data-id=\"700\" data-level=\"2\" data-type=\"menu_item\" data-class=\"\" data-xicon=\"\" data-caption=\"\" data-alignsub=\"\" data-group=\"0\" data-hidewcol=\"0\" data-hidesub=\"0\" id=\"\" style=\"\" class=\"tb-megamenu-item level-2 mega\">\\n          <a href=\"/visitors/museum-without-barriers\" >\\n                Музей без барьеров                      </a>\\n          </li>\\n</ul>\\n  </div>\\n</div>\\n</div>\\n  </div>\\n</div>\\n  </li>\\n\\n  <li  data-id=\"519\" data-level=\"1\" data-type=\"menu_item\" data-class=\"\" data-xicon=\"\" data-caption=\"\" data-alignsub=\"justify\" data-group=\"0\" data-hidewcol=\"0\" data-hidesub=\"0\" id=\"\" style=\"\" class=\"tb-megamenu-item level-1 mega mega-align-justify dropdown\">\\n          <a href=\"#\" class=\"tb_nolink \">\\n                Музей      </a>\\n        <div  data-class=\"\" data-width=\"\" class=\"tb-megamenu-submenu dropdown-menu mega-dropdown-menu nav-child\">\\n  <div class=\"mega-dropdown-inner\">\\n    <div  class=\"tb-megamenu-row row-fluid\">\\n  <div  data-showblocktitle=\"1\" data-class=\"\" data-width=\"12\" data-hidewcol=\"0\" id=\"tb-megamenu-column-3\" class=\"tb-megamenu-column span12  mega-col-nav\">\\n  <div class=\"tb-megamenu-column-inner mega-inner clearfix\">\\n        <div  data-type=\"block\" data-block=\"menu_block--4\" class=\"tb-megamenu-block tb-block tb-megamenu-block\">\\n  <div class=\"block-inner\">\\n    <div id=\"block-menu-block-4\" class=\"block block-menu-block\">\\n\\n    <h2>Музей</h2>\\n  \\n  <div class=\"content\">\\n    <div class=\"menu-block-wrapper menu-block-4 menu-name-main-menu parent-mlid-519 menu-level-1\">\\n  <ul class=\"menu\"><li class=\"first leaf menu-mlid-960\"><a href=\"/content/missiya-muzeya\">Миссия музея</a></li>\\n<li class=\"leaf menu-mlid-765\"><a href=\"/museum/news\">Новости музея</a></li>\\n<li class=\"leaf menu-mlid-702\"><a href=\"/museum/dokumenty-muzeya\">Документы музея</a></li>\\n<li class=\"leaf menu-mlid-703\"><a href=\"/museum/nezavisimaya-ocenka\">Независимая оценка</a></li>\\n<li class=\"leaf menu-mlid-704\"><a href=\"https://panoramaborodino.museum-online.moscow\" target=\"_blank\">Коллекции-онлайн</a></li>\\n<li class=\"leaf menu-mlid-705\"><a href=\"/museum/conferences\">Конференции</a></li>\\n<li class=\"leaf menu-mlid-706\"><a href=\"/museum/projects\">Проекты</a></li>\\n<li class=\"leaf menu-mlid-707\"><a href=\"/museum/history\">История музея</a></li>\\n<li class=\"leaf menu-mlid-708\"><a href=\"/museum/press-center\">Пресс-центр</a></li>\\n<li class=\"leaf menu-mlid-709\"><a href=\"/smi-o-nas\">СМИ о нас</a></li>\\n<li class=\"leaf menu-mlid-710\"><a href=\"/museum/dlya-gidov-perevodchikov\">Гидам и переводчикам</a></li>\\n<li class=\"last leaf menu-mlid-4219\"><a href=\"/content/vakansii\">Вакансии</a></li>\\n</ul></div>\\n  </div>\\n</div>\\n  </div>\\n</div>\\n  </div>\\n</div>\\n</div>\\n\\n<div  class=\"tb-megamenu-row row-fluid\">\\n  <div  data-class=\"\" data-width=\"\" data-hidewcol=\"0\" id=\"tb-megamenu-column-4\" class=\"tb-megamenu-column span  mega-col-nav\">\\n  <div class=\"tb-megamenu-column-inner mega-inner clearfix\">\\n        <ul  class=\"tb-megamenu-subnav mega-nav level-1 items-12\">\\n    <li  data-id=\"960\" data-level=\"2\" data-type=\"menu_item\" data-class=\"\" data-xicon=\"\" data-caption=\"\" data-alignsub=\"\" data-group=\"0\" data-hidewcol=\"0\" data-hidesub=\"0\" id=\"\" style=\"\" class=\"tb-megamenu-item level-2 mega\">\\n          <a href=\"/content/missiya-muzeya\" >\\n                Миссия музея                      </a>\\n          </li>\\n\\n  <li  data-id=\"765\" data-level=\"2\" data-type=\"menu_item\" data-class=\"\" data-xicon=\"\" data-caption=\"\" data-alignsub=\"\" data-group=\"0\" data-hidewcol=\"0\" data-hidesub=\"0\" id=\"\" style=\"\" class=\"tb-megamenu-item level-2 mega\">\\n          <a href=\"/museum/news\" >\\n                Новости музея                      </a>\\n          </li>\\n\\n  <li  data-id=\"702\" data-level=\"2\" data-type=\"menu_item\" data-class=\"\" data-xicon=\"\" data-caption=\"\" data-alignsub=\"\" data-group=\"0\" data-hidewcol=\"0\" data-hidesub=\"0\" id=\"\" style=\"\" class=\"tb-megamenu-item level-2 mega\">\\n          <a href=\"/museum/dokumenty-muzeya\" >\\n                Документы музея                      </a>\\n          </li>\\n\\n  <li  data-id=\"703\" data-level=\"2\" data-type=\"menu_item\" data-class=\"\" data-xicon=\"\" data-caption=\"\" data-alignsub=\"\" data-group=\"0\" data-hidewcol=\"0\" data-hidesub=\"0\" id=\"\" style=\"\" class=\"tb-megamenu-item level-2 mega\">\\n          <a href=\"/museum/nezavisimaya-ocenka\" >\\n                Независимая оценка                      </a>\\n          </li>\\n\\n  <li  data-id=\"704\" data-level=\"2\" data-type=\"menu_item\" data-class=\"\" data-xicon=\"\" data-caption=\"\" data-alignsub=\"\" data-group=\"0\" data-hidewcol=\"0\" data-hidesub=\"0\" id=\"\" style=\"\" class=\"tb-megamenu-item level-2 mega\">\\n          <a href=\"https://panoramaborodino.museum-online.moscow\"  target=\"_blank\" title=\"Коллекции-онлайн\">\\n                Коллекции-онлайн                      </a>\\n          </li>\\n\\n  <li  data-id=\"705\" data-level=\"2\" data-type=\"menu_item\" data-class=\"\" data-xicon=\"\" data-caption=\"\" data-alignsub=\"\" data-group=\"0\" data-hidewcol=\"0\" data-hidesub=\"0\" id=\"\" style=\"\" class=\"tb-megamenu-item level-2 mega\">\\n          <a href=\"/museum/conferences\" >\\n                Конференции                      </a>\\n          </li>\\n\\n  <li  data-id=\"706\" data-level=\"2\" data-type=\"menu_item\" data-class=\"\" data-xicon=\"\" data-caption=\"\" data-alignsub=\"\" data-group=\"0\" data-hidewcol=\"0\" data-hidesub=\"0\" id=\"\" style=\"\" class=\"tb-megamenu-item level-2 mega\">\\n          <a href=\"/museum/projects\" >\\n                Проекты                      </a>\\n          </li>\\n\\n  <li  data-id=\"707\" data-level=\"2\" data-type=\"menu_item\" data-class=\"\" data-xicon=\"\" data-caption=\"\" data-alignsub=\"\" data-group=\"0\" data-hidewcol=\"0\" data-hidesub=\"0\" id=\"\" style=\"\" class=\"tb-megamenu-item level-2 mega\">\\n          <a href=\"/museum/history\" >\\n                История музея                      </a>\\n          </li>\\n\\n  <li  data-id=\"708\" data-level=\"2\" data-type=\"menu_item\" data-class=\"\" data-xicon=\"\" data-caption=\"\" data-alignsub=\"\" data-group=\"0\" data-hidewcol=\"0\" data-hidesub=\"0\" id=\"\" style=\"\" class=\"tb-megamenu-item level-2 mega\">\\n          <a href=\"/museum/press-center\" >\\n                Пресс-центр                      </a>\\n          </li>\\n\\n  <li  data-id=\"709\" data-level=\"2\" data-type=\"menu_item\" data-class=\"\" data-xicon=\"\" data-caption=\"\" data-alignsub=\"\" data-group=\"0\" data-hidewcol=\"0\" data-hidesub=\"0\" id=\"\" style=\"\" class=\"tb-megamenu-item level-2 mega\">\\n          <a href=\"/smi-o-nas\" >\\n                СМИ о нас                      </a>\\n          </li>\\n\\n  <li  data-id=\"710\" data-level=\"2\" data-type=\"menu_item\" data-class=\"\" data-xicon=\"\" data-caption=\"\" data-alignsub=\"\" data-group=\"0\" data-hidewcol=\"0\" data-hidesub=\"0\" id=\"\" style=\"\" class=\"tb-megamenu-item level-2 mega\">\\n          <a href=\"/museum/dlya-gidov-perevodchikov\" >\\n                Гидам и переводчикам                      </a>\\n          </li>\\n\\n  <li  data-id=\"4219\" data-level=\"2\" data-type=\"menu_item\" data-class=\"\" data-xicon=\"\" data-caption=\"\" data-alignsub=\"\" data-group=\"0\" data-hidewcol=\"0\" data-hidesub=\"0\" id=\"\" style=\"\" class=\"tb-megamenu-item level-2 mega\">\\n          <a href=\"/content/vakansii\" >\\n                Вакансии                      </a>\\n          </li>\\n</ul>\\n  </div>\\n</div>\\n</div>\\n  </div>\\n</div>\\n  </li>\\n\\n  <li  data-id=\"520\" data-level=\"1\" data-type=\"menu_item\" data-class=\"\" data-xicon=\"\" data-caption=\"\" data-alignsub=\"\" data-group=\"0\" data-hidewcol=\"0\" data-hidesub=\"0\" id=\"\" style=\"\" class=\"tb-megamenu-item level-1 mega active active-trail\">\\n          <a href=\"/afisha\" >\\n                Афиша                      </a>\\n          </li>\\n\\n  <li  data-id=\"521\" data-level=\"1\" data-type=\"menu_item\" data-class=\"\" data-xicon=\"\" data-caption=\"\" data-alignsub=\"justify\" data-group=\"0\" data-hidewcol=\"0\" data-hidesub=\"0\" id=\"\" style=\"\" class=\"tb-megamenu-item level-1 mega mega-align-justify dropdown\">\\n          <a href=\"#\" class=\"tb_nolink \">\\n                Выставки      </a>\\n        <div  data-class=\"\" data-width=\"\" class=\"tb-megamenu-submenu dropdown-menu mega-dropdown-menu nav-child\">\\n  <div class=\"mega-dropdown-inner\">\\n    <div  class=\"tb-megamenu-row row-fluid\">\\n  <div  data-showblocktitle=\"1\" data-class=\"\" data-width=\"12\" data-hidewcol=\"0\" id=\"tb-megamenu-column-5\" class=\"tb-megamenu-column span12  mega-col-nav\">\\n  <div class=\"tb-megamenu-column-inner mega-inner clearfix\">\\n        <div  data-type=\"block\" data-block=\"menu_block--5\" class=\"tb-megamenu-block tb-block tb-megamenu-block\">\\n  <div class=\"block-inner\">\\n    <div id=\"block-menu-block-5\" class=\"block block-menu-block\">\\n\\n    <h2>Выставки</h2>\\n  \\n  <div class=\"content\">\\n    <div class=\"menu-block-wrapper menu-block-5 menu-name-main-menu parent-mlid-521 menu-level-1\">\\n  <ul class=\"menu\"><li class=\"first leaf menu-mlid-711\"><a href=\"/exhibitions/main\">Основные</a></li>\\n<li class=\"leaf menu-mlid-712\"><a href=\"/exhibitions/outside\">Выставки вне музея</a></li>\\n<li class=\"last leaf menu-mlid-713\"><a href=\"/exhibitions/virtual\">Виртуальные выставки</a></li>\\n</ul></div>\\n  </div>\\n</div>\\n  </div>\\n</div>\\n  </div>\\n</div>\\n</div>\\n\\n<div  class=\"tb-megamenu-row row-fluid\">\\n  <div  data-class=\"\" data-width=\"\" data-hidewcol=\"\" id=\"tb-megamenu-column-6\" class=\"tb-megamenu-column span  mega-col-nav\">\\n  <div class=\"tb-megamenu-column-inner mega-inner clearfix\">\\n        <ul  class=\"tb-megamenu-subnav mega-nav level-1 items-3\">\\n    <li  data-id=\"711\" data-level=\"2\" data-type=\"menu_item\" data-class=\"\" data-xicon=\"\" data-caption=\"\" data-alignsub=\"\" data-group=\"0\" data-hidewcol=\"0\" data-hidesub=\"0\" id=\"\" style=\"\" class=\"tb-megamenu-item level-2 mega\">\\n          <a href=\"/exhibitions/main\" >\\n                Основные                      </a>\\n          </li>\\n\\n  <li  data-id=\"712\" data-level=\"2\" data-type=\"menu_item\" data-class=\"\" data-xicon=\"\" data-caption=\"\" data-alignsub=\"\" data-group=\"0\" data-hidewcol=\"0\" data-hidesub=\"0\" id=\"\" style=\"\" class=\"tb-megamenu-item level-2 mega\">\\n          <a href=\"/exhibitions/outside\" >\\n                Выставки вне музея                      </a>\\n          </li>\\n\\n  <li  data-id=\"713\" data-level=\"2\" data-type=\"menu_item\" data-class=\"\" data-xicon=\"\" data-caption=\"\" data-alignsub=\"\" data-group=\"0\" data-hidewcol=\"0\" data-hidesub=\"0\" id=\"\" style=\"\" class=\"tb-megamenu-item level-2 mega\">\\n          <a href=\"/exhibitions/virtual\" >\\n                Виртуальные выставки                      </a>\\n          </li>\\n</ul>\\n  </div>\\n</div>\\n</div>\\n  </div>\\n</div>\\n  </li>\\n\\n  <li  data-id=\"522\" data-level=\"1\" data-type=\"menu_item\" data-class=\"\" data-xicon=\"\" data-caption=\"\" data-alignsub=\"\" data-group=\"0\" data-hidewcol=\"0\" data-hidesub=\"0\" id=\"\" style=\"\" class=\"tb-megamenu-item level-1 mega\">\\n          <a href=\"/contacts\" >\\n                Контакты                      </a>\\n          </li>\\n\\n  <li  data-id=\"3657\" data-level=\"1\" data-type=\"menu_item\" data-class=\"\" data-xicon=\"\" data-caption=\"\" data-alignsub=\"\" data-group=\"0\" data-hidewcol=\"0\" data-hidesub=\"0\" id=\"\" style=\"\" class=\"tb-megamenu-item level-1 mega\">\\n          <a href=\"http://1812panorama.ru/content/bilety\" >\\n                Билеты                      </a>\\n          </li>\\n\\n  <li  data-id=\"955\" data-level=\"1\" data-type=\"menu_item\" data-class=\"\" data-xicon=\"\" data-caption=\"\" data-alignsub=\"\" data-group=\"0\" data-hidewcol=\"0\" data-hidesub=\"0\" id=\"\" style=\"\" class=\"tb-megamenu-item level-1 mega\">\\n          <a href=\"https://izi.travel/ru/5f4a-muzey-panorama-borodinskaya-bitva\" >\\n                Аудиогид izi.travel                      </a>\\n          </li>\\n</ul>\\n      </div>\\n  </div>\\n  </div>\\n</div>\\n<div id=\"block-menu-block-6\" class=\"block block-menu-block\">\\n\\n    \\n  <div class=\"content\">\\n    <div class=\"menu-block-wrapper menu-block-6 menu-name-main-menu parent-mlid-0 menu-level-1\">\\n  <ul class=\"menu\"><li class=\"first expanded menu-mlid-518\"><span id=\"dropdown-block-views-menu-visitors-block\" class=\"nolink\" tabindex=\"0\">Посетителям</span><ul class=\"menu\"><li class=\"first leaf menu-mlid-691\"><a href=\"/visitors/museum-panorama\">Музей-панорама</a></li>\\n<li class=\"leaf menu-mlid-692\"><a href=\"/visitors/muzey-kutuzovskaya-izba\">Кутузовская изба</a></li>\\n<li class=\"leaf menu-mlid-693\"><a href=\"/visitors/muzey-geroev-sovetskogo-soyuza-i-rossii\">Музей Героев</a></li>\\n<li class=\"leaf menu-mlid-694\"><a href=\"/visitors/rules\">Правила посещения</a></li>\\n<li class=\"leaf menu-mlid-695\"><a href=\"http://www.1812panorama.ru/content/booking\">Заказ экскурсий</a></li>\\n<li class=\"leaf menu-mlid-696\"><a href=\"/visitors/museum-events\">Музейные мероприятия</a></li>\\n<li class=\"leaf menu-mlid-697\"><a href=\"/visitors/open-restoration\">Гранты в области культуры</a></li>\\n<li class=\"leaf menu-mlid-698\"><a href=\"/visitors/museum-classes\">Музейные занятия</a></li>\\n<li class=\"leaf menu-mlid-699\"><a href=\"/visitors/thematic-tours\">Экскурсии</a></li>\\n<li class=\"last leaf menu-mlid-700\"><a href=\"/visitors/museum-without-barriers\">Музей без барьеров</a></li>\\n</ul></li>\\n<li class=\"expanded menu-mlid-519\"><span id=\"dropdown-block-views-menu-visitors-block-1\" class=\"nolink\" tabindex=\"0\">Музей</span><ul class=\"menu\"><li class=\"first leaf menu-mlid-960\"><a href=\"/content/missiya-muzeya\">Миссия музея</a></li>\\n<li class=\"leaf menu-mlid-765\"><a href=\"/museum/news\">Новости музея</a></li>\\n<li class=\"leaf menu-mlid-702\"><a href=\"/museum/dokumenty-muzeya\">Документы музея</a></li>\\n<li class=\"leaf menu-mlid-703\"><a href=\"/museum/nezavisimaya-ocenka\">Независимая оценка</a></li>\\n<li class=\"leaf menu-mlid-704\"><a href=\"https://panoramaborodino.museum-online.moscow\" target=\"_blank\">Коллекции-онлайн</a></li>\\n<li class=\"leaf menu-mlid-705\"><a href=\"/museum/conferences\">Конференции</a></li>\\n<li class=\"leaf menu-mlid-706\"><a href=\"/museum/projects\">Проекты</a></li>\\n<li class=\"leaf menu-mlid-707\"><a href=\"/museum/history\">История музея</a></li>\\n<li class=\"leaf menu-mlid-708\"><a href=\"/museum/press-center\">Пресс-центр</a></li>\\n<li class=\"leaf menu-mlid-709\"><a href=\"/smi-o-nas\">СМИ о нас</a></li>\\n<li class=\"leaf menu-mlid-710\"><a href=\"/museum/dlya-gidov-perevodchikov\">Гидам и переводчикам</a></li>\\n<li class=\"last leaf menu-mlid-4219\"><a href=\"/content/vakansii\">Вакансии</a></li>\\n</ul></li>\\n<li class=\"leaf active-trail active menu-mlid-520\"><a href=\"/afisha\" class=\"active-trail active\">Афиша</a></li>\\n<li class=\"expanded menu-mlid-521\"><span id=\"dropdown-block-views-menu-visitors-block-2\" class=\"nolink\" tabindex=\"0\">Выставки</span><ul class=\"menu\"><li class=\"first leaf menu-mlid-711\"><a href=\"/exhibitions/main\">Основные</a></li>\\n<li class=\"leaf menu-mlid-712\"><a href=\"/exhibitions/outside\">Выставки вне музея</a></li>\\n<li class=\"last leaf menu-mlid-713\"><a href=\"/exhibitions/virtual\">Виртуальные выставки</a></li>\\n</ul></li>\\n<li class=\"leaf menu-mlid-522\"><a href=\"/contacts\">Контакты</a></li>\\n<li class=\"leaf menu-mlid-3657\"><a href=\"http://1812panorama.ru/content/bilety\">Билеты</a></li>\\n<li class=\"last leaf menu-mlid-955\"><a href=\"https://izi.travel/ru/5f4a-muzey-panorama-borodinskaya-bitva\">Аудиогид izi.travel</a></li>\\n</ul></div>\\n  </div>\\n</div>\\n  </div>\\n            </div></div>\\n          \\n          \\n        </div></div>\\n      \\n    </div>\\n\\n          <div id=\"breadcrumb\"><h2 class=\"element-invisible\">Вы здесь</h2><div class=\"breadcrumb\"><a href=\"/\">Главная</a> » <span class=\"breadcrumb__item--current-page\">Афиша</span></div></div>\\n    \\n    \\n    <div id=\"main-wrapper\"><div id=\"main\" class=\"clearfix\">\\n\\n      \\n      <div id=\"content\" class=\"column\"><div class=\"section\">\\n                <a id=\"main-content\"></a>\\n                <h1 class=\"title\" id=\"page-title\">Афиша</h1>                <div class=\"tabs\"></div>                          <div class=\"region region-content\">\\n    <div id=\"block-system-main\" class=\"block block-system\">\\n\\n    \\n  <div class=\"content\">\\n    <div class=\"view view-exhibitions view-id-exhibitions view-display-id-page_1 view-dom-id-14b0e9280657bdecc2456f1cf314635f\">\\n            <div class=\"view-header\">\\n      АФИША    </div>\\n  \\n      <div class=\"view-filters\">\\n      <form class=\"ctools-auto-submit-full-form\" action=\"/afisha\" method=\"get\" id=\"views-exposed-form-exhibitions-page-1\" accept-charset=\"UTF-8\"><div><div class=\"views-exposed-form\">\\n  <div class=\"views-exposed-widgets clearfix\">\\n          <div id=\"date_views_exposed_filter-e8e9d84e052d8790df52fc69f40e3e20-wrapper\" class=\"views-exposed-widget views-widget-filter-between_date_filter\">\\n                  <label for=\"date_views_exposed_filter-e8e9d84e052d8790df52fc69f40e3e20\">\\n            Выберите дату          </label>\\n                        <div class=\"views-widget\">\\n          <div id=\"date_views_exposed_filter-e8e9d84e052d8790df52fc69f40e3e20\" class=\"form-wrapper\"><div id=\"edit-between-date-filter-value-wrapper\"><div id=\"edit-between-date-filter-value-inside-wrapper\"><div  class=\"container-inline-date\"><div class=\"form-item form-type-date-popup form-item-between-date-filter-value\">\\n  <label class=\"element-invisible\" for=\"edit-between-date-filter-value\">Выберите дату </label>\\n <div id=\"edit-between-date-filter-value\"  class=\"date-padding\"><div class=\"form-item form-type-textfield form-item-between-date-filter-value-date\">\\n  <label class=\"element-invisible\" for=\"edit-between-date-filter-value-datepicker-popup-0\">Дата </label>\\n <input type=\"text\" id=\"edit-between-date-filter-value-datepicker-popup-0\" name=\"between_date_filter[value][date]\" value=\"04.12.2023\" size=\"20\" maxlength=\"30\" class=\"form-text\" />\\n<div class=\"description\"> Например: 04.12.2023</div>\\n</div>\\n</div>\\n</div>\\n</div></div></div></div>        </div>\\n              </div>\\n                    <div class=\"views-exposed-widget views-submit-button\">\\n      <input class=\"ctools-use-ajax ctools-auto-submit-click js-hide form-submit\" type=\"submit\" id=\"edit-submit-exhibitions\" value=\"Применить\" />    </div>\\n      </div>\\n</div>\\n</div></form>    </div>\\n  \\n  \\n      <div class=\"view-content\">\\n        <h3>Музейное мероприятие</h3>\\n  <div class=\"views-row views-row-1 views-row-odd views-row-first js-fadeIn\">\\n      \\n  <div class=\"views-field views-field-nothing\">        <span class=\"field-content\"><div class=\\'wrapper-inner-content\\'>\\n  <div class=\"field-image-preview\"><img typeof=\"foaf:Image\" src=\"https://1812panorama.ru/sites/default/files/styles/380x270/public/museum_events/2023/11/09/image_navigator.jpg?itok=f34reohK\" width=\"380\" height=\"270\" alt=\"\" /></div>\\n  <div class=\"field-more-title\">\\n    <div class=\"field-title\"><p>Навигатор Победы</p>\\n</div>\\n    <div class=\"field-type\">Музейное мероприятие</div>\\n    <div class=\"field-date\"><span  class=\"date-display-range\">с <span  property=\"dc:date\" datatype=\"xsd:dateTime\" content=\"2023-11-08T00:00:00+03:00\" class=\"date-display-start\">08.11.2023</span> по <span  property=\"dc:date\" datatype=\"xsd:dateTime\" content=\"2023-12-28T00:00:00+03:00\" class=\"date-display-end\">28.12.2023</span></span></div>\\n  </div>\\n  <div class=\"field-more-preview\">\\n    <div class=\"field-text-preview\"><p>Программы патриотического туризма</p>\\n</div>\\n    <div class=\"field-museums\">Музей-панорама  «Бородинская битва»</div>\\n    <div class=\"field-date\"><span  class=\"date-display-range\">с <span  property=\"dc:date\" datatype=\"xsd:dateTime\" content=\"2023-11-08T00:00:00+03:00\" class=\"date-display-start\">08.11.2023</span> по <span  property=\"dc:date\" datatype=\"xsd:dateTime\" content=\"2023-12-28T00:00:00+03:00\" class=\"date-display-end\">28.12.2023</span></span></div>\\n    <div class=\"field-link\"><a href=\"/visitors/museum-events/navigator-pobedy\">ПОДРОБНЕЕ <i class=\"fa fa-angle-right\" aria-hidden=\"true\"></i></a></div>\\n    <div class=\"field-link\"></div>\\n  </div>\\n</div></span>  </div>  </div>\\n  <div class=\"views-row views-row-2 views-row-even js-fadeIn\">\\n      \\n  <div class=\"views-field views-field-nothing\">        <span class=\"field-content\"><div class=\\'wrapper-inner-content\\'>\\n  <div class=\"field-image-preview\"><img typeof=\"foaf:Image\" src=\"https://1812panorama.ru/sites/default/files/styles/380x270/public/museum_events/2023/11/03/image_olimpia.jpg?itok=Y_DYlq1m\" width=\"380\" height=\"270\" alt=\"\" /></div>\\n  <div class=\"field-more-title\">\\n    <div class=\"field-title\"><p>Олимпиада «Музеи. Парки. Усадьбы»</p>\\n</div>\\n    <div class=\"field-type\">Музейное мероприятие</div>\\n    <div class=\"field-date\"><span  class=\"date-display-range\">с <span  property=\"dc:date\" datatype=\"xsd:dateTime\" content=\"2023-11-04T00:00:00+03:00\" class=\"date-display-start\">04.11.2023</span> по <span  property=\"dc:date\" datatype=\"xsd:dateTime\" content=\"2024-03-31T00:00:00+03:00\" class=\"date-display-end\">31.03.2024</span></span></div>\\n  </div>\\n  <div class=\"field-more-preview\">\\n    <div class=\"field-text-preview\"><p>Одиннадцатый\\xa0сезон\\xa0Олимпиады</p>\\n</div>\\n    <div class=\"field-museums\">Музей-панорама  «Бородинская битва»</div>\\n    <div class=\"field-date\"><span  class=\"date-display-range\">с <span  property=\"dc:date\" datatype=\"xsd:dateTime\" content=\"2023-11-04T00:00:00+03:00\" class=\"date-display-start\">04.11.2023</span> по <span  property=\"dc:date\" datatype=\"xsd:dateTime\" content=\"2024-03-31T00:00:00+03:00\" class=\"date-display-end\">31.03.2024</span></span></div>\\n    <div class=\"field-link\"><a href=\"/visitors/museum-events/olimpiada-muzei-parki-usadby-3\">ПОДРОБНЕЕ <i class=\"fa fa-angle-right\" aria-hidden=\"true\"></i></a></div>\\n    <div class=\"field-link\"></div>\\n  </div>\\n</div></span>  </div>  </div>\\n  <div class=\"views-row views-row-3 views-row-odd views-row-last js-fadeIn\">\\n      \\n  <div class=\"views-field views-field-nothing\">        <span class=\"field-content\"><div class=\\'wrapper-inner-content\\'>\\n  <div class=\"field-image-preview\"><img typeof=\"foaf:Image\" src=\"https://1812panorama.ru/sites/default/files/styles/380x270/public/museum_events/2021/09/16/image_pushkart.jpg?itok=yshd4CsD\" width=\"380\" height=\"270\" alt=\"\" /></div>\\n  <div class=\"field-more-title\">\\n    <div class=\"field-title\"><p>Пушкинская карта</p>\\n</div>\\n    <div class=\"field-type\">Музейное мероприятие</div>\\n    <div class=\"field-date\"><span  class=\"date-display-range\">с <span  property=\"dc:date\" datatype=\"xsd:dateTime\" content=\"2021-09-01T00:00:00+03:00\" class=\"date-display-start\">01.09.2021</span> по <span  property=\"dc:date\" datatype=\"xsd:dateTime\" content=\"2023-12-28T00:00:00+03:00\" class=\"date-display-end\">28.12.2023</span></span></div>\\n  </div>\\n  <div class=\"field-more-preview\">\\n    <div class=\"field-text-preview\"><p>Что посмотреть в музее участникам программы «Пушкинская карта»?</p>\\n</div>\\n    <div class=\"field-museums\">Музей-панорама  «Бородинская битва»</div>\\n    <div class=\"field-date\"><span  class=\"date-display-range\">с <span  property=\"dc:date\" datatype=\"xsd:dateTime\" content=\"2021-09-01T00:00:00+03:00\" class=\"date-display-start\">01.09.2021</span> по <span  property=\"dc:date\" datatype=\"xsd:dateTime\" content=\"2023-12-28T00:00:00+03:00\" class=\"date-display-end\">28.12.2023</span></span></div>\\n    <div class=\"field-link\"><a href=\"/visitors/museum-events/pushkinskaya-karta\">ПОДРОБНЕЕ <i class=\"fa fa-angle-right\" aria-hidden=\"true\"></i></a></div>\\n    <div class=\"field-link\"></div>\\n  </div>\\n</div></span>  </div>  </div>\\n  <h3>Выставка основная</h3>\\n  <div class=\"views-row views-row-1 views-row-odd views-row-first js-fadeIn\">\\n      \\n  <div class=\"views-field views-field-nothing\">        <span class=\"field-content\"><div class=\\'wrapper-inner-content\\'>\\n  <div class=\"field-image-preview\"><img typeof=\"foaf:Image\" src=\"https://1812panorama.ru/sites/default/files/styles/380x270/public/exhibitions/2023/10/26/mage_vvn.jpg?itok=Kjoq12b_\" width=\"380\" height=\"270\" alt=\"\" /></div>\\n  <div class=\"field-more-title\">\\n    <div class=\"field-title\"><p>Время выбрало нас</p>\\n</div>\\n    <div class=\"field-type\">Выставка основная</div>\\n    <div class=\"field-date\"><span  class=\"date-display-range\">с <span  property=\"dc:date\" datatype=\"xsd:dateTime\" content=\"2023-11-04T00:00:00+03:00\" class=\"date-display-start\">04.11.2023</span> по <span  property=\"dc:date\" datatype=\"xsd:dateTime\" content=\"2023-12-29T00:00:00+03:00\" class=\"date-display-end\">29.12.2023</span></span></div>\\n  </div>\\n  <div class=\"field-more-preview\">\\n    <div class=\"field-text-preview\"><p>При участии мастерской «Классик»,\\xa0Студии имени М.Б.Грекова и\\xa0Управления начальника инженерных войск Вооруженных Сил РФ</p>\\n</div>\\n    <div class=\"field-museums\">Музей Героев Советского Союза и России</div>\\n    <div class=\"field-date\"><span  class=\"date-display-range\">с <span  property=\"dc:date\" datatype=\"xsd:dateTime\" content=\"2023-11-04T00:00:00+03:00\" class=\"date-display-start\">04.11.2023</span> по <span  property=\"dc:date\" datatype=\"xsd:dateTime\" content=\"2023-12-29T00:00:00+03:00\" class=\"date-display-end\">29.12.2023</span></span></div>\\n    <div class=\"field-link\"><a href=\"/exhibitions/main/vremya-vybralo-nas\">ПОДРОБНЕЕ <i class=\"fa fa-angle-right\" aria-hidden=\"true\"></i></a></div>\\n    <div class=\"field-link\"></div>\\n  </div>\\n</div></span>  </div>  </div>\\n  <div class=\"views-row views-row-2 views-row-even js-fadeIn\">\\n      \\n  <div class=\"views-field views-field-nothing\">        <span class=\"field-content\"><div class=\\'wrapper-inner-content\\'>\\n  <div class=\"field-image-preview\"><img typeof=\"foaf:Image\" src=\"https://1812panorama.ru/sites/default/files/styles/380x270/public/exhibitions/2023/10/26/image_tyshler.jpg?itok=PuDB9npX\" width=\"380\" height=\"270\" alt=\"\" /></div>\\n  <div class=\"field-more-title\">\\n    <div class=\"field-title\"><p>Александр Тышлер. Скитания кариатид</p>\\n</div>\\n    <div class=\"field-type\">Выставка основная</div>\\n    <div class=\"field-date\"><span  class=\"date-display-range\">с <span  property=\"dc:date\" datatype=\"xsd:dateTime\" content=\"2023-11-04T00:00:00+03:00\" class=\"date-display-start\">04.11.2023</span> по <span  property=\"dc:date\" datatype=\"xsd:dateTime\" content=\"2023-12-29T00:00:00+03:00\" class=\"date-display-end\">29.12.2023</span></span></div>\\n  </div>\\n  <div class=\"field-more-preview\">\\n    <div class=\"field-text-preview\"><p>Из собрания\\xa0Музея-панорамы «Бородинская битва»</p>\\n</div>\\n    <div class=\"field-museums\">Музей-панорама  «Бородинская битва»</div>\\n    <div class=\"field-date\"><span  class=\"date-display-range\">с <span  property=\"dc:date\" datatype=\"xsd:dateTime\" content=\"2023-11-04T00:00:00+03:00\" class=\"date-display-start\">04.11.2023</span> по <span  property=\"dc:date\" datatype=\"xsd:dateTime\" content=\"2023-12-29T00:00:00+03:00\" class=\"date-display-end\">29.12.2023</span></span></div>\\n    <div class=\"field-link\"><a href=\"/exhibitions/main/aleksandr-tyshler-skitaniya-kariatid\">ПОДРОБНЕЕ <i class=\"fa fa-angle-right\" aria-hidden=\"true\"></i></a></div>\\n    <div class=\"field-link\"></div>\\n  </div>\\n</div></span>  </div>  </div>\\n  <div class=\"views-row views-row-3 views-row-odd js-fadeIn\">\\n      \\n  <div class=\"views-field views-field-nothing\">        <span class=\"field-content\"><div class=\\'wrapper-inner-content\\'>\\n  <div class=\"field-image-preview\"><img typeof=\"foaf:Image\" src=\"https://1812panorama.ru/sites/default/files/styles/380x270/public/exhibitions/2023/09/09/image_mimim.jpg?itok=H61SDcww\" width=\"380\" height=\"270\" alt=\"\" /></div>\\n  <div class=\"field-more-title\">\\n    <div class=\"field-title\"><p>Настают времена Минина и Пожарского</p>\\n</div>\\n    <div class=\"field-type\">Выставка основная</div>\\n    <div class=\"field-date\"><span  class=\"date-display-range\">с <span  property=\"dc:date\" datatype=\"xsd:dateTime\" content=\"2023-09-07T00:00:00+03:00\" class=\"date-display-start\">07.09.2023</span> по <span  property=\"dc:date\" datatype=\"xsd:dateTime\" content=\"2024-01-18T00:00:00+03:00\" class=\"date-display-end\">18.01.2024</span></span></div>\\n  </div>\\n  <div class=\"field-more-preview\">\\n    <div class=\"field-text-preview\"><p>Нижний Новгород и нижегородцы в Отечественной войне 1812 года</p>\\n</div>\\n    <div class=\"field-museums\">Музей-панорама  «Бородинская битва»</div>\\n    <div class=\"field-date\"><span  class=\"date-display-range\">с <span  property=\"dc:date\" datatype=\"xsd:dateTime\" content=\"2023-09-07T00:00:00+03:00\" class=\"date-display-start\">07.09.2023</span> по <span  property=\"dc:date\" datatype=\"xsd:dateTime\" content=\"2024-01-18T00:00:00+03:00\" class=\"date-display-end\">18.01.2024</span></span></div>\\n    <div class=\"field-link\"><a href=\"/exhibitions/main/nastayut-vremena-minina-i-pozharskogo\">ПОДРОБНЕЕ <i class=\"fa fa-angle-right\" aria-hidden=\"true\"></i></a></div>\\n    <div class=\"field-link\"></div>\\n  </div>\\n</div></span>  </div>  </div>\\n  <div class=\"views-row views-row-4 views-row-even js-fadeIn\">\\n      \\n  <div class=\"views-field views-field-nothing\">        <span class=\"field-content\"><div class=\\'wrapper-inner-content\\'>\\n  <div class=\"field-image-preview\"><img typeof=\"foaf:Image\" src=\"https://1812panorama.ru/sites/default/files/styles/380x270/public/exhibitions/2023/06/14/image_vtodyh.jpg?itok=UeI0u4eg\" width=\"380\" height=\"270\" alt=\"\" /></div>\\n  <div class=\"field-more-title\">\\n    <div class=\"field-title\"><p>Второе дыхание</p>\\n</div>\\n    <div class=\"field-type\">Выставка основная</div>\\n    <div class=\"field-date\"><span  class=\"date-display-range\">с <span  property=\"dc:date\" datatype=\"xsd:dateTime\" content=\"2023-06-10T00:00:00+03:00\" class=\"date-display-start\">10.06.2023</span> по <span  property=\"dc:date\" datatype=\"xsd:dateTime\" content=\"2024-02-11T00:00:00+03:00\" class=\"date-display-end\">11.02.2024</span></span></div>\\n  </div>\\n  <div class=\"field-more-preview\">\\n    <div class=\"field-text-preview\"><p>При участии Государственного научно-исследовательского института реставрации</p>\\n</div>\\n    <div class=\"field-museums\">Музей-панорама  «Бородинская битва»</div>\\n    <div class=\"field-date\"><span  class=\"date-display-range\">с <span  property=\"dc:date\" datatype=\"xsd:dateTime\" content=\"2023-06-10T00:00:00+03:00\" class=\"date-display-start\">10.06.2023</span> по <span  property=\"dc:date\" datatype=\"xsd:dateTime\" content=\"2024-02-11T00:00:00+03:00\" class=\"date-display-end\">11.02.2024</span></span></div>\\n    <div class=\"field-link\"><a href=\"/exhibitions/main/vtoroe-dyhanie\">ПОДРОБНЕЕ <i class=\"fa fa-angle-right\" aria-hidden=\"true\"></i></a></div>\\n    <div class=\"field-link\"></div>\\n  </div>\\n</div></span>  </div>  </div>\\n  <div class=\"views-row views-row-5 views-row-odd views-row-last js-fadeIn\">\\n      \\n  <div class=\"views-field views-field-nothing\">        <span class=\"field-content\"><div class=\\'wrapper-inner-content\\'>\\n  <div class=\"field-image-preview\"><img typeof=\"foaf:Image\" src=\"https://1812panorama.ru/sites/default/files/styles/380x270/public/exhibitions/2023/01/23/image_lsv.jpg?itok=EgvnZdjD\" width=\"380\" height=\"270\" alt=\"\" /></div>\\n  <div class=\"field-more-title\">\\n    <div class=\"field-title\"><p>Лица, совершенно вымышленные</p>\\n</div>\\n    <div class=\"field-type\">Выставка основная</div>\\n    <div class=\"field-date\"><span  class=\"date-display-range\">с <span  property=\"dc:date\" datatype=\"xsd:dateTime\" content=\"2023-02-04T00:00:00+03:00\" class=\"date-display-start\">04.02.2023</span> по <span  property=\"dc:date\" datatype=\"xsd:dateTime\" content=\"2023-12-28T00:00:00+03:00\" class=\"date-display-end\">28.12.2023</span></span></div>\\n  </div>\\n  <div class=\"field-more-preview\">\\n    <div class=\"field-text-preview\"><p>К\\xa0195-летию со дня рождения Льва Толстого</p>\\n</div>\\n    <div class=\"field-museums\">Музей-панорама  «Бородинская битва»</div>\\n    <div class=\"field-date\"><span  class=\"date-display-range\">с <span  property=\"dc:date\" datatype=\"xsd:dateTime\" content=\"2023-02-04T00:00:00+03:00\" class=\"date-display-start\">04.02.2023</span> по <span  property=\"dc:date\" datatype=\"xsd:dateTime\" content=\"2023-12-28T00:00:00+03:00\" class=\"date-display-end\">28.12.2023</span></span></div>\\n    <div class=\"field-link\"><a href=\"/exhibitions/main/lica-sovershenno-vymyshlennye\">ПОДРОБНЕЕ <i class=\"fa fa-angle-right\" aria-hidden=\"true\"></i></a></div>\\n    <div class=\"field-link\"></div>\\n  </div>\\n</div></span>  </div>  </div>\\n    </div>\\n  \\n  \\n  \\n  \\n  \\n  \\n</div>  </div>\\n</div>\\n  </div>\\n              </div></div>\\n\\n    </div></div>\\n\\n  </div>\\n\\n  <div id=\"footer\">\\n    <div class=\"main-wrapper clearfix\">\\n\\n      <div class=\"section footer-left\">\\n          <div class=\"region region-footerleft\">\\n    <div id=\"block-menu-block-1\" class=\"block block-menu-block\">\\n\\n    \\n  <div class=\"content\">\\n    <div class=\"menu-block-wrapper menu-block-1 menu-name-main-menu parent-mlid-0 menu-level-1\">\\n  <ul class=\"menu\"><li class=\"first expanded menu-mlid-518\"><span id=\"dropdown-block-views-menu-visitors-block\" class=\"nolink\" tabindex=\"0\">Посетителям</span><ul class=\"menu\"><li class=\"first leaf menu-mlid-691\"><a href=\"/visitors/museum-panorama\">Музей-панорама</a></li>\\n<li class=\"leaf menu-mlid-692\"><a href=\"/visitors/muzey-kutuzovskaya-izba\">Кутузовская изба</a></li>\\n<li class=\"leaf menu-mlid-693\"><a href=\"/visitors/muzey-geroev-sovetskogo-soyuza-i-rossii\">Музей Героев</a></li>\\n<li class=\"leaf menu-mlid-694\"><a href=\"/visitors/rules\">Правила посещения</a></li>\\n<li class=\"leaf menu-mlid-695\"><a href=\"http://www.1812panorama.ru/content/booking\">Заказ экскурсий</a></li>\\n<li class=\"leaf menu-mlid-696\"><a href=\"/visitors/museum-events\">Музейные мероприятия</a></li>\\n<li class=\"leaf menu-mlid-697\"><a href=\"/visitors/open-restoration\">Гранты в области культуры</a></li>\\n<li class=\"leaf menu-mlid-698\"><a href=\"/visitors/museum-classes\">Музейные занятия</a></li>\\n<li class=\"leaf menu-mlid-699\"><a href=\"/visitors/thematic-tours\">Экскурсии</a></li>\\n<li class=\"last leaf menu-mlid-700\"><a href=\"/visitors/museum-without-barriers\">Музей без барьеров</a></li>\\n</ul></li>\\n<li class=\"expanded menu-mlid-519\"><span id=\"dropdown-block-views-menu-visitors-block-1\" class=\"nolink\" tabindex=\"0\">Музей</span><ul class=\"menu\"><li class=\"first leaf menu-mlid-960\"><a href=\"/content/missiya-muzeya\">Миссия музея</a></li>\\n<li class=\"leaf menu-mlid-765\"><a href=\"/museum/news\">Новости музея</a></li>\\n<li class=\"leaf menu-mlid-702\"><a href=\"/museum/dokumenty-muzeya\">Документы музея</a></li>\\n<li class=\"leaf menu-mlid-703\"><a href=\"/museum/nezavisimaya-ocenka\">Независимая оценка</a></li>\\n<li class=\"leaf menu-mlid-704\"><a href=\"https://panoramaborodino.museum-online.moscow\" target=\"_blank\">Коллекции-онлайн</a></li>\\n<li class=\"leaf menu-mlid-705\"><a href=\"/museum/conferences\">Конференции</a></li>\\n<li class=\"leaf menu-mlid-706\"><a href=\"/museum/projects\">Проекты</a></li>\\n<li class=\"leaf menu-mlid-707\"><a href=\"/museum/history\">История музея</a></li>\\n<li class=\"leaf menu-mlid-708\"><a href=\"/museum/press-center\">Пресс-центр</a></li>\\n<li class=\"leaf menu-mlid-709\"><a href=\"/smi-o-nas\">СМИ о нас</a></li>\\n<li class=\"leaf menu-mlid-710\"><a href=\"/museum/dlya-gidov-perevodchikov\">Гидам и переводчикам</a></li>\\n<li class=\"last leaf menu-mlid-4219\"><a href=\"/content/vakansii\">Вакансии</a></li>\\n</ul></li>\\n<li class=\"leaf active-trail active menu-mlid-520\"><a href=\"/afisha\" class=\"active-trail active\">Афиша</a></li>\\n<li class=\"expanded menu-mlid-521\"><span id=\"dropdown-block-views-menu-visitors-block-2\" class=\"nolink\" tabindex=\"0\">Выставки</span><ul class=\"menu\"><li class=\"first leaf menu-mlid-711\"><a href=\"/exhibitions/main\">Основные</a></li>\\n<li class=\"leaf menu-mlid-712\"><a href=\"/exhibitions/outside\">Выставки вне музея</a></li>\\n<li class=\"last leaf menu-mlid-713\"><a href=\"/exhibitions/virtual\">Виртуальные выставки</a></li>\\n</ul></li>\\n<li class=\"leaf menu-mlid-522\"><a href=\"/contacts\">Контакты</a></li>\\n<li class=\"leaf menu-mlid-3657\"><a href=\"http://1812panorama.ru/content/bilety\">Билеты</a></li>\\n<li class=\"last leaf menu-mlid-955\"><a href=\"https://izi.travel/ru/5f4a-muzey-panorama-borodinskaya-bitva\">Аудиогид izi.travel</a></li>\\n</ul></div>\\n  </div>\\n</div>\\n  </div>\\n      </div>\\n\\n      <div class=\"section footer-right\">\\n          <div class=\"region region-footerright\">\\n    <div id=\"block-views-adress-and-time-block-3\" class=\"block block-views\">\\n\\n    \\n  <div class=\"content\">\\n    <div class=\"view view-adress-and-time view-id-adress_and_time view-display-id-block_3 view-dom-id-4fbeb576fa88db2a2bd83193682d3b5f\">\\n        \\n  \\n  \\n      <div class=\"view-content\">\\n        <div class=\"views-row views-row-1 views-row-odd views-row-first\">\\n      \\n  <div class=\"views-field views-field-field-title\">        <div class=\"field-content\"><p>Музей-панорама<br />\\n«Бородинская битва»</p>\\n</div>  </div>  \\n  <div class=\"views-field views-field-field-zipcode\">        <div class=\"field-content field-zipcode\">121170 г. Москва</div>  </div>  \\n  <div class=\"views-field views-field-field-adress\">        <div class=\"field-content\"><p>Кутузовский проспект,<br />\\nд.\\xa038, стр.\\xa01</p>\\n</div>  </div>  </div>\\n  <div class=\"views-row views-row-2 views-row-even\">\\n      \\n  <div class=\"views-field views-field-field-title\">        <div class=\"field-content\"><p>Музей<br />\\n«Кутузовская изба»</p>\\n</div>  </div>  \\n  <div class=\"views-field views-field-field-zipcode\">        <div class=\"field-content field-zipcode\">121170, Москва</div>  </div>  \\n  <div class=\"views-field views-field-field-adress\">        <div class=\"field-content\"><p>Кутузовский проспект,<br />\\nд.\\xa038, стр. 2</p>\\n</div>  </div>  </div>\\n  <div class=\"views-row views-row-3 views-row-odd views-row-last\">\\n      \\n  <div class=\"views-field views-field-field-title\">        <div class=\"field-content\"><p>«Музей Героев<br />\\nСоветского Союза и\\xa0России»</p>\\n</div>  </div>  \\n  <div class=\"views-field views-field-field-zipcode\">        <div class=\"field-content field-zipcode\">117218, г. Москва</div>  </div>  \\n  <div class=\"views-field views-field-field-adress\">        <div class=\"field-content\"><p>ул. Большая Черёмушкинская,<br />\\nд. 24, кор. 3</p>\\n</div>  </div>  </div>\\n    </div>\\n  \\n  \\n  \\n  \\n  \\n  \\n</div>  </div>\\n</div>\\n  </div>\\n      </div>\\n\\n      <div class=\"section footer-bottom clearfix\">\\n\\n        <div class=\"left\">\\n          <div id=\"site-made-by\">сайт разработан в <a href=\\'http://charsky.ru\\' target=\"_blank\">Charsky Studio</a></div>\\n          <div id=\"metrika\">\\n            <div id=\"LiveInternet\"><!--LiveInternet logo--><a href=\"http://www.liveinternet.ru/click\" target=\"_blank\"><img src=\"//counter.yadro.ru/logo?14.1\" title=\"LiveInternet: показано число просмотров за 24 часа, посетителей за 24 часа и за сегодня\" alt=\"\" border=\"0\" width=\"88\" height=\"31\"/></a><!--/LiveInternet-->\\n\\t\\t\\t<!--Rating@Mail.ru logo--><a target=\"_top\" href=\"http://top.mail.ru/jump?from=2139608\"><img src=\"http://d5.ca.b0.a2.top.mail.ru/counter?id=2139608;t=52;l=1\" border=\"0\" height=\"31\" width=\"88\" alt=\"Рейтинг@Mail.ru\"></a><!--// Rating@Mail.ru logo-->\\n\\t\\t\\t</div>\\n          </div>\\n        </div>\\n        \\n        <div class=\"right\">\\n          <div id=\"social-and-metrika\">\\n            <div id=\"social-links\">\\n              <h2>мы в соцсетях</h2>\\n              <p>\\n                <!--<a href=\"https://www.facebook.com/1812panorama\" target=\"_blank\"><img src=\"/sites/all/themes/mpbb/images/f.png\" alt=\"\"></a>*/\\n                <a href=\"https://www.instagram.com/1812panorama/\" target=\"_blank\"><img src=\"/sites/all/themes/mpbb/images/i.png\" alt=\"\"></a>-->\\n                <a href=\"https://vk.com/panoramaborodino\" target=\"_blank\"><img src=\"/sites/all/themes/mpbb/images/vk.png\" alt=\"\"></a>\\n                <a href=\"https://t.me/s/panorama1812\" target=\"_blank\"><img src=\"/sites/all/themes/mpbb/images/telega.png\" alt=\"\"></a>\\n                <a href=\"https://ok.ru/muzeypanorama\" target=\"_blank\"><img src=\"/sites/all/themes/mpbb/images/odnoklasniki_icon.png\" alt=\"\"></a>\\n                <a href=\"https://www.tripadvisor.ru/Attraction_Review-g298484-d302983-Reviews-Borodino_Battle_Museum_Panorama-Moscow_Central_Russia.html\" target=\"_blank\"><img src=\"/sites/all/themes/mpbb/images/tripadvisor_icon.png\" alt=\"\"></a>\\n\\t\\t\\t\\t<a href=\"https://www.youtube.com/channel/UCwnxNx3o_0XvuA9wgi8-szw\" target=\"_blank\"><img src=\"/sites/all/themes/mpbb/images/youtube.png\" alt=\"\"></a>\\n              </p>\\n            </div>\\n          </div>\\n        </div>\\n        \\n      </div>\\n\\n    </div>\\n<div class=\"tizer-block container-fluid\">\\n    <div class=\"row tizer-block__row\">\\n        <div class=\"col tizer-block__col\">\\n            <!-- BANNER PLACEMENT GOES HERE-->\\n            <div class=\"tizer-block__banner\" data-mos-teaser=\\'{ \"scroll\":false,\"adaptive\":null,\"placementParams\":{ \"p1\":\"bxdrg\",\"p2\":\"fpkh\"}}\\'></div>\\n            <!-- BANNER PLACEMENT GOES HERE-->\\n            <div class=\"tizer-block__banner\" data-mos-teaser=\\'{ \"scroll\":false,\"adaptive\":null,\"placementParams\":{ \"p1\":\"bxdrh\",\"p2\":\"fpkh\"}}\\'></div>\\n            <!-- BANNER PLACEMENT GOES HERE-->\\n            <div class=\"tizer-block__banner\" data-mos-teaser=\\'{ \"scroll\":false,\"adaptive\":null,\"placementParams\":{ \"p1\":\"bxdri\",\"p2\":\"fpkh\"}}\\'></div>\\n            <!-- BANNER PLACEMENT GOES HERE-->\\n            <div class=\"tizer-block__banner\" data-mos-teaser=\\'{ \"scroll\":false,\"adaptive\":[\"phone\",\"desktop\"],\"adaptiveOptions\":{ \"tabletWidth\":1200,\"phoneWidth\":810},\"placementParams\":{ \"p1\":\"bxdrj\",\"p2\":\"fpkh\"}}\\'></div>\\n        </div>\\n    </div>\\n</div>\\t\\n  </div>\\n\\n</div>\\n\\n  <div id=\"hide\" class=\"column\"><div class=\"section clearfix\">\\n    <img src=\"/sites/default/files/x.png\" class=\"js-close\">\\n      <div class=\"region region-hide\">\\n    <div id=\"block-search-form\" class=\"block block-search\">\\n\\n    \\n  <div class=\"content\">\\n    <form action=\"/afisha\" method=\"post\" id=\"search-block-form\" accept-charset=\"UTF-8\"><div><div class=\"container-inline\">\\n      <h2 class=\"element-invisible\">Форма поиска</h2>\\n    <div class=\"form-item form-type-searchfield form-item-search-block-form\">\\n  <label class=\"element-invisible\" for=\"edit-search-block-form--2\">Поиск </label>\\n <input title=\"Введите ключевые слова для поиска.\" type=\"search\" id=\"edit-search-block-form--2\" name=\"search_block_form\" value=\"\" size=\"15\" maxlength=\"128\" class=\"form-text form-search\" />\\n</div>\\n<div class=\"form-actions form-wrapper\" id=\"edit-actions--2\"><input type=\"submit\" id=\"edit-submit\" name=\"op\" value=\"Поиск\" class=\"form-submit\" /></div><input type=\"hidden\" name=\"form_build_id\" value=\"form-ZlhYE0oG_wukBwjCtbjGLn_RCIt85vtx5UUo4enlsuY\" />\\n<input type=\"hidden\" name=\"form_id\" value=\"search_block_form\" />\\n</div>\\n</div></form>  </div>\\n</div>\\n  </div>\\n  </div></div>\\n  </body>\\n</html>\\n'"
      ]
     },
     "execution_count": 55,
     "metadata": {},
     "output_type": "execute_result"
    }
   ],
   "source": [
    "response.text"
   ]
  },
  {
   "cell_type": "code",
   "execution_count": null,
   "id": "0e4891dc",
   "metadata": {},
   "outputs": [],
   "source": []
  },
  {
   "cell_type": "code",
   "execution_count": null,
   "id": "88faed1c",
   "metadata": {},
   "outputs": [],
   "source": []
  },
  {
   "cell_type": "code",
   "execution_count": 29,
   "id": "731554a9",
   "metadata": {},
   "outputs": [
    {
     "data": {
      "text/plain": [
       "'\\n\\t<!DOCTYPE html>\\n<html lang=\"ru\">\\n<head>\\n\\t\\n\\t<meta http-equiv=\"Content-Type\" content=\"text/html; charset=UTF-8\" />\\n<meta name=\"robots\" content=\"index, follow\" />\\n<script type=\"text/javascript\" data-skip-moving=\"true\">(function(w, d, n) {var cl = \"bx-core\";var ht = d.documentElement;var htc = ht ? ht.className : undefined;if (htc === undefined || htc.indexOf(cl) !== -1){return;}var ua = n.userAgent;if (/(iPad;)|(iPhone;)/i.test(ua)){cl += \" bx-ios\";}else if (/Windows/i.test(ua)){cl += \\' bx-win\\';}else if (/Macintosh/i.test(ua)){cl += \" bx-mac\";}else if (/Linux/i.test(ua) && !/Android/i.test(ua)){cl += \" bx-linux\";}else if (/Android/i.test(ua)){cl += \" bx-android\";}cl += (/(ipad|iphone|android|mobile|touch)/i.test(ua) ? \" bx-touch\" : \" bx-no-touch\");cl += w.devicePixelRatio && w.devicePixelRatio >= 2? \" bx-retina\": \" bx-no-retina\";var ieVersion = -1;if (/AppleWebKit/.test(ua)){cl += \" bx-chrome\";}else if (/Opera/.test(ua)){cl += \" bx-opera\";}else if (/Firefox/.test(ua)){cl += \" bx-firefox\";}ht.className = htc ? htc + \" \" + cl : cl;})(window, document, navigator);</script>\\n\\n\\n<link href=\"/bitrix/cache/css/s1/stalingradb/page_d6f00dfbe1acfdb3839ba6b9d89f0c9d/page_d6f00dfbe1acfdb3839ba6b9d89f0c9d_v1.css?16959777045174\" type=\"text/css\"  rel=\"stylesheet\" />\\n<link href=\"/bitrix/cache/css/s1/stalingradb/template_aac447028a38333d5b7227c6f46e7eb1/template_aac447028a38333d5b7227c6f46e7eb1_v1.css?1695977704154303\" type=\"text/css\"  data-template-style=\"true\" rel=\"stylesheet\" />\\n\\r\\n\\n\\r\\n\\n\\r\\n\\n\\n\\t<title> Музей заповедник «Сталинградская битва»</title>\\n\\t<link rel=\"shortcut icon\" href=\"/favicon.ico\"/>\\n\\t<meta name=\"viewport\" content=\"width=device-width, initial-scale=1, minimum-scale=1\" />\\n\\t<meta http-equiv=\"Content-Type\" content=\"text/html; charset=UTF-8\" />\\n\\t<meta name=\"robots\" content=\"index, follow\" />\\n\\t<meta name=\"keywords\" content=\"\"/>\\n\\t<meta name=\"description\" content=\"\"/>\\n\\t<meta name=\"theme-color\" content=\"#333\">\\n\\t\\t\\n\\t</head>\\n\\t<body >\\n\\t\\t<div>\\n\\t\\t<div class=\"sv_settings text-center\" id=\"sv_settings\">\\n\\t\\t\\t<span>Размер шрифта\\n\\t\\t\\t\\t<span class=\"fs-outer\">\\n\\t\\t\\t\\t\\t<button class=\" btn-default fs-n\" id=\"fs-n\">А</button>\\n\\t\\t\\t\\t\\t<button class=\" btn-default fs-m\" id=\"fs-m\">А</button>\\n\\t\\t\\t\\t\\t<button class=\" btn-default fs-l\" id=\"fs-l\">А</button>\\n\\t\\t\\t\\t</span>\\n\\t\\t\\t</span>\\n\\n\\t\\t\\t<span class=\"mgl20\">Цветовая схема\\n\\t\\t\\t\\t<span class=\"cs-outer\">\\n\\t\\t\\t\\t\\t<button class=\" btn-default cs-bw\" id=\"cs-bw\">А</button>\\n\\t\\t\\t\\t\\t<button class=\" btn-default cs-wb\" id=\"cs-wb\">А</button>\\n\\t\\t\\t\\t\\t<button class=\" btn-default cs-bb\" id=\"cs-bb\">А</button>\\n\\t\\t\\t\\t\\t<button class=\" btn-default cs-gb\" id=\"cs-gb\">А</button>\\n\\t\\t\\t\\t\\t<button class=\" btn-default cs-yg\" id=\"cs-yg\">А</button>\\n\\t\\t\\t\\t</span>\\n\\t\\t\\t</span>\\n\\n\\t\\t\\t<span class=\"mgl20\">\\n\\t\\t\\t\\t<span class=\"img-outer\">\\n\\t\\t\\t\\t\\t<button class=\" btn-default\" id=\"img-onoff\"><span class=\"glyphicon glyphicon-picture\"></span><span id=\"img-onoff-text\">Выключить изображения </span></button>\\n\\t\\t\\t\\t</span>\\n\\t\\t\\t</span>\\n\\t\\t</div>\\n\\t</div>\\n\\t<div class=\"wrapper \">\\n\\t\\t<header>\\n\\t\\t\\t<div class=\"container\">\\n\\t\\t\\t\\t<div class=\"logo\">\\n\\t\\t\\t\\t\\t\\t\\t\\t\\t\\t\\t<img src=\"/local/templates/stalingradb/img/logo.png\" alt=\"Музей-заповедник Сталинградская битва\"/>\\n\\t\\t\\t\\t\\t\\t<svg version=\"1.1\" id=logo\" xmlns=\"http://www.w3.org/2000/svg\" xmlns:xlink=\"http://www.w3.org/1999/xlink\" x=\"0px\" y=\"0px\"\\n\\t\\t\\t\\t\\t\\t width=\"200px\" height=\"45px\" viewBox=\"0 0 200 45\" enable-background=\"new 0 0 200 45\" xml:space=\"preserve\" class=\"svg-logo\">\\n\\t\\t\\t\\t\\t\\t\\t<g>\\n\\t\\t\\t\\t\\t\\t\\t\\t<g>\\n\\t\\t\\t\\t\\t\\t\\t\\t\\t<path class=\"svg-logo-battle\" fill=\"#929292\" d=\"M100.826,17.098l-0.07-0.053L91.251,32.43V17.045H81.044v27.877h10.208l9.504-15.386l0.07-0.113v15.499\\n\\t\\t\\t\\t\\t\\t\\t\\t\\t\\th10.207V17.045h-10.207V17.098z M46.901,17.045v6.758v3.801v6.759v3.802v6.758h10.208h9.574h10.208v-6.758v-3.802V28.59v-0.986\\n\\t\\t\\t\\t\\t\\t\\t\\t\\t\\tH57.109v-3.801h19.782v-6.758H57.109H46.901z M66.683,34.362v3.802h-9.574v-3.802H66.683z M146.021,17.045h-10.208v6.758v3.801\\n\\t\\t\\t\\t\\t\\t\\t\\t\\t\\tv6.759v3.802v6.758h10.208h9.574h10.208v-6.758v-3.708l-4.459-3.146l4.459-3.659v-3.849v-6.758h-10.208H146.021z M155.595,38.164\\n\\t\\t\\t\\t\\t\\t\\t\\t\\t\\th-9.574v-3.802h9.574V38.164z M155.595,27.604h-9.574v-3.801h9.574V27.604z M189.737,17.045h-19.782v6.758h19.782v3.801h-19.782\\n\\t\\t\\t\\t\\t\\t\\t\\t\\t\\tv1.455v5.304v3.802v6.758h10.208h9.574h10.208v-6.758v-3.802v-6.759v-3.801v-6.758H189.737z M189.737,38.164h-9.574v-3.802h9.574\\n\\t\\t\\t\\t\\t\\t\\t\\t\\t\\tV38.164z\"/>\\n\\t\\t\\t\\t\\t\\t\\t\\t</g>\\n\\t\\t\\t\\t\\t\\t\\t\\t<g>\\n\\t\\t\\t\\t\\t\\t\\t\\t\\t<path  class=\"svg-logo-stalingrad\" fill=\"#666666\" d=\"M96.296,3.664l-0.024-0.018l-3.255,5.27v-5.27h-3.496v9.547h3.496l3.255-5.269l0.024-0.039v5.308h3.496\\n\\t\\t\\t\\t\\t\\t\\t\\t\\t\\tV3.646h-3.496V3.664z M107.891,7.263h-3.279V3.646h-3.496v3.616v2.315v3.615h3.496V9.578h3.279v3.615h3.496V9.578V7.263V3.646\\n\\t\\t\\t\\t\\t\\t\\t\\t\\t\\th-3.496V7.263z M59.774,3.646h-2.52v2.314h2.52v7.232h3.496V5.961h2.519V3.646h-2.519H59.774z M66.36,3.646v2.314h6.775v1.302\\n\\t\\t\\t\\t\\t\\t\\t\\t\\t\\tH66.36V7.39v2.188v1.302v2.313h3.496h3.279h3.496V10.88V9.578V7.263V5.961V3.646h-3.496H66.36z M73.135,10.88h-3.279V9.578h3.279\\n\\t\\t\\t\\t\\t\\t\\t\\t\\t\\tV10.88z M83.272,3.646h-2.561h-0.935l-1.562,7.233h-1.021v2.313h0.521h1.428h2.068l1.562-7.232h2.035v7.232h3.496V5.961V3.646\\n\\t\\t\\t\\t\\t\\t\\t\\t\\t\\th-3.496H83.272z M46.956,3.646v2.314v4.919v2.313h3.497h6.216V10.88h-6.216V5.961h6.216V3.646h-6.216H46.956z M178.224,3.646\\n\\t\\t\\t\\t\\t\\t\\t\\t\\t\\tv2.314h6.774v1.302h-6.774V7.43v2.148v1.302v2.313h3.496h3.278h3.496V10.88V9.578V7.263V5.961V3.646h-3.496H178.224z\\n\\t\\t\\t\\t\\t\\t\\t\\t\\t\\t M184.998,10.88h-3.278V9.578h3.278V10.88z M196.504,3.646h-3.279h-3.496v2.314V8.1v1.115v1.199h1.908l-1.908,2.779h3.496\\n\\t\\t\\t\\t\\t\\t\\t\\t\\t\\tl1.908-2.779h1.371v2.779H200v-2.779V8.1V5.961V3.646H196.504z M196.504,8.1h-3.279V5.961h3.279V8.1z M173.805,3.646l-2.027,3.616\\n\\t\\t\\t\\t\\t\\t\\t\\t\\t\\th-1.252V3.646h-3.496v3.616v2.315v3.615h3.496V9.578h1.256l2.023,3.615h3.495l-2.673-4.777l2.673-4.77H173.805z M112.729,3.646\\n\\t\\t\\t\\t\\t\\t\\t\\t\\t\\tv2.314v7.232h3.496V5.961h3.15V3.646h-3.15H112.729z M155.996,3.646v2.314v4.919v2.313h3.496h6.217V10.88h-6.217V5.961h6.217\\n\\t\\t\\t\\t\\t\\t\\t\\t\\t\\tV3.646h-6.217H155.996z M154.385,5.961V3.646h-3.495h-2.031h-3.208h-0.288l-1.187,7.233h-1.48v2.313h1.102h3.496h3.597h3.495\\n\\t\\t\\t\\t\\t\\t\\t\\t\\t\\th0.946V10.88h-0.946V5.961z M150.89,10.88h-3.218l0.807-4.919h2.411V10.88z M123.723,3.646h-3.496v2.314V8.1v2.314v2.779h3.496\\n\\t\\t\\t\\t\\t\\t\\t\\t\\t\\tv-2.779h6.775V9.201V8.1V5.961V3.646h-3.496H123.723z M127.002,8.1h-3.279V5.961h3.279V8.1z M131.858,3.646v2.314h6.774v1.302\\n\\t\\t\\t\\t\\t\\t\\t\\t\\t\\th-6.774V7.43v2.148v1.302v2.313h3.496h3.278h3.496V10.88V9.578V7.263V5.961V3.646h-3.496H131.858z M138.633,10.88h-3.278V9.578\\n\\t\\t\\t\\t\\t\\t\\t\\t\\t\\th3.278V10.88z M11.145,39.217l-0.984,5.486l12.578-7.087l-4.864-2.591L11.145,39.217z M16.356,13.399l-15.69,2.198l3.488,3.481\\n\\t\\t\\t\\t\\t\\t\\t\\t\\t\\tl9.996-1.268L16.356,13.399z M29.216,13.964l-6.664-13.47l-2.816,5.819l5.351,11.17l12.671,2.064l-8.823,8.636l1.736,12.858\\n\\t\\t\\t\\t\\t\\t\\t\\t\\t\\tl6.289,3.474l-2.675-15.487l11.827-12.202L29.216,13.964z\"/>\\n\\t\\t\\t\\t\\t\\t\\t\\t</g>\\n\\t\\t\\t\\t\\t\\t\\t\\t<g>\\n\\t\\t\\t\\t\\t\\t\\t\\t\\t<path fill=\"#E20202\" d=\"M128.508,17.045h-10.207h-7.356v6.758h7.356v21.119h10.207V23.803h7.357v-6.758H128.508z M20.671,22.545\\n\\t\\t\\t\\t\\t\\t\\t\\t\\t\\tl-2.715-5.5l-2.714,5.5l-6.07,0.882l4.393,4.282l-1.037,6.045l5.429-2.854l5.43,2.854l-1.037-6.045l4.392-4.282L20.671,22.545z\"/>\\n\\t\\t\\t\\t\\t\\t\\t\\t</g>\\n\\t\\t\\t\\t\\t\\t\\t</g>\\n\\t\\t\\t\\t\\t\\t</svg>\\n\\t\\t\\t\\t\\t\\t\\t\\t\\t</div>\\n\\t\\t\\t\\t\\n\\t\\t\\t\\t<div class=\"header-icons\">\\n\\t\\t\\t\\t\\t<div class=\"submenu-btn-wrap\">\\n\\t\\t\\t\\t\\t\\t<a href=\"#\" class=\"submenu-btn\" title=\"Развернуть меню\"><i class=\"mobi-mark\"></i><span></span></a>\\n\\t\\t\\t\\t\\t</div>\\n\\t\\t\\t\\t\\t<div class=\"language-pick\">\\n\\t\\t\\t\\t\\t\\t<div id=\"google_translate_element2\" style=\"display:none\"></div>\\n\\t\\t\\t\\t\\t\\t\\n\\t\\t\\t\\t\\t\\t\\t\\t\\t\\t\\t\\t<!--\\t\\t\\t\\t\\t\\t<div class=\"language-toggle\" data-lang=\"ru|ru\">-->\\n<!--\\t\\t\\t\\t\\t\\t\\t<span>RU</span>-->\\n<!--\\t\\t\\t\\t\\t\\t\\t<i class=\"icon-angle-down\"></i>-->\\n<!--\\t\\t\\t\\t\\t\\t</div>-->\\n                        <div class=\"language-toggle\" data-lang=\"ru|ru\">\\n                            <span>RU</span>\\n                            <i class=\"icon-angle-down\"></i>\\n                        </div>\\n\\t\\t\\t\\t\\t\\t<ul>\\n\\t\\t\\t\\t\\t\\t\\t<li data-lang=\"ru|en\"><a href=\"#\">EN</a></li>\\n\\t\\t\\t\\t\\t\\t\\t<li data-lang=\"ru|de\"><a href=\"#\">DE</a></li>\\n\\t\\t\\t\\t\\t\\t\\t<li data-lang=\"ru|it\"><a href=\"#\">IT</a></li>\\n\\t\\t\\t\\t\\t\\t\\t<li data-lang=\"ru|es\"><a href=\"#\">ES</a></li>\\n                            <li data-lang=\"ru|fr\"><a href=\"#\">FR</a></li>\\n                            <li data-lang=\"ru|zh-CN\"><a href=\"#\">ZH-CN</a></li>\\n\\t\\t\\t\\t\\t\\t</ul>\\n\\t\\t\\t\\t\\t</div>\\n\\t\\t\\t\\t\\t<div class=\"eye\" id=\"sv_on\">\\n\\t\\t\\t\\t\\t\\t<a href=\"#\" class=\"icon-eye\"></a>\\n\\t\\t\\t\\t\\t</div>\\n\\t\\t\\t\\t\\t<div class=\"header-search\">\\n\\t\\t\\t\\t\\t\\t<a href=\"#\" class=\"icon-search\"></a>\\n\\t\\t\\t\\t\\t</div>\\n\\t\\t\\t\\t</div>\\n\\t\\t\\t\\t<div class=\"header-menu-line\">\\n\\t\\t\\t\\t\\t\\n<div class=\"top-menu-wrap\">\\n\\t<ul class=\"top-menu\">\\n\\t\\t\\t\\t\\t<li ><a href=\"/to-visitors/\">Посетителям</a></li>\\n\\t\\t\\t\\t\\t<li ><a href=\"/about/\">О музее</a></li>\\n\\t\\t\\t\\t\\t<li ><a href=\"/projects/\">Проекты</a></li>\\n\\t\\t\\t\\t\\t<li ><a href=\"/history/\">История</a></li>\\n\\t\\t\\t</ul>\\n</div>\\n\\n\\t\\t\\t\\t\\t<a href=\"https://stalingrad-battle.tn-cloud.ru/?id=1&sid=1\" class=\"top-buy-ticket\"><span>Купить билет</span></a>\\n                    <a href=\"/to-visitors/tickets/pushkinskaya-karta/\" class=\"btn-donation-top\"><span>Пушкинская карта</span></a>\\n\\t\\t\\t\\t\\t<a href=\"/donation/\" class=\"btn-donation-top\"><span>Пожертвовать</span></a>\\n\\t\\t\\t\\t</div>\\n\\t\\t\\t\\t<div class=\"submenu-overlay\">\\n\\t<div class=\"submenu-wrap\">\\n\\t\\t<div class=\"submenu-wrap-line\">\\n\\t\\t\\t<div class=\"container\">&nbsp;</div>\\n\\t\\t</div>\\n\\t\\t<div class=\"container\">\\n\\t\\t\\t<div class=\"icon-panel\"></div>\\n\\t\\t\\t<ul>\\n\\t\\t\\t\\t\\t\\t\\t\\t\\t<li  >\\n\\t\\t\\t\\t\\t\\t<a   href=\"/to-visitors/\">\\t\\t\\t\\t\\t\\t\\t<i>Посетителям</i>\\n\\t\\t\\t\\t\\t\\t</a>\\t\\t\\t\\t\\t\\t\\t\\t\\t\\t\\t\\t\\t<ul>\\n\\t\\t\\t\\t\\t\\t\\t\\t\\t\\t\\t\\t\\t\\t\\t\\t\\n\\t\\t\\t\\t\\t\\t\\t\\t\\t<li class=\" fake-level\">\\n\\t\\t\\t\\t\\t\\t\\t\\t\\t\\t\\t\\t\\t\\t\\t\\t\\t\\t\\t\\t\\t\\t\\t\\t\\t\\t\\t\\t\\t\\t\\t<ul>\\n\\t\\t\\t\\t\\t\\t\\t\\t\\t\\t\\t\\t\\t\\t\\t\\t\\t\\t\\t\\t\\t\\t\\t\\t\\t<li >\\n\\t\\t\\t\\t\\t\\t\\t\\t\\t\\t\\t\\t\\t\\t<a  href=\"/to-visitors/location/\">\\t\\t\\t\\t\\t\\t\\t\\t\\t\\t\\t\\t\\t\\t\\tКак добраться\\t\\t\\t\\t\\t\\t\\t\\t\\t\\t\\t\\t\\t\\t</a>\\t\\t\\t\\t\\t\\t\\t\\t\\t\\t\\t\\t\\t</li>\\n\\t\\t\\t\\t\\t\\t\\t\\t\\t\\t\\t\\t\\t\\t\\t\\t\\t\\t\\t\\t\\t\\t\\t\\t\\t<li >\\n\\t\\t\\t\\t\\t\\t\\t\\t\\t\\t\\t\\t\\t\\t<a  href=\"/to-visitors/tickets/\">\\t\\t\\t\\t\\t\\t\\t\\t\\t\\t\\t\\t\\t\\t\\tБилеты\\t\\t\\t\\t\\t\\t\\t\\t\\t\\t\\t\\t\\t\\t</a>\\t\\t\\t\\t\\t\\t\\t\\t\\t\\t\\t\\t\\t</li>\\n\\t\\t\\t\\t\\t\\t\\t\\t\\t\\t\\t\\t\\t\\t\\t\\t\\t\\t\\t\\t\\t\\t\\t\\t\\t<li >\\n\\t\\t\\t\\t\\t\\t\\t\\t\\t\\t\\t\\t\\t\\t<a  href=\"/to-visitors/ed-programs/\">\\t\\t\\t\\t\\t\\t\\t\\t\\t\\t\\t\\t\\t\\t\\tОбразовательные программы\\t\\t\\t\\t\\t\\t\\t\\t\\t\\t\\t\\t\\t\\t</a>\\t\\t\\t\\t\\t\\t\\t\\t\\t\\t\\t\\t\\t</li>\\n\\t\\t\\t\\t\\t\\t\\t\\t\\t\\t\\t\\t\\t\\t\\t\\t\\t\\t\\t\\t\\t\\t\\t\\t\\t<li >\\n\\t\\t\\t\\t\\t\\t\\t\\t\\t\\t\\t\\t\\t\\t<a  href=\"/to-visitors/invalids/\">\\t\\t\\t\\t\\t\\t\\t\\t\\t\\t\\t\\t\\t\\t\\tПосетителям с ограниченными возможностями\\t\\t\\t\\t\\t\\t\\t\\t\\t\\t\\t\\t\\t\\t</a>\\t\\t\\t\\t\\t\\t\\t\\t\\t\\t\\t\\t\\t</li>\\n\\t\\t\\t\\t\\t\\t\\t\\t\\t\\t\\t\\t\\t\\t\\t\\t\\t\\t\\t\\t\\t\\t\\t\\t\\t<li >\\n\\t\\t\\t\\t\\t\\t\\t\\t\\t\\t\\t\\t\\t\\t<a  href=\"/to-visitors/visit-rules/\">\\t\\t\\t\\t\\t\\t\\t\\t\\t\\t\\t\\t\\t\\t\\tПравила посещения\\t\\t\\t\\t\\t\\t\\t\\t\\t\\t\\t\\t\\t\\t</a>\\t\\t\\t\\t\\t\\t\\t\\t\\t\\t\\t\\t\\t</li>\\n\\t\\t\\t\\t\\t\\t\\t\\t\\t\\t\\t\\t\\t\\t\\t\\t\\t\\t\\t\\t\\t\\t\\t\\t\\t<li >\\n\\t\\t\\t\\t\\t\\t\\t\\t\\t\\t\\t\\t\\t\\t<a  href=\"/to-visitors/services/\">\\t\\t\\t\\t\\t\\t\\t\\t\\t\\t\\t\\t\\t\\t\\tУслуги\\t\\t\\t\\t\\t\\t\\t\\t\\t\\t\\t\\t\\t\\t</a>\\t\\t\\t\\t\\t\\t\\t\\t\\t\\t\\t\\t\\t</li>\\n\\t\\t\\t\\t\\t\\t\\t\\t\\t\\t\\t\\t\\t\\t\\t\\t\\t\\t\\t\\t\\t\\t\\t\\t\\t<li >\\n\\t\\t\\t\\t\\t\\t\\t\\t\\t\\t\\t\\t\\t\\t<a  href=\"/to-visitors/guestbook/\">\\t\\t\\t\\t\\t\\t\\t\\t\\t\\t\\t\\t\\t\\t\\tГостевая книга\\t\\t\\t\\t\\t\\t\\t\\t\\t\\t\\t\\t\\t\\t</a>\\t\\t\\t\\t\\t\\t\\t\\t\\t\\t\\t\\t\\t</li>\\n\\t\\t\\t\\t\\t\\t\\t\\t\\t\\t\\t\\t\\t\\t\\t\\t\\t\\t\\t\\t\\t\\t\\t</ul>\\n\\t\\t\\t\\t\\t\\t\\t\\t\\t\\t\\t\\t\\t\\t\\t\\t\\t\\t\\t</li>\\n\\t\\t\\t\\t\\t\\t\\t\\t\\t\\t\\t\\t\\t\\t\\t\\t\\n\\t\\t\\t\\t\\t\\t\\t\\t\\t<li class=\" fake-level\">\\n\\t\\t\\t\\t\\t\\t\\t\\t\\t\\t\\t\\t\\t\\t\\t\\t\\t\\t\\t\\t\\t<span>\\t\\t\\t\\t\\t\\t\\t\\t\\t\\t\\t\\tАфиша\\t\\t\\t\\t\\t\\t\\t\\t\\t\\t\\t</span>\\t\\t\\t\\t\\t\\t\\t\\t\\t\\t\\t\\t\\t\\t\\t\\t\\t\\t\\t\\t\\t\\t\\t\\t\\t\\t\\t\\t\\t\\t\\t<ul>\\n\\t\\t\\t\\t\\t\\t\\t\\t\\t\\t\\t\\t\\t\\t\\t\\t\\t\\t\\t\\t\\t\\t\\t\\t\\t<li >\\n\\t\\t\\t\\t\\t\\t\\t\\t\\t\\t\\t\\t\\t\\t<a  href=\"/to-visitors/exhibitions/\">\\t\\t\\t\\t\\t\\t\\t\\t\\t\\t\\t\\t\\t\\t\\tВыставки\\t\\t\\t\\t\\t\\t\\t\\t\\t\\t\\t\\t\\t\\t</a>\\t\\t\\t\\t\\t\\t\\t\\t\\t\\t\\t\\t\\t</li>\\n\\t\\t\\t\\t\\t\\t\\t\\t\\t\\t\\t\\t\\t\\t\\t\\t\\t\\t\\t\\t\\t\\t\\t\\t\\t<li >\\n\\t\\t\\t\\t\\t\\t\\t\\t\\t\\t\\t\\t\\t\\t<a  href=\"/to-visitors/calendar/\">\\t\\t\\t\\t\\t\\t\\t\\t\\t\\t\\t\\t\\t\\t\\tКалендарь событий\\t\\t\\t\\t\\t\\t\\t\\t\\t\\t\\t\\t\\t\\t</a>\\t\\t\\t\\t\\t\\t\\t\\t\\t\\t\\t\\t\\t</li>\\n\\t\\t\\t\\t\\t\\t\\t\\t\\t\\t\\t\\t\\t\\t\\t\\t\\t\\t\\t\\t\\t\\t\\t</ul>\\n\\t\\t\\t\\t\\t\\t\\t\\t\\t\\t\\t\\t\\t\\t\\t\\t\\t\\t\\t</li>\\n\\t\\t\\t\\t\\t\\t\\t\\t\\t\\t\\t\\t\\t\\t\\t\\t\\n\\t\\t\\t\\t\\t\\t\\t\\t\\t<li class=\" \">\\n\\t\\t\\t\\t\\t\\t\\t\\t\\t\\t\\t\\t\\t\\t\\t\\t\\t\\t\\t\\t\\t<a  href=\"/to-visitors/order-excursion/\">\\t\\t\\t\\t\\t\\t\\t\\t\\t\\t\\t\\tЗаказать экскурсию\\t\\t\\t\\t\\t\\t\\t\\t\\t\\t\\t</a>\\t\\t\\t\\t\\t\\t\\t\\t\\t\\t\\t\\t\\t\\t\\t\\t\\t\\t\\t\\t\\t\\t\\t\\t\\t\\t\\t\\t\\t</li>\\n\\t\\t\\t\\t\\t\\t\\t\\t\\t\\t\\t\\t\\t\\t\\t\\t\\n\\t\\t\\t\\t\\t\\t\\t\\t\\t<li class=\" \">\\n\\t\\t\\t\\t\\t\\t\\t\\t\\t\\t\\t\\t\\t\\t\\t\\t\\t\\t\\t\\t\\t<a  href=\"/to-visitors/work-hours/\">\\t\\t\\t\\t\\t\\t\\t\\t\\t\\t\\t\\tЧасы работы\\t\\t\\t\\t\\t\\t\\t\\t\\t\\t\\t</a>\\t\\t\\t\\t\\t\\t\\t\\t\\t\\t\\t\\t\\t\\t\\t\\t\\t\\t\\t\\t\\t\\t\\t\\t\\t\\t\\t\\t\\t</li>\\n\\t\\t\\t\\t\\t\\t\\t\\t\\t\\t\\t\\t\\t\\t\\t</ul>\\n\\t\\t\\t\\t\\t\\t\\t\\t\\n\\t\\t\\t\\t\\t</li>\\n\\t\\t\\t\\t\\t\\t\\t\\t\\t<li  >\\n\\t\\t\\t\\t\\t\\t<a   href=\"/about/\">\\t\\t\\t\\t\\t\\t\\t<i>О музее</i>\\n\\t\\t\\t\\t\\t\\t</a>\\t\\t\\t\\t\\t\\t\\t\\t\\t\\t\\t\\t\\t<ul>\\n\\t\\t\\t\\t\\t\\t\\t\\t\\t\\t\\t\\t\\t\\t\\t\\t\\n\\t\\t\\t\\t\\t\\t\\t\\t\\t<li class=\" fake-level\">\\n\\t\\t\\t\\t\\t\\t\\t\\t\\t\\t\\t\\t\\t\\t\\t\\t\\t\\t\\t\\t\\t\\t\\t\\t\\t\\t\\t\\t\\t\\t\\t<ul>\\n\\t\\t\\t\\t\\t\\t\\t\\t\\t\\t\\t\\t\\t\\t\\t\\t\\t\\t\\t\\t\\t\\t\\t\\t\\t<li >\\n\\t\\t\\t\\t\\t\\t\\t\\t\\t\\t\\t\\t\\t\\t<a  href=\"/about/about-museum-inner/\">\\t\\t\\t\\t\\t\\t\\t\\t\\t\\t\\t\\t\\t\\t\\tО музее-заповеднике\\t\\t\\t\\t\\t\\t\\t\\t\\t\\t\\t\\t\\t\\t</a>\\t\\t\\t\\t\\t\\t\\t\\t\\t\\t\\t\\t\\t</li>\\n\\t\\t\\t\\t\\t\\t\\t\\t\\t\\t\\t\\t\\t\\t\\t\\t\\t\\t\\t\\t\\t\\t\\t\\t\\t<li >\\n\\t\\t\\t\\t\\t\\t\\t\\t\\t\\t\\t\\t\\t\\t<a  href=\"/about/historical-reference/\">\\t\\t\\t\\t\\t\\t\\t\\t\\t\\t\\t\\t\\t\\t\\tИсторическая справка\\t\\t\\t\\t\\t\\t\\t\\t\\t\\t\\t\\t\\t\\t</a>\\t\\t\\t\\t\\t\\t\\t\\t\\t\\t\\t\\t\\t</li>\\n\\t\\t\\t\\t\\t\\t\\t\\t\\t\\t\\t\\t\\t\\t\\t\\t\\t\\t\\t\\t\\t\\t\\t\\t\\t<li >\\n\\t\\t\\t\\t\\t\\t\\t\\t\\t\\t\\t\\t\\t\\t<a  href=\"/about/published-data/\">\\t\\t\\t\\t\\t\\t\\t\\t\\t\\t\\t\\t\\t\\t\\tОткрытые данные\\t\\t\\t\\t\\t\\t\\t\\t\\t\\t\\t\\t\\t\\t</a>\\t\\t\\t\\t\\t\\t\\t\\t\\t\\t\\t\\t\\t</li>\\n\\t\\t\\t\\t\\t\\t\\t\\t\\t\\t\\t\\t\\t\\t\\t\\t\\t\\t\\t\\t\\t\\t\\t\\t\\t<li >\\n\\t\\t\\t\\t\\t\\t\\t\\t\\t\\t\\t\\t\\t\\t<a  href=\"/about/work-quality/\">\\t\\t\\t\\t\\t\\t\\t\\t\\t\\t\\t\\t\\t\\t\\tОценка качества работы\\t\\t\\t\\t\\t\\t\\t\\t\\t\\t\\t\\t\\t\\t</a>\\t\\t\\t\\t\\t\\t\\t\\t\\t\\t\\t\\t\\t</li>\\n\\t\\t\\t\\t\\t\\t\\t\\t\\t\\t\\t\\t\\t\\t\\t\\t\\t\\t\\t\\t\\t\\t\\t\\t\\t<li >\\n\\t\\t\\t\\t\\t\\t\\t\\t\\t\\t\\t\\t\\t\\t<a  href=\"/about/corruption/\">\\t\\t\\t\\t\\t\\t\\t\\t\\t\\t\\t\\t\\t\\t\\tПротиводействие коррупции\\t\\t\\t\\t\\t\\t\\t\\t\\t\\t\\t\\t\\t\\t</a>\\t\\t\\t\\t\\t\\t\\t\\t\\t\\t\\t\\t\\t</li>\\n\\t\\t\\t\\t\\t\\t\\t\\t\\t\\t\\t\\t\\t\\t\\t\\t\\t\\t\\t\\t\\t\\t\\t\\t\\t<li >\\n\\t\\t\\t\\t\\t\\t\\t\\t\\t\\t\\t\\t\\t\\t<a  href=\"/about/rewards/\">\\t\\t\\t\\t\\t\\t\\t\\t\\t\\t\\t\\t\\t\\t\\tНаграды музея\\t\\t\\t\\t\\t\\t\\t\\t\\t\\t\\t\\t\\t\\t</a>\\t\\t\\t\\t\\t\\t\\t\\t\\t\\t\\t\\t\\t</li>\\n\\t\\t\\t\\t\\t\\t\\t\\t\\t\\t\\t\\t\\t\\t\\t\\t\\t\\t\\t\\t\\t\\t\\t\\t\\t<li >\\n\\t\\t\\t\\t\\t\\t\\t\\t\\t\\t\\t\\t\\t\\t<a  href=\"/about/partners/\">\\t\\t\\t\\t\\t\\t\\t\\t\\t\\t\\t\\t\\t\\t\\tПартнеры музея\\t\\t\\t\\t\\t\\t\\t\\t\\t\\t\\t\\t\\t\\t</a>\\t\\t\\t\\t\\t\\t\\t\\t\\t\\t\\t\\t\\t</li>\\n\\t\\t\\t\\t\\t\\t\\t\\t\\t\\t\\t\\t\\t\\t\\t\\t\\t\\t\\t\\t\\t\\t\\t\\t\\t<li >\\n\\t\\t\\t\\t\\t\\t\\t\\t\\t\\t\\t\\t\\t\\t<a  href=\"/about/contacts/\">\\t\\t\\t\\t\\t\\t\\t\\t\\t\\t\\t\\t\\t\\t\\tКонтакты\\t\\t\\t\\t\\t\\t\\t\\t\\t\\t\\t\\t\\t\\t</a>\\t\\t\\t\\t\\t\\t\\t\\t\\t\\t\\t\\t\\t</li>\\n\\t\\t\\t\\t\\t\\t\\t\\t\\t\\t\\t\\t\\t\\t\\t\\t\\t\\t\\t\\t\\t\\t\\t\\t\\t<li >\\n\\t\\t\\t\\t\\t\\t\\t\\t\\t\\t\\t\\t\\t\\t<a  href=\"/about/tovarnyy-znak/\">\\t\\t\\t\\t\\t\\t\\t\\t\\t\\t\\t\\t\\t\\t\\tИспользование изображений объектов культурного наследия\\t\\t\\t\\t\\t\\t\\t\\t\\t\\t\\t\\t\\t\\t</a>\\t\\t\\t\\t\\t\\t\\t\\t\\t\\t\\t\\t\\t</li>\\n\\t\\t\\t\\t\\t\\t\\t\\t\\t\\t\\t\\t\\t\\t\\t\\t\\t\\t\\t\\t\\t\\t\\t\\t\\t<li >\\n\\t\\t\\t\\t\\t\\t\\t\\t\\t\\t\\t\\t\\t\\t<a  href=\"/about/vakansii/\">\\t\\t\\t\\t\\t\\t\\t\\t\\t\\t\\t\\t\\t\\t\\tВакансии\\t\\t\\t\\t\\t\\t\\t\\t\\t\\t\\t\\t\\t\\t</a>\\t\\t\\t\\t\\t\\t\\t\\t\\t\\t\\t\\t\\t</li>\\n\\t\\t\\t\\t\\t\\t\\t\\t\\t\\t\\t\\t\\t\\t\\t\\t\\t\\t\\t\\t\\t\\t\\t</ul>\\n\\t\\t\\t\\t\\t\\t\\t\\t\\t\\t\\t\\t\\t\\t\\t\\t\\t\\t\\t</li>\\n\\t\\t\\t\\t\\t\\t\\t\\t\\t\\t\\t\\t\\t\\t\\t\\t\\n\\t\\t\\t\\t\\t\\t\\t\\t\\t<li class=\" fake-level\">\\n\\t\\t\\t\\t\\t\\t\\t\\t\\t\\t\\t\\t\\t\\t\\t\\t\\t\\t\\t\\t\\t<span>\\t\\t\\t\\t\\t\\t\\t\\t\\t\\t\\t\\tНовости\\t\\t\\t\\t\\t\\t\\t\\t\\t\\t\\t</span>\\t\\t\\t\\t\\t\\t\\t\\t\\t\\t\\t\\t\\t\\t\\t\\t\\t\\t\\t\\t\\t\\t\\t\\t\\t\\t\\t\\t\\t\\t\\t<ul>\\n\\t\\t\\t\\t\\t\\t\\t\\t\\t\\t\\t\\t\\t\\t\\t\\t\\t\\t\\t\\t\\t\\t\\t\\t\\t<li >\\n\\t\\t\\t\\t\\t\\t\\t\\t\\t\\t\\t\\t\\t\\t<a  href=\"/about/m-news/\">\\t\\t\\t\\t\\t\\t\\t\\t\\t\\t\\t\\t\\t\\t\\tНовости музея\\t\\t\\t\\t\\t\\t\\t\\t\\t\\t\\t\\t\\t\\t</a>\\t\\t\\t\\t\\t\\t\\t\\t\\t\\t\\t\\t\\t</li>\\n\\t\\t\\t\\t\\t\\t\\t\\t\\t\\t\\t\\t\\t\\t\\t\\t\\t\\t\\t\\t\\t\\t\\t\\t\\t<li >\\n\\t\\t\\t\\t\\t\\t\\t\\t\\t\\t\\t\\t\\t\\t<a  target=\"_blank\"  href=\"https://www.youtube.com/user/StalingradBattle\">\\t\\t\\t\\t\\t\\t\\t\\t\\t\\t\\t\\t\\t\\t\\tМузейное телевидение\\t\\t\\t\\t\\t\\t\\t\\t\\t\\t\\t\\t\\t\\t</a>\\t\\t\\t\\t\\t\\t\\t\\t\\t\\t\\t\\t\\t</li>\\n\\t\\t\\t\\t\\t\\t\\t\\t\\t\\t\\t\\t\\t\\t\\t\\t\\t\\t\\t\\t\\t\\t\\t</ul>\\n\\t\\t\\t\\t\\t\\t\\t\\t\\t\\t\\t\\t\\t\\t\\t\\t\\t\\t\\t</li>\\n\\t\\t\\t\\t\\t\\t\\t\\t\\t\\t\\t\\t\\t\\t\\t</ul>\\n\\t\\t\\t\\t\\t\\t\\t\\t\\n\\t\\t\\t\\t\\t</li>\\n\\t\\t\\t\\t\\t\\t\\t\\t\\t<li  >\\n\\t\\t\\t\\t\\t\\t<a   href=\"/projects/\">\\t\\t\\t\\t\\t\\t\\t<i>Проекты</i>\\n\\t\\t\\t\\t\\t\\t</a>\\t\\t\\t\\t\\t\\t\\t\\t\\t\\t\\t\\t\\t<ul>\\n\\t\\t\\t\\t\\t\\t\\t\\t\\t\\t\\t\\t\\t\\t\\t\\t\\n\\t\\t\\t\\t\\t\\t\\t\\t\\t<li class=\" fake-level\">\\n\\t\\t\\t\\t\\t\\t\\t\\t\\t\\t\\t\\t\\t\\t\\t\\t\\t\\t\\t\\t\\t\\t\\t\\t\\t\\t\\t\\t\\t\\t\\t<ul>\\n\\t\\t\\t\\t\\t\\t\\t\\t\\t\\t\\t\\t\\t\\t\\t\\t\\t\\t\\t\\t\\t\\t\\t\\t\\t<li >\\n\\t\\t\\t\\t\\t\\t\\t\\t\\t\\t\\t\\t\\t\\t<a  href=\"/projects/scientific-conference/\">\\t\\t\\t\\t\\t\\t\\t\\t\\t\\t\\t\\t\\t\\t\\tНаучные конференции\\t\\t\\t\\t\\t\\t\\t\\t\\t\\t\\t\\t\\t\\t</a>\\t\\t\\t\\t\\t\\t\\t\\t\\t\\t\\t\\t\\t</li>\\n\\t\\t\\t\\t\\t\\t\\t\\t\\t\\t\\t\\t\\t\\t\\t\\t\\t\\t\\t\\t\\t\\t\\t\\t\\t<li >\\n\\t\\t\\t\\t\\t\\t\\t\\t\\t\\t\\t\\t\\t\\t<a  href=\"/projects/museum-writes/\">\\t\\t\\t\\t\\t\\t\\t\\t\\t\\t\\t\\t\\t\\t\\tИздания музея\\t\\t\\t\\t\\t\\t\\t\\t\\t\\t\\t\\t\\t\\t</a>\\t\\t\\t\\t\\t\\t\\t\\t\\t\\t\\t\\t\\t</li>\\n\\t\\t\\t\\t\\t\\t\\t\\t\\t\\t\\t\\t\\t\\t\\t\\t\\t\\t\\t\\t\\t\\t\\t\\t\\t<li >\\n\\t\\t\\t\\t\\t\\t\\t\\t\\t\\t\\t\\t\\t\\t<a  href=\"/projects/emploee-writes/\">\\t\\t\\t\\t\\t\\t\\t\\t\\t\\t\\t\\t\\t\\t\\tПубликации сотрудников\\t\\t\\t\\t\\t\\t\\t\\t\\t\\t\\t\\t\\t\\t</a>\\t\\t\\t\\t\\t\\t\\t\\t\\t\\t\\t\\t\\t</li>\\n\\t\\t\\t\\t\\t\\t\\t\\t\\t\\t\\t\\t\\t\\t\\t\\t\\t\\t\\t\\t\\t\\t\\t\\t\\t<li >\\n\\t\\t\\t\\t\\t\\t\\t\\t\\t\\t\\t\\t\\t\\t<a  href=\"/projects/war-history-library/\">\\t\\t\\t\\t\\t\\t\\t\\t\\t\\t\\t\\t\\t\\t\\tВоенно-историческая библиотека\\t\\t\\t\\t\\t\\t\\t\\t\\t\\t\\t\\t\\t\\t</a>\\t\\t\\t\\t\\t\\t\\t\\t\\t\\t\\t\\t\\t</li>\\n\\t\\t\\t\\t\\t\\t\\t\\t\\t\\t\\t\\t\\t\\t\\t\\t\\t\\t\\t\\t\\t\\t\\t\\t\\t<li >\\n\\t\\t\\t\\t\\t\\t\\t\\t\\t\\t\\t\\t\\t\\t<a  href=\"/projects/search-work/\">\\t\\t\\t\\t\\t\\t\\t\\t\\t\\t\\t\\t\\t\\t\\tОтдел поисковой работы\\t\\t\\t\\t\\t\\t\\t\\t\\t\\t\\t\\t\\t\\t</a>\\t\\t\\t\\t\\t\\t\\t\\t\\t\\t\\t\\t\\t</li>\\n\\t\\t\\t\\t\\t\\t\\t\\t\\t\\t\\t\\t\\t\\t\\t\\t\\t\\t\\t\\t\\t\\t\\t\\t\\t<li >\\n\\t\\t\\t\\t\\t\\t\\t\\t\\t\\t\\t\\t\\t\\t<a  href=\"/donation/\">\\t\\t\\t\\t\\t\\t\\t\\t\\t\\t\\t\\t\\t\\t\\tФонд стратегических инициатив\\t\\t\\t\\t\\t\\t\\t\\t\\t\\t\\t\\t\\t\\t</a>\\t\\t\\t\\t\\t\\t\\t\\t\\t\\t\\t\\t\\t</li>\\n\\t\\t\\t\\t\\t\\t\\t\\t\\t\\t\\t\\t\\t\\t\\t\\t\\t\\t\\t\\t\\t\\t\\t\\t\\t<li >\\n\\t\\t\\t\\t\\t\\t\\t\\t\\t\\t\\t\\t\\t\\t<a  href=\"/projects/restavratsiya-monumenta-rodina-mat-zovet-/\">\\t\\t\\t\\t\\t\\t\\t\\t\\t\\t\\t\\t\\t\\t\\tРеставрация монумента \"Родина-мать зовет!\"\\t\\t\\t\\t\\t\\t\\t\\t\\t\\t\\t\\t\\t\\t</a>\\t\\t\\t\\t\\t\\t\\t\\t\\t\\t\\t\\t\\t</li>\\n\\t\\t\\t\\t\\t\\t\\t\\t\\t\\t\\t\\t\\t\\t\\t\\t\\t\\t\\t\\t\\t\\t\\t\\t\\t<li >\\n\\t\\t\\t\\t\\t\\t\\t\\t\\t\\t\\t\\t\\t\\t<a  href=\"/projects/obshchestvennoe-obsuzhdenie-razvitiya-territorii-mamaeva-kurgana/\">\\t\\t\\t\\t\\t\\t\\t\\t\\t\\t\\t\\t\\t\\t\\tОбщественное обсуждение развития территории Мамаева кургана\\t\\t\\t\\t\\t\\t\\t\\t\\t\\t\\t\\t\\t\\t</a>\\t\\t\\t\\t\\t\\t\\t\\t\\t\\t\\t\\t\\t</li>\\n\\t\\t\\t\\t\\t\\t\\t\\t\\t\\t\\t\\t\\t\\t\\t\\t\\t\\t\\t\\t\\t\\t\\t\\t\\t<li >\\n\\t\\t\\t\\t\\t\\t\\t\\t\\t\\t\\t\\t\\t\\t<a  href=\"/donation/ozhivshie-dioramy-ozhivshaya-istoriya.php\">\\t\\t\\t\\t\\t\\t\\t\\t\\t\\t\\t\\t\\t\\t\\tМобильное приложение Музея-заповедника\\t\\t\\t\\t\\t\\t\\t\\t\\t\\t\\t\\t\\t\\t</a>\\t\\t\\t\\t\\t\\t\\t\\t\\t\\t\\t\\t\\t</li>\\n\\t\\t\\t\\t\\t\\t\\t\\t\\t\\t\\t\\t\\t\\t\\t\\t\\t\\t\\t\\t\\t\\t\\t</ul>\\n\\t\\t\\t\\t\\t\\t\\t\\t\\t\\t\\t\\t\\t\\t\\t\\t\\t\\t\\t</li>\\n\\t\\t\\t\\t\\t\\t\\t\\t\\t\\t\\t\\t\\t\\t\\t\\t\\n\\t\\t\\t\\t\\t\\t\\t\\t\\t<li class=\" fake-level\">\\n\\t\\t\\t\\t\\t\\t\\t\\t\\t\\t\\t\\t\\t\\t\\t\\t\\t\\t\\t\\t\\t<span>\\t\\t\\t\\t\\t\\t\\t\\t\\t\\t\\t\\tВиртуальный музей\\t\\t\\t\\t\\t\\t\\t\\t\\t\\t\\t</span>\\t\\t\\t\\t\\t\\t\\t\\t\\t\\t\\t\\t\\t\\t\\t\\t\\t\\t\\t\\t\\t\\t\\t\\t\\t\\t\\t\\t\\t\\t\\t<ul>\\n\\t\\t\\t\\t\\t\\t\\t\\t\\t\\t\\t\\t\\t\\t\\t\\t\\t\\t\\t\\t\\t\\t\\t\\t\\t<li >\\n\\t\\t\\t\\t\\t\\t\\t\\t\\t\\t\\t\\t\\t\\t<a  href=\"/projects/v-exhibitions/\">\\t\\t\\t\\t\\t\\t\\t\\t\\t\\t\\t\\t\\t\\t\\tВиртуальные выставки\\t\\t\\t\\t\\t\\t\\t\\t\\t\\t\\t\\t\\t\\t</a>\\t\\t\\t\\t\\t\\t\\t\\t\\t\\t\\t\\t\\t</li>\\n\\t\\t\\t\\t\\t\\t\\t\\t\\t\\t\\t\\t\\t\\t\\t\\t\\t\\t\\t\\t\\t\\t\\t\\t\\t<li >\\n\\t\\t\\t\\t\\t\\t\\t\\t\\t\\t\\t\\t\\t\\t<a  href=\"/projects/catalog/\">\\t\\t\\t\\t\\t\\t\\t\\t\\t\\t\\t\\t\\t\\t\\tМузейные коллекции\\t\\t\\t\\t\\t\\t\\t\\t\\t\\t\\t\\t\\t\\t</a>\\t\\t\\t\\t\\t\\t\\t\\t\\t\\t\\t\\t\\t</li>\\n\\t\\t\\t\\t\\t\\t\\t\\t\\t\\t\\t\\t\\t\\t\\t\\t\\t\\t\\t\\t\\t\\t\\t</ul>\\n\\t\\t\\t\\t\\t\\t\\t\\t\\t\\t\\t\\t\\t\\t\\t\\t\\t\\t\\t</li>\\n\\t\\t\\t\\t\\t\\t\\t\\t\\t\\t\\t\\t\\t\\t\\t\\t\\n\\t\\t\\t\\t\\t\\t\\t\\t\\t<li class=\" \">\\n\\t\\t\\t\\t\\t\\t\\t\\t\\t\\t\\t\\t\\t\\t\\t\\t\\t\\t\\t\\t\\t<a  href=\"/projects/v-tours/\">\\t\\t\\t\\t\\t\\t\\t\\t\\t\\t\\t\\tВиртуальные туры\\t\\t\\t\\t\\t\\t\\t\\t\\t\\t\\t</a>\\t\\t\\t\\t\\t\\t\\t\\t\\t\\t\\t\\t\\t\\t\\t\\t\\t\\t\\t\\t\\t\\t\\t\\t\\t\\t\\t\\t\\t</li>\\n\\t\\t\\t\\t\\t\\t\\t\\t\\t\\t\\t\\t\\t\\t\\t</ul>\\n\\t\\t\\t\\t\\t\\t\\t\\t\\n\\t\\t\\t\\t\\t</li>\\n\\t\\t\\t\\t\\t\\t\\t\\t\\t<li  >\\n\\t\\t\\t\\t\\t\\t<a   href=\"/history/\">\\t\\t\\t\\t\\t\\t\\t<i>История</i>\\n\\t\\t\\t\\t\\t\\t</a>\\t\\t\\t\\t\\t\\t\\t\\t\\t\\t\\t\\t\\t<ul>\\n\\t\\t\\t\\t\\t\\t\\t\\t\\t\\t\\t\\t\\t\\t\\t\\t\\n\\t\\t\\t\\t\\t\\t\\t\\t\\t<li class=\" fake-level\">\\n\\t\\t\\t\\t\\t\\t\\t\\t\\t\\t\\t\\t\\t\\t\\t\\t\\t\\t\\t\\t\\t<span>\\t\\t\\t\\t\\t\\t\\t\\t\\t\\t\\t\\tХроники и судьбы\\t\\t\\t\\t\\t\\t\\t\\t\\t\\t\\t</span>\\t\\t\\t\\t\\t\\t\\t\\t\\t\\t\\t\\t\\t\\t\\t\\t\\t\\t\\t\\t\\t\\t\\t\\t\\t\\t\\t\\t\\t\\t\\t<ul>\\n\\t\\t\\t\\t\\t\\t\\t\\t\\t\\t\\t\\t\\t\\t\\t\\t\\t\\t\\t\\t\\t\\t\\t\\t\\t<li >\\n\\t\\t\\t\\t\\t\\t\\t\\t\\t\\t\\t\\t\\t\\t<a  href=\"/history/timeline/\">\\t\\t\\t\\t\\t\\t\\t\\t\\t\\t\\t\\t\\t\\t\\tЛиния времени\\t\\t\\t\\t\\t\\t\\t\\t\\t\\t\\t\\t\\t\\t</a>\\t\\t\\t\\t\\t\\t\\t\\t\\t\\t\\t\\t\\t</li>\\n\\t\\t\\t\\t\\t\\t\\t\\t\\t\\t\\t\\t\\t\\t\\t\\t\\t\\t\\t\\t\\t\\t\\t\\t\\t<li >\\n\\t\\t\\t\\t\\t\\t\\t\\t\\t\\t\\t\\t\\t\\t<a  href=\"/history/south-russia/\">\\t\\t\\t\\t\\t\\t\\t\\t\\t\\t\\t\\t\\t\\t\\tЮг России 1918 - 1920 г.г.\\t\\t\\t\\t\\t\\t\\t\\t\\t\\t\\t\\t\\t\\t</a>\\t\\t\\t\\t\\t\\t\\t\\t\\t\\t\\t\\t\\t</li>\\n\\t\\t\\t\\t\\t\\t\\t\\t\\t\\t\\t\\t\\t\\t\\t\\t\\t\\t\\t\\t\\t\\t\\t\\t\\t<li >\\n\\t\\t\\t\\t\\t\\t\\t\\t\\t\\t\\t\\t\\t\\t<a  href=\"/history/people-time/\">\\t\\t\\t\\t\\t\\t\\t\\t\\t\\t\\t\\t\\t\\t\\tБиографии Второй мировой\\t\\t\\t\\t\\t\\t\\t\\t\\t\\t\\t\\t\\t\\t</a>\\t\\t\\t\\t\\t\\t\\t\\t\\t\\t\\t\\t\\t</li>\\n\\t\\t\\t\\t\\t\\t\\t\\t\\t\\t\\t\\t\\t\\t\\t\\t\\t\\t\\t\\t\\t\\t\\t\\t\\t<li >\\n\\t\\t\\t\\t\\t\\t\\t\\t\\t\\t\\t\\t\\t\\t<a  href=\"/history/unknown-destinies/\">\\t\\t\\t\\t\\t\\t\\t\\t\\t\\t\\t\\t\\t\\t\\tНеизвестные судьбы Сталинграда\\t\\t\\t\\t\\t\\t\\t\\t\\t\\t\\t\\t\\t\\t</a>\\t\\t\\t\\t\\t\\t\\t\\t\\t\\t\\t\\t\\t</li>\\n\\t\\t\\t\\t\\t\\t\\t\\t\\t\\t\\t\\t\\t\\t\\t\\t\\t\\t\\t\\t\\t\\t\\t</ul>\\n\\t\\t\\t\\t\\t\\t\\t\\t\\t\\t\\t\\t\\t\\t\\t\\t\\t\\t\\t</li>\\n\\t\\t\\t\\t\\t\\t\\t\\t\\t\\t\\t\\t\\t\\t\\t</ul>\\n\\t\\t\\t\\t\\t\\t\\t\\t\\n\\t\\t\\t\\t\\t</li>\\n\\t\\t\\t\\t\\t\\t\\t</ul>\\n\\t\\t</div>\\n\\t</div>\\n</div>\\n\\t\\t\\t</div>\\n\\t\\t\\t<div class=\"sf-mega submenu search\">\\n\\t\\t\\t\\t\\n\\n<div class=\"container\">\\n\\t<div class=\"row\">\\n\\t\\t<div class=\"col-md-3\">\\n\\t\\t\\t<div class=\"submenu-ttl\">\\n\\t\\t\\t\\t<i class=\"icon-search\"></i>\\t\\n\\t\\t\\t\\tПОИСК\\t\\t\\t\\t\\t\\t\\t\\n\\t\\t\\t</div>\\n\\t\\t</div>\\n\\t\\t<div class=\"col-md-8\">\\n\\t\\t\\t<form method=\"GET\" action=\"/search/\"> \\n\\t\\t\\t\\t<div class=\"search-first-row\">\\n\\t\\t\\t\\t\\t<input type=\"text\" name=\"q\"/>\\n\\t\\t\\t\\t\\t<input type=\"submit\" value=\"Искать\"/>\\n\\t\\t\\t\\t</div>\\n\\t\\t\\t\\t<div class=\"search-second-row\">\\n\\t\\t\\t\\t\\t<label class=\"checkbox\">\\n\\t\\t\\t\\t\\t\\t<input type=\"checkbox\" name=\"type[]\" value=\"iblock_news\">\\n\\t\\t\\t\\t\\t\\t<div class=\"checkbox__text\">в новостях</div>\\n\\t\\t\\t\\t\\t</label>\\n\\t\\t\\t\\t\\t<label class=\"checkbox\">\\n\\t\\t\\t\\t\\t\\t<input type=\"checkbox\" name=\"type[]\" value=\"iblock_science\"> \\n\\t\\t\\t\\t\\t\\t<div class=\"checkbox__text\">в статьях</div>\\n\\t\\t\\t\\t\\t</label>\\n\\t\\t\\t\\t\\t<label class=\"checkbox\">\\n\\t\\t\\t\\t\\t\\t<input type=\"checkbox\" name=\"type[]\" value=\"iblock_afisha\"> \\n\\t\\t\\t\\t\\t\\t<div class=\"checkbox__text\">в выставках</div>\\n\\t\\t\\t\\t\\t</label>\\n\\t\\t\\t\\t\\t<label class=\"checkbox\">\\n\\t\\t\\t\\t\\t\\t<input type=\"checkbox\" name=\"type[]\" value=\"iblock_chronicles\">\\n\\t\\t\\t\\t\\t\\t<div class=\"checkbox__text\">в хрониках</div>\\n\\t\\t\\t\\t\\t</label>\\n\\t\\t\\t\\t\\t<label class=\"checkbox\">\\n\\t\\t\\t\\t\\t\\t<input type=\"checkbox\" name=\"type[]\" value=\"iblock_catalog\"> \\n\\t\\t\\t\\t\\t\\t<div class=\"checkbox__text\">в каталоге</div>\\n\\t\\t\\t\\t\\t</label>\\n\\t\\t\\t\\t\\t<a href=\"#\" class=\"search_all\">Везде</a>\\n\\t\\t\\t\\t</div>\\n\\t\\t\\t</form>\\n\\t\\t</div>\\n\\t\\t<div class=\"col-md-1\">\\n\\t\\t\\t<div class=\"close-wrap\">\\n\\t\\t\\t\\t<a href=\"#\" class=\"icon-close\"></a>\\n\\t\\t\\t</div>\\n\\t\\t</div>\\n\\t</div>\\n</div>\\n\\n\\t\\t\\t</div>\\n\\t\\t</header>\\n\\t\\t<div class=\"index-slider-wrap\">\\n\\t\\t\\n        <div class=\"container index-slider-btns\">\\n\\t<a href=\"#\" class=\"index-slide-left\"></a>\\n\\t<a href=\"#\" class=\"index-slide-right\"></a>\\n</div>\\n<div class=\"index-slider\">\\n                        <div  class=\"item\">\\n                <img src=\"/upload/resize_cache/iblock/849/za08legocqqn9ymcdlcb9rr6st91hfwb/1280_720_1/Нижний Новгород.jpg\"/>\\n                <div class=\"floating-block\">\\n                                                        </div>\\n            </div>\\n                                <div  class=\"item\">\\n                <img src=\"/upload/resize_cache/iblock/2c3/1280_720_1/Слайдер Сбер.jpg\"/>\\n                <div class=\"floating-block\">\\n                                                        </div>\\n            </div>\\n                                <div  class=\"item\">\\n                <img src=\"/upload/resize_cache/iblock/186/1280_720_1/01.jpg\"/>\\n                <div class=\"floating-block\">\\n                                                                <a href=\"https://stalingrad-battle.ru/about/m-news/2022/9680/\" class=\"slider-btn\">\\n                            Подробнее\\n                        </a>\\n                                    </div>\\n            </div>\\n                                <div  class=\"item\">\\n                <img src=\"/upload/resize_cache/iblock/87e/1280_720_1/Слайдер историческая хроника.jpg\"/>\\n                <div class=\"floating-block\">\\n                                                                <a href=\"https://stalingrad-battle.ru/history/\" class=\"slider-btn\">\\n                            Подробнее\\n                        </a>\\n                                    </div>\\n            </div>\\n                                <div  class=\"item\">\\n                <img src=\"/upload/resize_cache/iblock/1a1/4sqb4ysii2sl6um23m4bs9q5hcfsrt8g/1280_720_1/Слайдер Качество услуг.jpg\"/>\\n                <div class=\"floating-block\">\\n                                                                <a href=\"https://bus.gov.ru/info-card/317317\" class=\"slider-btn\">\\n                            Подробнее\\n                        </a>\\n                                    </div>\\n            </div>\\n                                <div  class=\"item\">\\n                <img src=\"/upload/resize_cache/iblock/ac6/1280_720_1/Пушкинская карта 2.jpg\"/>\\n                <div class=\"floating-block\">\\n                                                                <a href=\"https://stalingrad-battle.ru/to-visitors/tickets/pushkinskaya-karta/\" class=\"slider-btn\">\\n                            Подробнее\\n                        </a>\\n                                    </div>\\n            </div>\\n            </div>\\n    </div>\\n<div class=\"section gray-bg fringe-top-gray fringe-bottom-gray\">\\n\\n\\t\\t\\n\\t\\t<div class=\"container\">\\n\\t\\t\\t<div class=\"section-head\">\\n\\t\\t\\t\\t<h2>Новости</h2>\\n\\t\\t\\t</div>\\n\\t\\t\\t<div class=\"news-carousel\">\\n\\t\\t\\t\\t\\t\\t\\t\\t\\t\\t\\t\\t\\t<div id=\"bx_651765591_12600\">\\n\\t\\t\\t\\t\\t\\t<div class=\"item\">\\n\\t\\t\\t\\t\\t\\t\\t<a href=\"/about/m-news/2023/12600/\" class=\"news-link\">\\n\\t\\t\\t\\t\\t\\t\\t\\t<span class=\"img\">\\n\\t\\t\\t\\t\\t\\t\\t\\t\\t<img src=\"/upload/resize_cache/iblock/21e/4gd9ottc4qzfz4mprv06jt9ki4viybvj/310_200_1/2023-11-29 10.12.21.JPG\" alt=\"\"/>\\n\\t\\t\\t\\t\\t\\t\\t\\t</span>\\n\\t\\t\\t\\t\\t\\t\\t\\t<time datetime=\"29-11-2023\">29 ноября 2023</time>\\n\\t\\t\\t\\t\\t\\t\\t\\t<span class=\"ttl\">\\n\\t\\t\\t\\t\\t\\t\\t\\t\\tРяды движения «Юнармия» пополнились новыми членами\\t\\t\\t\\t\\t\\t\\t\\t</span>\\n\\t\\t\\t\\t\\t\\t\\t</a>\\n\\t\\t\\t\\t\\t\\t\\t\\t\\t\\t\\t\\t\\t\\t\\t<a href=\"/about/m-news/\" class=\"news-section\">Новости музея</a>\\n\\t\\t\\t\\t\\t\\t\\t\\t\\t\\t\\t\\t\\t</div>\\n\\t\\t\\t\\t\\t</div>\\n\\t\\t\\t\\t\\t\\t\\t\\t\\t\\t\\t\\t\\t<div id=\"bx_651765591_12597\">\\n\\t\\t\\t\\t\\t\\t<div class=\"item\">\\n\\t\\t\\t\\t\\t\\t\\t<a href=\"/about/m-news/2023/12597/\" class=\"news-link\">\\n\\t\\t\\t\\t\\t\\t\\t\\t<span class=\"img\">\\n\\t\\t\\t\\t\\t\\t\\t\\t\\t<img src=\"/upload/resize_cache/iblock/b9a/j5o0bjonkxomhp75bxbkmpfvv8pzut7k/310_200_1/IMG_0853.jpg\" alt=\"\"/>\\n\\t\\t\\t\\t\\t\\t\\t\\t</span>\\n\\t\\t\\t\\t\\t\\t\\t\\t<time datetime=\"23-11-2023\">23 ноября 2023</time>\\n\\t\\t\\t\\t\\t\\t\\t\\t<span class=\"ttl\">\\n\\t\\t\\t\\t\\t\\t\\t\\t\\tСтуденты волгоградских вузов стали участниками кинолектория в музее-панораме\\t\\t\\t\\t\\t\\t\\t\\t</span>\\n\\t\\t\\t\\t\\t\\t\\t</a>\\n\\t\\t\\t\\t\\t\\t\\t\\t\\t\\t\\t\\t\\t\\t\\t<a href=\"/about/m-news/\" class=\"news-section\">Новости музея</a>\\n\\t\\t\\t\\t\\t\\t\\t\\t\\t\\t\\t\\t\\t</div>\\n\\t\\t\\t\\t\\t</div>\\n\\t\\t\\t\\t\\t\\t\\t\\t\\t\\t\\t\\t\\t<div id=\"bx_651765591_12596\">\\n\\t\\t\\t\\t\\t\\t<div class=\"item\">\\n\\t\\t\\t\\t\\t\\t\\t<a href=\"/about/m-news/2023/12596/\" class=\"news-link\">\\n\\t\\t\\t\\t\\t\\t\\t\\t<span class=\"img\">\\n\\t\\t\\t\\t\\t\\t\\t\\t\\t<img src=\"/upload/resize_cache/iblock/cbb/ikoxia0brx09oz8sn8xh65v2ma88y0d0/310_200_1/IMG_0669.jpg\" alt=\"\"/>\\n\\t\\t\\t\\t\\t\\t\\t\\t</span>\\n\\t\\t\\t\\t\\t\\t\\t\\t<time datetime=\"23-11-2023\">23 ноября 2023</time>\\n\\t\\t\\t\\t\\t\\t\\t\\t<span class=\"ttl\">\\n\\t\\t\\t\\t\\t\\t\\t\\t\\tВ музее «Память» открылся выставочный проект о животных на войне\\t\\t\\t\\t\\t\\t\\t\\t</span>\\n\\t\\t\\t\\t\\t\\t\\t</a>\\n\\t\\t\\t\\t\\t\\t\\t\\t\\t\\t\\t\\t\\t\\t\\t<a href=\"/about/m-news/\" class=\"news-section\">Новости музея</a>\\n\\t\\t\\t\\t\\t\\t\\t\\t\\t\\t\\t\\t\\t</div>\\n\\t\\t\\t\\t\\t</div>\\n\\t\\t\\t\\t\\t\\t\\t\\t\\t\\t\\t\\t\\t<div id=\"bx_651765591_12594\">\\n\\t\\t\\t\\t\\t\\t<div class=\"item\">\\n\\t\\t\\t\\t\\t\\t\\t<a href=\"/about/m-news/2023/12594/\" class=\"news-link\">\\n\\t\\t\\t\\t\\t\\t\\t\\t<span class=\"img\">\\n\\t\\t\\t\\t\\t\\t\\t\\t\\t<img src=\"/upload/resize_cache/iblock/4f6/qflykdiofnkdvy5i7kihy41ayh632jre/310_200_1/IMG_0504.jpg\" alt=\"\"/>\\n\\t\\t\\t\\t\\t\\t\\t\\t</span>\\n\\t\\t\\t\\t\\t\\t\\t\\t<time datetime=\"22-11-2023\">22 ноября 2023</time>\\n\\t\\t\\t\\t\\t\\t\\t\\t<span class=\"ttl\">\\n\\t\\t\\t\\t\\t\\t\\t\\t\\tПосол Гвинейской Республики посетил объекты Музея-заповедника\\t\\t\\t\\t\\t\\t\\t\\t</span>\\n\\t\\t\\t\\t\\t\\t\\t</a>\\n\\t\\t\\t\\t\\t\\t\\t\\t\\t\\t\\t\\t\\t\\t\\t<a href=\"/about/m-news/\" class=\"news-section\">Новости музея</a>\\n\\t\\t\\t\\t\\t\\t\\t\\t\\t\\t\\t\\t\\t</div>\\n\\t\\t\\t\\t\\t</div>\\n\\t\\t\\t\\t\\t\\t\\t\\t\\t\\t\\t\\t\\t<div id=\"bx_651765591_12593\">\\n\\t\\t\\t\\t\\t\\t<div class=\"item\">\\n\\t\\t\\t\\t\\t\\t\\t<a href=\"/about/m-news/2023/12593/\" class=\"news-link\">\\n\\t\\t\\t\\t\\t\\t\\t\\t<span class=\"img\">\\n\\t\\t\\t\\t\\t\\t\\t\\t\\t<img src=\"/upload/resize_cache/iblock/990/xq82s3e1xjg7onvavtaw2kbicn9wb2x3/310_200_1/IMG_0576.jpg\" alt=\"\"/>\\n\\t\\t\\t\\t\\t\\t\\t\\t</span>\\n\\t\\t\\t\\t\\t\\t\\t\\t<time datetime=\"22-11-2023\">22 ноября 2023</time>\\n\\t\\t\\t\\t\\t\\t\\t\\t<span class=\"ttl\">\\n\\t\\t\\t\\t\\t\\t\\t\\t\\tУчастники специальной военной операции получили заслуженные награды 2\\t\\t\\t\\t\\t\\t\\t\\t</span>\\n\\t\\t\\t\\t\\t\\t\\t</a>\\n\\t\\t\\t\\t\\t\\t\\t\\t\\t\\t\\t\\t\\t\\t\\t<a href=\"/about/m-news/\" class=\"news-section\">Новости музея</a>\\n\\t\\t\\t\\t\\t\\t\\t\\t\\t\\t\\t\\t\\t</div>\\n\\t\\t\\t\\t\\t</div>\\n\\t\\t\\t\\t\\t\\t\\t\\t\\t\\t\\t\\t\\t<div id=\"bx_651765591_12592\">\\n\\t\\t\\t\\t\\t\\t<div class=\"item\">\\n\\t\\t\\t\\t\\t\\t\\t<a href=\"/about/m-news/2023/12592/\" class=\"news-link\">\\n\\t\\t\\t\\t\\t\\t\\t\\t<span class=\"img\">\\n\\t\\t\\t\\t\\t\\t\\t\\t\\t<img src=\"/upload/resize_cache/iblock/657/ddhxhzco9pmoki30pl1r08l1r5v58ss2/310_200_1/заставка Кинолекторий_Уран.jpg\" alt=\"\"/>\\n\\t\\t\\t\\t\\t\\t\\t\\t</span>\\n\\t\\t\\t\\t\\t\\t\\t\\t<time datetime=\"21-11-2023\">21 ноября 2023</time>\\n\\t\\t\\t\\t\\t\\t\\t\\t<span class=\"ttl\">\\n\\t\\t\\t\\t\\t\\t\\t\\t\\tПриглашаем на кинолекторий «Операция «Уран» \\t\\t\\t\\t\\t\\t\\t\\t</span>\\n\\t\\t\\t\\t\\t\\t\\t</a>\\n\\t\\t\\t\\t\\t\\t\\t\\t\\t\\t\\t\\t\\t\\t\\t<a href=\"/about/m-news/\" class=\"news-section\">Новости музея</a>\\n\\t\\t\\t\\t\\t\\t\\t\\t\\t\\t\\t\\t\\t</div>\\n\\t\\t\\t\\t\\t</div>\\n\\t\\t\\t\\t\\t\\t\\t\\t\\t\\t\\t\\t\\t<div id=\"bx_651765591_12591\">\\n\\t\\t\\t\\t\\t\\t<div class=\"item\">\\n\\t\\t\\t\\t\\t\\t\\t<a href=\"/about/m-news/2023/12591/\" class=\"news-link\">\\n\\t\\t\\t\\t\\t\\t\\t\\t<span class=\"img\">\\n\\t\\t\\t\\t\\t\\t\\t\\t\\t<img src=\"/upload/resize_cache/iblock/69d/8wu2yer123mxr1y9ti4sumzf7u6hmd6u/310_200_1/010.jpg\" alt=\"\"/>\\n\\t\\t\\t\\t\\t\\t\\t\\t</span>\\n\\t\\t\\t\\t\\t\\t\\t\\t<time datetime=\"21-11-2023\">21 ноября 2023</time>\\n\\t\\t\\t\\t\\t\\t\\t\\t<span class=\"ttl\">\\n\\t\\t\\t\\t\\t\\t\\t\\t\\tС экспозицией о братьях наших меньших на войне можно ознакомиться в музее «Память»\\t\\t\\t\\t\\t\\t\\t\\t</span>\\n\\t\\t\\t\\t\\t\\t\\t</a>\\n\\t\\t\\t\\t\\t\\t\\t\\t\\t\\t\\t\\t\\t\\t\\t<a href=\"/about/m-news/\" class=\"news-section\">Новости музея</a>\\n\\t\\t\\t\\t\\t\\t\\t\\t\\t\\t\\t\\t\\t</div>\\n\\t\\t\\t\\t\\t</div>\\n\\t\\t\\t\\t\\t\\t\\t\\t\\t\\t\\t\\t\\t<div id=\"bx_651765591_12590\">\\n\\t\\t\\t\\t\\t\\t<div class=\"item\">\\n\\t\\t\\t\\t\\t\\t\\t<a href=\"/about/m-news/2023/12590/\" class=\"news-link\">\\n\\t\\t\\t\\t\\t\\t\\t\\t<span class=\"img\">\\n\\t\\t\\t\\t\\t\\t\\t\\t\\t<img src=\"/upload/resize_cache/iblock/19e/8d8yt5a8w9wupje3s3lmdfb5gnd3k3de/310_200_1/IMG_0444.jpg\" alt=\"\"/>\\n\\t\\t\\t\\t\\t\\t\\t\\t</span>\\n\\t\\t\\t\\t\\t\\t\\t\\t<time datetime=\"20-11-2023\">20 ноября 2023</time>\\n\\t\\t\\t\\t\\t\\t\\t\\t<span class=\"ttl\">\\n\\t\\t\\t\\t\\t\\t\\t\\t\\tВ музее-панораме побывали Герои\\t\\t\\t\\t\\t\\t\\t\\t</span>\\n\\t\\t\\t\\t\\t\\t\\t</a>\\n\\t\\t\\t\\t\\t\\t\\t\\t\\t\\t\\t\\t\\t\\t\\t<a href=\"/about/m-news/\" class=\"news-section\">Новости музея</a>\\n\\t\\t\\t\\t\\t\\t\\t\\t\\t\\t\\t\\t\\t</div>\\n\\t\\t\\t\\t\\t</div>\\n\\t\\t\\t\\t\\t\\t\\t\\t\\t\\t\\t\\t\\t<div id=\"bx_651765591_12587\">\\n\\t\\t\\t\\t\\t\\t<div class=\"item\">\\n\\t\\t\\t\\t\\t\\t\\t<a href=\"/about/m-news/2023/12587/\" class=\"news-link\">\\n\\t\\t\\t\\t\\t\\t\\t\\t<span class=\"img\">\\n\\t\\t\\t\\t\\t\\t\\t\\t\\t<img src=\"/upload/resize_cache/iblock/bc7/xm30pfzn7mmpngewjchl4c5eoq8kji5h/310_200_1/IMG_8287.JPG\" alt=\"\"/>\\n\\t\\t\\t\\t\\t\\t\\t\\t</span>\\n\\t\\t\\t\\t\\t\\t\\t\\t<time datetime=\"19-11-2023\">19 ноября 2023</time>\\n\\t\\t\\t\\t\\t\\t\\t\\t<span class=\"ttl\">\\n\\t\\t\\t\\t\\t\\t\\t\\t\\tВ Музее-заповеднике отметили День артиллерии\\t\\t\\t\\t\\t\\t\\t\\t</span>\\n\\t\\t\\t\\t\\t\\t\\t</a>\\n\\t\\t\\t\\t\\t\\t\\t\\t\\t\\t\\t\\t\\t\\t\\t<a href=\"/about/m-news/\" class=\"news-section\">Новости музея</a>\\n\\t\\t\\t\\t\\t\\t\\t\\t\\t\\t\\t\\t\\t</div>\\n\\t\\t\\t\\t\\t</div>\\n\\t\\t\\t\\t\\t\\t\\t\\t\\t\\t\\t\\t\\t<div id=\"bx_651765591_12588\">\\n\\t\\t\\t\\t\\t\\t<div class=\"item\">\\n\\t\\t\\t\\t\\t\\t\\t<a href=\"/about/m-news/2023/12588/\" class=\"news-link\">\\n\\t\\t\\t\\t\\t\\t\\t\\t<span class=\"img\">\\n\\t\\t\\t\\t\\t\\t\\t\\t\\t<img src=\"/upload/resize_cache/iblock/fb2/hxfuv7op0yuafbv0yoqla872st54d4il/310_200_1/IMG_0372.jpg\" alt=\"\"/>\\n\\t\\t\\t\\t\\t\\t\\t\\t</span>\\n\\t\\t\\t\\t\\t\\t\\t\\t<time datetime=\"19-11-2023\">19 ноября 2023</time>\\n\\t\\t\\t\\t\\t\\t\\t\\t<span class=\"ttl\">\\n\\t\\t\\t\\t\\t\\t\\t\\t\\tКубинские футболисты посетили Музей-заповедник\\t\\t\\t\\t\\t\\t\\t\\t</span>\\n\\t\\t\\t\\t\\t\\t\\t</a>\\n\\t\\t\\t\\t\\t\\t\\t\\t\\t\\t\\t\\t\\t\\t\\t<a href=\"/about/m-news/\" class=\"news-section\">Новости музея</a>\\n\\t\\t\\t\\t\\t\\t\\t\\t\\t\\t\\t\\t\\t</div>\\n\\t\\t\\t\\t\\t</div>\\n\\t\\t\\t\\t\\t\\t\\t\\t\\t\\t\\t\\t\\t<div id=\"bx_651765591_12577\">\\n\\t\\t\\t\\t\\t\\t<div class=\"item\">\\n\\t\\t\\t\\t\\t\\t\\t<a href=\"/about/m-news/2023/12577/\" class=\"news-link\">\\n\\t\\t\\t\\t\\t\\t\\t\\t<span class=\"img\">\\n\\t\\t\\t\\t\\t\\t\\t\\t\\t<img src=\"/upload/resize_cache/iblock/584/8cavyge2hq4cq07k1079fz044za2412i/310_200_1/IMG_0161.jpg\" alt=\"\"/>\\n\\t\\t\\t\\t\\t\\t\\t\\t</span>\\n\\t\\t\\t\\t\\t\\t\\t\\t<time datetime=\"18-11-2023\">18 ноября 2023</time>\\n\\t\\t\\t\\t\\t\\t\\t\\t<span class=\"ttl\">\\n\\t\\t\\t\\t\\t\\t\\t\\t\\tНовая выставочная экспозиция в музее-панораме открылась ко Дню артиллерии\\t\\t\\t\\t\\t\\t\\t\\t</span>\\n\\t\\t\\t\\t\\t\\t\\t</a>\\n\\t\\t\\t\\t\\t\\t\\t\\t\\t\\t\\t\\t\\t\\t\\t<a href=\"/about/m-news/\" class=\"news-section\">Новости музея</a>\\n\\t\\t\\t\\t\\t\\t\\t\\t\\t\\t\\t\\t\\t</div>\\n\\t\\t\\t\\t\\t</div>\\n\\t\\t\\t\\t\\t\\t\\t\\t\\t\\t\\t\\t\\t<div id=\"bx_651765591_12576\">\\n\\t\\t\\t\\t\\t\\t<div class=\"item\">\\n\\t\\t\\t\\t\\t\\t\\t<a href=\"/about/m-news/2023/12576/\" class=\"news-link\">\\n\\t\\t\\t\\t\\t\\t\\t\\t<span class=\"img\">\\n\\t\\t\\t\\t\\t\\t\\t\\t\\t<img src=\"/upload/resize_cache/iblock/cac/0nwuv4eth26u3r002h6oow3pa4tgzt6v/310_200_1/IMG_7735.JPG\" alt=\"\"/>\\n\\t\\t\\t\\t\\t\\t\\t\\t</span>\\n\\t\\t\\t\\t\\t\\t\\t\\t<time datetime=\"17-11-2023\">17 ноября 2023</time>\\n\\t\\t\\t\\t\\t\\t\\t\\t<span class=\"ttl\">\\n\\t\\t\\t\\t\\t\\t\\t\\t\\t«Свет Великой Победы» покажут на Мамаевом кургане\\t\\t\\t\\t\\t\\t\\t\\t</span>\\n\\t\\t\\t\\t\\t\\t\\t</a>\\n\\t\\t\\t\\t\\t\\t\\t\\t\\t\\t\\t\\t\\t\\t\\t<a href=\"/about/m-news/\" class=\"news-section\">Новости музея</a>\\n\\t\\t\\t\\t\\t\\t\\t\\t\\t\\t\\t\\t\\t</div>\\n\\t\\t\\t\\t\\t</div>\\n\\t\\t\\t\\t\\t\\t\\t</div>\\n\\t\\t</div>\\n\\t</div>\\n<div class=\"section gray-bg\">\\n\\t<div class=\"virtual-museum-head\">\\n\\t\\t<div class=\"container\">\\n\\t\\t\\t<div class=\"section-head\">\\n\\t\\t\\t\\t<h2>Виртуальный музей</h2>\\n\\t\\t\\t</div>\\n\\t\\t</div>\\n\\t\\t<div class=\"container virtual-museum-arrows\">\\n\\t\\t\\t<button id=\"virtual-museum-prev\" class=\"slick-prev slick-arrow virtual-museum-prev\" aria-label=\"Previous\" type=\"button\">Previous</button>\\n\\t\\t\\t<button id=\"virtual-museum-next\" class=\"slick-next slick-arrow virtual-museum-next\" aria-label=\"Next\" type=\"button\">Next</button>\\n\\t\\t</div>\\n\\t</div>\\n\\t<div class=\"virtual-museum-carousel\">\\n\\t\\t\\t\\t\\t\\t\\t<div id=\"bx_1373509569_2320\">\\n\\t\\t\\t\\t<div class=\"item\" style=\"background-image:url(\\'/upload/resize_cache/iblock/93a/1200_435_1/virtual_museum-2.jpg\\')\">\\n\\t\\t\\t\\t\\t<div class=\"container\">\\n\\t\\t\\t\\t\\t\\t<div class=\"museum-plan\">\\n\\t\\t\\t\\t\\t\\t\\t<img src=\"\" alt=\"\"/>\\n\\t\\t\\t\\t\\t\\t</div>\\n\\t\\t\\t\\t\\t\\t<div class=\"ttl\">\\n\\t\\t\\t\\t\\t\\t\\tМузей - панорама «Сталинградская битва»\\t\\t\\t\\t\\t\\t</div>\\n\\t\\t\\t\\t\\t\\t<a href=\"https://panorama.stalingrad-battle.ru/\" class=\"btn\">Смотреть</a>\\n\\t\\t\\t\\t\\t\\t\\t\\t\\t\\t\\t</div>\\n\\t\\t\\t\\t</div>\\n\\t\\t\\t</div>\\n\\t\\t\\t\\t\\t\\t\\t<div id=\"bx_1373509569_2319\">\\n\\t\\t\\t\\t<div class=\"item\" style=\"background-image:url(\\'/upload/resize_cache/iblock/2d5/1200_435_1/virtual_museum-1.jpg\\')\">\\n\\t\\t\\t\\t\\t<div class=\"container\">\\n\\t\\t\\t\\t\\t\\t<div class=\"museum-plan\">\\n\\t\\t\\t\\t\\t\\t\\t<img src=\"\" alt=\"\"/>\\n\\t\\t\\t\\t\\t\\t</div>\\n\\t\\t\\t\\t\\t\\t<div class=\"ttl\">\\n\\t\\t\\t\\t\\t\\t\\tМамаев курган\\t\\t\\t\\t\\t\\t</div>\\n\\t\\t\\t\\t\\t\\t<a href=\"https://mamaev-kurgan.stalingrad-battle.ru/\" class=\"btn\">Смотреть</a>\\n\\t\\t\\t\\t\\t\\t\\t\\t\\t\\t\\t</div>\\n\\t\\t\\t\\t</div>\\n\\t\\t\\t</div>\\n\\t\\t\\t</div>\\n</div>\\n\\n<div class=\"section ptb fringe-top-white\">\\n\\t<div class=\"container\">\\n\\t\\t<div class=\"section-head\">\\n\\t\\t\\t<h1>О музее-заповеднике «Сталинградская битва»</h1>\\n\\t\\t</div>\\n\\t\\t<div class=\"museums-carousel\">\\n\\t\\t\\t\\t\\t\\t\\t\\t\\t\\t<div id=\"bx_3485106786_2301\">\\n\\t\\t\\t\\t\\t<div class=\"item\">\\n\\t\\t\\t\\t\\t\\t<div class=\"img\"> <img src=\"/upload/resize_cache/iblock/713/310_435_1/Музей-панорама.jpg\" alt=\"Музей-панорама «Сталинградская битва» \"> <!-- Картинка 310х435 --> </div>\\n\\t\\t\\t\\t\\t\\t<div class=\"ttl\">\\n\\t\\t\\t\\t\\t\\t\\t<a href=\"/about/about-museum-inner/2301\">Музей-панорама «Сталинградская битва» </a>\\n\\t\\t\\t\\t\\t\\t\\t\\n\\t\\t\\t\\t\\t\\t\\t\\n\\t\\t\\t\\t\\t\\t\\t<!-- Надо чтобы сюда вывелось из анонса поле Текст полностью -->\\n\\t\\t\\t\\t\\t\\t\\t<div class=\"item-info\">\\n\\t\\t\\t\\t\\t\\t\\t\\t<div>\\n\\t\\t\\t\\t\\t\\t\\t\\t\\t<ul>\\r\\n\\t<li>вторник - пятница, воскресенье&nbsp;с 10.00 до 18.00</li>\\r\\n\\t<li>суббота - с 10.00 до 20.00</li>\\r\\n\\t<li>понедельник - выходной</li>\\r\\n</ul>\\r\\n<p>\\r\\n <strong class=\"red\">Внимание!</strong> Касса закрывается за 30 минут до окончания работы музея!\\r\\n</p>\\t\\t\\t\\t\\t\\t\\t\\t</div>\\n\\t\\t\\t\\t\\t\\t\\t\\t<a href=\"/to-visitors/order-excursion/\" class=\"btn\">Заказать экскурсию</a>\\n\\t\\t\\t\\t\\t\\t\\t</div>\\n\\t\\t\\t\\t\\t\\t\\n\\t\\t\\t\\t\\t\\t\\n\\t\\t\\t\\t\\t\\t\\n\\t\\t\\t\\t\\t\\t</div> \\n\\t\\t\\t\\t\\t</div>\\n\\t\\t\\t\\t</div>\\n\\t\\t\\t\\t\\t\\t\\t\\t\\t\\t<div id=\"bx_3485106786_2302\">\\n\\t\\t\\t\\t\\t<div class=\"item\">\\n\\t\\t\\t\\t\\t\\t<div class=\"img\"> <img src=\"/upload/resize_cache/iblock/e2a/310_435_1/4644337127723001_dfaf.jpg\" alt=\"Мемориальный комплекс «Героям Сталинградской битвы» на Мамаевом кургане \"> <!-- Картинка 310х435 --> </div>\\n\\t\\t\\t\\t\\t\\t<div class=\"ttl\">\\n\\t\\t\\t\\t\\t\\t\\t<a href=\"/about/about-museum-inner/2302\">Мемориальный комплекс «Героям Сталинградской битвы» на Мамаевом кургане </a>\\n\\t\\t\\t\\t\\t\\t\\t\\n\\t\\t\\t\\t\\t\\t\\t\\n\\t\\t\\t\\t\\t\\t\\t<!-- Надо чтобы сюда вывелось из анонса поле Текст полностью -->\\n\\t\\t\\t\\t\\t\\t\\t<div class=\"item-info\">\\n\\t\\t\\t\\t\\t\\t\\t\\t<div>\\n\\t\\t\\t\\t\\t\\t\\t\\t\\t<p>\\r\\n\\t Экскурсии ежедневно с 9:00 - 15:30\\r\\n</p>\\r\\n<p>\\r\\n\\t Бесплатное посещение для всех категорий российских и зарубежных граждан.\\r\\n</p>\\t\\t\\t\\t\\t\\t\\t\\t</div>\\n\\t\\t\\t\\t\\t\\t\\t\\t<a href=\"/to-visitors/order-excursion/\" class=\"btn\">Заказать экскурсию</a>\\n\\t\\t\\t\\t\\t\\t\\t</div>\\n\\t\\t\\t\\t\\t\\t\\n\\t\\t\\t\\t\\t\\t\\n\\t\\t\\t\\t\\t\\t\\n\\t\\t\\t\\t\\t\\t</div> \\n\\t\\t\\t\\t\\t</div>\\n\\t\\t\\t\\t</div>\\n\\t\\t\\t\\t\\t\\t\\t\\t\\t\\t<div id=\"bx_3485106786_2303\">\\n\\t\\t\\t\\t\\t<div class=\"item\">\\n\\t\\t\\t\\t\\t\\t<div class=\"img\"> <img src=\"/upload/resize_cache/iblock/b76/310_435_1/Мемориально-исторический музей.jpg\" alt=\"Мемориально-исторический музей \"> <!-- Картинка 310х435 --> </div>\\n\\t\\t\\t\\t\\t\\t<div class=\"ttl\">\\n\\t\\t\\t\\t\\t\\t\\t<a href=\"/about/about-museum-inner/2303\">Мемориально-исторический музей </a>\\n\\t\\t\\t\\t\\t\\t\\t\\n\\t\\t\\t\\t\\t\\t\\t\\n\\t\\t\\t\\t\\t\\t\\t<!-- Надо чтобы сюда вывелось из анонса поле Текст полностью -->\\n\\t\\t\\t\\t\\t\\t\\t<div class=\"item-info\">\\n\\t\\t\\t\\t\\t\\t\\t\\t<div>\\n\\t\\t\\t\\t\\t\\t\\t\\t\\t<ul>\\r\\n\\t<li>вторник - воскресенье&nbsp;с 10.00 до 18.00</li>\\r\\n\\t<li>понедельник - выходной</li>\\r\\n</ul>\\r\\n<p>\\r\\n <strong><span style=\"color: #ff0000;\">Внимание!</span></strong> Касса закрывается за 30 минут до окончания работы музея!\\r\\n</p>\\r\\n<!-- <p>\\r\\n <strong class=\"red\">Внимание!</strong> Касса закрывается за&nbsp;30&nbsp;минут до&nbsp;окончания работы музея.\\r\\n</p> -->\\t\\t\\t\\t\\t\\t\\t\\t</div>\\n\\t\\t\\t\\t\\t\\t\\t\\t<a href=\"/to-visitors/order-excursion/\" class=\"btn\">Заказать экскурсию</a>\\n\\t\\t\\t\\t\\t\\t\\t</div>\\n\\t\\t\\t\\t\\t\\t\\n\\t\\t\\t\\t\\t\\t\\n\\t\\t\\t\\t\\t\\t\\n\\t\\t\\t\\t\\t\\t</div> \\n\\t\\t\\t\\t\\t</div>\\n\\t\\t\\t\\t</div>\\n\\t\\t\\t\\t\\t\\t\\t\\t\\t\\t<div id=\"bx_3485106786_2304\">\\n\\t\\t\\t\\t\\t<div class=\"item\">\\n\\t\\t\\t\\t\\t\\t<div class=\"img\"> <img src=\"/upload/resize_cache/iblock/b92/310_435_1/captiond.jpg\" alt=\"Музей «Память» \"> <!-- Картинка 310х435 --> </div>\\n\\t\\t\\t\\t\\t\\t<div class=\"ttl\">\\n\\t\\t\\t\\t\\t\\t\\t<a href=\"/about/about-museum-inner/2304\">Музей «Память» </a>\\n\\t\\t\\t\\t\\t\\t\\t\\n\\t\\t\\t\\t\\t\\t\\t\\n\\t\\t\\t\\t\\t\\t\\t<!-- Надо чтобы сюда вывелось из анонса поле Текст полностью -->\\n\\t\\t\\t\\t\\t\\t\\t<div class=\"item-info\">\\n\\t\\t\\t\\t\\t\\t\\t\\t<div>\\n\\t\\t\\t\\t\\t\\t\\t\\t\\t<ul>\\r\\n\\t<li>вторник - воскресенье&nbsp;с 10.00 до 18.00</li>\\r\\n\\t<li>понедельник - выходной</li>\\r\\n</ul>\\r\\n<p>\\r\\n <span style=\"color: #ff0000;\"><b>Внимание!</b></span> Касса закрывается за 30 минут до окончания работы музея!\\r\\n</p>\\r\\n<!-- <p>\\r\\n <strong class=\"red\">Внимание!</strong> касса закрывается за 30 минут до окончания работы музея&nbsp;\\r\\n</p> -->\\t\\t\\t\\t\\t\\t\\t\\t</div>\\n\\t\\t\\t\\t\\t\\t\\t\\t<a href=\"/to-visitors/order-excursion/\" class=\"btn\">Заказать экскурсию</a>\\n\\t\\t\\t\\t\\t\\t\\t</div>\\n\\t\\t\\t\\t\\t\\t\\n\\t\\t\\t\\t\\t\\t\\n\\t\\t\\t\\t\\t\\t\\n\\t\\t\\t\\t\\t\\t</div> \\n\\t\\t\\t\\t\\t</div>\\n\\t\\t\\t\\t</div>\\n\\t\\t\\t\\t\\t</div>\\n\\t</div>\\n</div>\\n\\n\\n\\n<div class=\"section pts\">\\n\\t<div class=\"container\">\\n\\t\\t<div class=\"section-head\">\\n\\t\\t\\t<h2>Выставки</h2>\\n\\t\\t</div>\\n\\t\\t<div class=\"affiche-carousel\">\\n\\t\\t\\t\\t\\t\\t\\t\\t\\t\\t\\t\\t\\t\\t\\t\\t\\t\\t<div>\\n\\t\\t\\t\\t\\t\\t<div class=\"item item-big\" id=\"bx_3099439860_12595\">\\n\\t\\t\\t\\t\\t\\t\\t<!-- Картинка 645х580 -->\\n\\t\\t\\t\\t\\t\\t\\t<a href=\"/to-visitors/exhibitions/exhibitions_today/12595/\">\\n\\t\\t\\t\\t\\t\\t\\t\\t<span class=\"img\">\\n\\t\\t\\t\\t\\t\\t\\t\\t\\t<img src=\"/upload/iblock/af7/3uqtldvudwvdlm8y50oyg3ek0nv68bpl/IMG_0692.jpg\" alt=\"\">\\n\\t\\t\\t\\t\\t\\t\\t\\t</span>\\n\\t\\t\\t\\t\\t\\t\\t\\t\\t\\t\\t\\t\\t\\t\\t\\t\\t<span class=\"date\">\\n\\t\\t\\t\\t\\t\\t\\t\\t\\t\\t<span>23 ноября 2023 - 31 августа 2024</span>\\n\\t\\t\\t\\t\\t\\t\\t\\t\\t</span>\\n\\t\\t\\t\\t\\t\\t\\t\\t\\t\\t\\t\\t\\t\\t\\t\\t<span class=\"ttl\">\\n\\t\\t\\t\\t\\t\\t\\t\\t\\tВыставка &quot;Животные на войне&quot;\\t\\t\\t\\t\\t\\t\\t\\t</span>\\n\\t\\t\\t\\t\\t\\t\\t\\t\\t\\t\\t\\t\\t\\t\\t\\t\\t<span class=\"place\">\\n\\t\\t\\t\\t\\t\\t\\t\\t\\t\\tг. Волгоград, Музей «Память» \\t\\t\\t\\t\\t\\t\\t\\t\\t</span>\\n\\t\\t\\t\\t\\t\\t\\t\\t\\t\\t\\t\\t\\t\\t\\t</a>\\n\\t\\t\\t\\t\\t\\t</div>\\n\\t\\t\\t\\t\\t</div>\\n\\t\\t\\t\\t\\t\\t\\t\\t\\t\\t\\t\\t\\t\\t\\t\\t\\t\\t\\t\\t\\t\\t<div>\\t\\t\\t\\t\\t\\t<div class=\"item item-small\" id=\"bx_3099439860_12578\">\\n\\t\\t\\t\\t\\t\\t\\t<a href=\"/to-visitors/exhibitions/exhibitions_today/12578/\">\\n\\t\\t\\t\\t\\t\\t\\t\\t<span class=\"img\">\\n\\t\\t\\t\\t\\t\\t\\t\\t\\t<img src=\"/upload/iblock/07a/xrwilgcfnure5tceboelnukcggh6at4m/IMG_0037.jpg\" alt=\"\">\\n\\t\\t\\t\\t\\t\\t\\t\\t</span>\\n\\t\\t\\t\\t\\t\\t\\t\\t\\t\\t\\t\\t\\t\\t\\t\\t\\t<!--<span class=\"date\">\\n\\t\\t\\t\\t\\t\\t\\t\\t\\t\\t<span>Постоянная выставка</span>\\n\\t\\t\\t\\t\\t\\t\\t\\t\\t</span>-->\\n\\t\\t\\t\\t\\t\\t\\t\\t\\t\\t\\t\\t\\t\\t\\t\\t<span class=\"ttl\">\\n\\t\\t\\t\\t\\t\\t\\t\\t\\tВыставка &quot;Артиллеристы, зовет Отчизна нас!&quot;\\t\\t\\t\\t\\t\\t\\t\\t</span> \\n\\t\\t\\t\\t\\t\\t\\t\\t\\t\\t\\t\\t\\t\\t\\t</a>\\n\\t\\t\\t\\t\\t\\t</div>\\n\\t\\t\\t\\t\\t\\t\\t\\t\\t\\t\\t\\t\\t\\t\\t\\t\\t\\t\\t\\t\\t\\t\\t\\t\\t\\t\\t\\t\\t\\t\\t\\t\\t<div class=\"item item-small\" id=\"bx_3099439860_12505\">\\n\\t\\t\\t\\t\\t\\t\\t<a href=\"/to-visitors/exhibitions/exhibitions_today/12505/\">\\n\\t\\t\\t\\t\\t\\t\\t\\t<span class=\"img\">\\n\\t\\t\\t\\t\\t\\t\\t\\t\\t<img src=\"/upload/iblock/1f5/1dn32cw2ue120zftgi0qkwiyymf83bmx/IMG_8424.jpg\" alt=\"\">\\n\\t\\t\\t\\t\\t\\t\\t\\t</span>\\n\\t\\t\\t\\t\\t\\t\\t\\t\\t\\t\\t\\t\\t\\t\\t\\t\\t<span class=\"date\">\\n\\t\\t\\t\\t\\t\\t\\t\\t\\t\\t<span>23 октября - 20 декабря 2023 г.</span>\\n\\t\\t\\t\\t\\t\\t\\t\\t\\t</span> \\n\\t\\t\\t\\t\\t\\t\\t\\t\\t\\t\\t\\t\\t\\t\\t\\t<span class=\"ttl\">\\n\\t\\t\\t\\t\\t\\t\\t\\t\\tВыставка &quot;Крымская война 1853-1856 гг. из века XIX в век XXI&quot;\\t\\t\\t\\t\\t\\t\\t\\t</span> \\n\\t\\t\\t\\t\\t\\t\\t\\t\\t\\t\\t\\t\\t\\t\\t\\t\\t<span class=\"place\">\\n\\t\\t\\t\\t\\t\\t\\t\\t\\t\\tг. Волгоград, Музей-панорама «Сталинградская битва» \\t\\t\\t\\t\\t\\t\\t\\t\\t</span>\\n\\t\\t\\t\\t\\t\\t\\t\\t\\t\\t\\t\\t\\t\\t\\t</a>\\n\\t\\t\\t\\t\\t\\t</div>\\n\\t\\t\\t\\t\\t</div>\\t\\t\\t\\t\\t\\t\\t\\t\\t\\t\\t\\t\\t\\t\\t\\t\\t\\t\\t\\t\\t\\t<div>\\t\\t\\t\\t\\t\\t<div class=\"item item-small\" id=\"bx_3099439860_12502\">\\n\\t\\t\\t\\t\\t\\t\\t<a href=\"/to-visitors/exhibitions/exhibitions_today/12502/\">\\n\\t\\t\\t\\t\\t\\t\\t\\t<span class=\"img\">\\n\\t\\t\\t\\t\\t\\t\\t\\t\\t<img src=\"/upload/iblock/d3e/l3dj09rka8vufnqktc8sz5h2tepvkukg/IMG_8233.jpg\" alt=\"\">\\n\\t\\t\\t\\t\\t\\t\\t\\t</span>\\n\\t\\t\\t\\t\\t\\t\\t\\t\\t\\t\\t\\t\\t\\t\\t\\t\\t<span class=\"date\">\\n\\t\\t\\t\\t\\t\\t\\t\\t\\t\\t<span>19 октября - 17 декабря 2023 г.</span>\\n\\t\\t\\t\\t\\t\\t\\t\\t\\t</span> \\n\\t\\t\\t\\t\\t\\t\\t\\t\\t\\t\\t\\t\\t\\t\\t\\t<span class=\"ttl\">\\n\\t\\t\\t\\t\\t\\t\\t\\t\\tВыставка &quot;В годину смуты...&quot;\\t\\t\\t\\t\\t\\t\\t\\t</span> \\n\\t\\t\\t\\t\\t\\t\\t\\t\\t\\t\\t\\t\\t\\t\\t\\t\\t<span class=\"place\">\\n\\t\\t\\t\\t\\t\\t\\t\\t\\t\\tг. Волгоград, Мемориально-исторический музей \\t\\t\\t\\t\\t\\t\\t\\t\\t</span>\\n\\t\\t\\t\\t\\t\\t\\t\\t\\t\\t\\t\\t\\t\\t\\t</a>\\n\\t\\t\\t\\t\\t\\t</div>\\n\\t\\t\\t\\t\\t\\t\\t\\t\\t\\t\\t\\t\\t\\t\\t\\t\\t\\t\\t\\t\\t\\t\\t\\t\\t\\t\\t\\t\\t\\t\\t\\t\\t<div class=\"item item-small\" id=\"bx_3099439860_11176\">\\n\\t\\t\\t\\t\\t\\t\\t<a href=\"/to-visitors/exhibitions/archive/11176/\">\\n\\t\\t\\t\\t\\t\\t\\t\\t<span class=\"img\">\\n\\t\\t\\t\\t\\t\\t\\t\\t\\t<img src=\"/upload/iblock/a7a/3xj2jw1ta7p0jfaxadk2dnfgo4ntdflm/IMG_7226.jpg\" alt=\"\">\\n\\t\\t\\t\\t\\t\\t\\t\\t</span>\\n\\t\\t\\t\\t\\t\\t\\t\\t\\t\\t\\t\\t\\t\\t\\t\\t\\t<span class=\"date\">\\n\\t\\t\\t\\t\\t\\t\\t\\t\\t\\t<span>05 сентября - 17 октября 2023 г.</span>\\n\\t\\t\\t\\t\\t\\t\\t\\t\\t</span> \\n\\t\\t\\t\\t\\t\\t\\t\\t\\t\\t\\t\\t\\t\\t\\t\\t<span class=\"ttl\">\\n\\t\\t\\t\\t\\t\\t\\t\\t\\tВыставка &quot;На войне как на войне&quot;\\t\\t\\t\\t\\t\\t\\t\\t</span> \\n\\t\\t\\t\\t\\t\\t\\t\\t\\t\\t\\t\\t\\t\\t\\t\\t\\t<span class=\"place\">\\n\\t\\t\\t\\t\\t\\t\\t\\t\\t\\tг. Волгоград, Мемориально-исторический музей \\t\\t\\t\\t\\t\\t\\t\\t\\t</span>\\n\\t\\t\\t\\t\\t\\t\\t\\t\\t\\t\\t\\t\\t\\t\\t</a>\\n\\t\\t\\t\\t\\t\\t</div>\\n\\t\\t\\t\\t\\t</div>\\t\\t\\t\\t\\t\\t\\t\\t\\t\\t\\t\\t\\t\\t\\t\\t\\t\\t\\t\\t\\t\\t<div>\\t\\t\\t\\t\\t\\t<div class=\"item item-small\" id=\"bx_3099439860_11163\">\\n\\t\\t\\t\\t\\t\\t\\t<a href=\"/to-visitors/exhibitions/exhibitions_today/11163/\">\\n\\t\\t\\t\\t\\t\\t\\t\\t<span class=\"img\">\\n\\t\\t\\t\\t\\t\\t\\t\\t\\t<img src=\"/upload/iblock/e1d/jfgrkb92cv0ou83kd0rr2twbdpzfzye0/IMG_4561.JPG\" alt=\"\">\\n\\t\\t\\t\\t\\t\\t\\t\\t</span>\\n\\t\\t\\t\\t\\t\\t\\t\\t\\t\\t\\t\\t\\t\\t\\t\\t\\t<span class=\"date\">\\n\\t\\t\\t\\t\\t\\t\\t\\t\\t\\t<span>23 августа - 30 декабря 2023 г.</span>\\n\\t\\t\\t\\t\\t\\t\\t\\t\\t</span> \\n\\t\\t\\t\\t\\t\\t\\t\\t\\t\\t\\t\\t\\t\\t\\t\\t<span class=\"ttl\">\\n\\t\\t\\t\\t\\t\\t\\t\\t\\tВыставка &quot;Наука ненависти: свидетельства зверств фашистских оккупантов\\t\\t\\t\\t\\t\\t\\t\\t</span> \\n\\t\\t\\t\\t\\t\\t\\t\\t\\t\\t\\t\\t\\t\\t\\t\\t\\t<span class=\"place\">\\n\\t\\t\\t\\t\\t\\t\\t\\t\\t\\tг. Волгоград, Мемориальный комплекс «Героям Сталинградской битвы» на Мамаевом кургане \\t\\t\\t\\t\\t\\t\\t\\t\\t</span>\\n\\t\\t\\t\\t\\t\\t\\t\\t\\t\\t\\t\\t\\t\\t\\t</a>\\n\\t\\t\\t\\t\\t\\t</div>\\n\\t\\t\\t\\t\\t\\t\\t\\t\\t\\t\\t\\t\\t\\t\\t\\t\\t\\t\\t\\t\\t\\t\\t\\t\\t\\t\\t\\t\\t\\t\\t\\t\\t<div class=\"item item-small\" id=\"bx_3099439860_11138\">\\n\\t\\t\\t\\t\\t\\t\\t<a href=\"/to-visitors/exhibitions/exhibitions_today/11138/\">\\n\\t\\t\\t\\t\\t\\t\\t\\t<span class=\"img\">\\n\\t\\t\\t\\t\\t\\t\\t\\t\\t<img src=\"/upload/iblock/86a/9ksmizoibhco9o3eikwe2jwz78er12po/IMG_6146.jpg\" alt=\"\">\\n\\t\\t\\t\\t\\t\\t\\t\\t</span>\\n\\t\\t\\t\\t\\t\\t\\t\\t\\t\\t\\t\\t\\t\\t\\t\\t\\t<span class=\"date\">\\n\\t\\t\\t\\t\\t\\t\\t\\t\\t\\t<span>01 августа - 24 декабря 2023 г.</span>\\n\\t\\t\\t\\t\\t\\t\\t\\t\\t</span> \\n\\t\\t\\t\\t\\t\\t\\t\\t\\t\\t\\t\\t\\t\\t\\t\\t<span class=\"ttl\">\\n\\t\\t\\t\\t\\t\\t\\t\\t\\tВыставка &quot;Плакатом бей врага&quot;\\t\\t\\t\\t\\t\\t\\t\\t</span> \\n\\t\\t\\t\\t\\t\\t\\t\\t\\t\\t\\t\\t\\t\\t\\t\\t\\t<span class=\"place\">\\n\\t\\t\\t\\t\\t\\t\\t\\t\\t\\tг. Волгоград, Музей «Память» \\t\\t\\t\\t\\t\\t\\t\\t\\t</span>\\n\\t\\t\\t\\t\\t\\t\\t\\t\\t\\t\\t\\t\\t\\t\\t</a>\\n\\t\\t\\t\\t\\t\\t</div>\\n\\t\\t\\t\\t\\t</div>\\t\\t\\t\\t\\t\\t\\t\\t\\t</div>\\n\\t</div>\\n</div>\\n\\n\\n\\t\\n\\t\\n\\t\\n\\t\\n\\t\\n\\t\\t\\n\\t<div class=\"section ptb fringe-top-white\">\\n\\t\\t<div class=\"container\">\\n\\t\\t\\t<div class=\"section-head timeline-section-head\">\\n\\t\\t\\t\\t<h2>Календарь событий</h2>\\n\\t\\t\\t</div>\\n\\t\\t</div>\\n\\t\\t<div class=\"timeline-wrap\">\\n\\t\\t\\t<a href=\"/to-visitors/calendar/\" class=\"btn\">Смотреть</a>\\n\\t\\t\\t<div class=\"timeline-inner\">\\n\\t\\t\\t\\t<div class=\"timeline\">\\n\\t\\t\\t\\t\\t<div class=\"container\">\\n\\t\\t\\t\\t\\t\\t<div class=\"items\">\\n\\t\\t\\t\\t\\t\\t\\t<div class=\"item\">\\n\\t\\t\\t\\t\\t\\t\\t\\t<div class=\"year-wrap year-wrap-start\">\\n\\t\\t\\t\\t\\t\\t\\t\\t\\t<div class=\"round\">&nbsp;</div>   <!-- Из кружка можно в будущем сделать ссылку - <a href=\"#\" class=\"round\">&nbsp;</a> -->\\n\\t\\t\\t\\t\\t\\t\\t\\t\\t<div class=\"info\">\\n\\t\\t\\t\\t\\t\\t\\t\\t\\t\\t<div class=\"year\">1901</div>\\n\\t\\t\\t\\t\\t\\t\\t\\t\\t\\t<div class=\"city\">Царицын</div>\\n\\t\\t\\t\\t\\t\\t\\t\\t\\t</div>\\n\\t\\t\\t\\t\\t\\t\\t\\t</div>\\n\\t\\t\\t\\t\\t\\t\\t\\t<div class=\"year-wrap\">\\n\\t\\t\\t\\t\\t\\t\\t\\t\\t<div class=\"round\">&nbsp;</div>\\n\\t\\t\\t\\t\\t\\t\\t\\t\\t<div class=\"info\">\\n\\t\\t\\t\\t\\t\\t\\t\\t\\t\\t<div class=\"year\">1918</div>\\n\\t\\t\\t\\t\\t\\t\\t\\t\\t\\t<div class=\"city\">Царицын</div>\\n\\t\\t\\t\\t\\t\\t\\t\\t\\t</div>\\n\\t\\t\\t\\t\\t\\t\\t\\t</div>\\n\\t\\t\\t\\t\\t\\t\\t</div>\\n\\t\\t\\t\\t\\t\\t\\t<div class=\"item\">\\n\\t\\t\\t\\t\\t\\t\\t\\t<div class=\"year-wrap\">\\n\\t\\t\\t\\t\\t\\t\\t\\t\\t<div class=\"round\">&nbsp;</div>\\n\\t\\t\\t\\t\\t\\t\\t\\t\\t<div class=\"info\">\\n\\t\\t\\t\\t\\t\\t\\t\\t\\t\\t<div class=\"year\">1940</div>\\n\\t\\t\\t\\t\\t\\t\\t\\t\\t\\t<div class=\"city\">Сталинград</div>\\n\\t\\t\\t\\t\\t\\t\\t\\t\\t</div>\\n\\t\\t\\t\\t\\t\\t\\t\\t</div>\\n\\t\\t\\t\\t\\t\\t\\t</div>\\n\\t\\t\\t\\t\\t\\t\\t<div class=\"item\">\\n\\t\\t\\t\\t\\t\\t\\t\\t<div class=\"year-wrap\">\\n\\t\\t\\t\\t\\t\\t\\t\\t\\t<div class=\"round\">&nbsp;</div>\\n\\t\\t\\t\\t\\t\\t\\t\\t\\t<div class=\"info\">\\n\\t\\t\\t\\t\\t\\t\\t\\t\\t\\t<div class=\"year\">1980</div>\\n\\t\\t\\t\\t\\t\\t\\t\\t\\t\\t<div class=\"city\">Волгоград</div>\\n\\t\\t\\t\\t\\t\\t\\t\\t\\t</div>\\n\\t\\t\\t\\t\\t\\t\\t\\t</div>\\n\\t\\t\\t\\t\\t\\t\\t</div>\\n\\t\\t\\t\\t\\t\\t\\t<div class=\"item\">\\n\\t\\t\\t\\t\\t\\t\\t\\t<div class=\"year-wrap\">\\n\\t\\t\\t\\t\\t\\t\\t\\t\\t<div class=\"round\">&nbsp;</div>\\n\\t\\t\\t\\t\\t\\t\\t\\t\\t<div class=\"info\">\\n\\t\\t\\t\\t\\t\\t\\t\\t\\t\\t<div class=\"year\">2023</div>\\n\\t\\t\\t\\t\\t\\t\\t\\t\\t\\t<div class=\"city\">Волгоград</div>\\n\\t\\t\\t\\t\\t\\t\\t\\t\\t</div>\\n\\t\\t\\t\\t\\t\\t\\t\\t</div>\\n\\t\\t\\t\\t\\t\\t\\t</div>\\n\\t\\t\\t\\t\\t\\t</div>\\n\\t\\t\\t\\t\\t</div>\\n\\t\\t\\t\\t</div>\\n\\t\\t\\t</div>\\n\\t\\t</div>\\n\\t</div>\\n\\t\\t<div class=\"quality-control\">\\n\\t\\t<div class=\"container\">\\n\\t\\t\\t<a target=\"_blank\" href=\"\\n\\t\\t\\thttp://quality.mkrf.ru/mark/?orgid=0329100000047\\n \\n\\t\\t\\t\"><span><i>Оценка качества услуг музея-заповедника “Сталинградская&nbsp;битва”</i></span></a>\\n\\t\\t</div>\\n\\t</div>\\n\\t\\n\\t\\t\\t<section>\\n\\t\\t\\t<section class=\"section banners\">\\n\\t<div class=\"container\">\\n\\t\\t\\t\\t\\t\\t\\t\\t<div class=\"item-back\">\\n\\t\\t\\t\\t<div class=\"item\" id=\"bx_565502798_6123\">\\n\\t\\t\\t\\t\\t<a href=\"http://mkrf.ru/open-ministry/quality/metodicheskie-rekomendatsii-po-provedeniyu-nezavis26112015\" target=\"_blank\">\\n\\t\\t\\t\\t\\t\\t<img src=\"/upload/resize_cache/iblock/494/200_230_0/nok.jpg\" alt=\"\"/>\\n\\t\\t\\t\\t\\t</a>\\n\\t\\t\\t\\t</div>\\n\\t\\t\\t</div>\\n\\t\\t\\t\\t\\t\\t\\t\\t<div class=\"item-back\">\\n\\t\\t\\t\\t<div class=\"item\" id=\"bx_565502798_6960\">\\n\\t\\t\\t\\t\\t<a href=\"https://stalingrad-battle.ru/about/corruption/\" target=\"_blank\">\\n\\t\\t\\t\\t\\t\\t<img src=\"/upload/resize_cache/iblock/7e4/200_230_0/антикоррупция.jpg\" alt=\"\"/>\\n\\t\\t\\t\\t\\t</a>\\n\\t\\t\\t\\t</div>\\n\\t\\t\\t</div>\\n\\t\\t\\t\\t\\t\\t\\t\\t<div class=\"item-back\">\\n\\t\\t\\t\\t<div class=\"item\" id=\"bx_565502798_9661\">\\n\\t\\t\\t\\t\\t<a href=\"https://объясняем.рф\" target=\"_blank\">\\n\\t\\t\\t\\t\\t\\t<img src=\"/upload/iblock/b69/%D0%BE%D0%B1%D1%8A%D1%8F%D1%81%D0%BD%D1%8F%D0%B5%D0%BC%20%D0%A0%D0%A4.jpg\" alt=\"\"/>\\n\\t\\t\\t\\t\\t</a>\\n\\t\\t\\t\\t</div>\\n\\t\\t\\t</div>\\n\\t\\t\\t\\t\\t\\t\\t\\t<div class=\"item-back\">\\n\\t\\t\\t\\t<div class=\"item\" id=\"bx_565502798_6924\">\\n\\t\\t\\t\\t\\t<a href=\"https://grants.culture.ru/\" target=\"_blank\">\\n\\t\\t\\t\\t\\t\\t<img src=\"/upload/resize_cache/iblock/09e/200_230_0/Гранты_Баннер прямоугольный.jpg\" alt=\"\"/>\\n\\t\\t\\t\\t\\t</a>\\n\\t\\t\\t\\t</div>\\n\\t\\t\\t</div>\\n\\t\\t\\t\\t\\t\\t\\t\\t<div class=\"item-back\">\\n\\t\\t\\t\\t<div class=\"item\" id=\"bx_565502798_6592\">\\n\\t\\t\\t\\t\\t<a href=\"https://xn--90acesaqsbbbreoa5e3dp.xn--p1ai/\" target=\"_blank\">\\n\\t\\t\\t\\t\\t\\t<img src=\"/upload/resize_cache/iblock/96d/200_230_0/img031x.jpg\" alt=\"\"/>\\n\\t\\t\\t\\t\\t</a>\\n\\t\\t\\t\\t</div>\\n\\t\\t\\t</div>\\n\\t\\t\\t</div>\\n</section>\\n\\t\\t</section>\\n\\t\\t\\t\\n\\t<div class=\"bottom-map\">\\n\\t\\t<div class=\"map-canvas\">\\n\\t\\t\\t<div id=\"map\"></div>\\n\\t\\t</div>\\n\\t\\t<div class=\"map-objects-bg\">\\n\\t<div class=\"container\">\\n\\t\\t<div class=\"map-objects-wrap\">\\n\\t\\t\\t<div class=\"map-objects\">\\n\\t\\t\\t\\t\\t\\t\\t\\t\\t\\t\\t\\t\\t\\t\\t\\t\\t\\t\\t\\t<div id=\"bx_1454625752_2301\" data-x=\"48.715115\" data-y=\"44.532894\" class=\"item item1 \">\\n\\t\\t\\t\\t\\t\\t<div class=\"img\">\\n\\t\\t\\t\\t\\t\\t\\t<img src=\"/upload/iblock/bd6/map_pict-1.jpg\" alt=\"\"/>\\n\\t\\t\\t\\t\\t\\t</div>\\n\\t\\t\\t\\t\\t\\t<div class=\"ttl\">\\n\\t\\t\\t\\t\\t\\t\\t<a href=\"Музей-панорама «Сталинградская битва» \">Музей-панорама «Сталинградская битва» </a>\\n\\t\\t\\t\\t\\t\\t</div>\\n\\t\\t\\t\\t\\t\\t<div class=\"address\">\\n\\t\\t\\t\\t\\t\\t\\tВолгоград, ул. им. маршала Чуйкова, 47\\t\\t\\t\\t\\t\\t\\t<br/>\\n\\t\\t\\t\\t\\t\\t\\t(8442) 550-083\\t\\t\\t\\t\\t\\t</div>\\n\\t\\t\\t\\t\\t</div>\\n\\t\\t\\t\\t\\t\\t\\t\\t\\t\\t\\t\\t\\t\\t\\t\\t\\t\\t\\t\\t<div id=\"bx_1454625752_2302\" data-x=\"48.7423633358\" data-y=\"44.5371128796\" class=\"item item1 \">\\n\\t\\t\\t\\t\\t\\t<div class=\"img\">\\n\\t\\t\\t\\t\\t\\t\\t<img src=\"/upload/iblock/63e/map_pict-4.jpg\" alt=\"\"/>\\n\\t\\t\\t\\t\\t\\t</div>\\n\\t\\t\\t\\t\\t\\t<div class=\"ttl\">\\n\\t\\t\\t\\t\\t\\t\\t<a href=\"Мемориальный комплекс «Героям Сталинградской битвы» на Мамаевом кургане \">Мемориальный комплекс «Героям Сталинградской битвы» на Мамаевом кургане </a>\\n\\t\\t\\t\\t\\t\\t</div>\\n\\t\\t\\t\\t\\t\\t<div class=\"address\">\\n\\t\\t\\t\\t\\t\\t\\tВолгоград, проспект имени В.И. Ленина\\t\\t\\t\\t\\t\\t\\t<br/>\\n\\t\\t\\t\\t\\t\\t\\t(8442) 550-151\\t\\t\\t\\t\\t\\t</div>\\n\\t\\t\\t\\t\\t</div>\\n\\t\\t\\t\\t\\t\\t\\t\\t\\t\\t\\t\\t\\t\\t\\t\\t\\t\\t\\t\\t<div id=\"bx_1454625752_2303\" data-x=\"48.711405\" data-y=\"44.514701\" class=\"item item1 active\">\\n\\t\\t\\t\\t\\t\\t<div class=\"img\">\\n\\t\\t\\t\\t\\t\\t\\t<img src=\"/upload/iblock/62a/map_pict-2.jpg\" alt=\"\"/>\\n\\t\\t\\t\\t\\t\\t</div>\\n\\t\\t\\t\\t\\t\\t<div class=\"ttl\">\\n\\t\\t\\t\\t\\t\\t\\t<a href=\"Мемориально-исторический музей \">Мемориально-исторический музей </a>\\n\\t\\t\\t\\t\\t\\t</div>\\n\\t\\t\\t\\t\\t\\t<div class=\"address\">\\n\\t\\t\\t\\t\\t\\t\\tВолгоград, ул. Гоголя, 10\\t\\t\\t\\t\\t\\t\\t<br/>\\n\\t\\t\\t\\t\\t\\t\\t(8442) 550-151\\t\\t\\t\\t\\t\\t</div>\\n\\t\\t\\t\\t\\t</div>\\n\\t\\t\\t\\t\\t\\t\\t\\t\\t\\t\\t\\t\\t\\t\\t\\t\\t\\t\\t\\t<div id=\"bx_1454625752_2304\" data-x=\"48.708856\" data-y=\"44.516547\" class=\"item item1 \">\\n\\t\\t\\t\\t\\t\\t<div class=\"img\">\\n\\t\\t\\t\\t\\t\\t\\t<img src=\"/upload/iblock/950/map_pict-3.jpg\" alt=\"\"/>\\n\\t\\t\\t\\t\\t\\t</div>\\n\\t\\t\\t\\t\\t\\t<div class=\"ttl\">\\n\\t\\t\\t\\t\\t\\t\\t<a href=\"Музей «Память» \">Музей «Память» </a>\\n\\t\\t\\t\\t\\t\\t</div>\\n\\t\\t\\t\\t\\t\\t<div class=\"address\">\\n\\t\\t\\t\\t\\t\\t\\tВолгоград,  площадь Павших Борцов, 2\\t\\t\\t\\t\\t\\t\\t<br/>\\n\\t\\t\\t\\t\\t\\t\\t(8442) 386-067\\t\\t\\t\\t\\t\\t</div>\\n\\t\\t\\t\\t\\t</div>\\n\\t\\t\\t\\t\\t\\t\\t</div>\\n\\t\\t</div>\\n\\t</div>\\n</div>\\n\\t</div>\\n\\t\\t\\n\\t<style>\\n\\t\\tbody, html {\\n\\t\\t\\tpadding: 0;\\n\\t\\t\\tmargin: 0;\\n\\t\\t\\twidth: 100%;\\n\\t\\t\\theight: 100%;\\n\\t\\t}\\n\\t\\t#map {\\n\\t\\t\\twidth: 100%;\\n\\t\\t\\theight: 100%;\\n\\t\\t}\\n\\t</style>\\n</div>\\n\\t<footer>\\n\\t\\t<div class=\"container copyright-wrap\">\\n\\t\\t\\t<div class=\"copyright\">\\n\\t\\t\\t\\t© 2023\\t\\t\\t\\t<div>\\n <span class=\"br\"></span>Федеральное государственное бюджетное учреждение культуры \"Государственный историко-мемориальный музей-заповедник \"Сталинградская битва\"\\n</div>\\n<div>\\n\\t e-mail: <a href=\"mailto:museum@sbitva.ru\">museum@sbitva.ru</a><br>\\n</div>\\n <br>\\t\\t\\t</div>\\n\\t\\t\\t<p class=\"old-site\">\\n\\t<br>\\n</p>\\t\\t\\t<ul class=\"socials\">\\n\\t \\t<li><a href=\"https://vk.com/stalingrad_battle\" target=\"_blank\"><i class=\"icon-vk\">&nbsp;</i></a></li>\\n\\t \\t<li><a href=\"https://ok.ru/stalingradbattle\" target=\"_blank\"><i class=\"icon-ok\">&nbsp;</i></a></li>\\n\\t\\t<li><a href=\"https://www.youtube.com/user/StalingradBattle\" target=\"_blank\"><i class=\"icon-youtube\">&nbsp;</i></a></li>\\n\\t<li><a href=\"https://rutube.ru/channel/23869892/\" target=\"_blank\"><i class=\"icon-rutube\">&nbsp;</i></a></li>\\n\\t<li><a href=\"https://t.me/Stalingrad_battle\" target=\"_blank\"><i class=\"icon-telegram\">&nbsp;</i></a></li>\\n\\t<li><a href=\"https://zen.yandex.ru/stalingrad_battle\" target=\"_blank\"><i class=\"icon-zen\">&nbsp;</i></a></li>\\n</ul>\\t\\t\\t<div class=\"ya-cou\">\\n\\t\\t\\t<!-- /Yandex.Metrika counter -->\\n\\t\\t\\t\\t\\t\\t<!-- Yandex.Metrika informer -->\\n\\t\\t\\t<a href=\"https://metrika.yandex.ru/stat/?id=3630229&amp;from=informer\"\\n\\t\\t\\ttarget=\"_blank\" rel=\"nofollow\"><img src=\"https://metrika-informer.com/informer/3630229/3_1_FFFFFFFF_EFEFEFFF_0_pageviews\"\\n\\t\\t\\tstyle=\"width:88px; height:31px; border:0;\" alt=\"Яндекс.Метрика\" title=\"Яндекс.Метрика: данные за сегодня (просмотры, визиты и уникальные посетители)\" class=\"ym-advanced-informer\" data-cid=\"3630229\" data-lang=\"ru\" /></a>\\n\\t\\t\\t<!-- /Yandex.Metrika informer -->\\n\\n\\t\\t\\t<!-- Yandex.Metrika counter -->\\n\\t\\t\\t\\t\\t\\t<noscript><div><img src=\"https://mc.yandex.ru/watch/3630229\" style=\"position:absolute; left:-9999px;\" alt=\"\" /></div></noscript>\\n\\t\\t\\t<!-- /Yandex.Metrika counter -->\\n\\t\\t\\t</div>\\n\\t\\t</div>\\n\\t\\t<div class=\"container creators-wrap\">\\n\\t\\t\\t<div class=\"up\">\\n\\t\\t\\t\\t<a href=\"#\" id=\"up\"><span class=\"arr-btn\"><i class=\"icon-up\">&nbsp;</i></span><span class=\"arr-letter\">Вернуться наверх</span></a>\\n\\t\\t\\t</div>\\n\\t\\t\\t<div class=\"creators\">\\n\\t\\t\\t\\t<a href=\"https://www.clickon.ru\" target=\"_blank\">\\n\\t\\t\\t\\t\\t<span>Создание сайта</span> \\n\\t\\t\\t\\t\\t<img src=\"/local/templates/stalingradb/img/clickon.png\" alt=\"Разработка сайтов веб-студия ClickON\"/>\\n\\t\\t\\t\\t</a>\\n\\t\\t\\t</div>\\n\\t\\t</div>\\n\\t\\t\\t\\t\\n\\t</footer>\\n\\t\\n\\t\\t\\t</div>\\n\\t\\t\\t\\t\\t\\t<noscript>\\n\\t\\t\\t\\t<div style=\"position:absolute\">\\n\\t\\t\\t\\t\\t<img src=\"https://web.archive.org/web/20171230202028im_/http://mc.yandex.ru/watch/3630229\" alt=\"\"/>\\n\\t\\t\\t\\t</div>\\n\\t\\t\\t</noscript>\\n\\t\\t\\n\\t<div class=\"go-top\"><a href=\"#\"><i class=\"icon-angle-up\"></i></a></div>\\n<script type=\"text/javascript\">if(!window.BX)window.BX={};if(!window.BX.message)window.BX.message=function(mess){if(typeof mess===\\'object\\'){for(let i in mess) {BX.message[i]=mess[i];} return true;}};</script>\\n<script type=\"text/javascript\">(window.BX||top.BX).message({\\'JS_CORE_LOADING\\':\\'Загрузка...\\',\\'JS_CORE_NO_DATA\\':\\'- Нет данных -\\',\\'JS_CORE_WINDOW_CLOSE\\':\\'Закрыть\\',\\'JS_CORE_WINDOW_EXPAND\\':\\'Развернуть\\',\\'JS_CORE_WINDOW_NARROW\\':\\'Свернуть в окно\\',\\'JS_CORE_WINDOW_SAVE\\':\\'Сохранить\\',\\'JS_CORE_WINDOW_CANCEL\\':\\'Отменить\\',\\'JS_CORE_WINDOW_CONTINUE\\':\\'Продолжить\\',\\'JS_CORE_H\\':\\'ч\\',\\'JS_CORE_M\\':\\'м\\',\\'JS_CORE_S\\':\\'с\\',\\'JSADM_AI_HIDE_EXTRA\\':\\'Скрыть лишние\\',\\'JSADM_AI_ALL_NOTIF\\':\\'Показать все\\',\\'JSADM_AUTH_REQ\\':\\'Требуется авторизация!\\',\\'JS_CORE_WINDOW_AUTH\\':\\'Войти\\',\\'JS_CORE_IMAGE_FULL\\':\\'Полный размер\\'});</script><script type=\"text/javascript\" src=\"/bitrix/js/main/core/core.min.js?1695977641220181\"></script><script>BX.setJSList([\\'/bitrix/js/main/core/core_ajax.js\\',\\'/bitrix/js/main/core/core_promise.js\\',\\'/bitrix/js/main/polyfill/promise/js/promise.js\\',\\'/bitrix/js/main/loadext/loadext.js\\',\\'/bitrix/js/main/loadext/extension.js\\',\\'/bitrix/js/main/polyfill/promise/js/promise.js\\',\\'/bitrix/js/main/polyfill/find/js/find.js\\',\\'/bitrix/js/main/polyfill/includes/js/includes.js\\',\\'/bitrix/js/main/polyfill/matches/js/matches.js\\',\\'/bitrix/js/ui/polyfill/closest/js/closest.js\\',\\'/bitrix/js/main/polyfill/fill/main.polyfill.fill.js\\',\\'/bitrix/js/main/polyfill/find/js/find.js\\',\\'/bitrix/js/main/polyfill/matches/js/matches.js\\',\\'/bitrix/js/main/polyfill/core/dist/polyfill.bundle.js\\',\\'/bitrix/js/main/core/core.js\\',\\'/bitrix/js/main/polyfill/intersectionobserver/js/intersectionobserver.js\\',\\'/bitrix/js/main/lazyload/dist/lazyload.bundle.js\\',\\'/bitrix/js/main/polyfill/core/dist/polyfill.bundle.js\\',\\'/bitrix/js/main/parambag/dist/parambag.bundle.js\\']);\\n</script>\\n<script type=\"text/javascript\">(window.BX||top.BX).message({\\'LANGUAGE_ID\\':\\'ru\\',\\'FORMAT_DATE\\':\\'DD.MM.YYYY\\',\\'FORMAT_DATETIME\\':\\'DD.MM.YYYY HH:MI:SS\\',\\'COOKIE_PREFIX\\':\\'BITRIX_SM\\',\\'SERVER_TZ_OFFSET\\':\\'10800\\',\\'UTF_MODE\\':\\'Y\\',\\'SITE_ID\\':\\'s1\\',\\'SITE_DIR\\':\\'/\\',\\'USER_ID\\':\\'\\',\\'SERVER_TIME\\':\\'1701642809\\',\\'USER_TZ_OFFSET\\':\\'0\\',\\'USER_TZ_AUTO\\':\\'Y\\',\\'bitrix_sessid\\':\\'1bcd7c4708a84e7f141222ff4fb255ff\\'});</script><script type=\"text/javascript\">BX.setJSList([\\'/local/templates/stalingradb/components/bitrix/news.list/slider-new/script.js\\',\\'/local/templates/stalingradb/js/jquery.min.js\\',\\'/local/templates/stalingradb/js/slick/slick.min.js\\',\\'/local/templates/stalingradb/js/jquery.magnific-popup.min.js\\',\\'/local/templates/stalingradb/js/jquery.cookie.js\\',\\'/local/templates/stalingradb/js/hoverIntent.js\\',\\'/local/templates/stalingradb/js/superfish.min.js\\',\\'/local/templates/stalingradb/js/mapbasic.js\\',\\'/local/templates/stalingradb/js/low-vision.js\\',\\'/local/templates/stalingradb/js/jquery-ui-1.10.3.custom.min.js\\',\\'/local/templates/stalingradb/js/jquery.mousewheel.min.js\\',\\'/local/templates/stalingradb/js/jquery.kinetic.min.js\\',\\'/local/templates/stalingradb/js/jquery.smoothDivScroll-1.3.js\\',\\'/local/templates/stalingradb/js/translate.js\\',\\'/local/templates/stalingradb/js/cm.js\\']);</script>\\n<script type=\"text/javascript\">BX.setCSSList([\\'/local/templates/stalingradb/components/bitrix/news.list/slider-new/style.css\\',\\'/local/templates/stalingradb/components/bitrix/news.list/news-slider/style.css\\',\\'/local/templates/stalingradb/components/bitrix/news.list/v-mus-slider/style.css\\',\\'/local/templates/stalingradb/components/bitrix/news.list/museums-slider/style.css\\',\\'/local/templates/stalingradb/components/bitrix/news.list/afisha-slider/style.css\\',\\'/local/templates/stalingradb/css/normalize.css\\',\\'/local/templates/stalingradb/css/default.css\\',\\'/local/templates/stalingradb/css/icomoon.css\\',\\'/local/templates/stalingradb/js/slick/slick.css\\',\\'/local/templates/stalingradb/js/slick/slick-theme.css\\',\\'/local/templates/stalingradb/css/low-vision.css\\',\\'/local/templates/stalingradb/css/megafish.css\\',\\'/local/templates/stalingradb/css/bootstrap-grid.min.css\\',\\'/local/templates/stalingradb/css/magnific-popup.css\\',\\'/local/templates/stalingradb/styles.css\\',\\'/local/templates/stalingradb/template_styles.css\\',\\'/local/templates/stalingradb/css/low-v.css\\',\\'/local/templates/stalingradb/css/prop.css\\',\\'/local/templates/stalingradb/components/bitrix/menu/main-menu-new/style.css\\',\\'/local/templates/stalingradb/components/bitrix/menu/main-menu/style.css\\',\\'/local/templates/stalingradb/components/bitrix/search.page/search-page-sb/style.css\\',\\'/local/templates/stalingradb/components/bitrix/news.list/banners/style.css\\',\\'/local/templates/stalingradb/components/bitrix/news.list/museums_map/style.css\\']);</script>\\n\\n\\n<script type=\"text/javascript\"  src=\"/bitrix/cache/js/s1/stalingradb/template_55a78658f78ac67ca44c3c3185cd70d0/template_55a78658f78ac67ca44c3c3185cd70d0_v1.js?1695977702273734\"></script>\\n<script type=\"text/javascript\"  src=\"/bitrix/cache/js/s1/stalingradb/page_7005cb871d73d4335301881c96d3fcfd/page_7005cb871d73d4335301881c96d3fcfd_v1.js?1695977704759\"></script>\\n<script type=\"text/javascript\">var _ba = _ba || []; _ba.push([\"aid\", \"0eaec5320e4ba7d6b47692ed14bf14f9\"]); _ba.push([\"host\", \"stalingrad-battle.ru\"]); (function() {var ba = document.createElement(\"script\"); ba.type = \"text/javascript\"; ba.async = true;ba.src = (document.location.protocol == \"https:\" ? \"https://\" : \"http://\") + \"bitrix.info/ba.js\";var s = document.getElementsByTagName(\"script\")[0];s.parentNode.insertBefore(ba, s);})();</script>\\n\\n\\n<script async src=\"https://culturaltracking.ru/static/js/spxl.js?pixelId=10799\" data-pixel-id=\"10799\"></script>\\n<script type=\"text/javascript\">\\n                            function googleTranslateElementInit2(){\\n                                new google.translate.TranslateElement({pageLanguage:\\'ru\\',autoDisplay:false},\\'google_translate_element2\\');\\n                            }\\n                        </script>\\n<script type=\"text/javascript\" src=\"https://translate.google.com/translate_a/element.js?cb=googleTranslateElementInit2\"></script>\\n\\n<script src=\"https://api-maps.yandex.ru/2.1/?lang=ru_RU\" type=\"text/javascript\"></script>\\n<script src=\"https://web.archive.org/web/20171230202028js_/https://mc.yandex.ru/metrika/watch.js\" type=\"text/javascript\"></script>\\n<script type=\"text/javascript\" >\\n\\t\\t\\t(function(m,e,t,r,i,k,a){m[i]=m[i]||function(){(m[i].a=m[i].a||[]).push(arguments)};\\n\\t\\t\\tm[i].l=1*new Date();k=e.createElement(t),a=e.getElementsByTagName(t)[0],k.async=1,k.src=r,a.parentNode.insertBefore(k,a)})\\n\\t\\t\\t(window, document, \"script\", \"https://cdn.jsdelivr.net/npm/yandex-metrica-watch/tag.js\", \"ym\");\\n\\n\\t\\t\\tym(3630229, \"init\", {\\n\\t\\t\\t\\t\\tclickmap:true,\\n\\t\\t\\t\\t\\ttrackLinks:true,\\n\\t\\t\\t\\t\\taccurateTrackBounce:true,\\n\\t\\t\\t\\t\\twebvisor:true,\\n\\t\\t\\t\\t\\ttrackHash:true\\n\\t\\t\\t});\\n\\t\\t\\t</script>\\n<script src=\"https://www.google.com/recaptcha/api.js\" async defer></script>\\n<script src=\"https://web.archive.org/web/20171230202031js_/https://mc.yandex.ru/metrika/watch.js\" type=\"text/javascript\" defer=\"defer\"></script>\\n</body>\\n</html>\\n'"
      ]
     },
     "execution_count": 29,
     "metadata": {},
     "output_type": "execute_result"
    }
   ],
   "source": [
    "response.text"
   ]
  },
  {
   "cell_type": "code",
   "execution_count": null,
   "id": "d95c1b39",
   "metadata": {},
   "outputs": [],
   "source": []
  },
  {
   "cell_type": "code",
   "execution_count": 19,
   "id": "089176fb",
   "metadata": {},
   "outputs": [
    {
     "data": {
      "text/plain": [
       "'\\n\\t<!DOCTYPE html>\\n<html lang=\"ru\">\\n<head>\\n\\t\\n\\t<meta http-equiv=\"Content-Type\" content=\"text/html; charset=UTF-8\" />\\n<meta name=\"robots\" content=\"index, follow\" />\\n<script type=\"text/javascript\" data-skip-moving=\"true\">(function(w, d, n) {var cl = \"bx-core\";var ht = d.documentElement;var htc = ht ? ht.className : undefined;if (htc === undefined || htc.indexOf(cl) !== -1){return;}var ua = n.userAgent;if (/(iPad;)|(iPhone;)/i.test(ua)){cl += \" bx-ios\";}else if (/Windows/i.test(ua)){cl += \\' bx-win\\';}else if (/Macintosh/i.test(ua)){cl += \" bx-mac\";}else if (/Linux/i.test(ua) && !/Android/i.test(ua)){cl += \" bx-linux\";}else if (/Android/i.test(ua)){cl += \" bx-android\";}cl += (/(ipad|iphone|android|mobile|touch)/i.test(ua) ? \" bx-touch\" : \" bx-no-touch\");cl += w.devicePixelRatio && w.devicePixelRatio >= 2? \" bx-retina\": \" bx-no-retina\";var ieVersion = -1;if (/AppleWebKit/.test(ua)){cl += \" bx-chrome\";}else if (/Opera/.test(ua)){cl += \" bx-opera\";}else if (/Firefox/.test(ua)){cl += \" bx-firefox\";}ht.className = htc ? htc + \" \" + cl : cl;})(window, document, navigator);</script>\\n\\n\\n<link href=\"/bitrix/cache/css/s1/stalingradb/page_d6f00dfbe1acfdb3839ba6b9d89f0c9d/page_d6f00dfbe1acfdb3839ba6b9d89f0c9d_v1.css?16959777045174\" type=\"text/css\"  rel=\"stylesheet\" />\\n<link href=\"/bitrix/cache/css/s1/stalingradb/template_aac447028a38333d5b7227c6f46e7eb1/template_aac447028a38333d5b7227c6f46e7eb1_v1.css?1695977704154303\" type=\"text/css\"  data-template-style=\"true\" rel=\"stylesheet\" />\\n\\r\\n\\n\\r\\n\\n\\r\\n\\n\\n\\t<title> Музей заповедник «Сталинградская битва»</title>\\n\\t<link rel=\"shortcut icon\" href=\"/favicon.ico\"/>\\n\\t<meta name=\"viewport\" content=\"width=device-width, initial-scale=1, minimum-scale=1\" />\\n\\t<meta http-equiv=\"Content-Type\" content=\"text/html; charset=UTF-8\" />\\n\\t<meta name=\"robots\" content=\"index, follow\" />\\n\\t<meta name=\"keywords\" content=\"\"/>\\n\\t<meta name=\"description\" content=\"\"/>\\n\\t<meta name=\"theme-color\" content=\"#333\">\\n\\t\\t\\n\\t</head>\\n\\t<body >\\n\\t\\t<div>\\n\\t\\t<div class=\"sv_settings text-center\" id=\"sv_settings\">\\n\\t\\t\\t<span>Размер шрифта\\n\\t\\t\\t\\t<span class=\"fs-outer\">\\n\\t\\t\\t\\t\\t<button class=\" btn-default fs-n\" id=\"fs-n\">А</button>\\n\\t\\t\\t\\t\\t<button class=\" btn-default fs-m\" id=\"fs-m\">А</button>\\n\\t\\t\\t\\t\\t<button class=\" btn-default fs-l\" id=\"fs-l\">А</button>\\n\\t\\t\\t\\t</span>\\n\\t\\t\\t</span>\\n\\n\\t\\t\\t<span class=\"mgl20\">Цветовая схема\\n\\t\\t\\t\\t<span class=\"cs-outer\">\\n\\t\\t\\t\\t\\t<button class=\" btn-default cs-bw\" id=\"cs-bw\">А</button>\\n\\t\\t\\t\\t\\t<button class=\" btn-default cs-wb\" id=\"cs-wb\">А</button>\\n\\t\\t\\t\\t\\t<button class=\" btn-default cs-bb\" id=\"cs-bb\">А</button>\\n\\t\\t\\t\\t\\t<button class=\" btn-default cs-gb\" id=\"cs-gb\">А</button>\\n\\t\\t\\t\\t\\t<button class=\" btn-default cs-yg\" id=\"cs-yg\">А</button>\\n\\t\\t\\t\\t</span>\\n\\t\\t\\t</span>\\n\\n\\t\\t\\t<span class=\"mgl20\">\\n\\t\\t\\t\\t<span class=\"img-outer\">\\n\\t\\t\\t\\t\\t<button class=\" btn-default\" id=\"img-onoff\"><span class=\"glyphicon glyphicon-picture\"></span><span id=\"img-onoff-text\">Выключить изображения </span></button>\\n\\t\\t\\t\\t</span>\\n\\t\\t\\t</span>\\n\\t\\t</div>\\n\\t</div>\\n\\t<div class=\"wrapper \">\\n\\t\\t<header>\\n\\t\\t\\t<div class=\"container\">\\n\\t\\t\\t\\t<div class=\"logo\">\\n\\t\\t\\t\\t\\t\\t\\t\\t\\t\\t\\t<img src=\"/local/templates/stalingradb/img/logo.png\" alt=\"Музей-заповедник Сталинградская битва\"/>\\n\\t\\t\\t\\t\\t\\t<svg version=\"1.1\" id=logo\" xmlns=\"http://www.w3.org/2000/svg\" xmlns:xlink=\"http://www.w3.org/1999/xlink\" x=\"0px\" y=\"0px\"\\n\\t\\t\\t\\t\\t\\t width=\"200px\" height=\"45px\" viewBox=\"0 0 200 45\" enable-background=\"new 0 0 200 45\" xml:space=\"preserve\" class=\"svg-logo\">\\n\\t\\t\\t\\t\\t\\t\\t<g>\\n\\t\\t\\t\\t\\t\\t\\t\\t<g>\\n\\t\\t\\t\\t\\t\\t\\t\\t\\t<path class=\"svg-logo-battle\" fill=\"#929292\" d=\"M100.826,17.098l-0.07-0.053L91.251,32.43V17.045H81.044v27.877h10.208l9.504-15.386l0.07-0.113v15.499\\n\\t\\t\\t\\t\\t\\t\\t\\t\\t\\th10.207V17.045h-10.207V17.098z M46.901,17.045v6.758v3.801v6.759v3.802v6.758h10.208h9.574h10.208v-6.758v-3.802V28.59v-0.986\\n\\t\\t\\t\\t\\t\\t\\t\\t\\t\\tH57.109v-3.801h19.782v-6.758H57.109H46.901z M66.683,34.362v3.802h-9.574v-3.802H66.683z M146.021,17.045h-10.208v6.758v3.801\\n\\t\\t\\t\\t\\t\\t\\t\\t\\t\\tv6.759v3.802v6.758h10.208h9.574h10.208v-6.758v-3.708l-4.459-3.146l4.459-3.659v-3.849v-6.758h-10.208H146.021z M155.595,38.164\\n\\t\\t\\t\\t\\t\\t\\t\\t\\t\\th-9.574v-3.802h9.574V38.164z M155.595,27.604h-9.574v-3.801h9.574V27.604z M189.737,17.045h-19.782v6.758h19.782v3.801h-19.782\\n\\t\\t\\t\\t\\t\\t\\t\\t\\t\\tv1.455v5.304v3.802v6.758h10.208h9.574h10.208v-6.758v-3.802v-6.759v-3.801v-6.758H189.737z M189.737,38.164h-9.574v-3.802h9.574\\n\\t\\t\\t\\t\\t\\t\\t\\t\\t\\tV38.164z\"/>\\n\\t\\t\\t\\t\\t\\t\\t\\t</g>\\n\\t\\t\\t\\t\\t\\t\\t\\t<g>\\n\\t\\t\\t\\t\\t\\t\\t\\t\\t<path  class=\"svg-logo-stalingrad\" fill=\"#666666\" d=\"M96.296,3.664l-0.024-0.018l-3.255,5.27v-5.27h-3.496v9.547h3.496l3.255-5.269l0.024-0.039v5.308h3.496\\n\\t\\t\\t\\t\\t\\t\\t\\t\\t\\tV3.646h-3.496V3.664z M107.891,7.263h-3.279V3.646h-3.496v3.616v2.315v3.615h3.496V9.578h3.279v3.615h3.496V9.578V7.263V3.646\\n\\t\\t\\t\\t\\t\\t\\t\\t\\t\\th-3.496V7.263z M59.774,3.646h-2.52v2.314h2.52v7.232h3.496V5.961h2.519V3.646h-2.519H59.774z M66.36,3.646v2.314h6.775v1.302\\n\\t\\t\\t\\t\\t\\t\\t\\t\\t\\tH66.36V7.39v2.188v1.302v2.313h3.496h3.279h3.496V10.88V9.578V7.263V5.961V3.646h-3.496H66.36z M73.135,10.88h-3.279V9.578h3.279\\n\\t\\t\\t\\t\\t\\t\\t\\t\\t\\tV10.88z M83.272,3.646h-2.561h-0.935l-1.562,7.233h-1.021v2.313h0.521h1.428h2.068l1.562-7.232h2.035v7.232h3.496V5.961V3.646\\n\\t\\t\\t\\t\\t\\t\\t\\t\\t\\th-3.496H83.272z M46.956,3.646v2.314v4.919v2.313h3.497h6.216V10.88h-6.216V5.961h6.216V3.646h-6.216H46.956z M178.224,3.646\\n\\t\\t\\t\\t\\t\\t\\t\\t\\t\\tv2.314h6.774v1.302h-6.774V7.43v2.148v1.302v2.313h3.496h3.278h3.496V10.88V9.578V7.263V5.961V3.646h-3.496H178.224z\\n\\t\\t\\t\\t\\t\\t\\t\\t\\t\\t M184.998,10.88h-3.278V9.578h3.278V10.88z M196.504,3.646h-3.279h-3.496v2.314V8.1v1.115v1.199h1.908l-1.908,2.779h3.496\\n\\t\\t\\t\\t\\t\\t\\t\\t\\t\\tl1.908-2.779h1.371v2.779H200v-2.779V8.1V5.961V3.646H196.504z M196.504,8.1h-3.279V5.961h3.279V8.1z M173.805,3.646l-2.027,3.616\\n\\t\\t\\t\\t\\t\\t\\t\\t\\t\\th-1.252V3.646h-3.496v3.616v2.315v3.615h3.496V9.578h1.256l2.023,3.615h3.495l-2.673-4.777l2.673-4.77H173.805z M112.729,3.646\\n\\t\\t\\t\\t\\t\\t\\t\\t\\t\\tv2.314v7.232h3.496V5.961h3.15V3.646h-3.15H112.729z M155.996,3.646v2.314v4.919v2.313h3.496h6.217V10.88h-6.217V5.961h6.217\\n\\t\\t\\t\\t\\t\\t\\t\\t\\t\\tV3.646h-6.217H155.996z M154.385,5.961V3.646h-3.495h-2.031h-3.208h-0.288l-1.187,7.233h-1.48v2.313h1.102h3.496h3.597h3.495\\n\\t\\t\\t\\t\\t\\t\\t\\t\\t\\th0.946V10.88h-0.946V5.961z M150.89,10.88h-3.218l0.807-4.919h2.411V10.88z M123.723,3.646h-3.496v2.314V8.1v2.314v2.779h3.496\\n\\t\\t\\t\\t\\t\\t\\t\\t\\t\\tv-2.779h6.775V9.201V8.1V5.961V3.646h-3.496H123.723z M127.002,8.1h-3.279V5.961h3.279V8.1z M131.858,3.646v2.314h6.774v1.302\\n\\t\\t\\t\\t\\t\\t\\t\\t\\t\\th-6.774V7.43v2.148v1.302v2.313h3.496h3.278h3.496V10.88V9.578V7.263V5.961V3.646h-3.496H131.858z M138.633,10.88h-3.278V9.578\\n\\t\\t\\t\\t\\t\\t\\t\\t\\t\\th3.278V10.88z M11.145,39.217l-0.984,5.486l12.578-7.087l-4.864-2.591L11.145,39.217z M16.356,13.399l-15.69,2.198l3.488,3.481\\n\\t\\t\\t\\t\\t\\t\\t\\t\\t\\tl9.996-1.268L16.356,13.399z M29.216,13.964l-6.664-13.47l-2.816,5.819l5.351,11.17l12.671,2.064l-8.823,8.636l1.736,12.858\\n\\t\\t\\t\\t\\t\\t\\t\\t\\t\\tl6.289,3.474l-2.675-15.487l11.827-12.202L29.216,13.964z\"/>\\n\\t\\t\\t\\t\\t\\t\\t\\t</g>\\n\\t\\t\\t\\t\\t\\t\\t\\t<g>\\n\\t\\t\\t\\t\\t\\t\\t\\t\\t<path fill=\"#E20202\" d=\"M128.508,17.045h-10.207h-7.356v6.758h7.356v21.119h10.207V23.803h7.357v-6.758H128.508z M20.671,22.545\\n\\t\\t\\t\\t\\t\\t\\t\\t\\t\\tl-2.715-5.5l-2.714,5.5l-6.07,0.882l4.393,4.282l-1.037,6.045l5.429-2.854l5.43,2.854l-1.037-6.045l4.392-4.282L20.671,22.545z\"/>\\n\\t\\t\\t\\t\\t\\t\\t\\t</g>\\n\\t\\t\\t\\t\\t\\t\\t</g>\\n\\t\\t\\t\\t\\t\\t</svg>\\n\\t\\t\\t\\t\\t\\t\\t\\t\\t</div>\\n\\t\\t\\t\\t\\n\\t\\t\\t\\t<div class=\"header-icons\">\\n\\t\\t\\t\\t\\t<div class=\"submenu-btn-wrap\">\\n\\t\\t\\t\\t\\t\\t<a href=\"#\" class=\"submenu-btn\" title=\"Развернуть меню\"><i class=\"mobi-mark\"></i><span></span></a>\\n\\t\\t\\t\\t\\t</div>\\n\\t\\t\\t\\t\\t<div class=\"language-pick\">\\n\\t\\t\\t\\t\\t\\t<div id=\"google_translate_element2\" style=\"display:none\"></div>\\n\\t\\t\\t\\t\\t\\t\\n\\t\\t\\t\\t\\t\\t\\t\\t\\t\\t\\t\\t<!--\\t\\t\\t\\t\\t\\t<div class=\"language-toggle\" data-lang=\"ru|ru\">-->\\n<!--\\t\\t\\t\\t\\t\\t\\t<span>RU</span>-->\\n<!--\\t\\t\\t\\t\\t\\t\\t<i class=\"icon-angle-down\"></i>-->\\n<!--\\t\\t\\t\\t\\t\\t</div>-->\\n                        <div class=\"language-toggle\" data-lang=\"ru|ru\">\\n                            <span>RU</span>\\n                            <i class=\"icon-angle-down\"></i>\\n                        </div>\\n\\t\\t\\t\\t\\t\\t<ul>\\n\\t\\t\\t\\t\\t\\t\\t<li data-lang=\"ru|en\"><a href=\"#\">EN</a></li>\\n\\t\\t\\t\\t\\t\\t\\t<li data-lang=\"ru|de\"><a href=\"#\">DE</a></li>\\n\\t\\t\\t\\t\\t\\t\\t<li data-lang=\"ru|it\"><a href=\"#\">IT</a></li>\\n\\t\\t\\t\\t\\t\\t\\t<li data-lang=\"ru|es\"><a href=\"#\">ES</a></li>\\n                            <li data-lang=\"ru|fr\"><a href=\"#\">FR</a></li>\\n                            <li data-lang=\"ru|zh-CN\"><a href=\"#\">ZH-CN</a></li>\\n\\t\\t\\t\\t\\t\\t</ul>\\n\\t\\t\\t\\t\\t</div>\\n\\t\\t\\t\\t\\t<div class=\"eye\" id=\"sv_on\">\\n\\t\\t\\t\\t\\t\\t<a href=\"#\" class=\"icon-eye\"></a>\\n\\t\\t\\t\\t\\t</div>\\n\\t\\t\\t\\t\\t<div class=\"header-search\">\\n\\t\\t\\t\\t\\t\\t<a href=\"#\" class=\"icon-search\"></a>\\n\\t\\t\\t\\t\\t</div>\\n\\t\\t\\t\\t</div>\\n\\t\\t\\t\\t<div class=\"header-menu-line\">\\n\\t\\t\\t\\t\\t\\n<div class=\"top-menu-wrap\">\\n\\t<ul class=\"top-menu\">\\n\\t\\t\\t\\t\\t<li ><a href=\"/to-visitors/\">Посетителям</a></li>\\n\\t\\t\\t\\t\\t<li ><a href=\"/about/\">О музее</a></li>\\n\\t\\t\\t\\t\\t<li ><a href=\"/projects/\">Проекты</a></li>\\n\\t\\t\\t\\t\\t<li ><a href=\"/history/\">История</a></li>\\n\\t\\t\\t</ul>\\n</div>\\n\\n\\t\\t\\t\\t\\t<a href=\"https://stalingrad-battle.tn-cloud.ru/?id=1&sid=1\" class=\"top-buy-ticket\"><span>Купить билет</span></a>\\n                    <a href=\"/to-visitors/tickets/pushkinskaya-karta/\" class=\"btn-donation-top\"><span>Пушкинская карта</span></a>\\n\\t\\t\\t\\t\\t<a href=\"/donation/\" class=\"btn-donation-top\"><span>Пожертвовать</span></a>\\n\\t\\t\\t\\t</div>\\n\\t\\t\\t\\t<div class=\"submenu-overlay\">\\n\\t<div class=\"submenu-wrap\">\\n\\t\\t<div class=\"submenu-wrap-line\">\\n\\t\\t\\t<div class=\"container\">&nbsp;</div>\\n\\t\\t</div>\\n\\t\\t<div class=\"container\">\\n\\t\\t\\t<div class=\"icon-panel\"></div>\\n\\t\\t\\t<ul>\\n\\t\\t\\t\\t\\t\\t\\t\\t\\t<li  >\\n\\t\\t\\t\\t\\t\\t<a   href=\"/to-visitors/\">\\t\\t\\t\\t\\t\\t\\t<i>Посетителям</i>\\n\\t\\t\\t\\t\\t\\t</a>\\t\\t\\t\\t\\t\\t\\t\\t\\t\\t\\t\\t\\t<ul>\\n\\t\\t\\t\\t\\t\\t\\t\\t\\t\\t\\t\\t\\t\\t\\t\\t\\n\\t\\t\\t\\t\\t\\t\\t\\t\\t<li class=\" fake-level\">\\n\\t\\t\\t\\t\\t\\t\\t\\t\\t\\t\\t\\t\\t\\t\\t\\t\\t\\t\\t\\t\\t\\t\\t\\t\\t\\t\\t\\t\\t\\t\\t<ul>\\n\\t\\t\\t\\t\\t\\t\\t\\t\\t\\t\\t\\t\\t\\t\\t\\t\\t\\t\\t\\t\\t\\t\\t\\t\\t<li >\\n\\t\\t\\t\\t\\t\\t\\t\\t\\t\\t\\t\\t\\t\\t<a  href=\"/to-visitors/location/\">\\t\\t\\t\\t\\t\\t\\t\\t\\t\\t\\t\\t\\t\\t\\tКак добраться\\t\\t\\t\\t\\t\\t\\t\\t\\t\\t\\t\\t\\t\\t</a>\\t\\t\\t\\t\\t\\t\\t\\t\\t\\t\\t\\t\\t</li>\\n\\t\\t\\t\\t\\t\\t\\t\\t\\t\\t\\t\\t\\t\\t\\t\\t\\t\\t\\t\\t\\t\\t\\t\\t\\t<li >\\n\\t\\t\\t\\t\\t\\t\\t\\t\\t\\t\\t\\t\\t\\t<a  href=\"/to-visitors/tickets/\">\\t\\t\\t\\t\\t\\t\\t\\t\\t\\t\\t\\t\\t\\t\\tБилеты\\t\\t\\t\\t\\t\\t\\t\\t\\t\\t\\t\\t\\t\\t</a>\\t\\t\\t\\t\\t\\t\\t\\t\\t\\t\\t\\t\\t</li>\\n\\t\\t\\t\\t\\t\\t\\t\\t\\t\\t\\t\\t\\t\\t\\t\\t\\t\\t\\t\\t\\t\\t\\t\\t\\t<li >\\n\\t\\t\\t\\t\\t\\t\\t\\t\\t\\t\\t\\t\\t\\t<a  href=\"/to-visitors/ed-programs/\">\\t\\t\\t\\t\\t\\t\\t\\t\\t\\t\\t\\t\\t\\t\\tОбразовательные программы\\t\\t\\t\\t\\t\\t\\t\\t\\t\\t\\t\\t\\t\\t</a>\\t\\t\\t\\t\\t\\t\\t\\t\\t\\t\\t\\t\\t</li>\\n\\t\\t\\t\\t\\t\\t\\t\\t\\t\\t\\t\\t\\t\\t\\t\\t\\t\\t\\t\\t\\t\\t\\t\\t\\t<li >\\n\\t\\t\\t\\t\\t\\t\\t\\t\\t\\t\\t\\t\\t\\t<a  href=\"/to-visitors/invalids/\">\\t\\t\\t\\t\\t\\t\\t\\t\\t\\t\\t\\t\\t\\t\\tПосетителям с ограниченными возможностями\\t\\t\\t\\t\\t\\t\\t\\t\\t\\t\\t\\t\\t\\t</a>\\t\\t\\t\\t\\t\\t\\t\\t\\t\\t\\t\\t\\t</li>\\n\\t\\t\\t\\t\\t\\t\\t\\t\\t\\t\\t\\t\\t\\t\\t\\t\\t\\t\\t\\t\\t\\t\\t\\t\\t<li >\\n\\t\\t\\t\\t\\t\\t\\t\\t\\t\\t\\t\\t\\t\\t<a  href=\"/to-visitors/visit-rules/\">\\t\\t\\t\\t\\t\\t\\t\\t\\t\\t\\t\\t\\t\\t\\tПравила посещения\\t\\t\\t\\t\\t\\t\\t\\t\\t\\t\\t\\t\\t\\t</a>\\t\\t\\t\\t\\t\\t\\t\\t\\t\\t\\t\\t\\t</li>\\n\\t\\t\\t\\t\\t\\t\\t\\t\\t\\t\\t\\t\\t\\t\\t\\t\\t\\t\\t\\t\\t\\t\\t\\t\\t<li >\\n\\t\\t\\t\\t\\t\\t\\t\\t\\t\\t\\t\\t\\t\\t<a  href=\"/to-visitors/services/\">\\t\\t\\t\\t\\t\\t\\t\\t\\t\\t\\t\\t\\t\\t\\tУслуги\\t\\t\\t\\t\\t\\t\\t\\t\\t\\t\\t\\t\\t\\t</a>\\t\\t\\t\\t\\t\\t\\t\\t\\t\\t\\t\\t\\t</li>\\n\\t\\t\\t\\t\\t\\t\\t\\t\\t\\t\\t\\t\\t\\t\\t\\t\\t\\t\\t\\t\\t\\t\\t\\t\\t<li >\\n\\t\\t\\t\\t\\t\\t\\t\\t\\t\\t\\t\\t\\t\\t<a  href=\"/to-visitors/guestbook/\">\\t\\t\\t\\t\\t\\t\\t\\t\\t\\t\\t\\t\\t\\t\\tГостевая книга\\t\\t\\t\\t\\t\\t\\t\\t\\t\\t\\t\\t\\t\\t</a>\\t\\t\\t\\t\\t\\t\\t\\t\\t\\t\\t\\t\\t</li>\\n\\t\\t\\t\\t\\t\\t\\t\\t\\t\\t\\t\\t\\t\\t\\t\\t\\t\\t\\t\\t\\t\\t\\t</ul>\\n\\t\\t\\t\\t\\t\\t\\t\\t\\t\\t\\t\\t\\t\\t\\t\\t\\t\\t\\t</li>\\n\\t\\t\\t\\t\\t\\t\\t\\t\\t\\t\\t\\t\\t\\t\\t\\t\\n\\t\\t\\t\\t\\t\\t\\t\\t\\t<li class=\" fake-level\">\\n\\t\\t\\t\\t\\t\\t\\t\\t\\t\\t\\t\\t\\t\\t\\t\\t\\t\\t\\t\\t\\t<span>\\t\\t\\t\\t\\t\\t\\t\\t\\t\\t\\t\\tАфиша\\t\\t\\t\\t\\t\\t\\t\\t\\t\\t\\t</span>\\t\\t\\t\\t\\t\\t\\t\\t\\t\\t\\t\\t\\t\\t\\t\\t\\t\\t\\t\\t\\t\\t\\t\\t\\t\\t\\t\\t\\t\\t\\t<ul>\\n\\t\\t\\t\\t\\t\\t\\t\\t\\t\\t\\t\\t\\t\\t\\t\\t\\t\\t\\t\\t\\t\\t\\t\\t\\t<li >\\n\\t\\t\\t\\t\\t\\t\\t\\t\\t\\t\\t\\t\\t\\t<a  href=\"/to-visitors/exhibitions/\">\\t\\t\\t\\t\\t\\t\\t\\t\\t\\t\\t\\t\\t\\t\\tВыставки\\t\\t\\t\\t\\t\\t\\t\\t\\t\\t\\t\\t\\t\\t</a>\\t\\t\\t\\t\\t\\t\\t\\t\\t\\t\\t\\t\\t</li>\\n\\t\\t\\t\\t\\t\\t\\t\\t\\t\\t\\t\\t\\t\\t\\t\\t\\t\\t\\t\\t\\t\\t\\t\\t\\t<li >\\n\\t\\t\\t\\t\\t\\t\\t\\t\\t\\t\\t\\t\\t\\t<a  href=\"/to-visitors/calendar/\">\\t\\t\\t\\t\\t\\t\\t\\t\\t\\t\\t\\t\\t\\t\\tКалендарь событий\\t\\t\\t\\t\\t\\t\\t\\t\\t\\t\\t\\t\\t\\t</a>\\t\\t\\t\\t\\t\\t\\t\\t\\t\\t\\t\\t\\t</li>\\n\\t\\t\\t\\t\\t\\t\\t\\t\\t\\t\\t\\t\\t\\t\\t\\t\\t\\t\\t\\t\\t\\t\\t</ul>\\n\\t\\t\\t\\t\\t\\t\\t\\t\\t\\t\\t\\t\\t\\t\\t\\t\\t\\t\\t</li>\\n\\t\\t\\t\\t\\t\\t\\t\\t\\t\\t\\t\\t\\t\\t\\t\\t\\n\\t\\t\\t\\t\\t\\t\\t\\t\\t<li class=\" \">\\n\\t\\t\\t\\t\\t\\t\\t\\t\\t\\t\\t\\t\\t\\t\\t\\t\\t\\t\\t\\t\\t<a  href=\"/to-visitors/order-excursion/\">\\t\\t\\t\\t\\t\\t\\t\\t\\t\\t\\t\\tЗаказать экскурсию\\t\\t\\t\\t\\t\\t\\t\\t\\t\\t\\t</a>\\t\\t\\t\\t\\t\\t\\t\\t\\t\\t\\t\\t\\t\\t\\t\\t\\t\\t\\t\\t\\t\\t\\t\\t\\t\\t\\t\\t\\t</li>\\n\\t\\t\\t\\t\\t\\t\\t\\t\\t\\t\\t\\t\\t\\t\\t\\t\\n\\t\\t\\t\\t\\t\\t\\t\\t\\t<li class=\" \">\\n\\t\\t\\t\\t\\t\\t\\t\\t\\t\\t\\t\\t\\t\\t\\t\\t\\t\\t\\t\\t\\t<a  href=\"/to-visitors/work-hours/\">\\t\\t\\t\\t\\t\\t\\t\\t\\t\\t\\t\\tЧасы работы\\t\\t\\t\\t\\t\\t\\t\\t\\t\\t\\t</a>\\t\\t\\t\\t\\t\\t\\t\\t\\t\\t\\t\\t\\t\\t\\t\\t\\t\\t\\t\\t\\t\\t\\t\\t\\t\\t\\t\\t\\t</li>\\n\\t\\t\\t\\t\\t\\t\\t\\t\\t\\t\\t\\t\\t\\t\\t</ul>\\n\\t\\t\\t\\t\\t\\t\\t\\t\\n\\t\\t\\t\\t\\t</li>\\n\\t\\t\\t\\t\\t\\t\\t\\t\\t<li  >\\n\\t\\t\\t\\t\\t\\t<a   href=\"/about/\">\\t\\t\\t\\t\\t\\t\\t<i>О музее</i>\\n\\t\\t\\t\\t\\t\\t</a>\\t\\t\\t\\t\\t\\t\\t\\t\\t\\t\\t\\t\\t<ul>\\n\\t\\t\\t\\t\\t\\t\\t\\t\\t\\t\\t\\t\\t\\t\\t\\t\\n\\t\\t\\t\\t\\t\\t\\t\\t\\t<li class=\" fake-level\">\\n\\t\\t\\t\\t\\t\\t\\t\\t\\t\\t\\t\\t\\t\\t\\t\\t\\t\\t\\t\\t\\t\\t\\t\\t\\t\\t\\t\\t\\t\\t\\t<ul>\\n\\t\\t\\t\\t\\t\\t\\t\\t\\t\\t\\t\\t\\t\\t\\t\\t\\t\\t\\t\\t\\t\\t\\t\\t\\t<li >\\n\\t\\t\\t\\t\\t\\t\\t\\t\\t\\t\\t\\t\\t\\t<a  href=\"/about/about-museum-inner/\">\\t\\t\\t\\t\\t\\t\\t\\t\\t\\t\\t\\t\\t\\t\\tО музее-заповеднике\\t\\t\\t\\t\\t\\t\\t\\t\\t\\t\\t\\t\\t\\t</a>\\t\\t\\t\\t\\t\\t\\t\\t\\t\\t\\t\\t\\t</li>\\n\\t\\t\\t\\t\\t\\t\\t\\t\\t\\t\\t\\t\\t\\t\\t\\t\\t\\t\\t\\t\\t\\t\\t\\t\\t<li >\\n\\t\\t\\t\\t\\t\\t\\t\\t\\t\\t\\t\\t\\t\\t<a  href=\"/about/historical-reference/\">\\t\\t\\t\\t\\t\\t\\t\\t\\t\\t\\t\\t\\t\\t\\tИсторическая справка\\t\\t\\t\\t\\t\\t\\t\\t\\t\\t\\t\\t\\t\\t</a>\\t\\t\\t\\t\\t\\t\\t\\t\\t\\t\\t\\t\\t</li>\\n\\t\\t\\t\\t\\t\\t\\t\\t\\t\\t\\t\\t\\t\\t\\t\\t\\t\\t\\t\\t\\t\\t\\t\\t\\t<li >\\n\\t\\t\\t\\t\\t\\t\\t\\t\\t\\t\\t\\t\\t\\t<a  href=\"/about/published-data/\">\\t\\t\\t\\t\\t\\t\\t\\t\\t\\t\\t\\t\\t\\t\\tОткрытые данные\\t\\t\\t\\t\\t\\t\\t\\t\\t\\t\\t\\t\\t\\t</a>\\t\\t\\t\\t\\t\\t\\t\\t\\t\\t\\t\\t\\t</li>\\n\\t\\t\\t\\t\\t\\t\\t\\t\\t\\t\\t\\t\\t\\t\\t\\t\\t\\t\\t\\t\\t\\t\\t\\t\\t<li >\\n\\t\\t\\t\\t\\t\\t\\t\\t\\t\\t\\t\\t\\t\\t<a  href=\"/about/work-quality/\">\\t\\t\\t\\t\\t\\t\\t\\t\\t\\t\\t\\t\\t\\t\\tОценка качества работы\\t\\t\\t\\t\\t\\t\\t\\t\\t\\t\\t\\t\\t\\t</a>\\t\\t\\t\\t\\t\\t\\t\\t\\t\\t\\t\\t\\t</li>\\n\\t\\t\\t\\t\\t\\t\\t\\t\\t\\t\\t\\t\\t\\t\\t\\t\\t\\t\\t\\t\\t\\t\\t\\t\\t<li >\\n\\t\\t\\t\\t\\t\\t\\t\\t\\t\\t\\t\\t\\t\\t<a  href=\"/about/corruption/\">\\t\\t\\t\\t\\t\\t\\t\\t\\t\\t\\t\\t\\t\\t\\tПротиводействие коррупции\\t\\t\\t\\t\\t\\t\\t\\t\\t\\t\\t\\t\\t\\t</a>\\t\\t\\t\\t\\t\\t\\t\\t\\t\\t\\t\\t\\t</li>\\n\\t\\t\\t\\t\\t\\t\\t\\t\\t\\t\\t\\t\\t\\t\\t\\t\\t\\t\\t\\t\\t\\t\\t\\t\\t<li >\\n\\t\\t\\t\\t\\t\\t\\t\\t\\t\\t\\t\\t\\t\\t<a  href=\"/about/rewards/\">\\t\\t\\t\\t\\t\\t\\t\\t\\t\\t\\t\\t\\t\\t\\tНаграды музея\\t\\t\\t\\t\\t\\t\\t\\t\\t\\t\\t\\t\\t\\t</a>\\t\\t\\t\\t\\t\\t\\t\\t\\t\\t\\t\\t\\t</li>\\n\\t\\t\\t\\t\\t\\t\\t\\t\\t\\t\\t\\t\\t\\t\\t\\t\\t\\t\\t\\t\\t\\t\\t\\t\\t<li >\\n\\t\\t\\t\\t\\t\\t\\t\\t\\t\\t\\t\\t\\t\\t<a  href=\"/about/partners/\">\\t\\t\\t\\t\\t\\t\\t\\t\\t\\t\\t\\t\\t\\t\\tПартнеры музея\\t\\t\\t\\t\\t\\t\\t\\t\\t\\t\\t\\t\\t\\t</a>\\t\\t\\t\\t\\t\\t\\t\\t\\t\\t\\t\\t\\t</li>\\n\\t\\t\\t\\t\\t\\t\\t\\t\\t\\t\\t\\t\\t\\t\\t\\t\\t\\t\\t\\t\\t\\t\\t\\t\\t<li >\\n\\t\\t\\t\\t\\t\\t\\t\\t\\t\\t\\t\\t\\t\\t<a  href=\"/about/contacts/\">\\t\\t\\t\\t\\t\\t\\t\\t\\t\\t\\t\\t\\t\\t\\tКонтакты\\t\\t\\t\\t\\t\\t\\t\\t\\t\\t\\t\\t\\t\\t</a>\\t\\t\\t\\t\\t\\t\\t\\t\\t\\t\\t\\t\\t</li>\\n\\t\\t\\t\\t\\t\\t\\t\\t\\t\\t\\t\\t\\t\\t\\t\\t\\t\\t\\t\\t\\t\\t\\t\\t\\t<li >\\n\\t\\t\\t\\t\\t\\t\\t\\t\\t\\t\\t\\t\\t\\t<a  href=\"/about/tovarnyy-znak/\">\\t\\t\\t\\t\\t\\t\\t\\t\\t\\t\\t\\t\\t\\t\\tИспользование изображений объектов культурного наследия\\t\\t\\t\\t\\t\\t\\t\\t\\t\\t\\t\\t\\t\\t</a>\\t\\t\\t\\t\\t\\t\\t\\t\\t\\t\\t\\t\\t</li>\\n\\t\\t\\t\\t\\t\\t\\t\\t\\t\\t\\t\\t\\t\\t\\t\\t\\t\\t\\t\\t\\t\\t\\t\\t\\t<li >\\n\\t\\t\\t\\t\\t\\t\\t\\t\\t\\t\\t\\t\\t\\t<a  href=\"/about/vakansii/\">\\t\\t\\t\\t\\t\\t\\t\\t\\t\\t\\t\\t\\t\\t\\tВакансии\\t\\t\\t\\t\\t\\t\\t\\t\\t\\t\\t\\t\\t\\t</a>\\t\\t\\t\\t\\t\\t\\t\\t\\t\\t\\t\\t\\t</li>\\n\\t\\t\\t\\t\\t\\t\\t\\t\\t\\t\\t\\t\\t\\t\\t\\t\\t\\t\\t\\t\\t\\t\\t</ul>\\n\\t\\t\\t\\t\\t\\t\\t\\t\\t\\t\\t\\t\\t\\t\\t\\t\\t\\t\\t</li>\\n\\t\\t\\t\\t\\t\\t\\t\\t\\t\\t\\t\\t\\t\\t\\t\\t\\n\\t\\t\\t\\t\\t\\t\\t\\t\\t<li class=\" fake-level\">\\n\\t\\t\\t\\t\\t\\t\\t\\t\\t\\t\\t\\t\\t\\t\\t\\t\\t\\t\\t\\t\\t<span>\\t\\t\\t\\t\\t\\t\\t\\t\\t\\t\\t\\tНовости\\t\\t\\t\\t\\t\\t\\t\\t\\t\\t\\t</span>\\t\\t\\t\\t\\t\\t\\t\\t\\t\\t\\t\\t\\t\\t\\t\\t\\t\\t\\t\\t\\t\\t\\t\\t\\t\\t\\t\\t\\t\\t\\t<ul>\\n\\t\\t\\t\\t\\t\\t\\t\\t\\t\\t\\t\\t\\t\\t\\t\\t\\t\\t\\t\\t\\t\\t\\t\\t\\t<li >\\n\\t\\t\\t\\t\\t\\t\\t\\t\\t\\t\\t\\t\\t\\t<a  href=\"/about/m-news/\">\\t\\t\\t\\t\\t\\t\\t\\t\\t\\t\\t\\t\\t\\t\\tНовости музея\\t\\t\\t\\t\\t\\t\\t\\t\\t\\t\\t\\t\\t\\t</a>\\t\\t\\t\\t\\t\\t\\t\\t\\t\\t\\t\\t\\t</li>\\n\\t\\t\\t\\t\\t\\t\\t\\t\\t\\t\\t\\t\\t\\t\\t\\t\\t\\t\\t\\t\\t\\t\\t\\t\\t<li >\\n\\t\\t\\t\\t\\t\\t\\t\\t\\t\\t\\t\\t\\t\\t<a  target=\"_blank\"  href=\"https://www.youtube.com/user/StalingradBattle\">\\t\\t\\t\\t\\t\\t\\t\\t\\t\\t\\t\\t\\t\\t\\tМузейное телевидение\\t\\t\\t\\t\\t\\t\\t\\t\\t\\t\\t\\t\\t\\t</a>\\t\\t\\t\\t\\t\\t\\t\\t\\t\\t\\t\\t\\t</li>\\n\\t\\t\\t\\t\\t\\t\\t\\t\\t\\t\\t\\t\\t\\t\\t\\t\\t\\t\\t\\t\\t\\t\\t</ul>\\n\\t\\t\\t\\t\\t\\t\\t\\t\\t\\t\\t\\t\\t\\t\\t\\t\\t\\t\\t</li>\\n\\t\\t\\t\\t\\t\\t\\t\\t\\t\\t\\t\\t\\t\\t\\t</ul>\\n\\t\\t\\t\\t\\t\\t\\t\\t\\n\\t\\t\\t\\t\\t</li>\\n\\t\\t\\t\\t\\t\\t\\t\\t\\t<li  >\\n\\t\\t\\t\\t\\t\\t<a   href=\"/projects/\">\\t\\t\\t\\t\\t\\t\\t<i>Проекты</i>\\n\\t\\t\\t\\t\\t\\t</a>\\t\\t\\t\\t\\t\\t\\t\\t\\t\\t\\t\\t\\t<ul>\\n\\t\\t\\t\\t\\t\\t\\t\\t\\t\\t\\t\\t\\t\\t\\t\\t\\n\\t\\t\\t\\t\\t\\t\\t\\t\\t<li class=\" fake-level\">\\n\\t\\t\\t\\t\\t\\t\\t\\t\\t\\t\\t\\t\\t\\t\\t\\t\\t\\t\\t\\t\\t\\t\\t\\t\\t\\t\\t\\t\\t\\t\\t<ul>\\n\\t\\t\\t\\t\\t\\t\\t\\t\\t\\t\\t\\t\\t\\t\\t\\t\\t\\t\\t\\t\\t\\t\\t\\t\\t<li >\\n\\t\\t\\t\\t\\t\\t\\t\\t\\t\\t\\t\\t\\t\\t<a  href=\"/projects/scientific-conference/\">\\t\\t\\t\\t\\t\\t\\t\\t\\t\\t\\t\\t\\t\\t\\tНаучные конференции\\t\\t\\t\\t\\t\\t\\t\\t\\t\\t\\t\\t\\t\\t</a>\\t\\t\\t\\t\\t\\t\\t\\t\\t\\t\\t\\t\\t</li>\\n\\t\\t\\t\\t\\t\\t\\t\\t\\t\\t\\t\\t\\t\\t\\t\\t\\t\\t\\t\\t\\t\\t\\t\\t\\t<li >\\n\\t\\t\\t\\t\\t\\t\\t\\t\\t\\t\\t\\t\\t\\t<a  href=\"/projects/museum-writes/\">\\t\\t\\t\\t\\t\\t\\t\\t\\t\\t\\t\\t\\t\\t\\tИздания музея\\t\\t\\t\\t\\t\\t\\t\\t\\t\\t\\t\\t\\t\\t</a>\\t\\t\\t\\t\\t\\t\\t\\t\\t\\t\\t\\t\\t</li>\\n\\t\\t\\t\\t\\t\\t\\t\\t\\t\\t\\t\\t\\t\\t\\t\\t\\t\\t\\t\\t\\t\\t\\t\\t\\t<li >\\n\\t\\t\\t\\t\\t\\t\\t\\t\\t\\t\\t\\t\\t\\t<a  href=\"/projects/emploee-writes/\">\\t\\t\\t\\t\\t\\t\\t\\t\\t\\t\\t\\t\\t\\t\\tПубликации сотрудников\\t\\t\\t\\t\\t\\t\\t\\t\\t\\t\\t\\t\\t\\t</a>\\t\\t\\t\\t\\t\\t\\t\\t\\t\\t\\t\\t\\t</li>\\n\\t\\t\\t\\t\\t\\t\\t\\t\\t\\t\\t\\t\\t\\t\\t\\t\\t\\t\\t\\t\\t\\t\\t\\t\\t<li >\\n\\t\\t\\t\\t\\t\\t\\t\\t\\t\\t\\t\\t\\t\\t<a  href=\"/projects/war-history-library/\">\\t\\t\\t\\t\\t\\t\\t\\t\\t\\t\\t\\t\\t\\t\\tВоенно-историческая библиотека\\t\\t\\t\\t\\t\\t\\t\\t\\t\\t\\t\\t\\t\\t</a>\\t\\t\\t\\t\\t\\t\\t\\t\\t\\t\\t\\t\\t</li>\\n\\t\\t\\t\\t\\t\\t\\t\\t\\t\\t\\t\\t\\t\\t\\t\\t\\t\\t\\t\\t\\t\\t\\t\\t\\t<li >\\n\\t\\t\\t\\t\\t\\t\\t\\t\\t\\t\\t\\t\\t\\t<a  href=\"/projects/search-work/\">\\t\\t\\t\\t\\t\\t\\t\\t\\t\\t\\t\\t\\t\\t\\tОтдел поисковой работы\\t\\t\\t\\t\\t\\t\\t\\t\\t\\t\\t\\t\\t\\t</a>\\t\\t\\t\\t\\t\\t\\t\\t\\t\\t\\t\\t\\t</li>\\n\\t\\t\\t\\t\\t\\t\\t\\t\\t\\t\\t\\t\\t\\t\\t\\t\\t\\t\\t\\t\\t\\t\\t\\t\\t<li >\\n\\t\\t\\t\\t\\t\\t\\t\\t\\t\\t\\t\\t\\t\\t<a  href=\"/donation/\">\\t\\t\\t\\t\\t\\t\\t\\t\\t\\t\\t\\t\\t\\t\\tФонд стратегических инициатив\\t\\t\\t\\t\\t\\t\\t\\t\\t\\t\\t\\t\\t\\t</a>\\t\\t\\t\\t\\t\\t\\t\\t\\t\\t\\t\\t\\t</li>\\n\\t\\t\\t\\t\\t\\t\\t\\t\\t\\t\\t\\t\\t\\t\\t\\t\\t\\t\\t\\t\\t\\t\\t\\t\\t<li >\\n\\t\\t\\t\\t\\t\\t\\t\\t\\t\\t\\t\\t\\t\\t<a  href=\"/projects/restavratsiya-monumenta-rodina-mat-zovet-/\">\\t\\t\\t\\t\\t\\t\\t\\t\\t\\t\\t\\t\\t\\t\\tРеставрация монумента \"Родина-мать зовет!\"\\t\\t\\t\\t\\t\\t\\t\\t\\t\\t\\t\\t\\t\\t</a>\\t\\t\\t\\t\\t\\t\\t\\t\\t\\t\\t\\t\\t</li>\\n\\t\\t\\t\\t\\t\\t\\t\\t\\t\\t\\t\\t\\t\\t\\t\\t\\t\\t\\t\\t\\t\\t\\t\\t\\t<li >\\n\\t\\t\\t\\t\\t\\t\\t\\t\\t\\t\\t\\t\\t\\t<a  href=\"/projects/obshchestvennoe-obsuzhdenie-razvitiya-territorii-mamaeva-kurgana/\">\\t\\t\\t\\t\\t\\t\\t\\t\\t\\t\\t\\t\\t\\t\\tОбщественное обсуждение развития территории Мамаева кургана\\t\\t\\t\\t\\t\\t\\t\\t\\t\\t\\t\\t\\t\\t</a>\\t\\t\\t\\t\\t\\t\\t\\t\\t\\t\\t\\t\\t</li>\\n\\t\\t\\t\\t\\t\\t\\t\\t\\t\\t\\t\\t\\t\\t\\t\\t\\t\\t\\t\\t\\t\\t\\t\\t\\t<li >\\n\\t\\t\\t\\t\\t\\t\\t\\t\\t\\t\\t\\t\\t\\t<a  href=\"/donation/ozhivshie-dioramy-ozhivshaya-istoriya.php\">\\t\\t\\t\\t\\t\\t\\t\\t\\t\\t\\t\\t\\t\\t\\tМобильное приложение Музея-заповедника\\t\\t\\t\\t\\t\\t\\t\\t\\t\\t\\t\\t\\t\\t</a>\\t\\t\\t\\t\\t\\t\\t\\t\\t\\t\\t\\t\\t</li>\\n\\t\\t\\t\\t\\t\\t\\t\\t\\t\\t\\t\\t\\t\\t\\t\\t\\t\\t\\t\\t\\t\\t\\t</ul>\\n\\t\\t\\t\\t\\t\\t\\t\\t\\t\\t\\t\\t\\t\\t\\t\\t\\t\\t\\t</li>\\n\\t\\t\\t\\t\\t\\t\\t\\t\\t\\t\\t\\t\\t\\t\\t\\t\\n\\t\\t\\t\\t\\t\\t\\t\\t\\t<li class=\" fake-level\">\\n\\t\\t\\t\\t\\t\\t\\t\\t\\t\\t\\t\\t\\t\\t\\t\\t\\t\\t\\t\\t\\t<span>\\t\\t\\t\\t\\t\\t\\t\\t\\t\\t\\t\\tВиртуальный музей\\t\\t\\t\\t\\t\\t\\t\\t\\t\\t\\t</span>\\t\\t\\t\\t\\t\\t\\t\\t\\t\\t\\t\\t\\t\\t\\t\\t\\t\\t\\t\\t\\t\\t\\t\\t\\t\\t\\t\\t\\t\\t\\t<ul>\\n\\t\\t\\t\\t\\t\\t\\t\\t\\t\\t\\t\\t\\t\\t\\t\\t\\t\\t\\t\\t\\t\\t\\t\\t\\t<li >\\n\\t\\t\\t\\t\\t\\t\\t\\t\\t\\t\\t\\t\\t\\t<a  href=\"/projects/v-exhibitions/\">\\t\\t\\t\\t\\t\\t\\t\\t\\t\\t\\t\\t\\t\\t\\tВиртуальные выставки\\t\\t\\t\\t\\t\\t\\t\\t\\t\\t\\t\\t\\t\\t</a>\\t\\t\\t\\t\\t\\t\\t\\t\\t\\t\\t\\t\\t</li>\\n\\t\\t\\t\\t\\t\\t\\t\\t\\t\\t\\t\\t\\t\\t\\t\\t\\t\\t\\t\\t\\t\\t\\t\\t\\t<li >\\n\\t\\t\\t\\t\\t\\t\\t\\t\\t\\t\\t\\t\\t\\t<a  href=\"/projects/catalog/\">\\t\\t\\t\\t\\t\\t\\t\\t\\t\\t\\t\\t\\t\\t\\tМузейные коллекции\\t\\t\\t\\t\\t\\t\\t\\t\\t\\t\\t\\t\\t\\t</a>\\t\\t\\t\\t\\t\\t\\t\\t\\t\\t\\t\\t\\t</li>\\n\\t\\t\\t\\t\\t\\t\\t\\t\\t\\t\\t\\t\\t\\t\\t\\t\\t\\t\\t\\t\\t\\t\\t</ul>\\n\\t\\t\\t\\t\\t\\t\\t\\t\\t\\t\\t\\t\\t\\t\\t\\t\\t\\t\\t</li>\\n\\t\\t\\t\\t\\t\\t\\t\\t\\t\\t\\t\\t\\t\\t\\t\\t\\n\\t\\t\\t\\t\\t\\t\\t\\t\\t<li class=\" \">\\n\\t\\t\\t\\t\\t\\t\\t\\t\\t\\t\\t\\t\\t\\t\\t\\t\\t\\t\\t\\t\\t<a  href=\"/projects/v-tours/\">\\t\\t\\t\\t\\t\\t\\t\\t\\t\\t\\t\\tВиртуальные туры\\t\\t\\t\\t\\t\\t\\t\\t\\t\\t\\t</a>\\t\\t\\t\\t\\t\\t\\t\\t\\t\\t\\t\\t\\t\\t\\t\\t\\t\\t\\t\\t\\t\\t\\t\\t\\t\\t\\t\\t\\t</li>\\n\\t\\t\\t\\t\\t\\t\\t\\t\\t\\t\\t\\t\\t\\t\\t</ul>\\n\\t\\t\\t\\t\\t\\t\\t\\t\\n\\t\\t\\t\\t\\t</li>\\n\\t\\t\\t\\t\\t\\t\\t\\t\\t<li  >\\n\\t\\t\\t\\t\\t\\t<a   href=\"/history/\">\\t\\t\\t\\t\\t\\t\\t<i>История</i>\\n\\t\\t\\t\\t\\t\\t</a>\\t\\t\\t\\t\\t\\t\\t\\t\\t\\t\\t\\t\\t<ul>\\n\\t\\t\\t\\t\\t\\t\\t\\t\\t\\t\\t\\t\\t\\t\\t\\t\\n\\t\\t\\t\\t\\t\\t\\t\\t\\t<li class=\" fake-level\">\\n\\t\\t\\t\\t\\t\\t\\t\\t\\t\\t\\t\\t\\t\\t\\t\\t\\t\\t\\t\\t\\t<span>\\t\\t\\t\\t\\t\\t\\t\\t\\t\\t\\t\\tХроники и судьбы\\t\\t\\t\\t\\t\\t\\t\\t\\t\\t\\t</span>\\t\\t\\t\\t\\t\\t\\t\\t\\t\\t\\t\\t\\t\\t\\t\\t\\t\\t\\t\\t\\t\\t\\t\\t\\t\\t\\t\\t\\t\\t\\t<ul>\\n\\t\\t\\t\\t\\t\\t\\t\\t\\t\\t\\t\\t\\t\\t\\t\\t\\t\\t\\t\\t\\t\\t\\t\\t\\t<li >\\n\\t\\t\\t\\t\\t\\t\\t\\t\\t\\t\\t\\t\\t\\t<a  href=\"/history/timeline/\">\\t\\t\\t\\t\\t\\t\\t\\t\\t\\t\\t\\t\\t\\t\\tЛиния времени\\t\\t\\t\\t\\t\\t\\t\\t\\t\\t\\t\\t\\t\\t</a>\\t\\t\\t\\t\\t\\t\\t\\t\\t\\t\\t\\t\\t</li>\\n\\t\\t\\t\\t\\t\\t\\t\\t\\t\\t\\t\\t\\t\\t\\t\\t\\t\\t\\t\\t\\t\\t\\t\\t\\t<li >\\n\\t\\t\\t\\t\\t\\t\\t\\t\\t\\t\\t\\t\\t\\t<a  href=\"/history/south-russia/\">\\t\\t\\t\\t\\t\\t\\t\\t\\t\\t\\t\\t\\t\\t\\tЮг России 1918 - 1920 г.г.\\t\\t\\t\\t\\t\\t\\t\\t\\t\\t\\t\\t\\t\\t</a>\\t\\t\\t\\t\\t\\t\\t\\t\\t\\t\\t\\t\\t</li>\\n\\t\\t\\t\\t\\t\\t\\t\\t\\t\\t\\t\\t\\t\\t\\t\\t\\t\\t\\t\\t\\t\\t\\t\\t\\t<li >\\n\\t\\t\\t\\t\\t\\t\\t\\t\\t\\t\\t\\t\\t\\t<a  href=\"/history/people-time/\">\\t\\t\\t\\t\\t\\t\\t\\t\\t\\t\\t\\t\\t\\t\\tБиографии Второй мировой\\t\\t\\t\\t\\t\\t\\t\\t\\t\\t\\t\\t\\t\\t</a>\\t\\t\\t\\t\\t\\t\\t\\t\\t\\t\\t\\t\\t</li>\\n\\t\\t\\t\\t\\t\\t\\t\\t\\t\\t\\t\\t\\t\\t\\t\\t\\t\\t\\t\\t\\t\\t\\t\\t\\t<li >\\n\\t\\t\\t\\t\\t\\t\\t\\t\\t\\t\\t\\t\\t\\t<a  href=\"/history/unknown-destinies/\">\\t\\t\\t\\t\\t\\t\\t\\t\\t\\t\\t\\t\\t\\t\\tНеизвестные судьбы Сталинграда\\t\\t\\t\\t\\t\\t\\t\\t\\t\\t\\t\\t\\t\\t</a>\\t\\t\\t\\t\\t\\t\\t\\t\\t\\t\\t\\t\\t</li>\\n\\t\\t\\t\\t\\t\\t\\t\\t\\t\\t\\t\\t\\t\\t\\t\\t\\t\\t\\t\\t\\t\\t\\t</ul>\\n\\t\\t\\t\\t\\t\\t\\t\\t\\t\\t\\t\\t\\t\\t\\t\\t\\t\\t\\t</li>\\n\\t\\t\\t\\t\\t\\t\\t\\t\\t\\t\\t\\t\\t\\t\\t</ul>\\n\\t\\t\\t\\t\\t\\t\\t\\t\\n\\t\\t\\t\\t\\t</li>\\n\\t\\t\\t\\t\\t\\t\\t</ul>\\n\\t\\t</div>\\n\\t</div>\\n</div>\\n\\t\\t\\t</div>\\n\\t\\t\\t<div class=\"sf-mega submenu search\">\\n\\t\\t\\t\\t\\n\\n<div class=\"container\">\\n\\t<div class=\"row\">\\n\\t\\t<div class=\"col-md-3\">\\n\\t\\t\\t<div class=\"submenu-ttl\">\\n\\t\\t\\t\\t<i class=\"icon-search\"></i>\\t\\n\\t\\t\\t\\tПОИСК\\t\\t\\t\\t\\t\\t\\t\\n\\t\\t\\t</div>\\n\\t\\t</div>\\n\\t\\t<div class=\"col-md-8\">\\n\\t\\t\\t<form method=\"GET\" action=\"/search/\"> \\n\\t\\t\\t\\t<div class=\"search-first-row\">\\n\\t\\t\\t\\t\\t<input type=\"text\" name=\"q\"/>\\n\\t\\t\\t\\t\\t<input type=\"submit\" value=\"Искать\"/>\\n\\t\\t\\t\\t</div>\\n\\t\\t\\t\\t<div class=\"search-second-row\">\\n\\t\\t\\t\\t\\t<label class=\"checkbox\">\\n\\t\\t\\t\\t\\t\\t<input type=\"checkbox\" name=\"type[]\" value=\"iblock_news\">\\n\\t\\t\\t\\t\\t\\t<div class=\"checkbox__text\">в новостях</div>\\n\\t\\t\\t\\t\\t</label>\\n\\t\\t\\t\\t\\t<label class=\"checkbox\">\\n\\t\\t\\t\\t\\t\\t<input type=\"checkbox\" name=\"type[]\" value=\"iblock_science\"> \\n\\t\\t\\t\\t\\t\\t<div class=\"checkbox__text\">в статьях</div>\\n\\t\\t\\t\\t\\t</label>\\n\\t\\t\\t\\t\\t<label class=\"checkbox\">\\n\\t\\t\\t\\t\\t\\t<input type=\"checkbox\" name=\"type[]\" value=\"iblock_afisha\"> \\n\\t\\t\\t\\t\\t\\t<div class=\"checkbox__text\">в выставках</div>\\n\\t\\t\\t\\t\\t</label>\\n\\t\\t\\t\\t\\t<label class=\"checkbox\">\\n\\t\\t\\t\\t\\t\\t<input type=\"checkbox\" name=\"type[]\" value=\"iblock_chronicles\">\\n\\t\\t\\t\\t\\t\\t<div class=\"checkbox__text\">в хрониках</div>\\n\\t\\t\\t\\t\\t</label>\\n\\t\\t\\t\\t\\t<label class=\"checkbox\">\\n\\t\\t\\t\\t\\t\\t<input type=\"checkbox\" name=\"type[]\" value=\"iblock_catalog\"> \\n\\t\\t\\t\\t\\t\\t<div class=\"checkbox__text\">в каталоге</div>\\n\\t\\t\\t\\t\\t</label>\\n\\t\\t\\t\\t\\t<a href=\"#\" class=\"search_all\">Везде</a>\\n\\t\\t\\t\\t</div>\\n\\t\\t\\t</form>\\n\\t\\t</div>\\n\\t\\t<div class=\"col-md-1\">\\n\\t\\t\\t<div class=\"close-wrap\">\\n\\t\\t\\t\\t<a href=\"#\" class=\"icon-close\"></a>\\n\\t\\t\\t</div>\\n\\t\\t</div>\\n\\t</div>\\n</div>\\n\\n\\t\\t\\t</div>\\n\\t\\t</header>\\n\\t\\t<div class=\"index-slider-wrap\">\\n\\t\\t\\n        <div class=\"container index-slider-btns\">\\n\\t<a href=\"#\" class=\"index-slide-left\"></a>\\n\\t<a href=\"#\" class=\"index-slide-right\"></a>\\n</div>\\n<div class=\"index-slider\">\\n                        <div  class=\"item\">\\n                <img src=\"/upload/resize_cache/iblock/849/za08legocqqn9ymcdlcb9rr6st91hfwb/1280_720_1/Нижний Новгород.jpg\"/>\\n                <div class=\"floating-block\">\\n                                                        </div>\\n            </div>\\n                                <div  class=\"item\">\\n                <img src=\"/upload/resize_cache/iblock/2c3/1280_720_1/Слайдер Сбер.jpg\"/>\\n                <div class=\"floating-block\">\\n                                                        </div>\\n            </div>\\n                                <div  class=\"item\">\\n                <img src=\"/upload/resize_cache/iblock/186/1280_720_1/01.jpg\"/>\\n                <div class=\"floating-block\">\\n                                                                <a href=\"https://stalingrad-battle.ru/about/m-news/2022/9680/\" class=\"slider-btn\">\\n                            Подробнее\\n                        </a>\\n                                    </div>\\n            </div>\\n                                <div  class=\"item\">\\n                <img src=\"/upload/resize_cache/iblock/87e/1280_720_1/Слайдер историческая хроника.jpg\"/>\\n                <div class=\"floating-block\">\\n                                                                <a href=\"https://stalingrad-battle.ru/history/\" class=\"slider-btn\">\\n                            Подробнее\\n                        </a>\\n                                    </div>\\n            </div>\\n                                <div  class=\"item\">\\n                <img src=\"/upload/resize_cache/iblock/1a1/4sqb4ysii2sl6um23m4bs9q5hcfsrt8g/1280_720_1/Слайдер Качество услуг.jpg\"/>\\n                <div class=\"floating-block\">\\n                                                                <a href=\"https://bus.gov.ru/info-card/317317\" class=\"slider-btn\">\\n                            Подробнее\\n                        </a>\\n                                    </div>\\n            </div>\\n                                <div  class=\"item\">\\n                <img src=\"/upload/resize_cache/iblock/ac6/1280_720_1/Пушкинская карта 2.jpg\"/>\\n                <div class=\"floating-block\">\\n                                                                <a href=\"https://stalingrad-battle.ru/to-visitors/tickets/pushkinskaya-karta/\" class=\"slider-btn\">\\n                            Подробнее\\n                        </a>\\n                                    </div>\\n            </div>\\n            </div>\\n    </div>\\n<div class=\"section gray-bg fringe-top-gray fringe-bottom-gray\">\\n\\n\\t\\t\\n\\t\\t<div class=\"container\">\\n\\t\\t\\t<div class=\"section-head\">\\n\\t\\t\\t\\t<h2>Новости</h2>\\n\\t\\t\\t</div>\\n\\t\\t\\t<div class=\"news-carousel\">\\n\\t\\t\\t\\t\\t\\t\\t\\t\\t\\t\\t\\t\\t<div id=\"bx_651765591_12600\">\\n\\t\\t\\t\\t\\t\\t<div class=\"item\">\\n\\t\\t\\t\\t\\t\\t\\t<a href=\"/about/m-news/2023/12600/\" class=\"news-link\">\\n\\t\\t\\t\\t\\t\\t\\t\\t<span class=\"img\">\\n\\t\\t\\t\\t\\t\\t\\t\\t\\t<img src=\"/upload/resize_cache/iblock/21e/4gd9ottc4qzfz4mprv06jt9ki4viybvj/310_200_1/2023-11-29 10.12.21.JPG\" alt=\"\"/>\\n\\t\\t\\t\\t\\t\\t\\t\\t</span>\\n\\t\\t\\t\\t\\t\\t\\t\\t<time datetime=\"29-11-2023\">29 ноября 2023</time>\\n\\t\\t\\t\\t\\t\\t\\t\\t<span class=\"ttl\">\\n\\t\\t\\t\\t\\t\\t\\t\\t\\tРяды движения «Юнармия» пополнились новыми членами\\t\\t\\t\\t\\t\\t\\t\\t</span>\\n\\t\\t\\t\\t\\t\\t\\t</a>\\n\\t\\t\\t\\t\\t\\t\\t\\t\\t\\t\\t\\t\\t\\t\\t<a href=\"/about/m-news/\" class=\"news-section\">Новости музея</a>\\n\\t\\t\\t\\t\\t\\t\\t\\t\\t\\t\\t\\t\\t</div>\\n\\t\\t\\t\\t\\t</div>\\n\\t\\t\\t\\t\\t\\t\\t\\t\\t\\t\\t\\t\\t<div id=\"bx_651765591_12597\">\\n\\t\\t\\t\\t\\t\\t<div class=\"item\">\\n\\t\\t\\t\\t\\t\\t\\t<a href=\"/about/m-news/2023/12597/\" class=\"news-link\">\\n\\t\\t\\t\\t\\t\\t\\t\\t<span class=\"img\">\\n\\t\\t\\t\\t\\t\\t\\t\\t\\t<img src=\"/upload/resize_cache/iblock/b9a/j5o0bjonkxomhp75bxbkmpfvv8pzut7k/310_200_1/IMG_0853.jpg\" alt=\"\"/>\\n\\t\\t\\t\\t\\t\\t\\t\\t</span>\\n\\t\\t\\t\\t\\t\\t\\t\\t<time datetime=\"23-11-2023\">23 ноября 2023</time>\\n\\t\\t\\t\\t\\t\\t\\t\\t<span class=\"ttl\">\\n\\t\\t\\t\\t\\t\\t\\t\\t\\tСтуденты волгоградских вузов стали участниками кинолектория в музее-панораме\\t\\t\\t\\t\\t\\t\\t\\t</span>\\n\\t\\t\\t\\t\\t\\t\\t</a>\\n\\t\\t\\t\\t\\t\\t\\t\\t\\t\\t\\t\\t\\t\\t\\t<a href=\"/about/m-news/\" class=\"news-section\">Новости музея</a>\\n\\t\\t\\t\\t\\t\\t\\t\\t\\t\\t\\t\\t\\t</div>\\n\\t\\t\\t\\t\\t</div>\\n\\t\\t\\t\\t\\t\\t\\t\\t\\t\\t\\t\\t\\t<div id=\"bx_651765591_12596\">\\n\\t\\t\\t\\t\\t\\t<div class=\"item\">\\n\\t\\t\\t\\t\\t\\t\\t<a href=\"/about/m-news/2023/12596/\" class=\"news-link\">\\n\\t\\t\\t\\t\\t\\t\\t\\t<span class=\"img\">\\n\\t\\t\\t\\t\\t\\t\\t\\t\\t<img src=\"/upload/resize_cache/iblock/cbb/ikoxia0brx09oz8sn8xh65v2ma88y0d0/310_200_1/IMG_0669.jpg\" alt=\"\"/>\\n\\t\\t\\t\\t\\t\\t\\t\\t</span>\\n\\t\\t\\t\\t\\t\\t\\t\\t<time datetime=\"23-11-2023\">23 ноября 2023</time>\\n\\t\\t\\t\\t\\t\\t\\t\\t<span class=\"ttl\">\\n\\t\\t\\t\\t\\t\\t\\t\\t\\tВ музее «Память» открылся выставочный проект о животных на войне\\t\\t\\t\\t\\t\\t\\t\\t</span>\\n\\t\\t\\t\\t\\t\\t\\t</a>\\n\\t\\t\\t\\t\\t\\t\\t\\t\\t\\t\\t\\t\\t\\t\\t<a href=\"/about/m-news/\" class=\"news-section\">Новости музея</a>\\n\\t\\t\\t\\t\\t\\t\\t\\t\\t\\t\\t\\t\\t</div>\\n\\t\\t\\t\\t\\t</div>\\n\\t\\t\\t\\t\\t\\t\\t\\t\\t\\t\\t\\t\\t<div id=\"bx_651765591_12594\">\\n\\t\\t\\t\\t\\t\\t<div class=\"item\">\\n\\t\\t\\t\\t\\t\\t\\t<a href=\"/about/m-news/2023/12594/\" class=\"news-link\">\\n\\t\\t\\t\\t\\t\\t\\t\\t<span class=\"img\">\\n\\t\\t\\t\\t\\t\\t\\t\\t\\t<img src=\"/upload/resize_cache/iblock/4f6/qflykdiofnkdvy5i7kihy41ayh632jre/310_200_1/IMG_0504.jpg\" alt=\"\"/>\\n\\t\\t\\t\\t\\t\\t\\t\\t</span>\\n\\t\\t\\t\\t\\t\\t\\t\\t<time datetime=\"22-11-2023\">22 ноября 2023</time>\\n\\t\\t\\t\\t\\t\\t\\t\\t<span class=\"ttl\">\\n\\t\\t\\t\\t\\t\\t\\t\\t\\tПосол Гвинейской Республики посетил объекты Музея-заповедника\\t\\t\\t\\t\\t\\t\\t\\t</span>\\n\\t\\t\\t\\t\\t\\t\\t</a>\\n\\t\\t\\t\\t\\t\\t\\t\\t\\t\\t\\t\\t\\t\\t\\t<a href=\"/about/m-news/\" class=\"news-section\">Новости музея</a>\\n\\t\\t\\t\\t\\t\\t\\t\\t\\t\\t\\t\\t\\t</div>\\n\\t\\t\\t\\t\\t</div>\\n\\t\\t\\t\\t\\t\\t\\t\\t\\t\\t\\t\\t\\t<div id=\"bx_651765591_12593\">\\n\\t\\t\\t\\t\\t\\t<div class=\"item\">\\n\\t\\t\\t\\t\\t\\t\\t<a href=\"/about/m-news/2023/12593/\" class=\"news-link\">\\n\\t\\t\\t\\t\\t\\t\\t\\t<span class=\"img\">\\n\\t\\t\\t\\t\\t\\t\\t\\t\\t<img src=\"/upload/resize_cache/iblock/990/xq82s3e1xjg7onvavtaw2kbicn9wb2x3/310_200_1/IMG_0576.jpg\" alt=\"\"/>\\n\\t\\t\\t\\t\\t\\t\\t\\t</span>\\n\\t\\t\\t\\t\\t\\t\\t\\t<time datetime=\"22-11-2023\">22 ноября 2023</time>\\n\\t\\t\\t\\t\\t\\t\\t\\t<span class=\"ttl\">\\n\\t\\t\\t\\t\\t\\t\\t\\t\\tУчастники специальной военной операции получили заслуженные награды 2\\t\\t\\t\\t\\t\\t\\t\\t</span>\\n\\t\\t\\t\\t\\t\\t\\t</a>\\n\\t\\t\\t\\t\\t\\t\\t\\t\\t\\t\\t\\t\\t\\t\\t<a href=\"/about/m-news/\" class=\"news-section\">Новости музея</a>\\n\\t\\t\\t\\t\\t\\t\\t\\t\\t\\t\\t\\t\\t</div>\\n\\t\\t\\t\\t\\t</div>\\n\\t\\t\\t\\t\\t\\t\\t\\t\\t\\t\\t\\t\\t<div id=\"bx_651765591_12592\">\\n\\t\\t\\t\\t\\t\\t<div class=\"item\">\\n\\t\\t\\t\\t\\t\\t\\t<a href=\"/about/m-news/2023/12592/\" class=\"news-link\">\\n\\t\\t\\t\\t\\t\\t\\t\\t<span class=\"img\">\\n\\t\\t\\t\\t\\t\\t\\t\\t\\t<img src=\"/upload/resize_cache/iblock/657/ddhxhzco9pmoki30pl1r08l1r5v58ss2/310_200_1/заставка Кинолекторий_Уран.jpg\" alt=\"\"/>\\n\\t\\t\\t\\t\\t\\t\\t\\t</span>\\n\\t\\t\\t\\t\\t\\t\\t\\t<time datetime=\"21-11-2023\">21 ноября 2023</time>\\n\\t\\t\\t\\t\\t\\t\\t\\t<span class=\"ttl\">\\n\\t\\t\\t\\t\\t\\t\\t\\t\\tПриглашаем на кинолекторий «Операция «Уран» \\t\\t\\t\\t\\t\\t\\t\\t</span>\\n\\t\\t\\t\\t\\t\\t\\t</a>\\n\\t\\t\\t\\t\\t\\t\\t\\t\\t\\t\\t\\t\\t\\t\\t<a href=\"/about/m-news/\" class=\"news-section\">Новости музея</a>\\n\\t\\t\\t\\t\\t\\t\\t\\t\\t\\t\\t\\t\\t</div>\\n\\t\\t\\t\\t\\t</div>\\n\\t\\t\\t\\t\\t\\t\\t\\t\\t\\t\\t\\t\\t<div id=\"bx_651765591_12591\">\\n\\t\\t\\t\\t\\t\\t<div class=\"item\">\\n\\t\\t\\t\\t\\t\\t\\t<a href=\"/about/m-news/2023/12591/\" class=\"news-link\">\\n\\t\\t\\t\\t\\t\\t\\t\\t<span class=\"img\">\\n\\t\\t\\t\\t\\t\\t\\t\\t\\t<img src=\"/upload/resize_cache/iblock/69d/8wu2yer123mxr1y9ti4sumzf7u6hmd6u/310_200_1/010.jpg\" alt=\"\"/>\\n\\t\\t\\t\\t\\t\\t\\t\\t</span>\\n\\t\\t\\t\\t\\t\\t\\t\\t<time datetime=\"21-11-2023\">21 ноября 2023</time>\\n\\t\\t\\t\\t\\t\\t\\t\\t<span class=\"ttl\">\\n\\t\\t\\t\\t\\t\\t\\t\\t\\tС экспозицией о братьях наших меньших на войне можно ознакомиться в музее «Память»\\t\\t\\t\\t\\t\\t\\t\\t</span>\\n\\t\\t\\t\\t\\t\\t\\t</a>\\n\\t\\t\\t\\t\\t\\t\\t\\t\\t\\t\\t\\t\\t\\t\\t<a href=\"/about/m-news/\" class=\"news-section\">Новости музея</a>\\n\\t\\t\\t\\t\\t\\t\\t\\t\\t\\t\\t\\t\\t</div>\\n\\t\\t\\t\\t\\t</div>\\n\\t\\t\\t\\t\\t\\t\\t\\t\\t\\t\\t\\t\\t<div id=\"bx_651765591_12590\">\\n\\t\\t\\t\\t\\t\\t<div class=\"item\">\\n\\t\\t\\t\\t\\t\\t\\t<a href=\"/about/m-news/2023/12590/\" class=\"news-link\">\\n\\t\\t\\t\\t\\t\\t\\t\\t<span class=\"img\">\\n\\t\\t\\t\\t\\t\\t\\t\\t\\t<img src=\"/upload/resize_cache/iblock/19e/8d8yt5a8w9wupje3s3lmdfb5gnd3k3de/310_200_1/IMG_0444.jpg\" alt=\"\"/>\\n\\t\\t\\t\\t\\t\\t\\t\\t</span>\\n\\t\\t\\t\\t\\t\\t\\t\\t<time datetime=\"20-11-2023\">20 ноября 2023</time>\\n\\t\\t\\t\\t\\t\\t\\t\\t<span class=\"ttl\">\\n\\t\\t\\t\\t\\t\\t\\t\\t\\tВ музее-панораме побывали Герои\\t\\t\\t\\t\\t\\t\\t\\t</span>\\n\\t\\t\\t\\t\\t\\t\\t</a>\\n\\t\\t\\t\\t\\t\\t\\t\\t\\t\\t\\t\\t\\t\\t\\t<a href=\"/about/m-news/\" class=\"news-section\">Новости музея</a>\\n\\t\\t\\t\\t\\t\\t\\t\\t\\t\\t\\t\\t\\t</div>\\n\\t\\t\\t\\t\\t</div>\\n\\t\\t\\t\\t\\t\\t\\t\\t\\t\\t\\t\\t\\t<div id=\"bx_651765591_12587\">\\n\\t\\t\\t\\t\\t\\t<div class=\"item\">\\n\\t\\t\\t\\t\\t\\t\\t<a href=\"/about/m-news/2023/12587/\" class=\"news-link\">\\n\\t\\t\\t\\t\\t\\t\\t\\t<span class=\"img\">\\n\\t\\t\\t\\t\\t\\t\\t\\t\\t<img src=\"/upload/resize_cache/iblock/bc7/xm30pfzn7mmpngewjchl4c5eoq8kji5h/310_200_1/IMG_8287.JPG\" alt=\"\"/>\\n\\t\\t\\t\\t\\t\\t\\t\\t</span>\\n\\t\\t\\t\\t\\t\\t\\t\\t<time datetime=\"19-11-2023\">19 ноября 2023</time>\\n\\t\\t\\t\\t\\t\\t\\t\\t<span class=\"ttl\">\\n\\t\\t\\t\\t\\t\\t\\t\\t\\tВ Музее-заповеднике отметили День артиллерии\\t\\t\\t\\t\\t\\t\\t\\t</span>\\n\\t\\t\\t\\t\\t\\t\\t</a>\\n\\t\\t\\t\\t\\t\\t\\t\\t\\t\\t\\t\\t\\t\\t\\t<a href=\"/about/m-news/\" class=\"news-section\">Новости музея</a>\\n\\t\\t\\t\\t\\t\\t\\t\\t\\t\\t\\t\\t\\t</div>\\n\\t\\t\\t\\t\\t</div>\\n\\t\\t\\t\\t\\t\\t\\t\\t\\t\\t\\t\\t\\t<div id=\"bx_651765591_12588\">\\n\\t\\t\\t\\t\\t\\t<div class=\"item\">\\n\\t\\t\\t\\t\\t\\t\\t<a href=\"/about/m-news/2023/12588/\" class=\"news-link\">\\n\\t\\t\\t\\t\\t\\t\\t\\t<span class=\"img\">\\n\\t\\t\\t\\t\\t\\t\\t\\t\\t<img src=\"/upload/resize_cache/iblock/fb2/hxfuv7op0yuafbv0yoqla872st54d4il/310_200_1/IMG_0372.jpg\" alt=\"\"/>\\n\\t\\t\\t\\t\\t\\t\\t\\t</span>\\n\\t\\t\\t\\t\\t\\t\\t\\t<time datetime=\"19-11-2023\">19 ноября 2023</time>\\n\\t\\t\\t\\t\\t\\t\\t\\t<span class=\"ttl\">\\n\\t\\t\\t\\t\\t\\t\\t\\t\\tКубинские футболисты посетили Музей-заповедник\\t\\t\\t\\t\\t\\t\\t\\t</span>\\n\\t\\t\\t\\t\\t\\t\\t</a>\\n\\t\\t\\t\\t\\t\\t\\t\\t\\t\\t\\t\\t\\t\\t\\t<a href=\"/about/m-news/\" class=\"news-section\">Новости музея</a>\\n\\t\\t\\t\\t\\t\\t\\t\\t\\t\\t\\t\\t\\t</div>\\n\\t\\t\\t\\t\\t</div>\\n\\t\\t\\t\\t\\t\\t\\t\\t\\t\\t\\t\\t\\t<div id=\"bx_651765591_12577\">\\n\\t\\t\\t\\t\\t\\t<div class=\"item\">\\n\\t\\t\\t\\t\\t\\t\\t<a href=\"/about/m-news/2023/12577/\" class=\"news-link\">\\n\\t\\t\\t\\t\\t\\t\\t\\t<span class=\"img\">\\n\\t\\t\\t\\t\\t\\t\\t\\t\\t<img src=\"/upload/resize_cache/iblock/584/8cavyge2hq4cq07k1079fz044za2412i/310_200_1/IMG_0161.jpg\" alt=\"\"/>\\n\\t\\t\\t\\t\\t\\t\\t\\t</span>\\n\\t\\t\\t\\t\\t\\t\\t\\t<time datetime=\"18-11-2023\">18 ноября 2023</time>\\n\\t\\t\\t\\t\\t\\t\\t\\t<span class=\"ttl\">\\n\\t\\t\\t\\t\\t\\t\\t\\t\\tНовая выставочная экспозиция в музее-панораме открылась ко Дню артиллерии\\t\\t\\t\\t\\t\\t\\t\\t</span>\\n\\t\\t\\t\\t\\t\\t\\t</a>\\n\\t\\t\\t\\t\\t\\t\\t\\t\\t\\t\\t\\t\\t\\t\\t<a href=\"/about/m-news/\" class=\"news-section\">Новости музея</a>\\n\\t\\t\\t\\t\\t\\t\\t\\t\\t\\t\\t\\t\\t</div>\\n\\t\\t\\t\\t\\t</div>\\n\\t\\t\\t\\t\\t\\t\\t\\t\\t\\t\\t\\t\\t<div id=\"bx_651765591_12576\">\\n\\t\\t\\t\\t\\t\\t<div class=\"item\">\\n\\t\\t\\t\\t\\t\\t\\t<a href=\"/about/m-news/2023/12576/\" class=\"news-link\">\\n\\t\\t\\t\\t\\t\\t\\t\\t<span class=\"img\">\\n\\t\\t\\t\\t\\t\\t\\t\\t\\t<img src=\"/upload/resize_cache/iblock/cac/0nwuv4eth26u3r002h6oow3pa4tgzt6v/310_200_1/IMG_7735.JPG\" alt=\"\"/>\\n\\t\\t\\t\\t\\t\\t\\t\\t</span>\\n\\t\\t\\t\\t\\t\\t\\t\\t<time datetime=\"17-11-2023\">17 ноября 2023</time>\\n\\t\\t\\t\\t\\t\\t\\t\\t<span class=\"ttl\">\\n\\t\\t\\t\\t\\t\\t\\t\\t\\t«Свет Великой Победы» покажут на Мамаевом кургане\\t\\t\\t\\t\\t\\t\\t\\t</span>\\n\\t\\t\\t\\t\\t\\t\\t</a>\\n\\t\\t\\t\\t\\t\\t\\t\\t\\t\\t\\t\\t\\t\\t\\t<a href=\"/about/m-news/\" class=\"news-section\">Новости музея</a>\\n\\t\\t\\t\\t\\t\\t\\t\\t\\t\\t\\t\\t\\t</div>\\n\\t\\t\\t\\t\\t</div>\\n\\t\\t\\t\\t\\t\\t\\t</div>\\n\\t\\t</div>\\n\\t</div>\\n<div class=\"section gray-bg\">\\n\\t<div class=\"virtual-museum-head\">\\n\\t\\t<div class=\"container\">\\n\\t\\t\\t<div class=\"section-head\">\\n\\t\\t\\t\\t<h2>Виртуальный музей</h2>\\n\\t\\t\\t</div>\\n\\t\\t</div>\\n\\t\\t<div class=\"container virtual-museum-arrows\">\\n\\t\\t\\t<button id=\"virtual-museum-prev\" class=\"slick-prev slick-arrow virtual-museum-prev\" aria-label=\"Previous\" type=\"button\">Previous</button>\\n\\t\\t\\t<button id=\"virtual-museum-next\" class=\"slick-next slick-arrow virtual-museum-next\" aria-label=\"Next\" type=\"button\">Next</button>\\n\\t\\t</div>\\n\\t</div>\\n\\t<div class=\"virtual-museum-carousel\">\\n\\t\\t\\t\\t\\t\\t\\t<div id=\"bx_1373509569_2320\">\\n\\t\\t\\t\\t<div class=\"item\" style=\"background-image:url(\\'/upload/resize_cache/iblock/93a/1200_435_1/virtual_museum-2.jpg\\')\">\\n\\t\\t\\t\\t\\t<div class=\"container\">\\n\\t\\t\\t\\t\\t\\t<div class=\"museum-plan\">\\n\\t\\t\\t\\t\\t\\t\\t<img src=\"\" alt=\"\"/>\\n\\t\\t\\t\\t\\t\\t</div>\\n\\t\\t\\t\\t\\t\\t<div class=\"ttl\">\\n\\t\\t\\t\\t\\t\\t\\tМузей - панорама «Сталинградская битва»\\t\\t\\t\\t\\t\\t</div>\\n\\t\\t\\t\\t\\t\\t<a href=\"https://panorama.stalingrad-battle.ru/\" class=\"btn\">Смотреть</a>\\n\\t\\t\\t\\t\\t\\t\\t\\t\\t\\t\\t</div>\\n\\t\\t\\t\\t</div>\\n\\t\\t\\t</div>\\n\\t\\t\\t\\t\\t\\t\\t<div id=\"bx_1373509569_2319\">\\n\\t\\t\\t\\t<div class=\"item\" style=\"background-image:url(\\'/upload/resize_cache/iblock/2d5/1200_435_1/virtual_museum-1.jpg\\')\">\\n\\t\\t\\t\\t\\t<div class=\"container\">\\n\\t\\t\\t\\t\\t\\t<div class=\"museum-plan\">\\n\\t\\t\\t\\t\\t\\t\\t<img src=\"\" alt=\"\"/>\\n\\t\\t\\t\\t\\t\\t</div>\\n\\t\\t\\t\\t\\t\\t<div class=\"ttl\">\\n\\t\\t\\t\\t\\t\\t\\tМамаев курган\\t\\t\\t\\t\\t\\t</div>\\n\\t\\t\\t\\t\\t\\t<a href=\"https://mamaev-kurgan.stalingrad-battle.ru/\" class=\"btn\">Смотреть</a>\\n\\t\\t\\t\\t\\t\\t\\t\\t\\t\\t\\t</div>\\n\\t\\t\\t\\t</div>\\n\\t\\t\\t</div>\\n\\t\\t\\t</div>\\n</div>\\n\\n<div class=\"section ptb fringe-top-white\">\\n\\t<div class=\"container\">\\n\\t\\t<div class=\"section-head\">\\n\\t\\t\\t<h1>О музее-заповеднике «Сталинградская битва»</h1>\\n\\t\\t</div>\\n\\t\\t<div class=\"museums-carousel\">\\n\\t\\t\\t\\t\\t\\t\\t\\t\\t\\t<div id=\"bx_3485106786_2301\">\\n\\t\\t\\t\\t\\t<div class=\"item\">\\n\\t\\t\\t\\t\\t\\t<div class=\"img\"> <img src=\"/upload/resize_cache/iblock/713/310_435_1/Музей-панорама.jpg\" alt=\"Музей-панорама «Сталинградская битва» \"> <!-- Картинка 310х435 --> </div>\\n\\t\\t\\t\\t\\t\\t<div class=\"ttl\">\\n\\t\\t\\t\\t\\t\\t\\t<a href=\"/about/about-museum-inner/2301\">Музей-панорама «Сталинградская битва» </a>\\n\\t\\t\\t\\t\\t\\t\\t\\n\\t\\t\\t\\t\\t\\t\\t\\n\\t\\t\\t\\t\\t\\t\\t<!-- Надо чтобы сюда вывелось из анонса поле Текст полностью -->\\n\\t\\t\\t\\t\\t\\t\\t<div class=\"item-info\">\\n\\t\\t\\t\\t\\t\\t\\t\\t<div>\\n\\t\\t\\t\\t\\t\\t\\t\\t\\t<ul>\\r\\n\\t<li>вторник - пятница, воскресенье&nbsp;с 10.00 до 18.00</li>\\r\\n\\t<li>суббота - с 10.00 до 20.00</li>\\r\\n\\t<li>понедельник - выходной</li>\\r\\n</ul>\\r\\n<p>\\r\\n <strong class=\"red\">Внимание!</strong> Касса закрывается за 30 минут до окончания работы музея!\\r\\n</p>\\t\\t\\t\\t\\t\\t\\t\\t</div>\\n\\t\\t\\t\\t\\t\\t\\t\\t<a href=\"/to-visitors/order-excursion/\" class=\"btn\">Заказать экскурсию</a>\\n\\t\\t\\t\\t\\t\\t\\t</div>\\n\\t\\t\\t\\t\\t\\t\\n\\t\\t\\t\\t\\t\\t\\n\\t\\t\\t\\t\\t\\t\\n\\t\\t\\t\\t\\t\\t</div> \\n\\t\\t\\t\\t\\t</div>\\n\\t\\t\\t\\t</div>\\n\\t\\t\\t\\t\\t\\t\\t\\t\\t\\t<div id=\"bx_3485106786_2302\">\\n\\t\\t\\t\\t\\t<div class=\"item\">\\n\\t\\t\\t\\t\\t\\t<div class=\"img\"> <img src=\"/upload/resize_cache/iblock/e2a/310_435_1/4644337127723001_dfaf.jpg\" alt=\"Мемориальный комплекс «Героям Сталинградской битвы» на Мамаевом кургане \"> <!-- Картинка 310х435 --> </div>\\n\\t\\t\\t\\t\\t\\t<div class=\"ttl\">\\n\\t\\t\\t\\t\\t\\t\\t<a href=\"/about/about-museum-inner/2302\">Мемориальный комплекс «Героям Сталинградской битвы» на Мамаевом кургане </a>\\n\\t\\t\\t\\t\\t\\t\\t\\n\\t\\t\\t\\t\\t\\t\\t\\n\\t\\t\\t\\t\\t\\t\\t<!-- Надо чтобы сюда вывелось из анонса поле Текст полностью -->\\n\\t\\t\\t\\t\\t\\t\\t<div class=\"item-info\">\\n\\t\\t\\t\\t\\t\\t\\t\\t<div>\\n\\t\\t\\t\\t\\t\\t\\t\\t\\t<p>\\r\\n\\t Экскурсии ежедневно с 9:00 - 15:30\\r\\n</p>\\r\\n<p>\\r\\n\\t Бесплатное посещение для всех категорий российских и зарубежных граждан.\\r\\n</p>\\t\\t\\t\\t\\t\\t\\t\\t</div>\\n\\t\\t\\t\\t\\t\\t\\t\\t<a href=\"/to-visitors/order-excursion/\" class=\"btn\">Заказать экскурсию</a>\\n\\t\\t\\t\\t\\t\\t\\t</div>\\n\\t\\t\\t\\t\\t\\t\\n\\t\\t\\t\\t\\t\\t\\n\\t\\t\\t\\t\\t\\t\\n\\t\\t\\t\\t\\t\\t</div> \\n\\t\\t\\t\\t\\t</div>\\n\\t\\t\\t\\t</div>\\n\\t\\t\\t\\t\\t\\t\\t\\t\\t\\t<div id=\"bx_3485106786_2303\">\\n\\t\\t\\t\\t\\t<div class=\"item\">\\n\\t\\t\\t\\t\\t\\t<div class=\"img\"> <img src=\"/upload/resize_cache/iblock/b76/310_435_1/Мемориально-исторический музей.jpg\" alt=\"Мемориально-исторический музей \"> <!-- Картинка 310х435 --> </div>\\n\\t\\t\\t\\t\\t\\t<div class=\"ttl\">\\n\\t\\t\\t\\t\\t\\t\\t<a href=\"/about/about-museum-inner/2303\">Мемориально-исторический музей </a>\\n\\t\\t\\t\\t\\t\\t\\t\\n\\t\\t\\t\\t\\t\\t\\t\\n\\t\\t\\t\\t\\t\\t\\t<!-- Надо чтобы сюда вывелось из анонса поле Текст полностью -->\\n\\t\\t\\t\\t\\t\\t\\t<div class=\"item-info\">\\n\\t\\t\\t\\t\\t\\t\\t\\t<div>\\n\\t\\t\\t\\t\\t\\t\\t\\t\\t<ul>\\r\\n\\t<li>вторник - воскресенье&nbsp;с 10.00 до 18.00</li>\\r\\n\\t<li>понедельник - выходной</li>\\r\\n</ul>\\r\\n<p>\\r\\n <strong><span style=\"color: #ff0000;\">Внимание!</span></strong> Касса закрывается за 30 минут до окончания работы музея!\\r\\n</p>\\r\\n<!-- <p>\\r\\n <strong class=\"red\">Внимание!</strong> Касса закрывается за&nbsp;30&nbsp;минут до&nbsp;окончания работы музея.\\r\\n</p> -->\\t\\t\\t\\t\\t\\t\\t\\t</div>\\n\\t\\t\\t\\t\\t\\t\\t\\t<a href=\"/to-visitors/order-excursion/\" class=\"btn\">Заказать экскурсию</a>\\n\\t\\t\\t\\t\\t\\t\\t</div>\\n\\t\\t\\t\\t\\t\\t\\n\\t\\t\\t\\t\\t\\t\\n\\t\\t\\t\\t\\t\\t\\n\\t\\t\\t\\t\\t\\t</div> \\n\\t\\t\\t\\t\\t</div>\\n\\t\\t\\t\\t</div>\\n\\t\\t\\t\\t\\t\\t\\t\\t\\t\\t<div id=\"bx_3485106786_2304\">\\n\\t\\t\\t\\t\\t<div class=\"item\">\\n\\t\\t\\t\\t\\t\\t<div class=\"img\"> <img src=\"/upload/resize_cache/iblock/b92/310_435_1/captiond.jpg\" alt=\"Музей «Память» \"> <!-- Картинка 310х435 --> </div>\\n\\t\\t\\t\\t\\t\\t<div class=\"ttl\">\\n\\t\\t\\t\\t\\t\\t\\t<a href=\"/about/about-museum-inner/2304\">Музей «Память» </a>\\n\\t\\t\\t\\t\\t\\t\\t\\n\\t\\t\\t\\t\\t\\t\\t\\n\\t\\t\\t\\t\\t\\t\\t<!-- Надо чтобы сюда вывелось из анонса поле Текст полностью -->\\n\\t\\t\\t\\t\\t\\t\\t<div class=\"item-info\">\\n\\t\\t\\t\\t\\t\\t\\t\\t<div>\\n\\t\\t\\t\\t\\t\\t\\t\\t\\t<ul>\\r\\n\\t<li>вторник - воскресенье&nbsp;с 10.00 до 18.00</li>\\r\\n\\t<li>понедельник - выходной</li>\\r\\n</ul>\\r\\n<p>\\r\\n <span style=\"color: #ff0000;\"><b>Внимание!</b></span> Касса закрывается за 30 минут до окончания работы музея!\\r\\n</p>\\r\\n<!-- <p>\\r\\n <strong class=\"red\">Внимание!</strong> касса закрывается за 30 минут до окончания работы музея&nbsp;\\r\\n</p> -->\\t\\t\\t\\t\\t\\t\\t\\t</div>\\n\\t\\t\\t\\t\\t\\t\\t\\t<a href=\"/to-visitors/order-excursion/\" class=\"btn\">Заказать экскурсию</a>\\n\\t\\t\\t\\t\\t\\t\\t</div>\\n\\t\\t\\t\\t\\t\\t\\n\\t\\t\\t\\t\\t\\t\\n\\t\\t\\t\\t\\t\\t\\n\\t\\t\\t\\t\\t\\t</div> \\n\\t\\t\\t\\t\\t</div>\\n\\t\\t\\t\\t</div>\\n\\t\\t\\t\\t\\t</div>\\n\\t</div>\\n</div>\\n\\n\\n\\n<div class=\"section pts\">\\n\\t<div class=\"container\">\\n\\t\\t<div class=\"section-head\">\\n\\t\\t\\t<h2>Выставки</h2>\\n\\t\\t</div>\\n\\t\\t<div class=\"affiche-carousel\">\\n\\t\\t\\t\\t\\t\\t\\t\\t\\t\\t\\t\\t\\t\\t\\t\\t\\t\\t<div>\\n\\t\\t\\t\\t\\t\\t<div class=\"item item-big\" id=\"bx_3099439860_12595\">\\n\\t\\t\\t\\t\\t\\t\\t<!-- Картинка 645х580 -->\\n\\t\\t\\t\\t\\t\\t\\t<a href=\"/to-visitors/exhibitions/exhibitions_today/12595/\">\\n\\t\\t\\t\\t\\t\\t\\t\\t<span class=\"img\">\\n\\t\\t\\t\\t\\t\\t\\t\\t\\t<img src=\"/upload/iblock/af7/3uqtldvudwvdlm8y50oyg3ek0nv68bpl/IMG_0692.jpg\" alt=\"\">\\n\\t\\t\\t\\t\\t\\t\\t\\t</span>\\n\\t\\t\\t\\t\\t\\t\\t\\t\\t\\t\\t\\t\\t\\t\\t\\t\\t<span class=\"date\">\\n\\t\\t\\t\\t\\t\\t\\t\\t\\t\\t<span>23 ноября 2023 - 31 августа 2024</span>\\n\\t\\t\\t\\t\\t\\t\\t\\t\\t</span>\\n\\t\\t\\t\\t\\t\\t\\t\\t\\t\\t\\t\\t\\t\\t\\t\\t<span class=\"ttl\">\\n\\t\\t\\t\\t\\t\\t\\t\\t\\tВыставка &quot;Животные на войне&quot;\\t\\t\\t\\t\\t\\t\\t\\t</span>\\n\\t\\t\\t\\t\\t\\t\\t\\t\\t\\t\\t\\t\\t\\t\\t\\t\\t<span class=\"place\">\\n\\t\\t\\t\\t\\t\\t\\t\\t\\t\\tг. Волгоград, Музей «Память» \\t\\t\\t\\t\\t\\t\\t\\t\\t</span>\\n\\t\\t\\t\\t\\t\\t\\t\\t\\t\\t\\t\\t\\t\\t\\t</a>\\n\\t\\t\\t\\t\\t\\t</div>\\n\\t\\t\\t\\t\\t</div>\\n\\t\\t\\t\\t\\t\\t\\t\\t\\t\\t\\t\\t\\t\\t\\t\\t\\t\\t\\t\\t\\t\\t<div>\\t\\t\\t\\t\\t\\t<div class=\"item item-small\" id=\"bx_3099439860_12578\">\\n\\t\\t\\t\\t\\t\\t\\t<a href=\"/to-visitors/exhibitions/exhibitions_today/12578/\">\\n\\t\\t\\t\\t\\t\\t\\t\\t<span class=\"img\">\\n\\t\\t\\t\\t\\t\\t\\t\\t\\t<img src=\"/upload/iblock/07a/xrwilgcfnure5tceboelnukcggh6at4m/IMG_0037.jpg\" alt=\"\">\\n\\t\\t\\t\\t\\t\\t\\t\\t</span>\\n\\t\\t\\t\\t\\t\\t\\t\\t\\t\\t\\t\\t\\t\\t\\t\\t\\t<!--<span class=\"date\">\\n\\t\\t\\t\\t\\t\\t\\t\\t\\t\\t<span>Постоянная выставка</span>\\n\\t\\t\\t\\t\\t\\t\\t\\t\\t</span>-->\\n\\t\\t\\t\\t\\t\\t\\t\\t\\t\\t\\t\\t\\t\\t\\t\\t<span class=\"ttl\">\\n\\t\\t\\t\\t\\t\\t\\t\\t\\tВыставка &quot;Артиллеристы, зовет Отчизна нас!&quot;\\t\\t\\t\\t\\t\\t\\t\\t</span> \\n\\t\\t\\t\\t\\t\\t\\t\\t\\t\\t\\t\\t\\t\\t\\t</a>\\n\\t\\t\\t\\t\\t\\t</div>\\n\\t\\t\\t\\t\\t\\t\\t\\t\\t\\t\\t\\t\\t\\t\\t\\t\\t\\t\\t\\t\\t\\t\\t\\t\\t\\t\\t\\t\\t\\t\\t\\t\\t<div class=\"item item-small\" id=\"bx_3099439860_12505\">\\n\\t\\t\\t\\t\\t\\t\\t<a href=\"/to-visitors/exhibitions/exhibitions_today/12505/\">\\n\\t\\t\\t\\t\\t\\t\\t\\t<span class=\"img\">\\n\\t\\t\\t\\t\\t\\t\\t\\t\\t<img src=\"/upload/iblock/1f5/1dn32cw2ue120zftgi0qkwiyymf83bmx/IMG_8424.jpg\" alt=\"\">\\n\\t\\t\\t\\t\\t\\t\\t\\t</span>\\n\\t\\t\\t\\t\\t\\t\\t\\t\\t\\t\\t\\t\\t\\t\\t\\t\\t<span class=\"date\">\\n\\t\\t\\t\\t\\t\\t\\t\\t\\t\\t<span>23 октября - 20 декабря 2023 г.</span>\\n\\t\\t\\t\\t\\t\\t\\t\\t\\t</span> \\n\\t\\t\\t\\t\\t\\t\\t\\t\\t\\t\\t\\t\\t\\t\\t\\t<span class=\"ttl\">\\n\\t\\t\\t\\t\\t\\t\\t\\t\\tВыставка &quot;Крымская война 1853-1856 гг. из века XIX в век XXI&quot;\\t\\t\\t\\t\\t\\t\\t\\t</span> \\n\\t\\t\\t\\t\\t\\t\\t\\t\\t\\t\\t\\t\\t\\t\\t\\t\\t<span class=\"place\">\\n\\t\\t\\t\\t\\t\\t\\t\\t\\t\\tг. Волгоград, Музей-панорама «Сталинградская битва» \\t\\t\\t\\t\\t\\t\\t\\t\\t</span>\\n\\t\\t\\t\\t\\t\\t\\t\\t\\t\\t\\t\\t\\t\\t\\t</a>\\n\\t\\t\\t\\t\\t\\t</div>\\n\\t\\t\\t\\t\\t</div>\\t\\t\\t\\t\\t\\t\\t\\t\\t\\t\\t\\t\\t\\t\\t\\t\\t\\t\\t\\t\\t\\t<div>\\t\\t\\t\\t\\t\\t<div class=\"item item-small\" id=\"bx_3099439860_12502\">\\n\\t\\t\\t\\t\\t\\t\\t<a href=\"/to-visitors/exhibitions/exhibitions_today/12502/\">\\n\\t\\t\\t\\t\\t\\t\\t\\t<span class=\"img\">\\n\\t\\t\\t\\t\\t\\t\\t\\t\\t<img src=\"/upload/iblock/d3e/l3dj09rka8vufnqktc8sz5h2tepvkukg/IMG_8233.jpg\" alt=\"\">\\n\\t\\t\\t\\t\\t\\t\\t\\t</span>\\n\\t\\t\\t\\t\\t\\t\\t\\t\\t\\t\\t\\t\\t\\t\\t\\t\\t<span class=\"date\">\\n\\t\\t\\t\\t\\t\\t\\t\\t\\t\\t<span>19 октября - 17 декабря 2023 г.</span>\\n\\t\\t\\t\\t\\t\\t\\t\\t\\t</span> \\n\\t\\t\\t\\t\\t\\t\\t\\t\\t\\t\\t\\t\\t\\t\\t\\t<span class=\"ttl\">\\n\\t\\t\\t\\t\\t\\t\\t\\t\\tВыставка &quot;В годину смуты...&quot;\\t\\t\\t\\t\\t\\t\\t\\t</span> \\n\\t\\t\\t\\t\\t\\t\\t\\t\\t\\t\\t\\t\\t\\t\\t\\t\\t<span class=\"place\">\\n\\t\\t\\t\\t\\t\\t\\t\\t\\t\\tг. Волгоград, Мемориально-исторический музей \\t\\t\\t\\t\\t\\t\\t\\t\\t</span>\\n\\t\\t\\t\\t\\t\\t\\t\\t\\t\\t\\t\\t\\t\\t\\t</a>\\n\\t\\t\\t\\t\\t\\t</div>\\n\\t\\t\\t\\t\\t\\t\\t\\t\\t\\t\\t\\t\\t\\t\\t\\t\\t\\t\\t\\t\\t\\t\\t\\t\\t\\t\\t\\t\\t\\t\\t\\t\\t<div class=\"item item-small\" id=\"bx_3099439860_11176\">\\n\\t\\t\\t\\t\\t\\t\\t<a href=\"/to-visitors/exhibitions/archive/11176/\">\\n\\t\\t\\t\\t\\t\\t\\t\\t<span class=\"img\">\\n\\t\\t\\t\\t\\t\\t\\t\\t\\t<img src=\"/upload/iblock/a7a/3xj2jw1ta7p0jfaxadk2dnfgo4ntdflm/IMG_7226.jpg\" alt=\"\">\\n\\t\\t\\t\\t\\t\\t\\t\\t</span>\\n\\t\\t\\t\\t\\t\\t\\t\\t\\t\\t\\t\\t\\t\\t\\t\\t\\t<span class=\"date\">\\n\\t\\t\\t\\t\\t\\t\\t\\t\\t\\t<span>05 сентября - 17 октября 2023 г.</span>\\n\\t\\t\\t\\t\\t\\t\\t\\t\\t</span> \\n\\t\\t\\t\\t\\t\\t\\t\\t\\t\\t\\t\\t\\t\\t\\t\\t<span class=\"ttl\">\\n\\t\\t\\t\\t\\t\\t\\t\\t\\tВыставка &quot;На войне как на войне&quot;\\t\\t\\t\\t\\t\\t\\t\\t</span> \\n\\t\\t\\t\\t\\t\\t\\t\\t\\t\\t\\t\\t\\t\\t\\t\\t\\t<span class=\"place\">\\n\\t\\t\\t\\t\\t\\t\\t\\t\\t\\tг. Волгоград, Мемориально-исторический музей \\t\\t\\t\\t\\t\\t\\t\\t\\t</span>\\n\\t\\t\\t\\t\\t\\t\\t\\t\\t\\t\\t\\t\\t\\t\\t</a>\\n\\t\\t\\t\\t\\t\\t</div>\\n\\t\\t\\t\\t\\t</div>\\t\\t\\t\\t\\t\\t\\t\\t\\t\\t\\t\\t\\t\\t\\t\\t\\t\\t\\t\\t\\t\\t<div>\\t\\t\\t\\t\\t\\t<div class=\"item item-small\" id=\"bx_3099439860_11163\">\\n\\t\\t\\t\\t\\t\\t\\t<a href=\"/to-visitors/exhibitions/exhibitions_today/11163/\">\\n\\t\\t\\t\\t\\t\\t\\t\\t<span class=\"img\">\\n\\t\\t\\t\\t\\t\\t\\t\\t\\t<img src=\"/upload/iblock/e1d/jfgrkb92cv0ou83kd0rr2twbdpzfzye0/IMG_4561.JPG\" alt=\"\">\\n\\t\\t\\t\\t\\t\\t\\t\\t</span>\\n\\t\\t\\t\\t\\t\\t\\t\\t\\t\\t\\t\\t\\t\\t\\t\\t\\t<span class=\"date\">\\n\\t\\t\\t\\t\\t\\t\\t\\t\\t\\t<span>23 августа - 30 декабря 2023 г.</span>\\n\\t\\t\\t\\t\\t\\t\\t\\t\\t</span> \\n\\t\\t\\t\\t\\t\\t\\t\\t\\t\\t\\t\\t\\t\\t\\t\\t<span class=\"ttl\">\\n\\t\\t\\t\\t\\t\\t\\t\\t\\tВыставка &quot;Наука ненависти: свидетельства зверств фашистских оккупантов\\t\\t\\t\\t\\t\\t\\t\\t</span> \\n\\t\\t\\t\\t\\t\\t\\t\\t\\t\\t\\t\\t\\t\\t\\t\\t\\t<span class=\"place\">\\n\\t\\t\\t\\t\\t\\t\\t\\t\\t\\tг. Волгоград, Мемориальный комплекс «Героям Сталинградской битвы» на Мамаевом кургане \\t\\t\\t\\t\\t\\t\\t\\t\\t</span>\\n\\t\\t\\t\\t\\t\\t\\t\\t\\t\\t\\t\\t\\t\\t\\t</a>\\n\\t\\t\\t\\t\\t\\t</div>\\n\\t\\t\\t\\t\\t\\t\\t\\t\\t\\t\\t\\t\\t\\t\\t\\t\\t\\t\\t\\t\\t\\t\\t\\t\\t\\t\\t\\t\\t\\t\\t\\t\\t<div class=\"item item-small\" id=\"bx_3099439860_11138\">\\n\\t\\t\\t\\t\\t\\t\\t<a href=\"/to-visitors/exhibitions/exhibitions_today/11138/\">\\n\\t\\t\\t\\t\\t\\t\\t\\t<span class=\"img\">\\n\\t\\t\\t\\t\\t\\t\\t\\t\\t<img src=\"/upload/iblock/86a/9ksmizoibhco9o3eikwe2jwz78er12po/IMG_6146.jpg\" alt=\"\">\\n\\t\\t\\t\\t\\t\\t\\t\\t</span>\\n\\t\\t\\t\\t\\t\\t\\t\\t\\t\\t\\t\\t\\t\\t\\t\\t\\t<span class=\"date\">\\n\\t\\t\\t\\t\\t\\t\\t\\t\\t\\t<span>01 августа - 24 декабря 2023 г.</span>\\n\\t\\t\\t\\t\\t\\t\\t\\t\\t</span> \\n\\t\\t\\t\\t\\t\\t\\t\\t\\t\\t\\t\\t\\t\\t\\t\\t<span class=\"ttl\">\\n\\t\\t\\t\\t\\t\\t\\t\\t\\tВыставка &quot;Плакатом бей врага&quot;\\t\\t\\t\\t\\t\\t\\t\\t</span> \\n\\t\\t\\t\\t\\t\\t\\t\\t\\t\\t\\t\\t\\t\\t\\t\\t\\t<span class=\"place\">\\n\\t\\t\\t\\t\\t\\t\\t\\t\\t\\tг. Волгоград, Музей «Память» \\t\\t\\t\\t\\t\\t\\t\\t\\t</span>\\n\\t\\t\\t\\t\\t\\t\\t\\t\\t\\t\\t\\t\\t\\t\\t</a>\\n\\t\\t\\t\\t\\t\\t</div>\\n\\t\\t\\t\\t\\t</div>\\t\\t\\t\\t\\t\\t\\t\\t\\t</div>\\n\\t</div>\\n</div>\\n\\n\\n\\t\\n\\t\\n\\t\\n\\t\\n\\t\\n\\t\\t\\n\\t<div class=\"section ptb fringe-top-white\">\\n\\t\\t<div class=\"container\">\\n\\t\\t\\t<div class=\"section-head timeline-section-head\">\\n\\t\\t\\t\\t<h2>Календарь событий</h2>\\n\\t\\t\\t</div>\\n\\t\\t</div>\\n\\t\\t<div class=\"timeline-wrap\">\\n\\t\\t\\t<a href=\"/to-visitors/calendar/\" class=\"btn\">Смотреть</a>\\n\\t\\t\\t<div class=\"timeline-inner\">\\n\\t\\t\\t\\t<div class=\"timeline\">\\n\\t\\t\\t\\t\\t<div class=\"container\">\\n\\t\\t\\t\\t\\t\\t<div class=\"items\">\\n\\t\\t\\t\\t\\t\\t\\t<div class=\"item\">\\n\\t\\t\\t\\t\\t\\t\\t\\t<div class=\"year-wrap year-wrap-start\">\\n\\t\\t\\t\\t\\t\\t\\t\\t\\t<div class=\"round\">&nbsp;</div>   <!-- Из кружка можно в будущем сделать ссылку - <a href=\"#\" class=\"round\">&nbsp;</a> -->\\n\\t\\t\\t\\t\\t\\t\\t\\t\\t<div class=\"info\">\\n\\t\\t\\t\\t\\t\\t\\t\\t\\t\\t<div class=\"year\">1901</div>\\n\\t\\t\\t\\t\\t\\t\\t\\t\\t\\t<div class=\"city\">Царицын</div>\\n\\t\\t\\t\\t\\t\\t\\t\\t\\t</div>\\n\\t\\t\\t\\t\\t\\t\\t\\t</div>\\n\\t\\t\\t\\t\\t\\t\\t\\t<div class=\"year-wrap\">\\n\\t\\t\\t\\t\\t\\t\\t\\t\\t<div class=\"round\">&nbsp;</div>\\n\\t\\t\\t\\t\\t\\t\\t\\t\\t<div class=\"info\">\\n\\t\\t\\t\\t\\t\\t\\t\\t\\t\\t<div class=\"year\">1918</div>\\n\\t\\t\\t\\t\\t\\t\\t\\t\\t\\t<div class=\"city\">Царицын</div>\\n\\t\\t\\t\\t\\t\\t\\t\\t\\t</div>\\n\\t\\t\\t\\t\\t\\t\\t\\t</div>\\n\\t\\t\\t\\t\\t\\t\\t</div>\\n\\t\\t\\t\\t\\t\\t\\t<div class=\"item\">\\n\\t\\t\\t\\t\\t\\t\\t\\t<div class=\"year-wrap\">\\n\\t\\t\\t\\t\\t\\t\\t\\t\\t<div class=\"round\">&nbsp;</div>\\n\\t\\t\\t\\t\\t\\t\\t\\t\\t<div class=\"info\">\\n\\t\\t\\t\\t\\t\\t\\t\\t\\t\\t<div class=\"year\">1940</div>\\n\\t\\t\\t\\t\\t\\t\\t\\t\\t\\t<div class=\"city\">Сталинград</div>\\n\\t\\t\\t\\t\\t\\t\\t\\t\\t</div>\\n\\t\\t\\t\\t\\t\\t\\t\\t</div>\\n\\t\\t\\t\\t\\t\\t\\t</div>\\n\\t\\t\\t\\t\\t\\t\\t<div class=\"item\">\\n\\t\\t\\t\\t\\t\\t\\t\\t<div class=\"year-wrap\">\\n\\t\\t\\t\\t\\t\\t\\t\\t\\t<div class=\"round\">&nbsp;</div>\\n\\t\\t\\t\\t\\t\\t\\t\\t\\t<div class=\"info\">\\n\\t\\t\\t\\t\\t\\t\\t\\t\\t\\t<div class=\"year\">1980</div>\\n\\t\\t\\t\\t\\t\\t\\t\\t\\t\\t<div class=\"city\">Волгоград</div>\\n\\t\\t\\t\\t\\t\\t\\t\\t\\t</div>\\n\\t\\t\\t\\t\\t\\t\\t\\t</div>\\n\\t\\t\\t\\t\\t\\t\\t</div>\\n\\t\\t\\t\\t\\t\\t\\t<div class=\"item\">\\n\\t\\t\\t\\t\\t\\t\\t\\t<div class=\"year-wrap\">\\n\\t\\t\\t\\t\\t\\t\\t\\t\\t<div class=\"round\">&nbsp;</div>\\n\\t\\t\\t\\t\\t\\t\\t\\t\\t<div class=\"info\">\\n\\t\\t\\t\\t\\t\\t\\t\\t\\t\\t<div class=\"year\">2023</div>\\n\\t\\t\\t\\t\\t\\t\\t\\t\\t\\t<div class=\"city\">Волгоград</div>\\n\\t\\t\\t\\t\\t\\t\\t\\t\\t</div>\\n\\t\\t\\t\\t\\t\\t\\t\\t</div>\\n\\t\\t\\t\\t\\t\\t\\t</div>\\n\\t\\t\\t\\t\\t\\t</div>\\n\\t\\t\\t\\t\\t</div>\\n\\t\\t\\t\\t</div>\\n\\t\\t\\t</div>\\n\\t\\t</div>\\n\\t</div>\\n\\t\\t<div class=\"quality-control\">\\n\\t\\t<div class=\"container\">\\n\\t\\t\\t<a target=\"_blank\" href=\"\\n\\t\\t\\thttp://quality.mkrf.ru/mark/?orgid=0329100000047\\n \\n\\t\\t\\t\"><span><i>Оценка качества услуг музея-заповедника “Сталинградская&nbsp;битва”</i></span></a>\\n\\t\\t</div>\\n\\t</div>\\n\\t\\n\\t\\t\\t<section>\\n\\t\\t\\t<section class=\"section banners\">\\n\\t<div class=\"container\">\\n\\t\\t\\t\\t\\t\\t\\t\\t<div class=\"item-back\">\\n\\t\\t\\t\\t<div class=\"item\" id=\"bx_565502798_6123\">\\n\\t\\t\\t\\t\\t<a href=\"http://mkrf.ru/open-ministry/quality/metodicheskie-rekomendatsii-po-provedeniyu-nezavis26112015\" target=\"_blank\">\\n\\t\\t\\t\\t\\t\\t<img src=\"/upload/resize_cache/iblock/494/200_230_0/nok.jpg\" alt=\"\"/>\\n\\t\\t\\t\\t\\t</a>\\n\\t\\t\\t\\t</div>\\n\\t\\t\\t</div>\\n\\t\\t\\t\\t\\t\\t\\t\\t<div class=\"item-back\">\\n\\t\\t\\t\\t<div class=\"item\" id=\"bx_565502798_6960\">\\n\\t\\t\\t\\t\\t<a href=\"https://stalingrad-battle.ru/about/corruption/\" target=\"_blank\">\\n\\t\\t\\t\\t\\t\\t<img src=\"/upload/resize_cache/iblock/7e4/200_230_0/антикоррупция.jpg\" alt=\"\"/>\\n\\t\\t\\t\\t\\t</a>\\n\\t\\t\\t\\t</div>\\n\\t\\t\\t</div>\\n\\t\\t\\t\\t\\t\\t\\t\\t<div class=\"item-back\">\\n\\t\\t\\t\\t<div class=\"item\" id=\"bx_565502798_9661\">\\n\\t\\t\\t\\t\\t<a href=\"https://объясняем.рф\" target=\"_blank\">\\n\\t\\t\\t\\t\\t\\t<img src=\"/upload/iblock/b69/%D0%BE%D0%B1%D1%8A%D1%8F%D1%81%D0%BD%D1%8F%D0%B5%D0%BC%20%D0%A0%D0%A4.jpg\" alt=\"\"/>\\n\\t\\t\\t\\t\\t</a>\\n\\t\\t\\t\\t</div>\\n\\t\\t\\t</div>\\n\\t\\t\\t\\t\\t\\t\\t\\t<div class=\"item-back\">\\n\\t\\t\\t\\t<div class=\"item\" id=\"bx_565502798_6924\">\\n\\t\\t\\t\\t\\t<a href=\"https://grants.culture.ru/\" target=\"_blank\">\\n\\t\\t\\t\\t\\t\\t<img src=\"/upload/resize_cache/iblock/09e/200_230_0/Гранты_Баннер прямоугольный.jpg\" alt=\"\"/>\\n\\t\\t\\t\\t\\t</a>\\n\\t\\t\\t\\t</div>\\n\\t\\t\\t</div>\\n\\t\\t\\t\\t\\t\\t\\t\\t<div class=\"item-back\">\\n\\t\\t\\t\\t<div class=\"item\" id=\"bx_565502798_6592\">\\n\\t\\t\\t\\t\\t<a href=\"https://xn--90acesaqsbbbreoa5e3dp.xn--p1ai/\" target=\"_blank\">\\n\\t\\t\\t\\t\\t\\t<img src=\"/upload/resize_cache/iblock/96d/200_230_0/img031x.jpg\" alt=\"\"/>\\n\\t\\t\\t\\t\\t</a>\\n\\t\\t\\t\\t</div>\\n\\t\\t\\t</div>\\n\\t\\t\\t</div>\\n</section>\\n\\t\\t</section>\\n\\t\\t\\t\\n\\t<div class=\"bottom-map\">\\n\\t\\t<div class=\"map-canvas\">\\n\\t\\t\\t<div id=\"map\"></div>\\n\\t\\t</div>\\n\\t\\t<div class=\"map-objects-bg\">\\n\\t<div class=\"container\">\\n\\t\\t<div class=\"map-objects-wrap\">\\n\\t\\t\\t<div class=\"map-objects\">\\n\\t\\t\\t\\t\\t\\t\\t\\t\\t\\t\\t\\t\\t\\t\\t\\t\\t\\t\\t\\t<div id=\"bx_1454625752_2301\" data-x=\"48.715115\" data-y=\"44.532894\" class=\"item item1 \">\\n\\t\\t\\t\\t\\t\\t<div class=\"img\">\\n\\t\\t\\t\\t\\t\\t\\t<img src=\"/upload/iblock/bd6/map_pict-1.jpg\" alt=\"\"/>\\n\\t\\t\\t\\t\\t\\t</div>\\n\\t\\t\\t\\t\\t\\t<div class=\"ttl\">\\n\\t\\t\\t\\t\\t\\t\\t<a href=\"Музей-панорама «Сталинградская битва» \">Музей-панорама «Сталинградская битва» </a>\\n\\t\\t\\t\\t\\t\\t</div>\\n\\t\\t\\t\\t\\t\\t<div class=\"address\">\\n\\t\\t\\t\\t\\t\\t\\tВолгоград, ул. им. маршала Чуйкова, 47\\t\\t\\t\\t\\t\\t\\t<br/>\\n\\t\\t\\t\\t\\t\\t\\t(8442) 550-083\\t\\t\\t\\t\\t\\t</div>\\n\\t\\t\\t\\t\\t</div>\\n\\t\\t\\t\\t\\t\\t\\t\\t\\t\\t\\t\\t\\t\\t\\t\\t\\t\\t\\t\\t<div id=\"bx_1454625752_2302\" data-x=\"48.7423633358\" data-y=\"44.5371128796\" class=\"item item1 \">\\n\\t\\t\\t\\t\\t\\t<div class=\"img\">\\n\\t\\t\\t\\t\\t\\t\\t<img src=\"/upload/iblock/63e/map_pict-4.jpg\" alt=\"\"/>\\n\\t\\t\\t\\t\\t\\t</div>\\n\\t\\t\\t\\t\\t\\t<div class=\"ttl\">\\n\\t\\t\\t\\t\\t\\t\\t<a href=\"Мемориальный комплекс «Героям Сталинградской битвы» на Мамаевом кургане \">Мемориальный комплекс «Героям Сталинградской битвы» на Мамаевом кургане </a>\\n\\t\\t\\t\\t\\t\\t</div>\\n\\t\\t\\t\\t\\t\\t<div class=\"address\">\\n\\t\\t\\t\\t\\t\\t\\tВолгоград, проспект имени В.И. Ленина\\t\\t\\t\\t\\t\\t\\t<br/>\\n\\t\\t\\t\\t\\t\\t\\t(8442) 550-151\\t\\t\\t\\t\\t\\t</div>\\n\\t\\t\\t\\t\\t</div>\\n\\t\\t\\t\\t\\t\\t\\t\\t\\t\\t\\t\\t\\t\\t\\t\\t\\t\\t\\t\\t<div id=\"bx_1454625752_2303\" data-x=\"48.711405\" data-y=\"44.514701\" class=\"item item1 active\">\\n\\t\\t\\t\\t\\t\\t<div class=\"img\">\\n\\t\\t\\t\\t\\t\\t\\t<img src=\"/upload/iblock/62a/map_pict-2.jpg\" alt=\"\"/>\\n\\t\\t\\t\\t\\t\\t</div>\\n\\t\\t\\t\\t\\t\\t<div class=\"ttl\">\\n\\t\\t\\t\\t\\t\\t\\t<a href=\"Мемориально-исторический музей \">Мемориально-исторический музей </a>\\n\\t\\t\\t\\t\\t\\t</div>\\n\\t\\t\\t\\t\\t\\t<div class=\"address\">\\n\\t\\t\\t\\t\\t\\t\\tВолгоград, ул. Гоголя, 10\\t\\t\\t\\t\\t\\t\\t<br/>\\n\\t\\t\\t\\t\\t\\t\\t(8442) 550-151\\t\\t\\t\\t\\t\\t</div>\\n\\t\\t\\t\\t\\t</div>\\n\\t\\t\\t\\t\\t\\t\\t\\t\\t\\t\\t\\t\\t\\t\\t\\t\\t\\t\\t\\t<div id=\"bx_1454625752_2304\" data-x=\"48.708856\" data-y=\"44.516547\" class=\"item item1 \">\\n\\t\\t\\t\\t\\t\\t<div class=\"img\">\\n\\t\\t\\t\\t\\t\\t\\t<img src=\"/upload/iblock/950/map_pict-3.jpg\" alt=\"\"/>\\n\\t\\t\\t\\t\\t\\t</div>\\n\\t\\t\\t\\t\\t\\t<div class=\"ttl\">\\n\\t\\t\\t\\t\\t\\t\\t<a href=\"Музей «Память» \">Музей «Память» </a>\\n\\t\\t\\t\\t\\t\\t</div>\\n\\t\\t\\t\\t\\t\\t<div class=\"address\">\\n\\t\\t\\t\\t\\t\\t\\tВолгоград,  площадь Павших Борцов, 2\\t\\t\\t\\t\\t\\t\\t<br/>\\n\\t\\t\\t\\t\\t\\t\\t(8442) 386-067\\t\\t\\t\\t\\t\\t</div>\\n\\t\\t\\t\\t\\t</div>\\n\\t\\t\\t\\t\\t\\t\\t</div>\\n\\t\\t</div>\\n\\t</div>\\n</div>\\n\\t</div>\\n\\t\\t\\n\\t<style>\\n\\t\\tbody, html {\\n\\t\\t\\tpadding: 0;\\n\\t\\t\\tmargin: 0;\\n\\t\\t\\twidth: 100%;\\n\\t\\t\\theight: 100%;\\n\\t\\t}\\n\\t\\t#map {\\n\\t\\t\\twidth: 100%;\\n\\t\\t\\theight: 100%;\\n\\t\\t}\\n\\t</style>\\n</div>\\n\\t<footer>\\n\\t\\t<div class=\"container copyright-wrap\">\\n\\t\\t\\t<div class=\"copyright\">\\n\\t\\t\\t\\t© 2023\\t\\t\\t\\t<div>\\n <span class=\"br\"></span>Федеральное государственное бюджетное учреждение культуры \"Государственный историко-мемориальный музей-заповедник \"Сталинградская битва\"\\n</div>\\n<div>\\n\\t e-mail: <a href=\"mailto:museum@sbitva.ru\">museum@sbitva.ru</a><br>\\n</div>\\n <br>\\t\\t\\t</div>\\n\\t\\t\\t<p class=\"old-site\">\\n\\t<br>\\n</p>\\t\\t\\t<ul class=\"socials\">\\n\\t \\t<li><a href=\"https://vk.com/stalingrad_battle\" target=\"_blank\"><i class=\"icon-vk\">&nbsp;</i></a></li>\\n\\t \\t<li><a href=\"https://ok.ru/stalingradbattle\" target=\"_blank\"><i class=\"icon-ok\">&nbsp;</i></a></li>\\n\\t\\t<li><a href=\"https://www.youtube.com/user/StalingradBattle\" target=\"_blank\"><i class=\"icon-youtube\">&nbsp;</i></a></li>\\n\\t<li><a href=\"https://rutube.ru/channel/23869892/\" target=\"_blank\"><i class=\"icon-rutube\">&nbsp;</i></a></li>\\n\\t<li><a href=\"https://t.me/Stalingrad_battle\" target=\"_blank\"><i class=\"icon-telegram\">&nbsp;</i></a></li>\\n\\t<li><a href=\"https://zen.yandex.ru/stalingrad_battle\" target=\"_blank\"><i class=\"icon-zen\">&nbsp;</i></a></li>\\n</ul>\\t\\t\\t<div class=\"ya-cou\">\\n\\t\\t\\t<!-- /Yandex.Metrika counter -->\\n\\t\\t\\t\\t\\t\\t<!-- Yandex.Metrika informer -->\\n\\t\\t\\t<a href=\"https://metrika.yandex.ru/stat/?id=3630229&amp;from=informer\"\\n\\t\\t\\ttarget=\"_blank\" rel=\"nofollow\"><img src=\"https://metrika-informer.com/informer/3630229/3_1_FFFFFFFF_EFEFEFFF_0_pageviews\"\\n\\t\\t\\tstyle=\"width:88px; height:31px; border:0;\" alt=\"Яндекс.Метрика\" title=\"Яндекс.Метрика: данные за сегодня (просмотры, визиты и уникальные посетители)\" class=\"ym-advanced-informer\" data-cid=\"3630229\" data-lang=\"ru\" /></a>\\n\\t\\t\\t<!-- /Yandex.Metrika informer -->\\n\\n\\t\\t\\t<!-- Yandex.Metrika counter -->\\n\\t\\t\\t\\t\\t\\t<noscript><div><img src=\"https://mc.yandex.ru/watch/3630229\" style=\"position:absolute; left:-9999px;\" alt=\"\" /></div></noscript>\\n\\t\\t\\t<!-- /Yandex.Metrika counter -->\\n\\t\\t\\t</div>\\n\\t\\t</div>\\n\\t\\t<div class=\"container creators-wrap\">\\n\\t\\t\\t<div class=\"up\">\\n\\t\\t\\t\\t<a href=\"#\" id=\"up\"><span class=\"arr-btn\"><i class=\"icon-up\">&nbsp;</i></span><span class=\"arr-letter\">Вернуться наверх</span></a>\\n\\t\\t\\t</div>\\n\\t\\t\\t<div class=\"creators\">\\n\\t\\t\\t\\t<a href=\"https://www.clickon.ru\" target=\"_blank\">\\n\\t\\t\\t\\t\\t<span>Создание сайта</span> \\n\\t\\t\\t\\t\\t<img src=\"/local/templates/stalingradb/img/clickon.png\" alt=\"Разработка сайтов веб-студия ClickON\"/>\\n\\t\\t\\t\\t</a>\\n\\t\\t\\t</div>\\n\\t\\t</div>\\n\\t\\t\\t\\t\\n\\t</footer>\\n\\t\\n\\t\\t\\t</div>\\n\\t\\t\\t\\t\\t\\t<noscript>\\n\\t\\t\\t\\t<div style=\"position:absolute\">\\n\\t\\t\\t\\t\\t<img src=\"https://web.archive.org/web/20171230202028im_/http://mc.yandex.ru/watch/3630229\" alt=\"\"/>\\n\\t\\t\\t\\t</div>\\n\\t\\t\\t</noscript>\\n\\t\\t\\n\\t<div class=\"go-top\"><a href=\"#\"><i class=\"icon-angle-up\"></i></a></div>\\n<script type=\"text/javascript\">if(!window.BX)window.BX={};if(!window.BX.message)window.BX.message=function(mess){if(typeof mess===\\'object\\'){for(let i in mess) {BX.message[i]=mess[i];} return true;}};</script>\\n<script type=\"text/javascript\">(window.BX||top.BX).message({\\'JS_CORE_LOADING\\':\\'Загрузка...\\',\\'JS_CORE_NO_DATA\\':\\'- Нет данных -\\',\\'JS_CORE_WINDOW_CLOSE\\':\\'Закрыть\\',\\'JS_CORE_WINDOW_EXPAND\\':\\'Развернуть\\',\\'JS_CORE_WINDOW_NARROW\\':\\'Свернуть в окно\\',\\'JS_CORE_WINDOW_SAVE\\':\\'Сохранить\\',\\'JS_CORE_WINDOW_CANCEL\\':\\'Отменить\\',\\'JS_CORE_WINDOW_CONTINUE\\':\\'Продолжить\\',\\'JS_CORE_H\\':\\'ч\\',\\'JS_CORE_M\\':\\'м\\',\\'JS_CORE_S\\':\\'с\\',\\'JSADM_AI_HIDE_EXTRA\\':\\'Скрыть лишние\\',\\'JSADM_AI_ALL_NOTIF\\':\\'Показать все\\',\\'JSADM_AUTH_REQ\\':\\'Требуется авторизация!\\',\\'JS_CORE_WINDOW_AUTH\\':\\'Войти\\',\\'JS_CORE_IMAGE_FULL\\':\\'Полный размер\\'});</script><script type=\"text/javascript\" src=\"/bitrix/js/main/core/core.min.js?1695977641220181\"></script><script>BX.setJSList([\\'/bitrix/js/main/core/core_ajax.js\\',\\'/bitrix/js/main/core/core_promise.js\\',\\'/bitrix/js/main/polyfill/promise/js/promise.js\\',\\'/bitrix/js/main/loadext/loadext.js\\',\\'/bitrix/js/main/loadext/extension.js\\',\\'/bitrix/js/main/polyfill/promise/js/promise.js\\',\\'/bitrix/js/main/polyfill/find/js/find.js\\',\\'/bitrix/js/main/polyfill/includes/js/includes.js\\',\\'/bitrix/js/main/polyfill/matches/js/matches.js\\',\\'/bitrix/js/ui/polyfill/closest/js/closest.js\\',\\'/bitrix/js/main/polyfill/fill/main.polyfill.fill.js\\',\\'/bitrix/js/main/polyfill/find/js/find.js\\',\\'/bitrix/js/main/polyfill/matches/js/matches.js\\',\\'/bitrix/js/main/polyfill/core/dist/polyfill.bundle.js\\',\\'/bitrix/js/main/core/core.js\\',\\'/bitrix/js/main/polyfill/intersectionobserver/js/intersectionobserver.js\\',\\'/bitrix/js/main/lazyload/dist/lazyload.bundle.js\\',\\'/bitrix/js/main/polyfill/core/dist/polyfill.bundle.js\\',\\'/bitrix/js/main/parambag/dist/parambag.bundle.js\\']);\\n</script>\\n<script type=\"text/javascript\">(window.BX||top.BX).message({\\'LANGUAGE_ID\\':\\'ru\\',\\'FORMAT_DATE\\':\\'DD.MM.YYYY\\',\\'FORMAT_DATETIME\\':\\'DD.MM.YYYY HH:MI:SS\\',\\'COOKIE_PREFIX\\':\\'BITRIX_SM\\',\\'SERVER_TZ_OFFSET\\':\\'10800\\',\\'UTF_MODE\\':\\'Y\\',\\'SITE_ID\\':\\'s1\\',\\'SITE_DIR\\':\\'/\\',\\'USER_ID\\':\\'\\',\\'SERVER_TIME\\':\\'1701642570\\',\\'USER_TZ_OFFSET\\':\\'0\\',\\'USER_TZ_AUTO\\':\\'Y\\',\\'bitrix_sessid\\':\\'f89832bd95a8b707e0c24bfe514a948e\\'});</script><script type=\"text/javascript\">BX.setJSList([\\'/local/templates/stalingradb/components/bitrix/news.list/slider-new/script.js\\',\\'/local/templates/stalingradb/js/jquery.min.js\\',\\'/local/templates/stalingradb/js/slick/slick.min.js\\',\\'/local/templates/stalingradb/js/jquery.magnific-popup.min.js\\',\\'/local/templates/stalingradb/js/jquery.cookie.js\\',\\'/local/templates/stalingradb/js/hoverIntent.js\\',\\'/local/templates/stalingradb/js/superfish.min.js\\',\\'/local/templates/stalingradb/js/mapbasic.js\\',\\'/local/templates/stalingradb/js/low-vision.js\\',\\'/local/templates/stalingradb/js/jquery-ui-1.10.3.custom.min.js\\',\\'/local/templates/stalingradb/js/jquery.mousewheel.min.js\\',\\'/local/templates/stalingradb/js/jquery.kinetic.min.js\\',\\'/local/templates/stalingradb/js/jquery.smoothDivScroll-1.3.js\\',\\'/local/templates/stalingradb/js/translate.js\\',\\'/local/templates/stalingradb/js/cm.js\\']);</script>\\n<script type=\"text/javascript\">BX.setCSSList([\\'/local/templates/stalingradb/components/bitrix/news.list/slider-new/style.css\\',\\'/local/templates/stalingradb/components/bitrix/news.list/news-slider/style.css\\',\\'/local/templates/stalingradb/components/bitrix/news.list/v-mus-slider/style.css\\',\\'/local/templates/stalingradb/components/bitrix/news.list/museums-slider/style.css\\',\\'/local/templates/stalingradb/components/bitrix/news.list/afisha-slider/style.css\\',\\'/local/templates/stalingradb/css/normalize.css\\',\\'/local/templates/stalingradb/css/default.css\\',\\'/local/templates/stalingradb/css/icomoon.css\\',\\'/local/templates/stalingradb/js/slick/slick.css\\',\\'/local/templates/stalingradb/js/slick/slick-theme.css\\',\\'/local/templates/stalingradb/css/low-vision.css\\',\\'/local/templates/stalingradb/css/megafish.css\\',\\'/local/templates/stalingradb/css/bootstrap-grid.min.css\\',\\'/local/templates/stalingradb/css/magnific-popup.css\\',\\'/local/templates/stalingradb/styles.css\\',\\'/local/templates/stalingradb/template_styles.css\\',\\'/local/templates/stalingradb/css/low-v.css\\',\\'/local/templates/stalingradb/css/prop.css\\',\\'/local/templates/stalingradb/components/bitrix/menu/main-menu-new/style.css\\',\\'/local/templates/stalingradb/components/bitrix/menu/main-menu/style.css\\',\\'/local/templates/stalingradb/components/bitrix/search.page/search-page-sb/style.css\\',\\'/local/templates/stalingradb/components/bitrix/news.list/banners/style.css\\',\\'/local/templates/stalingradb/components/bitrix/news.list/museums_map/style.css\\']);</script>\\n\\n\\n<script type=\"text/javascript\"  src=\"/bitrix/cache/js/s1/stalingradb/template_55a78658f78ac67ca44c3c3185cd70d0/template_55a78658f78ac67ca44c3c3185cd70d0_v1.js?1695977702273734\"></script>\\n<script type=\"text/javascript\"  src=\"/bitrix/cache/js/s1/stalingradb/page_7005cb871d73d4335301881c96d3fcfd/page_7005cb871d73d4335301881c96d3fcfd_v1.js?1695977704759\"></script>\\n<script type=\"text/javascript\">var _ba = _ba || []; _ba.push([\"aid\", \"0eaec5320e4ba7d6b47692ed14bf14f9\"]); _ba.push([\"host\", \"stalingrad-battle.ru\"]); (function() {var ba = document.createElement(\"script\"); ba.type = \"text/javascript\"; ba.async = true;ba.src = (document.location.protocol == \"https:\" ? \"https://\" : \"http://\") + \"bitrix.info/ba.js\";var s = document.getElementsByTagName(\"script\")[0];s.parentNode.insertBefore(ba, s);})();</script>\\n\\n\\n<script async src=\"https://culturaltracking.ru/static/js/spxl.js?pixelId=10799\" data-pixel-id=\"10799\"></script>\\n<script type=\"text/javascript\">\\n                            function googleTranslateElementInit2(){\\n                                new google.translate.TranslateElement({pageLanguage:\\'ru\\',autoDisplay:false},\\'google_translate_element2\\');\\n                            }\\n                        </script>\\n<script type=\"text/javascript\" src=\"https://translate.google.com/translate_a/element.js?cb=googleTranslateElementInit2\"></script>\\n\\n<script src=\"https://api-maps.yandex.ru/2.1/?lang=ru_RU\" type=\"text/javascript\"></script>\\n<script src=\"https://web.archive.org/web/20171230202028js_/https://mc.yandex.ru/metrika/watch.js\" type=\"text/javascript\"></script>\\n<script type=\"text/javascript\" >\\n\\t\\t\\t(function(m,e,t,r,i,k,a){m[i]=m[i]||function(){(m[i].a=m[i].a||[]).push(arguments)};\\n\\t\\t\\tm[i].l=1*new Date();k=e.createElement(t),a=e.getElementsByTagName(t)[0],k.async=1,k.src=r,a.parentNode.insertBefore(k,a)})\\n\\t\\t\\t(window, document, \"script\", \"https://cdn.jsdelivr.net/npm/yandex-metrica-watch/tag.js\", \"ym\");\\n\\n\\t\\t\\tym(3630229, \"init\", {\\n\\t\\t\\t\\t\\tclickmap:true,\\n\\t\\t\\t\\t\\ttrackLinks:true,\\n\\t\\t\\t\\t\\taccurateTrackBounce:true,\\n\\t\\t\\t\\t\\twebvisor:true,\\n\\t\\t\\t\\t\\ttrackHash:true\\n\\t\\t\\t});\\n\\t\\t\\t</script>\\n<script src=\"https://www.google.com/recaptcha/api.js\" async defer></script>\\n<script src=\"https://web.archive.org/web/20171230202031js_/https://mc.yandex.ru/metrika/watch.js\" type=\"text/javascript\" defer=\"defer\"></script>\\n</body>\\n</html>\\n'"
      ]
     },
     "execution_count": 19,
     "metadata": {},
     "output_type": "execute_result"
    }
   ],
   "source": [
    "response.text"
   ]
  },
  {
   "cell_type": "code",
   "execution_count": null,
   "id": "028a71c5",
   "metadata": {},
   "outputs": [],
   "source": []
  },
  {
   "cell_type": "code",
   "execution_count": 9,
   "id": "9607fcef",
   "metadata": {},
   "outputs": [],
   "source": [
    "test = dict_info[site][0]"
   ]
  },
  {
   "cell_type": "code",
   "execution_count": 10,
   "id": "a54e8d6a",
   "metadata": {},
   "outputs": [],
   "source": [
    "df = pd.DataFrame(dict_info)"
   ]
  },
  {
   "cell_type": "code",
   "execution_count": 11,
   "id": "b9fe67ac",
   "metadata": {},
   "outputs": [
    {
     "data": {
      "text/html": [
       "<div>\n",
       "<style scoped>\n",
       "    .dataframe tbody tr th:only-of-type {\n",
       "        vertical-align: middle;\n",
       "    }\n",
       "\n",
       "    .dataframe tbody tr th {\n",
       "        vertical-align: top;\n",
       "    }\n",
       "\n",
       "    .dataframe thead th {\n",
       "        text-align: right;\n",
       "    }\n",
       "</style>\n",
       "<table border=\"1\" class=\"dataframe\">\n",
       "  <thead>\n",
       "    <tr style=\"text-align: right;\">\n",
       "      <th></th>\n",
       "      <th>0</th>\n",
       "    </tr>\n",
       "  </thead>\n",
       "  <tbody>\n",
       "    <tr>\n",
       "      <th>0</th>\n",
       "      <td>События</td>\n",
       "    </tr>\n",
       "    <tr>\n",
       "      <th>1</th>\n",
       "      <td>События</td>\n",
       "    </tr>\n",
       "    <tr>\n",
       "      <th>2</th>\n",
       "      <td>События</td>\n",
       "    </tr>\n",
       "    <tr>\n",
       "      <th>3</th>\n",
       "      <td>События</td>\n",
       "    </tr>\n",
       "    <tr>\n",
       "      <th>4</th>\n",
       "      <td>События</td>\n",
       "    </tr>\n",
       "    <tr>\n",
       "      <th>5</th>\n",
       "      <td>Выставки</td>\n",
       "    </tr>\n",
       "    <tr>\n",
       "      <th>6</th>\n",
       "      <td>События</td>\n",
       "    </tr>\n",
       "    <tr>\n",
       "      <th>7</th>\n",
       "      <td>События</td>\n",
       "    </tr>\n",
       "    <tr>\n",
       "      <th>8</th>\n",
       "      <td>События</td>\n",
       "    </tr>\n",
       "  </tbody>\n",
       "</table>\n",
       "</div>"
      ],
      "text/plain": [
       "          0\n",
       "0   События\n",
       "1   События\n",
       "2   События\n",
       "3   События\n",
       "4   События\n",
       "5  Выставки\n",
       "6   События\n",
       "7   События\n",
       "8   События"
      ]
     },
     "execution_count": 11,
     "metadata": {},
     "output_type": "execute_result"
    }
   ],
   "source": [
    "df['https://victorymuseum.ru/playbill/'].str.extract('>([A-Za-zА-Яа-я ,0-9]+)')"
   ]
  },
  {
   "cell_type": "code",
   "execution_count": 36,
   "id": "d7f0d9d1",
   "metadata": {},
   "outputs": [
    {
     "data": {
      "text/plain": [
       "'<div class=\"item\" id=\"bx_3218110189_255458\" data-id=\"28\">\\n\\t\\t<a href=\"/playbill/events/80-let-tegeranskoy-konferentsii/\" class=\"img-box\">\\n\\t\\t\\t\\t\\t\\t<div class=\"img-item-bg lazyload\" data-bgset=\"/upload/resize_cache/iblock/07c/9v78mgpjza3b9a40k35fpfqc39kap9z7/550_380_2/IMG_6693.jpg\"></div>\\n\\t\\t</a>\\n\\t\\t<div class=\"text-box\">\\n\\t\\t\\t\\t\\t\\t\\t<div class=\"w100\">\\n\\t\\t\\t\\t\\t<a class=\"button mini\" href=\"/playbill/events/\">События</a>\\n\\t\\t\\t\\t</div>\\n\\t\\t\\t\\n\\t\\t\\t<a class=\"name\" href=\"/playbill/events/80-let-tegeranskoy-konferentsii/\">80 лет Тегеранской конференции</a>\\n\\t\\t\\t\\t\\t\\t\\t<div class=\"text\">К юбилею\\xa0конференции «большой тройки» Музей Победы подготовил онлайн-программу.</div>\\n\\t\\t\\t\\t\\t\\t\\n\\t\\t\\t\\n\\t\\t</div>\\n\\t\\t<div class=\"bottom_box\">\\n\\t\\t\\t\\t\\t<div class=\"date ico-ba\">28.11.2023</div>\\n\\t\\t\\t\\t\\t\\t\\t\\t\\t\\n\\t\\t\\t\\n\\t\\t\\t\\t\\t\\t<div class=\"ticker-ref\">\\n\\t\\t\\t\\t\\t\\t\\t</div>\\n\\t\\t\\t\\n\\t\\t\\t\\t\\t</div>\\n\\t</div>\\n\\t\\n\\t\\n\\n\\t\\n\\t\\t'"
      ]
     },
     "execution_count": 36,
     "metadata": {},
     "output_type": "execute_result"
    }
   ],
   "source": [
    "df['https://victorymuseum.ru/playbill/'][1]"
   ]
  },
  {
   "cell_type": "code",
   "execution_count": 38,
   "id": "452ff259",
   "metadata": {},
   "outputs": [
    {
     "ename": "error",
     "evalue": "unterminated character set at position 2",
     "output_type": "error",
     "traceback": [
      "\u001b[1;31m---------------------------------------------------------------------------\u001b[0m",
      "\u001b[1;31merror\u001b[0m                                     Traceback (most recent call last)",
      "Cell \u001b[1;32mIn[38], line 1\u001b[0m\n\u001b[1;32m----> 1\u001b[0m df[\u001b[38;5;124m'\u001b[39m\u001b[38;5;124mhttps://victorymuseum.ru/playbill/\u001b[39m\u001b[38;5;124m'\u001b[39m]\u001b[38;5;241m.\u001b[39mstr\u001b[38;5;241m.\u001b[39mextractall(\u001b[38;5;124m'\u001b[39m\u001b[38;5;124m>([A-Za-zА-Яа-я ,0-9-.\u001b[39m\u001b[38;5;130;01m\\\\\u001b[39;00m\u001b[38;5;124m]+)\u001b[39m\u001b[38;5;124m'\u001b[39m)\n",
      "File \u001b[1;32m~\\anaconda3\\Lib\\site-packages\\pandas\\core\\strings\\accessor.py:129\u001b[0m, in \u001b[0;36mforbid_nonstring_types.<locals>._forbid_nonstring_types.<locals>.wrapper\u001b[1;34m(self, *args, **kwargs)\u001b[0m\n\u001b[0;32m    124\u001b[0m     msg \u001b[38;5;241m=\u001b[39m (\n\u001b[0;32m    125\u001b[0m         \u001b[38;5;124mf\u001b[39m\u001b[38;5;124m\"\u001b[39m\u001b[38;5;124mCannot use .str.\u001b[39m\u001b[38;5;132;01m{\u001b[39;00mfunc_name\u001b[38;5;132;01m}\u001b[39;00m\u001b[38;5;124m with values of \u001b[39m\u001b[38;5;124m\"\u001b[39m\n\u001b[0;32m    126\u001b[0m         \u001b[38;5;124mf\u001b[39m\u001b[38;5;124m\"\u001b[39m\u001b[38;5;124minferred dtype \u001b[39m\u001b[38;5;124m'\u001b[39m\u001b[38;5;132;01m{\u001b[39;00m\u001b[38;5;28mself\u001b[39m\u001b[38;5;241m.\u001b[39m_inferred_dtype\u001b[38;5;132;01m}\u001b[39;00m\u001b[38;5;124m'\u001b[39m\u001b[38;5;124m.\u001b[39m\u001b[38;5;124m\"\u001b[39m\n\u001b[0;32m    127\u001b[0m     )\n\u001b[0;32m    128\u001b[0m     \u001b[38;5;28;01mraise\u001b[39;00m \u001b[38;5;167;01mTypeError\u001b[39;00m(msg)\n\u001b[1;32m--> 129\u001b[0m \u001b[38;5;28;01mreturn\u001b[39;00m func(\u001b[38;5;28mself\u001b[39m, \u001b[38;5;241m*\u001b[39margs, \u001b[38;5;241m*\u001b[39m\u001b[38;5;241m*\u001b[39mkwargs)\n",
      "File \u001b[1;32m~\\anaconda3\\Lib\\site-packages\\pandas\\core\\strings\\accessor.py:2732\u001b[0m, in \u001b[0;36mStringMethods.extractall\u001b[1;34m(self, pat, flags)\u001b[0m\n\u001b[0;32m   2658\u001b[0m \u001b[38;5;250m\u001b[39m\u001b[38;5;124mr\u001b[39m\u001b[38;5;124;03m\"\"\"\u001b[39;00m\n\u001b[0;32m   2659\u001b[0m \u001b[38;5;124;03mExtract capture groups in the regex `pat` as columns in DataFrame.\u001b[39;00m\n\u001b[0;32m   2660\u001b[0m \n\u001b[1;32m   (...)\u001b[0m\n\u001b[0;32m   2729\u001b[0m \u001b[38;5;124;03mC 0        NaN     1\u001b[39;00m\n\u001b[0;32m   2730\u001b[0m \u001b[38;5;124;03m\"\"\"\u001b[39;00m\n\u001b[0;32m   2731\u001b[0m \u001b[38;5;66;03m# TODO: dispatch\u001b[39;00m\n\u001b[1;32m-> 2732\u001b[0m \u001b[38;5;28;01mreturn\u001b[39;00m str_extractall(\u001b[38;5;28mself\u001b[39m\u001b[38;5;241m.\u001b[39m_orig, pat, flags)\n",
      "File \u001b[1;32m~\\anaconda3\\Lib\\site-packages\\pandas\\core\\strings\\accessor.py:3342\u001b[0m, in \u001b[0;36mstr_extractall\u001b[1;34m(arr, pat, flags)\u001b[0m\n\u001b[0;32m   3341\u001b[0m \u001b[38;5;28;01mdef\u001b[39;00m \u001b[38;5;21mstr_extractall\u001b[39m(arr, pat, flags: \u001b[38;5;28mint\u001b[39m \u001b[38;5;241m=\u001b[39m \u001b[38;5;241m0\u001b[39m):\n\u001b[1;32m-> 3342\u001b[0m     regex \u001b[38;5;241m=\u001b[39m re\u001b[38;5;241m.\u001b[39mcompile(pat, flags\u001b[38;5;241m=\u001b[39mflags)\n\u001b[0;32m   3343\u001b[0m     \u001b[38;5;66;03m# the regex must contain capture groups.\u001b[39;00m\n\u001b[0;32m   3344\u001b[0m     \u001b[38;5;28;01mif\u001b[39;00m regex\u001b[38;5;241m.\u001b[39mgroups \u001b[38;5;241m==\u001b[39m \u001b[38;5;241m0\u001b[39m:\n",
      "File \u001b[1;32m~\\anaconda3\\Lib\\re\\__init__.py:227\u001b[0m, in \u001b[0;36mcompile\u001b[1;34m(pattern, flags)\u001b[0m\n\u001b[0;32m    225\u001b[0m \u001b[38;5;28;01mdef\u001b[39;00m \u001b[38;5;21mcompile\u001b[39m(pattern, flags\u001b[38;5;241m=\u001b[39m\u001b[38;5;241m0\u001b[39m):\n\u001b[0;32m    226\u001b[0m     \u001b[38;5;124m\"\u001b[39m\u001b[38;5;124mCompile a regular expression pattern, returning a Pattern object.\u001b[39m\u001b[38;5;124m\"\u001b[39m\n\u001b[1;32m--> 227\u001b[0m     \u001b[38;5;28;01mreturn\u001b[39;00m _compile(pattern, flags)\n",
      "File \u001b[1;32m~\\anaconda3\\Lib\\re\\__init__.py:294\u001b[0m, in \u001b[0;36m_compile\u001b[1;34m(pattern, flags)\u001b[0m\n\u001b[0;32m    288\u001b[0m     \u001b[38;5;28;01mimport\u001b[39;00m \u001b[38;5;21;01mwarnings\u001b[39;00m\n\u001b[0;32m    289\u001b[0m     warnings\u001b[38;5;241m.\u001b[39mwarn(\u001b[38;5;124m\"\u001b[39m\u001b[38;5;124mThe re.TEMPLATE/re.T flag is deprecated \u001b[39m\u001b[38;5;124m\"\u001b[39m\n\u001b[0;32m    290\u001b[0m               \u001b[38;5;124m\"\u001b[39m\u001b[38;5;124mas it is an undocumented flag \u001b[39m\u001b[38;5;124m\"\u001b[39m\n\u001b[0;32m    291\u001b[0m               \u001b[38;5;124m\"\u001b[39m\u001b[38;5;124mwithout an obvious purpose. \u001b[39m\u001b[38;5;124m\"\u001b[39m\n\u001b[0;32m    292\u001b[0m               \u001b[38;5;124m\"\u001b[39m\u001b[38;5;124mDon\u001b[39m\u001b[38;5;124m'\u001b[39m\u001b[38;5;124mt use it.\u001b[39m\u001b[38;5;124m\"\u001b[39m,\n\u001b[0;32m    293\u001b[0m               \u001b[38;5;167;01mDeprecationWarning\u001b[39;00m)\n\u001b[1;32m--> 294\u001b[0m p \u001b[38;5;241m=\u001b[39m _compiler\u001b[38;5;241m.\u001b[39mcompile(pattern, flags)\n\u001b[0;32m    295\u001b[0m \u001b[38;5;28;01mif\u001b[39;00m \u001b[38;5;129;01mnot\u001b[39;00m (flags \u001b[38;5;241m&\u001b[39m DEBUG):\n\u001b[0;32m    296\u001b[0m     \u001b[38;5;28;01mif\u001b[39;00m \u001b[38;5;28mlen\u001b[39m(_cache) \u001b[38;5;241m>\u001b[39m\u001b[38;5;241m=\u001b[39m _MAXCACHE:\n\u001b[0;32m    297\u001b[0m         \u001b[38;5;66;03m# Drop the oldest item\u001b[39;00m\n",
      "File \u001b[1;32m~\\anaconda3\\Lib\\re\\_compiler.py:743\u001b[0m, in \u001b[0;36mcompile\u001b[1;34m(p, flags)\u001b[0m\n\u001b[0;32m    741\u001b[0m \u001b[38;5;28;01mif\u001b[39;00m isstring(p):\n\u001b[0;32m    742\u001b[0m     pattern \u001b[38;5;241m=\u001b[39m p\n\u001b[1;32m--> 743\u001b[0m     p \u001b[38;5;241m=\u001b[39m _parser\u001b[38;5;241m.\u001b[39mparse(p, flags)\n\u001b[0;32m    744\u001b[0m \u001b[38;5;28;01melse\u001b[39;00m:\n\u001b[0;32m    745\u001b[0m     pattern \u001b[38;5;241m=\u001b[39m \u001b[38;5;28;01mNone\u001b[39;00m\n",
      "File \u001b[1;32m~\\anaconda3\\Lib\\re\\_parser.py:982\u001b[0m, in \u001b[0;36mparse\u001b[1;34m(str, flags, state)\u001b[0m\n\u001b[0;32m    979\u001b[0m state\u001b[38;5;241m.\u001b[39mflags \u001b[38;5;241m=\u001b[39m flags\n\u001b[0;32m    980\u001b[0m state\u001b[38;5;241m.\u001b[39mstr \u001b[38;5;241m=\u001b[39m \u001b[38;5;28mstr\u001b[39m\n\u001b[1;32m--> 982\u001b[0m p \u001b[38;5;241m=\u001b[39m _parse_sub(source, state, flags \u001b[38;5;241m&\u001b[39m SRE_FLAG_VERBOSE, \u001b[38;5;241m0\u001b[39m)\n\u001b[0;32m    983\u001b[0m p\u001b[38;5;241m.\u001b[39mstate\u001b[38;5;241m.\u001b[39mflags \u001b[38;5;241m=\u001b[39m fix_flags(\u001b[38;5;28mstr\u001b[39m, p\u001b[38;5;241m.\u001b[39mstate\u001b[38;5;241m.\u001b[39mflags)\n\u001b[0;32m    985\u001b[0m \u001b[38;5;28;01mif\u001b[39;00m source\u001b[38;5;241m.\u001b[39mnext \u001b[38;5;129;01mis\u001b[39;00m \u001b[38;5;129;01mnot\u001b[39;00m \u001b[38;5;28;01mNone\u001b[39;00m:\n",
      "File \u001b[1;32m~\\anaconda3\\Lib\\re\\_parser.py:457\u001b[0m, in \u001b[0;36m_parse_sub\u001b[1;34m(source, state, verbose, nested)\u001b[0m\n\u001b[0;32m    455\u001b[0m start \u001b[38;5;241m=\u001b[39m source\u001b[38;5;241m.\u001b[39mtell()\n\u001b[0;32m    456\u001b[0m \u001b[38;5;28;01mwhile\u001b[39;00m \u001b[38;5;28;01mTrue\u001b[39;00m:\n\u001b[1;32m--> 457\u001b[0m     itemsappend(_parse(source, state, verbose, nested \u001b[38;5;241m+\u001b[39m \u001b[38;5;241m1\u001b[39m,\n\u001b[0;32m    458\u001b[0m                        \u001b[38;5;129;01mnot\u001b[39;00m nested \u001b[38;5;129;01mand\u001b[39;00m \u001b[38;5;129;01mnot\u001b[39;00m items))\n\u001b[0;32m    459\u001b[0m     \u001b[38;5;28;01mif\u001b[39;00m \u001b[38;5;129;01mnot\u001b[39;00m sourcematch(\u001b[38;5;124m\"\u001b[39m\u001b[38;5;124m|\u001b[39m\u001b[38;5;124m\"\u001b[39m):\n\u001b[0;32m    460\u001b[0m         \u001b[38;5;28;01mbreak\u001b[39;00m\n",
      "File \u001b[1;32m~\\anaconda3\\Lib\\re\\_parser.py:865\u001b[0m, in \u001b[0;36m_parse\u001b[1;34m(source, state, verbose, nested, first)\u001b[0m\n\u001b[0;32m    862\u001b[0m     group \u001b[38;5;241m=\u001b[39m \u001b[38;5;28;01mNone\u001b[39;00m\n\u001b[0;32m    863\u001b[0m sub_verbose \u001b[38;5;241m=\u001b[39m ((verbose \u001b[38;5;129;01mor\u001b[39;00m (add_flags \u001b[38;5;241m&\u001b[39m SRE_FLAG_VERBOSE)) \u001b[38;5;129;01mand\u001b[39;00m\n\u001b[0;32m    864\u001b[0m                \u001b[38;5;129;01mnot\u001b[39;00m (del_flags \u001b[38;5;241m&\u001b[39m SRE_FLAG_VERBOSE))\n\u001b[1;32m--> 865\u001b[0m p \u001b[38;5;241m=\u001b[39m _parse_sub(source, state, sub_verbose, nested \u001b[38;5;241m+\u001b[39m \u001b[38;5;241m1\u001b[39m)\n\u001b[0;32m    866\u001b[0m \u001b[38;5;28;01mif\u001b[39;00m \u001b[38;5;129;01mnot\u001b[39;00m source\u001b[38;5;241m.\u001b[39mmatch(\u001b[38;5;124m\"\u001b[39m\u001b[38;5;124m)\u001b[39m\u001b[38;5;124m\"\u001b[39m):\n\u001b[0;32m    867\u001b[0m     \u001b[38;5;28;01mraise\u001b[39;00m source\u001b[38;5;241m.\u001b[39merror(\u001b[38;5;124m\"\u001b[39m\u001b[38;5;124mmissing ), unterminated subpattern\u001b[39m\u001b[38;5;124m\"\u001b[39m,\n\u001b[0;32m    868\u001b[0m                        source\u001b[38;5;241m.\u001b[39mtell() \u001b[38;5;241m-\u001b[39m start)\n",
      "File \u001b[1;32m~\\anaconda3\\Lib\\re\\_parser.py:457\u001b[0m, in \u001b[0;36m_parse_sub\u001b[1;34m(source, state, verbose, nested)\u001b[0m\n\u001b[0;32m    455\u001b[0m start \u001b[38;5;241m=\u001b[39m source\u001b[38;5;241m.\u001b[39mtell()\n\u001b[0;32m    456\u001b[0m \u001b[38;5;28;01mwhile\u001b[39;00m \u001b[38;5;28;01mTrue\u001b[39;00m:\n\u001b[1;32m--> 457\u001b[0m     itemsappend(_parse(source, state, verbose, nested \u001b[38;5;241m+\u001b[39m \u001b[38;5;241m1\u001b[39m,\n\u001b[0;32m    458\u001b[0m                        \u001b[38;5;129;01mnot\u001b[39;00m nested \u001b[38;5;129;01mand\u001b[39;00m \u001b[38;5;129;01mnot\u001b[39;00m items))\n\u001b[0;32m    459\u001b[0m     \u001b[38;5;28;01mif\u001b[39;00m \u001b[38;5;129;01mnot\u001b[39;00m sourcematch(\u001b[38;5;124m\"\u001b[39m\u001b[38;5;124m|\u001b[39m\u001b[38;5;124m\"\u001b[39m):\n\u001b[0;32m    460\u001b[0m         \u001b[38;5;28;01mbreak\u001b[39;00m\n",
      "File \u001b[1;32m~\\anaconda3\\Lib\\re\\_parser.py:565\u001b[0m, in \u001b[0;36m_parse\u001b[1;34m(source, state, verbose, nested, first)\u001b[0m\n\u001b[0;32m    563\u001b[0m this \u001b[38;5;241m=\u001b[39m sourceget()\n\u001b[0;32m    564\u001b[0m \u001b[38;5;28;01mif\u001b[39;00m this \u001b[38;5;129;01mis\u001b[39;00m \u001b[38;5;28;01mNone\u001b[39;00m:\n\u001b[1;32m--> 565\u001b[0m     \u001b[38;5;28;01mraise\u001b[39;00m source\u001b[38;5;241m.\u001b[39merror(\u001b[38;5;124m\"\u001b[39m\u001b[38;5;124munterminated character set\u001b[39m\u001b[38;5;124m\"\u001b[39m,\n\u001b[0;32m    566\u001b[0m                        source\u001b[38;5;241m.\u001b[39mtell() \u001b[38;5;241m-\u001b[39m here)\n\u001b[0;32m    567\u001b[0m \u001b[38;5;28;01mif\u001b[39;00m this \u001b[38;5;241m==\u001b[39m \u001b[38;5;124m\"\u001b[39m\u001b[38;5;124m]\u001b[39m\u001b[38;5;124m\"\u001b[39m \u001b[38;5;129;01mand\u001b[39;00m \u001b[38;5;28mset\u001b[39m:\n\u001b[0;32m    568\u001b[0m     \u001b[38;5;28;01mbreak\u001b[39;00m\n",
      "\u001b[1;31merror\u001b[0m: unterminated character set at position 2"
     ]
    }
   ],
   "source": [
    "df['https://victorymuseum.ru/playbill/'].str.extractall('>([A-Za-zА-Яа-я ,0-9-.\\\\]+)')"
   ]
  },
  {
   "cell_type": "code",
   "execution_count": null,
   "id": "66c48c6b",
   "metadata": {},
   "outputs": [],
   "source": []
  },
  {
   "cell_type": "code",
   "execution_count": 18,
   "id": "27bb11c7",
   "metadata": {},
   "outputs": [
    {
     "data": {
      "text/plain": [
       "'>[A-Za-zА-Яа-я ,0-9]+'"
      ]
     },
     "execution_count": 18,
     "metadata": {},
     "output_type": "execute_result"
    }
   ],
   "source": [
    "'>[A-Za-zА-Яа-я ,0-9]+'"
   ]
  },
  {
   "cell_type": "code",
   "execution_count": null,
   "id": "57b430d6",
   "metadata": {},
   "outputs": [],
   "source": []
  },
  {
   "cell_type": "code",
   "execution_count": 17,
   "id": "689ac97b",
   "metadata": {},
   "outputs": [
    {
     "name": "stdout",
     "output_type": "stream",
     "text": [
      "<div class=\"item\" id=\"bx_3218110189_251266\" data-id=\"28\">\n",
      "\t\t<a href=\"/playbill/events/den-neizvestnogo-soldata-/\" class=\"img-box\">\n",
      "\t\t\t\t\t\t<div class=\"img-item-bg lazyload\" data-bgset=\"/upload/resize_cache/iblock/799/lvh3xijw14j6r5o2y05bdthkse7khy7f/550_380_2/muzej_1.jpeg\"></div>\n",
      "\t\t</a>\n",
      "\t\t<div class=\"text-box\">\n",
      "\t\t\t\t\t\t\t<div class=\"w100\">\n",
      "\t\t\t\t\t<a class=\"button mini\" href=\"/playbill/events/\">События</a>\n",
      "\t\t\t\t</div>\n",
      "\t\t\t\n",
      "\t\t\t<a class=\"name\" href=\"/playbill/events/den-neizvestnogo-soldata-/\">День неизвестного солдата </a>\n",
      "\t\t\t\t\t\t\t<div class=\"text\">Памятная дата в России, учреждена указом Президента РФ в 2014 году</div>\n",
      "\t\t\t\t\t\t\n",
      "\t\t\t\n",
      "\t\t</div>\n",
      "\t\t<div class=\"bottom_box\">\n",
      "\t\t\t\t\t<div class=\"date ico-ba\">03.12.2023</div>\n",
      "\t\t\t\t\t\t\t\t\t\n",
      "\t\t\t\n",
      "\t\t\t\t\t\t<div class=\"ticker-ref\">\n",
      "\t\t\t\t\t\t\t</div>\n",
      "\t\t\t\n",
      "\t\t\t\t\t</div>\n",
      "\t</div>\n",
      "\t\n",
      "\t\n",
      "\n",
      "\t\n",
      "\t\t\n"
     ]
    }
   ],
   "source": [
    "print(test)"
   ]
  },
  {
   "cell_type": "code",
   "execution_count": null,
   "id": "84ab7557",
   "metadata": {},
   "outputs": [],
   "source": []
  },
  {
   "cell_type": "markdown",
   "id": "1b18efeb",
   "metadata": {},
   "source": [
    "<div class=\"item\" id=\"bx_3218110189_251266\" data-id=\"28\">\\n\\t\\t<a href=\"/playbill/events/den-neizvestnogo-soldata-/\" class=\"img-box\">\\n\\t\\t\\t\\t\\t\\t\n",
    "<div class=\"img-item-bg lazyload\" data-bgset=\"/upload/resize_cache/iblock/799/lvh3xijw14j6r5o2y05bdthkse7khy7f/550_380_2/muzej_1.jpeg\"></div>\n",
    "\\n\\t\\t</a>\\n\\t\\t<div class=\"text-box\">\\n\\t\\t\\t\\t\\t\\t\\t<div class=\"w100\">\\n\\t\\t\\t\\t\\t\n",
    "<a class=\"button mini\" href=\"/playbill/events/\">События</a>\\n\\t\\t\\t\\t</div>\\n\\t\\t\\t\\n\\t\\t\\t<a class=\"name\" href=\"/playbill/events/den-neizvestnogo-soldata-/\">День неизвестного солдата </a>\\n\\t\\t\\t\\t\\t\\t\\t<div class=\"text\">Памятная дата в России, учреждена указом Президента РФ в 2014 году</div>\\n\\t\\t\\t\\t\\t\\t\\n\\t\\t\\t\\n\\t\\t</div>\\n\\t\\t<div class=\"bottom_box\">\\n\\t\\t\\t\\t\\t<div class=\"date ico-ba\">03.12.2023</div>\\n\\t\\t\\t\\t\\t\\t\\t\\t\\t\\n\\t\\t\\t\\n\\t\\t\\t\\t\\t\\t<div class=\"ticker-ref\">\\n\\t\\t\\t\\t\\t\\t\\t</div>\\n\\t\\t\\t\\n\\t\\t\\t\\t\\t</div>\\n\\t</div>\\n\\t\\n\\t\\n\\n\\t\\n\\t\\t"
   ]
  },
  {
   "cell_type": "code",
   "execution_count": null,
   "id": "04a39053",
   "metadata": {},
   "outputs": [],
   "source": []
  },
  {
   "cell_type": "code",
   "execution_count": 14,
   "id": "c3fe6b36",
   "metadata": {},
   "outputs": [
    {
     "name": "stdout",
     "output_type": "stream",
     "text": [
      "\n",
      "\t\t\n",
      "\t\t\t\t\t\t\n",
      "\n",
      "\t\t\n",
      "\t\t\n",
      "\n",
      "\t\t\t\t\t\t\t\n",
      "\n",
      "\t\t\t\t\tСобытия\n",
      "\t\t\t\t\n",
      "\n",
      "\t\t\t\n",
      "\t\t\tДень неизвестного солдата \n",
      "\t\t\t\t\t\t\t\n",
      "Памятная дата в России, учреждена указом Президента РФ в 2014 году\n",
      "\n",
      "\t\t\t\t\t\t\n",
      "\t\t\t\n",
      "\t\t\n",
      "\n",
      "\t\t\n",
      "\n",
      "\t\t\t\t\t\n",
      "03.12.2023\n",
      "\n",
      "\t\t\t\t\t\t\t\t\t\n",
      "\t\t\t\n",
      "\t\t\t\t\t\t\n",
      "\n",
      "\t\t\t\t\t\t\t\n",
      "\n",
      "\t\t\t\n",
      "\t\t\t\t\t\n",
      "\n",
      "\t\n",
      "\n",
      "\t\n",
      "\t\n",
      "\n",
      "\t\n",
      "\t\tau\n"
     ]
    }
   ],
   "source": [
    "print('''\\n\\t\\t\\n\\t\\t\\t\\t\\t\\t\n",
    "\\n\\t\\t\\n\\t\\t\n",
    "\\n\\t\\t\\t\\t\\t\\t\\t\n",
    "\\n\\t\\t\\t\\t\\tСобытия\\n\\t\\t\\t\\t\n",
    "\\n\\t\\t\\t\\n\\t\\t\\tДень неизвестного солдата \\n\\t\\t\\t\\t\\t\\t\\t\n",
    "Памятная дата в России, учреждена указом Президента РФ в 2014 году\n",
    "\\n\\t\\t\\t\\t\\t\\t\\n\\t\\t\\t\\n\\t\\t\n",
    "\\n\\t\\t\n",
    "\\n\\t\\t\\t\\t\\t\n",
    "03.12.2023\n",
    "\\n\\t\\t\\t\\t\\t\\t\\t\\t\\t\\n\\t\\t\\t\\n\\t\\t\\t\\t\\t\\t\n",
    "\\n\\t\\t\\t\\t\\t\\t\\t\n",
    "\\n\\t\\t\\t\\n\\t\\t\\t\\t\\t\n",
    "\\n\\t\n",
    "\\n\\t\\n\\t\\n\\n\\t\\n\\t\\tau''')"
   ]
  },
  {
   "cell_type": "markdown",
   "id": "9acc57ee",
   "metadata": {},
   "source": [
    "<div class=\"item\" id=\"bx_3218110189_251266\" data-id=\"28\">\\n\\t\\t<a href=\"/playbill/events/den-neizvestnogo-soldata-/\" class=\"img-box\">\\n\\t\\t\\t\\t\\t\\t<div class=\"img-item-bg lazyload\" data-bgset=\"/upload/resize_cache/iblock/799/lvh3xijw14j6r5o2y05bdthkse7khy7f/550_380_2/muzej_1.jpeg\"></div>\\n\\t\\t</a>\\n\\t\\t<div class=\"text-box\">\\n\\t\\t\\t\\t\\t\\t\\t<div class=\"w100\">\\n\\t\\t\\t\\t\\t<a class=\"button mini\" href=\"/playbill/events/\">События</a>\\n\\t\\t\\t\\t</div>\\n\\t\\t\\t\\n\\t\\t\\t<a class=\"name\" href=\"/playbill/events/den-neizvestnogo-soldata-/\">День неизвестного солдата </a>\\n\\t\\t\\t\\t\\t\\t\\t<div class=\"text\">Памятная дата в России, учреждена указом Президента РФ в 2014 году</div>\\n\\t\\t\\t\\t\\t\\t\\n\\t\\t\\t\\n\\t\\t</div>\\n\\t\\t<div class=\"bottom_box\">\\n\\t\\t\\t\\t\\t<div class=\"date ico-ba\">03.12.2023</div>\\n\\t\\t\\t\\t\\t\\t\\t\\t\\t\\n\\t\\t\\t\\n\\t\\t\\t\\t\\t\\t<div class=\"ticker-ref\">\\n\\t\\t\\t\\t\\t\\t\\t</div>\\n\\t\\t\\t\\n\\t\\t\\t\\t\\t</div>\\n\\t</div>\\n\\t\\n\\t\\n\\n\\t\\n\\t\\t"
   ]
  },
  {
   "cell_type": "code",
   "execution_count": null,
   "id": "603a5ec7",
   "metadata": {},
   "outputs": [],
   "source": []
  },
  {
   "cell_type": "code",
   "execution_count": null,
   "id": "9ca1c0a6",
   "metadata": {},
   "outputs": [],
   "source": []
  },
  {
   "cell_type": "code",
   "execution_count": null,
   "id": "84c71116",
   "metadata": {},
   "outputs": [],
   "source": []
  },
  {
   "cell_type": "code",
   "execution_count": null,
   "id": "90aff70e",
   "metadata": {},
   "outputs": [],
   "source": [
    "dict_info = {}\n",
    "\n",
    "list_sites  = ['https://victorymuseum.ru/playbill/']\n",
    "\n",
    "list_xpaths = ['//div[@class=\"oblique-items\"]//div[@class=\"item\"]']\n",
    "\n",
    "\n",
    "for site, xpath  in zip(list_sites, list_xpaths):\n",
    "    response = requests.get(site)\n",
    "\n",
    "    if response.status_code == 200:\n",
    "        # Создаем объект дерева HTML из содержимого ответа\n",
    "        tree = html.fromstring(response.text)\n",
    "        \n",
    "        \n",
    "        target_obj = get_div(tree, xpath)  \n",
    "        dict_info[site] = target_obj\n",
    "        \n",
    "        \n",
    "    else:\n",
    "        print(f'Ошибка статуса {response.status_code} для {sites}')"
   ]
  },
  {
   "cell_type": "code",
   "execution_count": 8,
   "id": "be859bc7",
   "metadata": {},
   "outputs": [
    {
     "data": {
      "text/plain": [
       "'<div class=\"item\" id=\"bx_3218110189_251266\" data-id=\"28\">\\n\\t\\t<a href=\"/playbill/events/den-neizvestnogo-soldata-/\" class=\"img-box\">\\n\\t\\t\\t\\t\\t\\t<div class=\"img-item-bg lazyload\" data-bgset=\"/upload/resize_cache/iblock/799/lvh3xijw14j6r5o2y05bdthkse7khy7f/550_380_2/muzej_1.jpeg\"></div>\\n\\t\\t</a>\\n\\t\\t<div class=\"text-box\">\\n\\t\\t\\t\\t\\t\\t\\t<div class=\"w100\">\\n\\t\\t\\t\\t\\t<a class=\"button mini\" href=\"/playbill/events/\">События</a>\\n\\t\\t\\t\\t</div>\\n\\t\\t\\t\\n\\t\\t\\t<a class=\"name\" href=\"/playbill/events/den-neizvestnogo-soldata-/\">День неизвестного солдата </a>\\n\\t\\t\\t\\t\\t\\t\\t<div class=\"text\">Памятная дата в России, учреждена указом Президента РФ в 2014 году</div>\\n\\t\\t\\t\\t\\t\\t\\n\\t\\t\\t\\n\\t\\t</div>\\n\\t\\t<div class=\"bottom_box\">\\n\\t\\t\\t\\t\\t<div class=\"date ico-ba\">03.12.2023</div>\\n\\t\\t\\t\\t\\t\\t\\t\\t\\t\\n\\t\\t\\t\\n\\t\\t\\t\\t\\t\\t<div class=\"ticker-ref\">\\n\\t\\t\\t\\t\\t\\t\\t</div>\\n\\t\\t\\t\\n\\t\\t\\t\\t\\t</div>\\n\\t</div>\\n\\t\\n\\t\\n\\n\\t\\n\\t\\t'"
      ]
     },
     "execution_count": 8,
     "metadata": {},
     "output_type": "execute_result"
    }
   ],
   "source": [
    "target_obj[0]"
   ]
  },
  {
   "cell_type": "markdown",
   "id": "d4106989",
   "metadata": {},
   "source": [
    "<div class=\"item\" id=\"bx_3218110189_251266\" data-id=\"28\">\\n\\t\\t<a href=\"/playbill/events/den-neizvestnogo-soldata-/\" class=\"img-box\">\\n\\t\\t\\t\\t\\t\\t<div class=\"img-item-bg lazyload\" data-bgset=\"/upload/resize_cache/iblock/799/lvh3xijw14j6r5o2y05bdthkse7khy7f/550_380_2/muzej_1.jpeg\"></div>\\n\\t\\t</a>\\n\\t\\t<div class=\"text-box\">\\n\\t\\t\\t\\t\\t\\t\\t<div class=\"w100\">\\n\\t\\t\\t\\t\\t<a class=\"button mini\" href=\"/playbill/events/\">События</a>\\n\\t\\t\\t\\t</div>\\n\\t\\t\\t\\n\\t\\t\\t<a class=\"name\" href=\"/playbill/events/den-neizvestnogo-soldata-/\">День неизвестного солдата </a>\\n\\t\\t\\t\\t\\t\\t\\t<div class=\"text\">Памятная дата в России, учреждена указом Президента РФ в 2014 году</div>\\n\\t\\t\\t\\t\\t\\t\\n\\t\\t\\t\\n\\t\\t</div>\\n\\t\\t<div class=\"bottom_box\">\\n\\t\\t\\t\\t\\t<div class=\"date ico-ba\">03.12.2023</div>\\n\\t\\t\\t\\t\\t\\t\\t\\t\\t\\n\\t\\t\\t\\n\\t\\t\\t\\t\\t\\t<div class=\"ticker-ref\">\\n\\t\\t\\t\\t\\t\\t\\t</div>\\n\\t\\t\\t\\n\\t\\t\\t\\t\\t</div>\\n\\t</div>\\n\\t\\n\\t\\n\\n\\t\\n\\t\\t"
   ]
  },
  {
   "cell_type": "code",
   "execution_count": null,
   "id": "c5fcc7fb",
   "metadata": {},
   "outputs": [],
   "source": []
  },
  {
   "cell_type": "code",
   "execution_count": null,
   "id": "c7dda13b",
   "metadata": {},
   "outputs": [],
   "source": []
  },
  {
   "cell_type": "code",
   "execution_count": null,
   "id": "58ff6605",
   "metadata": {},
   "outputs": [],
   "source": [
    "dict_info = {}\n",
    "\n",
    "list_sites    = ['https://victorymuseum.ru/playbill/', 'https://stalingrad-battle.ru/about/m-news/', \n",
    "                 'https://blokadamus.ru/музей-обороны-и-блокады-ленинграда/события/']\n",
    "\n",
    "xpaths_format = [\"//div[@data-id='28']\", '//*[@class=\"item\"]', '//*[@class=\"elementor-post__card\"]', ]\n",
    "\n",
    "for site, xpath_format in zip(list_sites, xpaths_format):\n",
    "    response = requests.get(site)\n",
    "\n",
    "    if response.status_code == 200:\n",
    "        # Создаем объект дерева HTML из содержимого ответа\n",
    "        tree = html.fromstring(response.text)\n",
    "        dict_info[site] = get_div(tree, xpath_format)\n",
    "    else:\n",
    "        print(f'Ошибка статуса {response.status_code} для {sites}')"
   ]
  },
  {
   "cell_type": "code",
   "execution_count": null,
   "id": "6319c4ae",
   "metadata": {},
   "outputs": [],
   "source": []
  },
  {
   "cell_type": "markdown",
   "id": "c3f7c969",
   "metadata": {},
   "source": [
    "## div = False"
   ]
  },
  {
   "cell_type": "code",
   "execution_count": null,
   "id": "c02f06ce",
   "metadata": {},
   "outputs": [],
   "source": [
    "dict_info = {}\n",
    "\n",
    "list_sites    = ['http://www.cmaf.ru/']\n",
    "\n",
    "\n",
    "xpaths_format = ['//div[@class=\"news-list\"]//a[@style=\"font-size: 15px; font-weight: bold; margin: 0;\"]']\n",
    "for site, xpath_format in zip(list_sites, xpaths_format):\n",
    "    response = requests.get(site)\n",
    "\n",
    "    if response.status_code == 200:\n",
    "        # Создаем объект дерева HTML из содержимого ответа\n",
    "        tree = html.fromstring(response.text)\n",
    "        dict_info[site] = get_div(tree, xpath_format, div_mode=False)\n",
    "    else:\n",
    "        print(f'Ошибка статуса {response.status_code} для {sites}')"
   ]
  },
  {
   "cell_type": "code",
   "execution_count": null,
   "id": "751b376a",
   "metadata": {},
   "outputs": [],
   "source": [
    "dict_info = {}\n",
    "\n",
    "list_sites    = ['https://1418museum.ru/news/']\n",
    "xpaths_format = ['//span[@class=\"newsItem__title title title--small\"]']\n",
    "\n",
    "\n",
    "\n",
    "\n",
    "for site, xpath_format in zip(list_sites, xpaths_format):\n",
    "    response = requests.get(site)\n",
    "\n",
    "    if response.status_code == 200:\n",
    "        # Создаем объект дерева HTML из содержимого ответа\n",
    "        tree = html.fromstring(response.text)\n",
    "        dict_info[site] = get_div(tree, xpath_format, div_mode=False)\n",
    "    else:\n",
    "        print(f'Ошибка статуса {response.status_code} для {sites}')"
   ]
  },
  {
   "cell_type": "code",
   "execution_count": null,
   "id": "ad349a6b",
   "metadata": {},
   "outputs": [],
   "source": []
  },
  {
   "cell_type": "code",
   "execution_count": null,
   "id": "c3192ddf",
   "metadata": {},
   "outputs": [],
   "source": []
  },
  {
   "cell_type": "code",
   "execution_count": null,
   "id": "115df802",
   "metadata": {},
   "outputs": [],
   "source": [
    "dict_info = {}\n",
    "\n",
    "list_sites    = ['https://victorymuseum.ru/playbill/']\n",
    "xpaths_tittle = [\"//a[@class='name']\"]\n",
    "\n",
    "\n",
    "xpath_format = [\"//div[@class='text']\"]\n",
    "\n",
    "\n",
    "\n",
    "\n",
    "for site, xpath_format in zip(list_sites, xpaths_format):\n",
    "    response = requests.get(site)\n",
    "\n",
    "    if response.status_code == 200:\n",
    "        # Создаем объект дерева HTML из содержимого ответа\n",
    "        tree = html.fromstring(response.text)\n",
    "        dict_info[site] = get_div(tree, xpath_format, div_mode=False)\n",
    "    else:\n",
    "        print(f'Ошибка статуса {response.status_code} для {sites}')"
   ]
  },
  {
   "cell_type": "code",
   "execution_count": null,
   "id": "e88b7f92",
   "metadata": {},
   "outputs": [],
   "source": [
    "dict_info[site]"
   ]
  },
  {
   "cell_type": "code",
   "execution_count": null,
   "id": "6a3140ca",
   "metadata": {},
   "outputs": [],
   "source": []
  },
  {
   "cell_type": "code",
   "execution_count": null,
   "id": "41bfb20f",
   "metadata": {},
   "outputs": [],
   "source": [
    "dict_info[site]"
   ]
  },
  {
   "cell_type": "code",
   "execution_count": null,
   "id": "5f5c71ef",
   "metadata": {},
   "outputs": [],
   "source": []
  },
  {
   "cell_type": "code",
   "execution_count": null,
   "id": "1b917a8e",
   "metadata": {},
   "outputs": [],
   "source": []
  },
  {
   "cell_type": "code",
   "execution_count": null,
   "id": "d0105511",
   "metadata": {},
   "outputs": [],
   "source": [
    "https://victorymuseum.ru/playbill/"
   ]
  },
  {
   "cell_type": "code",
   "execution_count": null,
   "id": "9fa6cdc1",
   "metadata": {},
   "outputs": [],
   "source": []
  },
  {
   "cell_type": "code",
   "execution_count": null,
   "id": "60ea677f",
   "metadata": {},
   "outputs": [],
   "source": []
  },
  {
   "cell_type": "code",
   "execution_count": null,
   "id": "0156cff7",
   "metadata": {},
   "outputs": [],
   "source": [
    ", div_mode=False"
   ]
  },
  {
   "cell_type": "code",
   "execution_count": null,
   "id": "d9818a21",
   "metadata": {},
   "outputs": [],
   "source": [
    "class=\"newsItem__description text\""
   ]
  },
  {
   "cell_type": "code",
   "execution_count": null,
   "id": "7e80da71",
   "metadata": {},
   "outputs": [],
   "source": []
  },
  {
   "cell_type": "code",
   "execution_count": null,
   "id": "09c80528",
   "metadata": {},
   "outputs": [],
   "source": [
    "dict_info"
   ]
  },
  {
   "cell_type": "code",
   "execution_count": null,
   "id": "62d55a93",
   "metadata": {},
   "outputs": [],
   "source": [
    "print(response.text)"
   ]
  },
  {
   "cell_type": "code",
   "execution_count": null,
   "id": "b74af3e5",
   "metadata": {},
   "outputs": [],
   "source": []
  },
  {
   "cell_type": "code",
   "execution_count": null,
   "id": "b0843c17",
   "metadata": {},
   "outputs": [],
   "source": [
    "tree = html.fromstring(response.text)"
   ]
  },
  {
   "cell_type": "code",
   "execution_count": null,
   "id": "af36c463",
   "metadata": {},
   "outputs": [],
   "source": [
    "tree"
   ]
  },
  {
   "cell_type": "code",
   "execution_count": null,
   "id": "f4d386a7",
   "metadata": {},
   "outputs": [],
   "source": []
  },
  {
   "cell_type": "code",
   "execution_count": null,
   "id": "edf7bfb6",
   "metadata": {},
   "outputs": [],
   "source": []
  },
  {
   "cell_type": "code",
   "execution_count": null,
   "id": "55c951b6",
   "metadata": {},
   "outputs": [],
   "source": [
    "dict_info"
   ]
  },
  {
   "cell_type": "code",
   "execution_count": null,
   "id": "8c0c02f1",
   "metadata": {},
   "outputs": [],
   "source": []
  },
  {
   "cell_type": "code",
   "execution_count": null,
   "id": "189f832e",
   "metadata": {},
   "outputs": [],
   "source": [
    "//span[@class=\"newsItem__title title title--small\"]"
   ]
  },
  {
   "cell_type": "code",
   "execution_count": null,
   "id": "5bf52d41",
   "metadata": {},
   "outputs": [],
   "source": []
  },
  {
   "cell_type": "code",
   "execution_count": null,
   "id": "e5503038",
   "metadata": {},
   "outputs": [],
   "source": []
  },
  {
   "cell_type": "code",
   "execution_count": null,
   "id": "623f6671",
   "metadata": {},
   "outputs": [],
   "source": []
  },
  {
   "cell_type": "code",
   "execution_count": null,
   "id": "5d1667f4",
   "metadata": {},
   "outputs": [],
   "source": [
    "selected_element[0]"
   ]
  },
  {
   "cell_type": "code",
   "execution_count": null,
   "id": "2048595c",
   "metadata": {},
   "outputs": [],
   "source": [
    "len(selected_element)"
   ]
  },
  {
   "cell_type": "code",
   "execution_count": null,
   "id": "034eabd8",
   "metadata": {},
   "outputs": [],
   "source": [
    "    \n",
    "\n",
    "\n",
    "    for div in selected_element:\n",
    "\n",
    "        # # Создаем временный элемент и копируем содержимое выбранного элемента\n",
    "        temp_element = html.Element(\"div\")\n",
    "        temp_element.extend(div)\n",
    "\n",
    "        # Получение HTML-разметки только для выбранного элемента\n",
    "        html_representation = html.tostring(temp_element, encoding='unicode', method='html')\n",
    "\n",
    "        list_divs.append(html_representation)\n",
    "    return list_divs"
   ]
  },
  {
   "cell_type": "code",
   "execution_count": null,
   "id": "991f0fd0",
   "metadata": {},
   "outputs": [],
   "source": []
  },
  {
   "cell_type": "code",
   "execution_count": null,
   "id": "3c0c2b82",
   "metadata": {},
   "outputs": [],
   "source": []
  },
  {
   "cell_type": "code",
   "execution_count": null,
   "id": "06e75ab9",
   "metadata": {},
   "outputs": [],
   "source": [
    "tree"
   ]
  },
  {
   "cell_type": "code",
   "execution_count": null,
   "id": "332334be",
   "metadata": {},
   "outputs": [],
   "source": [
    "xpath_format"
   ]
  },
  {
   "cell_type": "code",
   "execution_count": null,
   "id": "587a1bc4",
   "metadata": {},
   "outputs": [],
   "source": [
    "tree"
   ]
  },
  {
   "cell_type": "code",
   "execution_count": null,
   "id": "1ff1ff5e",
   "metadata": {},
   "outputs": [],
   "source": [
    "dict_info"
   ]
  },
  {
   "cell_type": "code",
   "execution_count": null,
   "id": "e50bdeca",
   "metadata": {},
   "outputs": [],
   "source": []
  },
  {
   "cell_type": "code",
   "execution_count": null,
   "id": "c2d7b220",
   "metadata": {},
   "outputs": [],
   "source": []
  },
  {
   "cell_type": "code",
   "execution_count": null,
   "id": "b300fdb6",
   "metadata": {},
   "outputs": [],
   "source": [
    "for site, xpath_format in zip(list_sites, xpaths_format):\n",
    "    response = requests.get(site)\n",
    "\n",
    "    if response.status_code == 200:\n",
    "        # Создаем объект дерева HTML из содержимого ответа\n",
    "        tree = html.fromstring(response.text)\n",
    "        print('ok')"
   ]
  },
  {
   "cell_type": "code",
   "execution_count": null,
   "id": "f8e13bab",
   "metadata": {},
   "outputs": [],
   "source": [
    "soup.find_all"
   ]
  },
  {
   "cell_type": "code",
   "execution_count": null,
   "id": "d22d4f84",
   "metadata": {},
   "outputs": [],
   "source": [
    "soup = BeautifulSoup(response.text, 'html.parser')\n",
    "\n",
    "# Найти первый элемент <p> с классом \"news-item\"\n",
    "first_news_item = soup.find_all('p', class_='news-item')\n",
    "\n",
    "# Вывести содержимое найденного элемента\n",
    "print(first_news_item)"
   ]
  },
  {
   "cell_type": "code",
   "execution_count": null,
   "id": "b4265465",
   "metadata": {},
   "outputs": [],
   "source": [
    "first_news_item[0]"
   ]
  },
  {
   "cell_type": "code",
   "execution_count": null,
   "id": "0fc35ee6",
   "metadata": {},
   "outputs": [],
   "source": [
    "first_news_item[1]"
   ]
  },
  {
   "cell_type": "code",
   "execution_count": null,
   "id": "be654cca",
   "metadata": {},
   "outputs": [],
   "source": [
    "first_news_item[2]"
   ]
  },
  {
   "cell_type": "code",
   "execution_count": null,
   "id": "d1fde8f2",
   "metadata": {},
   "outputs": [],
   "source": []
  },
  {
   "cell_type": "code",
   "execution_count": null,
   "id": "6be11340",
   "metadata": {},
   "outputs": [],
   "source": []
  },
  {
   "cell_type": "code",
   "execution_count": null,
   "id": "79a4bb79",
   "metadata": {},
   "outputs": [],
   "source": []
  },
  {
   "cell_type": "code",
   "execution_count": null,
   "id": "e4607d2e",
   "metadata": {},
   "outputs": [],
   "source": []
  },
  {
   "cell_type": "code",
   "execution_count": null,
   "id": "7f19ac71",
   "metadata": {},
   "outputs": [],
   "source": []
  },
  {
   "cell_type": "code",
   "execution_count": null,
   "id": "3111d2d2",
   "metadata": {},
   "outputs": [],
   "source": [
    "temp_element = html.Element(\"p\")"
   ]
  },
  {
   "cell_type": "code",
   "execution_count": null,
   "id": "7e36cf82",
   "metadata": {},
   "outputs": [],
   "source": [
    "temp_element.extend(temp_element)"
   ]
  },
  {
   "cell_type": "code",
   "execution_count": null,
   "id": "5568574b",
   "metadata": {},
   "outputs": [],
   "source": [
    "print(html.tostring(temp_element, encoding='unicode', method='html'))"
   ]
  },
  {
   "cell_type": "code",
   "execution_count": null,
   "id": "23b29622",
   "metadata": {},
   "outputs": [],
   "source": []
  },
  {
   "cell_type": "code",
   "execution_count": null,
   "id": "3cfcc6ce",
   "metadata": {},
   "outputs": [],
   "source": []
  },
  {
   "cell_type": "code",
   "execution_count": null,
   "id": "ae3ebf0c",
   "metadata": {},
   "outputs": [],
   "source": [
    "dict_info"
   ]
  },
  {
   "cell_type": "code",
   "execution_count": null,
   "id": "5289d6e8",
   "metadata": {},
   "outputs": [],
   "source": [
    "selected_element = "
   ]
  },
  {
   "cell_type": "code",
   "execution_count": null,
   "id": "5cfe3fc5",
   "metadata": {},
   "outputs": [],
   "source": [
    "selected_element[3].text_content()"
   ]
  },
  {
   "cell_type": "code",
   "execution_count": null,
   "id": "d5f0fbc1",
   "metadata": {},
   "outputs": [],
   "source": [
    "print(div)"
   ]
  },
  {
   "cell_type": "code",
   "execution_count": null,
   "id": "516f9003",
   "metadata": {},
   "outputs": [],
   "source": []
  },
  {
   "cell_type": "code",
   "execution_count": null,
   "id": "5676458e",
   "metadata": {},
   "outputs": [],
   "source": [
    "div = selected_element[0]\n",
    "\n",
    "temp_element = html.Element(\"a\")\n",
    "# temp_element.extend(elem)\n",
    "\n",
    "# # Получение HTML-разметки только для выбранного элемента\n",
    "# html_representation = html.tostring(temp_element, encoding='unicode', method='html')\n",
    "\n",
    "# print(html_representation)"
   ]
  },
  {
   "cell_type": "code",
   "execution_count": null,
   "id": "153fc7ce",
   "metadata": {},
   "outputs": [],
   "source": [
    "html_representation = html.tostring(temp_element, encoding='unicode', method='html')"
   ]
  },
  {
   "cell_type": "code",
   "execution_count": null,
   "id": "c2051f21",
   "metadata": {},
   "outputs": [],
   "source": [
    "html_representation"
   ]
  },
  {
   "cell_type": "code",
   "execution_count": null,
   "id": "75b4269a",
   "metadata": {},
   "outputs": [],
   "source": [
    "стоп"
   ]
  },
  {
   "cell_type": "code",
   "execution_count": null,
   "id": "32df7a8a",
   "metadata": {},
   "outputs": [],
   "source": []
  },
  {
   "cell_type": "markdown",
   "id": "1b70b59e",
   "metadata": {},
   "source": [
    "## Как можно парсить"
   ]
  },
  {
   "cell_type": "code",
   "execution_count": null,
   "id": "5d520c7c",
   "metadata": {},
   "outputs": [],
   "source": [
    "cnjg"
   ]
  },
  {
   "cell_type": "code",
   "execution_count": null,
   "id": "7fb548c1",
   "metadata": {
    "scrolled": true
   },
   "outputs": [],
   "source": [
    "# Парсинг HTML\n",
    "tree = html.fromstring(response.text)\n",
    "\n",
    "# Выбор элемента\n",
    "selected_element = tree.xpath(\"//div[@data-id='28']\")[0]\n",
    "\n",
    "# # Создаем временный элемент и копируем содержимое выбранного элемента\n",
    "temp_element = html.Element(\"div\")\n",
    "\n",
    "temp_element.extend(selected_element)\n",
    "\n",
    "# Получение HTML-разметки только для выбранного элемента\n",
    "html_representation = html.tostring(temp_element, encoding='unicode', method='html')\n",
    "\n",
    "print(html_representation)\n"
   ]
  },
  {
   "cell_type": "code",
   "execution_count": null,
   "id": "faffc98f",
   "metadata": {},
   "outputs": [],
   "source": []
  },
  {
   "cell_type": "code",
   "execution_count": null,
   "id": "9d031674",
   "metadata": {},
   "outputs": [],
   "source": []
  },
  {
   "cell_type": "code",
   "execution_count": null,
   "id": "0bef35f7",
   "metadata": {},
   "outputs": [],
   "source": [
    "# Парсинг HTML\n",
    "tree = html.fromstring(response.text)\n",
    "\n",
    "# Выбор элемента\n",
    "selected_element = tree.xpath(\"//div[@data-id='28']\")[0]\n",
    "\n",
    "# # Создаем временный элемент и копируем содержимое выбранного элемента\n",
    "temp_element = html.Element(\"div\")\n",
    "temp_element.extend(selected_element)\n",
    "\n",
    "# Получение HTML-разметки только для выбранного элемента\n",
    "html_representation = html.tostring(temp_element, encoding='unicode', method='html')\n",
    "\n",
    "print(html_representation)"
   ]
  },
  {
   "cell_type": "code",
   "execution_count": null,
   "id": "5f0ca5e0",
   "metadata": {},
   "outputs": [],
   "source": []
  },
  {
   "cell_type": "code",
   "execution_count": null,
   "id": "ce3b3a71",
   "metadata": {},
   "outputs": [],
   "source": []
  },
  {
   "cell_type": "code",
   "execution_count": null,
   "id": "b7fc183c",
   "metadata": {},
   "outputs": [],
   "source": []
  },
  {
   "cell_type": "code",
   "execution_count": null,
   "id": "a14cd06e",
   "metadata": {},
   "outputs": [],
   "source": []
  },
  {
   "cell_type": "code",
   "execution_count": null,
   "id": "bc706a8f",
   "metadata": {},
   "outputs": [],
   "source": []
  },
  {
   "cell_type": "code",
   "execution_count": null,
   "id": "931cd28f",
   "metadata": {},
   "outputs": [],
   "source": []
  },
  {
   "cell_type": "code",
   "execution_count": null,
   "id": "c9bca8dd",
   "metadata": {},
   "outputs": [],
   "source": []
  },
  {
   "cell_type": "code",
   "execution_count": 3,
   "id": "ffecd2c6",
   "metadata": {},
   "outputs": [],
   "source": [
    "import pandas as pd"
   ]
  },
  {
   "cell_type": "code",
   "execution_count": 10,
   "id": "1ae02b5c",
   "metadata": {},
   "outputs": [],
   "source": [
    "letters_list = ['A', 'B', 'C', 'A', 'A']\n",
    "\n",
    "def key_dict(letters_list:list):\n",
    "    df = pd.DataFrame(letters_list)\n",
    "    return df['0'].value-counts().to_dict()['0']\n",
    "    "
   ]
  },
  {
   "cell_type": "code",
   "execution_count": 11,
   "id": "fd3cf4b0",
   "metadata": {},
   "outputs": [],
   "source": [
    "df = pd.DataFrame(letters_list)"
   ]
  },
  {
   "cell_type": "code",
   "execution_count": 16,
   "id": "cd5545ce",
   "metadata": {},
   "outputs": [
    {
     "data": {
      "text/plain": [
       "{'A': 3, 'B': 1, 'C': 1}"
      ]
     },
     "execution_count": 16,
     "metadata": {},
     "output_type": "execute_result"
    }
   ],
   "source": [
    "df[0].value_counts().to_dict()"
   ]
  },
  {
   "cell_type": "code",
   "execution_count": 12,
   "id": "6fe048a7",
   "metadata": {},
   "outputs": [
    {
     "data": {
      "text/html": [
       "<div>\n",
       "<style scoped>\n",
       "    .dataframe tbody tr th:only-of-type {\n",
       "        vertical-align: middle;\n",
       "    }\n",
       "\n",
       "    .dataframe tbody tr th {\n",
       "        vertical-align: top;\n",
       "    }\n",
       "\n",
       "    .dataframe thead th {\n",
       "        text-align: right;\n",
       "    }\n",
       "</style>\n",
       "<table border=\"1\" class=\"dataframe\">\n",
       "  <thead>\n",
       "    <tr style=\"text-align: right;\">\n",
       "      <th></th>\n",
       "      <th>0</th>\n",
       "    </tr>\n",
       "  </thead>\n",
       "  <tbody>\n",
       "    <tr>\n",
       "      <th>0</th>\n",
       "      <td>A</td>\n",
       "    </tr>\n",
       "    <tr>\n",
       "      <th>1</th>\n",
       "      <td>B</td>\n",
       "    </tr>\n",
       "    <tr>\n",
       "      <th>2</th>\n",
       "      <td>C</td>\n",
       "    </tr>\n",
       "    <tr>\n",
       "      <th>3</th>\n",
       "      <td>A</td>\n",
       "    </tr>\n",
       "    <tr>\n",
       "      <th>4</th>\n",
       "      <td>A</td>\n",
       "    </tr>\n",
       "  </tbody>\n",
       "</table>\n",
       "</div>"
      ],
      "text/plain": [
       "   0\n",
       "0  A\n",
       "1  B\n",
       "2  C\n",
       "3  A\n",
       "4  A"
      ]
     },
     "execution_count": 12,
     "metadata": {},
     "output_type": "execute_result"
    }
   ],
   "source": [
    "df"
   ]
  },
  {
   "cell_type": "code",
   "execution_count": 22,
   "id": "9790d2fd",
   "metadata": {},
   "outputs": [],
   "source": [
    "d = {}"
   ]
  },
  {
   "cell_type": "code",
   "execution_count": 23,
   "id": "726edbaf",
   "metadata": {},
   "outputs": [],
   "source": [
    "for alpa in set(letters_list):\n",
    "    d[alpa] = letters_list.count(alpa)"
   ]
  },
  {
   "cell_type": "code",
   "execution_count": 24,
   "id": "04ff896f",
   "metadata": {},
   "outputs": [
    {
     "data": {
      "text/plain": [
       "{'B': 1, 'C': 1, 'A': 3}"
      ]
     },
     "execution_count": 24,
     "metadata": {},
     "output_type": "execute_result"
    }
   ],
   "source": [
    "d"
   ]
  },
  {
   "cell_type": "code",
   "execution_count": 20,
   "id": "b1ffe7f7",
   "metadata": {},
   "outputs": [
    {
     "data": {
      "text/plain": [
       "3"
      ]
     },
     "execution_count": 20,
     "metadata": {},
     "output_type": "execute_result"
    }
   ],
   "source": []
  },
  {
   "cell_type": "code",
   "execution_count": 21,
   "id": "359be36c",
   "metadata": {},
   "outputs": [
    {
     "data": {
      "text/plain": [
       "'A'"
      ]
     },
     "execution_count": 21,
     "metadata": {},
     "output_type": "execute_result"
    }
   ],
   "source": [
    "alpa"
   ]
  },
  {
   "cell_type": "code",
   "execution_count": null,
   "id": "29652ac3",
   "metadata": {},
   "outputs": [],
   "source": []
  },
  {
   "cell_type": "code",
   "execution_count": null,
   "id": "31256f33",
   "metadata": {},
   "outputs": [],
   "source": []
  },
  {
   "cell_type": "code",
   "execution_count": null,
   "id": "14a0926a",
   "metadata": {},
   "outputs": [],
   "source": []
  },
  {
   "cell_type": "code",
   "execution_count": null,
   "id": "28ee317e",
   "metadata": {},
   "outputs": [],
   "source": []
  },
  {
   "cell_type": "code",
   "execution_count": null,
   "id": "437f33a2",
   "metadata": {},
   "outputs": [],
   "source": []
  },
  {
   "cell_type": "code",
   "execution_count": null,
   "id": "9b8d84c2",
   "metadata": {},
   "outputs": [],
   "source": [
    "bb"
   ]
  },
  {
   "cell_type": "code",
   "execution_count": null,
   "id": "225c6b68",
   "metadata": {},
   "outputs": [],
   "source": []
  },
  {
   "cell_type": "code",
   "execution_count": null,
   "id": "fce1bb45",
   "metadata": {},
   "outputs": [],
   "source": []
  },
  {
   "cell_type": "code",
   "execution_count": null,
   "id": "e66f7af1",
   "metadata": {},
   "outputs": [],
   "source": []
  },
  {
   "cell_type": "code",
   "execution_count": null,
   "id": "449830b0",
   "metadata": {},
   "outputs": [],
   "source": []
  },
  {
   "cell_type": "code",
   "execution_count": null,
   "id": "b3ad2da6",
   "metadata": {},
   "outputs": [],
   "source": []
  },
  {
   "cell_type": "code",
   "execution_count": 5,
   "id": "ce42ed79",
   "metadata": {},
   "outputs": [
    {
     "ename": "KeyError",
     "evalue": "'0'",
     "output_type": "error",
     "traceback": [
      "\u001b[1;31m---------------------------------------------------------------------------\u001b[0m",
      "\u001b[1;31mKeyError\u001b[0m                                  Traceback (most recent call last)",
      "Cell \u001b[1;32mIn[5], line 1\u001b[0m\n\u001b[1;32m----> 1\u001b[0m key_dict(letters_list)\n",
      "Cell \u001b[1;32mIn[4], line 5\u001b[0m, in \u001b[0;36mkey_dict\u001b[1;34m(letters_list)\u001b[0m\n\u001b[0;32m      3\u001b[0m \u001b[38;5;28;01mdef\u001b[39;00m \u001b[38;5;21mkey_dict\u001b[39m(letters_list:\u001b[38;5;28mlist\u001b[39m):\n\u001b[0;32m      4\u001b[0m     df \u001b[38;5;241m=\u001b[39m pd\u001b[38;5;241m.\u001b[39mDataFrame([letters_list])\n\u001b[1;32m----> 5\u001b[0m     \u001b[38;5;28;01mreturn\u001b[39;00m df[\u001b[38;5;124m'\u001b[39m\u001b[38;5;124m0\u001b[39m\u001b[38;5;124m'\u001b[39m]\u001b[38;5;241m.\u001b[39mvalue\u001b[38;5;241m-\u001b[39mcounts()\u001b[38;5;241m.\u001b[39mto_dict()[\u001b[38;5;124m'\u001b[39m\u001b[38;5;124m0\u001b[39m\u001b[38;5;124m'\u001b[39m]\n",
      "File \u001b[1;32m~\\anaconda3\\Lib\\site-packages\\pandas\\core\\frame.py:3761\u001b[0m, in \u001b[0;36mDataFrame.__getitem__\u001b[1;34m(self, key)\u001b[0m\n\u001b[0;32m   3759\u001b[0m \u001b[38;5;28;01mif\u001b[39;00m \u001b[38;5;28mself\u001b[39m\u001b[38;5;241m.\u001b[39mcolumns\u001b[38;5;241m.\u001b[39mnlevels \u001b[38;5;241m>\u001b[39m \u001b[38;5;241m1\u001b[39m:\n\u001b[0;32m   3760\u001b[0m     \u001b[38;5;28;01mreturn\u001b[39;00m \u001b[38;5;28mself\u001b[39m\u001b[38;5;241m.\u001b[39m_getitem_multilevel(key)\n\u001b[1;32m-> 3761\u001b[0m indexer \u001b[38;5;241m=\u001b[39m \u001b[38;5;28mself\u001b[39m\u001b[38;5;241m.\u001b[39mcolumns\u001b[38;5;241m.\u001b[39mget_loc(key)\n\u001b[0;32m   3762\u001b[0m \u001b[38;5;28;01mif\u001b[39;00m is_integer(indexer):\n\u001b[0;32m   3763\u001b[0m     indexer \u001b[38;5;241m=\u001b[39m [indexer]\n",
      "File \u001b[1;32m~\\anaconda3\\Lib\\site-packages\\pandas\\core\\indexes\\range.py:349\u001b[0m, in \u001b[0;36mRangeIndex.get_loc\u001b[1;34m(self, key)\u001b[0m\n\u001b[0;32m    347\u001b[0m         \u001b[38;5;28;01mraise\u001b[39;00m \u001b[38;5;167;01mKeyError\u001b[39;00m(key) \u001b[38;5;28;01mfrom\u001b[39;00m \u001b[38;5;21;01merr\u001b[39;00m\n\u001b[0;32m    348\u001b[0m \u001b[38;5;28;01mif\u001b[39;00m \u001b[38;5;28misinstance\u001b[39m(key, Hashable):\n\u001b[1;32m--> 349\u001b[0m     \u001b[38;5;28;01mraise\u001b[39;00m \u001b[38;5;167;01mKeyError\u001b[39;00m(key)\n\u001b[0;32m    350\u001b[0m \u001b[38;5;28mself\u001b[39m\u001b[38;5;241m.\u001b[39m_check_indexing_error(key)\n\u001b[0;32m    351\u001b[0m \u001b[38;5;28;01mraise\u001b[39;00m \u001b[38;5;167;01mKeyError\u001b[39;00m(key)\n",
      "\u001b[1;31mKeyError\u001b[0m: '0'"
     ]
    }
   ],
   "source": [
    "key_dict(letters_list)"
   ]
  },
  {
   "cell_type": "code",
   "execution_count": null,
   "id": "85e2bae3",
   "metadata": {},
   "outputs": [],
   "source": []
  },
  {
   "cell_type": "code",
   "execution_count": null,
   "id": "4c3417a2",
   "metadata": {},
   "outputs": [],
   "source": []
  }
 ],
 "metadata": {
  "kernelspec": {
   "display_name": "Python 3 (ipykernel)",
   "language": "python",
   "name": "python3"
  },
  "language_info": {
   "codemirror_mode": {
    "name": "ipython",
    "version": 3
   },
   "file_extension": ".py",
   "mimetype": "text/x-python",
   "name": "python",
   "nbconvert_exporter": "python",
   "pygments_lexer": "ipython3",
   "version": "3.11.5"
  },
  "toc": {
   "base_numbering": 1,
   "nav_menu": {},
   "number_sections": true,
   "sideBar": true,
   "skip_h1_title": false,
   "title_cell": "Table of Contents",
   "title_sidebar": "Contents",
   "toc_cell": false,
   "toc_position": {},
   "toc_section_display": true,
   "toc_window_display": true
  },
  "varInspector": {
   "cols": {
    "lenName": 16,
    "lenType": 16,
    "lenVar": 40
   },
   "kernels_config": {
    "python": {
     "delete_cmd_postfix": "",
     "delete_cmd_prefix": "del ",
     "library": "var_list.py",
     "varRefreshCmd": "print(var_dic_list())"
    },
    "r": {
     "delete_cmd_postfix": ") ",
     "delete_cmd_prefix": "rm(",
     "library": "var_list.r",
     "varRefreshCmd": "cat(var_dic_list()) "
    }
   },
   "types_to_exclude": [
    "module",
    "function",
    "builtin_function_or_method",
    "instance",
    "_Feature"
   ],
   "window_display": false
  }
 },
 "nbformat": 4,
 "nbformat_minor": 5
}
