{
 "cells": [
  {
   "cell_type": "code",
   "execution_count": 1,
   "id": "b67466bc",
   "metadata": {
    "ExecuteTime": {
     "end_time": "2023-11-06T18:25:10.973650700Z",
     "start_time": "2023-11-06T18:25:10.321487100Z"
    }
   },
   "outputs": [],
   "source": [
    "import requests\n",
    "from bs4 import BeautifulSoup\n",
    "from lxml import etree\n",
    "\n",
    "import requests\n",
    "from lxml import html\n"
   ]
  },
  {
   "cell_type": "markdown",
   "id": "1e2ceb76",
   "metadata": {},
   "source": [
    "## Функции"
   ]
  },
  {
   "cell_type": "code",
   "execution_count": 6,
   "id": "878c1a30",
   "metadata": {},
   "outputs": [],
   "source": [
    "def get_div(tree, xpath_format, div_mode=True):\n",
    "    list_divs = []\n",
    "    \n",
    "    \n",
    "#     tree = html.fromstring(response)\n",
    "\n",
    "\n",
    "    # Выбор элемента\n",
    "    selected_element = tree.xpath(xpath_format)\n",
    "\n",
    "\n",
    "    for div in selected_element:\n",
    "        \n",
    "        if div_mode:\n",
    "            # # Создаем временный элемент и копируем содержимое выбранного элемента\n",
    "            temp_element = html.Element(\"div\")\n",
    "            temp_element.extend(div)\n",
    "        else:\n",
    "            temp_element = div\n",
    "            \n",
    "\n",
    "        # Получение HTML-разметки только для выбранного элемента\n",
    "        html_representation = html.tostring(temp_element, encoding='unicode', method='html')\n",
    "\n",
    "        list_divs.append(html_representation)\n",
    "    return list_divs\n"
   ]
  },
  {
   "cell_type": "markdown",
   "id": "39cd3fe6",
   "metadata": {},
   "source": [
    "# Main"
   ]
  },
  {
   "cell_type": "markdown",
   "id": "ceaa2b39",
   "metadata": {},
   "source": [
    "## div = True"
   ]
  },
  {
   "cell_type": "code",
   "execution_count": 10,
   "id": "58ff6605",
   "metadata": {},
   "outputs": [],
   "source": [
    "dict_info = {}\n",
    "\n",
    "list_sites    = ['https://victorymuseum.ru/playbill/', 'https://stalingrad-battle.ru/about/m-news/', \n",
    "                 'https://blokadamus.ru/музей-обороны-и-блокады-ленинграда/события/']\n",
    "\n",
    "xpaths_format = [\"//div[@data-id='28']\", '//*[@class=\"item\"]', '//*[@class=\"elementor-post__card\"]', ]\n",
    "\n",
    "for site, xpath_format in zip(list_sites, xpaths_format):\n",
    "    response = requests.get(site)\n",
    "\n",
    "    if response.status_code == 200:\n",
    "        # Создаем объект дерева HTML из содержимого ответа\n",
    "        tree = html.fromstring(response.text)\n",
    "        dict_info[site] = get_div(tree, xpath_format)\n",
    "    else:\n",
    "        print(f'Ошибка статуса {response.status_code} для {sites}')"
   ]
  },
  {
   "cell_type": "markdown",
   "id": "d0242c74",
   "metadata": {},
   "source": [
    "## div = False"
   ]
  },
  {
   "cell_type": "code",
   "execution_count": 7,
   "id": "c02f06ce",
   "metadata": {},
   "outputs": [],
   "source": [
    "dict_info = {}\n",
    "\n",
    "list_sites    = ['http://www.cmaf.ru/']\n",
    "\n",
    "\n",
    "xpaths_format = ['//div[@class=\"news-list\"]//a[@style=\"font-size: 15px; font-weight: bold; margin: 0;\"]']\n",
    "for site, xpath_format in zip(list_sites, xpaths_format):\n",
    "    response = requests.get(site)\n",
    "\n",
    "    if response.status_code == 200:\n",
    "        # Создаем объект дерева HTML из содержимого ответа\n",
    "        tree = html.fromstring(response.text)\n",
    "        dict_info[site] = get_div(tree, xpath_format, div_mode=False)\n",
    "    else:\n",
    "        print(f'Ошибка статуса {response.status_code} для {sites}')"
   ]
  },
  {
   "cell_type": "code",
   "execution_count": null,
   "id": "5b22e329",
   "metadata": {},
   "outputs": [],
   "source": []
  },
  {
   "cell_type": "code",
   "execution_count": null,
   "id": "ba3e65f8",
   "metadata": {},
   "outputs": [],
   "source": []
  },
  {
   "cell_type": "code",
   "execution_count": null,
   "id": "998724bd",
   "metadata": {},
   "outputs": [],
   "source": []
  },
  {
   "cell_type": "code",
   "execution_count": null,
   "id": "93d37da4",
   "metadata": {},
   "outputs": [],
   "source": []
  },
  {
   "cell_type": "code",
   "execution_count": null,
   "id": "76b2098b",
   "metadata": {},
   "outputs": [],
   "source": []
  },
  {
   "cell_type": "code",
   "execution_count": 49,
   "id": "c6f589d8",
   "metadata": {},
   "outputs": [
    {
     "data": {
      "text/plain": [
       "<Element p at 0x1fc460d77f0>"
      ]
     },
     "execution_count": 49,
     "metadata": {},
     "output_type": "execute_result"
    }
   ],
   "source": [
    "selected_element[0]"
   ]
  },
  {
   "cell_type": "code",
   "execution_count": 43,
   "id": "a5ed7a75",
   "metadata": {},
   "outputs": [
    {
     "data": {
      "text/plain": [
       "8"
      ]
     },
     "execution_count": 43,
     "metadata": {},
     "output_type": "execute_result"
    }
   ],
   "source": [
    "len(selected_element)"
   ]
  },
  {
   "cell_type": "code",
   "execution_count": null,
   "id": "23bc5b48",
   "metadata": {},
   "outputs": [],
   "source": [
    "    \n",
    "\n",
    "\n",
    "    for div in selected_element:\n",
    "\n",
    "        # # Создаем временный элемент и копируем содержимое выбранного элемента\n",
    "        temp_element = html.Element(\"div\")\n",
    "        temp_element.extend(div)\n",
    "\n",
    "        # Получение HTML-разметки только для выбранного элемента\n",
    "        html_representation = html.tostring(temp_element, encoding='unicode', method='html')\n",
    "\n",
    "        list_divs.append(html_representation)\n",
    "    return list_divs"
   ]
  },
  {
   "cell_type": "code",
   "execution_count": null,
   "id": "729da22e",
   "metadata": {},
   "outputs": [],
   "source": []
  },
  {
   "cell_type": "code",
   "execution_count": null,
   "id": "eeda0a4c",
   "metadata": {},
   "outputs": [],
   "source": []
  },
  {
   "cell_type": "code",
   "execution_count": 40,
   "id": "287b0716",
   "metadata": {},
   "outputs": [
    {
     "data": {
      "text/plain": [
       "<Element html at 0x1fc45a46a30>"
      ]
     },
     "execution_count": 40,
     "metadata": {},
     "output_type": "execute_result"
    }
   ],
   "source": [
    "tree"
   ]
  },
  {
   "cell_type": "code",
   "execution_count": 39,
   "id": "31b99726",
   "metadata": {},
   "outputs": [
    {
     "data": {
      "text/plain": [
       "'//div[@class=\"news-list\"]//p[@class=\"news-item\"]'"
      ]
     },
     "execution_count": 39,
     "metadata": {},
     "output_type": "execute_result"
    }
   ],
   "source": [
    "xpath_format"
   ]
  },
  {
   "cell_type": "code",
   "execution_count": 18,
   "id": "23c9adf7",
   "metadata": {},
   "outputs": [
    {
     "data": {
      "text/plain": [
       "<Element html at 0x1fc45a47160>"
      ]
     },
     "execution_count": 18,
     "metadata": {},
     "output_type": "execute_result"
    }
   ],
   "source": [
    "tree"
   ]
  },
  {
   "cell_type": "code",
   "execution_count": 16,
   "id": "03617311",
   "metadata": {},
   "outputs": [
    {
     "data": {
      "text/plain": [
       "{'http://www.cmaf.ru/': ['<div></div>',\n",
       "  '<div></div>',\n",
       "  '<div></div>',\n",
       "  '<div></div>',\n",
       "  '<div></div>',\n",
       "  '<div></div>',\n",
       "  '<div></div>',\n",
       "  '<div></div>']}"
      ]
     },
     "execution_count": 16,
     "metadata": {},
     "output_type": "execute_result"
    }
   ],
   "source": [
    "dict_info"
   ]
  },
  {
   "cell_type": "code",
   "execution_count": null,
   "id": "a68b6be3",
   "metadata": {},
   "outputs": [],
   "source": []
  },
  {
   "cell_type": "code",
   "execution_count": null,
   "id": "a60d2acb",
   "metadata": {},
   "outputs": [],
   "source": []
  },
  {
   "cell_type": "code",
   "execution_count": 154,
   "id": "b300fdb6",
   "metadata": {},
   "outputs": [
    {
     "name": "stdout",
     "output_type": "stream",
     "text": [
      "ok\n"
     ]
    }
   ],
   "source": [
    "for site, xpath_format in zip(list_sites, xpaths_format):\n",
    "    response = requests.get(site)\n",
    "\n",
    "    if response.status_code == 200:\n",
    "        # Создаем объект дерева HTML из содержимого ответа\n",
    "        tree = html.fromstring(response.text)\n",
    "        print('ok')"
   ]
  },
  {
   "cell_type": "code",
   "execution_count": null,
   "id": "83b65cf8",
   "metadata": {},
   "outputs": [],
   "source": [
    "soup.find_all"
   ]
  },
  {
   "cell_type": "code",
   "execution_count": 7,
   "id": "d22d4f84",
   "metadata": {},
   "outputs": [
    {
     "name": "stdout",
     "output_type": "stream",
     "text": [
      "[<p class=\"news-item\">\n",
      "<tr id=\"bx_3218110189_3942\">\n",
      "<span class=\"news-date-time\">21 Ноября 2023</span>\n",
      "<a href=\"/news/news-3942/\" style=\"font-size: 12px; font-weight: bold; margin: 0;\">Внимание! Изменения в работе музея 22 ноября</a>\n",
      "</tr></p>, <p class=\"news-item\">\n",
      "<tr id=\"bx_3218110189_3931\">\n",
      "<span class=\"news-date-time\">31 Октября 2023</span>\n",
      "<a href=\"/news/news-3931/\" style=\"font-size: 12px; font-weight: bold; margin: 0;\">Режим работы музея 4-6 ноября</a>\n",
      "</tr></p>, <p class=\"news-item\">\n",
      "<tr id=\"bx_651765591_3946\">\n",
      "<a href=\"/news/news-3946/\" style=\"font-size: 15px; font-weight: bold; margin: 0;\">А ты записался на Военно-патриотический диктант?</a>\n",
      "<p style=\"margin: 0;\"><p>\r\n",
      "\t 28 ноября 2023 г. в 10:00 по московскому времени состоится II ежегодная Всероссийская просветительская акция «Военно-патриотический диктант» – тестирование, которое может быть проведено как очно, так и дистанционно. Принять участие в Диктанте могут жители России, владеющие русским языком в возрасте от 14 лет, независимо от образования, социальной принадлежности, вероисповедания и гражданства. За один час предстоит ответить на 50 вопросов по военной истории России.\r\n",
      "</p>\n",
      "<table border=\"0\" width=\"100%\">\n",
      "<tr>\n",
      "<td align=\"left\">\n",
      "<span class=\"news-date-time\">24 Ноября 2023</span>\n",
      "</td>\n",
      "<td align=\"right\"><a href=\"/news/news-3946/\" style=\"font-size: 11px; font-weight: bold; margin: 0; color: #006699;\">подробнее &gt;&gt;</a></td>\n",
      "</tr>\n",
      "</table>\n",
      "<br/>\n",
      "</p>\n",
      "</tr></p>, <p class=\"news-item\">\n",
      "<tr id=\"bx_651765591_3945\">\n",
      "<a href=\"/news/news-3945/\" style=\"font-size: 15px; font-weight: bold; margin: 0;\">«Золотой сокол» принес удачу</a>\n",
      "<p style=\"margin: 0;\"><p>\r\n",
      "\t 23 ноября ЦМВС РФ стал дипломантом Всеармейского конкурса на лучшие результаты культурно-досуговой работы военных учреждений культуры Российской Федерации «Золотой сокол - 2023». Церемония награждения проходила в Центральном Доме Российской Армии. Жюри конкурса отметило методическую разработку для проведения интерактивной экскурсии «Автомат и лопата - друзья солдата». Авторы - начальник научно-просветительного отдела Л.А. Каминская и научный сотрудник отдела И.А. Модин. Поздравляем!\r\n",
      "</p>\n",
      "<table border=\"0\" width=\"100%\">\n",
      "<tr>\n",
      "<td align=\"left\">\n",
      "<span class=\"news-date-time\">24 Ноября 2023</span>\n",
      "</td>\n",
      "<td align=\"right\"><a href=\"/news/news-3945/\" style=\"font-size: 11px; font-weight: bold; margin: 0; color: #006699;\">подробнее &gt;&gt;</a></td>\n",
      "</tr>\n",
      "</table>\n",
      "<br/>\n",
      "</p>\n",
      "</tr></p>, <p class=\"news-item\">\n",
      "<tr id=\"bx_651765591_3944\">\n",
      "<a href=\"/news/news-3944/\" style=\"font-size: 15px; font-weight: bold; margin: 0;\">26 ноября покажем документальное кино о контрнаступлении под Москвой</a>\n",
      "<p style=\"margin: 0;\"><p>В это воскресенье, 26 ноября, в музее пройдет традиционный показ документального сериала\r\n",
      " «Фронтовая Москва. История Победы» (2011 г., 12+). Новые эпизоды расскажут о переломном\r\n",
      " этапе Московской битвы. Как рождался план советского контрнаступления? Как отреагировали\r\n",
      " немцы на неожиданный удар? Как проходила судьбоносная операция? Перед вами лишь самый\r\n",
      " малый перечень вопросов, на которые получат ответ зрители.</p>\n",
      "<table border=\"0\" width=\"100%\">\n",
      "<tr>\n",
      "<td align=\"left\">\n",
      "<span class=\"news-date-time\">24 Ноября 2023</span>\n",
      "</td>\n",
      "<td align=\"right\"><a href=\"/news/news-3944/\" style=\"font-size: 11px; font-weight: bold; margin: 0; color: #006699;\">подробнее &gt;&gt;</a></td>\n",
      "</tr>\n",
      "</table>\n",
      "<br/>\n",
      "</p>\n",
      "</tr></p>, <p class=\"news-item\">\n",
      "<tr id=\"bx_651765591_3943\">\n",
      "<a href=\"/news/news-3943/\" style=\"font-size: 15px; font-weight: bold; margin: 0;\">Культура Республики Тыва на улице Советской Армии и площади Суворова</a>\n",
      "<p style=\"margin: 0;\"><p>\r\n",
      "\t 22 ноября музей присоединился к программе Дней культуры Республики Тыва в Москве. В зале музейной педагогики состоялись показы тувинских фильмов-участников Фестиваля военного и патриотического кино.⁠\r\n",
      "</p>\n",
      "<table border=\"0\" width=\"100%\">\n",
      "<tr>\n",
      "<td align=\"left\">\n",
      "<span class=\"news-date-time\">22 Ноября 2023</span>\n",
      "</td>\n",
      "<td align=\"right\"><a href=\"/news/news-3943/\" style=\"font-size: 11px; font-weight: bold; margin: 0; color: #006699;\">подробнее &gt;&gt;</a></td>\n",
      "</tr>\n",
      "</table>\n",
      "<br/>\n",
      "</p>\n",
      "</tr></p>, <p class=\"news-item\">\n",
      "<tr id=\"bx_651765591_3942\">\n",
      "<a href=\"/news/news-3942/\" style=\"font-size: 15px; font-weight: bold; margin: 0;\">Внимание! Изменения в работе музея 22 ноября</a>\n",
      "<p style=\"margin: 0;\"><p>Уважаемые посетители! В эту среду по техническим причинам музей работает с 13:00 часов.</p>\n",
      "<table border=\"0\" width=\"100%\">\n",
      "<tr>\n",
      "<td align=\"left\">\n",
      "<span class=\"news-date-time\">21 Ноября 2023</span>\n",
      "</td>\n",
      "<td align=\"right\"><a href=\"/news/news-3942/\" style=\"font-size: 11px; font-weight: bold; margin: 0; color: #006699;\">подробнее &gt;&gt;</a></td>\n",
      "</tr>\n",
      "</table>\n",
      "<br/>\n",
      "</p>\n",
      "</tr></p>, <p class=\"news-item\">\n",
      "<tr id=\"bx_651765591_3941\">\n",
      "<a href=\"/news/news-3941/\" style=\"font-size: 15px; font-weight: bold; margin: 0;\">Более 200 человек приняли участие в Географическом диктанте на площадках ЦМВС РФ и его филиалов </a>\n",
      "<p style=\"margin: 0;\"><p>\r\n",
      "\t 19 ноября наша музейная семья принимала участников ежегодной международной акции «Географический диктант». В этот раз кроме ЦМВС РФ площадками проекта выступили Центральный музей Военно-Воздушных Сил, Музей истории ВДВ и Музей Ракетных войск стратегического назначения. Всего на наших площадках Диктант написали 225 человек. Для участников проекта вход в ЦМВС РФ был бесплатным.\r\n",
      "</p>\n",
      "<table border=\"0\" width=\"100%\">\n",
      "<tr>\n",
      "<td align=\"left\">\n",
      "<span class=\"news-date-time\">20 Ноября 2023</span>\n",
      "</td>\n",
      "<td align=\"right\"><a href=\"/news/news-3941/\" style=\"font-size: 11px; font-weight: bold; margin: 0; color: #006699;\">подробнее &gt;&gt;</a></td>\n",
      "</tr>\n",
      "</table>\n",
      "<br/>\n",
      "</p>\n",
      "</tr></p>]\n"
     ]
    }
   ],
   "source": [
    "soup = BeautifulSoup(response.text, 'html.parser')\n",
    "\n",
    "# Найти первый элемент <p> с классом \"news-item\"\n",
    "first_news_item = soup.find_all('p', class_='news-item')\n",
    "\n",
    "# Вывести содержимое найденного элемента\n",
    "print(first_news_item)"
   ]
  },
  {
   "cell_type": "code",
   "execution_count": 10,
   "id": "8c20b434",
   "metadata": {},
   "outputs": [
    {
     "data": {
      "text/plain": [
       "<p class=\"news-item\">\n",
       "<tr id=\"bx_3218110189_3942\">\n",
       "<span class=\"news-date-time\">21 Ноября 2023</span>\n",
       "<a href=\"/news/news-3942/\" style=\"font-size: 12px; font-weight: bold; margin: 0;\">Внимание! Изменения в работе музея 22 ноября</a>\n",
       "</tr></p>"
      ]
     },
     "execution_count": 10,
     "metadata": {},
     "output_type": "execute_result"
    }
   ],
   "source": [
    "first_news_item[0]"
   ]
  },
  {
   "cell_type": "code",
   "execution_count": 11,
   "id": "34a2c1d3",
   "metadata": {},
   "outputs": [
    {
     "data": {
      "text/plain": [
       "<p class=\"news-item\">\n",
       "<tr id=\"bx_3218110189_3931\">\n",
       "<span class=\"news-date-time\">31 Октября 2023</span>\n",
       "<a href=\"/news/news-3931/\" style=\"font-size: 12px; font-weight: bold; margin: 0;\">Режим работы музея 4-6 ноября</a>\n",
       "</tr></p>"
      ]
     },
     "execution_count": 11,
     "metadata": {},
     "output_type": "execute_result"
    }
   ],
   "source": [
    "first_news_item[1]"
   ]
  },
  {
   "cell_type": "code",
   "execution_count": 12,
   "id": "115dd061",
   "metadata": {},
   "outputs": [
    {
     "data": {
      "text/plain": [
       "<p class=\"news-item\">\n",
       "<tr id=\"bx_651765591_3946\">\n",
       "<a href=\"/news/news-3946/\" style=\"font-size: 15px; font-weight: bold; margin: 0;\">А ты записался на Военно-патриотический диктант?</a>\n",
       "<p style=\"margin: 0;\"><p>\n",
       "\t 28 ноября 2023 г. в 10:00 по московскому времени состоится II ежегодная Всероссийская просветительская акция «Военно-патриотический диктант» – тестирование, которое может быть проведено как очно, так и дистанционно. Принять участие в Диктанте могут жители России, владеющие русским языком в возрасте от 14 лет, независимо от образования, социальной принадлежности, вероисповедания и гражданства. За один час предстоит ответить на 50 вопросов по военной истории России.\n",
       "</p>\n",
       "<table border=\"0\" width=\"100%\">\n",
       "<tr>\n",
       "<td align=\"left\">\n",
       "<span class=\"news-date-time\">24 Ноября 2023</span>\n",
       "</td>\n",
       "<td align=\"right\"><a href=\"/news/news-3946/\" style=\"font-size: 11px; font-weight: bold; margin: 0; color: #006699;\">подробнее &gt;&gt;</a></td>\n",
       "</tr>\n",
       "</table>\n",
       "<br/>\n",
       "</p>\n",
       "</tr></p>"
      ]
     },
     "execution_count": 12,
     "metadata": {},
     "output_type": "execute_result"
    }
   ],
   "source": [
    "first_news_item[2]"
   ]
  },
  {
   "cell_type": "code",
   "execution_count": null,
   "id": "92252c0f",
   "metadata": {},
   "outputs": [],
   "source": []
  },
  {
   "cell_type": "code",
   "execution_count": null,
   "id": "6be11340",
   "metadata": {},
   "outputs": [],
   "source": []
  },
  {
   "cell_type": "code",
   "execution_count": null,
   "id": "79a4bb79",
   "metadata": {},
   "outputs": [],
   "source": []
  },
  {
   "cell_type": "code",
   "execution_count": null,
   "id": "e4607d2e",
   "metadata": {},
   "outputs": [],
   "source": []
  },
  {
   "cell_type": "code",
   "execution_count": null,
   "id": "7f19ac71",
   "metadata": {},
   "outputs": [],
   "source": []
  },
  {
   "cell_type": "code",
   "execution_count": 75,
   "id": "3111d2d2",
   "metadata": {},
   "outputs": [],
   "source": [
    "temp_element = html.Element(\"p\")"
   ]
  },
  {
   "cell_type": "code",
   "execution_count": 76,
   "id": "7e36cf82",
   "metadata": {},
   "outputs": [],
   "source": [
    "temp_element.extend(temp_element)"
   ]
  },
  {
   "cell_type": "code",
   "execution_count": 77,
   "id": "5568574b",
   "metadata": {},
   "outputs": [
    {
     "name": "stdout",
     "output_type": "stream",
     "text": [
      "<p></p>\n"
     ]
    }
   ],
   "source": [
    "print(html.tostring(temp_element, encoding='unicode', method='html'))"
   ]
  },
  {
   "cell_type": "code",
   "execution_count": null,
   "id": "23b29622",
   "metadata": {},
   "outputs": [],
   "source": []
  },
  {
   "cell_type": "code",
   "execution_count": null,
   "id": "3cfcc6ce",
   "metadata": {},
   "outputs": [],
   "source": []
  },
  {
   "cell_type": "code",
   "execution_count": 36,
   "id": "ae3ebf0c",
   "metadata": {},
   "outputs": [
    {
     "data": {
      "text/plain": [
       "{'http://www.cmaf.ru/': ['<div></div>',\n",
       "  '<div></div>',\n",
       "  '<div></div>',\n",
       "  '<div></div>',\n",
       "  '<div></div>',\n",
       "  '<div></div>',\n",
       "  '<div></div>',\n",
       "  '<div></div>']}"
      ]
     },
     "execution_count": 36,
     "metadata": {},
     "output_type": "execute_result"
    }
   ],
   "source": [
    "dict_info"
   ]
  },
  {
   "cell_type": "code",
   "execution_count": 20,
   "id": "5289d6e8",
   "metadata": {},
   "outputs": [],
   "source": [
    "selected_element = "
   ]
  },
  {
   "cell_type": "code",
   "execution_count": 34,
   "id": "5cfe3fc5",
   "metadata": {},
   "outputs": [
    {
     "data": {
      "text/plain": [
       "'\\n\\t'"
      ]
     },
     "execution_count": 34,
     "metadata": {},
     "output_type": "execute_result"
    }
   ],
   "source": [
    "selected_element[3].text_content()"
   ]
  },
  {
   "cell_type": "code",
   "execution_count": 15,
   "id": "d5f0fbc1",
   "metadata": {},
   "outputs": [
    {
     "name": "stdout",
     "output_type": "stream",
     "text": [
      "\n",
      "\n",
      "\n",
      "\t\n",
      "\n",
      "\t\t\t\n",
      "\t\t\t\t\t21 Ноября 2023\n",
      "\t\t               \n",
      "\t\t\t\t\t\t\t\t\tВнимание! Изменения в работе музея 22 ноября\n",
      "                \n",
      "\t\t\t\t\t                \n",
      "\t\t\t\t\t\t\n",
      "\t\t\t\t\t\n",
      "\n",
      "\n",
      "\t\n",
      "\n",
      "\t\t\t\n",
      "\t\t\t\t\t31 Октября 2023\n",
      "\t\t               \n",
      "\t\t\t\t\t\t\t\t\tРежим работы музея 4-6 ноября\n",
      "                \n",
      "\t\t\t\t\t                \n",
      "\t\t\t\t\t\t\n",
      "\t\t\t\t\t\n",
      "\n",
      "\n",
      "\n"
     ]
    }
   ],
   "source": [
    "print(div)"
   ]
  },
  {
   "cell_type": "code",
   "execution_count": null,
   "id": "516f9003",
   "metadata": {},
   "outputs": [],
   "source": []
  },
  {
   "cell_type": "code",
   "execution_count": 8,
   "id": "5676458e",
   "metadata": {},
   "outputs": [],
   "source": [
    "div = selected_element[0]\n",
    "\n",
    "temp_element = html.Element(\"a\")\n",
    "# temp_element.extend(elem)\n",
    "\n",
    "# # Получение HTML-разметки только для выбранного элемента\n",
    "# html_representation = html.tostring(temp_element, encoding='unicode', method='html')\n",
    "\n",
    "# print(html_representation)"
   ]
  },
  {
   "cell_type": "code",
   "execution_count": 9,
   "id": "153fc7ce",
   "metadata": {},
   "outputs": [],
   "source": [
    "html_representation = html.tostring(temp_element, encoding='unicode', method='html')"
   ]
  },
  {
   "cell_type": "code",
   "execution_count": 10,
   "id": "c2051f21",
   "metadata": {},
   "outputs": [
    {
     "data": {
      "text/plain": [
       "'<a></a>'"
      ]
     },
     "execution_count": 10,
     "metadata": {},
     "output_type": "execute_result"
    }
   ],
   "source": [
    "html_representation"
   ]
  },
  {
   "cell_type": "code",
   "execution_count": 11,
   "id": "75b4269a",
   "metadata": {},
   "outputs": [
    {
     "ename": "NameError",
     "evalue": "name 'стоп' is not defined",
     "output_type": "error",
     "traceback": [
      "\u001b[1;31m---------------------------------------------------------------------------\u001b[0m",
      "\u001b[1;31mNameError\u001b[0m                                 Traceback (most recent call last)",
      "Input \u001b[1;32mIn [11]\u001b[0m, in \u001b[0;36m<cell line: 1>\u001b[1;34m()\u001b[0m\n\u001b[1;32m----> 1\u001b[0m \u001b[43mстоп\u001b[49m\n",
      "\u001b[1;31mNameError\u001b[0m: name 'стоп' is not defined"
     ]
    }
   ],
   "source": [
    "стоп"
   ]
  },
  {
   "cell_type": "code",
   "execution_count": null,
   "id": "32df7a8a",
   "metadata": {},
   "outputs": [],
   "source": []
  },
  {
   "cell_type": "markdown",
   "id": "1b70b59e",
   "metadata": {},
   "source": [
    "## Как можно парсить"
   ]
  },
  {
   "cell_type": "code",
   "execution_count": null,
   "id": "5d520c7c",
   "metadata": {},
   "outputs": [],
   "source": [
    "cnjg"
   ]
  },
  {
   "cell_type": "code",
   "execution_count": null,
   "id": "7fb548c1",
   "metadata": {
    "scrolled": true
   },
   "outputs": [],
   "source": [
    "# Парсинг HTML\n",
    "tree = html.fromstring(response.text)\n",
    "\n",
    "# Выбор элемента\n",
    "selected_element = tree.xpath(\"//div[@data-id='28']\")[0]\n",
    "\n",
    "# # Создаем временный элемент и копируем содержимое выбранного элемента\n",
    "temp_element = html.Element(\"div\")\n",
    "\n",
    "temp_element.extend(selected_element)\n",
    "\n",
    "# Получение HTML-разметки только для выбранного элемента\n",
    "html_representation = html.tostring(temp_element, encoding='unicode', method='html')\n",
    "\n",
    "print(html_representation)\n"
   ]
  },
  {
   "cell_type": "code",
   "execution_count": null,
   "id": "faffc98f",
   "metadata": {},
   "outputs": [],
   "source": []
  },
  {
   "cell_type": "code",
   "execution_count": null,
   "id": "9d031674",
   "metadata": {},
   "outputs": [],
   "source": []
  },
  {
   "cell_type": "code",
   "execution_count": null,
   "id": "0bef35f7",
   "metadata": {},
   "outputs": [],
   "source": [
    "# Парсинг HTML\n",
    "tree = html.fromstring(response.text)\n",
    "\n",
    "# Выбор элемента\n",
    "selected_element = tree.xpath(\"//div[@data-id='28']\")[0]\n",
    "\n",
    "# # Создаем временный элемент и копируем содержимое выбранного элемента\n",
    "temp_element = html.Element(\"div\")\n",
    "temp_element.extend(selected_element)\n",
    "\n",
    "# Получение HTML-разметки только для выбранного элемента\n",
    "html_representation = html.tostring(temp_element, encoding='unicode', method='html')\n",
    "\n",
    "print(html_representation)"
   ]
  },
  {
   "cell_type": "code",
   "execution_count": null,
   "id": "5f0ca5e0",
   "metadata": {},
   "outputs": [],
   "source": []
  },
  {
   "cell_type": "code",
   "execution_count": null,
   "id": "ce3b3a71",
   "metadata": {},
   "outputs": [],
   "source": []
  },
  {
   "cell_type": "code",
   "execution_count": null,
   "id": "b7fc183c",
   "metadata": {},
   "outputs": [],
   "source": []
  }
 ],
 "metadata": {
  "kernelspec": {
   "display_name": "Python 3 (ipykernel)",
   "language": "python",
   "name": "python3"
  },
  "language_info": {
   "codemirror_mode": {
    "name": "ipython",
    "version": 3
   },
   "file_extension": ".py",
   "mimetype": "text/x-python",
   "name": "python",
   "nbconvert_exporter": "python",
   "pygments_lexer": "ipython3",
   "version": "3.11.5"
  },
  "toc": {
   "base_numbering": 1,
   "nav_menu": {},
   "number_sections": true,
   "sideBar": true,
   "skip_h1_title": false,
   "title_cell": "Table of Contents",
   "title_sidebar": "Contents",
   "toc_cell": false,
   "toc_position": {},
   "toc_section_display": true,
   "toc_window_display": true
  },
  "varInspector": {
   "cols": {
    "lenName": 16,
    "lenType": 16,
    "lenVar": 40
   },
   "kernels_config": {
    "python": {
     "delete_cmd_postfix": "",
     "delete_cmd_prefix": "del ",
     "library": "var_list.py",
     "varRefreshCmd": "print(var_dic_list())"
    },
    "r": {
     "delete_cmd_postfix": ") ",
     "delete_cmd_prefix": "rm(",
     "library": "var_list.r",
     "varRefreshCmd": "cat(var_dic_list()) "
    }
   },
   "types_to_exclude": [
    "module",
    "function",
    "builtin_function_or_method",
    "instance",
    "_Feature"
   ],
   "window_display": false
  }
 },
 "nbformat": 4,
 "nbformat_minor": 5
}
