{
 "cells": [
  {
   "cell_type": "code",
   "execution_count": 1,
   "id": "b67466bc",
   "metadata": {
    "ExecuteTime": {
     "end_time": "2023-11-06T18:25:10.973650700Z",
     "start_time": "2023-11-06T18:25:10.321487100Z"
    }
   },
   "outputs": [],
   "source": [
    "import requests\n",
    "import pandas as pd\n",
    "from bs4 import BeautifulSoup\n",
    "from lxml import etree\n",
    "\n",
    "import requests\n",
    "from lxml import html\n",
    "\n",
    "\n"
   ]
  },
  {
   "cell_type": "markdown",
   "id": "1e2ceb76",
   "metadata": {},
   "source": [
    "## Функции"
   ]
  },
  {
   "cell_type": "code",
   "execution_count": 2,
   "id": "878c1a30",
   "metadata": {},
   "outputs": [],
   "source": [
    "def get_div(tree, xpath_format, div_mode=True):\n",
    "    list_divs = []\n",
    "\n",
    "\n",
    "    # Выбор элемента\n",
    "    selected_element = tree.xpath(xpath_format)\n",
    "\n",
    "\n",
    "    for div in selected_element:\n",
    "        # Получение HTML-разметки только для выбранного элемента\n",
    "        html_representation = html.tostring(div, encoding='unicode', method='html')\n",
    "\n",
    "        list_divs.append(html_representation)\n",
    "    return list_divs\n"
   ]
  },
  {
   "cell_type": "markdown",
   "id": "39cd3fe6",
   "metadata": {},
   "source": [
    "# Parse"
   ]
  },
  {
   "cell_type": "code",
   "execution_count": 3,
   "id": "a04cf604",
   "metadata": {},
   "outputs": [],
   "source": [
    "dict_info = {}\n",
    "\n",
    "list_sites  = ['https://victorymuseum.ru/playbill/', \n",
    "               'https://blokadamus.ru/музей-обороны-и-блокады-ленинграда/события/',\n",
    "               'http://www.cmaf.ru/',\n",
    "               'https://1418museum.ru/news/',\n",
    "               'https://1812panorama.ru/afisha',\n",
    "#                'https://www.borodino.ru/category/novosti/page/4/' Не выгружается через request\n",
    "               \n",
    "              ]\n",
    "\n",
    "list_xpaths = ['//div[@class=\"oblique-items\"]//div[@class=\"item\"]', \n",
    "               '//*[@class=\"elementor-post__card\"]', \n",
    "               '//*[@class=\"reg-news\"]//p[@class=\"news-item\"]/following-sibling::*[1]',\n",
    "               '//*[@class=\"newsItem__contains\"]',\n",
    "               '//*[@class=\"field-more-title\"]',\n",
    "#                '//*[@class=\"item-archive\"]'\n",
    "              \n",
    "              ]\n",
    "\n",
    "\n",
    "\n",
    "\n",
    "for site, xpath  in zip(list_sites, list_xpaths):\n",
    "    response = requests.get(site)\n",
    "\n",
    "    if response.status_code == 200:\n",
    "        # Создаем объект дерева HTML из содержимого ответа\n",
    "        tree = html.fromstring(response.text)\n",
    "        \n",
    "        \n",
    "        target_obj = get_div(tree, xpath)  \n",
    "        dict_info[site] = target_obj\n",
    "        \n",
    "        \n",
    "    else:\n",
    "        print(f'Ошибка статуса {response.status_code} для {sites}')"
   ]
  },
  {
   "cell_type": "code",
   "execution_count": 4,
   "id": "b4c68ec6",
   "metadata": {},
   "outputs": [],
   "source": [
    "df_raw_p = pd.DataFrame([dict_info]).T"
   ]
  },
  {
   "cell_type": "code",
   "execution_count": 5,
   "id": "7283363e",
   "metadata": {},
   "outputs": [],
   "source": [
    "df_raw_p = df_raw_p.explode(0)\n",
    "df_raw_p = df_raw_p.reset_index()"
   ]
  },
  {
   "cell_type": "code",
   "execution_count": 6,
   "id": "f1678e98",
   "metadata": {},
   "outputs": [],
   "source": [
    "df_raw_p = df_raw_p.rename(columns={'index':'site', 0:'raw_str'})"
   ]
  },
  {
   "cell_type": "code",
   "execution_count": 7,
   "id": "db9160ad",
   "metadata": {
    "scrolled": true
   },
   "outputs": [],
   "source": [
    "df_raw_p['text_elem'] = df_raw_p['raw_str'].apply(lambda x: BeautifulSoup(x, 'html.parser').text)"
   ]
  },
  {
   "cell_type": "markdown",
   "id": "13e3aae1",
   "metadata": {},
   "source": [
    "# Telegram"
   ]
  },
  {
   "cell_type": "code",
   "execution_count": 18,
   "id": "256061f4",
   "metadata": {},
   "outputs": [
    {
     "name": "stdout",
     "output_type": "stream",
     "text": [
      "\n",
      "\n",
      "\n",
      "\n",
      "\n",
      "\n",
      "События\n",
      "\n",
      "День начала контрнаступления советских войск против немецких войск в битве под Москвой\n",
      "\n",
      "\n",
      "05.12.2023\n",
      "\n",
      "\n",
      "\n",
      "\n",
      "\n"
     ]
    }
   ],
   "source": [
    "print(df_raw_p['text_elem'][0])"
   ]
  },
  {
   "cell_type": "code",
   "execution_count": 25,
   "id": "8910abee",
   "metadata": {},
   "outputs": [
    {
     "data": {
      "text/plain": [
       "'\\n\\n\\n\\n\\n\\nСобытия\\n\\nДень начала контрнаступления советских войск против немецких войск в битве под Москвой\\n\\n\\n05.12.2023\\n\\n\\n\\n\\n'"
      ]
     },
     "execution_count": 25,
     "metadata": {},
     "output_type": "execute_result"
    }
   ],
   "source": [
    "df_raw_p['text_elem'][0]"
   ]
  },
  {
   "cell_type": "code",
   "execution_count": 21,
   "id": "edc231f0",
   "metadata": {},
   "outputs": [
    {
     "name": "stdout",
     "output_type": "stream",
     "text": [
      "\n",
      "\n",
      "\n",
      "\n",
      "\n",
      "\n",
      "События\n",
      "\n",
      "День начала контрнаступления советских войск против немецких войск в битве под Москвой\n",
      "\n",
      "\n",
      "05.12.2023\n",
      "\n",
      "\n",
      "\n",
      "\n",
      "\n"
     ]
    }
   ],
   "source": [
    "print(df_raw_p['text_elem'][0])"
   ]
  },
  {
   "cell_type": "code",
   "execution_count": null,
   "id": "0bb8be16",
   "metadata": {},
   "outputs": [],
   "source": []
  },
  {
   "cell_type": "code",
   "execution_count": null,
   "id": "b9703528",
   "metadata": {},
   "outputs": [],
   "source": []
  },
  {
   "cell_type": "code",
   "execution_count": null,
   "id": "d7bfd41c",
   "metadata": {},
   "outputs": [],
   "source": []
  },
  {
   "cell_type": "code",
   "execution_count": null,
   "id": "7f64e09c",
   "metadata": {},
   "outputs": [],
   "source": [
    "q = df_raw_p['raw_str'][0]"
   ]
  },
  {
   "cell_type": "code",
   "execution_count": null,
   "id": "915979eb",
   "metadata": {},
   "outputs": [],
   "source": [
    "q = BeautifulSoup(q, 'html.parser')"
   ]
  },
  {
   "cell_type": "code",
   "execution_count": null,
   "id": "99978955",
   "metadata": {},
   "outputs": [],
   "source": [
    "q.text"
   ]
  },
  {
   "cell_type": "code",
   "execution_count": null,
   "id": "486a2464",
   "metadata": {},
   "outputs": [],
   "source": []
  },
  {
   "cell_type": "code",
   "execution_count": null,
   "id": "a9a03147",
   "metadata": {},
   "outputs": [],
   "source": []
  },
  {
   "cell_type": "code",
   "execution_count": null,
   "id": "69ca0773",
   "metadata": {},
   "outputs": [],
   "source": []
  },
  {
   "cell_type": "code",
   "execution_count": null,
   "id": "dd7ddb42",
   "metadata": {},
   "outputs": [],
   "source": [
    "q"
   ]
  },
  {
   "cell_type": "code",
   "execution_count": null,
   "id": "d91278a5",
   "metadata": {},
   "outputs": [],
   "source": []
  },
  {
   "cell_type": "code",
   "execution_count": null,
   "id": "f97c475d",
   "metadata": {},
   "outputs": [],
   "source": [
    "# Создание объекта BeautifulSoup\n",
    "soup = BeautifulSoup(html_code, 'html.parser')\n",
    "\n",
    "# Извлечение текста\n",
    "extracted_text = soup.get_text()"
   ]
  },
  {
   "cell_type": "code",
   "execution_count": null,
   "id": "e04583f4",
   "metadata": {},
   "outputs": [],
   "source": []
  },
  {
   "cell_type": "code",
   "execution_count": null,
   "id": "62e53664",
   "metadata": {},
   "outputs": [],
   "source": [
    "pd.options.display.max_rows = 150"
   ]
  },
  {
   "cell_type": "code",
   "execution_count": null,
   "id": "37f477d0",
   "metadata": {},
   "outputs": [],
   "source": [
    "ser_text_parse = df_raw_p['raw_str'].str.extractall('>([A-Za-zА-Яа-я ,0-9.]+)')"
   ]
  },
  {
   "cell_type": "code",
   "execution_count": null,
   "id": "de218827",
   "metadata": {
    "scrolled": false
   },
   "outputs": [],
   "source": [
    "response.text"
   ]
  },
  {
   "cell_type": "code",
   "execution_count": null,
   "id": "4e213ecd",
   "metadata": {
    "scrolled": true
   },
   "outputs": [],
   "source": [
    "df_raw_p['raw_str'][4]"
   ]
  },
  {
   "cell_type": "code",
   "execution_count": null,
   "id": "162c6bd3",
   "metadata": {},
   "outputs": [],
   "source": [
    "(html.unescape(df_raw_p['raw_str'][4]))"
   ]
  },
  {
   "cell_type": "code",
   "execution_count": null,
   "id": "156c44d8",
   "metadata": {},
   "outputs": [],
   "source": []
  },
  {
   "cell_type": "code",
   "execution_count": null,
   "id": "74284af0",
   "metadata": {},
   "outputs": [],
   "source": []
  },
  {
   "cell_type": "code",
   "execution_count": null,
   "id": "a4d173e6",
   "metadata": {},
   "outputs": [],
   "source": [
    "ser_text_parse"
   ]
  },
  {
   "cell_type": "code",
   "execution_count": null,
   "id": "78ec3407",
   "metadata": {},
   "outputs": [],
   "source": []
  },
  {
   "cell_type": "code",
   "execution_count": null,
   "id": "34f2c6c3",
   "metadata": {},
   "outputs": [],
   "source": []
  },
  {
   "cell_type": "code",
   "execution_count": null,
   "id": "3753231b",
   "metadata": {},
   "outputs": [],
   "source": []
  },
  {
   "cell_type": "code",
   "execution_count": null,
   "id": "ccd4ab82",
   "metadata": {},
   "outputs": [],
   "source": []
  },
  {
   "cell_type": "code",
   "execution_count": null,
   "id": "8afc1192",
   "metadata": {},
   "outputs": [],
   "source": [
    "df_raw_p['raw_str'][:1].str.se"
   ]
  },
  {
   "cell_type": "code",
   "execution_count": null,
   "id": "ee975317",
   "metadata": {},
   "outputs": [],
   "source": []
  },
  {
   "cell_type": "code",
   "execution_count": null,
   "id": "4d4e4e1f",
   "metadata": {},
   "outputs": [],
   "source": [
    ".str.extract('>([A-Za-zА-Яа-я ,0-9]+)')"
   ]
  },
  {
   "cell_type": "code",
   "execution_count": null,
   "id": "a1aa29d2",
   "metadata": {},
   "outputs": [],
   "source": []
  },
  {
   "cell_type": "code",
   "execution_count": null,
   "id": "00954348",
   "metadata": {},
   "outputs": [],
   "source": [
    "df_raw_p['raw_str'][0]"
   ]
  },
  {
   "cell_type": "code",
   "execution_count": null,
   "id": "9607fcef",
   "metadata": {},
   "outputs": [],
   "source": [
    "test = dict_info[site][0]"
   ]
  },
  {
   "cell_type": "code",
   "execution_count": null,
   "id": "a54e8d6a",
   "metadata": {},
   "outputs": [],
   "source": [
    "df = pd.DataFrame(dict_info)"
   ]
  },
  {
   "cell_type": "code",
   "execution_count": null,
   "id": "b9fe67ac",
   "metadata": {},
   "outputs": [],
   "source": [
    "df['https://victorymuseum.ru/playbill/'].str.extract('>([A-Za-zА-Яа-я ,0-9]+)')"
   ]
  },
  {
   "cell_type": "code",
   "execution_count": null,
   "id": "d7f0d9d1",
   "metadata": {},
   "outputs": [],
   "source": [
    "df['https://victorymuseum.ru/playbill/'][1]"
   ]
  },
  {
   "cell_type": "code",
   "execution_count": null,
   "id": "452ff259",
   "metadata": {},
   "outputs": [],
   "source": [
    "df['https://victorymuseum.ru/playbill/'].str.extractall('>([A-Za-zА-Яа-я ,0-9-.\\\\]+)')"
   ]
  },
  {
   "cell_type": "code",
   "execution_count": null,
   "id": "66c48c6b",
   "metadata": {},
   "outputs": [],
   "source": []
  },
  {
   "cell_type": "code",
   "execution_count": null,
   "id": "27bb11c7",
   "metadata": {},
   "outputs": [],
   "source": [
    "'>[A-Za-zА-Яа-я ,0-9]+'"
   ]
  },
  {
   "cell_type": "code",
   "execution_count": null,
   "id": "57b430d6",
   "metadata": {},
   "outputs": [],
   "source": []
  },
  {
   "cell_type": "code",
   "execution_count": null,
   "id": "689ac97b",
   "metadata": {},
   "outputs": [],
   "source": [
    "print(test)"
   ]
  },
  {
   "cell_type": "code",
   "execution_count": null,
   "id": "84ab7557",
   "metadata": {},
   "outputs": [],
   "source": []
  },
  {
   "cell_type": "markdown",
   "id": "1b18efeb",
   "metadata": {},
   "source": [
    "<div class=\"item\" id=\"bx_3218110189_251266\" data-id=\"28\">\\n\\t\\t<a href=\"/playbill/events/den-neizvestnogo-soldata-/\" class=\"img-box\">\\n\\t\\t\\t\\t\\t\\t\n",
    "<div class=\"img-item-bg lazyload\" data-bgset=\"/upload/resize_cache/iblock/799/lvh3xijw14j6r5o2y05bdthkse7khy7f/550_380_2/muzej_1.jpeg\"></div>\n",
    "\\n\\t\\t</a>\\n\\t\\t<div class=\"text-box\">\\n\\t\\t\\t\\t\\t\\t\\t<div class=\"w100\">\\n\\t\\t\\t\\t\\t\n",
    "<a class=\"button mini\" href=\"/playbill/events/\">События</a>\\n\\t\\t\\t\\t</div>\\n\\t\\t\\t\\n\\t\\t\\t<a class=\"name\" href=\"/playbill/events/den-neizvestnogo-soldata-/\">День неизвестного солдата </a>\\n\\t\\t\\t\\t\\t\\t\\t<div class=\"text\">Памятная дата в России, учреждена указом Президента РФ в 2014 году</div>\\n\\t\\t\\t\\t\\t\\t\\n\\t\\t\\t\\n\\t\\t</div>\\n\\t\\t<div class=\"bottom_box\">\\n\\t\\t\\t\\t\\t<div class=\"date ico-ba\">03.12.2023</div>\\n\\t\\t\\t\\t\\t\\t\\t\\t\\t\\n\\t\\t\\t\\n\\t\\t\\t\\t\\t\\t<div class=\"ticker-ref\">\\n\\t\\t\\t\\t\\t\\t\\t</div>\\n\\t\\t\\t\\n\\t\\t\\t\\t\\t</div>\\n\\t</div>\\n\\t\\n\\t\\n\\n\\t\\n\\t\\t"
   ]
  },
  {
   "cell_type": "code",
   "execution_count": null,
   "id": "04a39053",
   "metadata": {},
   "outputs": [],
   "source": []
  },
  {
   "cell_type": "code",
   "execution_count": null,
   "id": "c3fe6b36",
   "metadata": {},
   "outputs": [],
   "source": [
    "print('''\\n\\t\\t\\n\\t\\t\\t\\t\\t\\t\n",
    "\\n\\t\\t\\n\\t\\t\n",
    "\\n\\t\\t\\t\\t\\t\\t\\t\n",
    "\\n\\t\\t\\t\\t\\tСобытия\\n\\t\\t\\t\\t\n",
    "\\n\\t\\t\\t\\n\\t\\t\\tДень неизвестного солдата \\n\\t\\t\\t\\t\\t\\t\\t\n",
    "Памятная дата в России, учреждена указом Президента РФ в 2014 году\n",
    "\\n\\t\\t\\t\\t\\t\\t\\n\\t\\t\\t\\n\\t\\t\n",
    "\\n\\t\\t\n",
    "\\n\\t\\t\\t\\t\\t\n",
    "03.12.2023\n",
    "\\n\\t\\t\\t\\t\\t\\t\\t\\t\\t\\n\\t\\t\\t\\n\\t\\t\\t\\t\\t\\t\n",
    "\\n\\t\\t\\t\\t\\t\\t\\t\n",
    "\\n\\t\\t\\t\\n\\t\\t\\t\\t\\t\n",
    "\\n\\t\n",
    "\\n\\t\\n\\t\\n\\n\\t\\n\\t\\tau''')"
   ]
  },
  {
   "cell_type": "markdown",
   "id": "9acc57ee",
   "metadata": {},
   "source": [
    "<div class=\"item\" id=\"bx_3218110189_251266\" data-id=\"28\">\\n\\t\\t<a href=\"/playbill/events/den-neizvestnogo-soldata-/\" class=\"img-box\">\\n\\t\\t\\t\\t\\t\\t<div class=\"img-item-bg lazyload\" data-bgset=\"/upload/resize_cache/iblock/799/lvh3xijw14j6r5o2y05bdthkse7khy7f/550_380_2/muzej_1.jpeg\"></div>\\n\\t\\t</a>\\n\\t\\t<div class=\"text-box\">\\n\\t\\t\\t\\t\\t\\t\\t<div class=\"w100\">\\n\\t\\t\\t\\t\\t<a class=\"button mini\" href=\"/playbill/events/\">События</a>\\n\\t\\t\\t\\t</div>\\n\\t\\t\\t\\n\\t\\t\\t<a class=\"name\" href=\"/playbill/events/den-neizvestnogo-soldata-/\">День неизвестного солдата </a>\\n\\t\\t\\t\\t\\t\\t\\t<div class=\"text\">Памятная дата в России, учреждена указом Президента РФ в 2014 году</div>\\n\\t\\t\\t\\t\\t\\t\\n\\t\\t\\t\\n\\t\\t</div>\\n\\t\\t<div class=\"bottom_box\">\\n\\t\\t\\t\\t\\t<div class=\"date ico-ba\">03.12.2023</div>\\n\\t\\t\\t\\t\\t\\t\\t\\t\\t\\n\\t\\t\\t\\n\\t\\t\\t\\t\\t\\t<div class=\"ticker-ref\">\\n\\t\\t\\t\\t\\t\\t\\t</div>\\n\\t\\t\\t\\n\\t\\t\\t\\t\\t</div>\\n\\t</div>\\n\\t\\n\\t\\n\\n\\t\\n\\t\\t"
   ]
  },
  {
   "cell_type": "code",
   "execution_count": null,
   "id": "603a5ec7",
   "metadata": {},
   "outputs": [],
   "source": []
  },
  {
   "cell_type": "code",
   "execution_count": null,
   "id": "9ca1c0a6",
   "metadata": {},
   "outputs": [],
   "source": []
  },
  {
   "cell_type": "code",
   "execution_count": null,
   "id": "84c71116",
   "metadata": {},
   "outputs": [],
   "source": []
  },
  {
   "cell_type": "code",
   "execution_count": null,
   "id": "90aff70e",
   "metadata": {},
   "outputs": [],
   "source": [
    "dict_info = {}\n",
    "\n",
    "list_sites  = ['https://victorymuseum.ru/playbill/']\n",
    "\n",
    "list_xpaths = ['//div[@class=\"oblique-items\"]//div[@class=\"item\"]']\n",
    "\n",
    "\n",
    "for site, xpath  in zip(list_sites, list_xpaths):\n",
    "    response = requests.get(site)\n",
    "\n",
    "    if response.status_code == 200:\n",
    "        # Создаем объект дерева HTML из содержимого ответа\n",
    "        tree = html.fromstring(response.text)\n",
    "        \n",
    "        \n",
    "        target_obj = get_div(tree, xpath)  \n",
    "        dict_info[site] = target_obj\n",
    "        \n",
    "        \n",
    "    else:\n",
    "        print(f'Ошибка статуса {response.status_code} для {sites}')"
   ]
  },
  {
   "cell_type": "code",
   "execution_count": null,
   "id": "be859bc7",
   "metadata": {},
   "outputs": [],
   "source": [
    "target_obj[0]"
   ]
  },
  {
   "cell_type": "markdown",
   "id": "d4106989",
   "metadata": {},
   "source": [
    "<div class=\"item\" id=\"bx_3218110189_251266\" data-id=\"28\">\\n\\t\\t<a href=\"/playbill/events/den-neizvestnogo-soldata-/\" class=\"img-box\">\\n\\t\\t\\t\\t\\t\\t<div class=\"img-item-bg lazyload\" data-bgset=\"/upload/resize_cache/iblock/799/lvh3xijw14j6r5o2y05bdthkse7khy7f/550_380_2/muzej_1.jpeg\"></div>\\n\\t\\t</a>\\n\\t\\t<div class=\"text-box\">\\n\\t\\t\\t\\t\\t\\t\\t<div class=\"w100\">\\n\\t\\t\\t\\t\\t<a class=\"button mini\" href=\"/playbill/events/\">События</a>\\n\\t\\t\\t\\t</div>\\n\\t\\t\\t\\n\\t\\t\\t<a class=\"name\" href=\"/playbill/events/den-neizvestnogo-soldata-/\">День неизвестного солдата </a>\\n\\t\\t\\t\\t\\t\\t\\t<div class=\"text\">Памятная дата в России, учреждена указом Президента РФ в 2014 году</div>\\n\\t\\t\\t\\t\\t\\t\\n\\t\\t\\t\\n\\t\\t</div>\\n\\t\\t<div class=\"bottom_box\">\\n\\t\\t\\t\\t\\t<div class=\"date ico-ba\">03.12.2023</div>\\n\\t\\t\\t\\t\\t\\t\\t\\t\\t\\n\\t\\t\\t\\n\\t\\t\\t\\t\\t\\t<div class=\"ticker-ref\">\\n\\t\\t\\t\\t\\t\\t\\t</div>\\n\\t\\t\\t\\n\\t\\t\\t\\t\\t</div>\\n\\t</div>\\n\\t\\n\\t\\n\\n\\t\\n\\t\\t"
   ]
  },
  {
   "cell_type": "code",
   "execution_count": null,
   "id": "c5fcc7fb",
   "metadata": {},
   "outputs": [],
   "source": []
  },
  {
   "cell_type": "code",
   "execution_count": null,
   "id": "c7dda13b",
   "metadata": {},
   "outputs": [],
   "source": []
  },
  {
   "cell_type": "code",
   "execution_count": null,
   "id": "58ff6605",
   "metadata": {},
   "outputs": [],
   "source": [
    "dict_info = {}\n",
    "\n",
    "list_sites    = ['https://victorymuseum.ru/playbill/', 'https://stalingrad-battle.ru/about/m-news/', \n",
    "                 'https://blokadamus.ru/музей-обороны-и-блокады-ленинграда/события/']\n",
    "\n",
    "xpaths_format = [\"//div[@data-id='28']\", '//*[@class=\"item\"]', '//*[@class=\"elementor-post__card\"]', ]\n",
    "\n",
    "for site, xpath_format in zip(list_sites, xpaths_format):\n",
    "    response = requests.get(site)\n",
    "\n",
    "    if response.status_code == 200:\n",
    "        # Создаем объект дерева HTML из содержимого ответа\n",
    "        tree = html.fromstring(response.text)\n",
    "        dict_info[site] = get_div(tree, xpath_format)\n",
    "    else:\n",
    "        print(f'Ошибка статуса {response.status_code} для {sites}')"
   ]
  },
  {
   "cell_type": "code",
   "execution_count": null,
   "id": "6319c4ae",
   "metadata": {},
   "outputs": [],
   "source": []
  },
  {
   "cell_type": "markdown",
   "id": "c3f7c969",
   "metadata": {},
   "source": [
    "## div = False"
   ]
  },
  {
   "cell_type": "code",
   "execution_count": null,
   "id": "c02f06ce",
   "metadata": {},
   "outputs": [],
   "source": [
    "dict_info = {}\n",
    "\n",
    "list_sites    = ['http://www.cmaf.ru/']\n",
    "\n",
    "\n",
    "xpaths_format = ['//div[@class=\"news-list\"]//a[@style=\"font-size: 15px; font-weight: bold; margin: 0;\"]']\n",
    "for site, xpath_format in zip(list_sites, xpaths_format):\n",
    "    response = requests.get(site)\n",
    "\n",
    "    if response.status_code == 200:\n",
    "        # Создаем объект дерева HTML из содержимого ответа\n",
    "        tree = html.fromstring(response.text)\n",
    "        dict_info[site] = get_div(tree, xpath_format, div_mode=False)\n",
    "    else:\n",
    "        print(f'Ошибка статуса {response.status_code} для {sites}')"
   ]
  },
  {
   "cell_type": "code",
   "execution_count": null,
   "id": "751b376a",
   "metadata": {},
   "outputs": [],
   "source": [
    "dict_info = {}\n",
    "\n",
    "list_sites    = ['https://1418museum.ru/news/']\n",
    "xpaths_format = ['//span[@class=\"newsItem__title title title--small\"]']\n",
    "\n",
    "\n",
    "\n",
    "\n",
    "for site, xpath_format in zip(list_sites, xpaths_format):\n",
    "    response = requests.get(site)\n",
    "\n",
    "    if response.status_code == 200:\n",
    "        # Создаем объект дерева HTML из содержимого ответа\n",
    "        tree = html.fromstring(response.text)\n",
    "        dict_info[site] = get_div(tree, xpath_format, div_mode=False)\n",
    "    else:\n",
    "        print(f'Ошибка статуса {response.status_code} для {sites}')"
   ]
  },
  {
   "cell_type": "code",
   "execution_count": null,
   "id": "ad349a6b",
   "metadata": {},
   "outputs": [],
   "source": []
  },
  {
   "cell_type": "code",
   "execution_count": null,
   "id": "c3192ddf",
   "metadata": {},
   "outputs": [],
   "source": []
  },
  {
   "cell_type": "code",
   "execution_count": null,
   "id": "115df802",
   "metadata": {},
   "outputs": [],
   "source": [
    "dict_info = {}\n",
    "\n",
    "list_sites    = ['https://victorymuseum.ru/playbill/']\n",
    "xpaths_tittle = [\"//a[@class='name']\"]\n",
    "\n",
    "\n",
    "xpath_format = [\"//div[@class='text']\"]\n",
    "\n",
    "\n",
    "\n",
    "\n",
    "for site, xpath_format in zip(list_sites, xpaths_format):\n",
    "    response = requests.get(site)\n",
    "\n",
    "    if response.status_code == 200:\n",
    "        # Создаем объект дерева HTML из содержимого ответа\n",
    "        tree = html.fromstring(response.text)\n",
    "        dict_info[site] = get_div(tree, xpath_format, div_mode=False)\n",
    "    else:\n",
    "        print(f'Ошибка статуса {response.status_code} для {sites}')"
   ]
  },
  {
   "cell_type": "code",
   "execution_count": null,
   "id": "e88b7f92",
   "metadata": {},
   "outputs": [],
   "source": [
    "dict_info[site]"
   ]
  },
  {
   "cell_type": "code",
   "execution_count": null,
   "id": "6a3140ca",
   "metadata": {},
   "outputs": [],
   "source": []
  },
  {
   "cell_type": "code",
   "execution_count": null,
   "id": "41bfb20f",
   "metadata": {},
   "outputs": [],
   "source": [
    "dict_info[site]"
   ]
  },
  {
   "cell_type": "code",
   "execution_count": null,
   "id": "5f5c71ef",
   "metadata": {},
   "outputs": [],
   "source": []
  },
  {
   "cell_type": "code",
   "execution_count": null,
   "id": "1b917a8e",
   "metadata": {},
   "outputs": [],
   "source": []
  },
  {
   "cell_type": "code",
   "execution_count": null,
   "id": "d0105511",
   "metadata": {},
   "outputs": [],
   "source": [
    "https://victorymuseum.ru/playbill/"
   ]
  },
  {
   "cell_type": "code",
   "execution_count": null,
   "id": "9fa6cdc1",
   "metadata": {},
   "outputs": [],
   "source": []
  },
  {
   "cell_type": "code",
   "execution_count": null,
   "id": "60ea677f",
   "metadata": {},
   "outputs": [],
   "source": []
  },
  {
   "cell_type": "code",
   "execution_count": null,
   "id": "0156cff7",
   "metadata": {},
   "outputs": [],
   "source": [
    ", div_mode=False"
   ]
  },
  {
   "cell_type": "code",
   "execution_count": null,
   "id": "d9818a21",
   "metadata": {},
   "outputs": [],
   "source": [
    "class=\"newsItem__description text\""
   ]
  },
  {
   "cell_type": "code",
   "execution_count": null,
   "id": "7e80da71",
   "metadata": {},
   "outputs": [],
   "source": []
  },
  {
   "cell_type": "code",
   "execution_count": null,
   "id": "09c80528",
   "metadata": {},
   "outputs": [],
   "source": [
    "dict_info"
   ]
  },
  {
   "cell_type": "code",
   "execution_count": null,
   "id": "62d55a93",
   "metadata": {},
   "outputs": [],
   "source": [
    "print(response.text)"
   ]
  },
  {
   "cell_type": "code",
   "execution_count": null,
   "id": "b74af3e5",
   "metadata": {},
   "outputs": [],
   "source": []
  },
  {
   "cell_type": "code",
   "execution_count": null,
   "id": "b0843c17",
   "metadata": {},
   "outputs": [],
   "source": [
    "tree = html.fromstring(response.text)"
   ]
  },
  {
   "cell_type": "code",
   "execution_count": null,
   "id": "af36c463",
   "metadata": {},
   "outputs": [],
   "source": [
    "tree"
   ]
  },
  {
   "cell_type": "code",
   "execution_count": null,
   "id": "f4d386a7",
   "metadata": {},
   "outputs": [],
   "source": []
  },
  {
   "cell_type": "code",
   "execution_count": null,
   "id": "edf7bfb6",
   "metadata": {},
   "outputs": [],
   "source": []
  },
  {
   "cell_type": "code",
   "execution_count": null,
   "id": "55c951b6",
   "metadata": {},
   "outputs": [],
   "source": [
    "dict_info"
   ]
  },
  {
   "cell_type": "code",
   "execution_count": null,
   "id": "8c0c02f1",
   "metadata": {},
   "outputs": [],
   "source": []
  },
  {
   "cell_type": "code",
   "execution_count": null,
   "id": "189f832e",
   "metadata": {},
   "outputs": [],
   "source": [
    "//span[@class=\"newsItem__title title title--small\"]"
   ]
  },
  {
   "cell_type": "code",
   "execution_count": null,
   "id": "5bf52d41",
   "metadata": {},
   "outputs": [],
   "source": []
  },
  {
   "cell_type": "code",
   "execution_count": null,
   "id": "e5503038",
   "metadata": {},
   "outputs": [],
   "source": []
  },
  {
   "cell_type": "code",
   "execution_count": null,
   "id": "623f6671",
   "metadata": {},
   "outputs": [],
   "source": []
  },
  {
   "cell_type": "code",
   "execution_count": null,
   "id": "5d1667f4",
   "metadata": {},
   "outputs": [],
   "source": [
    "selected_element[0]"
   ]
  },
  {
   "cell_type": "code",
   "execution_count": null,
   "id": "2048595c",
   "metadata": {},
   "outputs": [],
   "source": [
    "len(selected_element)"
   ]
  },
  {
   "cell_type": "code",
   "execution_count": null,
   "id": "034eabd8",
   "metadata": {},
   "outputs": [],
   "source": [
    "    \n",
    "\n",
    "\n",
    "    for div in selected_element:\n",
    "\n",
    "        # # Создаем временный элемент и копируем содержимое выбранного элемента\n",
    "        temp_element = html.Element(\"div\")\n",
    "        temp_element.extend(div)\n",
    "\n",
    "        # Получение HTML-разметки только для выбранного элемента\n",
    "        html_representation = html.tostring(temp_element, encoding='unicode', method='html')\n",
    "\n",
    "        list_divs.append(html_representation)\n",
    "    return list_divs"
   ]
  },
  {
   "cell_type": "code",
   "execution_count": null,
   "id": "991f0fd0",
   "metadata": {},
   "outputs": [],
   "source": []
  },
  {
   "cell_type": "code",
   "execution_count": null,
   "id": "3c0c2b82",
   "metadata": {},
   "outputs": [],
   "source": []
  },
  {
   "cell_type": "code",
   "execution_count": null,
   "id": "06e75ab9",
   "metadata": {},
   "outputs": [],
   "source": [
    "tree"
   ]
  },
  {
   "cell_type": "code",
   "execution_count": null,
   "id": "332334be",
   "metadata": {},
   "outputs": [],
   "source": [
    "xpath_format"
   ]
  },
  {
   "cell_type": "code",
   "execution_count": null,
   "id": "587a1bc4",
   "metadata": {},
   "outputs": [],
   "source": [
    "tree"
   ]
  },
  {
   "cell_type": "code",
   "execution_count": null,
   "id": "1ff1ff5e",
   "metadata": {},
   "outputs": [],
   "source": [
    "dict_info"
   ]
  },
  {
   "cell_type": "code",
   "execution_count": null,
   "id": "e50bdeca",
   "metadata": {},
   "outputs": [],
   "source": []
  },
  {
   "cell_type": "code",
   "execution_count": null,
   "id": "c2d7b220",
   "metadata": {},
   "outputs": [],
   "source": []
  },
  {
   "cell_type": "code",
   "execution_count": null,
   "id": "b300fdb6",
   "metadata": {},
   "outputs": [],
   "source": [
    "for site, xpath_format in zip(list_sites, xpaths_format):\n",
    "    response = requests.get(site)\n",
    "\n",
    "    if response.status_code == 200:\n",
    "        # Создаем объект дерева HTML из содержимого ответа\n",
    "        tree = html.fromstring(response.text)\n",
    "        print('ok')"
   ]
  },
  {
   "cell_type": "code",
   "execution_count": null,
   "id": "f8e13bab",
   "metadata": {},
   "outputs": [],
   "source": [
    "soup.find_all"
   ]
  },
  {
   "cell_type": "code",
   "execution_count": null,
   "id": "d22d4f84",
   "metadata": {},
   "outputs": [],
   "source": [
    "soup = BeautifulSoup(response.text, 'html.parser')\n",
    "\n",
    "# Найти первый элемент <p> с классом \"news-item\"\n",
    "first_news_item = soup.find_all('p', class_='news-item')\n",
    "\n",
    "# Вывести содержимое найденного элемента\n",
    "print(first_news_item)"
   ]
  },
  {
   "cell_type": "code",
   "execution_count": null,
   "id": "b4265465",
   "metadata": {},
   "outputs": [],
   "source": [
    "first_news_item[0]"
   ]
  },
  {
   "cell_type": "code",
   "execution_count": null,
   "id": "0fc35ee6",
   "metadata": {},
   "outputs": [],
   "source": [
    "first_news_item[1]"
   ]
  },
  {
   "cell_type": "code",
   "execution_count": null,
   "id": "be654cca",
   "metadata": {},
   "outputs": [],
   "source": [
    "first_news_item[2]"
   ]
  },
  {
   "cell_type": "code",
   "execution_count": null,
   "id": "d1fde8f2",
   "metadata": {},
   "outputs": [],
   "source": []
  },
  {
   "cell_type": "code",
   "execution_count": null,
   "id": "6be11340",
   "metadata": {},
   "outputs": [],
   "source": []
  },
  {
   "cell_type": "code",
   "execution_count": null,
   "id": "79a4bb79",
   "metadata": {},
   "outputs": [],
   "source": []
  },
  {
   "cell_type": "code",
   "execution_count": null,
   "id": "e4607d2e",
   "metadata": {},
   "outputs": [],
   "source": []
  },
  {
   "cell_type": "code",
   "execution_count": null,
   "id": "7f19ac71",
   "metadata": {},
   "outputs": [],
   "source": []
  },
  {
   "cell_type": "code",
   "execution_count": null,
   "id": "3111d2d2",
   "metadata": {},
   "outputs": [],
   "source": [
    "temp_element = html.Element(\"p\")"
   ]
  },
  {
   "cell_type": "code",
   "execution_count": null,
   "id": "7e36cf82",
   "metadata": {},
   "outputs": [],
   "source": [
    "temp_element.extend(temp_element)"
   ]
  },
  {
   "cell_type": "code",
   "execution_count": null,
   "id": "5568574b",
   "metadata": {},
   "outputs": [],
   "source": [
    "print(html.tostring(temp_element, encoding='unicode', method='html'))"
   ]
  },
  {
   "cell_type": "code",
   "execution_count": null,
   "id": "23b29622",
   "metadata": {},
   "outputs": [],
   "source": []
  },
  {
   "cell_type": "code",
   "execution_count": null,
   "id": "3cfcc6ce",
   "metadata": {},
   "outputs": [],
   "source": []
  },
  {
   "cell_type": "code",
   "execution_count": null,
   "id": "ae3ebf0c",
   "metadata": {},
   "outputs": [],
   "source": [
    "dict_info"
   ]
  },
  {
   "cell_type": "code",
   "execution_count": null,
   "id": "5289d6e8",
   "metadata": {},
   "outputs": [],
   "source": [
    "selected_element = "
   ]
  },
  {
   "cell_type": "code",
   "execution_count": null,
   "id": "5cfe3fc5",
   "metadata": {},
   "outputs": [],
   "source": [
    "selected_element[3].text_content()"
   ]
  },
  {
   "cell_type": "code",
   "execution_count": null,
   "id": "d5f0fbc1",
   "metadata": {},
   "outputs": [],
   "source": [
    "print(div)"
   ]
  },
  {
   "cell_type": "code",
   "execution_count": null,
   "id": "516f9003",
   "metadata": {},
   "outputs": [],
   "source": []
  },
  {
   "cell_type": "code",
   "execution_count": null,
   "id": "5676458e",
   "metadata": {},
   "outputs": [],
   "source": [
    "div = selected_element[0]\n",
    "\n",
    "temp_element = html.Element(\"a\")\n",
    "# temp_element.extend(elem)\n",
    "\n",
    "# # Получение HTML-разметки только для выбранного элемента\n",
    "# html_representation = html.tostring(temp_element, encoding='unicode', method='html')\n",
    "\n",
    "# print(html_representation)"
   ]
  },
  {
   "cell_type": "code",
   "execution_count": null,
   "id": "153fc7ce",
   "metadata": {},
   "outputs": [],
   "source": [
    "html_representation = html.tostring(temp_element, encoding='unicode', method='html')"
   ]
  },
  {
   "cell_type": "code",
   "execution_count": null,
   "id": "c2051f21",
   "metadata": {},
   "outputs": [],
   "source": [
    "html_representation"
   ]
  },
  {
   "cell_type": "code",
   "execution_count": null,
   "id": "75b4269a",
   "metadata": {},
   "outputs": [],
   "source": [
    "стоп"
   ]
  },
  {
   "cell_type": "code",
   "execution_count": null,
   "id": "32df7a8a",
   "metadata": {},
   "outputs": [],
   "source": []
  },
  {
   "cell_type": "markdown",
   "id": "1b70b59e",
   "metadata": {},
   "source": [
    "## Как можно парсить"
   ]
  },
  {
   "cell_type": "code",
   "execution_count": null,
   "id": "5d520c7c",
   "metadata": {},
   "outputs": [],
   "source": [
    "cnjg"
   ]
  },
  {
   "cell_type": "code",
   "execution_count": null,
   "id": "7fb548c1",
   "metadata": {
    "scrolled": true
   },
   "outputs": [],
   "source": [
    "# Парсинг HTML\n",
    "tree = html.fromstring(response.text)\n",
    "\n",
    "# Выбор элемента\n",
    "selected_element = tree.xpath(\"//div[@data-id='28']\")[0]\n",
    "\n",
    "# # Создаем временный элемент и копируем содержимое выбранного элемента\n",
    "temp_element = html.Element(\"div\")\n",
    "\n",
    "temp_element.extend(selected_element)\n",
    "\n",
    "# Получение HTML-разметки только для выбранного элемента\n",
    "html_representation = html.tostring(temp_element, encoding='unicode', method='html')\n",
    "\n",
    "print(html_representation)\n"
   ]
  },
  {
   "cell_type": "code",
   "execution_count": null,
   "id": "faffc98f",
   "metadata": {},
   "outputs": [],
   "source": []
  },
  {
   "cell_type": "code",
   "execution_count": null,
   "id": "9d031674",
   "metadata": {},
   "outputs": [],
   "source": []
  },
  {
   "cell_type": "code",
   "execution_count": null,
   "id": "0bef35f7",
   "metadata": {},
   "outputs": [],
   "source": [
    "# Парсинг HTML\n",
    "tree = html.fromstring(response.text)\n",
    "\n",
    "# Выбор элемента\n",
    "selected_element = tree.xpath(\"//div[@data-id='28']\")[0]\n",
    "\n",
    "# # Создаем временный элемент и копируем содержимое выбранного элемента\n",
    "temp_element = html.Element(\"div\")\n",
    "temp_element.extend(selected_element)\n",
    "\n",
    "# Получение HTML-разметки только для выбранного элемента\n",
    "html_representation = html.tostring(temp_element, encoding='unicode', method='html')\n",
    "\n",
    "print(html_representation)"
   ]
  },
  {
   "cell_type": "code",
   "execution_count": null,
   "id": "5f0ca5e0",
   "metadata": {},
   "outputs": [],
   "source": []
  },
  {
   "cell_type": "code",
   "execution_count": null,
   "id": "ce3b3a71",
   "metadata": {},
   "outputs": [],
   "source": []
  },
  {
   "cell_type": "code",
   "execution_count": null,
   "id": "b7fc183c",
   "metadata": {},
   "outputs": [],
   "source": []
  },
  {
   "cell_type": "code",
   "execution_count": null,
   "id": "a14cd06e",
   "metadata": {},
   "outputs": [],
   "source": []
  },
  {
   "cell_type": "code",
   "execution_count": null,
   "id": "bc706a8f",
   "metadata": {},
   "outputs": [],
   "source": []
  },
  {
   "cell_type": "code",
   "execution_count": null,
   "id": "931cd28f",
   "metadata": {},
   "outputs": [],
   "source": []
  },
  {
   "cell_type": "code",
   "execution_count": null,
   "id": "c9bca8dd",
   "metadata": {},
   "outputs": [],
   "source": []
  },
  {
   "cell_type": "code",
   "execution_count": null,
   "id": "ffecd2c6",
   "metadata": {},
   "outputs": [],
   "source": [
    "import pandas as pd"
   ]
  },
  {
   "cell_type": "code",
   "execution_count": null,
   "id": "1ae02b5c",
   "metadata": {},
   "outputs": [],
   "source": [
    "letters_list = ['A', 'B', 'C', 'A', 'A']\n",
    "\n",
    "def key_dict(letters_list:list):\n",
    "    df = pd.DataFrame(letters_list)\n",
    "    return df['0'].value-counts().to_dict()['0']\n",
    "    "
   ]
  },
  {
   "cell_type": "code",
   "execution_count": null,
   "id": "fd3cf4b0",
   "metadata": {},
   "outputs": [],
   "source": [
    "df = pd.DataFrame(letters_list)"
   ]
  },
  {
   "cell_type": "code",
   "execution_count": null,
   "id": "cd5545ce",
   "metadata": {},
   "outputs": [],
   "source": [
    "df[0].value_counts().to_dict()"
   ]
  },
  {
   "cell_type": "code",
   "execution_count": null,
   "id": "6fe048a7",
   "metadata": {},
   "outputs": [],
   "source": [
    "df"
   ]
  },
  {
   "cell_type": "code",
   "execution_count": null,
   "id": "9790d2fd",
   "metadata": {},
   "outputs": [],
   "source": [
    "d = {}"
   ]
  },
  {
   "cell_type": "code",
   "execution_count": null,
   "id": "726edbaf",
   "metadata": {},
   "outputs": [],
   "source": [
    "for alpa in set(letters_list):\n",
    "    d[alpa] = letters_list.count(alpa)"
   ]
  },
  {
   "cell_type": "code",
   "execution_count": null,
   "id": "04ff896f",
   "metadata": {},
   "outputs": [],
   "source": [
    "d"
   ]
  },
  {
   "cell_type": "code",
   "execution_count": null,
   "id": "b1ffe7f7",
   "metadata": {},
   "outputs": [],
   "source": []
  },
  {
   "cell_type": "code",
   "execution_count": null,
   "id": "359be36c",
   "metadata": {},
   "outputs": [],
   "source": [
    "alpa"
   ]
  },
  {
   "cell_type": "code",
   "execution_count": null,
   "id": "29652ac3",
   "metadata": {},
   "outputs": [],
   "source": []
  },
  {
   "cell_type": "code",
   "execution_count": null,
   "id": "31256f33",
   "metadata": {},
   "outputs": [],
   "source": []
  },
  {
   "cell_type": "code",
   "execution_count": null,
   "id": "14a0926a",
   "metadata": {},
   "outputs": [],
   "source": []
  },
  {
   "cell_type": "code",
   "execution_count": null,
   "id": "28ee317e",
   "metadata": {},
   "outputs": [],
   "source": []
  },
  {
   "cell_type": "code",
   "execution_count": null,
   "id": "437f33a2",
   "metadata": {},
   "outputs": [],
   "source": []
  },
  {
   "cell_type": "code",
   "execution_count": null,
   "id": "9b8d84c2",
   "metadata": {},
   "outputs": [],
   "source": [
    "bb"
   ]
  },
  {
   "cell_type": "code",
   "execution_count": null,
   "id": "225c6b68",
   "metadata": {},
   "outputs": [],
   "source": []
  },
  {
   "cell_type": "code",
   "execution_count": null,
   "id": "fce1bb45",
   "metadata": {},
   "outputs": [],
   "source": []
  },
  {
   "cell_type": "code",
   "execution_count": null,
   "id": "e66f7af1",
   "metadata": {},
   "outputs": [],
   "source": []
  },
  {
   "cell_type": "code",
   "execution_count": null,
   "id": "449830b0",
   "metadata": {},
   "outputs": [],
   "source": []
  },
  {
   "cell_type": "code",
   "execution_count": null,
   "id": "b3ad2da6",
   "metadata": {},
   "outputs": [],
   "source": []
  },
  {
   "cell_type": "code",
   "execution_count": null,
   "id": "ce42ed79",
   "metadata": {},
   "outputs": [],
   "source": [
    "key_dict(letters_list)"
   ]
  },
  {
   "cell_type": "code",
   "execution_count": null,
   "id": "85e2bae3",
   "metadata": {},
   "outputs": [],
   "source": []
  },
  {
   "cell_type": "code",
   "execution_count": null,
   "id": "4c3417a2",
   "metadata": {},
   "outputs": [],
   "source": []
  }
 ],
 "metadata": {
  "kernelspec": {
   "display_name": "Python 3 (ipykernel)",
   "language": "python",
   "name": "python3"
  },
  "language_info": {
   "codemirror_mode": {
    "name": "ipython",
    "version": 3
   },
   "file_extension": ".py",
   "mimetype": "text/x-python",
   "name": "python",
   "nbconvert_exporter": "python",
   "pygments_lexer": "ipython3",
   "version": "3.11.5"
  },
  "toc": {
   "base_numbering": 1,
   "nav_menu": {},
   "number_sections": true,
   "sideBar": true,
   "skip_h1_title": false,
   "title_cell": "Table of Contents",
   "title_sidebar": "Contents",
   "toc_cell": false,
   "toc_position": {},
   "toc_section_display": true,
   "toc_window_display": true
  },
  "varInspector": {
   "cols": {
    "lenName": 16,
    "lenType": 16,
    "lenVar": 40
   },
   "kernels_config": {
    "python": {
     "delete_cmd_postfix": "",
     "delete_cmd_prefix": "del ",
     "library": "var_list.py",
     "varRefreshCmd": "print(var_dic_list())"
    },
    "r": {
     "delete_cmd_postfix": ") ",
     "delete_cmd_prefix": "rm(",
     "library": "var_list.r",
     "varRefreshCmd": "cat(var_dic_list()) "
    }
   },
   "types_to_exclude": [
    "module",
    "function",
    "builtin_function_or_method",
    "instance",
    "_Feature"
   ],
   "window_display": false
  }
 },
 "nbformat": 4,
 "nbformat_minor": 5
}
