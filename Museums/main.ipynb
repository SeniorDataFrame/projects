{
 "cells": [
  {
   "cell_type": "code",
   "execution_count": 1,
   "id": "b67466bc",
   "metadata": {
    "ExecuteTime": {
     "end_time": "2023-11-06T18:25:10.973650700Z",
     "start_time": "2023-11-06T18:25:10.321487100Z"
    }
   },
   "outputs": [],
   "source": [
    "import requests\n",
    "import pandas as pd\n",
    "from bs4 import BeautifulSoup\n",
    "from lxml import etree\n",
    "\n",
    "import requests\n",
    "from lxml import html\n"
   ]
  },
  {
   "cell_type": "markdown",
   "id": "1e2ceb76",
   "metadata": {},
   "source": [
    "## Функции"
   ]
  },
  {
   "cell_type": "code",
   "execution_count": 2,
   "id": "878c1a30",
   "metadata": {},
   "outputs": [],
   "source": [
    "def get_div(tree, xpath_format, div_mode=True):\n",
    "    list_divs = []\n",
    "\n",
    "\n",
    "    # Выбор элемента\n",
    "    selected_element = tree.xpath(xpath_format)\n",
    "\n",
    "\n",
    "    for div in selected_element:\n",
    "        # Получение HTML-разметки только для выбранного элемента\n",
    "        html_representation = html.tostring(div, encoding='unicode', method='html')\n",
    "\n",
    "        list_divs.append(html_representation)\n",
    "    return list_divs\n"
   ]
  },
  {
   "cell_type": "markdown",
   "id": "39cd3fe6",
   "metadata": {},
   "source": [
    "# Main"
   ]
  },
  {
   "cell_type": "code",
   "execution_count": 4,
   "id": "a04cf604",
   "metadata": {},
   "outputs": [],
   "source": [
    "dict_info = {}\n",
    "\n",
    "list_sites  = ['https://victorymuseum.ru/playbill/']\n",
    "\n",
    "list_xpaths = ['//div[@class=\"oblique-items\"]//div[@class=\"item\"]']\n",
    "\n",
    "\n",
    "for site, xpath  in zip(list_sites, list_xpaths):\n",
    "    response = requests.get(site)\n",
    "\n",
    "    if response.status_code == 200:\n",
    "        # Создаем объект дерева HTML из содержимого ответа\n",
    "        tree = html.fromstring(response.text)\n",
    "        \n",
    "        \n",
    "        target_obj = get_div(tree, xpath)  \n",
    "        dict_info[site] = target_obj\n",
    "        \n",
    "        \n",
    "    else:\n",
    "        print(f'Ошибка статуса {response.status_code} для {sites}')"
   ]
  },
  {
   "cell_type": "code",
   "execution_count": 11,
   "id": "9607fcef",
   "metadata": {},
   "outputs": [],
   "source": [
    "test = dict_info[site][0]"
   ]
  },
  {
   "cell_type": "code",
   "execution_count": 22,
   "id": "a54e8d6a",
   "metadata": {},
   "outputs": [],
   "source": [
    "df = pd.DataFrame(dict_info)"
   ]
  },
  {
   "cell_type": "code",
   "execution_count": 29,
   "id": "b9fe67ac",
   "metadata": {},
   "outputs": [
    {
     "data": {
      "text/html": [
       "<div>\n",
       "<style scoped>\n",
       "    .dataframe tbody tr th:only-of-type {\n",
       "        vertical-align: middle;\n",
       "    }\n",
       "\n",
       "    .dataframe tbody tr th {\n",
       "        vertical-align: top;\n",
       "    }\n",
       "\n",
       "    .dataframe thead th {\n",
       "        text-align: right;\n",
       "    }\n",
       "</style>\n",
       "<table border=\"1\" class=\"dataframe\">\n",
       "  <thead>\n",
       "    <tr style=\"text-align: right;\">\n",
       "      <th></th>\n",
       "      <th>0</th>\n",
       "    </tr>\n",
       "  </thead>\n",
       "  <tbody>\n",
       "    <tr>\n",
       "      <th>0</th>\n",
       "      <td>События</td>\n",
       "    </tr>\n",
       "    <tr>\n",
       "      <th>1</th>\n",
       "      <td>События</td>\n",
       "    </tr>\n",
       "    <tr>\n",
       "      <th>2</th>\n",
       "      <td>События</td>\n",
       "    </tr>\n",
       "    <tr>\n",
       "      <th>3</th>\n",
       "      <td>События</td>\n",
       "    </tr>\n",
       "    <tr>\n",
       "      <th>4</th>\n",
       "      <td>События</td>\n",
       "    </tr>\n",
       "    <tr>\n",
       "      <th>5</th>\n",
       "      <td>Выставки</td>\n",
       "    </tr>\n",
       "    <tr>\n",
       "      <th>6</th>\n",
       "      <td>События</td>\n",
       "    </tr>\n",
       "    <tr>\n",
       "      <th>7</th>\n",
       "      <td>События</td>\n",
       "    </tr>\n",
       "    <tr>\n",
       "      <th>8</th>\n",
       "      <td>События</td>\n",
       "    </tr>\n",
       "  </tbody>\n",
       "</table>\n",
       "</div>"
      ],
      "text/plain": [
       "          0\n",
       "0   События\n",
       "1   События\n",
       "2   События\n",
       "3   События\n",
       "4   События\n",
       "5  Выставки\n",
       "6   События\n",
       "7   События\n",
       "8   События"
      ]
     },
     "execution_count": 29,
     "metadata": {},
     "output_type": "execute_result"
    }
   ],
   "source": [
    "df['https://victorymuseum.ru/playbill/'].str.extract('>([A-Za-zА-Яа-я ,0-9]+)')"
   ]
  },
  {
   "cell_type": "code",
   "execution_count": 36,
   "id": "d7f0d9d1",
   "metadata": {},
   "outputs": [
    {
     "data": {
      "text/plain": [
       "'<div class=\"item\" id=\"bx_3218110189_255458\" data-id=\"28\">\\n\\t\\t<a href=\"/playbill/events/80-let-tegeranskoy-konferentsii/\" class=\"img-box\">\\n\\t\\t\\t\\t\\t\\t<div class=\"img-item-bg lazyload\" data-bgset=\"/upload/resize_cache/iblock/07c/9v78mgpjza3b9a40k35fpfqc39kap9z7/550_380_2/IMG_6693.jpg\"></div>\\n\\t\\t</a>\\n\\t\\t<div class=\"text-box\">\\n\\t\\t\\t\\t\\t\\t\\t<div class=\"w100\">\\n\\t\\t\\t\\t\\t<a class=\"button mini\" href=\"/playbill/events/\">События</a>\\n\\t\\t\\t\\t</div>\\n\\t\\t\\t\\n\\t\\t\\t<a class=\"name\" href=\"/playbill/events/80-let-tegeranskoy-konferentsii/\">80 лет Тегеранской конференции</a>\\n\\t\\t\\t\\t\\t\\t\\t<div class=\"text\">К юбилею\\xa0конференции «большой тройки» Музей Победы подготовил онлайн-программу.</div>\\n\\t\\t\\t\\t\\t\\t\\n\\t\\t\\t\\n\\t\\t</div>\\n\\t\\t<div class=\"bottom_box\">\\n\\t\\t\\t\\t\\t<div class=\"date ico-ba\">28.11.2023</div>\\n\\t\\t\\t\\t\\t\\t\\t\\t\\t\\n\\t\\t\\t\\n\\t\\t\\t\\t\\t\\t<div class=\"ticker-ref\">\\n\\t\\t\\t\\t\\t\\t\\t</div>\\n\\t\\t\\t\\n\\t\\t\\t\\t\\t</div>\\n\\t</div>\\n\\t\\n\\t\\n\\n\\t\\n\\t\\t'"
      ]
     },
     "execution_count": 36,
     "metadata": {},
     "output_type": "execute_result"
    }
   ],
   "source": [
    "df['https://victorymuseum.ru/playbill/'][1]"
   ]
  },
  {
   "cell_type": "code",
   "execution_count": 38,
   "id": "452ff259",
   "metadata": {},
   "outputs": [
    {
     "ename": "error",
     "evalue": "unterminated character set at position 2",
     "output_type": "error",
     "traceback": [
      "\u001b[1;31m---------------------------------------------------------------------------\u001b[0m",
      "\u001b[1;31merror\u001b[0m                                     Traceback (most recent call last)",
      "Cell \u001b[1;32mIn[38], line 1\u001b[0m\n\u001b[1;32m----> 1\u001b[0m df[\u001b[38;5;124m'\u001b[39m\u001b[38;5;124mhttps://victorymuseum.ru/playbill/\u001b[39m\u001b[38;5;124m'\u001b[39m]\u001b[38;5;241m.\u001b[39mstr\u001b[38;5;241m.\u001b[39mextractall(\u001b[38;5;124m'\u001b[39m\u001b[38;5;124m>([A-Za-zА-Яа-я ,0-9-.\u001b[39m\u001b[38;5;130;01m\\\\\u001b[39;00m\u001b[38;5;124m]+)\u001b[39m\u001b[38;5;124m'\u001b[39m)\n",
      "File \u001b[1;32m~\\anaconda3\\Lib\\site-packages\\pandas\\core\\strings\\accessor.py:129\u001b[0m, in \u001b[0;36mforbid_nonstring_types.<locals>._forbid_nonstring_types.<locals>.wrapper\u001b[1;34m(self, *args, **kwargs)\u001b[0m\n\u001b[0;32m    124\u001b[0m     msg \u001b[38;5;241m=\u001b[39m (\n\u001b[0;32m    125\u001b[0m         \u001b[38;5;124mf\u001b[39m\u001b[38;5;124m\"\u001b[39m\u001b[38;5;124mCannot use .str.\u001b[39m\u001b[38;5;132;01m{\u001b[39;00mfunc_name\u001b[38;5;132;01m}\u001b[39;00m\u001b[38;5;124m with values of \u001b[39m\u001b[38;5;124m\"\u001b[39m\n\u001b[0;32m    126\u001b[0m         \u001b[38;5;124mf\u001b[39m\u001b[38;5;124m\"\u001b[39m\u001b[38;5;124minferred dtype \u001b[39m\u001b[38;5;124m'\u001b[39m\u001b[38;5;132;01m{\u001b[39;00m\u001b[38;5;28mself\u001b[39m\u001b[38;5;241m.\u001b[39m_inferred_dtype\u001b[38;5;132;01m}\u001b[39;00m\u001b[38;5;124m'\u001b[39m\u001b[38;5;124m.\u001b[39m\u001b[38;5;124m\"\u001b[39m\n\u001b[0;32m    127\u001b[0m     )\n\u001b[0;32m    128\u001b[0m     \u001b[38;5;28;01mraise\u001b[39;00m \u001b[38;5;167;01mTypeError\u001b[39;00m(msg)\n\u001b[1;32m--> 129\u001b[0m \u001b[38;5;28;01mreturn\u001b[39;00m func(\u001b[38;5;28mself\u001b[39m, \u001b[38;5;241m*\u001b[39margs, \u001b[38;5;241m*\u001b[39m\u001b[38;5;241m*\u001b[39mkwargs)\n",
      "File \u001b[1;32m~\\anaconda3\\Lib\\site-packages\\pandas\\core\\strings\\accessor.py:2732\u001b[0m, in \u001b[0;36mStringMethods.extractall\u001b[1;34m(self, pat, flags)\u001b[0m\n\u001b[0;32m   2658\u001b[0m \u001b[38;5;250m\u001b[39m\u001b[38;5;124mr\u001b[39m\u001b[38;5;124;03m\"\"\"\u001b[39;00m\n\u001b[0;32m   2659\u001b[0m \u001b[38;5;124;03mExtract capture groups in the regex `pat` as columns in DataFrame.\u001b[39;00m\n\u001b[0;32m   2660\u001b[0m \n\u001b[1;32m   (...)\u001b[0m\n\u001b[0;32m   2729\u001b[0m \u001b[38;5;124;03mC 0        NaN     1\u001b[39;00m\n\u001b[0;32m   2730\u001b[0m \u001b[38;5;124;03m\"\"\"\u001b[39;00m\n\u001b[0;32m   2731\u001b[0m \u001b[38;5;66;03m# TODO: dispatch\u001b[39;00m\n\u001b[1;32m-> 2732\u001b[0m \u001b[38;5;28;01mreturn\u001b[39;00m str_extractall(\u001b[38;5;28mself\u001b[39m\u001b[38;5;241m.\u001b[39m_orig, pat, flags)\n",
      "File \u001b[1;32m~\\anaconda3\\Lib\\site-packages\\pandas\\core\\strings\\accessor.py:3342\u001b[0m, in \u001b[0;36mstr_extractall\u001b[1;34m(arr, pat, flags)\u001b[0m\n\u001b[0;32m   3341\u001b[0m \u001b[38;5;28;01mdef\u001b[39;00m \u001b[38;5;21mstr_extractall\u001b[39m(arr, pat, flags: \u001b[38;5;28mint\u001b[39m \u001b[38;5;241m=\u001b[39m \u001b[38;5;241m0\u001b[39m):\n\u001b[1;32m-> 3342\u001b[0m     regex \u001b[38;5;241m=\u001b[39m re\u001b[38;5;241m.\u001b[39mcompile(pat, flags\u001b[38;5;241m=\u001b[39mflags)\n\u001b[0;32m   3343\u001b[0m     \u001b[38;5;66;03m# the regex must contain capture groups.\u001b[39;00m\n\u001b[0;32m   3344\u001b[0m     \u001b[38;5;28;01mif\u001b[39;00m regex\u001b[38;5;241m.\u001b[39mgroups \u001b[38;5;241m==\u001b[39m \u001b[38;5;241m0\u001b[39m:\n",
      "File \u001b[1;32m~\\anaconda3\\Lib\\re\\__init__.py:227\u001b[0m, in \u001b[0;36mcompile\u001b[1;34m(pattern, flags)\u001b[0m\n\u001b[0;32m    225\u001b[0m \u001b[38;5;28;01mdef\u001b[39;00m \u001b[38;5;21mcompile\u001b[39m(pattern, flags\u001b[38;5;241m=\u001b[39m\u001b[38;5;241m0\u001b[39m):\n\u001b[0;32m    226\u001b[0m     \u001b[38;5;124m\"\u001b[39m\u001b[38;5;124mCompile a regular expression pattern, returning a Pattern object.\u001b[39m\u001b[38;5;124m\"\u001b[39m\n\u001b[1;32m--> 227\u001b[0m     \u001b[38;5;28;01mreturn\u001b[39;00m _compile(pattern, flags)\n",
      "File \u001b[1;32m~\\anaconda3\\Lib\\re\\__init__.py:294\u001b[0m, in \u001b[0;36m_compile\u001b[1;34m(pattern, flags)\u001b[0m\n\u001b[0;32m    288\u001b[0m     \u001b[38;5;28;01mimport\u001b[39;00m \u001b[38;5;21;01mwarnings\u001b[39;00m\n\u001b[0;32m    289\u001b[0m     warnings\u001b[38;5;241m.\u001b[39mwarn(\u001b[38;5;124m\"\u001b[39m\u001b[38;5;124mThe re.TEMPLATE/re.T flag is deprecated \u001b[39m\u001b[38;5;124m\"\u001b[39m\n\u001b[0;32m    290\u001b[0m               \u001b[38;5;124m\"\u001b[39m\u001b[38;5;124mas it is an undocumented flag \u001b[39m\u001b[38;5;124m\"\u001b[39m\n\u001b[0;32m    291\u001b[0m               \u001b[38;5;124m\"\u001b[39m\u001b[38;5;124mwithout an obvious purpose. \u001b[39m\u001b[38;5;124m\"\u001b[39m\n\u001b[0;32m    292\u001b[0m               \u001b[38;5;124m\"\u001b[39m\u001b[38;5;124mDon\u001b[39m\u001b[38;5;124m'\u001b[39m\u001b[38;5;124mt use it.\u001b[39m\u001b[38;5;124m\"\u001b[39m,\n\u001b[0;32m    293\u001b[0m               \u001b[38;5;167;01mDeprecationWarning\u001b[39;00m)\n\u001b[1;32m--> 294\u001b[0m p \u001b[38;5;241m=\u001b[39m _compiler\u001b[38;5;241m.\u001b[39mcompile(pattern, flags)\n\u001b[0;32m    295\u001b[0m \u001b[38;5;28;01mif\u001b[39;00m \u001b[38;5;129;01mnot\u001b[39;00m (flags \u001b[38;5;241m&\u001b[39m DEBUG):\n\u001b[0;32m    296\u001b[0m     \u001b[38;5;28;01mif\u001b[39;00m \u001b[38;5;28mlen\u001b[39m(_cache) \u001b[38;5;241m>\u001b[39m\u001b[38;5;241m=\u001b[39m _MAXCACHE:\n\u001b[0;32m    297\u001b[0m         \u001b[38;5;66;03m# Drop the oldest item\u001b[39;00m\n",
      "File \u001b[1;32m~\\anaconda3\\Lib\\re\\_compiler.py:743\u001b[0m, in \u001b[0;36mcompile\u001b[1;34m(p, flags)\u001b[0m\n\u001b[0;32m    741\u001b[0m \u001b[38;5;28;01mif\u001b[39;00m isstring(p):\n\u001b[0;32m    742\u001b[0m     pattern \u001b[38;5;241m=\u001b[39m p\n\u001b[1;32m--> 743\u001b[0m     p \u001b[38;5;241m=\u001b[39m _parser\u001b[38;5;241m.\u001b[39mparse(p, flags)\n\u001b[0;32m    744\u001b[0m \u001b[38;5;28;01melse\u001b[39;00m:\n\u001b[0;32m    745\u001b[0m     pattern \u001b[38;5;241m=\u001b[39m \u001b[38;5;28;01mNone\u001b[39;00m\n",
      "File \u001b[1;32m~\\anaconda3\\Lib\\re\\_parser.py:982\u001b[0m, in \u001b[0;36mparse\u001b[1;34m(str, flags, state)\u001b[0m\n\u001b[0;32m    979\u001b[0m state\u001b[38;5;241m.\u001b[39mflags \u001b[38;5;241m=\u001b[39m flags\n\u001b[0;32m    980\u001b[0m state\u001b[38;5;241m.\u001b[39mstr \u001b[38;5;241m=\u001b[39m \u001b[38;5;28mstr\u001b[39m\n\u001b[1;32m--> 982\u001b[0m p \u001b[38;5;241m=\u001b[39m _parse_sub(source, state, flags \u001b[38;5;241m&\u001b[39m SRE_FLAG_VERBOSE, \u001b[38;5;241m0\u001b[39m)\n\u001b[0;32m    983\u001b[0m p\u001b[38;5;241m.\u001b[39mstate\u001b[38;5;241m.\u001b[39mflags \u001b[38;5;241m=\u001b[39m fix_flags(\u001b[38;5;28mstr\u001b[39m, p\u001b[38;5;241m.\u001b[39mstate\u001b[38;5;241m.\u001b[39mflags)\n\u001b[0;32m    985\u001b[0m \u001b[38;5;28;01mif\u001b[39;00m source\u001b[38;5;241m.\u001b[39mnext \u001b[38;5;129;01mis\u001b[39;00m \u001b[38;5;129;01mnot\u001b[39;00m \u001b[38;5;28;01mNone\u001b[39;00m:\n",
      "File \u001b[1;32m~\\anaconda3\\Lib\\re\\_parser.py:457\u001b[0m, in \u001b[0;36m_parse_sub\u001b[1;34m(source, state, verbose, nested)\u001b[0m\n\u001b[0;32m    455\u001b[0m start \u001b[38;5;241m=\u001b[39m source\u001b[38;5;241m.\u001b[39mtell()\n\u001b[0;32m    456\u001b[0m \u001b[38;5;28;01mwhile\u001b[39;00m \u001b[38;5;28;01mTrue\u001b[39;00m:\n\u001b[1;32m--> 457\u001b[0m     itemsappend(_parse(source, state, verbose, nested \u001b[38;5;241m+\u001b[39m \u001b[38;5;241m1\u001b[39m,\n\u001b[0;32m    458\u001b[0m                        \u001b[38;5;129;01mnot\u001b[39;00m nested \u001b[38;5;129;01mand\u001b[39;00m \u001b[38;5;129;01mnot\u001b[39;00m items))\n\u001b[0;32m    459\u001b[0m     \u001b[38;5;28;01mif\u001b[39;00m \u001b[38;5;129;01mnot\u001b[39;00m sourcematch(\u001b[38;5;124m\"\u001b[39m\u001b[38;5;124m|\u001b[39m\u001b[38;5;124m\"\u001b[39m):\n\u001b[0;32m    460\u001b[0m         \u001b[38;5;28;01mbreak\u001b[39;00m\n",
      "File \u001b[1;32m~\\anaconda3\\Lib\\re\\_parser.py:865\u001b[0m, in \u001b[0;36m_parse\u001b[1;34m(source, state, verbose, nested, first)\u001b[0m\n\u001b[0;32m    862\u001b[0m     group \u001b[38;5;241m=\u001b[39m \u001b[38;5;28;01mNone\u001b[39;00m\n\u001b[0;32m    863\u001b[0m sub_verbose \u001b[38;5;241m=\u001b[39m ((verbose \u001b[38;5;129;01mor\u001b[39;00m (add_flags \u001b[38;5;241m&\u001b[39m SRE_FLAG_VERBOSE)) \u001b[38;5;129;01mand\u001b[39;00m\n\u001b[0;32m    864\u001b[0m                \u001b[38;5;129;01mnot\u001b[39;00m (del_flags \u001b[38;5;241m&\u001b[39m SRE_FLAG_VERBOSE))\n\u001b[1;32m--> 865\u001b[0m p \u001b[38;5;241m=\u001b[39m _parse_sub(source, state, sub_verbose, nested \u001b[38;5;241m+\u001b[39m \u001b[38;5;241m1\u001b[39m)\n\u001b[0;32m    866\u001b[0m \u001b[38;5;28;01mif\u001b[39;00m \u001b[38;5;129;01mnot\u001b[39;00m source\u001b[38;5;241m.\u001b[39mmatch(\u001b[38;5;124m\"\u001b[39m\u001b[38;5;124m)\u001b[39m\u001b[38;5;124m\"\u001b[39m):\n\u001b[0;32m    867\u001b[0m     \u001b[38;5;28;01mraise\u001b[39;00m source\u001b[38;5;241m.\u001b[39merror(\u001b[38;5;124m\"\u001b[39m\u001b[38;5;124mmissing ), unterminated subpattern\u001b[39m\u001b[38;5;124m\"\u001b[39m,\n\u001b[0;32m    868\u001b[0m                        source\u001b[38;5;241m.\u001b[39mtell() \u001b[38;5;241m-\u001b[39m start)\n",
      "File \u001b[1;32m~\\anaconda3\\Lib\\re\\_parser.py:457\u001b[0m, in \u001b[0;36m_parse_sub\u001b[1;34m(source, state, verbose, nested)\u001b[0m\n\u001b[0;32m    455\u001b[0m start \u001b[38;5;241m=\u001b[39m source\u001b[38;5;241m.\u001b[39mtell()\n\u001b[0;32m    456\u001b[0m \u001b[38;5;28;01mwhile\u001b[39;00m \u001b[38;5;28;01mTrue\u001b[39;00m:\n\u001b[1;32m--> 457\u001b[0m     itemsappend(_parse(source, state, verbose, nested \u001b[38;5;241m+\u001b[39m \u001b[38;5;241m1\u001b[39m,\n\u001b[0;32m    458\u001b[0m                        \u001b[38;5;129;01mnot\u001b[39;00m nested \u001b[38;5;129;01mand\u001b[39;00m \u001b[38;5;129;01mnot\u001b[39;00m items))\n\u001b[0;32m    459\u001b[0m     \u001b[38;5;28;01mif\u001b[39;00m \u001b[38;5;129;01mnot\u001b[39;00m sourcematch(\u001b[38;5;124m\"\u001b[39m\u001b[38;5;124m|\u001b[39m\u001b[38;5;124m\"\u001b[39m):\n\u001b[0;32m    460\u001b[0m         \u001b[38;5;28;01mbreak\u001b[39;00m\n",
      "File \u001b[1;32m~\\anaconda3\\Lib\\re\\_parser.py:565\u001b[0m, in \u001b[0;36m_parse\u001b[1;34m(source, state, verbose, nested, first)\u001b[0m\n\u001b[0;32m    563\u001b[0m this \u001b[38;5;241m=\u001b[39m sourceget()\n\u001b[0;32m    564\u001b[0m \u001b[38;5;28;01mif\u001b[39;00m this \u001b[38;5;129;01mis\u001b[39;00m \u001b[38;5;28;01mNone\u001b[39;00m:\n\u001b[1;32m--> 565\u001b[0m     \u001b[38;5;28;01mraise\u001b[39;00m source\u001b[38;5;241m.\u001b[39merror(\u001b[38;5;124m\"\u001b[39m\u001b[38;5;124munterminated character set\u001b[39m\u001b[38;5;124m\"\u001b[39m,\n\u001b[0;32m    566\u001b[0m                        source\u001b[38;5;241m.\u001b[39mtell() \u001b[38;5;241m-\u001b[39m here)\n\u001b[0;32m    567\u001b[0m \u001b[38;5;28;01mif\u001b[39;00m this \u001b[38;5;241m==\u001b[39m \u001b[38;5;124m\"\u001b[39m\u001b[38;5;124m]\u001b[39m\u001b[38;5;124m\"\u001b[39m \u001b[38;5;129;01mand\u001b[39;00m \u001b[38;5;28mset\u001b[39m:\n\u001b[0;32m    568\u001b[0m     \u001b[38;5;28;01mbreak\u001b[39;00m\n",
      "\u001b[1;31merror\u001b[0m: unterminated character set at position 2"
     ]
    }
   ],
   "source": [
    "df['https://victorymuseum.ru/playbill/'].str.extractall('>([A-Za-zА-Яа-я ,0-9-.\\\\]+)')"
   ]
  },
  {
   "cell_type": "code",
   "execution_count": null,
   "id": "66c48c6b",
   "metadata": {},
   "outputs": [],
   "source": []
  },
  {
   "cell_type": "code",
   "execution_count": 18,
   "id": "27bb11c7",
   "metadata": {},
   "outputs": [
    {
     "data": {
      "text/plain": [
       "'>[A-Za-zА-Яа-я ,0-9]+'"
      ]
     },
     "execution_count": 18,
     "metadata": {},
     "output_type": "execute_result"
    }
   ],
   "source": [
    "'>[A-Za-zА-Яа-я ,0-9]+'"
   ]
  },
  {
   "cell_type": "code",
   "execution_count": null,
   "id": "57b430d6",
   "metadata": {},
   "outputs": [],
   "source": []
  },
  {
   "cell_type": "code",
   "execution_count": 17,
   "id": "689ac97b",
   "metadata": {},
   "outputs": [
    {
     "name": "stdout",
     "output_type": "stream",
     "text": [
      "<div class=\"item\" id=\"bx_3218110189_251266\" data-id=\"28\">\n",
      "\t\t<a href=\"/playbill/events/den-neizvestnogo-soldata-/\" class=\"img-box\">\n",
      "\t\t\t\t\t\t<div class=\"img-item-bg lazyload\" data-bgset=\"/upload/resize_cache/iblock/799/lvh3xijw14j6r5o2y05bdthkse7khy7f/550_380_2/muzej_1.jpeg\"></div>\n",
      "\t\t</a>\n",
      "\t\t<div class=\"text-box\">\n",
      "\t\t\t\t\t\t\t<div class=\"w100\">\n",
      "\t\t\t\t\t<a class=\"button mini\" href=\"/playbill/events/\">События</a>\n",
      "\t\t\t\t</div>\n",
      "\t\t\t\n",
      "\t\t\t<a class=\"name\" href=\"/playbill/events/den-neizvestnogo-soldata-/\">День неизвестного солдата </a>\n",
      "\t\t\t\t\t\t\t<div class=\"text\">Памятная дата в России, учреждена указом Президента РФ в 2014 году</div>\n",
      "\t\t\t\t\t\t\n",
      "\t\t\t\n",
      "\t\t</div>\n",
      "\t\t<div class=\"bottom_box\">\n",
      "\t\t\t\t\t<div class=\"date ico-ba\">03.12.2023</div>\n",
      "\t\t\t\t\t\t\t\t\t\n",
      "\t\t\t\n",
      "\t\t\t\t\t\t<div class=\"ticker-ref\">\n",
      "\t\t\t\t\t\t\t</div>\n",
      "\t\t\t\n",
      "\t\t\t\t\t</div>\n",
      "\t</div>\n",
      "\t\n",
      "\t\n",
      "\n",
      "\t\n",
      "\t\t\n"
     ]
    }
   ],
   "source": [
    "print(test)"
   ]
  },
  {
   "cell_type": "code",
   "execution_count": null,
   "id": "84ab7557",
   "metadata": {},
   "outputs": [],
   "source": []
  },
  {
   "cell_type": "markdown",
   "id": "1b18efeb",
   "metadata": {},
   "source": [
    "<div class=\"item\" id=\"bx_3218110189_251266\" data-id=\"28\">\\n\\t\\t<a href=\"/playbill/events/den-neizvestnogo-soldata-/\" class=\"img-box\">\\n\\t\\t\\t\\t\\t\\t\n",
    "<div class=\"img-item-bg lazyload\" data-bgset=\"/upload/resize_cache/iblock/799/lvh3xijw14j6r5o2y05bdthkse7khy7f/550_380_2/muzej_1.jpeg\"></div>\n",
    "\\n\\t\\t</a>\\n\\t\\t<div class=\"text-box\">\\n\\t\\t\\t\\t\\t\\t\\t<div class=\"w100\">\\n\\t\\t\\t\\t\\t\n",
    "<a class=\"button mini\" href=\"/playbill/events/\">События</a>\\n\\t\\t\\t\\t</div>\\n\\t\\t\\t\\n\\t\\t\\t<a class=\"name\" href=\"/playbill/events/den-neizvestnogo-soldata-/\">День неизвестного солдата </a>\\n\\t\\t\\t\\t\\t\\t\\t<div class=\"text\">Памятная дата в России, учреждена указом Президента РФ в 2014 году</div>\\n\\t\\t\\t\\t\\t\\t\\n\\t\\t\\t\\n\\t\\t</div>\\n\\t\\t<div class=\"bottom_box\">\\n\\t\\t\\t\\t\\t<div class=\"date ico-ba\">03.12.2023</div>\\n\\t\\t\\t\\t\\t\\t\\t\\t\\t\\n\\t\\t\\t\\n\\t\\t\\t\\t\\t\\t<div class=\"ticker-ref\">\\n\\t\\t\\t\\t\\t\\t\\t</div>\\n\\t\\t\\t\\n\\t\\t\\t\\t\\t</div>\\n\\t</div>\\n\\t\\n\\t\\n\\n\\t\\n\\t\\t"
   ]
  },
  {
   "cell_type": "code",
   "execution_count": null,
   "id": "04a39053",
   "metadata": {},
   "outputs": [],
   "source": []
  },
  {
   "cell_type": "code",
   "execution_count": 14,
   "id": "c3fe6b36",
   "metadata": {},
   "outputs": [
    {
     "name": "stdout",
     "output_type": "stream",
     "text": [
      "\n",
      "\t\t\n",
      "\t\t\t\t\t\t\n",
      "\n",
      "\t\t\n",
      "\t\t\n",
      "\n",
      "\t\t\t\t\t\t\t\n",
      "\n",
      "\t\t\t\t\tСобытия\n",
      "\t\t\t\t\n",
      "\n",
      "\t\t\t\n",
      "\t\t\tДень неизвестного солдата \n",
      "\t\t\t\t\t\t\t\n",
      "Памятная дата в России, учреждена указом Президента РФ в 2014 году\n",
      "\n",
      "\t\t\t\t\t\t\n",
      "\t\t\t\n",
      "\t\t\n",
      "\n",
      "\t\t\n",
      "\n",
      "\t\t\t\t\t\n",
      "03.12.2023\n",
      "\n",
      "\t\t\t\t\t\t\t\t\t\n",
      "\t\t\t\n",
      "\t\t\t\t\t\t\n",
      "\n",
      "\t\t\t\t\t\t\t\n",
      "\n",
      "\t\t\t\n",
      "\t\t\t\t\t\n",
      "\n",
      "\t\n",
      "\n",
      "\t\n",
      "\t\n",
      "\n",
      "\t\n",
      "\t\tau\n"
     ]
    }
   ],
   "source": [
    "print('''\\n\\t\\t\\n\\t\\t\\t\\t\\t\\t\n",
    "\\n\\t\\t\\n\\t\\t\n",
    "\\n\\t\\t\\t\\t\\t\\t\\t\n",
    "\\n\\t\\t\\t\\t\\tСобытия\\n\\t\\t\\t\\t\n",
    "\\n\\t\\t\\t\\n\\t\\t\\tДень неизвестного солдата \\n\\t\\t\\t\\t\\t\\t\\t\n",
    "Памятная дата в России, учреждена указом Президента РФ в 2014 году\n",
    "\\n\\t\\t\\t\\t\\t\\t\\n\\t\\t\\t\\n\\t\\t\n",
    "\\n\\t\\t\n",
    "\\n\\t\\t\\t\\t\\t\n",
    "03.12.2023\n",
    "\\n\\t\\t\\t\\t\\t\\t\\t\\t\\t\\n\\t\\t\\t\\n\\t\\t\\t\\t\\t\\t\n",
    "\\n\\t\\t\\t\\t\\t\\t\\t\n",
    "\\n\\t\\t\\t\\n\\t\\t\\t\\t\\t\n",
    "\\n\\t\n",
    "\\n\\t\\n\\t\\n\\n\\t\\n\\t\\tau''')"
   ]
  },
  {
   "cell_type": "markdown",
   "id": "9acc57ee",
   "metadata": {},
   "source": [
    "<div class=\"item\" id=\"bx_3218110189_251266\" data-id=\"28\">\\n\\t\\t<a href=\"/playbill/events/den-neizvestnogo-soldata-/\" class=\"img-box\">\\n\\t\\t\\t\\t\\t\\t<div class=\"img-item-bg lazyload\" data-bgset=\"/upload/resize_cache/iblock/799/lvh3xijw14j6r5o2y05bdthkse7khy7f/550_380_2/muzej_1.jpeg\"></div>\\n\\t\\t</a>\\n\\t\\t<div class=\"text-box\">\\n\\t\\t\\t\\t\\t\\t\\t<div class=\"w100\">\\n\\t\\t\\t\\t\\t<a class=\"button mini\" href=\"/playbill/events/\">События</a>\\n\\t\\t\\t\\t</div>\\n\\t\\t\\t\\n\\t\\t\\t<a class=\"name\" href=\"/playbill/events/den-neizvestnogo-soldata-/\">День неизвестного солдата </a>\\n\\t\\t\\t\\t\\t\\t\\t<div class=\"text\">Памятная дата в России, учреждена указом Президента РФ в 2014 году</div>\\n\\t\\t\\t\\t\\t\\t\\n\\t\\t\\t\\n\\t\\t</div>\\n\\t\\t<div class=\"bottom_box\">\\n\\t\\t\\t\\t\\t<div class=\"date ico-ba\">03.12.2023</div>\\n\\t\\t\\t\\t\\t\\t\\t\\t\\t\\n\\t\\t\\t\\n\\t\\t\\t\\t\\t\\t<div class=\"ticker-ref\">\\n\\t\\t\\t\\t\\t\\t\\t</div>\\n\\t\\t\\t\\n\\t\\t\\t\\t\\t</div>\\n\\t</div>\\n\\t\\n\\t\\n\\n\\t\\n\\t\\t"
   ]
  },
  {
   "cell_type": "code",
   "execution_count": null,
   "id": "603a5ec7",
   "metadata": {},
   "outputs": [],
   "source": []
  },
  {
   "cell_type": "code",
   "execution_count": null,
   "id": "9ca1c0a6",
   "metadata": {},
   "outputs": [],
   "source": []
  },
  {
   "cell_type": "code",
   "execution_count": null,
   "id": "84c71116",
   "metadata": {},
   "outputs": [],
   "source": []
  },
  {
   "cell_type": "code",
   "execution_count": null,
   "id": "90aff70e",
   "metadata": {},
   "outputs": [],
   "source": [
    "dict_info = {}\n",
    "\n",
    "list_sites  = ['https://victorymuseum.ru/playbill/']\n",
    "\n",
    "list_xpaths = ['//div[@class=\"oblique-items\"]//div[@class=\"item\"]']\n",
    "\n",
    "\n",
    "for site, xpath  in zip(list_sites, list_xpaths):\n",
    "    response = requests.get(site)\n",
    "\n",
    "    if response.status_code == 200:\n",
    "        # Создаем объект дерева HTML из содержимого ответа\n",
    "        tree = html.fromstring(response.text)\n",
    "        \n",
    "        \n",
    "        target_obj = get_div(tree, xpath)  \n",
    "        dict_info[site] = target_obj\n",
    "        \n",
    "        \n",
    "    else:\n",
    "        print(f'Ошибка статуса {response.status_code} для {sites}')"
   ]
  },
  {
   "cell_type": "code",
   "execution_count": 8,
   "id": "be859bc7",
   "metadata": {},
   "outputs": [
    {
     "data": {
      "text/plain": [
       "'<div class=\"item\" id=\"bx_3218110189_251266\" data-id=\"28\">\\n\\t\\t<a href=\"/playbill/events/den-neizvestnogo-soldata-/\" class=\"img-box\">\\n\\t\\t\\t\\t\\t\\t<div class=\"img-item-bg lazyload\" data-bgset=\"/upload/resize_cache/iblock/799/lvh3xijw14j6r5o2y05bdthkse7khy7f/550_380_2/muzej_1.jpeg\"></div>\\n\\t\\t</a>\\n\\t\\t<div class=\"text-box\">\\n\\t\\t\\t\\t\\t\\t\\t<div class=\"w100\">\\n\\t\\t\\t\\t\\t<a class=\"button mini\" href=\"/playbill/events/\">События</a>\\n\\t\\t\\t\\t</div>\\n\\t\\t\\t\\n\\t\\t\\t<a class=\"name\" href=\"/playbill/events/den-neizvestnogo-soldata-/\">День неизвестного солдата </a>\\n\\t\\t\\t\\t\\t\\t\\t<div class=\"text\">Памятная дата в России, учреждена указом Президента РФ в 2014 году</div>\\n\\t\\t\\t\\t\\t\\t\\n\\t\\t\\t\\n\\t\\t</div>\\n\\t\\t<div class=\"bottom_box\">\\n\\t\\t\\t\\t\\t<div class=\"date ico-ba\">03.12.2023</div>\\n\\t\\t\\t\\t\\t\\t\\t\\t\\t\\n\\t\\t\\t\\n\\t\\t\\t\\t\\t\\t<div class=\"ticker-ref\">\\n\\t\\t\\t\\t\\t\\t\\t</div>\\n\\t\\t\\t\\n\\t\\t\\t\\t\\t</div>\\n\\t</div>\\n\\t\\n\\t\\n\\n\\t\\n\\t\\t'"
      ]
     },
     "execution_count": 8,
     "metadata": {},
     "output_type": "execute_result"
    }
   ],
   "source": [
    "target_obj[0]"
   ]
  },
  {
   "cell_type": "markdown",
   "id": "d4106989",
   "metadata": {},
   "source": [
    "<div class=\"item\" id=\"bx_3218110189_251266\" data-id=\"28\">\\n\\t\\t<a href=\"/playbill/events/den-neizvestnogo-soldata-/\" class=\"img-box\">\\n\\t\\t\\t\\t\\t\\t<div class=\"img-item-bg lazyload\" data-bgset=\"/upload/resize_cache/iblock/799/lvh3xijw14j6r5o2y05bdthkse7khy7f/550_380_2/muzej_1.jpeg\"></div>\\n\\t\\t</a>\\n\\t\\t<div class=\"text-box\">\\n\\t\\t\\t\\t\\t\\t\\t<div class=\"w100\">\\n\\t\\t\\t\\t\\t<a class=\"button mini\" href=\"/playbill/events/\">События</a>\\n\\t\\t\\t\\t</div>\\n\\t\\t\\t\\n\\t\\t\\t<a class=\"name\" href=\"/playbill/events/den-neizvestnogo-soldata-/\">День неизвестного солдата </a>\\n\\t\\t\\t\\t\\t\\t\\t<div class=\"text\">Памятная дата в России, учреждена указом Президента РФ в 2014 году</div>\\n\\t\\t\\t\\t\\t\\t\\n\\t\\t\\t\\n\\t\\t</div>\\n\\t\\t<div class=\"bottom_box\">\\n\\t\\t\\t\\t\\t<div class=\"date ico-ba\">03.12.2023</div>\\n\\t\\t\\t\\t\\t\\t\\t\\t\\t\\n\\t\\t\\t\\n\\t\\t\\t\\t\\t\\t<div class=\"ticker-ref\">\\n\\t\\t\\t\\t\\t\\t\\t</div>\\n\\t\\t\\t\\n\\t\\t\\t\\t\\t</div>\\n\\t</div>\\n\\t\\n\\t\\n\\n\\t\\n\\t\\t"
   ]
  },
  {
   "cell_type": "code",
   "execution_count": null,
   "id": "c5fcc7fb",
   "metadata": {},
   "outputs": [],
   "source": []
  },
  {
   "cell_type": "code",
   "execution_count": null,
   "id": "c7dda13b",
   "metadata": {},
   "outputs": [],
   "source": []
  },
  {
   "cell_type": "code",
   "execution_count": null,
   "id": "58ff6605",
   "metadata": {},
   "outputs": [],
   "source": [
    "dict_info = {}\n",
    "\n",
    "list_sites    = ['https://victorymuseum.ru/playbill/', 'https://stalingrad-battle.ru/about/m-news/', \n",
    "                 'https://blokadamus.ru/музей-обороны-и-блокады-ленинграда/события/']\n",
    "\n",
    "xpaths_format = [\"//div[@data-id='28']\", '//*[@class=\"item\"]', '//*[@class=\"elementor-post__card\"]', ]\n",
    "\n",
    "for site, xpath_format in zip(list_sites, xpaths_format):\n",
    "    response = requests.get(site)\n",
    "\n",
    "    if response.status_code == 200:\n",
    "        # Создаем объект дерева HTML из содержимого ответа\n",
    "        tree = html.fromstring(response.text)\n",
    "        dict_info[site] = get_div(tree, xpath_format)\n",
    "    else:\n",
    "        print(f'Ошибка статуса {response.status_code} для {sites}')"
   ]
  },
  {
   "cell_type": "code",
   "execution_count": null,
   "id": "6319c4ae",
   "metadata": {},
   "outputs": [],
   "source": []
  },
  {
   "cell_type": "markdown",
   "id": "c3f7c969",
   "metadata": {},
   "source": [
    "## div = False"
   ]
  },
  {
   "cell_type": "code",
   "execution_count": null,
   "id": "c02f06ce",
   "metadata": {},
   "outputs": [],
   "source": [
    "dict_info = {}\n",
    "\n",
    "list_sites    = ['http://www.cmaf.ru/']\n",
    "\n",
    "\n",
    "xpaths_format = ['//div[@class=\"news-list\"]//a[@style=\"font-size: 15px; font-weight: bold; margin: 0;\"]']\n",
    "for site, xpath_format in zip(list_sites, xpaths_format):\n",
    "    response = requests.get(site)\n",
    "\n",
    "    if response.status_code == 200:\n",
    "        # Создаем объект дерева HTML из содержимого ответа\n",
    "        tree = html.fromstring(response.text)\n",
    "        dict_info[site] = get_div(tree, xpath_format, div_mode=False)\n",
    "    else:\n",
    "        print(f'Ошибка статуса {response.status_code} для {sites}')"
   ]
  },
  {
   "cell_type": "code",
   "execution_count": null,
   "id": "751b376a",
   "metadata": {},
   "outputs": [],
   "source": [
    "dict_info = {}\n",
    "\n",
    "list_sites    = ['https://1418museum.ru/news/']\n",
    "xpaths_format = ['//span[@class=\"newsItem__title title title--small\"]']\n",
    "\n",
    "\n",
    "\n",
    "\n",
    "for site, xpath_format in zip(list_sites, xpaths_format):\n",
    "    response = requests.get(site)\n",
    "\n",
    "    if response.status_code == 200:\n",
    "        # Создаем объект дерева HTML из содержимого ответа\n",
    "        tree = html.fromstring(response.text)\n",
    "        dict_info[site] = get_div(tree, xpath_format, div_mode=False)\n",
    "    else:\n",
    "        print(f'Ошибка статуса {response.status_code} для {sites}')"
   ]
  },
  {
   "cell_type": "code",
   "execution_count": null,
   "id": "ad349a6b",
   "metadata": {},
   "outputs": [],
   "source": []
  },
  {
   "cell_type": "code",
   "execution_count": null,
   "id": "c3192ddf",
   "metadata": {},
   "outputs": [],
   "source": []
  },
  {
   "cell_type": "code",
   "execution_count": null,
   "id": "115df802",
   "metadata": {},
   "outputs": [],
   "source": [
    "dict_info = {}\n",
    "\n",
    "list_sites    = ['https://victorymuseum.ru/playbill/']\n",
    "xpaths_tittle = [\"//a[@class='name']\"]\n",
    "\n",
    "\n",
    "xpath_format = [\"//div[@class='text']\"]\n",
    "\n",
    "\n",
    "\n",
    "\n",
    "for site, xpath_format in zip(list_sites, xpaths_format):\n",
    "    response = requests.get(site)\n",
    "\n",
    "    if response.status_code == 200:\n",
    "        # Создаем объект дерева HTML из содержимого ответа\n",
    "        tree = html.fromstring(response.text)\n",
    "        dict_info[site] = get_div(tree, xpath_format, div_mode=False)\n",
    "    else:\n",
    "        print(f'Ошибка статуса {response.status_code} для {sites}')"
   ]
  },
  {
   "cell_type": "code",
   "execution_count": null,
   "id": "e88b7f92",
   "metadata": {},
   "outputs": [],
   "source": [
    "dict_info[site]"
   ]
  },
  {
   "cell_type": "code",
   "execution_count": null,
   "id": "6a3140ca",
   "metadata": {},
   "outputs": [],
   "source": []
  },
  {
   "cell_type": "code",
   "execution_count": null,
   "id": "41bfb20f",
   "metadata": {},
   "outputs": [],
   "source": [
    "dict_info[site]"
   ]
  },
  {
   "cell_type": "code",
   "execution_count": null,
   "id": "5f5c71ef",
   "metadata": {},
   "outputs": [],
   "source": []
  },
  {
   "cell_type": "code",
   "execution_count": null,
   "id": "1b917a8e",
   "metadata": {},
   "outputs": [],
   "source": []
  },
  {
   "cell_type": "code",
   "execution_count": null,
   "id": "d0105511",
   "metadata": {},
   "outputs": [],
   "source": [
    "https://victorymuseum.ru/playbill/"
   ]
  },
  {
   "cell_type": "code",
   "execution_count": null,
   "id": "9fa6cdc1",
   "metadata": {},
   "outputs": [],
   "source": []
  },
  {
   "cell_type": "code",
   "execution_count": null,
   "id": "60ea677f",
   "metadata": {},
   "outputs": [],
   "source": []
  },
  {
   "cell_type": "code",
   "execution_count": null,
   "id": "0156cff7",
   "metadata": {},
   "outputs": [],
   "source": [
    ", div_mode=False"
   ]
  },
  {
   "cell_type": "code",
   "execution_count": null,
   "id": "d9818a21",
   "metadata": {},
   "outputs": [],
   "source": [
    "class=\"newsItem__description text\""
   ]
  },
  {
   "cell_type": "code",
   "execution_count": null,
   "id": "7e80da71",
   "metadata": {},
   "outputs": [],
   "source": []
  },
  {
   "cell_type": "code",
   "execution_count": null,
   "id": "09c80528",
   "metadata": {},
   "outputs": [],
   "source": [
    "dict_info"
   ]
  },
  {
   "cell_type": "code",
   "execution_count": null,
   "id": "62d55a93",
   "metadata": {},
   "outputs": [],
   "source": [
    "print(response.text)"
   ]
  },
  {
   "cell_type": "code",
   "execution_count": null,
   "id": "b74af3e5",
   "metadata": {},
   "outputs": [],
   "source": []
  },
  {
   "cell_type": "code",
   "execution_count": null,
   "id": "b0843c17",
   "metadata": {},
   "outputs": [],
   "source": [
    "tree = html.fromstring(response.text)"
   ]
  },
  {
   "cell_type": "code",
   "execution_count": null,
   "id": "af36c463",
   "metadata": {},
   "outputs": [],
   "source": [
    "tree"
   ]
  },
  {
   "cell_type": "code",
   "execution_count": null,
   "id": "f4d386a7",
   "metadata": {},
   "outputs": [],
   "source": []
  },
  {
   "cell_type": "code",
   "execution_count": null,
   "id": "edf7bfb6",
   "metadata": {},
   "outputs": [],
   "source": []
  },
  {
   "cell_type": "code",
   "execution_count": null,
   "id": "55c951b6",
   "metadata": {},
   "outputs": [],
   "source": [
    "dict_info"
   ]
  },
  {
   "cell_type": "code",
   "execution_count": null,
   "id": "8c0c02f1",
   "metadata": {},
   "outputs": [],
   "source": []
  },
  {
   "cell_type": "code",
   "execution_count": null,
   "id": "189f832e",
   "metadata": {},
   "outputs": [],
   "source": [
    "//span[@class=\"newsItem__title title title--small\"]"
   ]
  },
  {
   "cell_type": "code",
   "execution_count": null,
   "id": "5bf52d41",
   "metadata": {},
   "outputs": [],
   "source": []
  },
  {
   "cell_type": "code",
   "execution_count": null,
   "id": "e5503038",
   "metadata": {},
   "outputs": [],
   "source": []
  },
  {
   "cell_type": "code",
   "execution_count": null,
   "id": "623f6671",
   "metadata": {},
   "outputs": [],
   "source": []
  },
  {
   "cell_type": "code",
   "execution_count": null,
   "id": "5d1667f4",
   "metadata": {},
   "outputs": [],
   "source": [
    "selected_element[0]"
   ]
  },
  {
   "cell_type": "code",
   "execution_count": null,
   "id": "2048595c",
   "metadata": {},
   "outputs": [],
   "source": [
    "len(selected_element)"
   ]
  },
  {
   "cell_type": "code",
   "execution_count": null,
   "id": "034eabd8",
   "metadata": {},
   "outputs": [],
   "source": [
    "    \n",
    "\n",
    "\n",
    "    for div in selected_element:\n",
    "\n",
    "        # # Создаем временный элемент и копируем содержимое выбранного элемента\n",
    "        temp_element = html.Element(\"div\")\n",
    "        temp_element.extend(div)\n",
    "\n",
    "        # Получение HTML-разметки только для выбранного элемента\n",
    "        html_representation = html.tostring(temp_element, encoding='unicode', method='html')\n",
    "\n",
    "        list_divs.append(html_representation)\n",
    "    return list_divs"
   ]
  },
  {
   "cell_type": "code",
   "execution_count": null,
   "id": "991f0fd0",
   "metadata": {},
   "outputs": [],
   "source": []
  },
  {
   "cell_type": "code",
   "execution_count": null,
   "id": "3c0c2b82",
   "metadata": {},
   "outputs": [],
   "source": []
  },
  {
   "cell_type": "code",
   "execution_count": null,
   "id": "06e75ab9",
   "metadata": {},
   "outputs": [],
   "source": [
    "tree"
   ]
  },
  {
   "cell_type": "code",
   "execution_count": null,
   "id": "332334be",
   "metadata": {},
   "outputs": [],
   "source": [
    "xpath_format"
   ]
  },
  {
   "cell_type": "code",
   "execution_count": null,
   "id": "587a1bc4",
   "metadata": {},
   "outputs": [],
   "source": [
    "tree"
   ]
  },
  {
   "cell_type": "code",
   "execution_count": null,
   "id": "1ff1ff5e",
   "metadata": {},
   "outputs": [],
   "source": [
    "dict_info"
   ]
  },
  {
   "cell_type": "code",
   "execution_count": null,
   "id": "e50bdeca",
   "metadata": {},
   "outputs": [],
   "source": []
  },
  {
   "cell_type": "code",
   "execution_count": null,
   "id": "c2d7b220",
   "metadata": {},
   "outputs": [],
   "source": []
  },
  {
   "cell_type": "code",
   "execution_count": null,
   "id": "b300fdb6",
   "metadata": {},
   "outputs": [],
   "source": [
    "for site, xpath_format in zip(list_sites, xpaths_format):\n",
    "    response = requests.get(site)\n",
    "\n",
    "    if response.status_code == 200:\n",
    "        # Создаем объект дерева HTML из содержимого ответа\n",
    "        tree = html.fromstring(response.text)\n",
    "        print('ok')"
   ]
  },
  {
   "cell_type": "code",
   "execution_count": null,
   "id": "f8e13bab",
   "metadata": {},
   "outputs": [],
   "source": [
    "soup.find_all"
   ]
  },
  {
   "cell_type": "code",
   "execution_count": null,
   "id": "d22d4f84",
   "metadata": {},
   "outputs": [],
   "source": [
    "soup = BeautifulSoup(response.text, 'html.parser')\n",
    "\n",
    "# Найти первый элемент <p> с классом \"news-item\"\n",
    "first_news_item = soup.find_all('p', class_='news-item')\n",
    "\n",
    "# Вывести содержимое найденного элемента\n",
    "print(first_news_item)"
   ]
  },
  {
   "cell_type": "code",
   "execution_count": null,
   "id": "b4265465",
   "metadata": {},
   "outputs": [],
   "source": [
    "first_news_item[0]"
   ]
  },
  {
   "cell_type": "code",
   "execution_count": null,
   "id": "0fc35ee6",
   "metadata": {},
   "outputs": [],
   "source": [
    "first_news_item[1]"
   ]
  },
  {
   "cell_type": "code",
   "execution_count": null,
   "id": "be654cca",
   "metadata": {},
   "outputs": [],
   "source": [
    "first_news_item[2]"
   ]
  },
  {
   "cell_type": "code",
   "execution_count": null,
   "id": "d1fde8f2",
   "metadata": {},
   "outputs": [],
   "source": []
  },
  {
   "cell_type": "code",
   "execution_count": null,
   "id": "6be11340",
   "metadata": {},
   "outputs": [],
   "source": []
  },
  {
   "cell_type": "code",
   "execution_count": null,
   "id": "79a4bb79",
   "metadata": {},
   "outputs": [],
   "source": []
  },
  {
   "cell_type": "code",
   "execution_count": null,
   "id": "e4607d2e",
   "metadata": {},
   "outputs": [],
   "source": []
  },
  {
   "cell_type": "code",
   "execution_count": null,
   "id": "7f19ac71",
   "metadata": {},
   "outputs": [],
   "source": []
  },
  {
   "cell_type": "code",
   "execution_count": null,
   "id": "3111d2d2",
   "metadata": {},
   "outputs": [],
   "source": [
    "temp_element = html.Element(\"p\")"
   ]
  },
  {
   "cell_type": "code",
   "execution_count": null,
   "id": "7e36cf82",
   "metadata": {},
   "outputs": [],
   "source": [
    "temp_element.extend(temp_element)"
   ]
  },
  {
   "cell_type": "code",
   "execution_count": null,
   "id": "5568574b",
   "metadata": {},
   "outputs": [],
   "source": [
    "print(html.tostring(temp_element, encoding='unicode', method='html'))"
   ]
  },
  {
   "cell_type": "code",
   "execution_count": null,
   "id": "23b29622",
   "metadata": {},
   "outputs": [],
   "source": []
  },
  {
   "cell_type": "code",
   "execution_count": null,
   "id": "3cfcc6ce",
   "metadata": {},
   "outputs": [],
   "source": []
  },
  {
   "cell_type": "code",
   "execution_count": null,
   "id": "ae3ebf0c",
   "metadata": {},
   "outputs": [],
   "source": [
    "dict_info"
   ]
  },
  {
   "cell_type": "code",
   "execution_count": null,
   "id": "5289d6e8",
   "metadata": {},
   "outputs": [],
   "source": [
    "selected_element = "
   ]
  },
  {
   "cell_type": "code",
   "execution_count": null,
   "id": "5cfe3fc5",
   "metadata": {},
   "outputs": [],
   "source": [
    "selected_element[3].text_content()"
   ]
  },
  {
   "cell_type": "code",
   "execution_count": null,
   "id": "d5f0fbc1",
   "metadata": {},
   "outputs": [],
   "source": [
    "print(div)"
   ]
  },
  {
   "cell_type": "code",
   "execution_count": null,
   "id": "516f9003",
   "metadata": {},
   "outputs": [],
   "source": []
  },
  {
   "cell_type": "code",
   "execution_count": null,
   "id": "5676458e",
   "metadata": {},
   "outputs": [],
   "source": [
    "div = selected_element[0]\n",
    "\n",
    "temp_element = html.Element(\"a\")\n",
    "# temp_element.extend(elem)\n",
    "\n",
    "# # Получение HTML-разметки только для выбранного элемента\n",
    "# html_representation = html.tostring(temp_element, encoding='unicode', method='html')\n",
    "\n",
    "# print(html_representation)"
   ]
  },
  {
   "cell_type": "code",
   "execution_count": null,
   "id": "153fc7ce",
   "metadata": {},
   "outputs": [],
   "source": [
    "html_representation = html.tostring(temp_element, encoding='unicode', method='html')"
   ]
  },
  {
   "cell_type": "code",
   "execution_count": null,
   "id": "c2051f21",
   "metadata": {},
   "outputs": [],
   "source": [
    "html_representation"
   ]
  },
  {
   "cell_type": "code",
   "execution_count": null,
   "id": "75b4269a",
   "metadata": {},
   "outputs": [],
   "source": [
    "стоп"
   ]
  },
  {
   "cell_type": "code",
   "execution_count": null,
   "id": "32df7a8a",
   "metadata": {},
   "outputs": [],
   "source": []
  },
  {
   "cell_type": "markdown",
   "id": "1b70b59e",
   "metadata": {},
   "source": [
    "## Как можно парсить"
   ]
  },
  {
   "cell_type": "code",
   "execution_count": null,
   "id": "5d520c7c",
   "metadata": {},
   "outputs": [],
   "source": [
    "cnjg"
   ]
  },
  {
   "cell_type": "code",
   "execution_count": null,
   "id": "7fb548c1",
   "metadata": {
    "scrolled": true
   },
   "outputs": [],
   "source": [
    "# Парсинг HTML\n",
    "tree = html.fromstring(response.text)\n",
    "\n",
    "# Выбор элемента\n",
    "selected_element = tree.xpath(\"//div[@data-id='28']\")[0]\n",
    "\n",
    "# # Создаем временный элемент и копируем содержимое выбранного элемента\n",
    "temp_element = html.Element(\"div\")\n",
    "\n",
    "temp_element.extend(selected_element)\n",
    "\n",
    "# Получение HTML-разметки только для выбранного элемента\n",
    "html_representation = html.tostring(temp_element, encoding='unicode', method='html')\n",
    "\n",
    "print(html_representation)\n"
   ]
  },
  {
   "cell_type": "code",
   "execution_count": null,
   "id": "faffc98f",
   "metadata": {},
   "outputs": [],
   "source": []
  },
  {
   "cell_type": "code",
   "execution_count": null,
   "id": "9d031674",
   "metadata": {},
   "outputs": [],
   "source": []
  },
  {
   "cell_type": "code",
   "execution_count": null,
   "id": "0bef35f7",
   "metadata": {},
   "outputs": [],
   "source": [
    "# Парсинг HTML\n",
    "tree = html.fromstring(response.text)\n",
    "\n",
    "# Выбор элемента\n",
    "selected_element = tree.xpath(\"//div[@data-id='28']\")[0]\n",
    "\n",
    "# # Создаем временный элемент и копируем содержимое выбранного элемента\n",
    "temp_element = html.Element(\"div\")\n",
    "temp_element.extend(selected_element)\n",
    "\n",
    "# Получение HTML-разметки только для выбранного элемента\n",
    "html_representation = html.tostring(temp_element, encoding='unicode', method='html')\n",
    "\n",
    "print(html_representation)"
   ]
  },
  {
   "cell_type": "code",
   "execution_count": null,
   "id": "5f0ca5e0",
   "metadata": {},
   "outputs": [],
   "source": []
  },
  {
   "cell_type": "code",
   "execution_count": null,
   "id": "ce3b3a71",
   "metadata": {},
   "outputs": [],
   "source": []
  },
  {
   "cell_type": "code",
   "execution_count": null,
   "id": "b7fc183c",
   "metadata": {},
   "outputs": [],
   "source": []
  }
 ],
 "metadata": {
  "kernelspec": {
   "display_name": "Python 3 (ipykernel)",
   "language": "python",
   "name": "python3"
  },
  "language_info": {
   "codemirror_mode": {
    "name": "ipython",
    "version": 3
   },
   "file_extension": ".py",
   "mimetype": "text/x-python",
   "name": "python",
   "nbconvert_exporter": "python",
   "pygments_lexer": "ipython3",
   "version": "3.11.5"
  },
  "toc": {
   "base_numbering": 1,
   "nav_menu": {},
   "number_sections": true,
   "sideBar": true,
   "skip_h1_title": false,
   "title_cell": "Table of Contents",
   "title_sidebar": "Contents",
   "toc_cell": false,
   "toc_position": {},
   "toc_section_display": true,
   "toc_window_display": true
  },
  "varInspector": {
   "cols": {
    "lenName": 16,
    "lenType": 16,
    "lenVar": 40
   },
   "kernels_config": {
    "python": {
     "delete_cmd_postfix": "",
     "delete_cmd_prefix": "del ",
     "library": "var_list.py",
     "varRefreshCmd": "print(var_dic_list())"
    },
    "r": {
     "delete_cmd_postfix": ") ",
     "delete_cmd_prefix": "rm(",
     "library": "var_list.r",
     "varRefreshCmd": "cat(var_dic_list()) "
    }
   },
   "types_to_exclude": [
    "module",
    "function",
    "builtin_function_or_method",
    "instance",
    "_Feature"
   ],
   "window_display": false
  }
 },
 "nbformat": 4,
 "nbformat_minor": 5
}
