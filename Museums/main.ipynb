{
 "cells": [
  {
   "cell_type": "code",
   "execution_count": 1,
   "id": "b67466bc",
   "metadata": {
    "ExecuteTime": {
     "end_time": "2023-11-06T18:25:10.973650700Z",
     "start_time": "2023-11-06T18:25:10.321487100Z"
    }
   },
   "outputs": [],
   "source": [
    "import requests\n",
    "import pandas as pd\n",
    "\n",
    "\n",
    "import re\n",
    "import hashlib\n",
    "import sqlite3\n",
    "import telegram_send\n",
    "import telebot\n",
    "import time\n",
    "import configparser\n",
    "\n",
    "from lxml import html\n",
    "from requests.exceptions import ConnectTimeout\n",
    "from bs4 import BeautifulSoup\n",
    "from lxml import etree\n",
    "from urllib3.exceptions import MaxRetryError, SSLError"
   ]
  },
  {
   "cell_type": "code",
   "execution_count": 2,
   "id": "6d0a843a",
   "metadata": {},
   "outputs": [],
   "source": [
    "#Ограничивает длину слов\n",
    "WORLD_LIMIT = 400\n",
    "\n",
    "TEST_CHANEL = '-1002035663893'"
   ]
  },
  {
   "cell_type": "code",
   "execution_count": 3,
   "id": "e3ec4671",
   "metadata": {},
   "outputs": [],
   "source": [
    "# Создание объекта конфигурации\n",
    "config = configparser.ConfigParser()\n",
    "\n",
    "# Чтение данных из файла\n",
    "config.read('config.ini')\n",
    "\n",
    "BOT_TOKEN = config.get('tokens', 'BOT_TOKEN')"
   ]
  },
  {
   "cell_type": "code",
   "execution_count": 4,
   "id": "01d8258a",
   "metadata": {},
   "outputs": [],
   "source": [
    "df_chanels = pd.DataFrame([['top_Z_museum', 1], \n",
    "                           ['high_Z_museum', 1], \n",
    "                           ['region_Z_museum', 1], \n",
    "                           ['low_Z_museum', 2],\n",
    "                           ['gulag', 3],\n",
    "                           ['for_phd', 4],\n",
    "                                            ],columns=['category', 'stage'])\n",
    "\n",
    "\n",
    "d_stage = {\n",
    "1:'-1002045319076', \n",
    "2:'-1002014969214',\n",
    "3:'-1002124668886',\n",
    "4:'-1001995503652',\n",
    "}"
   ]
  },
  {
   "cell_type": "markdown",
   "id": "1e2ceb76",
   "metadata": {},
   "source": [
    "## Функции"
   ]
  },
  {
   "cell_type": "code",
   "execution_count": 5,
   "id": "dc89adbe",
   "metadata": {},
   "outputs": [],
   "source": [
    "def get_element(response, xpath_format, div_mode=True):\n",
    "    \n",
    "    tree = html.fromstring(response)\n",
    "    list_divs = []\n",
    "\n",
    "\n",
    "    # Выбор элемента\n",
    "    selected_element = tree.xpath(xpath_format)\n",
    "\n",
    "\n",
    "    for div in selected_element:\n",
    "        # Получение HTML-разметки только для выбранного элемента\n",
    "        html_representation = html.tostring(div, encoding='unicode', method='html')\n",
    "\n",
    "        list_divs.append(html_representation)\n",
    "    return list_divs"
   ]
  },
  {
   "cell_type": "code",
   "execution_count": null,
   "id": "ae05d22a",
   "metadata": {},
   "outputs": [],
   "source": []
  },
  {
   "cell_type": "markdown",
   "id": "39cd3fe6",
   "metadata": {},
   "source": [
    "# Parse"
   ]
  },
  {
   "cell_type": "markdown",
   "id": "549733ef",
   "metadata": {},
   "source": [
    "## Большой лист"
   ]
  },
  {
   "cell_type": "code",
   "execution_count": 6,
   "id": "10de4bee",
   "metadata": {},
   "outputs": [],
   "source": [
    "dict_mus = {\n",
    "\n",
    "    \n",
    "## Профильные/ тематические (мой личный топ Z музеев)\n",
    "    \n",
    "# 'Музей победы': ['https://victorymuseum.ru/playbill/',\n",
    "# '//div[@class=\"oblique-items\"]//div[@class=\"item\"]', 'top_Z_museum'],\n",
    "    \n",
    "# 'Музей заповедник Сталинградская битва': ['https://stalingrad-battle.ru/',\n",
    "# '//div[@class=\"section gray-bg fringe-top-gray fringe-bottom-gray\"]//div[@class=\"item\"]', 'top_Z_museum'],\n",
    "    \n",
    "# 'Музей блокады Ленинграда': ['https://blokadamus.ru/музей-обороны-и-блокады-ленинграда/события/',\n",
    "# '//*[@class=\"elementor-post__card\"]', 'top_Z_museum'],\n",
    "    \n",
    "# 'Музей минобороны в Москве': ['http://www.cmaf.ru/',\n",
    "# '//*[@class=\"reg-news\"]//p[@class=\"news-item\"]/following-sibling::*[1]', 'top_Z_museum'],\n",
    "    \n",
    "# 'Музей дорогами победы (парк Патриот)': ['https://1418museum.ru/news/',\n",
    "# '//*[@class=\"newsItem__contains\"]', 'top_Z_museum'],\n",
    "    \n",
    "# 'Бородинская битва': ['https://1812panorama.ru/afisha',\n",
    "# '//*[@class=\"field-more-title\"]', 'top_Z_museum'],\n",
    "    \n",
    "    \n",
    "    \n",
    "    \n",
    "    \n",
    "# ## Столичные чуть менее Z\n",
    "    \n",
    "# 'Музей современной истории России': ['https://sovrhistory.ru/exhibitions/future/index.php',\n",
    "# '//*[@class=\"exhibitions__text\"]', 'high_Z_museum'],\n",
    "    \n",
    "# 'Выставочный центр Манеж, Москва': ['https://moscowmanege.ru/ru/vystavki-all/',\n",
    "# '//*[@class=\"news-block exhibition\"]', 'high_Z_museum'],\n",
    "    \n",
    "# 'Музей Москвы': ['https://mosmuseum.ru/exhibitions/',\n",
    "# '//*[@class=\"articles-grid\"]//*[@class=\"content\"]', 'high_Z_museum'],\n",
    "    \n",
    "# 'ГИМ, Москва': ['https://mediashm.ru/?all=1', '//a[@class=\"element\"]', 'high_Z_museum'],\n",
    "    \n",
    "# 'Музей кино, Москва': ['https://www.museikino.ru/media_center/',\n",
    "# '//div[@class=\"media__inf\"]', 'high_Z_museum'],\n",
    "    \n",
    "    \n",
    "# ## Региональные Z  \n",
    "\n",
    "# 'Тульский музей оружия ': ['https://www.museum-arms.ru/news/?str1=2024',\n",
    "# '//div[@class=\"newsfirst\"]', 'region_Z_museum'],\n",
    "    \n",
    "# 'Музей военной истории «Свердловск: Говорит Москва!» ': ['https://ugvim.ru/news/',\n",
    "# '//a[@class=\"front_cont h_more_w\"]', 'region_Z_museum'],\n",
    "    \n",
    "# 'Дом-музей В.И. Ленина': ['https://www.leninmemorial.ru/news/',\n",
    "# '//div[@class=\"row row-news-page\"]', 'region_Z_museum'],\n",
    "    \n",
    "# 'Мемориал «В честь героев Курской битвы»': ['http://мемориал.бгикм.рф/меню/новости',\n",
    "# '//div[@class=\"post\"]', 'region_Z_museum'],\n",
    "    \n",
    "# 'Мемориальный музей военного и трудового подвига 1941–1945 гг': ['http://patriotrm.clan.su/news/?page1',\n",
    "# '//td[@style=\"padding:3px;\"]', 'region_Z_museum'],\n",
    "    \n",
    "# 'ГОСУДАРСТВЕННЫЙ ВОЕННО-ИСТОРИЧЕСКИЙ МУЗЕЙ-ЗАПОВЕДНИК «ПРОХОРОВСКОЕ ПОЛЕ»': ['https://прохоровское-поле.рф/vystavochnaya-deyatelnost.html',\n",
    "# '//div[@class=\"news-item\"]', 'region_Z_museum'],\n",
    "    \n",
    "# 'Государственный музей политической истории России ': [f'https://polithistory.ru/news-{pd.to_datetime(\"now\").year}',\n",
    "# '//div[@class=\"sc_news_items \"]/article', 'region_Z_museum'],\n",
    "    \n",
    "    \n",
    "# 'Музейно-мемориальный комплекс «История танка Т-34»': ['https://museum-t-34.ru/новости/',\n",
    "# '//div[@class=\"site_content_left\"]', 'region_Z_museum'],\n",
    "    \n",
    "# 'Музей «Боевая слава» г. Дербента': ['https://derbentmuseum.ru/',\n",
    "# '//section[@class=\"blog\"]//div[@class=\"col-lg-4\"]', 'region_Z_museum'],\n",
    "    \n",
    "# 'Музей «Мемориал Победы»': ['https://memorial24.ru/novosti',\n",
    "# '//div[@class=\"novelty clearfix novelty-teaser\"]', 'region_Z_museum'],\n",
    "    \n",
    "# 'Музей «Смоленщина в годы Великой Отечественной войны 1941−1945 гг.': ['https://www.smolensk-museum.ru/novosti/muzeynaya_zhizn/',\n",
    "# '//div[@class=\"news__item\"]', 'region_Z_museum'],\n",
    "    \n",
    "# 'Музей «Невский пятачок': ['https://www.lenoblmus.ru/news',\n",
    "# '//li[@class=\"col-md-4 col-lg-3 col-sm-6 col-xs-12\"]', 'region_Z_museum'],\n",
    "    \n",
    "# 'Музей «Дорога жизни»': ['https://navalmuseum.ru/news',\n",
    "# '//div[@class=\"content-box\"]', 'region_Z_museum'],\n",
    "\n",
    "\n",
    "# ## Региональные исторические/краеведческие музеи, в которых что то проскакивает\n",
    "    \n",
    "# 'Самарский областной историко-краеведческий музей им. П.В. Алабина': ['https://alabin.ru/',\n",
    "# '//div[@class=\"news__post\"]', 'low_Z_museum'],\n",
    "    \n",
    "# 'Якутский государственный объединенный музей истории и культуры народов Севера им. Ем. Ярославского': ['https://yakutmuseum.ru/',\n",
    "# '//a[@class=\"news-item\"]', 'low_Z_museum'],\n",
    "    \n",
    "# 'Краснодарский государственный историко-археологический музей-заповедник им. Е.Д. Фелицына': ['https://felicina.ru/news/',\n",
    "# '//div[@class=\"content-area content-left col-md-8 col-sm-8\"]//article', 'low_Z_museum'],\n",
    "    \n",
    "# 'Государственный исторический музей Южного Урала': ['http://www.chelmuseum.ru/news/#content',\n",
    "# '//div[@class=\"card\"]', 'low_Z_museum'],\n",
    "    \n",
    "# 'Тамбовский областной краеведческий музей': ['https://tmbmuseum.ru/mainmenu/news/relevant',\n",
    "# '//h3', 'low_Z_museum'],\n",
    "    \n",
    "# 'Национальный музей Республики Башкортостан ': ['https://museumrb.ru/category/afisha/events/',\n",
    "# '//div[@class=\"upcoming-event-2 pt-80 pb-80\"]//div[@class=\"single-event single-event-3 mb-30 wow fadeInUp my-single-event-3\"]', 'low_Z_museum'],\n",
    "    \n",
    "# 'Ставропольский государственный музей-заповедник': ['https://stavmuseum.ru/',\n",
    "# '//div[@class=\"anonsiblock\"]', 'low_Z_museum'],\n",
    "    \n",
    "# 'Новосибирский государственный краеведческий музей': ['https://youmuseum.ru/news/',\n",
    "# '//div[@class=\"text\"]', 'low_Z_museum'],\n",
    "\n",
    "# 'Белгородский государственный историко-краеведческий музей ': ['http://бгикм.рф/news/',\n",
    "# '//div[@class=\"news_elem_container\"]', 'low_Z_museum'],\n",
    "    \n",
    "# 'Оренбургский губернаторский историко-краеведческий музей ': ['http://ogikm.ru/',\n",
    "# '//div[@class=\"tab-content\"]//div[@class=\"item\"]', 'low_Z_museum'],\n",
    "    \n",
    "# 'Омский государственный историко-краеведческий музей': ['https://sibmuseum.ru/news/',\n",
    "# '//a[@class=\"news-card__link\"]', 'low_Z_museum'],\n",
    "    \n",
    "# 'Национальный музей Удмуртской Республики им. К. Герда': ['https://nmur.ru/afisha',\n",
    "# '//div[@class=\"single-block\"]', 'low_Z_museum'] ,\n",
    "    \n",
    "# 'Саратовский областной музей краеведения': ['http://www.comk.ru/museum/news/',\n",
    "# '//div[@class=\"news-item\"]', 'low_Z_museum'] ,   \n",
    "\n",
    "# 'Национальный музей Республики Марий Эл им. Т. Евсеева ': ['https://www.fumus.ru/events/',\n",
    "# '//ul[@class=\"events__list\"]/li', 'low_Z_museum'] ,  \n",
    "    \n",
    "# 'Ростовский областной музей краеведения ': ['https://www.rostovmuseum.ru/calendar/list-of-events/',\n",
    "# '//div[@class=\"row\"]//div[@class=\"s-news-wrapper\"]', 'low_Z_museum'] ,  \n",
    "\n",
    "# 'Воронежский областной краеведческий музей ': ['https://museum-vrn.ru/muzej/novosti/',\n",
    "# '//a[@class=\"i-wrap\"]', 'low_Z_museum'] , \n",
    "    \n",
    "# 'Национальный музей Республики Татарстан ': ['https://tatmuseum.ru/news/?PAGEN_1=4',\n",
    "# '//a[@class=\"news-item\"]', 'low_Z_museum'] , \n",
    "\n",
    "# 'Брянский государственный краеведческий музей ': ['https://bgkm.ru/',\n",
    "# '//div[@class=\"bloglatestnews1\"]/div', 'low_Z_museum'] , \n",
    "    \n",
    "# 'Музей истории Бурятии им. М.Н. Хангалова ': ['https://muzeyrb.ru/sobytiya-1?page=2',\n",
    "# '//article[@class=\"col-lg-4 mb-50 animate-conner\"]', 'low_Z_museum'] , \n",
    "    \n",
    "# 'Национальный музей Республики Дагестан им. А. Тахо-Годи ': ['https://dagmuzey.ru/events',\n",
    "# '//a[@class=\"s-events-wrapper__item s-events-wrapper-item\"]', 'low_Z_museum'] , \n",
    "    \n",
    "# 'Ульяновский областной краеведческий музей имени И.А. Гончарова ': ['https://uokm.site/category/уокм/новости/',\n",
    "# '//a[@class=\"a news-link\"]', 'low_Z_museum'], \n",
    "    \n",
    "# 'Музей истории города Улан-Удэ ': ['https://uumuseum.ru/news/',\n",
    "# '//a[@class=\"event-index-item\"]', 'low_Z_museum'], \n",
    "\n",
    "# 'Национальный музей Республики Коми ': ['https://museumkomi.ru/?cat=3',\n",
    "# '//div[@class=\"special-category\"]', 'low_Z_museum'], \n",
    "\n",
    "# 'Национальный музей Республики Алтай имени А.В. Анохина ': ['http://musey-anohina.ru/index.php/novosti',\n",
    "# '//div[@class=\"catItemBody\"]', 'low_Z_museum'], \n",
    "    \n",
    "# 'Чувашский национальный музей ': ['https://chnmuseum.ru/news/',\n",
    "# '//main[@class=\"site-main\"]/article', 'low_Z_museum'],   \n",
    "    \n",
    "# 'Мордовский республиканский объединенный краеведческий музей им. И.Д. Воронина ': ['http://mrkm.ru/novosti/?PAGEN_1=4',\n",
    "# '//a[@class=\"box news\"]', 'low_Z_museum'],  \n",
    "    \n",
    "# 'Национальный музей им. Алдан Маадыр Республики Тыва ': ['https://музейтыва.рф/?cat=16&paged=1',\n",
    "# '//div[@class=\"main col-lg-9 col-md-8  postlist\"]/article', 'low_Z_museum'], \n",
    "\n",
    "# 'Хабаровский краевой музей имени Н.И. Гродекова ': ['https://hkm.ru/news/',\n",
    "# '//a[@class=\"new-item list-item\"]', 'low_Z_museum'], \n",
    "    \n",
    "\n",
    "# 'Калининградский областной историко-художественный музей ': ['https://koihm.ru/category/novosti/',\n",
    "# '//div[@class=\"article-inner\"]', 'low_Z_museum'], \n",
    "    \n",
    "# 'Национальный музей Республики Карелия ': ['https://kareliamuseum.ru/news/',\n",
    "# '//article[@class=\"clearfix l-news-article\"]', 'low_Z_museum'], \n",
    "    \n",
    "# 'Астраханский музей заповедник ': ['https://astmuseum.ru/ru/news/',\n",
    "# '//div[@class=\"iblock-list-item-wrap  \"]', 'low_Z_museum'], \n",
    "    \n",
    "# 'Сургутский краеведческий музей ': ['https://skmuseum.ru/',\n",
    "# '//ul[@class=\"is-layout-flow wp-block-post-template has-small-font-size\"]/li', 'low_Z_museum'], \n",
    "\n",
    "# 'Магаданский областной краеведческий музей ': ['https://magadanmuseum.ru/index.php?do=cat&category=news',\n",
    "# '//div[@id=\"dle-content\"]/table', 'low_Z_museum'], \n",
    "\n",
    "# 'Курский областной краеведческий музей ': ['http://kursk-museum.ru/',\n",
    "# '//div[@class=\"clearfix news_content\"]', 'low_Z_museum'],  \n",
    "    \n",
    "# 'Национальный музей Республики Адыгея ': ['https://adyg-museum.ru/ru/',\n",
    "# '//div[@class=\" col-12 col-sm-12 col-md-6 col-lg-4 col-xl-4\"]|//div[@class=\" col-12 col-sm-12 col-md-12 col-lg-6 col-xl-6\"]', 'low_Z_museum'],  \n",
    "\n",
    "# 'Музейно-выставочный центр г. Иваново ': ['http://www.igikm.ru/sobytiya/novosti/',\n",
    "# '//p[@class=\"announce-text\"]', 'low_Z_museum'], \n",
    "    \n",
    "# ## ГУЛАГ\n",
    "    \n",
    "  \n",
    "# 'Музей Анны Ахматовой в Фонтанном доме': ['https://www.akhmatova.spb.ru/afisha',\n",
    "# '//a[@class=\"js-product-link\"]', 'gulag'],\n",
    "    \n",
    "# 'Музей Гулага': ['https://gmig.ru/museum/news/',\n",
    "# '//a[@class=\"news-in-list\"]', 'gulag'],\n",
    "    \n",
    "# 'Соловецкий государственный историко-архитектурный и природный музей-заповедник': ['http://solovky.ru/ru/vystavki/v-rossii-peredvizhnye-vystavki',\n",
    "# '//div[@class=\"field field-name-field-expandable-block field-type-field-collection field-label-hidden\"]/div[@class=\"field-items\"]/div', 'gulag'],\n",
    "\n",
    "# 'Новый музей обороны и блокады Ленинграда, АНАСТАСИЯ КАРКАЧЕВА О ВЫСТАВКЕ В НОВОМ МУЗЕЕ': ['https://www.colta.ru/articles/art/14086-novyy-muzey-oborony-i-blokady-leningrada',\n",
    "# '//div[@class=\"mask left_posts\"]/article', 'gulag'],\n",
    "    \n",
    "# 'Пермь 36': ['https://mperm36.ru/novosti',\n",
    "# '//div[@class=\"news-row\"]/div', 'gulag'],\n",
    "    \n",
    "# 'Военно-медицинский музей': ['https://milmed.spb.ru/category/новости/',\n",
    "# '//div[@class=\"col_block\"]', 'gulag'],\n",
    "    \n",
    "\n",
    "## for_phd\n",
    "    \n",
    "    \n",
    "'the Irish Emigration Museum ': ['https://epicchq.com/news/',\n",
    "'//div[@class=\"dp-dfg-items\"]/article', 'for_phd'],    \n",
    "\n",
    "'the National Famine Museum in Strokestown Park ': ['https://strokestownpark.ie/news/',\n",
    "'//div[@class=\"wp-block-uagb-post-grid uagb-post-grid  uagb-post__image-position-top uagb-post__image-enabled uagb-block-669ddf27     uagb-post__items uagb-post__columns-4 is-grid uagb-post__columns-tablet-2 uagb-post__columns-mobile-1\"]/article', 'for_phd'],    \n",
    "    \n",
    "'Ireland’s Great Hunger Museum of Fairfield ': ['https://www.theirishpotatofamine.com/blogs/blog-1',\n",
    "'//div[@class=\"border-top\"]', 'for_phd'],  \n",
    "    \n",
    "'the Irish Heritage Trust ': ['https://irishheritagetrust.ie/news/',\n",
    "'//article[@class=\"uagb-post__inner-wrap\"]', 'for_phd'],    \n",
    "    \n",
    "'the National Museum of the Republic Kazakhstan ': ['https://nmrk.kz/ru/press/news/',\n",
    "'//div[@class=\"news-main\"]/div', 'for_phd'],    \n",
    "        \n",
    "    \n",
    "        \n",
    "    \n",
    "    \n",
    "    \n",
    "  \n",
    "                                                   }"
   ]
  },
  {
   "cell_type": "code",
   "execution_count": 7,
   "id": "a04cf604",
   "metadata": {
    "scrolled": true
   },
   "outputs": [],
   "source": [
    "dict_info = {}\n",
    "\n",
    "\n",
    "headers = {\n",
    "    'User-Agent': 'Mozilla/5.0 (Windows NT 10.0; Win64; x64) AppleWebKit/537.36 (KHTML, like Gecko) Chrome/91.0.4472.124 Safari/537.36',\n",
    "}\n",
    "\n",
    "for name in dict_mus:\n",
    "    site = dict_mus[name][0]\n",
    "    xpath = dict_mus[name][1]\n",
    "    group_name = dict_mus[name][2]\n",
    "    \n",
    "    try:\n",
    "        response = requests.get(site,  verify=False\n",
    "                                , headers=headers\n",
    "                               )\n",
    "    except ConnectTimeout:\n",
    "        print(f\"Время подключения к {site} истекло.\")\n",
    "        continue\n",
    "        \n",
    "    except ConnectTimeout:\n",
    "        print(f\"Произошла ошибка MaxRetryError: {site}\")\n",
    "        continue\n",
    "        \n",
    "    except requests.exceptions.SSLError as e:\n",
    "        print(f\"Произошла ошибка SSLError: {site}\")\n",
    "        continue\n",
    "\n",
    "    if response.status_code == 200:\n",
    "        # Создаем объект дерева HTML из содержимого ответа\n",
    "        \n",
    "        \n",
    "        dict_info[site] = get_element(response.text, xpath)\n",
    "        \n",
    "    elif response.status_code == 404:    \n",
    "        # Создаем объект дерева HTML из содержимого ответа\n",
    "        print(f'Ошибка 404 для сайта  {site}')\n",
    "        \n",
    "        \n",
    "    else:\n",
    "        print(f'Ошибка статуса {response.status_code} для {site}')"
   ]
  },
  {
   "cell_type": "code",
   "execution_count": null,
   "id": "fb122106",
   "metadata": {},
   "outputs": [],
   "source": []
  },
  {
   "cell_type": "markdown",
   "id": "04d0be65",
   "metadata": {},
   "source": [
    "## Большой лист pyppeteer"
   ]
  },
  {
   "cell_type": "code",
   "execution_count": 8,
   "id": "a9cef3bd",
   "metadata": {},
   "outputs": [],
   "source": [
    "import nest_asyncio\n",
    "nest_asyncio.apply()\n",
    "from pyppeteer import launch\n",
    "\n",
    "import asyncio\n",
    "from lxml import html"
   ]
  },
  {
   "cell_type": "code",
   "execution_count": 9,
   "id": "5ad24007",
   "metadata": {},
   "outputs": [],
   "source": [
    "dict_mus_pyppeteer = {\n",
    "\n",
    "    \n",
    "## Профильные/ тематические (мой личный топ Z музеев)\n",
    "    \n",
    "# 'Музей-заповедник «Прорыв блокады Ленинграда» ': ['https://mbitva.ru/#action',\n",
    "# '//div[@class=\"ul-bi-post-content__text normal\"]', 'top_Z_museum'],\n",
    "    \n",
    "# 'Бородинский военно-исторический музей-заповедник ': ['https://www.borodino.ru/category/novosti/',\n",
    "# '//div[@class=\"item-archive\"]', 'top_Z_museum'],\n",
    "    \n",
    "    \n",
    "# 'Выставочные залы Москвы ': ['https://vzmoscow.ru/',\n",
    "# '//div[@class=\"t-feed__textwrapper\"]', 'high_Z_museum'],\n",
    "    \n",
    "    \n",
    "# 'Белгородский государственный историко-художественный музей-диорама «Курская битва. Белгородское направление» ': ['https://www.31md.ru/novosti',\n",
    "# '//ul[@class=\"js-feed-container t-feed__container t897__container t-feed__container_mobile-grid t-feed__container_inrow4\"]/li', 'low_Z_museum'],\n",
    "\n",
    "# 'Алтайский государственный краеведческий музей ': ['https://myagkm.ru/allnews',\n",
    "# '//div[@class=\"js-feed-container t-feed__container t-container\"]/li', 'low_Z_museum'],\n",
    "    \n",
    "# 'Музей НКВД ': ['https://nkvdmuseum.ru/',\n",
    "# '//ul[@class=\"js-feed-container t-feed__container t897__container t-feed__container_mobile-grid t-feed__container_inrow4\"]/li', 'gulag'],\n",
    "  \n",
    "    \n",
    "'Музей революции ': ['https://mira1.ru/',\n",
    "'//div[@class=\"subsection\"]/a', 'gulag'],\n",
    "   \n",
    "    \n",
    "    \n",
    "    \n",
    "    \n",
    "                                                   }"
   ]
  },
  {
   "cell_type": "code",
   "execution_count": 10,
   "id": "783d2b6d",
   "metadata": {},
   "outputs": [],
   "source": [
    "for name in dict_mus_pyppeteer:\n",
    "    site = dict_mus_pyppeteer[name][0]\n",
    "    xpath = dict_mus_pyppeteer[name][1]\n",
    "    group_name = dict_mus_pyppeteer[name][2]\n",
    "    \n",
    "    async def main():\n",
    "       browserObj = await launch()\n",
    "       url = await browserObj.newPage()\n",
    "       await url.goto(site)\n",
    "\n",
    "       await url.waitForXPath(xpath, {'visible': False})\n",
    "\n",
    "\n",
    "       ## Get HTML\n",
    "       htmlContent = await url.content()\n",
    "       await browserObj.close()\n",
    "       return htmlContent\n",
    "\n",
    "\n",
    "    response = asyncio.get_event_loop().run_until_complete(main())\n",
    "    \n",
    "    dict_info[site] = get_element(response, xpath)"
   ]
  },
  {
   "cell_type": "code",
   "execution_count": 11,
   "id": "b4c68ec6",
   "metadata": {},
   "outputs": [],
   "source": [
    "df_raw_p = pd.DataFrame([dict_info]).T"
   ]
  },
  {
   "cell_type": "code",
   "execution_count": 12,
   "id": "7283363e",
   "metadata": {},
   "outputs": [],
   "source": [
    "df_raw_p = df_raw_p.explode(0)\n",
    "df_raw_p = df_raw_p.reset_index()"
   ]
  },
  {
   "cell_type": "code",
   "execution_count": 13,
   "id": "f1678e98",
   "metadata": {},
   "outputs": [],
   "source": [
    "df_raw_p = df_raw_p.rename(columns={'index':'site', 0:'raw_str'})"
   ]
  },
  {
   "cell_type": "code",
   "execution_count": 14,
   "id": "a416552b",
   "metadata": {},
   "outputs": [
    {
     "data": {
      "text/html": [
       "<div>\n",
       "<style scoped>\n",
       "    .dataframe tbody tr th:only-of-type {\n",
       "        vertical-align: middle;\n",
       "    }\n",
       "\n",
       "    .dataframe tbody tr th {\n",
       "        vertical-align: top;\n",
       "    }\n",
       "\n",
       "    .dataframe thead th {\n",
       "        text-align: right;\n",
       "    }\n",
       "</style>\n",
       "<table border=\"1\" class=\"dataframe\">\n",
       "  <thead>\n",
       "    <tr style=\"text-align: right;\">\n",
       "      <th></th>\n",
       "      <th>site</th>\n",
       "      <th>raw_str</th>\n",
       "    </tr>\n",
       "  </thead>\n",
       "  <tbody>\n",
       "  </tbody>\n",
       "</table>\n",
       "</div>"
      ],
      "text/plain": [
       "Empty DataFrame\n",
       "Columns: [site, raw_str]\n",
       "Index: []"
      ]
     },
     "execution_count": 14,
     "metadata": {},
     "output_type": "execute_result"
    }
   ],
   "source": [
    "df_raw_p[df_raw_p['raw_str'].isna()]"
   ]
  },
  {
   "cell_type": "code",
   "execution_count": 15,
   "id": "a535609e",
   "metadata": {},
   "outputs": [],
   "source": [
    "df_raw_p = df_raw_p[df_raw_p['raw_str'].notna()].copy()"
   ]
  },
  {
   "cell_type": "code",
   "execution_count": 16,
   "id": "db9160ad",
   "metadata": {
    "scrolled": true
   },
   "outputs": [],
   "source": [
    "df_raw_p['text_elem'] = df_raw_p['raw_str'].apply(lambda x: BeautifulSoup(x, 'html.parser').text)"
   ]
  },
  {
   "cell_type": "code",
   "execution_count": 17,
   "id": "b0e8ca04",
   "metadata": {},
   "outputs": [
    {
     "data": {
      "text/plain": [
       "0     \\n        Публичная программа выставки «Один ...\n",
       "1     \\n        Сказочный корпоратив: Ночная экскур...\n",
       "2     \\n        Режим работы на новогодних каникула...\n",
       "3     \\n        Неделя кинокритики SiberiaDOC — отк...\n",
       "Name: text_elem, dtype: object"
      ]
     },
     "execution_count": 17,
     "metadata": {},
     "output_type": "execute_result"
    }
   ],
   "source": [
    "df_raw_p['text_elem']"
   ]
  },
  {
   "cell_type": "code",
   "execution_count": 18,
   "id": "cdf5a11f",
   "metadata": {},
   "outputs": [],
   "source": [
    "dict_mus.update(dict_mus_pyppeteer)"
   ]
  },
  {
   "cell_type": "markdown",
   "id": "cc77c2a1",
   "metadata": {},
   "source": [
    "## Доработка запросов"
   ]
  },
  {
   "cell_type": "code",
   "execution_count": 19,
   "id": "9d7e2328",
   "metadata": {},
   "outputs": [],
   "source": [
    "# Убираю дубли\n",
    "target_site = 'https://www.akhmatova.spb.ru/afisha'\n",
    "temp_s = set()\n",
    "\n",
    "# Проверяю есть ли вообще такие\n",
    "for i in dict_mus.values():\n",
    "    temp_s.add(i[0])\n",
    "#assert target_site in temp_s\n",
    "\n",
    "\n",
    "\n",
    "\n",
    "if any(df_raw_p.site == target_site):\n",
    "    # Оставляю 10 первых значений \n",
    "    part_target = df_raw_p[df_raw_p['site']==target_site][:10]\n",
    "    \n",
    "    part_all = df_raw_p[df_raw_p['site']!=target_site]\n",
    "    \n",
    "    df_raw_p = pd.concat([part_target, part_all]).copy()"
   ]
  },
  {
   "cell_type": "code",
   "execution_count": 20,
   "id": "b7c52fcd",
   "metadata": {},
   "outputs": [],
   "source": [
    "df_raw_p = df_raw_p.reset_index(drop=True).copy()"
   ]
  },
  {
   "cell_type": "markdown",
   "id": "08f7d43c",
   "metadata": {},
   "source": [
    "## Делаем колоку с хэшом"
   ]
  },
  {
   "cell_type": "code",
   "execution_count": 21,
   "id": "c0355151",
   "metadata": {},
   "outputs": [],
   "source": [
    "def generate_hash(input_string):\n",
    "    # Создаем объект хэша SHA-256\n",
    "    hash_object = hashlib.sha256()\n",
    "\n",
    "    # Преобразуем входную строку в байты и обновляем хэш\n",
    "    hash_object.update(input_string.encode('utf-8'))\n",
    "\n",
    "    # Получаем шестнадцатеричное представление хэша\n",
    "    hash_value = hash_object.hexdigest()\n",
    "\n",
    "    return hash_value"
   ]
  },
  {
   "cell_type": "code",
   "execution_count": 22,
   "id": "6c48bb7a",
   "metadata": {},
   "outputs": [],
   "source": [
    "# Колонка для хеширования\n",
    "df_raw_p.insert(0,'hash_col', df_raw_p['site']+ ' ' + df_raw_p['text_elem'])\n",
    "\n",
    "df_raw_p['hash_col'] = df_raw_p['hash_col'].apply(generate_hash)"
   ]
  },
  {
   "cell_type": "code",
   "execution_count": 23,
   "id": "e56f909b",
   "metadata": {},
   "outputs": [],
   "source": [
    "df_raw_p['text_elem'] = df_raw_p['text_elem'].str.replace('❾', '')"
   ]
  },
  {
   "cell_type": "code",
   "execution_count": 24,
   "id": "69c01e1b",
   "metadata": {},
   "outputs": [],
   "source": [
    "df_raw_p = df_raw_p.drop_duplicates(['site', 'text_elem']).copy()"
   ]
  },
  {
   "cell_type": "code",
   "execution_count": 25,
   "id": "7724a2f7",
   "metadata": {},
   "outputs": [],
   "source": [
    "df_raw_p.insert(0,'date_stamp', pd.to_datetime('today'))"
   ]
  },
  {
   "cell_type": "markdown",
   "id": "c35aef16",
   "metadata": {},
   "source": [
    "## Загружаем в db"
   ]
  },
  {
   "cell_type": "code",
   "execution_count": 26,
   "id": "5f183d8a",
   "metadata": {},
   "outputs": [],
   "source": [
    "conn = sqlite3.connect('museums.db')"
   ]
  },
  {
   "cell_type": "code",
   "execution_count": 27,
   "id": "b4de7009",
   "metadata": {},
   "outputs": [
    {
     "data": {
      "text/plain": [
       "<sqlite3.Cursor at 0x2ac44f31440>"
      ]
     },
     "execution_count": 27,
     "metadata": {},
     "output_type": "execute_result"
    }
   ],
   "source": [
    "# Создаю таблицы\n",
    "\n",
    "qu = '''\n",
    "    CREATE TABLE if not EXISTS \"parse\" (\n",
    "    \"date_stamp\" TIMESTAMP,\n",
    "    \"hash_col\" TEXT UNIQUE,\n",
    "    \"site\" TEXT,\n",
    "    \"raw_str\" TEXT,\n",
    "    \"text_elem\" TEXT\n",
    ")\n",
    "'''\n",
    "conn.execute(qu)\n",
    "\n",
    "qu = '''\n",
    "    CREATE TABLE if not EXISTS \"parse_temp\" (\n",
    "    \"date_stamp\" TIMESTAMP,\n",
    "    \"hash_col\" TEXT UNIQUE,\n",
    "    \"site\" TEXT,\n",
    "    \"raw_str\" TEXT,\n",
    "    \"text_elem\" TEXT\n",
    "\n",
    ")\n",
    "'''\n",
    "conn.execute(qu)\n",
    "\n",
    "# Добавляю таблицу, для успешных выполнений\n",
    "qu = '''\n",
    "    CREATE TABLE if not EXISTS send_telegram (\n",
    "    \"date_stamp\" TIMESTAMP,\n",
    "    \"hash_col\" TEXT UNIQUE, \n",
    "    \"chanel_id\" TEXT, \n",
    "    teleg_mes TEXT\n",
    ")\n",
    "'''\n",
    "conn.execute(qu)"
   ]
  },
  {
   "cell_type": "code",
   "execution_count": 28,
   "id": "f9215cd6",
   "metadata": {},
   "outputs": [
    {
     "data": {
      "text/plain": [
       "<sqlite3.Cursor at 0x2ac45001640>"
      ]
     },
     "execution_count": 28,
     "metadata": {},
     "output_type": "execute_result"
    }
   ],
   "source": [
    "# Временная таблица\n",
    "df_raw_p.to_sql('parse_temp', conn, index=False, if_exists='replace')\n",
    "\n",
    "\n",
    "# Импортирую значения с новыми значениями по хэшу\n",
    "qu = '''\n",
    "INSERT INTO parse\n",
    "select *\n",
    "from parse_temp\n",
    "where hash_col not in (select hash_col from parse)\n",
    "\n",
    "'''\n",
    "conn.execute(qu)"
   ]
  },
  {
   "cell_type": "code",
   "execution_count": 29,
   "id": "2096516a",
   "metadata": {},
   "outputs": [],
   "source": [
    "# Не загруженые значения\n",
    "qu = '''\n",
    "select *\n",
    "from parse\n",
    "where hash_col not in (select hash_col from send_telegram)\n",
    "order by date_stamp\n",
    "'''\n",
    "df_n_compl = pd.read_sql(qu, conn)"
   ]
  },
  {
   "cell_type": "code",
   "execution_count": 30,
   "id": "bdca52ad",
   "metadata": {
    "scrolled": true
   },
   "outputs": [
    {
     "data": {
      "text/html": [
       "<div>\n",
       "<style scoped>\n",
       "    .dataframe tbody tr th:only-of-type {\n",
       "        vertical-align: middle;\n",
       "    }\n",
       "\n",
       "    .dataframe tbody tr th {\n",
       "        vertical-align: top;\n",
       "    }\n",
       "\n",
       "    .dataframe thead th {\n",
       "        text-align: right;\n",
       "    }\n",
       "</style>\n",
       "<table border=\"1\" class=\"dataframe\">\n",
       "  <thead>\n",
       "    <tr style=\"text-align: right;\">\n",
       "      <th></th>\n",
       "      <th>date_stamp</th>\n",
       "      <th>hash_col</th>\n",
       "      <th>site</th>\n",
       "      <th>raw_str</th>\n",
       "      <th>text_elem</th>\n",
       "    </tr>\n",
       "  </thead>\n",
       "  <tbody>\n",
       "    <tr>\n",
       "      <th>0</th>\n",
       "      <td>2023-12-24 17:27:06.246952</td>\n",
       "      <td>8b2c7c1592ff819598c94e1ab3b77808fd47bea27a0748...</td>\n",
       "      <td>https://youmuseum.ru/news/</td>\n",
       "      <td>&lt;div class=\"text\"&gt;&lt;/div&gt;\\n</td>\n",
       "      <td>\\n</td>\n",
       "    </tr>\n",
       "    <tr>\n",
       "      <th>1</th>\n",
       "      <td>2024-01-03 23:37:04.300078</td>\n",
       "      <td>1491d4e5c5617f9e63da6d554677c705a09689176eb322...</td>\n",
       "      <td>https://sibmuseum.ru/news/</td>\n",
       "      <td>&lt;a class=\"news-card__link\" target=\"_blank\" hre...</td>\n",
       "      <td>\\n</td>\n",
       "    </tr>\n",
       "    <tr>\n",
       "      <th>2</th>\n",
       "      <td>2024-01-03 23:37:04.300078</td>\n",
       "      <td>2ce9525f3cc6e564f8d6107020f6f79394e20127051255...</td>\n",
       "      <td>https://bgkm.ru/</td>\n",
       "      <td>&lt;div class=\"bloglatestnews7b_2\"&gt;&lt;/div&gt;\\r\\n\\r\\n</td>\n",
       "      <td>\\n</td>\n",
       "    </tr>\n",
       "    <tr>\n",
       "      <th>3</th>\n",
       "      <td>2024-01-03 23:37:04.300078</td>\n",
       "      <td>66bcc770c3562a873414be0a7d7e57bc1c16a53de41d80...</td>\n",
       "      <td>https://bgkm.ru/</td>\n",
       "      <td>&lt;div class=\"bloglatestnews7a\"&gt;&lt;/div&gt;</td>\n",
       "      <td></td>\n",
       "    </tr>\n",
       "    <tr>\n",
       "      <th>4</th>\n",
       "      <td>2024-01-03 23:37:04.300078</td>\n",
       "      <td>5580842a0d995eeeedcf3511f9fadb0a6c2c85ef29c301...</td>\n",
       "      <td>http://www.igikm.ru/sobytiya/novosti/</td>\n",
       "      <td>&lt;p class=\"announce-text\" style=\"text-align: ju...</td>\n",
       "      <td>\\n\\n\\n</td>\n",
       "    </tr>\n",
       "    <tr>\n",
       "      <th>5</th>\n",
       "      <td>2024-01-13 23:22:16.650634</td>\n",
       "      <td>49f57f073731c0aa09fd5a9ce3b0852c86a3de23aa380a...</td>\n",
       "      <td>https://mira1.ru/</td>\n",
       "      <td>&lt;a data-v-4fed9fa1=\"\" href=\"/news/publichnaya-...</td>\n",
       "      <td>\\n        Публичная программа выставки «Один ...</td>\n",
       "    </tr>\n",
       "    <tr>\n",
       "      <th>6</th>\n",
       "      <td>2024-01-13 23:22:16.650634</td>\n",
       "      <td>ee1635e9c78781f8c574ec0168d85a7e66d8a70b2503b0...</td>\n",
       "      <td>https://mira1.ru/</td>\n",
       "      <td>&lt;a data-v-4fed9fa1=\"\" href=\"/news/skazochnyy-k...</td>\n",
       "      <td>\\n        Сказочный корпоратив: Ночная экскур...</td>\n",
       "    </tr>\n",
       "    <tr>\n",
       "      <th>7</th>\n",
       "      <td>2024-01-13 23:22:16.650634</td>\n",
       "      <td>921db7cacc71b92e2884f6b5cedf39ed9b03b4a0d3209c...</td>\n",
       "      <td>https://mira1.ru/</td>\n",
       "      <td>&lt;a data-v-4fed9fa1=\"\" href=\"/news/rezhim-rabot...</td>\n",
       "      <td>\\n        Режим работы на новогодних каникула...</td>\n",
       "    </tr>\n",
       "    <tr>\n",
       "      <th>8</th>\n",
       "      <td>2024-01-13 23:22:16.650634</td>\n",
       "      <td>5d10ad65c4be88d5f858b040f02df617e2929870057a5e...</td>\n",
       "      <td>https://mira1.ru/</td>\n",
       "      <td>&lt;a data-v-4fed9fa1=\"\" href=\"/news/nedelya-kino...</td>\n",
       "      <td>\\n        Неделя кинокритики SiberiaDOC — отк...</td>\n",
       "    </tr>\n",
       "  </tbody>\n",
       "</table>\n",
       "</div>"
      ],
      "text/plain": [
       "                   date_stamp  \\\n",
       "0  2023-12-24 17:27:06.246952   \n",
       "1  2024-01-03 23:37:04.300078   \n",
       "2  2024-01-03 23:37:04.300078   \n",
       "3  2024-01-03 23:37:04.300078   \n",
       "4  2024-01-03 23:37:04.300078   \n",
       "5  2024-01-13 23:22:16.650634   \n",
       "6  2024-01-13 23:22:16.650634   \n",
       "7  2024-01-13 23:22:16.650634   \n",
       "8  2024-01-13 23:22:16.650634   \n",
       "\n",
       "                                            hash_col  \\\n",
       "0  8b2c7c1592ff819598c94e1ab3b77808fd47bea27a0748...   \n",
       "1  1491d4e5c5617f9e63da6d554677c705a09689176eb322...   \n",
       "2  2ce9525f3cc6e564f8d6107020f6f79394e20127051255...   \n",
       "3  66bcc770c3562a873414be0a7d7e57bc1c16a53de41d80...   \n",
       "4  5580842a0d995eeeedcf3511f9fadb0a6c2c85ef29c301...   \n",
       "5  49f57f073731c0aa09fd5a9ce3b0852c86a3de23aa380a...   \n",
       "6  ee1635e9c78781f8c574ec0168d85a7e66d8a70b2503b0...   \n",
       "7  921db7cacc71b92e2884f6b5cedf39ed9b03b4a0d3209c...   \n",
       "8  5d10ad65c4be88d5f858b040f02df617e2929870057a5e...   \n",
       "\n",
       "                                    site  \\\n",
       "0             https://youmuseum.ru/news/   \n",
       "1             https://sibmuseum.ru/news/   \n",
       "2                       https://bgkm.ru/   \n",
       "3                       https://bgkm.ru/   \n",
       "4  http://www.igikm.ru/sobytiya/novosti/   \n",
       "5                      https://mira1.ru/   \n",
       "6                      https://mira1.ru/   \n",
       "7                      https://mira1.ru/   \n",
       "8                      https://mira1.ru/   \n",
       "\n",
       "                                             raw_str  \\\n",
       "0             <div class=\"text\"></div>\\n               \n",
       "1  <a class=\"news-card__link\" target=\"_blank\" hre...   \n",
       "2     <div class=\"bloglatestnews7b_2\"></div>\\r\\n\\r\\n   \n",
       "3               <div class=\"bloglatestnews7a\"></div>   \n",
       "4  <p class=\"announce-text\" style=\"text-align: ju...   \n",
       "5  <a data-v-4fed9fa1=\"\" href=\"/news/publichnaya-...   \n",
       "6  <a data-v-4fed9fa1=\"\" href=\"/news/skazochnyy-k...   \n",
       "7  <a data-v-4fed9fa1=\"\" href=\"/news/rezhim-rabot...   \n",
       "8  <a data-v-4fed9fa1=\"\" href=\"/news/nedelya-kino...   \n",
       "\n",
       "                                           text_elem  \n",
       "0                                                 \\n  \n",
       "1                                                 \\n  \n",
       "2                                                 \\n  \n",
       "3                                                     \n",
       "4                                             \\n\\n\\n  \n",
       "5   \\n        Публичная программа выставки «Один ...  \n",
       "6   \\n        Сказочный корпоратив: Ночная экскур...  \n",
       "7   \\n        Режим работы на новогодних каникула...  \n",
       "8   \\n        Неделя кинокритики SiberiaDOC — отк...  "
      ]
     },
     "execution_count": 30,
     "metadata": {},
     "output_type": "execute_result"
    }
   ],
   "source": [
    "df_n_compl"
   ]
  },
  {
   "cell_type": "markdown",
   "id": "a7968c83",
   "metadata": {},
   "source": [
    "# Чистка"
   ]
  },
  {
   "cell_type": "code",
   "execution_count": 31,
   "id": "cffba0d1",
   "metadata": {},
   "outputs": [],
   "source": [
    "def adj_lim(x:list):\n",
    "    '''Ограничивает длину слова'''\n",
    "    for i, el  in enumerate(x):\n",
    "\n",
    "        if len(el) > WORLD_LIMIT:\n",
    "            x[i] = el[:WORLD_LIMIT]+'...'\n",
    "            \n",
    "    return x\n",
    "\n",
    "\n",
    "\n",
    "list_unuse = ['\\t\\t\\t\\tЧитать далее»\\t\\t\\t', 'подробнее >>', 'Подробнее', 'Заказать', 'подробнее...']\n",
    "\n",
    "\n",
    "def drop_words(x:list):\n",
    "    '''\n",
    "    Удаляю лишние слова \n",
    "    '''\n",
    "    new_list = []\n",
    "    for l in x:\n",
    "\n",
    "        if not l in list_unuse and not bool(re.match(r'^[0-9 /]+$', l)) and l:\n",
    "            new_list.append(l)\n",
    "#             print('********************')\n",
    "#             print(l)\n",
    "#             print('********************')\n",
    "#         else:\n",
    "#             print('********************')\n",
    "#             print('Не лобавлено',l)\n",
    "#             print('********************')\n",
    "    return new_list\n",
    "\n",
    "        "
   ]
  },
  {
   "cell_type": "code",
   "execution_count": 32,
   "id": "964c7083",
   "metadata": {},
   "outputs": [],
   "source": [
    "# Удаляю https://vk.com иза ошибки\n",
    "# df_n_compl['text_elem'] = df_n_compl['text_elem'].str.replace(r'Ссылка: https://vk.com[^\\\\]*', '', regex=True)"
   ]
  },
  {
   "cell_type": "code",
   "execution_count": 33,
   "id": "8fa7625a",
   "metadata": {},
   "outputs": [],
   "source": [
    "# Убираю \\r\n",
    "df_n_compl['text_elem'] = df_n_compl['text_elem'].str.replace('\\r', '')"
   ]
  },
  {
   "cell_type": "code",
   "execution_count": 34,
   "id": "483f7d2e",
   "metadata": {},
   "outputs": [],
   "source": [
    "df_n_compl['text_elem'] = df_n_compl['text_elem'].str.replace('[0-9]* Comments', '', regex=True)\n",
    "\n",
    "df_n_compl['text_elem'] = df_n_compl['text_elem'].str.replace('Читать далее\\W*', '', regex=True)\n",
    "\n",
    "df_n_compl['text_elem'] = df_n_compl['text_elem'].str.replace('Подробнее\\W*', '', regex=True)\n",
    "\n",
    "# Сплит строки\n",
    "df_n_compl['text_elem'] = df_n_compl['text_elem'].apply(lambda x: re.split(r\"(\\n)\", x))\n",
    "\n",
    "# Ограничивает длину\n",
    "df_n_compl['text_elem'] = df_n_compl['text_elem'].apply(adj_lim)\n",
    "\n",
    "# Удаление лишних слов \n",
    "df_n_compl['text_elem'] = df_n_compl['text_elem'].apply(drop_words)\n",
    "\n",
    "df_n_compl['text_elem']= df_n_compl['text_elem'].apply(lambda x: ''.join(x))"
   ]
  },
  {
   "cell_type": "code",
   "execution_count": 35,
   "id": "8c5635ad",
   "metadata": {},
   "outputs": [],
   "source": [
    "# Удаление \\n в конце текста\n",
    "df_n_compl['text_elem'] = df_n_compl['text_elem'].str.replace('[(\\\\n)(\\\\t)]+$', '', regex=True)\n",
    "\n",
    "# Удаление \\n в начале\n",
    "df_n_compl['text_elem'] = df_n_compl['text_elem'].str.replace('^[(\\\\n)(\\\\t)]+', '', regex=True)\n",
    "\n",
    "# Замена \\n\\n на меньшее число\n",
    "df_n_compl['text_elem'] = df_n_compl['text_elem'].str.replace('(\\\\n){3,}','\\n\\n', regex=True)\n",
    "\n",
    "df_n_compl['text_elem'] = df_n_compl['text_elem'].str.replace(' {3,}',' ', regex=True)"
   ]
  },
  {
   "cell_type": "code",
   "execution_count": null,
   "id": "07fa318a",
   "metadata": {},
   "outputs": [],
   "source": []
  },
  {
   "cell_type": "markdown",
   "id": "13e3aae1",
   "metadata": {},
   "source": [
    "# Telegram"
   ]
  },
  {
   "cell_type": "markdown",
   "id": "709b9db2",
   "metadata": {},
   "source": [
    "## Добавляем имена музеев"
   ]
  },
  {
   "cell_type": "code",
   "execution_count": 36,
   "id": "fbb508d0",
   "metadata": {},
   "outputs": [],
   "source": [
    "d_mus_names = {}\n",
    "\n",
    "for k in dict_mus:\n",
    "    d_mus_names[dict_mus[k][0]] = k"
   ]
  },
  {
   "cell_type": "code",
   "execution_count": 37,
   "id": "25da6efd",
   "metadata": {
    "scrolled": true
   },
   "outputs": [],
   "source": [
    "df_n_compl['mus_name'] = df_n_compl['site'].map(d_mus_names)\n",
    "\n",
    "df_n_compl['mus_name']= df_n_compl['mus_name'].fillna(df_n_compl['site'])\n"
   ]
  },
  {
   "cell_type": "markdown",
   "id": "e7583d01",
   "metadata": {},
   "source": [
    "## Отправка"
   ]
  },
  {
   "cell_type": "markdown",
   "id": "1e57e556",
   "metadata": {},
   "source": [
    "### Форматирование"
   ]
  },
  {
   "cell_type": "markdown",
   "id": "208b3a0e",
   "metadata": {},
   "source": [
    "### Ссылка на музей"
   ]
  },
  {
   "cell_type": "code",
   "execution_count": 38,
   "id": "2ce58554",
   "metadata": {},
   "outputs": [],
   "source": [
    "df_n_compl['teleg_mes'] = '[' + df_n_compl.mus_name + ']' + '(' + df_n_compl.site + ')' + '\\n'\n",
    "\n",
    "df_n_compl['teleg_mes'] = df_n_compl['teleg_mes']+ df_n_compl.text_elem"
   ]
  },
  {
   "cell_type": "code",
   "execution_count": 39,
   "id": "1ae30486",
   "metadata": {
    "scrolled": true
   },
   "outputs": [],
   "source": [
    "df_n_compl = df_n_compl[df_n_compl['text_elem']!='']"
   ]
  },
  {
   "cell_type": "code",
   "execution_count": 40,
   "id": "b28ce01f",
   "metadata": {
    "scrolled": true
   },
   "outputs": [
    {
     "data": {
      "text/html": [
       "<div>\n",
       "<style scoped>\n",
       "    .dataframe tbody tr th:only-of-type {\n",
       "        vertical-align: middle;\n",
       "    }\n",
       "\n",
       "    .dataframe tbody tr th {\n",
       "        vertical-align: top;\n",
       "    }\n",
       "\n",
       "    .dataframe thead th {\n",
       "        text-align: right;\n",
       "    }\n",
       "</style>\n",
       "<table border=\"1\" class=\"dataframe\">\n",
       "  <thead>\n",
       "    <tr style=\"text-align: right;\">\n",
       "      <th></th>\n",
       "      <th>date_stamp</th>\n",
       "      <th>hash_col</th>\n",
       "      <th>site</th>\n",
       "      <th>raw_str</th>\n",
       "      <th>text_elem</th>\n",
       "      <th>mus_name</th>\n",
       "      <th>teleg_mes</th>\n",
       "    </tr>\n",
       "  </thead>\n",
       "  <tbody>\n",
       "    <tr>\n",
       "      <th>5</th>\n",
       "      <td>2024-01-13 23:22:16.650634</td>\n",
       "      <td>49f57f073731c0aa09fd5a9ce3b0852c86a3de23aa380a...</td>\n",
       "      <td>https://mira1.ru/</td>\n",
       "      <td>&lt;a data-v-4fed9fa1=\"\" href=\"/news/publichnaya-...</td>\n",
       "      <td>Публичная программа выставки «Один за всех»\\n...</td>\n",
       "      <td>Музей революции</td>\n",
       "      <td>[Музей революции ](https://mira1.ru/)\\n Публич...</td>\n",
       "    </tr>\n",
       "    <tr>\n",
       "      <th>6</th>\n",
       "      <td>2024-01-13 23:22:16.650634</td>\n",
       "      <td>ee1635e9c78781f8c574ec0168d85a7e66d8a70b2503b0...</td>\n",
       "      <td>https://mira1.ru/</td>\n",
       "      <td>&lt;a data-v-4fed9fa1=\"\" href=\"/news/skazochnyy-k...</td>\n",
       "      <td>Сказочный корпоратив: Ночная экскурсия\\n\\n 21...</td>\n",
       "      <td>Музей революции</td>\n",
       "      <td>[Музей революции ](https://mira1.ru/)\\n Сказоч...</td>\n",
       "    </tr>\n",
       "    <tr>\n",
       "      <th>7</th>\n",
       "      <td>2024-01-13 23:22:16.650634</td>\n",
       "      <td>921db7cacc71b92e2884f6b5cedf39ed9b03b4a0d3209c...</td>\n",
       "      <td>https://mira1.ru/</td>\n",
       "      <td>&lt;a data-v-4fed9fa1=\"\" href=\"/news/rezhim-rabot...</td>\n",
       "      <td>Режим работы на новогодних каникулах\\n\\n 23.1...</td>\n",
       "      <td>Музей революции</td>\n",
       "      <td>[Музей революции ](https://mira1.ru/)\\n Режим ...</td>\n",
       "    </tr>\n",
       "    <tr>\n",
       "      <th>8</th>\n",
       "      <td>2024-01-13 23:22:16.650634</td>\n",
       "      <td>5d10ad65c4be88d5f858b040f02df617e2929870057a5e...</td>\n",
       "      <td>https://mira1.ru/</td>\n",
       "      <td>&lt;a data-v-4fed9fa1=\"\" href=\"/news/nedelya-kino...</td>\n",
       "      <td>Неделя кинокритики SiberiaDOC — открыт приём ...</td>\n",
       "      <td>Музей революции</td>\n",
       "      <td>[Музей революции ](https://mira1.ru/)\\n Неделя...</td>\n",
       "    </tr>\n",
       "  </tbody>\n",
       "</table>\n",
       "</div>"
      ],
      "text/plain": [
       "                   date_stamp  \\\n",
       "5  2024-01-13 23:22:16.650634   \n",
       "6  2024-01-13 23:22:16.650634   \n",
       "7  2024-01-13 23:22:16.650634   \n",
       "8  2024-01-13 23:22:16.650634   \n",
       "\n",
       "                                            hash_col               site  \\\n",
       "5  49f57f073731c0aa09fd5a9ce3b0852c86a3de23aa380a...  https://mira1.ru/   \n",
       "6  ee1635e9c78781f8c574ec0168d85a7e66d8a70b2503b0...  https://mira1.ru/   \n",
       "7  921db7cacc71b92e2884f6b5cedf39ed9b03b4a0d3209c...  https://mira1.ru/   \n",
       "8  5d10ad65c4be88d5f858b040f02df617e2929870057a5e...  https://mira1.ru/   \n",
       "\n",
       "                                             raw_str  \\\n",
       "5  <a data-v-4fed9fa1=\"\" href=\"/news/publichnaya-...   \n",
       "6  <a data-v-4fed9fa1=\"\" href=\"/news/skazochnyy-k...   \n",
       "7  <a data-v-4fed9fa1=\"\" href=\"/news/rezhim-rabot...   \n",
       "8  <a data-v-4fed9fa1=\"\" href=\"/news/nedelya-kino...   \n",
       "\n",
       "                                           text_elem          mus_name  \\\n",
       "5   Публичная программа выставки «Один за всех»\\n...  Музей революции    \n",
       "6   Сказочный корпоратив: Ночная экскурсия\\n\\n 21...  Музей революции    \n",
       "7   Режим работы на новогодних каникулах\\n\\n 23.1...  Музей революции    \n",
       "8   Неделя кинокритики SiberiaDOC — открыт приём ...  Музей революции    \n",
       "\n",
       "                                           teleg_mes  \n",
       "5  [Музей революции ](https://mira1.ru/)\\n Публич...  \n",
       "6  [Музей революции ](https://mira1.ru/)\\n Сказоч...  \n",
       "7  [Музей революции ](https://mira1.ru/)\\n Режим ...  \n",
       "8  [Музей революции ](https://mira1.ru/)\\n Неделя...  "
      ]
     },
     "execution_count": 40,
     "metadata": {},
     "output_type": "execute_result"
    }
   ],
   "source": [
    "df_n_compl"
   ]
  },
  {
   "cell_type": "markdown",
   "id": "233d1680",
   "metadata": {},
   "source": [
    "### Добавляем группы"
   ]
  },
  {
   "cell_type": "code",
   "execution_count": 41,
   "id": "a4457c94",
   "metadata": {},
   "outputs": [
    {
     "data": {
      "text/html": [
       "<div>\n",
       "<style scoped>\n",
       "    .dataframe tbody tr th:only-of-type {\n",
       "        vertical-align: middle;\n",
       "    }\n",
       "\n",
       "    .dataframe tbody tr th {\n",
       "        vertical-align: top;\n",
       "    }\n",
       "\n",
       "    .dataframe thead th {\n",
       "        text-align: right;\n",
       "    }\n",
       "</style>\n",
       "<table border=\"1\" class=\"dataframe\">\n",
       "  <thead>\n",
       "    <tr style=\"text-align: right;\">\n",
       "      <th></th>\n",
       "      <th>category</th>\n",
       "      <th>stage</th>\n",
       "    </tr>\n",
       "  </thead>\n",
       "  <tbody>\n",
       "    <tr>\n",
       "      <th>0</th>\n",
       "      <td>top_Z_museum</td>\n",
       "      <td>1</td>\n",
       "    </tr>\n",
       "    <tr>\n",
       "      <th>1</th>\n",
       "      <td>high_Z_museum</td>\n",
       "      <td>1</td>\n",
       "    </tr>\n",
       "    <tr>\n",
       "      <th>2</th>\n",
       "      <td>region_Z_museum</td>\n",
       "      <td>1</td>\n",
       "    </tr>\n",
       "    <tr>\n",
       "      <th>3</th>\n",
       "      <td>low_Z_museum</td>\n",
       "      <td>2</td>\n",
       "    </tr>\n",
       "    <tr>\n",
       "      <th>4</th>\n",
       "      <td>gulag</td>\n",
       "      <td>3</td>\n",
       "    </tr>\n",
       "  </tbody>\n",
       "</table>\n",
       "</div>"
      ],
      "text/plain": [
       "          category  stage\n",
       "0     top_Z_museum      1\n",
       "1    high_Z_museum      1\n",
       "2  region_Z_museum      1\n",
       "3     low_Z_museum      2\n",
       "4            gulag      3"
      ]
     },
     "execution_count": 41,
     "metadata": {},
     "output_type": "execute_result"
    }
   ],
   "source": [
    "df_chanels"
   ]
  },
  {
   "cell_type": "code",
   "execution_count": 42,
   "id": "6671380b",
   "metadata": {},
   "outputs": [],
   "source": [
    "df_chanels['chanel_id'] = df_chanels['stage'].map(d_stage)"
   ]
  },
  {
   "cell_type": "code",
   "execution_count": 43,
   "id": "c39b66d5",
   "metadata": {},
   "outputs": [
    {
     "data": {
      "text/html": [
       "<div>\n",
       "<style scoped>\n",
       "    .dataframe tbody tr th:only-of-type {\n",
       "        vertical-align: middle;\n",
       "    }\n",
       "\n",
       "    .dataframe tbody tr th {\n",
       "        vertical-align: top;\n",
       "    }\n",
       "\n",
       "    .dataframe thead th {\n",
       "        text-align: right;\n",
       "    }\n",
       "</style>\n",
       "<table border=\"1\" class=\"dataframe\">\n",
       "  <thead>\n",
       "    <tr style=\"text-align: right;\">\n",
       "      <th></th>\n",
       "      <th>category</th>\n",
       "      <th>stage</th>\n",
       "      <th>chanel_id</th>\n",
       "    </tr>\n",
       "  </thead>\n",
       "  <tbody>\n",
       "    <tr>\n",
       "      <th>0</th>\n",
       "      <td>top_Z_museum</td>\n",
       "      <td>1</td>\n",
       "      <td>-1002045319076</td>\n",
       "    </tr>\n",
       "    <tr>\n",
       "      <th>1</th>\n",
       "      <td>high_Z_museum</td>\n",
       "      <td>1</td>\n",
       "      <td>-1002045319076</td>\n",
       "    </tr>\n",
       "    <tr>\n",
       "      <th>2</th>\n",
       "      <td>region_Z_museum</td>\n",
       "      <td>1</td>\n",
       "      <td>-1002045319076</td>\n",
       "    </tr>\n",
       "    <tr>\n",
       "      <th>3</th>\n",
       "      <td>low_Z_museum</td>\n",
       "      <td>2</td>\n",
       "      <td>-1002014969214</td>\n",
       "    </tr>\n",
       "    <tr>\n",
       "      <th>4</th>\n",
       "      <td>gulag</td>\n",
       "      <td>3</td>\n",
       "      <td>-1002124668886</td>\n",
       "    </tr>\n",
       "  </tbody>\n",
       "</table>\n",
       "</div>"
      ],
      "text/plain": [
       "          category  stage       chanel_id\n",
       "0     top_Z_museum      1  -1002045319076\n",
       "1    high_Z_museum      1  -1002045319076\n",
       "2  region_Z_museum      1  -1002045319076\n",
       "3     low_Z_museum      2  -1002014969214\n",
       "4            gulag      3  -1002124668886"
      ]
     },
     "execution_count": 43,
     "metadata": {},
     "output_type": "execute_result"
    }
   ],
   "source": [
    "df_chanels"
   ]
  },
  {
   "cell_type": "code",
   "execution_count": 44,
   "id": "619a2341",
   "metadata": {},
   "outputs": [],
   "source": [
    "df_mus_info = pd.DataFrame(dict_mus).T\n",
    "df_mus_info.columns = ['site', 'xpath', 'category']"
   ]
  },
  {
   "cell_type": "code",
   "execution_count": 45,
   "id": "34b3e8db",
   "metadata": {},
   "outputs": [],
   "source": [
    "df_mus_info = df_mus_info.merge(df_chanels, right_on=['category'], left_on=['category'], how='left')"
   ]
  },
  {
   "cell_type": "code",
   "execution_count": 46,
   "id": "277ca9c1",
   "metadata": {},
   "outputs": [],
   "source": [
    "df_mus_info = df_mus_info[['site', 'chanel_id']]"
   ]
  },
  {
   "cell_type": "code",
   "execution_count": 47,
   "id": "dca73273",
   "metadata": {
    "scrolled": true
   },
   "outputs": [],
   "source": [
    "df_n_compl = df_n_compl.merge(df_mus_info, on='site', how='left')"
   ]
  },
  {
   "cell_type": "code",
   "execution_count": 48,
   "id": "55ec6c6c",
   "metadata": {
    "scrolled": true
   },
   "outputs": [],
   "source": [
    "# assert df_n_compl[df_n_compl['chanel_id'].isna()].empty\n",
    "\n",
    "\n",
    "# # Времяно!!!\n",
    "df_n_compl = df_n_compl[~df_n_compl['chanel_id'].isna()]"
   ]
  },
  {
   "cell_type": "code",
   "execution_count": 49,
   "id": "dfad1cf2",
   "metadata": {
    "scrolled": true
   },
   "outputs": [
    {
     "data": {
      "text/plain": [
       "chanel_id\n",
       "-1002124668886    4\n",
       "Name: count, dtype: int64"
      ]
     },
     "execution_count": 49,
     "metadata": {},
     "output_type": "execute_result"
    }
   ],
   "source": [
    "df_n_compl['chanel_id'].value_counts()"
   ]
  },
  {
   "cell_type": "code",
   "execution_count": 50,
   "id": "e834bfaf",
   "metadata": {},
   "outputs": [],
   "source": [
    "df_mes = df_n_compl[['hash_col', 'teleg_mes', 'chanel_id']].copy()"
   ]
  },
  {
   "cell_type": "code",
   "execution_count": 51,
   "id": "9cc08c86",
   "metadata": {
    "scrolled": true
   },
   "outputs": [
    {
     "data": {
      "text/html": [
       "<div>\n",
       "<style scoped>\n",
       "    .dataframe tbody tr th:only-of-type {\n",
       "        vertical-align: middle;\n",
       "    }\n",
       "\n",
       "    .dataframe tbody tr th {\n",
       "        vertical-align: top;\n",
       "    }\n",
       "\n",
       "    .dataframe thead th {\n",
       "        text-align: right;\n",
       "    }\n",
       "</style>\n",
       "<table border=\"1\" class=\"dataframe\">\n",
       "  <thead>\n",
       "    <tr style=\"text-align: right;\">\n",
       "      <th></th>\n",
       "      <th>hash_col</th>\n",
       "      <th>teleg_mes</th>\n",
       "      <th>chanel_id</th>\n",
       "    </tr>\n",
       "  </thead>\n",
       "  <tbody>\n",
       "    <tr>\n",
       "      <th>0</th>\n",
       "      <td>49f57f073731c0aa09fd5a9ce3b0852c86a3de23aa380a...</td>\n",
       "      <td>[Музей революции ](https://mira1.ru/)\\n Публич...</td>\n",
       "      <td>-1002124668886</td>\n",
       "    </tr>\n",
       "    <tr>\n",
       "      <th>1</th>\n",
       "      <td>ee1635e9c78781f8c574ec0168d85a7e66d8a70b2503b0...</td>\n",
       "      <td>[Музей революции ](https://mira1.ru/)\\n Сказоч...</td>\n",
       "      <td>-1002124668886</td>\n",
       "    </tr>\n",
       "    <tr>\n",
       "      <th>2</th>\n",
       "      <td>921db7cacc71b92e2884f6b5cedf39ed9b03b4a0d3209c...</td>\n",
       "      <td>[Музей революции ](https://mira1.ru/)\\n Режим ...</td>\n",
       "      <td>-1002124668886</td>\n",
       "    </tr>\n",
       "    <tr>\n",
       "      <th>3</th>\n",
       "      <td>5d10ad65c4be88d5f858b040f02df617e2929870057a5e...</td>\n",
       "      <td>[Музей революции ](https://mira1.ru/)\\n Неделя...</td>\n",
       "      <td>-1002124668886</td>\n",
       "    </tr>\n",
       "  </tbody>\n",
       "</table>\n",
       "</div>"
      ],
      "text/plain": [
       "                                            hash_col  \\\n",
       "0  49f57f073731c0aa09fd5a9ce3b0852c86a3de23aa380a...   \n",
       "1  ee1635e9c78781f8c574ec0168d85a7e66d8a70b2503b0...   \n",
       "2  921db7cacc71b92e2884f6b5cedf39ed9b03b4a0d3209c...   \n",
       "3  5d10ad65c4be88d5f858b040f02df617e2929870057a5e...   \n",
       "\n",
       "                                           teleg_mes       chanel_id  \n",
       "0  [Музей революции ](https://mira1.ru/)\\n Публич...  -1002124668886  \n",
       "1  [Музей революции ](https://mira1.ru/)\\n Сказоч...  -1002124668886  \n",
       "2  [Музей революции ](https://mira1.ru/)\\n Режим ...  -1002124668886  \n",
       "3  [Музей революции ](https://mira1.ru/)\\n Неделя...  -1002124668886  "
      ]
     },
     "execution_count": 51,
     "metadata": {},
     "output_type": "execute_result"
    }
   ],
   "source": [
    "df_mes"
   ]
  },
  {
   "cell_type": "code",
   "execution_count": 52,
   "id": "05612368",
   "metadata": {
    "scrolled": true
   },
   "outputs": [
    {
     "data": {
      "text/plain": [
       "(4, 3)"
      ]
     },
     "execution_count": 52,
     "metadata": {},
     "output_type": "execute_result"
    }
   ],
   "source": [
    "df_mes.shape"
   ]
  },
  {
   "cell_type": "markdown",
   "id": "4c45f61e",
   "metadata": {},
   "source": [
    "### Исполнение"
   ]
  },
  {
   "cell_type": "code",
   "execution_count": 53,
   "id": "1ab98248",
   "metadata": {},
   "outputs": [],
   "source": [
    "df_mes['teleg_mes'] = df_mes['teleg_mes'].str.replace('_-', '-', regex=True)\n",
    "\n",
    "df_mes['teleg_mes'] = df_mes['teleg_mes'].str.replace('\\*', '', regex=True)\n",
    "\n",
    "# Убирайю символ не разрывного пробела\n",
    "df_mes['teleg_mes'] = df_mes['teleg_mes'].str.replace('\\xa0', ' ', regex=True)"
   ]
  },
  {
   "cell_type": "code",
   "execution_count": 54,
   "id": "3c4d7ea4",
   "metadata": {},
   "outputs": [],
   "source": [
    "execute_session = pd.to_datetime('now')\n",
    "\n",
    "\n",
    "# Замените 'YOUR_BOT_TOKEN' на токен вашего бота\n",
    "bot = telebot.TeleBot(BOT_TOKEN)\n",
    "\n",
    "\n",
    "\n",
    "PAUSE_ITER = 20\n",
    "PAUSE_TIME = 50\n",
    "\n",
    "\n",
    "# Ожидание перд запуском\n",
    "# time.sleep(PAUSE_TIME)\n",
    "for num, tuple_mes in enumerate(df_mes.itertuples()):\n",
    "    \n",
    "    try:\n",
    "        # Отправка сообщения\n",
    "        bot.send_message(tuple_mes.chanel_id, tuple_mes.teleg_mes, parse_mode='Markdown')\n",
    "    \n",
    "        # Сохранение успешных сообщений\n",
    "        df = pd.DataFrame([tuple_mes]).drop(columns='Index')\n",
    "\n",
    "        df['date_stamp'] = execute_session\n",
    "\n",
    "        if num % 19==0 and num!=0:\n",
    "            print(f'Выполнено {num} из {df_mes.shape[0]}')\n",
    "            time.sleep(PAUSE_TIME)\n",
    "\n",
    "        df.to_sql('send_telegram', conn, if_exists='append', index=False)\n",
    "    except Exception as send_error:\n",
    "        print(num, send_error, tuple_mes)\n",
    "        df_error = pd.DataFrame([[tuple_mes.hash_col, num, send_error, \n",
    "                    tuple_mes.teleg_mes, tuple_mes.chanel_id]], columns=['hash_col','num', 'error', 'teleg_mes', 'chanel_id'])\n",
    "\n",
    "        df_error.insert(0,'date_time', execute_session)\n",
    "        df_error['error'] = df_error['error'].astype('str')\n",
    "        df_error.to_sql('send_error', conn, index=False, if_exists='append')\n",
    "\n",
    "    \n",
    "    \n"
   ]
  },
  {
   "cell_type": "code",
   "execution_count": null,
   "id": "d0915f5a",
   "metadata": {},
   "outputs": [],
   "source": []
  },
  {
   "cell_type": "code",
   "execution_count": 55,
   "id": "aa49fd2a",
   "metadata": {},
   "outputs": [
    {
     "data": {
      "text/plain": [
       "3"
      ]
     },
     "execution_count": 55,
     "metadata": {},
     "output_type": "execute_result"
    }
   ],
   "source": [
    "num"
   ]
  },
  {
   "cell_type": "code",
   "execution_count": null,
   "id": "fd1ca610",
   "metadata": {},
   "outputs": [],
   "source": []
  },
  {
   "cell_type": "code",
   "execution_count": 56,
   "id": "f7028fad",
   "metadata": {},
   "outputs": [
    {
     "data": {
      "text/plain": [
       "0"
      ]
     },
     "execution_count": 56,
     "metadata": {},
     "output_type": "execute_result"
    }
   ],
   "source": [
    "num // 19"
   ]
  },
  {
   "cell_type": "code",
   "execution_count": 57,
   "id": "966699d7",
   "metadata": {},
   "outputs": [
    {
     "data": {
      "text/plain": [
       "3"
      ]
     },
     "execution_count": 57,
     "metadata": {},
     "output_type": "execute_result"
    }
   ],
   "source": [
    "num % 19"
   ]
  },
  {
   "cell_type": "markdown",
   "id": "fe547066",
   "metadata": {},
   "source": [
    "# Тест"
   ]
  },
  {
   "cell_type": "code",
   "execution_count": 58,
   "id": "6edf802d",
   "metadata": {},
   "outputs": [
    {
     "ename": "NameError",
     "evalue": "name 'cnjg' is not defined",
     "output_type": "error",
     "traceback": [
      "\u001b[1;31m---------------------------------------------------------------------------\u001b[0m",
      "\u001b[1;31mNameError\u001b[0m                                 Traceback (most recent call last)",
      "Cell \u001b[1;32mIn[58], line 1\u001b[0m\n\u001b[1;32m----> 1\u001b[0m cnjg\n",
      "\u001b[1;31mNameError\u001b[0m: name 'cnjg' is not defined"
     ]
    }
   ],
   "source": [
    "cnjg"
   ]
  },
  {
   "cell_type": "code",
   "execution_count": null,
   "id": "20aa80fb",
   "metadata": {},
   "outputs": [],
   "source": [
    "import asyncio\n",
    "import async_timeout\n",
    "import aiohttp\n",
    "import nest_asyncio\n",
    "nest_asyncio.apply()\n",
    "import json\n",
    "from pyppeteer import launch"
   ]
  },
  {
   "cell_type": "code",
   "execution_count": null,
   "id": "fe76f4fb",
   "metadata": {},
   "outputs": [],
   "source": [
    "import asyncio\n",
    "from pyppeteer import launch\n",
    "\n",
    "\n",
    "async def main():\n",
    "   browserObj =await launch({\"headless\": False})\n",
    "   url = await browserObj.newPage()\n",
    "   await url.goto('https://scrapeme.live/shop/')\n",
    "\n",
    "\n",
    "   ## Get HTML\n",
    "   htmlContent = await url.content()\n",
    "   await browserObj.close()\n",
    "   return htmlContent\n",
    "\n",
    "\n",
    "response = asyncio.get_event_loop().run_until_complete(main())\n",
    "print(response)\n"
   ]
  },
  {
   "cell_type": "code",
   "execution_count": null,
   "id": "a5940192",
   "metadata": {},
   "outputs": [],
   "source": [
    "asyncio.get_event_loop().run_until_complete(main())"
   ]
  },
  {
   "cell_type": "code",
   "execution_count": null,
   "id": "ce75bf8d",
   "metadata": {},
   "outputs": [],
   "source": [
    "cnjg"
   ]
  },
  {
   "cell_type": "code",
   "execution_count": null,
   "id": "5aacc54a",
   "metadata": {},
   "outputs": [],
   "source": [
    "q = df_error['teleg_mes'][0]"
   ]
  },
  {
   "cell_type": "code",
   "execution_count": null,
   "id": "c3899440",
   "metadata": {},
   "outputs": [],
   "source": [
    "q"
   ]
  },
  {
   "cell_type": "code",
   "execution_count": null,
   "id": "23baf596",
   "metadata": {},
   "outputs": [],
   "source": []
  },
  {
   "cell_type": "code",
   "execution_count": null,
   "id": "6edbd684",
   "metadata": {},
   "outputs": [],
   "source": []
  },
  {
   "cell_type": "code",
   "execution_count": null,
   "id": "ab09b61f",
   "metadata": {},
   "outputs": [],
   "source": [
    "q = '[Музей «Мемориал Победы»](https://memorial24.ru/novosti)\\nПриглашаем в Единый Почетный караул\\n\\n14.10.2023\\n\\n4-го ноября постовцы советских лет заступят в караул вместе с участниками возрожденного Поста №1. Участие бесплатное, но нужна предварительная регистрация (ссылка ниже )\\nМузей «Мемориал Победы» и Пост №1 приглашают тех, кто нес караульную службу в 1968-1992 годы, принять участие в Едином Почетном карауле.\\nДвижение юнармейских Постов ведет свою историю с осени 1965-го года, когда в Волгограде был создан первый в стране пионерско-комсомольский Пост №1.\\n5-го октября 1968-го года Пост №1 был открыт в Красноярске. До 1992-го года лучшие пионеры и комсомольцы города несли службу у Вечного огня на Красной площади Красноярска. Возрождение Поста №1 и караульной службы у Вечного огня на площади Мемориала Победы стало с февраля 2015-го года.\\nЗаявки на участие в едином почётном карауле принимаются до 27-го октября по телефону 201-89-29 или регистрируйтесь здесь: https://vk.com/app6013442_-26051136?form_id=3#form_id=3\\n\\nПОДЕЛИТЬСЯ:'"
   ]
  },
  {
   "cell_type": "code",
   "execution_count": null,
   "id": "d8c8b666",
   "metadata": {},
   "outputs": [],
   "source": [
    "bot.send_message(TEST_CHANEL, q, parse_mode='Markdown')"
   ]
  },
  {
   "cell_type": "code",
   "execution_count": null,
   "id": "aba66f32",
   "metadata": {},
   "outputs": [],
   "source": []
  },
  {
   "cell_type": "code",
   "execution_count": null,
   "id": "35722a0a",
   "metadata": {},
   "outputs": [],
   "source": []
  },
  {
   "cell_type": "code",
   "execution_count": null,
   "id": "23546b04",
   "metadata": {},
   "outputs": [],
   "source": []
  },
  {
   "cell_type": "code",
   "execution_count": null,
   "id": "171a6b27",
   "metadata": {},
   "outputs": [],
   "source": []
  }
 ],
 "metadata": {
  "kernelspec": {
   "display_name": "Python 3 (ipykernel)",
   "language": "python",
   "name": "python3"
  },
  "language_info": {
   "codemirror_mode": {
    "name": "ipython",
    "version": 3
   },
   "file_extension": ".py",
   "mimetype": "text/x-python",
   "name": "python",
   "nbconvert_exporter": "python",
   "pygments_lexer": "ipython3",
   "version": "3.11.5"
  },
  "toc": {
   "base_numbering": 1,
   "nav_menu": {},
   "number_sections": true,
   "sideBar": true,
   "skip_h1_title": false,
   "title_cell": "Table of Contents",
   "title_sidebar": "Contents",
   "toc_cell": false,
   "toc_position": {
    "height": "calc(100% - 180px)",
    "left": "10px",
    "top": "150px",
    "width": "197.844px"
   },
   "toc_section_display": true,
   "toc_window_display": true
  },
  "varInspector": {
   "cols": {
    "lenName": 16,
    "lenType": 16,
    "lenVar": 40
   },
   "kernels_config": {
    "python": {
     "delete_cmd_postfix": "",
     "delete_cmd_prefix": "del ",
     "library": "var_list.py",
     "varRefreshCmd": "print(var_dic_list())"
    },
    "r": {
     "delete_cmd_postfix": ") ",
     "delete_cmd_prefix": "rm(",
     "library": "var_list.r",
     "varRefreshCmd": "cat(var_dic_list()) "
    }
   },
   "types_to_exclude": [
    "module",
    "function",
    "builtin_function_or_method",
    "instance",
    "_Feature"
   ],
   "window_display": false
  }
 },
 "nbformat": 4,
 "nbformat_minor": 5
}
