{
 "cells": [
  {
   "cell_type": "code",
   "execution_count": 1,
   "id": "b67466bc",
   "metadata": {
    "ExecuteTime": {
     "end_time": "2023-11-06T18:25:10.973650700Z",
     "start_time": "2023-11-06T18:25:10.321487100Z"
    }
   },
   "outputs": [],
   "source": [
    "import requests\n",
    "import pandas as pd\n",
    "from bs4 import BeautifulSoup\n",
    "from lxml import etree\n",
    "\n",
    "import requests\n",
    "from lxml import html\n",
    "\n",
    "\n",
    "import re\n",
    "import hashlib\n",
    "import sqlite3\n",
    "import telegram_send\n",
    "import telebot\n",
    "import time\n",
    "import configparser\n",
    "\n",
    "\n",
    "from requests.exceptions import ConnectTimeout\n"
   ]
  },
  {
   "cell_type": "code",
   "execution_count": 2,
   "id": "6d0a843a",
   "metadata": {},
   "outputs": [],
   "source": [
    "#Ограничивает длину слов\n",
    "WORLD_LIMIT = 400\n",
    "\n",
    "TEST_CHANEL = '-1002035663893'"
   ]
  },
  {
   "cell_type": "code",
   "execution_count": 3,
   "id": "e3ec4671",
   "metadata": {},
   "outputs": [],
   "source": [
    "# Создание объекта конфигурации\n",
    "config = configparser.ConfigParser()\n",
    "\n",
    "# Чтение данных из файла\n",
    "config.read('config.ini')\n",
    "\n",
    "BOT_TOKEN = config.get('tokens', 'BOT_TOKEN')"
   ]
  },
  {
   "cell_type": "code",
   "execution_count": 4,
   "id": "01d8258a",
   "metadata": {},
   "outputs": [],
   "source": [
    "df_chanels = pd.DataFrame([['top_Z_museum', 1], \n",
    "                           ['high_Z_museum', 1], \n",
    "                           ['region_Z_museum', 1], \n",
    "                           ['low_Z_museum', 2],\n",
    "                           ['gulag', 3],\n",
    "                                                                                                               \n",
    "                           ],columns=['category', 'stage'])\n",
    "\n",
    "\n",
    "d_stage = {\n",
    "1:'-1002045319076', \n",
    "2:'-1002014969214',\n",
    "3:'-1002124668886',\n",
    "}"
   ]
  },
  {
   "cell_type": "markdown",
   "id": "1e2ceb76",
   "metadata": {},
   "source": [
    "## Функции"
   ]
  },
  {
   "cell_type": "code",
   "execution_count": 5,
   "id": "878c1a30",
   "metadata": {},
   "outputs": [],
   "source": [
    "def get_div(tree, xpath_format, div_mode=True):\n",
    "    list_divs = []\n",
    "\n",
    "\n",
    "    # Выбор элемента\n",
    "    selected_element = tree.xpath(xpath_format)\n",
    "\n",
    "\n",
    "    for div in selected_element:\n",
    "        # Получение HTML-разметки только для выбранного элемента\n",
    "        html_representation = html.tostring(div, encoding='unicode', method='html')\n",
    "\n",
    "        list_divs.append(html_representation)\n",
    "    return list_divs\n"
   ]
  },
  {
   "cell_type": "markdown",
   "id": "39cd3fe6",
   "metadata": {},
   "source": [
    "# Parse"
   ]
  },
  {
   "cell_type": "markdown",
   "id": "549733ef",
   "metadata": {},
   "source": [
    "## Большой лист"
   ]
  },
  {
   "cell_type": "code",
   "execution_count": 6,
   "id": "10de4bee",
   "metadata": {},
   "outputs": [],
   "source": [
    "dict_mus = {\n",
    "\n",
    "    \n",
    "## Профильные/ тематические (мой личный топ Z музеев)\n",
    "    \n",
    "'Музей победы': ['https://victorymuseum.ru/playbill/',\n",
    "'//div[@class=\"oblique-items\"]//div[@class=\"item\"]', 'top_Z_museum'],\n",
    "    \n",
    "'Музей заповедник Сталинградская битва': ['https://stalingrad-battle.ru/',\n",
    "'//div[@class=\"section gray-bg fringe-top-gray fringe-bottom-gray\"]//div[@class=\"item\"]', 'top_Z_museum'],\n",
    "    \n",
    "'Музей блокады Ленинграда': ['https://blokadamus.ru/музей-обороны-и-блокады-ленинграда/события/',\n",
    "'//*[@class=\"elementor-post__card\"]', 'top_Z_museum'],\n",
    "    \n",
    "'Музей минобороны в Москве': ['http://www.cmaf.ru/',\n",
    "'//*[@class=\"reg-news\"]//p[@class=\"news-item\"]/following-sibling::*[1]', 'top_Z_museum'],\n",
    "    \n",
    "'Музей дорогами победы (парк Патриот)': ['https://1418museum.ru/news/',\n",
    "'//*[@class=\"newsItem__contains\"]', 'top_Z_museum'],\n",
    "    \n",
    "'Бородинская битва': ['https://1812panorama.ru/afisha',\n",
    "'//*[@class=\"field-more-title\"]', 'top_Z_museum'],\n",
    "    \n",
    "    \n",
    "    \n",
    "    \n",
    "    \n",
    "## Столичные чуть менее Z\n",
    "    \n",
    "'Музей современной истории России': ['https://sovrhistory.ru/exhibitions/future/index.php',\n",
    "'//*[@class=\"exhibitions__text\"]', 'high_Z_museum'],\n",
    "    \n",
    "'Выставочный центр Манеж, Москва': ['https://moscowmanege.ru/ru/vystavki-all/',\n",
    "'//*[@class=\"news-block exhibition\"]', 'high_Z_museum'],\n",
    "    \n",
    "'Музей Москвы': ['https://mosmuseum.ru/exhibitions/',\n",
    "'//*[@class=\"articles-grid\"]//*[@class=\"content\"]', 'high_Z_museum'],\n",
    "    \n",
    "'ГИМ, Москва': ['https://mediashm.ru/?all=1', '//a[@class=\"element\"]', 'high_Z_museum'],\n",
    "    \n",
    "'Музей кино, Москва': ['https://www.museikino.ru/media_center/',\n",
    "'//div[@class=\"media__inf\"]', 'high_Z_museum'],\n",
    "    \n",
    "    \n",
    "## Региональные Z  \n",
    "\n",
    "'Тульский музей оружия ': ['https://www.museum-arms.ru/news/?str1=2024',\n",
    "'//div[@class=\"newsfirst\"]', 'region_Z_museum'],\n",
    "    \n",
    "'Музей военной истории «Свердловск: Говорит Москва!» ': ['https://ugvim.ru/news/',\n",
    "'//a[@class=\"front_cont h_more_w\"]', 'region_Z_museum'],\n",
    "    \n",
    "'Дом-музей В.И. Ленина': ['https://www.leninmemorial.ru/news/',\n",
    "'//div[@class=\"row row-news-page\"]', 'region_Z_museum'],\n",
    "    \n",
    "'Мемориал «В честь героев Курской битвы»': ['http://мемориал.бгикм.рф/меню/новости',\n",
    "'//div[@class=\"post\"]', 'region_Z_museum'],\n",
    "    \n",
    "'Мемориальный музей военного и трудового подвига 1941–1945 гг': ['http://patriotrm.clan.su/news/?page1',\n",
    "'//td[@style=\"padding:3px;\"]', 'region_Z_museum'],\n",
    "    \n",
    "'ГОСУДАРСТВЕННЫЙ ВОЕННО-ИСТОРИЧЕСКИЙ МУЗЕЙ-ЗАПОВЕДНИК «ПРОХОРОВСКОЕ ПОЛЕ»': ['https://прохоровское-поле.рф/vystavochnaya-deyatelnost.html',\n",
    "'//div[@class=\"news-item\"]', 'region_Z_museum'],\n",
    "    \n",
    "    \n",
    "    \n",
    "    \n",
    "'Музейно-мемориальный комплекс «История танка Т-34»': ['https://museum-t-34.ru/новости/',\n",
    "'//div[@class=\"site_content_left\"]', 'region_Z_museum'],\n",
    "    \n",
    "'Музей «Боевая слава» г. Дербента': ['https://derbentmuseum.ru/',\n",
    "'//section[@class=\"blog\"]//div[@class=\"col-lg-4\"]', 'region_Z_museum'],\n",
    "    \n",
    "'Музей «Мемориал Победы»': ['https://memorial24.ru/novosti',\n",
    "'//div[@class=\"novelty clearfix novelty-teaser\"]', 'region_Z_museum'],\n",
    "    \n",
    "'Музей «Смоленщина в годы Великой Отечественной войны 1941−1945 гг.': ['https://www.smolensk-museum.ru/novosti/muzeynaya_zhizn/',\n",
    "'//div[@class=\"news__item\"]', 'region_Z_museum'],\n",
    "    \n",
    "'Музей «Невский пятачок': ['https://www.lenoblmus.ru/news',\n",
    "'//li[@class=\"col-md-4 col-lg-3 col-sm-6 col-xs-12\"]', 'region_Z_museum'],\n",
    "    \n",
    "'Музей «Дорога жизни»': ['https://navalmuseum.ru/news',\n",
    "'//div[@class=\"content-box\"]', 'region_Z_museum'],\n",
    "\n",
    "\n",
    "## Региональные исторические/краеведческие музеи, в которых что то проскакивает\n",
    "    \n",
    "'Самарский областной историко-краеведческий музей им. П.В. Алабина': ['https://alabin.ru/',\n",
    "'//div[@class=\"news__post\"]', 'low_Z_museum'],\n",
    "    \n",
    "'Якутский государственный объединенный музей истории и культуры народов Севера им. Ем. Ярославского': ['https://yakutmuseum.ru/',\n",
    "'//a[@class=\"news-item\"]', 'low_Z_museum'],\n",
    "    \n",
    "'Краснодарский государственный историко-археологический музей-заповедник им. Е.Д. Фелицына': ['https://felicina.ru/news/',\n",
    "'//div[@class=\"content-area content-left col-md-8 col-sm-8\"]//article', 'low_Z_museum'],\n",
    "    \n",
    "'Государственный исторический музей Южного Урала': ['http://www.chelmuseum.ru/news/#content',\n",
    "'//div[@class=\"card\"]', 'low_Z_museum'],\n",
    "    \n",
    "'Тамбовский областной краеведческий музей': ['https://tmbmuseum.ru/mainmenu/news/relevant',\n",
    "'//h3', 'low_Z_museum'],\n",
    "    \n",
    "'Национальный музей Республики Башкортостан ': ['https://museumrb.ru/category/afisha/events/',\n",
    "'//div[@class=\"upcoming-event-2 pt-80 pb-80\"]//div[@class=\"single-event single-event-3 mb-30 wow fadeInUp my-single-event-3\"]', 'low_Z_museum'],\n",
    "    \n",
    "'Ставропольский государственный музей-заповедник': ['https://stavmuseum.ru/',\n",
    "'//div[@class=\"anonsiblock\"]', 'low_Z_museum'],\n",
    "    \n",
    "'Новосибирский государственный краеведческий музей': ['https://youmuseum.ru/news/',\n",
    "'//div[@class=\"text\"]', 'low_Z_museum'],\n",
    "    \n",
    "'Оренбургский губернаторский историко-краеведческий музей ': ['http://ogikm.ru/',\n",
    "'//div[@class=\"tab-content\"]//div[@class=\"item\"]', 'low_Z_museum'],\n",
    "    \n",
    "'Омский государственный историко-краеведческий музей': ['https://sibmuseum.ru/news/',\n",
    "'//a[@class=\"news-card__link\"]', 'low_Z_museum'],\n",
    "    \n",
    "'Национальный музей Удмуртской Республики им. К. Герда': ['https://nmur.ru/afisha',\n",
    "'//div[@class=\"single-block\"]', 'low_Z_museum'] ,\n",
    "    \n",
    "'Саратовский областной музей краеведения': ['http://www.comk.ru/museum/news/',\n",
    "'//div[@class=\"news-item\"]', 'low_Z_museum'] ,   \n",
    "\n",
    "'Национальный музей Республики Марий Эл им. Т. Евсеева ': ['https://www.fumus.ru/events/',\n",
    "'//ul[@class=\"events__list\"]/li', 'low_Z_museum'] ,  \n",
    "    \n",
    "'Ростовский областной музей краеведения ': ['https://www.rostovmuseum.ru/calendar/list-of-events/',\n",
    "'//div[@class=\"row\"]//div[@class=\"s-news-wrapper\"]', 'low_Z_museum'] ,  \n",
    "\n",
    "'Воронежский областной краеведческий музей ': ['https://museum-vrn.ru/muzej/novosti/',\n",
    "'//a[@class=\"i-wrap\"]', 'low_Z_museum'] , \n",
    "    \n",
    "'Национальный музей Республики Татарстан ': ['https://tatmuseum.ru/news/?PAGEN_1=4',\n",
    "'//a[@class=\"news-item\"]', 'low_Z_museum'] , \n",
    "\n",
    "'Брянский государственный краеведческий музей ': ['https://bgkm.ru/',\n",
    "'//div[@class=\"bloglatestnews1\"]/div', 'low_Z_museum'] , \n",
    "    \n",
    "'Музей истории Бурятии им. М.Н. Хангалова ': ['https://muzeyrb.ru/sobytiya-1?page=2',\n",
    "'//article[@class=\"col-lg-4 mb-50 animate-conner\"]', 'low_Z_museum'] , \n",
    "    \n",
    "'Национальный музей Республики Дагестан им. А. Тахо-Годи ': ['https://dagmuzey.ru/events',\n",
    "'//a[@class=\"s-events-wrapper__item s-events-wrapper-item\"]', 'low_Z_museum'] , \n",
    "    \n",
    "'Ульяновский областной краеведческий музей имени И.А. Гончарова ': ['https://uokm.site/category/уокм/новости/',\n",
    "'//a[@class=\"a news-link\"]', 'low_Z_museum'], \n",
    "    \n",
    "'Музей истории города Улан-Удэ ': ['https://uumuseum.ru/news/',\n",
    "'//a[@class=\"event-index-item\"]', 'low_Z_museum'], \n",
    "\n",
    "'Национальный музей Республики Коми ': ['https://museumkomi.ru/?cat=3',\n",
    "'//div[@class=\"special-category\"]', 'low_Z_museum'], \n",
    "\n",
    "'Национальный музей Республики Алтай имени А.В. Анохина ': ['http://musey-anohina.ru/index.php/novosti',\n",
    "'//div[@class=\"catItemBody\"]', 'low_Z_museum'], \n",
    "    \n",
    "'Чувашский национальный музей ': ['https://chnmuseum.ru/news/',\n",
    "'//main[@class=\"site-main\"]/article', 'low_Z_museum'],   \n",
    "    \n",
    "'Мордовский республиканский объединенный краеведческий музей им. И.Д. Воронина ': ['http://mrkm.ru/novosti/?PAGEN_1=4',\n",
    "'//a[@class=\"box news\"]', 'low_Z_museum'],  \n",
    "    \n",
    "'Национальный музей им. Алдан Маадыр Республики Тыва ': ['https://музейтыва.рф/?cat=16&paged=1',\n",
    "'//div[@class=\"main col-lg-9 col-md-8  postlist\"]/article', 'low_Z_museum'], \n",
    "\n",
    "'Хабаровский краевой музей имени Н.И. Гродекова ': ['https://hkm.ru/news/',\n",
    "'//a[@class=\"new-item list-item\"]', 'low_Z_museum'], \n",
    "    \n",
    "\n",
    "'Калининградский областной историко-художественный музей ': ['https://koihm.ru/category/novosti/',\n",
    "'//div[@class=\"article-inner\"]', 'low_Z_museum'], \n",
    "    \n",
    "'Национальный музей Республики Карелия ': ['https://kareliamuseum.ru/news/',\n",
    "'//article[@class=\"clearfix l-news-article\"]', 'low_Z_museum'], \n",
    "    \n",
    "'Астраханский музей заповедник ': ['https://astmuseum.ru/ru/news/',\n",
    "'//div[@class=\"iblock-list-item-wrap  \"]', 'low_Z_museum'], \n",
    "    \n",
    "'Сургутский краеведческий музей ': ['https://skmuseum.ru/',\n",
    "'//ul[@class=\"is-layout-flow wp-block-post-template has-small-font-size\"]/li', 'low_Z_museum'], \n",
    "\n",
    "'Магаданский областной краеведческий музей ': ['https://magadanmuseum.ru/index.php?do=cat&category=news',\n",
    "'//div[@id=\"dle-content\"]/table', 'low_Z_museum'], \n",
    "\n",
    "'Курский областной краеведческий музей ': ['http://kursk-museum.ru/',\n",
    "'//div[@class=\"clearfix news_content\"]', 'low_Z_museum'],  \n",
    "    \n",
    "'Национальный музей Республики Адыгея ': ['https://adyg-museum.ru/ru/',\n",
    "'//div[@class=\" col-12 col-sm-12 col-md-6 col-lg-4 col-xl-4\"]|//div[@class=\" col-12 col-sm-12 col-md-12 col-lg-6 col-xl-6\"]', 'low_Z_museum'],  \n",
    "\n",
    "'Музейно-выставочный центр г. Иваново ': ['http://www.igikm.ru/sobytiya/novosti/',\n",
    "'//p[@class=\"announce-text\"]', 'low_Z_museum'], \n",
    "    \n",
    "## ГУЛАГ\n",
    "    \n",
    "  \n",
    "'Музей Анны Ахматовой в Фонтанном доме': ['https://www.akhmatova.spb.ru/afisha',\n",
    "'//a[@class=\"js-product-link\"]', 'gulag'],\n",
    "    \n",
    "'Музей Гулага': ['https://gmig.ru/museum/news/',\n",
    "'//a[@class=\"news-in-list\"]', 'gulag'],\n",
    "    \n",
    "'Соловецкий государственный историко-архитектурный и природный музей-заповедник': ['http://solovky.ru/ru/vystavki/v-rossii-peredvizhnye-vystavki',\n",
    "'//div[@class=\"field field-name-field-expandable-block field-type-field-collection field-label-hidden\"]/div[@class=\"field-items\"]/div', 'gulag'],\n",
    "\n",
    "'Новый музей обороны и блокады Ленинграда, АНАСТАСИЯ КАРКАЧЕВА О ВЫСТАВКЕ В НОВОМ МУЗЕЕ': ['https://www.colta.ru/articles/art/14086-novyy-muzey-oborony-i-blokady-leningrada',\n",
    "'//div[@class=\"mask left_posts\"]/article', 'gulag'],\n",
    "    \n",
    "'Пермь 36': ['https://mperm36.ru/novosti',\n",
    "'//div[@class=\"news-row\"]/div', 'gulag'],\n",
    "    \n",
    "'Военно-медицинский музей': ['https://milmed.spb.ru/category/новости/',\n",
    "'//div[@class=\"col_block\"]', 'gulag'],\n",
    "        \n",
    "    \n",
    "    \n",
    "    \n",
    "  \n",
    "                                                   }"
   ]
  },
  {
   "cell_type": "code",
   "execution_count": 8,
   "id": "77179c50",
   "metadata": {},
   "outputs": [],
   "source": [
    "from urllib3.exceptions import MaxRetryError\n",
    "\n"
   ]
  },
  {
   "cell_type": "code",
   "execution_count": 7,
   "id": "a04cf604",
   "metadata": {
    "scrolled": true
   },
   "outputs": [
    {
     "name": "stderr",
     "output_type": "stream",
     "text": [
      "C:\\Users\\shums\\anaconda3\\Lib\\site-packages\\urllib3\\connectionpool.py:1056: InsecureRequestWarning: Unverified HTTPS request is being made to host 'victorymuseum.ru'. Adding certificate verification is strongly advised. See: https://urllib3.readthedocs.io/en/1.26.x/advanced-usage.html#ssl-warnings\n",
      "  warnings.warn(\n",
      "C:\\Users\\shums\\anaconda3\\Lib\\site-packages\\urllib3\\connectionpool.py:1056: InsecureRequestWarning: Unverified HTTPS request is being made to host 'stalingrad-battle.ru'. Adding certificate verification is strongly advised. See: https://urllib3.readthedocs.io/en/1.26.x/advanced-usage.html#ssl-warnings\n",
      "  warnings.warn(\n",
      "C:\\Users\\shums\\anaconda3\\Lib\\site-packages\\urllib3\\connectionpool.py:1056: InsecureRequestWarning: Unverified HTTPS request is being made to host 'blokadamus.ru'. Adding certificate verification is strongly advised. See: https://urllib3.readthedocs.io/en/1.26.x/advanced-usage.html#ssl-warnings\n",
      "  warnings.warn(\n",
      "C:\\Users\\shums\\anaconda3\\Lib\\site-packages\\urllib3\\connectionpool.py:1056: InsecureRequestWarning: Unverified HTTPS request is being made to host '1418museum.ru'. Adding certificate verification is strongly advised. See: https://urllib3.readthedocs.io/en/1.26.x/advanced-usage.html#ssl-warnings\n",
      "  warnings.warn(\n",
      "C:\\Users\\shums\\anaconda3\\Lib\\site-packages\\urllib3\\connectionpool.py:1056: InsecureRequestWarning: Unverified HTTPS request is being made to host '1812panorama.ru'. Adding certificate verification is strongly advised. See: https://urllib3.readthedocs.io/en/1.26.x/advanced-usage.html#ssl-warnings\n",
      "  warnings.warn(\n"
     ]
    },
    {
     "name": "stdout",
     "output_type": "stream",
     "text": [
      "Ошибка статуса 403 для https://1418museum.ru/news/\n"
     ]
    },
    {
     "ename": "SSLError",
     "evalue": "HTTPSConnectionPool(host='sovrhistory.ru', port=443): Max retries exceeded with url: /exhibitions/future/index.php (Caused by SSLError(SSLError(1, '[SSL: WRONG_VERSION_NUMBER] wrong version number (_ssl.c:1006)')))",
     "output_type": "error",
     "traceback": [
      "\u001b[1;31m---------------------------------------------------------------------------\u001b[0m",
      "\u001b[1;31mSSLError\u001b[0m                                  Traceback (most recent call last)",
      "File \u001b[1;32m~\\anaconda3\\Lib\\site-packages\\urllib3\\connectionpool.py:714\u001b[0m, in \u001b[0;36mHTTPConnectionPool.urlopen\u001b[1;34m(self, method, url, body, headers, retries, redirect, assert_same_host, timeout, pool_timeout, release_conn, chunked, body_pos, **response_kw)\u001b[0m\n\u001b[0;32m    713\u001b[0m \u001b[38;5;66;03m# Make the request on the httplib connection object.\u001b[39;00m\n\u001b[1;32m--> 714\u001b[0m httplib_response \u001b[38;5;241m=\u001b[39m \u001b[38;5;28mself\u001b[39m\u001b[38;5;241m.\u001b[39m_make_request(\n\u001b[0;32m    715\u001b[0m     conn,\n\u001b[0;32m    716\u001b[0m     method,\n\u001b[0;32m    717\u001b[0m     url,\n\u001b[0;32m    718\u001b[0m     timeout\u001b[38;5;241m=\u001b[39mtimeout_obj,\n\u001b[0;32m    719\u001b[0m     body\u001b[38;5;241m=\u001b[39mbody,\n\u001b[0;32m    720\u001b[0m     headers\u001b[38;5;241m=\u001b[39mheaders,\n\u001b[0;32m    721\u001b[0m     chunked\u001b[38;5;241m=\u001b[39mchunked,\n\u001b[0;32m    722\u001b[0m )\n\u001b[0;32m    724\u001b[0m \u001b[38;5;66;03m# If we're going to release the connection in ``finally:``, then\u001b[39;00m\n\u001b[0;32m    725\u001b[0m \u001b[38;5;66;03m# the response doesn't need to know about the connection. Otherwise\u001b[39;00m\n\u001b[0;32m    726\u001b[0m \u001b[38;5;66;03m# it will also try to release it and we'll have a double-release\u001b[39;00m\n\u001b[0;32m    727\u001b[0m \u001b[38;5;66;03m# mess.\u001b[39;00m\n",
      "File \u001b[1;32m~\\anaconda3\\Lib\\site-packages\\urllib3\\connectionpool.py:403\u001b[0m, in \u001b[0;36mHTTPConnectionPool._make_request\u001b[1;34m(self, conn, method, url, timeout, chunked, **httplib_request_kw)\u001b[0m\n\u001b[0;32m    402\u001b[0m \u001b[38;5;28;01mtry\u001b[39;00m:\n\u001b[1;32m--> 403\u001b[0m     \u001b[38;5;28mself\u001b[39m\u001b[38;5;241m.\u001b[39m_validate_conn(conn)\n\u001b[0;32m    404\u001b[0m \u001b[38;5;28;01mexcept\u001b[39;00m (SocketTimeout, BaseSSLError) \u001b[38;5;28;01mas\u001b[39;00m e:\n\u001b[0;32m    405\u001b[0m     \u001b[38;5;66;03m# Py2 raises this as a BaseSSLError, Py3 raises it as socket timeout.\u001b[39;00m\n",
      "File \u001b[1;32m~\\anaconda3\\Lib\\site-packages\\urllib3\\connectionpool.py:1053\u001b[0m, in \u001b[0;36mHTTPSConnectionPool._validate_conn\u001b[1;34m(self, conn)\u001b[0m\n\u001b[0;32m   1052\u001b[0m \u001b[38;5;28;01mif\u001b[39;00m \u001b[38;5;129;01mnot\u001b[39;00m \u001b[38;5;28mgetattr\u001b[39m(conn, \u001b[38;5;124m\"\u001b[39m\u001b[38;5;124msock\u001b[39m\u001b[38;5;124m\"\u001b[39m, \u001b[38;5;28;01mNone\u001b[39;00m):  \u001b[38;5;66;03m# AppEngine might not have  `.sock`\u001b[39;00m\n\u001b[1;32m-> 1053\u001b[0m     conn\u001b[38;5;241m.\u001b[39mconnect()\n\u001b[0;32m   1055\u001b[0m \u001b[38;5;28;01mif\u001b[39;00m \u001b[38;5;129;01mnot\u001b[39;00m conn\u001b[38;5;241m.\u001b[39mis_verified:\n",
      "File \u001b[1;32m~\\anaconda3\\Lib\\site-packages\\urllib3\\connection.py:419\u001b[0m, in \u001b[0;36mHTTPSConnection.connect\u001b[1;34m(self)\u001b[0m\n\u001b[0;32m    417\u001b[0m     context\u001b[38;5;241m.\u001b[39mload_default_certs()\n\u001b[1;32m--> 419\u001b[0m \u001b[38;5;28mself\u001b[39m\u001b[38;5;241m.\u001b[39msock \u001b[38;5;241m=\u001b[39m ssl_wrap_socket(\n\u001b[0;32m    420\u001b[0m     sock\u001b[38;5;241m=\u001b[39mconn,\n\u001b[0;32m    421\u001b[0m     keyfile\u001b[38;5;241m=\u001b[39m\u001b[38;5;28mself\u001b[39m\u001b[38;5;241m.\u001b[39mkey_file,\n\u001b[0;32m    422\u001b[0m     certfile\u001b[38;5;241m=\u001b[39m\u001b[38;5;28mself\u001b[39m\u001b[38;5;241m.\u001b[39mcert_file,\n\u001b[0;32m    423\u001b[0m     key_password\u001b[38;5;241m=\u001b[39m\u001b[38;5;28mself\u001b[39m\u001b[38;5;241m.\u001b[39mkey_password,\n\u001b[0;32m    424\u001b[0m     ca_certs\u001b[38;5;241m=\u001b[39m\u001b[38;5;28mself\u001b[39m\u001b[38;5;241m.\u001b[39mca_certs,\n\u001b[0;32m    425\u001b[0m     ca_cert_dir\u001b[38;5;241m=\u001b[39m\u001b[38;5;28mself\u001b[39m\u001b[38;5;241m.\u001b[39mca_cert_dir,\n\u001b[0;32m    426\u001b[0m     ca_cert_data\u001b[38;5;241m=\u001b[39m\u001b[38;5;28mself\u001b[39m\u001b[38;5;241m.\u001b[39mca_cert_data,\n\u001b[0;32m    427\u001b[0m     server_hostname\u001b[38;5;241m=\u001b[39mserver_hostname,\n\u001b[0;32m    428\u001b[0m     ssl_context\u001b[38;5;241m=\u001b[39mcontext,\n\u001b[0;32m    429\u001b[0m     tls_in_tls\u001b[38;5;241m=\u001b[39mtls_in_tls,\n\u001b[0;32m    430\u001b[0m )\n\u001b[0;32m    432\u001b[0m \u001b[38;5;66;03m# If we're using all defaults and the connection\u001b[39;00m\n\u001b[0;32m    433\u001b[0m \u001b[38;5;66;03m# is TLSv1 or TLSv1.1 we throw a DeprecationWarning\u001b[39;00m\n\u001b[0;32m    434\u001b[0m \u001b[38;5;66;03m# for the host.\u001b[39;00m\n",
      "File \u001b[1;32m~\\anaconda3\\Lib\\site-packages\\urllib3\\util\\ssl_.py:449\u001b[0m, in \u001b[0;36mssl_wrap_socket\u001b[1;34m(sock, keyfile, certfile, cert_reqs, ca_certs, server_hostname, ssl_version, ciphers, ssl_context, ca_cert_dir, key_password, ca_cert_data, tls_in_tls)\u001b[0m\n\u001b[0;32m    448\u001b[0m \u001b[38;5;28;01mif\u001b[39;00m send_sni:\n\u001b[1;32m--> 449\u001b[0m     ssl_sock \u001b[38;5;241m=\u001b[39m _ssl_wrap_socket_impl(\n\u001b[0;32m    450\u001b[0m         sock, context, tls_in_tls, server_hostname\u001b[38;5;241m=\u001b[39mserver_hostname\n\u001b[0;32m    451\u001b[0m     )\n\u001b[0;32m    452\u001b[0m \u001b[38;5;28;01melse\u001b[39;00m:\n",
      "File \u001b[1;32m~\\anaconda3\\Lib\\site-packages\\urllib3\\util\\ssl_.py:493\u001b[0m, in \u001b[0;36m_ssl_wrap_socket_impl\u001b[1;34m(sock, ssl_context, tls_in_tls, server_hostname)\u001b[0m\n\u001b[0;32m    492\u001b[0m \u001b[38;5;28;01mif\u001b[39;00m server_hostname:\n\u001b[1;32m--> 493\u001b[0m     \u001b[38;5;28;01mreturn\u001b[39;00m ssl_context\u001b[38;5;241m.\u001b[39mwrap_socket(sock, server_hostname\u001b[38;5;241m=\u001b[39mserver_hostname)\n\u001b[0;32m    494\u001b[0m \u001b[38;5;28;01melse\u001b[39;00m:\n",
      "File \u001b[1;32m~\\anaconda3\\Lib\\ssl.py:517\u001b[0m, in \u001b[0;36mSSLContext.wrap_socket\u001b[1;34m(self, sock, server_side, do_handshake_on_connect, suppress_ragged_eofs, server_hostname, session)\u001b[0m\n\u001b[0;32m    511\u001b[0m \u001b[38;5;28;01mdef\u001b[39;00m \u001b[38;5;21mwrap_socket\u001b[39m(\u001b[38;5;28mself\u001b[39m, sock, server_side\u001b[38;5;241m=\u001b[39m\u001b[38;5;28;01mFalse\u001b[39;00m,\n\u001b[0;32m    512\u001b[0m                 do_handshake_on_connect\u001b[38;5;241m=\u001b[39m\u001b[38;5;28;01mTrue\u001b[39;00m,\n\u001b[0;32m    513\u001b[0m                 suppress_ragged_eofs\u001b[38;5;241m=\u001b[39m\u001b[38;5;28;01mTrue\u001b[39;00m,\n\u001b[0;32m    514\u001b[0m                 server_hostname\u001b[38;5;241m=\u001b[39m\u001b[38;5;28;01mNone\u001b[39;00m, session\u001b[38;5;241m=\u001b[39m\u001b[38;5;28;01mNone\u001b[39;00m):\n\u001b[0;32m    515\u001b[0m     \u001b[38;5;66;03m# SSLSocket class handles server_hostname encoding before it calls\u001b[39;00m\n\u001b[0;32m    516\u001b[0m     \u001b[38;5;66;03m# ctx._wrap_socket()\u001b[39;00m\n\u001b[1;32m--> 517\u001b[0m     \u001b[38;5;28;01mreturn\u001b[39;00m \u001b[38;5;28mself\u001b[39m\u001b[38;5;241m.\u001b[39msslsocket_class\u001b[38;5;241m.\u001b[39m_create(\n\u001b[0;32m    518\u001b[0m         sock\u001b[38;5;241m=\u001b[39msock,\n\u001b[0;32m    519\u001b[0m         server_side\u001b[38;5;241m=\u001b[39mserver_side,\n\u001b[0;32m    520\u001b[0m         do_handshake_on_connect\u001b[38;5;241m=\u001b[39mdo_handshake_on_connect,\n\u001b[0;32m    521\u001b[0m         suppress_ragged_eofs\u001b[38;5;241m=\u001b[39msuppress_ragged_eofs,\n\u001b[0;32m    522\u001b[0m         server_hostname\u001b[38;5;241m=\u001b[39mserver_hostname,\n\u001b[0;32m    523\u001b[0m         context\u001b[38;5;241m=\u001b[39m\u001b[38;5;28mself\u001b[39m,\n\u001b[0;32m    524\u001b[0m         session\u001b[38;5;241m=\u001b[39msession\n\u001b[0;32m    525\u001b[0m     )\n",
      "File \u001b[1;32m~\\anaconda3\\Lib\\ssl.py:1108\u001b[0m, in \u001b[0;36mSSLSocket._create\u001b[1;34m(cls, sock, server_side, do_handshake_on_connect, suppress_ragged_eofs, server_hostname, context, session)\u001b[0m\n\u001b[0;32m   1107\u001b[0m             \u001b[38;5;28;01mraise\u001b[39;00m \u001b[38;5;167;01mValueError\u001b[39;00m(\u001b[38;5;124m\"\u001b[39m\u001b[38;5;124mdo_handshake_on_connect should not be specified for non-blocking sockets\u001b[39m\u001b[38;5;124m\"\u001b[39m)\n\u001b[1;32m-> 1108\u001b[0m         \u001b[38;5;28mself\u001b[39m\u001b[38;5;241m.\u001b[39mdo_handshake()\n\u001b[0;32m   1109\u001b[0m \u001b[38;5;28;01mexcept\u001b[39;00m (\u001b[38;5;167;01mOSError\u001b[39;00m, \u001b[38;5;167;01mValueError\u001b[39;00m):\n",
      "File \u001b[1;32m~\\anaconda3\\Lib\\ssl.py:1379\u001b[0m, in \u001b[0;36mSSLSocket.do_handshake\u001b[1;34m(self, block)\u001b[0m\n\u001b[0;32m   1378\u001b[0m         \u001b[38;5;28mself\u001b[39m\u001b[38;5;241m.\u001b[39msettimeout(\u001b[38;5;28;01mNone\u001b[39;00m)\n\u001b[1;32m-> 1379\u001b[0m     \u001b[38;5;28mself\u001b[39m\u001b[38;5;241m.\u001b[39m_sslobj\u001b[38;5;241m.\u001b[39mdo_handshake()\n\u001b[0;32m   1380\u001b[0m \u001b[38;5;28;01mfinally\u001b[39;00m:\n",
      "\u001b[1;31mSSLError\u001b[0m: [SSL: WRONG_VERSION_NUMBER] wrong version number (_ssl.c:1006)",
      "\nDuring handling of the above exception, another exception occurred:\n",
      "\u001b[1;31mMaxRetryError\u001b[0m                             Traceback (most recent call last)",
      "File \u001b[1;32m~\\anaconda3\\Lib\\site-packages\\requests\\adapters.py:486\u001b[0m, in \u001b[0;36mHTTPAdapter.send\u001b[1;34m(self, request, stream, timeout, verify, cert, proxies)\u001b[0m\n\u001b[0;32m    485\u001b[0m \u001b[38;5;28;01mtry\u001b[39;00m:\n\u001b[1;32m--> 486\u001b[0m     resp \u001b[38;5;241m=\u001b[39m conn\u001b[38;5;241m.\u001b[39murlopen(\n\u001b[0;32m    487\u001b[0m         method\u001b[38;5;241m=\u001b[39mrequest\u001b[38;5;241m.\u001b[39mmethod,\n\u001b[0;32m    488\u001b[0m         url\u001b[38;5;241m=\u001b[39murl,\n\u001b[0;32m    489\u001b[0m         body\u001b[38;5;241m=\u001b[39mrequest\u001b[38;5;241m.\u001b[39mbody,\n\u001b[0;32m    490\u001b[0m         headers\u001b[38;5;241m=\u001b[39mrequest\u001b[38;5;241m.\u001b[39mheaders,\n\u001b[0;32m    491\u001b[0m         redirect\u001b[38;5;241m=\u001b[39m\u001b[38;5;28;01mFalse\u001b[39;00m,\n\u001b[0;32m    492\u001b[0m         assert_same_host\u001b[38;5;241m=\u001b[39m\u001b[38;5;28;01mFalse\u001b[39;00m,\n\u001b[0;32m    493\u001b[0m         preload_content\u001b[38;5;241m=\u001b[39m\u001b[38;5;28;01mFalse\u001b[39;00m,\n\u001b[0;32m    494\u001b[0m         decode_content\u001b[38;5;241m=\u001b[39m\u001b[38;5;28;01mFalse\u001b[39;00m,\n\u001b[0;32m    495\u001b[0m         retries\u001b[38;5;241m=\u001b[39m\u001b[38;5;28mself\u001b[39m\u001b[38;5;241m.\u001b[39mmax_retries,\n\u001b[0;32m    496\u001b[0m         timeout\u001b[38;5;241m=\u001b[39mtimeout,\n\u001b[0;32m    497\u001b[0m         chunked\u001b[38;5;241m=\u001b[39mchunked,\n\u001b[0;32m    498\u001b[0m     )\n\u001b[0;32m    500\u001b[0m \u001b[38;5;28;01mexcept\u001b[39;00m (ProtocolError, \u001b[38;5;167;01mOSError\u001b[39;00m) \u001b[38;5;28;01mas\u001b[39;00m err:\n",
      "File \u001b[1;32m~\\anaconda3\\Lib\\site-packages\\urllib3\\connectionpool.py:798\u001b[0m, in \u001b[0;36mHTTPConnectionPool.urlopen\u001b[1;34m(self, method, url, body, headers, retries, redirect, assert_same_host, timeout, pool_timeout, release_conn, chunked, body_pos, **response_kw)\u001b[0m\n\u001b[0;32m    796\u001b[0m     e \u001b[38;5;241m=\u001b[39m ProtocolError(\u001b[38;5;124m\"\u001b[39m\u001b[38;5;124mConnection aborted.\u001b[39m\u001b[38;5;124m\"\u001b[39m, e)\n\u001b[1;32m--> 798\u001b[0m retries \u001b[38;5;241m=\u001b[39m retries\u001b[38;5;241m.\u001b[39mincrement(\n\u001b[0;32m    799\u001b[0m     method, url, error\u001b[38;5;241m=\u001b[39me, _pool\u001b[38;5;241m=\u001b[39m\u001b[38;5;28mself\u001b[39m, _stacktrace\u001b[38;5;241m=\u001b[39msys\u001b[38;5;241m.\u001b[39mexc_info()[\u001b[38;5;241m2\u001b[39m]\n\u001b[0;32m    800\u001b[0m )\n\u001b[0;32m    801\u001b[0m retries\u001b[38;5;241m.\u001b[39msleep()\n",
      "File \u001b[1;32m~\\anaconda3\\Lib\\site-packages\\urllib3\\util\\retry.py:592\u001b[0m, in \u001b[0;36mRetry.increment\u001b[1;34m(self, method, url, response, error, _pool, _stacktrace)\u001b[0m\n\u001b[0;32m    591\u001b[0m \u001b[38;5;28;01mif\u001b[39;00m new_retry\u001b[38;5;241m.\u001b[39mis_exhausted():\n\u001b[1;32m--> 592\u001b[0m     \u001b[38;5;28;01mraise\u001b[39;00m MaxRetryError(_pool, url, error \u001b[38;5;129;01mor\u001b[39;00m ResponseError(cause))\n\u001b[0;32m    594\u001b[0m log\u001b[38;5;241m.\u001b[39mdebug(\u001b[38;5;124m\"\u001b[39m\u001b[38;5;124mIncremented Retry for (url=\u001b[39m\u001b[38;5;124m'\u001b[39m\u001b[38;5;132;01m%s\u001b[39;00m\u001b[38;5;124m'\u001b[39m\u001b[38;5;124m): \u001b[39m\u001b[38;5;132;01m%r\u001b[39;00m\u001b[38;5;124m\"\u001b[39m, url, new_retry)\n",
      "\u001b[1;31mMaxRetryError\u001b[0m: HTTPSConnectionPool(host='sovrhistory.ru', port=443): Max retries exceeded with url: /exhibitions/future/index.php (Caused by SSLError(SSLError(1, '[SSL: WRONG_VERSION_NUMBER] wrong version number (_ssl.c:1006)')))",
      "\nDuring handling of the above exception, another exception occurred:\n",
      "\u001b[1;31mSSLError\u001b[0m                                  Traceback (most recent call last)",
      "Cell \u001b[1;32mIn[7], line 14\u001b[0m\n\u001b[0;32m     11\u001b[0m group_name \u001b[38;5;241m=\u001b[39m dict_mus[name][\u001b[38;5;241m2\u001b[39m]\n\u001b[0;32m     13\u001b[0m \u001b[38;5;28;01mtry\u001b[39;00m:\n\u001b[1;32m---> 14\u001b[0m     response \u001b[38;5;241m=\u001b[39m requests\u001b[38;5;241m.\u001b[39mget(site,  verify\u001b[38;5;241m=\u001b[39m\u001b[38;5;28;01mFalse\u001b[39;00m\n\u001b[0;32m     15\u001b[0m                             , headers\u001b[38;5;241m=\u001b[39mheaders\n\u001b[0;32m     16\u001b[0m                            )\n\u001b[0;32m     17\u001b[0m \u001b[38;5;28;01mexcept\u001b[39;00m ConnectTimeout:\n\u001b[0;32m     18\u001b[0m     \u001b[38;5;28mprint\u001b[39m(\u001b[38;5;124mf\u001b[39m\u001b[38;5;124m\"\u001b[39m\u001b[38;5;124mВремя подключения к \u001b[39m\u001b[38;5;132;01m{\u001b[39;00msite\u001b[38;5;132;01m}\u001b[39;00m\u001b[38;5;124m истекло.\u001b[39m\u001b[38;5;124m\"\u001b[39m)\n",
      "File \u001b[1;32m~\\anaconda3\\Lib\\site-packages\\requests\\api.py:73\u001b[0m, in \u001b[0;36mget\u001b[1;34m(url, params, **kwargs)\u001b[0m\n\u001b[0;32m     62\u001b[0m \u001b[38;5;28;01mdef\u001b[39;00m \u001b[38;5;21mget\u001b[39m(url, params\u001b[38;5;241m=\u001b[39m\u001b[38;5;28;01mNone\u001b[39;00m, \u001b[38;5;241m*\u001b[39m\u001b[38;5;241m*\u001b[39mkwargs):\n\u001b[0;32m     63\u001b[0m \u001b[38;5;250m    \u001b[39m\u001b[38;5;124mr\u001b[39m\u001b[38;5;124;03m\"\"\"Sends a GET request.\u001b[39;00m\n\u001b[0;32m     64\u001b[0m \n\u001b[0;32m     65\u001b[0m \u001b[38;5;124;03m    :param url: URL for the new :class:`Request` object.\u001b[39;00m\n\u001b[1;32m   (...)\u001b[0m\n\u001b[0;32m     70\u001b[0m \u001b[38;5;124;03m    :rtype: requests.Response\u001b[39;00m\n\u001b[0;32m     71\u001b[0m \u001b[38;5;124;03m    \"\"\"\u001b[39;00m\n\u001b[1;32m---> 73\u001b[0m     \u001b[38;5;28;01mreturn\u001b[39;00m request(\u001b[38;5;124m\"\u001b[39m\u001b[38;5;124mget\u001b[39m\u001b[38;5;124m\"\u001b[39m, url, params\u001b[38;5;241m=\u001b[39mparams, \u001b[38;5;241m*\u001b[39m\u001b[38;5;241m*\u001b[39mkwargs)\n",
      "File \u001b[1;32m~\\anaconda3\\Lib\\site-packages\\requests\\api.py:59\u001b[0m, in \u001b[0;36mrequest\u001b[1;34m(method, url, **kwargs)\u001b[0m\n\u001b[0;32m     55\u001b[0m \u001b[38;5;66;03m# By using the 'with' statement we are sure the session is closed, thus we\u001b[39;00m\n\u001b[0;32m     56\u001b[0m \u001b[38;5;66;03m# avoid leaving sockets open which can trigger a ResourceWarning in some\u001b[39;00m\n\u001b[0;32m     57\u001b[0m \u001b[38;5;66;03m# cases, and look like a memory leak in others.\u001b[39;00m\n\u001b[0;32m     58\u001b[0m \u001b[38;5;28;01mwith\u001b[39;00m sessions\u001b[38;5;241m.\u001b[39mSession() \u001b[38;5;28;01mas\u001b[39;00m session:\n\u001b[1;32m---> 59\u001b[0m     \u001b[38;5;28;01mreturn\u001b[39;00m session\u001b[38;5;241m.\u001b[39mrequest(method\u001b[38;5;241m=\u001b[39mmethod, url\u001b[38;5;241m=\u001b[39murl, \u001b[38;5;241m*\u001b[39m\u001b[38;5;241m*\u001b[39mkwargs)\n",
      "File \u001b[1;32m~\\anaconda3\\Lib\\site-packages\\requests\\sessions.py:589\u001b[0m, in \u001b[0;36mSession.request\u001b[1;34m(self, method, url, params, data, headers, cookies, files, auth, timeout, allow_redirects, proxies, hooks, stream, verify, cert, json)\u001b[0m\n\u001b[0;32m    584\u001b[0m send_kwargs \u001b[38;5;241m=\u001b[39m {\n\u001b[0;32m    585\u001b[0m     \u001b[38;5;124m\"\u001b[39m\u001b[38;5;124mtimeout\u001b[39m\u001b[38;5;124m\"\u001b[39m: timeout,\n\u001b[0;32m    586\u001b[0m     \u001b[38;5;124m\"\u001b[39m\u001b[38;5;124mallow_redirects\u001b[39m\u001b[38;5;124m\"\u001b[39m: allow_redirects,\n\u001b[0;32m    587\u001b[0m }\n\u001b[0;32m    588\u001b[0m send_kwargs\u001b[38;5;241m.\u001b[39mupdate(settings)\n\u001b[1;32m--> 589\u001b[0m resp \u001b[38;5;241m=\u001b[39m \u001b[38;5;28mself\u001b[39m\u001b[38;5;241m.\u001b[39msend(prep, \u001b[38;5;241m*\u001b[39m\u001b[38;5;241m*\u001b[39msend_kwargs)\n\u001b[0;32m    591\u001b[0m \u001b[38;5;28;01mreturn\u001b[39;00m resp\n",
      "File \u001b[1;32m~\\anaconda3\\Lib\\site-packages\\requests\\sessions.py:703\u001b[0m, in \u001b[0;36mSession.send\u001b[1;34m(self, request, **kwargs)\u001b[0m\n\u001b[0;32m    700\u001b[0m start \u001b[38;5;241m=\u001b[39m preferred_clock()\n\u001b[0;32m    702\u001b[0m \u001b[38;5;66;03m# Send the request\u001b[39;00m\n\u001b[1;32m--> 703\u001b[0m r \u001b[38;5;241m=\u001b[39m adapter\u001b[38;5;241m.\u001b[39msend(request, \u001b[38;5;241m*\u001b[39m\u001b[38;5;241m*\u001b[39mkwargs)\n\u001b[0;32m    705\u001b[0m \u001b[38;5;66;03m# Total elapsed time of the request (approximately)\u001b[39;00m\n\u001b[0;32m    706\u001b[0m elapsed \u001b[38;5;241m=\u001b[39m preferred_clock() \u001b[38;5;241m-\u001b[39m start\n",
      "File \u001b[1;32m~\\anaconda3\\Lib\\site-packages\\requests\\adapters.py:517\u001b[0m, in \u001b[0;36mHTTPAdapter.send\u001b[1;34m(self, request, stream, timeout, verify, cert, proxies)\u001b[0m\n\u001b[0;32m    513\u001b[0m         \u001b[38;5;28;01mraise\u001b[39;00m ProxyError(e, request\u001b[38;5;241m=\u001b[39mrequest)\n\u001b[0;32m    515\u001b[0m     \u001b[38;5;28;01mif\u001b[39;00m \u001b[38;5;28misinstance\u001b[39m(e\u001b[38;5;241m.\u001b[39mreason, _SSLError):\n\u001b[0;32m    516\u001b[0m         \u001b[38;5;66;03m# This branch is for urllib3 v1.22 and later.\u001b[39;00m\n\u001b[1;32m--> 517\u001b[0m         \u001b[38;5;28;01mraise\u001b[39;00m SSLError(e, request\u001b[38;5;241m=\u001b[39mrequest)\n\u001b[0;32m    519\u001b[0m     \u001b[38;5;28;01mraise\u001b[39;00m \u001b[38;5;167;01mConnectionError\u001b[39;00m(e, request\u001b[38;5;241m=\u001b[39mrequest)\n\u001b[0;32m    521\u001b[0m \u001b[38;5;28;01mexcept\u001b[39;00m ClosedPoolError \u001b[38;5;28;01mas\u001b[39;00m e:\n",
      "\u001b[1;31mSSLError\u001b[0m: HTTPSConnectionPool(host='sovrhistory.ru', port=443): Max retries exceeded with url: /exhibitions/future/index.php (Caused by SSLError(SSLError(1, '[SSL: WRONG_VERSION_NUMBER] wrong version number (_ssl.c:1006)')))"
     ]
    }
   ],
   "source": [
    "dict_info = {}\n",
    "\n",
    "\n",
    "headers = {\n",
    "    'User-Agent': 'Mozilla/5.0 (Windows NT 10.0; Win64; x64) AppleWebKit/537.36 (KHTML, like Gecko) Chrome/91.0.4472.124 Safari/537.36',\n",
    "}\n",
    "\n",
    "for name in dict_mus:\n",
    "    site = dict_mus[name][0]\n",
    "    xpath = dict_mus[name][1]\n",
    "    group_name = dict_mus[name][2]\n",
    "    \n",
    "    try:\n",
    "        response = requests.get(site,  verify=False\n",
    "                                , headers=headers\n",
    "                               )\n",
    "    except ConnectTimeout:\n",
    "        print(f\"Время подключения к {site} истекло.\")\n",
    "        continue\n",
    "\n",
    "    if response.status_code == 200:\n",
    "        # Создаем объект дерева HTML из содержимого ответа\n",
    "        tree = html.fromstring(response.text)\n",
    "        \n",
    "        \n",
    "        target_obj = get_div(tree, xpath)  \n",
    "        dict_info[site] = target_obj\n",
    "        \n",
    "        \n",
    "    else:\n",
    "        print(f'Ошибка статуса {response.status_code} для {site}')"
   ]
  },
  {
   "cell_type": "code",
   "execution_count": null,
   "id": "5366512c",
   "metadata": {},
   "outputs": [],
   "source": [
    "try:\n",
    "    # Ваш код, который может вызвать ошибку MaxRetryError\n",
    "except urllib3.exceptions. as e:\n",
    "    print(f\"Произошла ошибка MaxRetryError: {e}\")"
   ]
  },
  {
   "cell_type": "code",
   "execution_count": null,
   "id": "00eec6ab",
   "metadata": {},
   "outputs": [],
   "source": []
  },
  {
   "cell_type": "code",
   "execution_count": null,
   "id": "d93600de",
   "metadata": {},
   "outputs": [],
   "source": []
  },
  {
   "cell_type": "code",
   "execution_count": null,
   "id": "27e3e983",
   "metadata": {},
   "outputs": [],
   "source": []
  },
  {
   "cell_type": "code",
   "execution_count": null,
   "id": "b4c68ec6",
   "metadata": {},
   "outputs": [],
   "source": [
    "df_raw_p = pd.DataFrame([dict_info]).T"
   ]
  },
  {
   "cell_type": "code",
   "execution_count": null,
   "id": "7283363e",
   "metadata": {},
   "outputs": [],
   "source": [
    "df_raw_p = df_raw_p.explode(0)\n",
    "df_raw_p = df_raw_p.reset_index()"
   ]
  },
  {
   "cell_type": "code",
   "execution_count": null,
   "id": "f1678e98",
   "metadata": {},
   "outputs": [],
   "source": [
    "df_raw_p = df_raw_p.rename(columns={'index':'site', 0:'raw_str'})"
   ]
  },
  {
   "cell_type": "code",
   "execution_count": null,
   "id": "a416552b",
   "metadata": {},
   "outputs": [],
   "source": [
    "df_raw_p[df_raw_p['raw_str'].isna()]"
   ]
  },
  {
   "cell_type": "code",
   "execution_count": null,
   "id": "b60599cc",
   "metadata": {},
   "outputs": [],
   "source": [
    "df_raw_p"
   ]
  },
  {
   "cell_type": "code",
   "execution_count": null,
   "id": "eb165df7",
   "metadata": {},
   "outputs": [],
   "source": []
  },
  {
   "cell_type": "code",
   "execution_count": null,
   "id": "a535609e",
   "metadata": {},
   "outputs": [],
   "source": [
    "df_raw_p = df_raw_p[df_raw_p['raw_str'].notna()].copy()"
   ]
  },
  {
   "cell_type": "code",
   "execution_count": null,
   "id": "db9160ad",
   "metadata": {
    "scrolled": true
   },
   "outputs": [],
   "source": [
    "df_raw_p['text_elem'] = df_raw_p['raw_str'].apply(lambda x: BeautifulSoup(x, 'html.parser').text)"
   ]
  },
  {
   "cell_type": "code",
   "execution_count": null,
   "id": "b0e8ca04",
   "metadata": {},
   "outputs": [],
   "source": []
  },
  {
   "cell_type": "code",
   "execution_count": null,
   "id": "cdf5a11f",
   "metadata": {},
   "outputs": [],
   "source": []
  },
  {
   "cell_type": "markdown",
   "id": "cc77c2a1",
   "metadata": {},
   "source": [
    "## Доработка запросов"
   ]
  },
  {
   "cell_type": "code",
   "execution_count": null,
   "id": "9d7e2328",
   "metadata": {},
   "outputs": [],
   "source": [
    "target_site = 'https://www.akhmatova.spb.ru/afisha'\n",
    "temp_s = set()\n",
    "\n",
    "# Проверяю есть ли вообще такие\n",
    "for i in dict_mus.values():\n",
    "    temp_s.add(i[0])\n",
    "#assert target_site in temp_s\n",
    "\n",
    "\n",
    "\n",
    "\n",
    "if any(df_raw_p.site == target_site):\n",
    "    # Оставляю 10 первых значений \n",
    "    part_target = df_raw_p[df_raw_p['site']==target_site][:10]\n",
    "    \n",
    "    part_all = df_raw_p[df_raw_p['site']!=target_site]\n",
    "    \n",
    "    df_raw_p = pd.concat([part_target, part_all]).copy()"
   ]
  },
  {
   "cell_type": "code",
   "execution_count": null,
   "id": "b7c52fcd",
   "metadata": {},
   "outputs": [],
   "source": [
    "df_raw_p = df_raw_p.reset_index(drop=True).copy()"
   ]
  },
  {
   "cell_type": "code",
   "execution_count": null,
   "id": "f5a9d8b2",
   "metadata": {},
   "outputs": [],
   "source": []
  },
  {
   "cell_type": "markdown",
   "id": "08f7d43c",
   "metadata": {},
   "source": [
    "## Делаем колоку с хэшом"
   ]
  },
  {
   "cell_type": "code",
   "execution_count": null,
   "id": "c0355151",
   "metadata": {},
   "outputs": [],
   "source": [
    "def generate_hash(input_string):\n",
    "    # Создаем объект хэша SHA-256\n",
    "    hash_object = hashlib.sha256()\n",
    "\n",
    "    # Преобразуем входную строку в байты и обновляем хэш\n",
    "    hash_object.update(input_string.encode('utf-8'))\n",
    "\n",
    "    # Получаем шестнадцатеричное представление хэша\n",
    "    hash_value = hash_object.hexdigest()\n",
    "\n",
    "    return hash_value"
   ]
  },
  {
   "cell_type": "code",
   "execution_count": null,
   "id": "6c48bb7a",
   "metadata": {},
   "outputs": [],
   "source": [
    "# Колонка для хеширования\n",
    "df_raw_p.insert(0,'hash_col', df_raw_p['site']+ ' ' + df_raw_p['text_elem'])\n",
    "\n",
    "df_raw_p['hash_col'] = df_raw_p['hash_col'].apply(generate_hash)"
   ]
  },
  {
   "cell_type": "code",
   "execution_count": null,
   "id": "e56f909b",
   "metadata": {},
   "outputs": [],
   "source": [
    "df_raw_p['text_elem'] = df_raw_p['text_elem'].str.replace('❾', '')"
   ]
  },
  {
   "cell_type": "code",
   "execution_count": null,
   "id": "69c01e1b",
   "metadata": {},
   "outputs": [],
   "source": [
    "df_raw_p = df_raw_p.drop_duplicates(['site', 'text_elem']).copy()"
   ]
  },
  {
   "cell_type": "code",
   "execution_count": null,
   "id": "7724a2f7",
   "metadata": {},
   "outputs": [],
   "source": [
    "df_raw_p.insert(0,'date_stamp', pd.to_datetime('today'))"
   ]
  },
  {
   "cell_type": "markdown",
   "id": "c35aef16",
   "metadata": {},
   "source": [
    "## Загружаем в db"
   ]
  },
  {
   "cell_type": "code",
   "execution_count": null,
   "id": "5f183d8a",
   "metadata": {},
   "outputs": [],
   "source": [
    "conn = sqlite3.connect('museums.db')"
   ]
  },
  {
   "cell_type": "code",
   "execution_count": null,
   "id": "b4de7009",
   "metadata": {},
   "outputs": [],
   "source": [
    "# Создаю таблицы\n",
    "\n",
    "qu = '''\n",
    "    CREATE TABLE if not EXISTS \"parse\" (\n",
    "    \"date_stamp\" TIMESTAMP,\n",
    "    \"hash_col\" TEXT UNIQUE,\n",
    "    \"site\" TEXT,\n",
    "    \"raw_str\" TEXT,\n",
    "    \"text_elem\" TEXT\n",
    ")\n",
    "'''\n",
    "conn.execute(qu)\n",
    "\n",
    "qu = '''\n",
    "    CREATE TABLE if not EXISTS \"parse_temp\" (\n",
    "    \"date_stamp\" TIMESTAMP,\n",
    "    \"hash_col\" TEXT UNIQUE,\n",
    "    \"site\" TEXT,\n",
    "    \"raw_str\" TEXT,\n",
    "    \"text_elem\" TEXT\n",
    "\n",
    ")\n",
    "'''\n",
    "conn.execute(qu)\n",
    "\n",
    "# Добавляю таблицу, для успешных выполнений\n",
    "qu = '''\n",
    "    CREATE TABLE if not EXISTS send_telegram (\n",
    "    \"date_stamp\" TIMESTAMP,\n",
    "    \"hash_col\" TEXT UNIQUE, \n",
    "    \"chanel_id\" TEXT, \n",
    "    teleg_mes TEXT\n",
    ")\n",
    "'''\n",
    "conn.execute(qu)"
   ]
  },
  {
   "cell_type": "code",
   "execution_count": null,
   "id": "f9215cd6",
   "metadata": {},
   "outputs": [],
   "source": [
    "# Временная таблица\n",
    "df_raw_p.to_sql('parse_temp', conn, index=False, if_exists='replace')\n",
    "\n",
    "\n",
    "# Импортирую значения с новыми значениями по хэшу\n",
    "qu = '''\n",
    "INSERT INTO parse\n",
    "select *\n",
    "from parse_temp\n",
    "where hash_col not in (select hash_col from parse)\n",
    "\n",
    "'''\n",
    "conn.execute(qu)"
   ]
  },
  {
   "cell_type": "code",
   "execution_count": null,
   "id": "2096516a",
   "metadata": {},
   "outputs": [],
   "source": [
    "# Не загруженые значения\n",
    "qu = '''\n",
    "select *\n",
    "from parse\n",
    "where hash_col not in (select hash_col from send_telegram)\n",
    "order by date_stamp\n",
    "'''\n",
    "df_n_compl = pd.read_sql(qu, conn)"
   ]
  },
  {
   "cell_type": "markdown",
   "id": "a7968c83",
   "metadata": {},
   "source": [
    "# Чистка"
   ]
  },
  {
   "cell_type": "code",
   "execution_count": null,
   "id": "cffba0d1",
   "metadata": {},
   "outputs": [],
   "source": [
    "def adj_lim(x:list):\n",
    "    '''Ограничивает длину слова'''\n",
    "    for i, el  in enumerate(x):\n",
    "\n",
    "        if len(el) > WORLD_LIMIT:\n",
    "            x[i] = el[:WORLD_LIMIT]+'...'\n",
    "            \n",
    "    return x\n",
    "\n",
    "\n",
    "\n",
    "list_unuse = ['\\t\\t\\t\\tЧитать далее»\\t\\t\\t', 'подробнее >>', 'Подробнее', 'Заказать', 'подробнее...']\n",
    "\n",
    "\n",
    "def drop_words(x:list):\n",
    "    '''\n",
    "    Удаляю лишние слова \n",
    "    '''\n",
    "    new_list = []\n",
    "    for l in x:\n",
    "\n",
    "        if not l in list_unuse and not bool(re.match(r'^[0-9 /]+$', l)) and l:\n",
    "            new_list.append(l)\n",
    "#             print('********************')\n",
    "#             print(l)\n",
    "#             print('********************')\n",
    "#         else:\n",
    "#             print('********************')\n",
    "#             print('Не лобавлено',l)\n",
    "#             print('********************')\n",
    "    return new_list\n",
    "\n",
    "        "
   ]
  },
  {
   "cell_type": "code",
   "execution_count": null,
   "id": "964c7083",
   "metadata": {},
   "outputs": [],
   "source": [
    "# Удаляю https://vk.com иза ошибки\n",
    "df_n_compl['text_elem'] = df_n_compl['text_elem'].str.replace(r'Ссылка: https://vk.com[^\\\\]*', '', regex=True)"
   ]
  },
  {
   "cell_type": "code",
   "execution_count": null,
   "id": "8fa7625a",
   "metadata": {},
   "outputs": [],
   "source": [
    "# Убираю \\r\n",
    "df_n_compl['text_elem'] = df_n_compl['text_elem'].str.replace('\\r', '')"
   ]
  },
  {
   "cell_type": "code",
   "execution_count": null,
   "id": "c01f72d1",
   "metadata": {},
   "outputs": [],
   "source": [
    "df_n_compl['text_elem'] = df_n_compl['text_elem'].str.replace('[0-9]* Comments', '')"
   ]
  },
  {
   "cell_type": "code",
   "execution_count": null,
   "id": "483f7d2e",
   "metadata": {},
   "outputs": [],
   "source": [
    "# Сплит строки\n",
    "df_n_compl['text_elem'] = df_n_compl['text_elem'].apply(lambda x: re.split(r\"(\\n)\", x))\n",
    "\n",
    "# Ограничивает длину\n",
    "df_n_compl['text_elem'] = df_n_compl['text_elem'].apply(adj_lim)\n",
    "\n",
    "# Удаление лишних слов \n",
    "df_n_compl['text_elem'] = df_n_compl['text_elem'].apply(drop_words)\n",
    "\n",
    "df_n_compl['text_elem']= df_n_compl['text_elem'].apply(lambda x: ''.join(x))"
   ]
  },
  {
   "cell_type": "code",
   "execution_count": null,
   "id": "8c5635ad",
   "metadata": {},
   "outputs": [],
   "source": [
    "# Удаление \\n в конце текста\n",
    "df_n_compl['text_elem'] = df_n_compl['text_elem'].str.replace('[(\\\\n)(\\\\t)]+$', '', regex=True)\n",
    "\n",
    "# Удаление \\n в начале\n",
    "df_n_compl['text_elem'] = df_n_compl['text_elem'].str.replace('^[(\\\\n)(\\\\t)]+', '', regex=True)\n",
    "\n",
    "# Замена \\n\\n на меньшее число\n",
    "df_n_compl['text_elem'] = df_n_compl['text_elem'].str.replace('(\\\\n){3,}','\\n\\n', regex=True)\n",
    "\n",
    "df_n_compl['text_elem'] = df_n_compl['text_elem'].str.replace(' {3,}',' ', regex=True)"
   ]
  },
  {
   "cell_type": "code",
   "execution_count": null,
   "id": "6638a334",
   "metadata": {},
   "outputs": [],
   "source": []
  },
  {
   "cell_type": "markdown",
   "id": "13e3aae1",
   "metadata": {},
   "source": [
    "# Telegram"
   ]
  },
  {
   "cell_type": "markdown",
   "id": "709b9db2",
   "metadata": {},
   "source": [
    "## Добавляем имена музеев"
   ]
  },
  {
   "cell_type": "code",
   "execution_count": null,
   "id": "fbb508d0",
   "metadata": {},
   "outputs": [],
   "source": [
    "d_mus_names = {}\n",
    "\n",
    "for k in dict_mus:\n",
    "    d_mus_names[dict_mus[k][0]] = k"
   ]
  },
  {
   "cell_type": "code",
   "execution_count": null,
   "id": "25da6efd",
   "metadata": {
    "scrolled": true
   },
   "outputs": [],
   "source": [
    "df_n_compl['mus_name'] = df_n_compl['site'].map(d_mus_names)\n",
    "\n",
    "df_n_compl['mus_name']= df_n_compl['mus_name'].fillna(df_n_compl['site'])\n"
   ]
  },
  {
   "cell_type": "markdown",
   "id": "e7583d01",
   "metadata": {},
   "source": [
    "## Отправка"
   ]
  },
  {
   "cell_type": "markdown",
   "id": "1e57e556",
   "metadata": {},
   "source": [
    "### Форматирование"
   ]
  },
  {
   "cell_type": "markdown",
   "id": "208b3a0e",
   "metadata": {},
   "source": [
    "### Ссылка на музей"
   ]
  },
  {
   "cell_type": "code",
   "execution_count": null,
   "id": "2ce58554",
   "metadata": {},
   "outputs": [],
   "source": [
    "df_n_compl['teleg_mes'] = '[' + df_n_compl.mus_name + ']' + '(' + df_n_compl.site + ')' + '\\n'\n",
    "\n",
    "df_n_compl['teleg_mes'] = df_n_compl['teleg_mes']+ df_n_compl.text_elem"
   ]
  },
  {
   "cell_type": "code",
   "execution_count": null,
   "id": "1ae30486",
   "metadata": {
    "scrolled": true
   },
   "outputs": [],
   "source": [
    "df_n_compl = df_n_compl[df_n_compl['text_elem']!='']"
   ]
  },
  {
   "cell_type": "code",
   "execution_count": null,
   "id": "b28ce01f",
   "metadata": {
    "scrolled": true
   },
   "outputs": [],
   "source": [
    "df_n_compl"
   ]
  },
  {
   "cell_type": "markdown",
   "id": "233d1680",
   "metadata": {},
   "source": [
    "### Добавляем группы"
   ]
  },
  {
   "cell_type": "code",
   "execution_count": null,
   "id": "a4457c94",
   "metadata": {},
   "outputs": [],
   "source": [
    "df_chanels"
   ]
  },
  {
   "cell_type": "code",
   "execution_count": null,
   "id": "6671380b",
   "metadata": {},
   "outputs": [],
   "source": [
    "df_chanels['chanel_id'] = df_chanels['stage'].map(d_stage)"
   ]
  },
  {
   "cell_type": "code",
   "execution_count": null,
   "id": "c39b66d5",
   "metadata": {},
   "outputs": [],
   "source": [
    "df_chanels"
   ]
  },
  {
   "cell_type": "code",
   "execution_count": null,
   "id": "619a2341",
   "metadata": {},
   "outputs": [],
   "source": [
    "df_mus_info = pd.DataFrame(dict_mus).T\n",
    "df_mus_info.columns = ['site', 'xpath', 'category']"
   ]
  },
  {
   "cell_type": "code",
   "execution_count": null,
   "id": "34b3e8db",
   "metadata": {},
   "outputs": [],
   "source": [
    "df_mus_info = df_mus_info.merge(df_chanels, right_on=['category'], left_on=['category'], how='left')"
   ]
  },
  {
   "cell_type": "code",
   "execution_count": null,
   "id": "277ca9c1",
   "metadata": {},
   "outputs": [],
   "source": [
    "df_mus_info = df_mus_info[['site', 'chanel_id']]"
   ]
  },
  {
   "cell_type": "code",
   "execution_count": null,
   "id": "dca73273",
   "metadata": {
    "scrolled": true
   },
   "outputs": [],
   "source": [
    "df_n_compl = df_n_compl.merge(df_mus_info, on='site', how='left')"
   ]
  },
  {
   "cell_type": "code",
   "execution_count": null,
   "id": "55ec6c6c",
   "metadata": {
    "scrolled": true
   },
   "outputs": [],
   "source": [
    "# assert df_n_compl[df_n_compl['chanel_id'].isna()].empty\n",
    "\n",
    "\n",
    "# # Времяно!!!\n",
    "df_n_compl = df_n_compl[~df_n_compl['chanel_id'].isna()]"
   ]
  },
  {
   "cell_type": "code",
   "execution_count": null,
   "id": "dfad1cf2",
   "metadata": {
    "scrolled": true
   },
   "outputs": [],
   "source": [
    "df_n_compl['chanel_id'].value_counts()"
   ]
  },
  {
   "cell_type": "code",
   "execution_count": null,
   "id": "e834bfaf",
   "metadata": {},
   "outputs": [],
   "source": [
    "df_mes = df_n_compl[['hash_col', 'teleg_mes', 'chanel_id']].copy()"
   ]
  },
  {
   "cell_type": "code",
   "execution_count": null,
   "id": "9cc08c86",
   "metadata": {
    "scrolled": true
   },
   "outputs": [],
   "source": [
    "df_mes"
   ]
  },
  {
   "cell_type": "code",
   "execution_count": null,
   "id": "05612368",
   "metadata": {
    "scrolled": true
   },
   "outputs": [],
   "source": [
    "df_mes.shape"
   ]
  },
  {
   "cell_type": "markdown",
   "id": "4c45f61e",
   "metadata": {},
   "source": [
    "### Исполнение"
   ]
  },
  {
   "cell_type": "code",
   "execution_count": null,
   "id": "1ab98248",
   "metadata": {},
   "outputs": [],
   "source": [
    "df_mes['teleg_mes'] = df_mes['teleg_mes'].str.replace('_-', '-', regex=True)\n",
    "\n",
    "df_mes['teleg_mes'] = df_mes['teleg_mes'].str.replace('\\*', '', regex=True)\n",
    "\n",
    "# Убирайю символ не разрывного пробела\n",
    "df_mes['teleg_mes'] = df_mes['teleg_mes'].str.replace('\\xa0', ' ', regex=True)"
   ]
  },
  {
   "cell_type": "code",
   "execution_count": null,
   "id": "3c4d7ea4",
   "metadata": {},
   "outputs": [],
   "source": [
    "\n",
    "\n",
    "\n",
    "execute_session = pd.to_datetime('now')\n",
    "\n",
    "\n",
    "# Замените 'YOUR_BOT_TOKEN' на токен вашего бота\n",
    "bot = telebot.TeleBot(BOT_TOKEN)\n",
    "\n",
    "\n",
    "\n",
    "PAUSE_ITER = 20\n",
    "PAUSE_TIME = 50\n",
    "\n",
    "\n",
    "# Ожидание перд запуском\n",
    "# time.sleep(PAUSE_TIME)\n",
    "for num, tuple_mes in enumerate(df_mes.itertuples()):\n",
    "    \n",
    "    try:\n",
    "        # Отправка сообщения\n",
    "        bot.send_message(tuple_mes.chanel_id, tuple_mes.teleg_mes, parse_mode='Markdown')\n",
    "    \n",
    "        # Сохранение успешных сообщений\n",
    "        df = pd.DataFrame([tuple_mes]).drop(columns='Index')\n",
    "\n",
    "        df['date_stamp'] = execute_session\n",
    "\n",
    "        if num % 19==0 and num!=0:\n",
    "            print('Ожидание')\n",
    "            time.sleep(PAUSE_TIME)\n",
    "\n",
    "        df.to_sql('send_telegram', conn, if_exists='append', index=False)\n",
    "    except Exception as send_error:\n",
    "        print(num, send_error, tuple_mes)\n",
    "        df_error = pd.DataFrame([[tuple_mes.hash_col, num, send_error, \n",
    "                    tuple_mes.teleg_mes, tuple_mes.chanel_id]], columns=['hash_col','num', 'error', 'teleg_mes', 'chanel_id'])\n",
    "\n",
    "        df_error.insert(0,'date_time', execute_session)\n",
    "        df_error['error'] = df_error['error'].astype('str')\n",
    "        df_error.to_sql('send_error', conn, index=False, if_exists='append')\n",
    "\n",
    "    \n",
    "    \n"
   ]
  },
  {
   "cell_type": "code",
   "execution_count": null,
   "id": "966699d7",
   "metadata": {},
   "outputs": [],
   "source": []
  },
  {
   "cell_type": "markdown",
   "id": "fe547066",
   "metadata": {},
   "source": [
    "# Тест"
   ]
  },
  {
   "cell_type": "code",
   "execution_count": null,
   "id": "ce75bf8d",
   "metadata": {},
   "outputs": [],
   "source": [
    "cnjg"
   ]
  },
  {
   "cell_type": "code",
   "execution_count": null,
   "id": "5aacc54a",
   "metadata": {},
   "outputs": [],
   "source": [
    "q = df_error['teleg_mes'][0]"
   ]
  },
  {
   "cell_type": "code",
   "execution_count": null,
   "id": "c3899440",
   "metadata": {},
   "outputs": [],
   "source": [
    "q"
   ]
  },
  {
   "cell_type": "code",
   "execution_count": null,
   "id": "23baf596",
   "metadata": {},
   "outputs": [],
   "source": []
  },
  {
   "cell_type": "code",
   "execution_count": null,
   "id": "6edbd684",
   "metadata": {},
   "outputs": [],
   "source": []
  },
  {
   "cell_type": "code",
   "execution_count": null,
   "id": "ab09b61f",
   "metadata": {},
   "outputs": [],
   "source": [
    "q = '[Музей «Мемориал Победы»](https://memorial24.ru/novosti)\\nПриглашаем в Единый Почетный караул\\n\\n14.10.2023\\n\\n4-го ноября постовцы советских лет заступят в караул вместе с участниками возрожденного Поста №1. Участие бесплатное, но нужна предварительная регистрация (ссылка ниже )\\nМузей «Мемориал Победы» и Пост №1 приглашают тех, кто нес караульную службу в 1968-1992 годы, принять участие в Едином Почетном карауле.\\nДвижение юнармейских Постов ведет свою историю с осени 1965-го года, когда в Волгограде был создан первый в стране пионерско-комсомольский Пост №1.\\n5-го октября 1968-го года Пост №1 был открыт в Красноярске. До 1992-го года лучшие пионеры и комсомольцы города несли службу у Вечного огня на Красной площади Красноярска. Возрождение Поста №1 и караульной службы у Вечного огня на площади Мемориала Победы стало с февраля 2015-го года.\\nЗаявки на участие в едином почётном карауле принимаются до 27-го октября по телефону 201-89-29 или регистрируйтесь здесь: https://vk.com/app6013442_-26051136?form_id=3#form_id=3\\n\\nПОДЕЛИТЬСЯ:'"
   ]
  },
  {
   "cell_type": "code",
   "execution_count": null,
   "id": "d8c8b666",
   "metadata": {},
   "outputs": [],
   "source": [
    "bot.send_message(TEST_CHANEL, q, parse_mode='Markdown')"
   ]
  },
  {
   "cell_type": "code",
   "execution_count": null,
   "id": "aba66f32",
   "metadata": {},
   "outputs": [],
   "source": []
  },
  {
   "cell_type": "code",
   "execution_count": null,
   "id": "35722a0a",
   "metadata": {},
   "outputs": [],
   "source": []
  },
  {
   "cell_type": "code",
   "execution_count": null,
   "id": "23546b04",
   "metadata": {},
   "outputs": [],
   "source": []
  },
  {
   "cell_type": "code",
   "execution_count": null,
   "id": "171a6b27",
   "metadata": {},
   "outputs": [],
   "source": []
  }
 ],
 "metadata": {
  "kernelspec": {
   "display_name": "Python 3 (ipykernel)",
   "language": "python",
   "name": "python3"
  },
  "language_info": {
   "codemirror_mode": {
    "name": "ipython",
    "version": 3
   },
   "file_extension": ".py",
   "mimetype": "text/x-python",
   "name": "python",
   "nbconvert_exporter": "python",
   "pygments_lexer": "ipython3",
   "version": "3.11.5"
  },
  "toc": {
   "base_numbering": 1,
   "nav_menu": {},
   "number_sections": true,
   "sideBar": true,
   "skip_h1_title": false,
   "title_cell": "Table of Contents",
   "title_sidebar": "Contents",
   "toc_cell": false,
   "toc_position": {
    "height": "calc(100% - 180px)",
    "left": "10px",
    "top": "150px",
    "width": "197.844px"
   },
   "toc_section_display": true,
   "toc_window_display": false
  },
  "varInspector": {
   "cols": {
    "lenName": 16,
    "lenType": 16,
    "lenVar": 40
   },
   "kernels_config": {
    "python": {
     "delete_cmd_postfix": "",
     "delete_cmd_prefix": "del ",
     "library": "var_list.py",
     "varRefreshCmd": "print(var_dic_list())"
    },
    "r": {
     "delete_cmd_postfix": ") ",
     "delete_cmd_prefix": "rm(",
     "library": "var_list.r",
     "varRefreshCmd": "cat(var_dic_list()) "
    }
   },
   "types_to_exclude": [
    "module",
    "function",
    "builtin_function_or_method",
    "instance",
    "_Feature"
   ],
   "window_display": false
  }
 },
 "nbformat": 4,
 "nbformat_minor": 5
}
