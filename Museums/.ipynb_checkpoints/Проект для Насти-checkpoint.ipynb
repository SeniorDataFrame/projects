{
 "cells": [
  {
   "cell_type": "code",
   "execution_count": 1,
   "id": "b67466bc",
   "metadata": {
    "ExecuteTime": {
     "end_time": "2023-11-06T18:25:10.973650700Z",
     "start_time": "2023-11-06T18:25:10.321487100Z"
    }
   },
   "outputs": [],
   "source": [
    "import requests\n",
    "from bs4 import BeautifulSoup\n",
    "from lxml import etree\n",
    "\n",
    "import requests\n",
    "from lxml import html\n"
   ]
  },
  {
   "cell_type": "code",
   "execution_count": 46,
   "id": "e6397e2a",
   "metadata": {},
   "outputs": [
    {
     "name": "stdout",
     "output_type": "stream",
     "text": [
      "<div><a href=\"/playbill/exhibitions/zavetam-verny/\" class=\"img-box\">\n",
      "\t\t\t\t\t\t<div class=\"img-item-bg lazyload\" data-bgset=\"/upload/resize_cache/iblock/1ed/vd631ckv6l4s5k17704wjomiv8vgndz5/550_380_2/790x545_2.jpg\"></div>\n",
      "\t\t</a>\n",
      "\t\t<div class=\"text-box\">\n",
      "\t\t\t\t\t\t\t<div class=\"w100\">\n",
      "\t\t\t\t\t<a class=\"button mini\" href=\"/playbill/exhibitions/\">Выставки</a>\n",
      "\t\t\t\t</div>\n",
      "\t\t\t\n",
      "\t\t\t<a class=\"name\" href=\"/playbill/exhibitions/zavetam-verny/\">Zаветам Vерны</a>\n",
      "\t\t\t\t\t\t\t<div class=\"text\">Выставка посвящена современным Героям России – участникам СВО</div>\n",
      "\t\t\t\t\t\t\n",
      "\t\t\t\n",
      "\t\t</div>\n",
      "\t\t<div class=\"bottom_box\">\n",
      "\t\t\t\t\t<div class=\"date ico-ba\">09.12.2022 — 14.01.2024</div>\n",
      "\t\t\t\t\t\t\t\t\t\n",
      "\t\t\t\n",
      "\t\t\t\t\t\t<div class=\"ticker-ref\">\n",
      "\t\t\t\t\t\t\t</div>\n",
      "\t\t\t\n",
      "\t\t\t\t\t</div>\n",
      "\t</div>\n",
      "\n"
     ]
    }
   ],
   "source": [
    "# Парсинг HTML\n",
    "tree = html.fromstring(response.text)\n",
    "\n",
    "# Выбор элемента\n",
    "selected_element = tree.xpath(\"//div[@data-id='28']\")[0]\n",
    "\n",
    "# # Создаем временный элемент и копируем содержимое выбранного элемента\n",
    "temp_element = html.Element(\"div\")\n",
    "temp_element.extend(selected_element)\n",
    "\n",
    "# Получение HTML-разметки только для выбранного элемента\n",
    "html_representation = html.tostring(temp_element, encoding='unicode', method='html')\n",
    "\n",
    "print(html_representation)"
   ]
  },
  {
   "cell_type": "code",
   "execution_count": null,
   "id": "2236a83a",
   "metadata": {},
   "outputs": [],
   "source": [
    "data-id=\"28\""
   ]
  },
  {
   "cell_type": "code",
   "execution_count": 36,
   "id": "acd72fd7",
   "metadata": {},
   "outputs": [
    {
     "data": {
      "text/plain": [
       "<Element div at 0x2d8ee3f2270>"
      ]
     },
     "execution_count": 36,
     "metadata": {},
     "output_type": "execute_result"
    }
   ],
   "source": [
    "selected_element"
   ]
  },
  {
   "cell_type": "code",
   "execution_count": 35,
   "id": "a3eed483",
   "metadata": {},
   "outputs": [
    {
     "name": "stdout",
     "output_type": "stream",
     "text": [
      "<div><a href=\"/playbill/events/otkrytie-vystavki-k-125-letiyu-marshala-sovetskogo-soyuza-r-ya-malinovskogo-/\" class=\"img-box\">\n",
      "\t\t\t\t\t\t<div class=\"img-item-bg lazyload\" data-bgset=\"/upload/resize_cache/iblock/ec4/7pexjaevt94tfe8vec06bb6oo2rxvpj6/550_380_2/8.jpg\"></div>\n",
      "\t\t</a>\n",
      "\t\t<div class=\"text-box\">\n",
      "\t\t\t\t\t\t\t<div class=\"w100\">\n",
      "\t\t\t\t\t<a class=\"button mini\" href=\"/playbill/events/\">События</a>\n",
      "\t\t\t\t</div>\n",
      "\t\t\t\n",
      "\t\t\t<a class=\"name\" href=\"/playbill/events/otkrytie-vystavki-k-125-letiyu-marshala-sovetskogo-soyuza-r-ya-malinovskogo-/\">Открытие выставки к 125-летию Маршала Советского Союза Р.Я. Малиновского </a>\n",
      "\t\t\t\t\t\t\t<div class=\"text\">На выставке будет представлено более 30 предметов Родиона Яковлевича Малиновского и его жены Раисы Яковлевны</div>\n",
      "\t\t\t\t\t\t\n",
      "\t\t\t\n",
      "\t\t</div>\n",
      "\t\t<div class=\"bottom_box\">\n",
      "\t\t\t\t\t<div class=\"date ico-ba\">22.11.2023</div>\n",
      "\t\t\t\t\t\t\t\t\t\n",
      "\t\t\t\n",
      "\t\t\t\t\t\t<div class=\"ticker-ref\">\n",
      "\t\t\t\t\t\t\t</div>\n",
      "\t\t\t\n",
      "\t\t\t\t\t</div>\n",
      "\t</div>\n",
      "\n"
     ]
    }
   ],
   "source": [
    "# Парсинг HTML\n",
    "tree = html.fromstring(response.text)\n",
    "\n",
    "# Выбор элемента\n",
    "selected_element = tree.xpath(\"//div[@data-id='28']\")[6]\n",
    "\n",
    "# # Создаем временный элемент и копируем содержимое выбранного элемента\n",
    "temp_element = html.Element(\"div\")\n",
    "temp_element.extend(selected_element)\n",
    "\n",
    "# Получение HTML-разметки только для выбранного элемента\n",
    "html_representation = html.tostring(temp_element, encoding='unicode', method='html')\n",
    "\n",
    "print(html_representation)\n"
   ]
  },
  {
   "cell_type": "code",
   "execution_count": null,
   "id": "a1b58a2c",
   "metadata": {},
   "outputs": [],
   "source": []
  },
  {
   "cell_type": "code",
   "execution_count": null,
   "id": "453f3d50",
   "metadata": {},
   "outputs": [],
   "source": []
  },
  {
   "cell_type": "code",
   "execution_count": 22,
   "id": "357b8bd8",
   "metadata": {},
   "outputs": [
    {
     "name": "stdout",
     "output_type": "stream",
     "text": [
      "<div><p>Текст</p></div>\n",
      "\n"
     ]
    }
   ],
   "source": [
    "from lxml import html\n",
    "\n",
    "# Пример HTML-кода\n",
    "html_code = \"\"\"\n",
    "<div id='bx_3218110189_181829'><p>Текст</p></div>, \n",
    "<div><p>Текст1</p></div>, \n",
    "<div><p>Текст2</p></div>, \n",
    "<div><p>Текст3</p></div>\"\"\"\n",
    "\n",
    "# Парсинг HTML\n",
    "tree = html.fromstring(html_code)\n",
    "\n",
    "# Выбор элемента\n",
    "selected_element = tree.xpath(\"//div[@id='bx_3218110189_181829']\")[0]\n",
    "\n",
    "# # Создаем временный элемент и копируем содержимое выбранного элемента\n",
    "temp_element = html.Element(\"div\")\n",
    "temp_element.extend(selected_element)\n",
    "\n",
    "# Получение HTML-разметки только для выбранного элемента\n",
    "html_representation = html.tostring(temp_element, encoding='unicode', method='html')\n",
    "\n",
    "print(html_representation)\n"
   ]
  },
  {
   "cell_type": "code",
   "execution_count": null,
   "id": "b887ddd7",
   "metadata": {},
   "outputs": [],
   "source": [
    "from lxml import html\n",
    "\n",
    "# Пример HTML-кода\n",
    "html_code = \"\"\"\n",
    "<div id='bx_3218110189_181829'><p>Текст</p></div>, \n",
    "<div><p>Текст1</p></div>, \n",
    "<div><p>Текст2</p></div>, \n",
    "<div><p>Текст3</p></div>\"\"\"\n",
    "\n",
    "# Парсинг HTML\n",
    "tree = html.fromstring(html_code)\n",
    "\n",
    "# Выбор элемента\n",
    "selected_element = tree.xpath(\"//div[@id='bx_3218110189_181829']\")[0]\n",
    "\n",
    "# # Создаем временный элемент и копируем содержимое выбранного элемента\n",
    "temp_element = html.Element(\"div\")\n",
    "temp_element.extend(selected_element)\n",
    "\n",
    "# Получение HTML-разметки только для выбранного элемента\n",
    "html_representation = html.tostring(temp_element, encoding='unicode', method='html')\n",
    "\n",
    "print(html_representation)"
   ]
  },
  {
   "cell_type": "code",
   "execution_count": null,
   "id": "9cd54b5e",
   "metadata": {},
   "outputs": [],
   "source": []
  },
  {
   "cell_type": "code",
   "execution_count": null,
   "id": "a71f9f8a",
   "metadata": {},
   "outputs": [],
   "source": []
  },
  {
   "cell_type": "code",
   "execution_count": null,
   "id": "8990cdf8",
   "metadata": {},
   "outputs": [],
   "source": []
  },
  {
   "cell_type": "code",
   "execution_count": null,
   "id": "444b4393",
   "metadata": {},
   "outputs": [],
   "source": []
  },
  {
   "cell_type": "code",
   "execution_count": 138,
   "id": "68fe53db",
   "metadata": {},
   "outputs": [
    {
     "data": {
      "text/plain": [
       "'<div><div id=\"bx_3218110189_181829\"><p>Текст</p></div>, <div><p>Текст</p></div>, <div><p>Текст</p></div>, <div><p>Текст</p></div></div>\\n'"
      ]
     },
     "execution_count": 138,
     "metadata": {},
     "output_type": "execute_result"
    }
   ],
   "source": [
    "html_representation"
   ]
  },
  {
   "cell_type": "code",
   "execution_count": 137,
   "id": "185444fb",
   "metadata": {},
   "outputs": [
    {
     "data": {
      "text/plain": [
       "'Текст'"
      ]
     },
     "execution_count": 137,
     "metadata": {},
     "output_type": "execute_result"
    }
   ],
   "source": [
    "selected_element.text_content()"
   ]
  },
  {
   "cell_type": "code",
   "execution_count": null,
   "id": "b7fc183c",
   "metadata": {},
   "outputs": [],
   "source": []
  }
 ],
 "metadata": {
  "kernelspec": {
   "display_name": "Python 3 (ipykernel)",
   "language": "python",
   "name": "python3"
  },
  "language_info": {
   "codemirror_mode": {
    "name": "ipython",
    "version": 3
   },
   "file_extension": ".py",
   "mimetype": "text/x-python",
   "name": "python",
   "nbconvert_exporter": "python",
   "pygments_lexer": "ipython3",
   "version": "3.9.12"
  },
  "toc": {
   "base_numbering": 1,
   "nav_menu": {},
   "number_sections": true,
   "sideBar": true,
   "skip_h1_title": false,
   "title_cell": "Table of Contents",
   "title_sidebar": "Contents",
   "toc_cell": false,
   "toc_position": {},
   "toc_section_display": true,
   "toc_window_display": false
  },
  "varInspector": {
   "cols": {
    "lenName": 16,
    "lenType": 16,
    "lenVar": 40
   },
   "kernels_config": {
    "python": {
     "delete_cmd_postfix": "",
     "delete_cmd_prefix": "del ",
     "library": "var_list.py",
     "varRefreshCmd": "print(var_dic_list())"
    },
    "r": {
     "delete_cmd_postfix": ") ",
     "delete_cmd_prefix": "rm(",
     "library": "var_list.r",
     "varRefreshCmd": "cat(var_dic_list()) "
    }
   },
   "types_to_exclude": [
    "module",
    "function",
    "builtin_function_or_method",
    "instance",
    "_Feature"
   ],
   "window_display": false
  }
 },
 "nbformat": 4,
 "nbformat_minor": 5
}
